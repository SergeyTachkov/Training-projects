{
 "cells": [
  {
   "cell_type": "markdown",
   "metadata": {},
   "source": [
    "# Исследование надёжности заёмщиков\n",
    "\n",
    "Заказчик — кредитный отдел банка. Нужно разобраться, влияет ли семейное положение и количество детей клиента на факт погашения кредита в срок. Входные данные от банка — статистика о платёжеспособности клиентов.\n",
    "\n",
    "Результаты исследования будут учтены при построении модели **кредитного скоринга** — специальной системы, которая оценивает способность потенциального заёмщика вернуть кредит банку."
   ]
  },
  {
   "cell_type": "markdown",
   "metadata": {},
   "source": [
    "**Содержание**<br/>\n",
    "<a name=\"contents\"></a><br/>\n",
    "<a name=\"chapter_0\"></a>    \n",
    "[**1. Общая структура файла с данными.**](#chapter_1.)<br/>\n",
    "[1.1. Для выявления общей структуры файла смотрим вначале его любым вьюером и далее используем функции .info и .describe](#chapter_1.1.)<br/> \n",
    "[1.2. Проверим структуру столбцов нашей таблицы.](#chapter_1.2.)<br/>\n",
    "[1.3. Проверим таблицу на присутствие дубликатов строк.](#chapter_1.3.)<br/>\n",
    "[1.4. Краткие выводы по структуре.](#chapter_1.4.)<br/>\n",
    "    \n",
    "[**2. Предобработка данных.**](#chapter_2.)<br/>\n",
    "[2.1. Удаление дублирующих строк.](#chapter_2.1.)<br/>\n",
    "[2.2. Анализ столбцов.](#chapter_2.2.)<br/>\n",
    "[2.2.1. Столбец 'children' - количество детей у клиента.](#chapter_2.2.1.)<br/>\n",
    "[2.2.2. Столбец 'days_employed' общий трудовой стаж в днях.](#chapter_2.2.2.)<br/>\n",
    "[2.2.3. Столбец 'dob_years' — возраст клиента в годах.](#chapter_2.2.3.)<br/>\n",
    "[2.2.4. Столбец 'education' — уровень образования клиента.](#chapter_2.2.4.)<br/>\n",
    "[2.2.5. Столбец education_id — идентификатор уровня образования.](#chapter_2.2.5.)<br/>\n",
    "[2.2.6. Столбец 'family_status' — семейное положение.](#chapter_2.2.6.)<br/>\n",
    "[2.2.7. Столбец 'family_status_id' — идентификатор семейного положения.](#chapter_2.2.7.)<br/>\n",
    "[2.2.8. Столбец 'gender' — пол клиента.](#chapter_2.2.8.)<br/>\n",
    "[2.2.9. Столбец 'income_type' — тип занятости.](#chapter_2.2.9.)<br/>\n",
    "[2.2.10. Столбец 'debt' — имел ли задолженность по возврату кредитов.](#chapter_2.2.10.)<br/>\n",
    "[2.2.11. Столбец 'total_income' — ежемесячный доход.](#chapter_2.2.11.)<br/>\n",
    "[2.2.12. Столбец 'purpose' — цель получения кредита.](#chapter_2.2.12.)<br/>\n",
    "    \n",
    "[**3. Ответы на вопросы.**](#chapter_3.)  \n",
    "[3.1. Есть ли зависимость между наличием детей и возвратом кредита в срок?.](#chapter_3.1.)<br/>\n",
    "[3.2. Есть ли зависимость между семейным положением и возвратом кредита в срок?](#chapter_3.2.)<br/>\n",
    "[3.3. Есть ли зависимость между уровнем дохода и возвратом кредита в срок?](#chapter_3.3.)<br/>\n",
    "[3.4. Как разные цели кредита влияют на его возврат в срок?](#chapter_3.4.)<br/>\n",
    "\n",
    "[**4. Общие выводы.**](#chapter_4.) "
   ]
  },
  {
   "cell_type": "markdown",
   "metadata": {},
   "source": [
    "<a name=\"chapter_1.\"></a>\n",
    "[к содержанию](#chapter_0)<br/>\n",
    "<div class=\"p-3 mb-2 bg-primary text-white\">\n",
    "<b>1. Общая структура файла с данными.</b> <br/>\n",
    "</div>"
   ]
  },
  {
   "cell_type": "markdown",
   "metadata": {},
   "source": [
    "<a name=\"chapter_1.1.\"></a>\n",
    "[к содержанию](#chapter_0)<br/>\n",
    "<div class=\"p-3 mb-2 bg-primary text-white\">\n",
    "<b>1.1. Для выявления общей структуры файла смотрим вначале его любым вьюером и далее используем функции .info и .describe</b> <br/>\n",
    "</div>"
   ]
  },
  {
   "cell_type": "code",
   "execution_count": 1,
   "metadata": {},
   "outputs": [
    {
     "name": "stdout",
     "output_type": "stream",
     "text": [
      "<class 'pandas.core.frame.DataFrame'>\n",
      "RangeIndex: 21525 entries, 0 to 21524\n",
      "Data columns (total 12 columns):\n",
      " #   Column            Non-Null Count  Dtype  \n",
      "---  ------            --------------  -----  \n",
      " 0   children          21525 non-null  int64  \n",
      " 1   days_employed     19351 non-null  float64\n",
      " 2   dob_years         21525 non-null  int64  \n",
      " 3   education         21525 non-null  object \n",
      " 4   education_id      21525 non-null  int64  \n",
      " 5   family_status     21525 non-null  object \n",
      " 6   family_status_id  21525 non-null  int64  \n",
      " 7   gender            21525 non-null  object \n",
      " 8   income_type       21525 non-null  object \n",
      " 9   debt              21525 non-null  int64  \n",
      " 10  total_income      19351 non-null  float64\n",
      " 11  purpose           21525 non-null  object \n",
      "dtypes: float64(2), int64(5), object(5)\n",
      "memory usage: 2.0+ MB\n"
     ]
    }
   ],
   "source": [
    "import pandas as pd\n",
    "# data = pd.read_csv('C:/1_Webartel/2021/pithon_work/datasets/data.csv') # разделители запятые\n",
    "\n",
    "try:\n",
    "    data = pd.read_csv('C:/1_Webartel/2021/pithon_work/datasets/data.csv') # разделители запятые\n",
    "except FileNotFoundError as e:\n",
    "    data = pd.read_csv('/datasets/data.csv')\n",
    "    \n",
    "\n",
    "data.info() # смотрим общую информацию о файле и его структуре"
   ]
  },
  {
   "cell_type": "code",
   "execution_count": 2,
   "metadata": {},
   "outputs": [
    {
     "data": {
      "text/html": [
       "<div>\n",
       "<style scoped>\n",
       "    .dataframe tbody tr th:only-of-type {\n",
       "        vertical-align: middle;\n",
       "    }\n",
       "\n",
       "    .dataframe tbody tr th {\n",
       "        vertical-align: top;\n",
       "    }\n",
       "\n",
       "    .dataframe thead th {\n",
       "        text-align: right;\n",
       "    }\n",
       "</style>\n",
       "<table border=\"1\" class=\"dataframe\">\n",
       "  <thead>\n",
       "    <tr style=\"text-align: right;\">\n",
       "      <th></th>\n",
       "      <th>children</th>\n",
       "      <th>days_employed</th>\n",
       "      <th>dob_years</th>\n",
       "      <th>education</th>\n",
       "      <th>education_id</th>\n",
       "      <th>family_status</th>\n",
       "      <th>family_status_id</th>\n",
       "      <th>gender</th>\n",
       "      <th>income_type</th>\n",
       "      <th>debt</th>\n",
       "      <th>total_income</th>\n",
       "      <th>purpose</th>\n",
       "    </tr>\n",
       "  </thead>\n",
       "  <tbody>\n",
       "    <tr>\n",
       "      <th>count</th>\n",
       "      <td>21525.000000</td>\n",
       "      <td>19351.000000</td>\n",
       "      <td>21525.000000</td>\n",
       "      <td>21525</td>\n",
       "      <td>21525.000000</td>\n",
       "      <td>21525</td>\n",
       "      <td>21525.000000</td>\n",
       "      <td>21525</td>\n",
       "      <td>21525</td>\n",
       "      <td>21525.000000</td>\n",
       "      <td>1.935100e+04</td>\n",
       "      <td>21525</td>\n",
       "    </tr>\n",
       "    <tr>\n",
       "      <th>unique</th>\n",
       "      <td>NaN</td>\n",
       "      <td>NaN</td>\n",
       "      <td>NaN</td>\n",
       "      <td>15</td>\n",
       "      <td>NaN</td>\n",
       "      <td>5</td>\n",
       "      <td>NaN</td>\n",
       "      <td>3</td>\n",
       "      <td>8</td>\n",
       "      <td>NaN</td>\n",
       "      <td>NaN</td>\n",
       "      <td>38</td>\n",
       "    </tr>\n",
       "    <tr>\n",
       "      <th>top</th>\n",
       "      <td>NaN</td>\n",
       "      <td>NaN</td>\n",
       "      <td>NaN</td>\n",
       "      <td>среднее</td>\n",
       "      <td>NaN</td>\n",
       "      <td>женат / замужем</td>\n",
       "      <td>NaN</td>\n",
       "      <td>F</td>\n",
       "      <td>сотрудник</td>\n",
       "      <td>NaN</td>\n",
       "      <td>NaN</td>\n",
       "      <td>свадьба</td>\n",
       "    </tr>\n",
       "    <tr>\n",
       "      <th>freq</th>\n",
       "      <td>NaN</td>\n",
       "      <td>NaN</td>\n",
       "      <td>NaN</td>\n",
       "      <td>13750</td>\n",
       "      <td>NaN</td>\n",
       "      <td>12380</td>\n",
       "      <td>NaN</td>\n",
       "      <td>14236</td>\n",
       "      <td>11119</td>\n",
       "      <td>NaN</td>\n",
       "      <td>NaN</td>\n",
       "      <td>797</td>\n",
       "    </tr>\n",
       "    <tr>\n",
       "      <th>mean</th>\n",
       "      <td>0.538908</td>\n",
       "      <td>63046.497661</td>\n",
       "      <td>43.293380</td>\n",
       "      <td>NaN</td>\n",
       "      <td>0.817236</td>\n",
       "      <td>NaN</td>\n",
       "      <td>0.972544</td>\n",
       "      <td>NaN</td>\n",
       "      <td>NaN</td>\n",
       "      <td>0.080883</td>\n",
       "      <td>1.674223e+05</td>\n",
       "      <td>NaN</td>\n",
       "    </tr>\n",
       "    <tr>\n",
       "      <th>std</th>\n",
       "      <td>1.381587</td>\n",
       "      <td>140827.311974</td>\n",
       "      <td>12.574584</td>\n",
       "      <td>NaN</td>\n",
       "      <td>0.548138</td>\n",
       "      <td>NaN</td>\n",
       "      <td>1.420324</td>\n",
       "      <td>NaN</td>\n",
       "      <td>NaN</td>\n",
       "      <td>0.272661</td>\n",
       "      <td>1.029716e+05</td>\n",
       "      <td>NaN</td>\n",
       "    </tr>\n",
       "    <tr>\n",
       "      <th>min</th>\n",
       "      <td>-1.000000</td>\n",
       "      <td>-18388.949901</td>\n",
       "      <td>0.000000</td>\n",
       "      <td>NaN</td>\n",
       "      <td>0.000000</td>\n",
       "      <td>NaN</td>\n",
       "      <td>0.000000</td>\n",
       "      <td>NaN</td>\n",
       "      <td>NaN</td>\n",
       "      <td>0.000000</td>\n",
       "      <td>2.066726e+04</td>\n",
       "      <td>NaN</td>\n",
       "    </tr>\n",
       "    <tr>\n",
       "      <th>25%</th>\n",
       "      <td>0.000000</td>\n",
       "      <td>-2747.423625</td>\n",
       "      <td>33.000000</td>\n",
       "      <td>NaN</td>\n",
       "      <td>1.000000</td>\n",
       "      <td>NaN</td>\n",
       "      <td>0.000000</td>\n",
       "      <td>NaN</td>\n",
       "      <td>NaN</td>\n",
       "      <td>0.000000</td>\n",
       "      <td>1.030532e+05</td>\n",
       "      <td>NaN</td>\n",
       "    </tr>\n",
       "    <tr>\n",
       "      <th>50%</th>\n",
       "      <td>0.000000</td>\n",
       "      <td>-1203.369529</td>\n",
       "      <td>42.000000</td>\n",
       "      <td>NaN</td>\n",
       "      <td>1.000000</td>\n",
       "      <td>NaN</td>\n",
       "      <td>0.000000</td>\n",
       "      <td>NaN</td>\n",
       "      <td>NaN</td>\n",
       "      <td>0.000000</td>\n",
       "      <td>1.450179e+05</td>\n",
       "      <td>NaN</td>\n",
       "    </tr>\n",
       "    <tr>\n",
       "      <th>75%</th>\n",
       "      <td>1.000000</td>\n",
       "      <td>-291.095954</td>\n",
       "      <td>53.000000</td>\n",
       "      <td>NaN</td>\n",
       "      <td>1.000000</td>\n",
       "      <td>NaN</td>\n",
       "      <td>1.000000</td>\n",
       "      <td>NaN</td>\n",
       "      <td>NaN</td>\n",
       "      <td>0.000000</td>\n",
       "      <td>2.034351e+05</td>\n",
       "      <td>NaN</td>\n",
       "    </tr>\n",
       "    <tr>\n",
       "      <th>max</th>\n",
       "      <td>20.000000</td>\n",
       "      <td>401755.400475</td>\n",
       "      <td>75.000000</td>\n",
       "      <td>NaN</td>\n",
       "      <td>4.000000</td>\n",
       "      <td>NaN</td>\n",
       "      <td>4.000000</td>\n",
       "      <td>NaN</td>\n",
       "      <td>NaN</td>\n",
       "      <td>1.000000</td>\n",
       "      <td>2.265604e+06</td>\n",
       "      <td>NaN</td>\n",
       "    </tr>\n",
       "  </tbody>\n",
       "</table>\n",
       "</div>"
      ],
      "text/plain": [
       "            children  days_employed     dob_years education  education_id  \\\n",
       "count   21525.000000   19351.000000  21525.000000     21525  21525.000000   \n",
       "unique           NaN            NaN           NaN        15           NaN   \n",
       "top              NaN            NaN           NaN   среднее           NaN   \n",
       "freq             NaN            NaN           NaN     13750           NaN   \n",
       "mean        0.538908   63046.497661     43.293380       NaN      0.817236   \n",
       "std         1.381587  140827.311974     12.574584       NaN      0.548138   \n",
       "min        -1.000000  -18388.949901      0.000000       NaN      0.000000   \n",
       "25%         0.000000   -2747.423625     33.000000       NaN      1.000000   \n",
       "50%         0.000000   -1203.369529     42.000000       NaN      1.000000   \n",
       "75%         1.000000    -291.095954     53.000000       NaN      1.000000   \n",
       "max        20.000000  401755.400475     75.000000       NaN      4.000000   \n",
       "\n",
       "          family_status  family_status_id gender income_type          debt  \\\n",
       "count             21525      21525.000000  21525       21525  21525.000000   \n",
       "unique                5               NaN      3           8           NaN   \n",
       "top     женат / замужем               NaN      F   сотрудник           NaN   \n",
       "freq              12380               NaN  14236       11119           NaN   \n",
       "mean                NaN          0.972544    NaN         NaN      0.080883   \n",
       "std                 NaN          1.420324    NaN         NaN      0.272661   \n",
       "min                 NaN          0.000000    NaN         NaN      0.000000   \n",
       "25%                 NaN          0.000000    NaN         NaN      0.000000   \n",
       "50%                 NaN          0.000000    NaN         NaN      0.000000   \n",
       "75%                 NaN          1.000000    NaN         NaN      0.000000   \n",
       "max                 NaN          4.000000    NaN         NaN      1.000000   \n",
       "\n",
       "        total_income  purpose  \n",
       "count   1.935100e+04    21525  \n",
       "unique           NaN       38  \n",
       "top              NaN  свадьба  \n",
       "freq             NaN      797  \n",
       "mean    1.674223e+05      NaN  \n",
       "std     1.029716e+05      NaN  \n",
       "min     2.066726e+04      NaN  \n",
       "25%     1.030532e+05      NaN  \n",
       "50%     1.450179e+05      NaN  \n",
       "75%     2.034351e+05      NaN  \n",
       "max     2.265604e+06      NaN  "
      ]
     },
     "execution_count": 2,
     "metadata": {},
     "output_type": "execute_result"
    }
   ],
   "source": [
    "data.describe(include='all') # include='all' - включить все колонки, описание функцииhttps://pandas.pydata.org/pandas-docs/stable/reference/api/pandas.DataFrame.describe.html"
   ]
  },
  {
   "cell_type": "markdown",
   "metadata": {},
   "source": [
    "<a name=\"chapter_1.2.\"></a>\n",
    "[к содержанию](#chapter_0)<br/>\n",
    "<div class=\"p-3 mb-2 bg-primary text-white\">\n",
    "<b>1.2. Проверим структуру столбцов нашей таблицы.</b> <br/>\n",
    "</div>"
   ]
  },
  {
   "cell_type": "code",
   "execution_count": 3,
   "metadata": {},
   "outputs": [
    {
     "name": "stdout",
     "output_type": "stream",
     "text": [
      "Index(['children', 'days_employed', 'dob_years', 'education', 'education_id',\n",
      "       'family_status', 'family_status_id', 'gender', 'income_type', 'debt',\n",
      "       'total_income', 'purpose'],\n",
      "      dtype='object')\n"
     ]
    }
   ],
   "source": [
    "print(data.columns) # названия столбцов нашего файла"
   ]
  },
  {
   "cell_type": "markdown",
   "metadata": {},
   "source": [
    "<a name=\"chapter_1.3.\"></a>\n",
    "[к содержанию](#chapter_0)<br/>\n",
    "<div class=\"p-3 mb-2 bg-primary text-white\">\n",
    "<b>1.3. Проверим таблицу на присутствие дубликатов строк.</b> <br/>\n",
    "</div>\n",
    "\n"
   ]
  },
  {
   "cell_type": "markdown",
   "metadata": {},
   "source": [
    "Для представления выведем данные строки, сортируя по столбцу 'dob_years'. <br/>\n",
    "Функция .duplicated была выбрана по причине своей работы по всему списку столбцов с вариациями по параметру keep - что позволяет рассмотреть визуально совпадающие строки."
   ]
  },
  {
   "cell_type": "code",
   "execution_count": 4,
   "metadata": {},
   "outputs": [
    {
     "data": {
      "text/html": [
       "<div>\n",
       "<style scoped>\n",
       "    .dataframe tbody tr th:only-of-type {\n",
       "        vertical-align: middle;\n",
       "    }\n",
       "\n",
       "    .dataframe tbody tr th {\n",
       "        vertical-align: top;\n",
       "    }\n",
       "\n",
       "    .dataframe thead th {\n",
       "        text-align: right;\n",
       "    }\n",
       "</style>\n",
       "<table border=\"1\" class=\"dataframe\">\n",
       "  <thead>\n",
       "    <tr style=\"text-align: right;\">\n",
       "      <th></th>\n",
       "      <th>children</th>\n",
       "      <th>days_employed</th>\n",
       "      <th>dob_years</th>\n",
       "      <th>education</th>\n",
       "      <th>education_id</th>\n",
       "      <th>family_status</th>\n",
       "      <th>family_status_id</th>\n",
       "      <th>gender</th>\n",
       "      <th>income_type</th>\n",
       "      <th>debt</th>\n",
       "      <th>total_income</th>\n",
       "      <th>purpose</th>\n",
       "    </tr>\n",
       "  </thead>\n",
       "  <tbody>\n",
       "    <tr>\n",
       "      <th>19321</th>\n",
       "      <td>0</td>\n",
       "      <td>NaN</td>\n",
       "      <td>23</td>\n",
       "      <td>среднее</td>\n",
       "      <td>1</td>\n",
       "      <td>Не женат / не замужем</td>\n",
       "      <td>4</td>\n",
       "      <td>F</td>\n",
       "      <td>сотрудник</td>\n",
       "      <td>0</td>\n",
       "      <td>NaN</td>\n",
       "      <td>сделка с подержанным автомобилем</td>\n",
       "    </tr>\n",
       "    <tr>\n",
       "      <th>15892</th>\n",
       "      <td>0</td>\n",
       "      <td>NaN</td>\n",
       "      <td>23</td>\n",
       "      <td>среднее</td>\n",
       "      <td>1</td>\n",
       "      <td>Не женат / не замужем</td>\n",
       "      <td>4</td>\n",
       "      <td>F</td>\n",
       "      <td>сотрудник</td>\n",
       "      <td>0</td>\n",
       "      <td>NaN</td>\n",
       "      <td>сделка с подержанным автомобилем</td>\n",
       "    </tr>\n",
       "    <tr>\n",
       "      <th>18328</th>\n",
       "      <td>0</td>\n",
       "      <td>NaN</td>\n",
       "      <td>29</td>\n",
       "      <td>высшее</td>\n",
       "      <td>0</td>\n",
       "      <td>женат / замужем</td>\n",
       "      <td>0</td>\n",
       "      <td>M</td>\n",
       "      <td>сотрудник</td>\n",
       "      <td>0</td>\n",
       "      <td>NaN</td>\n",
       "      <td>покупка жилой недвижимости</td>\n",
       "    </tr>\n",
       "    <tr>\n",
       "      <th>3452</th>\n",
       "      <td>0</td>\n",
       "      <td>NaN</td>\n",
       "      <td>29</td>\n",
       "      <td>высшее</td>\n",
       "      <td>0</td>\n",
       "      <td>женат / замужем</td>\n",
       "      <td>0</td>\n",
       "      <td>M</td>\n",
       "      <td>сотрудник</td>\n",
       "      <td>0</td>\n",
       "      <td>NaN</td>\n",
       "      <td>покупка жилой недвижимости</td>\n",
       "    </tr>\n",
       "    <tr>\n",
       "      <th>8629</th>\n",
       "      <td>1</td>\n",
       "      <td>NaN</td>\n",
       "      <td>30</td>\n",
       "      <td>высшее</td>\n",
       "      <td>0</td>\n",
       "      <td>женат / замужем</td>\n",
       "      <td>0</td>\n",
       "      <td>F</td>\n",
       "      <td>сотрудник</td>\n",
       "      <td>0</td>\n",
       "      <td>NaN</td>\n",
       "      <td>покупка коммерческой недвижимости</td>\n",
       "    </tr>\n",
       "    <tr>\n",
       "      <th>...</th>\n",
       "      <td>...</td>\n",
       "      <td>...</td>\n",
       "      <td>...</td>\n",
       "      <td>...</td>\n",
       "      <td>...</td>\n",
       "      <td>...</td>\n",
       "      <td>...</td>\n",
       "      <td>...</td>\n",
       "      <td>...</td>\n",
       "      <td>...</td>\n",
       "      <td>...</td>\n",
       "      <td>...</td>\n",
       "    </tr>\n",
       "    <tr>\n",
       "      <th>13639</th>\n",
       "      <td>0</td>\n",
       "      <td>NaN</td>\n",
       "      <td>64</td>\n",
       "      <td>среднее</td>\n",
       "      <td>1</td>\n",
       "      <td>женат / замужем</td>\n",
       "      <td>0</td>\n",
       "      <td>F</td>\n",
       "      <td>пенсионер</td>\n",
       "      <td>0</td>\n",
       "      <td>NaN</td>\n",
       "      <td>автомобиль</td>\n",
       "    </tr>\n",
       "    <tr>\n",
       "      <th>3609</th>\n",
       "      <td>0</td>\n",
       "      <td>NaN</td>\n",
       "      <td>64</td>\n",
       "      <td>среднее</td>\n",
       "      <td>1</td>\n",
       "      <td>женат / замужем</td>\n",
       "      <td>0</td>\n",
       "      <td>F</td>\n",
       "      <td>пенсионер</td>\n",
       "      <td>0</td>\n",
       "      <td>NaN</td>\n",
       "      <td>жилье</td>\n",
       "    </tr>\n",
       "    <tr>\n",
       "      <th>12389</th>\n",
       "      <td>0</td>\n",
       "      <td>NaN</td>\n",
       "      <td>64</td>\n",
       "      <td>среднее</td>\n",
       "      <td>1</td>\n",
       "      <td>женат / замужем</td>\n",
       "      <td>0</td>\n",
       "      <td>F</td>\n",
       "      <td>пенсионер</td>\n",
       "      <td>0</td>\n",
       "      <td>NaN</td>\n",
       "      <td>дополнительное образование</td>\n",
       "    </tr>\n",
       "    <tr>\n",
       "      <th>5865</th>\n",
       "      <td>0</td>\n",
       "      <td>NaN</td>\n",
       "      <td>66</td>\n",
       "      <td>среднее</td>\n",
       "      <td>1</td>\n",
       "      <td>вдовец / вдова</td>\n",
       "      <td>2</td>\n",
       "      <td>F</td>\n",
       "      <td>пенсионер</td>\n",
       "      <td>0</td>\n",
       "      <td>NaN</td>\n",
       "      <td>операции со своей недвижимостью</td>\n",
       "    </tr>\n",
       "    <tr>\n",
       "      <th>9528</th>\n",
       "      <td>0</td>\n",
       "      <td>NaN</td>\n",
       "      <td>66</td>\n",
       "      <td>среднее</td>\n",
       "      <td>1</td>\n",
       "      <td>вдовец / вдова</td>\n",
       "      <td>2</td>\n",
       "      <td>F</td>\n",
       "      <td>пенсионер</td>\n",
       "      <td>0</td>\n",
       "      <td>NaN</td>\n",
       "      <td>операции со своей недвижимостью</td>\n",
       "    </tr>\n",
       "  </tbody>\n",
       "</table>\n",
       "<p>106 rows × 12 columns</p>\n",
       "</div>"
      ],
      "text/plain": [
       "       children  days_employed  dob_years education  education_id  \\\n",
       "19321         0            NaN         23   среднее             1   \n",
       "15892         0            NaN         23   среднее             1   \n",
       "18328         0            NaN         29    высшее             0   \n",
       "3452          0            NaN         29    высшее             0   \n",
       "8629          1            NaN         30    высшее             0   \n",
       "...         ...            ...        ...       ...           ...   \n",
       "13639         0            NaN         64   среднее             1   \n",
       "3609          0            NaN         64   среднее             1   \n",
       "12389         0            NaN         64   среднее             1   \n",
       "5865          0            NaN         66   среднее             1   \n",
       "9528          0            NaN         66   среднее             1   \n",
       "\n",
       "               family_status  family_status_id gender income_type  debt  \\\n",
       "19321  Не женат / не замужем                 4      F   сотрудник     0   \n",
       "15892  Не женат / не замужем                 4      F   сотрудник     0   \n",
       "18328        женат / замужем                 0      M   сотрудник     0   \n",
       "3452         женат / замужем                 0      M   сотрудник     0   \n",
       "8629         женат / замужем                 0      F   сотрудник     0   \n",
       "...                      ...               ...    ...         ...   ...   \n",
       "13639        женат / замужем                 0      F   пенсионер     0   \n",
       "3609         женат / замужем                 0      F   пенсионер     0   \n",
       "12389        женат / замужем                 0      F   пенсионер     0   \n",
       "5865          вдовец / вдова                 2      F   пенсионер     0   \n",
       "9528          вдовец / вдова                 2      F   пенсионер     0   \n",
       "\n",
       "       total_income                            purpose  \n",
       "19321           NaN   сделка с подержанным автомобилем  \n",
       "15892           NaN   сделка с подержанным автомобилем  \n",
       "18328           NaN         покупка жилой недвижимости  \n",
       "3452            NaN         покупка жилой недвижимости  \n",
       "8629            NaN  покупка коммерческой недвижимости  \n",
       "...             ...                                ...  \n",
       "13639           NaN                         автомобиль  \n",
       "3609            NaN                              жилье  \n",
       "12389           NaN         дополнительное образование  \n",
       "5865            NaN    операции со своей недвижимостью  \n",
       "9528            NaN    операции со своей недвижимостью  \n",
       "\n",
       "[106 rows x 12 columns]"
      ]
     },
     "execution_count": 4,
     "metadata": {},
     "output_type": "execute_result"
    }
   ],
   "source": [
    "data.loc[data.duplicated(subset=['children', 'days_employed', 'dob_years', 'education', 'education_id',\n",
    "       'family_status', 'family_status_id', 'gender', 'income_type', 'debt',\n",
    "       'total_income', 'purpose'], keep=False)].sort_values('dob_years') # keep='False' смотрим повторы\n",
    "#DataFrame.duplicated(subset=None, keep='first') http://espressocode.top/python-pandas-dataframe-duplicated/ https://zen.yandex.ru/media/id/5ee6f73b7cadb75a66e4c7e3/vyiavlenie-i-filtraciia-dublikatov-s-pandas-5f2657156e5e0c5b1c250ab4"
   ]
  },
  {
   "cell_type": "code",
   "execution_count": 5,
   "metadata": {},
   "outputs": [
    {
     "data": {
      "text/html": [
       "<div>\n",
       "<style scoped>\n",
       "    .dataframe tbody tr th:only-of-type {\n",
       "        vertical-align: middle;\n",
       "    }\n",
       "\n",
       "    .dataframe tbody tr th {\n",
       "        vertical-align: top;\n",
       "    }\n",
       "\n",
       "    .dataframe thead th {\n",
       "        text-align: right;\n",
       "    }\n",
       "</style>\n",
       "<table border=\"1\" class=\"dataframe\">\n",
       "  <thead>\n",
       "    <tr style=\"text-align: right;\">\n",
       "      <th></th>\n",
       "      <th>children</th>\n",
       "      <th>days_employed</th>\n",
       "      <th>dob_years</th>\n",
       "      <th>education</th>\n",
       "      <th>education_id</th>\n",
       "      <th>family_status</th>\n",
       "      <th>family_status_id</th>\n",
       "      <th>gender</th>\n",
       "      <th>income_type</th>\n",
       "      <th>debt</th>\n",
       "      <th>total_income</th>\n",
       "      <th>purpose</th>\n",
       "    </tr>\n",
       "  </thead>\n",
       "  <tbody>\n",
       "    <tr>\n",
       "      <th>19321</th>\n",
       "      <td>0</td>\n",
       "      <td>NaN</td>\n",
       "      <td>23</td>\n",
       "      <td>среднее</td>\n",
       "      <td>1</td>\n",
       "      <td>Не женат / не замужем</td>\n",
       "      <td>4</td>\n",
       "      <td>F</td>\n",
       "      <td>сотрудник</td>\n",
       "      <td>0</td>\n",
       "      <td>NaN</td>\n",
       "      <td>сделка с подержанным автомобилем</td>\n",
       "    </tr>\n",
       "    <tr>\n",
       "      <th>18328</th>\n",
       "      <td>0</td>\n",
       "      <td>NaN</td>\n",
       "      <td>29</td>\n",
       "      <td>высшее</td>\n",
       "      <td>0</td>\n",
       "      <td>женат / замужем</td>\n",
       "      <td>0</td>\n",
       "      <td>M</td>\n",
       "      <td>сотрудник</td>\n",
       "      <td>0</td>\n",
       "      <td>NaN</td>\n",
       "      <td>покупка жилой недвижимости</td>\n",
       "    </tr>\n",
       "    <tr>\n",
       "      <th>21281</th>\n",
       "      <td>1</td>\n",
       "      <td>NaN</td>\n",
       "      <td>30</td>\n",
       "      <td>высшее</td>\n",
       "      <td>0</td>\n",
       "      <td>женат / замужем</td>\n",
       "      <td>0</td>\n",
       "      <td>F</td>\n",
       "      <td>сотрудник</td>\n",
       "      <td>0</td>\n",
       "      <td>NaN</td>\n",
       "      <td>покупка коммерческой недвижимости</td>\n",
       "    </tr>\n",
       "    <tr>\n",
       "      <th>18349</th>\n",
       "      <td>1</td>\n",
       "      <td>NaN</td>\n",
       "      <td>30</td>\n",
       "      <td>высшее</td>\n",
       "      <td>0</td>\n",
       "      <td>женат / замужем</td>\n",
       "      <td>0</td>\n",
       "      <td>F</td>\n",
       "      <td>госслужащий</td>\n",
       "      <td>0</td>\n",
       "      <td>NaN</td>\n",
       "      <td>покупка жилья для семьи</td>\n",
       "    </tr>\n",
       "    <tr>\n",
       "      <th>13878</th>\n",
       "      <td>1</td>\n",
       "      <td>NaN</td>\n",
       "      <td>31</td>\n",
       "      <td>среднее</td>\n",
       "      <td>1</td>\n",
       "      <td>женат / замужем</td>\n",
       "      <td>0</td>\n",
       "      <td>F</td>\n",
       "      <td>компаньон</td>\n",
       "      <td>0</td>\n",
       "      <td>NaN</td>\n",
       "      <td>покупка жилья</td>\n",
       "    </tr>\n",
       "    <tr>\n",
       "      <th>16904</th>\n",
       "      <td>1</td>\n",
       "      <td>NaN</td>\n",
       "      <td>32</td>\n",
       "      <td>высшее</td>\n",
       "      <td>0</td>\n",
       "      <td>женат / замужем</td>\n",
       "      <td>0</td>\n",
       "      <td>F</td>\n",
       "      <td>сотрудник</td>\n",
       "      <td>0</td>\n",
       "      <td>NaN</td>\n",
       "      <td>на покупку подержанного автомобиля</td>\n",
       "    </tr>\n",
       "    <tr>\n",
       "      <th>4182</th>\n",
       "      <td>1</td>\n",
       "      <td>NaN</td>\n",
       "      <td>34</td>\n",
       "      <td>ВЫСШЕЕ</td>\n",
       "      <td>0</td>\n",
       "      <td>гражданский брак</td>\n",
       "      <td>1</td>\n",
       "      <td>F</td>\n",
       "      <td>сотрудник</td>\n",
       "      <td>0</td>\n",
       "      <td>NaN</td>\n",
       "      <td>свадьба</td>\n",
       "    </tr>\n",
       "    <tr>\n",
       "      <th>9238</th>\n",
       "      <td>2</td>\n",
       "      <td>NaN</td>\n",
       "      <td>34</td>\n",
       "      <td>среднее</td>\n",
       "      <td>1</td>\n",
       "      <td>женат / замужем</td>\n",
       "      <td>0</td>\n",
       "      <td>F</td>\n",
       "      <td>сотрудник</td>\n",
       "      <td>0</td>\n",
       "      <td>NaN</td>\n",
       "      <td>покупка жилья для сдачи</td>\n",
       "    </tr>\n",
       "    <tr>\n",
       "      <th>13773</th>\n",
       "      <td>0</td>\n",
       "      <td>NaN</td>\n",
       "      <td>35</td>\n",
       "      <td>среднее</td>\n",
       "      <td>1</td>\n",
       "      <td>гражданский брак</td>\n",
       "      <td>1</td>\n",
       "      <td>F</td>\n",
       "      <td>сотрудник</td>\n",
       "      <td>0</td>\n",
       "      <td>NaN</td>\n",
       "      <td>сыграть свадьбу</td>\n",
       "    </tr>\n",
       "    <tr>\n",
       "      <th>14432</th>\n",
       "      <td>2</td>\n",
       "      <td>NaN</td>\n",
       "      <td>36</td>\n",
       "      <td>высшее</td>\n",
       "      <td>0</td>\n",
       "      <td>женат / замужем</td>\n",
       "      <td>0</td>\n",
       "      <td>F</td>\n",
       "      <td>госслужащий</td>\n",
       "      <td>0</td>\n",
       "      <td>NaN</td>\n",
       "      <td>получение образования</td>\n",
       "    </tr>\n",
       "    <tr>\n",
       "      <th>12375</th>\n",
       "      <td>1</td>\n",
       "      <td>NaN</td>\n",
       "      <td>37</td>\n",
       "      <td>среднее</td>\n",
       "      <td>1</td>\n",
       "      <td>женат / замужем</td>\n",
       "      <td>0</td>\n",
       "      <td>F</td>\n",
       "      <td>сотрудник</td>\n",
       "      <td>0</td>\n",
       "      <td>NaN</td>\n",
       "      <td>покупка недвижимости</td>\n",
       "    </tr>\n",
       "    <tr>\n",
       "      <th>19387</th>\n",
       "      <td>0</td>\n",
       "      <td>NaN</td>\n",
       "      <td>38</td>\n",
       "      <td>высшее</td>\n",
       "      <td>0</td>\n",
       "      <td>гражданский брак</td>\n",
       "      <td>1</td>\n",
       "      <td>F</td>\n",
       "      <td>компаньон</td>\n",
       "      <td>0</td>\n",
       "      <td>NaN</td>\n",
       "      <td>на проведение свадьбы</td>\n",
       "    </tr>\n",
       "    <tr>\n",
       "      <th>16902</th>\n",
       "      <td>2</td>\n",
       "      <td>NaN</td>\n",
       "      <td>39</td>\n",
       "      <td>среднее</td>\n",
       "      <td>1</td>\n",
       "      <td>гражданский брак</td>\n",
       "      <td>1</td>\n",
       "      <td>F</td>\n",
       "      <td>сотрудник</td>\n",
       "      <td>0</td>\n",
       "      <td>NaN</td>\n",
       "      <td>сыграть свадьбу</td>\n",
       "    </tr>\n",
       "    <tr>\n",
       "      <th>17774</th>\n",
       "      <td>1</td>\n",
       "      <td>NaN</td>\n",
       "      <td>40</td>\n",
       "      <td>среднее</td>\n",
       "      <td>1</td>\n",
       "      <td>гражданский брак</td>\n",
       "      <td>1</td>\n",
       "      <td>F</td>\n",
       "      <td>компаньон</td>\n",
       "      <td>0</td>\n",
       "      <td>NaN</td>\n",
       "      <td>строительство жилой недвижимости</td>\n",
       "    </tr>\n",
       "    <tr>\n",
       "      <th>10697</th>\n",
       "      <td>0</td>\n",
       "      <td>NaN</td>\n",
       "      <td>40</td>\n",
       "      <td>среднее</td>\n",
       "      <td>1</td>\n",
       "      <td>гражданский брак</td>\n",
       "      <td>1</td>\n",
       "      <td>F</td>\n",
       "      <td>компаньон</td>\n",
       "      <td>0</td>\n",
       "      <td>NaN</td>\n",
       "      <td>сыграть свадьбу</td>\n",
       "    </tr>\n",
       "    <tr>\n",
       "      <th>2849</th>\n",
       "      <td>0</td>\n",
       "      <td>NaN</td>\n",
       "      <td>41</td>\n",
       "      <td>среднее</td>\n",
       "      <td>1</td>\n",
       "      <td>женат / замужем</td>\n",
       "      <td>0</td>\n",
       "      <td>F</td>\n",
       "      <td>сотрудник</td>\n",
       "      <td>0</td>\n",
       "      <td>NaN</td>\n",
       "      <td>покупка жилья для семьи</td>\n",
       "    </tr>\n",
       "    <tr>\n",
       "      <th>20165</th>\n",
       "      <td>0</td>\n",
       "      <td>NaN</td>\n",
       "      <td>42</td>\n",
       "      <td>среднее</td>\n",
       "      <td>1</td>\n",
       "      <td>женат / замужем</td>\n",
       "      <td>0</td>\n",
       "      <td>F</td>\n",
       "      <td>сотрудник</td>\n",
       "      <td>0</td>\n",
       "      <td>NaN</td>\n",
       "      <td>покупка жилья для семьи</td>\n",
       "    </tr>\n",
       "    <tr>\n",
       "      <th>17755</th>\n",
       "      <td>1</td>\n",
       "      <td>NaN</td>\n",
       "      <td>43</td>\n",
       "      <td>среднее</td>\n",
       "      <td>1</td>\n",
       "      <td>женат / замужем</td>\n",
       "      <td>0</td>\n",
       "      <td>M</td>\n",
       "      <td>сотрудник</td>\n",
       "      <td>0</td>\n",
       "      <td>NaN</td>\n",
       "      <td>заняться образованием</td>\n",
       "    </tr>\n",
       "    <tr>\n",
       "      <th>13025</th>\n",
       "      <td>1</td>\n",
       "      <td>NaN</td>\n",
       "      <td>44</td>\n",
       "      <td>среднее</td>\n",
       "      <td>1</td>\n",
       "      <td>женат / замужем</td>\n",
       "      <td>0</td>\n",
       "      <td>F</td>\n",
       "      <td>сотрудник</td>\n",
       "      <td>0</td>\n",
       "      <td>NaN</td>\n",
       "      <td>сделка с подержанным автомобилем</td>\n",
       "    </tr>\n",
       "    <tr>\n",
       "      <th>13942</th>\n",
       "      <td>0</td>\n",
       "      <td>NaN</td>\n",
       "      <td>44</td>\n",
       "      <td>среднее</td>\n",
       "      <td>1</td>\n",
       "      <td>женат / замужем</td>\n",
       "      <td>0</td>\n",
       "      <td>F</td>\n",
       "      <td>сотрудник</td>\n",
       "      <td>0</td>\n",
       "      <td>NaN</td>\n",
       "      <td>приобретение автомобиля</td>\n",
       "    </tr>\n",
       "    <tr>\n",
       "      <th>19184</th>\n",
       "      <td>0</td>\n",
       "      <td>NaN</td>\n",
       "      <td>46</td>\n",
       "      <td>среднее</td>\n",
       "      <td>1</td>\n",
       "      <td>женат / замужем</td>\n",
       "      <td>0</td>\n",
       "      <td>F</td>\n",
       "      <td>сотрудник</td>\n",
       "      <td>0</td>\n",
       "      <td>NaN</td>\n",
       "      <td>свой автомобиль</td>\n",
       "    </tr>\n",
       "    <tr>\n",
       "      <th>16378</th>\n",
       "      <td>0</td>\n",
       "      <td>NaN</td>\n",
       "      <td>46</td>\n",
       "      <td>среднее</td>\n",
       "      <td>1</td>\n",
       "      <td>женат / замужем</td>\n",
       "      <td>0</td>\n",
       "      <td>F</td>\n",
       "      <td>сотрудник</td>\n",
       "      <td>0</td>\n",
       "      <td>NaN</td>\n",
       "      <td>высшее образование</td>\n",
       "    </tr>\n",
       "    <tr>\n",
       "      <th>11791</th>\n",
       "      <td>0</td>\n",
       "      <td>NaN</td>\n",
       "      <td>47</td>\n",
       "      <td>среднее</td>\n",
       "      <td>1</td>\n",
       "      <td>женат / замужем</td>\n",
       "      <td>0</td>\n",
       "      <td>F</td>\n",
       "      <td>сотрудник</td>\n",
       "      <td>0</td>\n",
       "      <td>NaN</td>\n",
       "      <td>строительство недвижимости</td>\n",
       "    </tr>\n",
       "    <tr>\n",
       "      <th>21132</th>\n",
       "      <td>0</td>\n",
       "      <td>NaN</td>\n",
       "      <td>47</td>\n",
       "      <td>среднее</td>\n",
       "      <td>1</td>\n",
       "      <td>женат / замужем</td>\n",
       "      <td>0</td>\n",
       "      <td>F</td>\n",
       "      <td>сотрудник</td>\n",
       "      <td>0</td>\n",
       "      <td>NaN</td>\n",
       "      <td>ремонт жилью</td>\n",
       "    </tr>\n",
       "    <tr>\n",
       "      <th>16176</th>\n",
       "      <td>0</td>\n",
       "      <td>NaN</td>\n",
       "      <td>47</td>\n",
       "      <td>среднее</td>\n",
       "      <td>1</td>\n",
       "      <td>женат / замужем</td>\n",
       "      <td>0</td>\n",
       "      <td>F</td>\n",
       "      <td>сотрудник</td>\n",
       "      <td>0</td>\n",
       "      <td>NaN</td>\n",
       "      <td>ремонт жилью</td>\n",
       "    </tr>\n",
       "    <tr>\n",
       "      <th>19832</th>\n",
       "      <td>0</td>\n",
       "      <td>NaN</td>\n",
       "      <td>48</td>\n",
       "      <td>среднее</td>\n",
       "      <td>1</td>\n",
       "      <td>женат / замужем</td>\n",
       "      <td>0</td>\n",
       "      <td>F</td>\n",
       "      <td>сотрудник</td>\n",
       "      <td>0</td>\n",
       "      <td>NaN</td>\n",
       "      <td>ремонт жилью</td>\n",
       "    </tr>\n",
       "    <tr>\n",
       "      <th>14832</th>\n",
       "      <td>0</td>\n",
       "      <td>NaN</td>\n",
       "      <td>50</td>\n",
       "      <td>среднее</td>\n",
       "      <td>1</td>\n",
       "      <td>Не женат / не замужем</td>\n",
       "      <td>4</td>\n",
       "      <td>F</td>\n",
       "      <td>сотрудник</td>\n",
       "      <td>0</td>\n",
       "      <td>NaN</td>\n",
       "      <td>недвижимость</td>\n",
       "    </tr>\n",
       "    <tr>\n",
       "      <th>17379</th>\n",
       "      <td>0</td>\n",
       "      <td>NaN</td>\n",
       "      <td>54</td>\n",
       "      <td>высшее</td>\n",
       "      <td>0</td>\n",
       "      <td>женат / замужем</td>\n",
       "      <td>0</td>\n",
       "      <td>M</td>\n",
       "      <td>компаньон</td>\n",
       "      <td>0</td>\n",
       "      <td>NaN</td>\n",
       "      <td>операции с коммерческой недвижимостью</td>\n",
       "    </tr>\n",
       "    <tr>\n",
       "      <th>18563</th>\n",
       "      <td>0</td>\n",
       "      <td>NaN</td>\n",
       "      <td>54</td>\n",
       "      <td>среднее</td>\n",
       "      <td>1</td>\n",
       "      <td>женат / замужем</td>\n",
       "      <td>0</td>\n",
       "      <td>F</td>\n",
       "      <td>сотрудник</td>\n",
       "      <td>0</td>\n",
       "      <td>NaN</td>\n",
       "      <td>операции со своей недвижимостью</td>\n",
       "    </tr>\n",
       "    <tr>\n",
       "      <th>21415</th>\n",
       "      <td>0</td>\n",
       "      <td>NaN</td>\n",
       "      <td>54</td>\n",
       "      <td>среднее</td>\n",
       "      <td>1</td>\n",
       "      <td>женат / замужем</td>\n",
       "      <td>0</td>\n",
       "      <td>F</td>\n",
       "      <td>пенсионер</td>\n",
       "      <td>0</td>\n",
       "      <td>NaN</td>\n",
       "      <td>операции с жильем</td>\n",
       "    </tr>\n",
       "    <tr>\n",
       "      <th>9627</th>\n",
       "      <td>0</td>\n",
       "      <td>NaN</td>\n",
       "      <td>56</td>\n",
       "      <td>среднее</td>\n",
       "      <td>1</td>\n",
       "      <td>женат / замужем</td>\n",
       "      <td>0</td>\n",
       "      <td>F</td>\n",
       "      <td>пенсионер</td>\n",
       "      <td>0</td>\n",
       "      <td>NaN</td>\n",
       "      <td>операции со своей недвижимостью</td>\n",
       "    </tr>\n",
       "    <tr>\n",
       "      <th>19041</th>\n",
       "      <td>0</td>\n",
       "      <td>NaN</td>\n",
       "      <td>56</td>\n",
       "      <td>среднее</td>\n",
       "      <td>1</td>\n",
       "      <td>гражданский брак</td>\n",
       "      <td>1</td>\n",
       "      <td>F</td>\n",
       "      <td>сотрудник</td>\n",
       "      <td>0</td>\n",
       "      <td>NaN</td>\n",
       "      <td>на проведение свадьбы</td>\n",
       "    </tr>\n",
       "    <tr>\n",
       "      <th>18521</th>\n",
       "      <td>0</td>\n",
       "      <td>NaN</td>\n",
       "      <td>56</td>\n",
       "      <td>среднее</td>\n",
       "      <td>1</td>\n",
       "      <td>гражданский брак</td>\n",
       "      <td>1</td>\n",
       "      <td>F</td>\n",
       "      <td>сотрудник</td>\n",
       "      <td>0</td>\n",
       "      <td>NaN</td>\n",
       "      <td>сыграть свадьбу</td>\n",
       "    </tr>\n",
       "    <tr>\n",
       "      <th>20116</th>\n",
       "      <td>0</td>\n",
       "      <td>NaN</td>\n",
       "      <td>57</td>\n",
       "      <td>среднее</td>\n",
       "      <td>1</td>\n",
       "      <td>гражданский брак</td>\n",
       "      <td>1</td>\n",
       "      <td>M</td>\n",
       "      <td>пенсионер</td>\n",
       "      <td>0</td>\n",
       "      <td>NaN</td>\n",
       "      <td>свадьба</td>\n",
       "    </tr>\n",
       "    <tr>\n",
       "      <th>19946</th>\n",
       "      <td>0</td>\n",
       "      <td>NaN</td>\n",
       "      <td>57</td>\n",
       "      <td>среднее</td>\n",
       "      <td>1</td>\n",
       "      <td>женат / замужем</td>\n",
       "      <td>0</td>\n",
       "      <td>F</td>\n",
       "      <td>сотрудник</td>\n",
       "      <td>0</td>\n",
       "      <td>NaN</td>\n",
       "      <td>сделка с подержанным автомобилем</td>\n",
       "    </tr>\n",
       "    <tr>\n",
       "      <th>7808</th>\n",
       "      <td>0</td>\n",
       "      <td>NaN</td>\n",
       "      <td>57</td>\n",
       "      <td>среднее</td>\n",
       "      <td>1</td>\n",
       "      <td>гражданский брак</td>\n",
       "      <td>1</td>\n",
       "      <td>F</td>\n",
       "      <td>пенсионер</td>\n",
       "      <td>0</td>\n",
       "      <td>NaN</td>\n",
       "      <td>на проведение свадьбы</td>\n",
       "    </tr>\n",
       "    <tr>\n",
       "      <th>15273</th>\n",
       "      <td>0</td>\n",
       "      <td>NaN</td>\n",
       "      <td>57</td>\n",
       "      <td>среднее</td>\n",
       "      <td>1</td>\n",
       "      <td>гражданский брак</td>\n",
       "      <td>1</td>\n",
       "      <td>F</td>\n",
       "      <td>пенсионер</td>\n",
       "      <td>0</td>\n",
       "      <td>NaN</td>\n",
       "      <td>свадьба</td>\n",
       "    </tr>\n",
       "    <tr>\n",
       "      <th>12373</th>\n",
       "      <td>0</td>\n",
       "      <td>NaN</td>\n",
       "      <td>58</td>\n",
       "      <td>среднее</td>\n",
       "      <td>1</td>\n",
       "      <td>женат / замужем</td>\n",
       "      <td>0</td>\n",
       "      <td>M</td>\n",
       "      <td>сотрудник</td>\n",
       "      <td>0</td>\n",
       "      <td>NaN</td>\n",
       "      <td>покупка недвижимости</td>\n",
       "    </tr>\n",
       "    <tr>\n",
       "      <th>5557</th>\n",
       "      <td>0</td>\n",
       "      <td>NaN</td>\n",
       "      <td>58</td>\n",
       "      <td>среднее</td>\n",
       "      <td>1</td>\n",
       "      <td>гражданский брак</td>\n",
       "      <td>1</td>\n",
       "      <td>F</td>\n",
       "      <td>пенсионер</td>\n",
       "      <td>0</td>\n",
       "      <td>NaN</td>\n",
       "      <td>сыграть свадьбу</td>\n",
       "    </tr>\n",
       "    <tr>\n",
       "      <th>8583</th>\n",
       "      <td>0</td>\n",
       "      <td>NaN</td>\n",
       "      <td>58</td>\n",
       "      <td>высшее</td>\n",
       "      <td>0</td>\n",
       "      <td>Не женат / не замужем</td>\n",
       "      <td>4</td>\n",
       "      <td>F</td>\n",
       "      <td>пенсионер</td>\n",
       "      <td>0</td>\n",
       "      <td>NaN</td>\n",
       "      <td>дополнительное образование</td>\n",
       "    </tr>\n",
       "    <tr>\n",
       "      <th>15091</th>\n",
       "      <td>0</td>\n",
       "      <td>NaN</td>\n",
       "      <td>58</td>\n",
       "      <td>среднее</td>\n",
       "      <td>1</td>\n",
       "      <td>гражданский брак</td>\n",
       "      <td>1</td>\n",
       "      <td>M</td>\n",
       "      <td>сотрудник</td>\n",
       "      <td>0</td>\n",
       "      <td>NaN</td>\n",
       "      <td>на проведение свадьбы</td>\n",
       "    </tr>\n",
       "    <tr>\n",
       "      <th>18755</th>\n",
       "      <td>0</td>\n",
       "      <td>NaN</td>\n",
       "      <td>58</td>\n",
       "      <td>среднее</td>\n",
       "      <td>1</td>\n",
       "      <td>женат / замужем</td>\n",
       "      <td>0</td>\n",
       "      <td>F</td>\n",
       "      <td>пенсионер</td>\n",
       "      <td>0</td>\n",
       "      <td>NaN</td>\n",
       "      <td>заняться образованием</td>\n",
       "    </tr>\n",
       "    <tr>\n",
       "      <th>12736</th>\n",
       "      <td>0</td>\n",
       "      <td>NaN</td>\n",
       "      <td>59</td>\n",
       "      <td>среднее</td>\n",
       "      <td>1</td>\n",
       "      <td>женат / замужем</td>\n",
       "      <td>0</td>\n",
       "      <td>F</td>\n",
       "      <td>пенсионер</td>\n",
       "      <td>0</td>\n",
       "      <td>NaN</td>\n",
       "      <td>заняться образованием</td>\n",
       "    </tr>\n",
       "    <tr>\n",
       "      <th>15188</th>\n",
       "      <td>0</td>\n",
       "      <td>NaN</td>\n",
       "      <td>60</td>\n",
       "      <td>среднее</td>\n",
       "      <td>1</td>\n",
       "      <td>женат / замужем</td>\n",
       "      <td>0</td>\n",
       "      <td>M</td>\n",
       "      <td>сотрудник</td>\n",
       "      <td>0</td>\n",
       "      <td>NaN</td>\n",
       "      <td>покупка недвижимости</td>\n",
       "    </tr>\n",
       "    <tr>\n",
       "      <th>21032</th>\n",
       "      <td>0</td>\n",
       "      <td>NaN</td>\n",
       "      <td>60</td>\n",
       "      <td>среднее</td>\n",
       "      <td>1</td>\n",
       "      <td>женат / замужем</td>\n",
       "      <td>0</td>\n",
       "      <td>F</td>\n",
       "      <td>пенсионер</td>\n",
       "      <td>0</td>\n",
       "      <td>NaN</td>\n",
       "      <td>заняться образованием</td>\n",
       "    </tr>\n",
       "    <tr>\n",
       "      <th>4851</th>\n",
       "      <td>0</td>\n",
       "      <td>NaN</td>\n",
       "      <td>60</td>\n",
       "      <td>среднее</td>\n",
       "      <td>1</td>\n",
       "      <td>гражданский брак</td>\n",
       "      <td>1</td>\n",
       "      <td>F</td>\n",
       "      <td>пенсионер</td>\n",
       "      <td>0</td>\n",
       "      <td>NaN</td>\n",
       "      <td>свадьба</td>\n",
       "    </tr>\n",
       "    <tr>\n",
       "      <th>19688</th>\n",
       "      <td>0</td>\n",
       "      <td>NaN</td>\n",
       "      <td>61</td>\n",
       "      <td>среднее</td>\n",
       "      <td>1</td>\n",
       "      <td>женат / замужем</td>\n",
       "      <td>0</td>\n",
       "      <td>F</td>\n",
       "      <td>пенсионер</td>\n",
       "      <td>0</td>\n",
       "      <td>NaN</td>\n",
       "      <td>операции с недвижимостью</td>\n",
       "    </tr>\n",
       "    <tr>\n",
       "      <th>10462</th>\n",
       "      <td>0</td>\n",
       "      <td>NaN</td>\n",
       "      <td>62</td>\n",
       "      <td>среднее</td>\n",
       "      <td>1</td>\n",
       "      <td>женат / замужем</td>\n",
       "      <td>0</td>\n",
       "      <td>F</td>\n",
       "      <td>пенсионер</td>\n",
       "      <td>0</td>\n",
       "      <td>NaN</td>\n",
       "      <td>покупка коммерческой недвижимости</td>\n",
       "    </tr>\n",
       "    <tr>\n",
       "      <th>10994</th>\n",
       "      <td>0</td>\n",
       "      <td>NaN</td>\n",
       "      <td>62</td>\n",
       "      <td>среднее</td>\n",
       "      <td>1</td>\n",
       "      <td>женат / замужем</td>\n",
       "      <td>0</td>\n",
       "      <td>F</td>\n",
       "      <td>пенсионер</td>\n",
       "      <td>0</td>\n",
       "      <td>NaN</td>\n",
       "      <td>ремонт жилью</td>\n",
       "    </tr>\n",
       "    <tr>\n",
       "      <th>10864</th>\n",
       "      <td>0</td>\n",
       "      <td>NaN</td>\n",
       "      <td>62</td>\n",
       "      <td>среднее</td>\n",
       "      <td>1</td>\n",
       "      <td>женат / замужем</td>\n",
       "      <td>0</td>\n",
       "      <td>F</td>\n",
       "      <td>пенсионер</td>\n",
       "      <td>0</td>\n",
       "      <td>NaN</td>\n",
       "      <td>ремонт жилью</td>\n",
       "    </tr>\n",
       "    <tr>\n",
       "      <th>18428</th>\n",
       "      <td>0</td>\n",
       "      <td>NaN</td>\n",
       "      <td>64</td>\n",
       "      <td>среднее</td>\n",
       "      <td>1</td>\n",
       "      <td>женат / замужем</td>\n",
       "      <td>0</td>\n",
       "      <td>F</td>\n",
       "      <td>пенсионер</td>\n",
       "      <td>0</td>\n",
       "      <td>NaN</td>\n",
       "      <td>жилье</td>\n",
       "    </tr>\n",
       "    <tr>\n",
       "      <th>13639</th>\n",
       "      <td>0</td>\n",
       "      <td>NaN</td>\n",
       "      <td>64</td>\n",
       "      <td>среднее</td>\n",
       "      <td>1</td>\n",
       "      <td>женат / замужем</td>\n",
       "      <td>0</td>\n",
       "      <td>F</td>\n",
       "      <td>пенсионер</td>\n",
       "      <td>0</td>\n",
       "      <td>NaN</td>\n",
       "      <td>автомобиль</td>\n",
       "    </tr>\n",
       "    <tr>\n",
       "      <th>20702</th>\n",
       "      <td>0</td>\n",
       "      <td>NaN</td>\n",
       "      <td>64</td>\n",
       "      <td>среднее</td>\n",
       "      <td>1</td>\n",
       "      <td>женат / замужем</td>\n",
       "      <td>0</td>\n",
       "      <td>F</td>\n",
       "      <td>пенсионер</td>\n",
       "      <td>0</td>\n",
       "      <td>NaN</td>\n",
       "      <td>дополнительное образование</td>\n",
       "    </tr>\n",
       "    <tr>\n",
       "      <th>9528</th>\n",
       "      <td>0</td>\n",
       "      <td>NaN</td>\n",
       "      <td>66</td>\n",
       "      <td>среднее</td>\n",
       "      <td>1</td>\n",
       "      <td>вдовец / вдова</td>\n",
       "      <td>2</td>\n",
       "      <td>F</td>\n",
       "      <td>пенсионер</td>\n",
       "      <td>0</td>\n",
       "      <td>NaN</td>\n",
       "      <td>операции со своей недвижимостью</td>\n",
       "    </tr>\n",
       "  </tbody>\n",
       "</table>\n",
       "</div>"
      ],
      "text/plain": [
       "       children  days_employed  dob_years education  education_id  \\\n",
       "19321         0            NaN         23   среднее             1   \n",
       "18328         0            NaN         29    высшее             0   \n",
       "21281         1            NaN         30    высшее             0   \n",
       "18349         1            NaN         30    высшее             0   \n",
       "13878         1            NaN         31   среднее             1   \n",
       "16904         1            NaN         32    высшее             0   \n",
       "4182          1            NaN         34    ВЫСШЕЕ             0   \n",
       "9238          2            NaN         34   среднее             1   \n",
       "13773         0            NaN         35   среднее             1   \n",
       "14432         2            NaN         36    высшее             0   \n",
       "12375         1            NaN         37   среднее             1   \n",
       "19387         0            NaN         38    высшее             0   \n",
       "16902         2            NaN         39   среднее             1   \n",
       "17774         1            NaN         40   среднее             1   \n",
       "10697         0            NaN         40   среднее             1   \n",
       "2849          0            NaN         41   среднее             1   \n",
       "20165         0            NaN         42   среднее             1   \n",
       "17755         1            NaN         43   среднее             1   \n",
       "13025         1            NaN         44   среднее             1   \n",
       "13942         0            NaN         44   среднее             1   \n",
       "19184         0            NaN         46   среднее             1   \n",
       "16378         0            NaN         46   среднее             1   \n",
       "11791         0            NaN         47   среднее             1   \n",
       "21132         0            NaN         47   среднее             1   \n",
       "16176         0            NaN         47   среднее             1   \n",
       "19832         0            NaN         48   среднее             1   \n",
       "14832         0            NaN         50   среднее             1   \n",
       "17379         0            NaN         54    высшее             0   \n",
       "18563         0            NaN         54   среднее             1   \n",
       "21415         0            NaN         54   среднее             1   \n",
       "9627          0            NaN         56   среднее             1   \n",
       "19041         0            NaN         56   среднее             1   \n",
       "18521         0            NaN         56   среднее             1   \n",
       "20116         0            NaN         57   среднее             1   \n",
       "19946         0            NaN         57   среднее             1   \n",
       "7808          0            NaN         57   среднее             1   \n",
       "15273         0            NaN         57   среднее             1   \n",
       "12373         0            NaN         58   среднее             1   \n",
       "5557          0            NaN         58   среднее             1   \n",
       "8583          0            NaN         58    высшее             0   \n",
       "15091         0            NaN         58   среднее             1   \n",
       "18755         0            NaN         58   среднее             1   \n",
       "12736         0            NaN         59   среднее             1   \n",
       "15188         0            NaN         60   среднее             1   \n",
       "21032         0            NaN         60   среднее             1   \n",
       "4851          0            NaN         60   среднее             1   \n",
       "19688         0            NaN         61   среднее             1   \n",
       "10462         0            NaN         62   среднее             1   \n",
       "10994         0            NaN         62   среднее             1   \n",
       "10864         0            NaN         62   среднее             1   \n",
       "18428         0            NaN         64   среднее             1   \n",
       "13639         0            NaN         64   среднее             1   \n",
       "20702         0            NaN         64   среднее             1   \n",
       "9528          0            NaN         66   среднее             1   \n",
       "\n",
       "               family_status  family_status_id gender  income_type  debt  \\\n",
       "19321  Не женат / не замужем                 4      F    сотрудник     0   \n",
       "18328        женат / замужем                 0      M    сотрудник     0   \n",
       "21281        женат / замужем                 0      F    сотрудник     0   \n",
       "18349        женат / замужем                 0      F  госслужащий     0   \n",
       "13878        женат / замужем                 0      F    компаньон     0   \n",
       "16904        женат / замужем                 0      F    сотрудник     0   \n",
       "4182        гражданский брак                 1      F    сотрудник     0   \n",
       "9238         женат / замужем                 0      F    сотрудник     0   \n",
       "13773       гражданский брак                 1      F    сотрудник     0   \n",
       "14432        женат / замужем                 0      F  госслужащий     0   \n",
       "12375        женат / замужем                 0      F    сотрудник     0   \n",
       "19387       гражданский брак                 1      F    компаньон     0   \n",
       "16902       гражданский брак                 1      F    сотрудник     0   \n",
       "17774       гражданский брак                 1      F    компаньон     0   \n",
       "10697       гражданский брак                 1      F    компаньон     0   \n",
       "2849         женат / замужем                 0      F    сотрудник     0   \n",
       "20165        женат / замужем                 0      F    сотрудник     0   \n",
       "17755        женат / замужем                 0      M    сотрудник     0   \n",
       "13025        женат / замужем                 0      F    сотрудник     0   \n",
       "13942        женат / замужем                 0      F    сотрудник     0   \n",
       "19184        женат / замужем                 0      F    сотрудник     0   \n",
       "16378        женат / замужем                 0      F    сотрудник     0   \n",
       "11791        женат / замужем                 0      F    сотрудник     0   \n",
       "21132        женат / замужем                 0      F    сотрудник     0   \n",
       "16176        женат / замужем                 0      F    сотрудник     0   \n",
       "19832        женат / замужем                 0      F    сотрудник     0   \n",
       "14832  Не женат / не замужем                 4      F    сотрудник     0   \n",
       "17379        женат / замужем                 0      M    компаньон     0   \n",
       "18563        женат / замужем                 0      F    сотрудник     0   \n",
       "21415        женат / замужем                 0      F    пенсионер     0   \n",
       "9627         женат / замужем                 0      F    пенсионер     0   \n",
       "19041       гражданский брак                 1      F    сотрудник     0   \n",
       "18521       гражданский брак                 1      F    сотрудник     0   \n",
       "20116       гражданский брак                 1      M    пенсионер     0   \n",
       "19946        женат / замужем                 0      F    сотрудник     0   \n",
       "7808        гражданский брак                 1      F    пенсионер     0   \n",
       "15273       гражданский брак                 1      F    пенсионер     0   \n",
       "12373        женат / замужем                 0      M    сотрудник     0   \n",
       "5557        гражданский брак                 1      F    пенсионер     0   \n",
       "8583   Не женат / не замужем                 4      F    пенсионер     0   \n",
       "15091       гражданский брак                 1      M    сотрудник     0   \n",
       "18755        женат / замужем                 0      F    пенсионер     0   \n",
       "12736        женат / замужем                 0      F    пенсионер     0   \n",
       "15188        женат / замужем                 0      M    сотрудник     0   \n",
       "21032        женат / замужем                 0      F    пенсионер     0   \n",
       "4851        гражданский брак                 1      F    пенсионер     0   \n",
       "19688        женат / замужем                 0      F    пенсионер     0   \n",
       "10462        женат / замужем                 0      F    пенсионер     0   \n",
       "10994        женат / замужем                 0      F    пенсионер     0   \n",
       "10864        женат / замужем                 0      F    пенсионер     0   \n",
       "18428        женат / замужем                 0      F    пенсионер     0   \n",
       "13639        женат / замужем                 0      F    пенсионер     0   \n",
       "20702        женат / замужем                 0      F    пенсионер     0   \n",
       "9528          вдовец / вдова                 2      F    пенсионер     0   \n",
       "\n",
       "       total_income                                purpose  \n",
       "19321           NaN       сделка с подержанным автомобилем  \n",
       "18328           NaN             покупка жилой недвижимости  \n",
       "21281           NaN      покупка коммерческой недвижимости  \n",
       "18349           NaN                покупка жилья для семьи  \n",
       "13878           NaN                          покупка жилья  \n",
       "16904           NaN     на покупку подержанного автомобиля  \n",
       "4182            NaN                                свадьба  \n",
       "9238            NaN                покупка жилья для сдачи  \n",
       "13773           NaN                        сыграть свадьбу  \n",
       "14432           NaN                  получение образования  \n",
       "12375           NaN                   покупка недвижимости  \n",
       "19387           NaN                  на проведение свадьбы  \n",
       "16902           NaN                        сыграть свадьбу  \n",
       "17774           NaN       строительство жилой недвижимости  \n",
       "10697           NaN                        сыграть свадьбу  \n",
       "2849            NaN                покупка жилья для семьи  \n",
       "20165           NaN                покупка жилья для семьи  \n",
       "17755           NaN                  заняться образованием  \n",
       "13025           NaN       сделка с подержанным автомобилем  \n",
       "13942           NaN                приобретение автомобиля  \n",
       "19184           NaN                        свой автомобиль  \n",
       "16378           NaN                     высшее образование  \n",
       "11791           NaN             строительство недвижимости  \n",
       "21132           NaN                           ремонт жилью  \n",
       "16176           NaN                           ремонт жилью  \n",
       "19832           NaN                           ремонт жилью  \n",
       "14832           NaN                           недвижимость  \n",
       "17379           NaN  операции с коммерческой недвижимостью  \n",
       "18563           NaN        операции со своей недвижимостью  \n",
       "21415           NaN                      операции с жильем  \n",
       "9627            NaN        операции со своей недвижимостью  \n",
       "19041           NaN                  на проведение свадьбы  \n",
       "18521           NaN                        сыграть свадьбу  \n",
       "20116           NaN                                свадьба  \n",
       "19946           NaN       сделка с подержанным автомобилем  \n",
       "7808            NaN                  на проведение свадьбы  \n",
       "15273           NaN                                свадьба  \n",
       "12373           NaN                   покупка недвижимости  \n",
       "5557            NaN                        сыграть свадьбу  \n",
       "8583            NaN             дополнительное образование  \n",
       "15091           NaN                  на проведение свадьбы  \n",
       "18755           NaN                  заняться образованием  \n",
       "12736           NaN                  заняться образованием  \n",
       "15188           NaN                   покупка недвижимости  \n",
       "21032           NaN                  заняться образованием  \n",
       "4851            NaN                                свадьба  \n",
       "19688           NaN               операции с недвижимостью  \n",
       "10462           NaN      покупка коммерческой недвижимости  \n",
       "10994           NaN                           ремонт жилью  \n",
       "10864           NaN                           ремонт жилью  \n",
       "18428           NaN                                  жилье  \n",
       "13639           NaN                             автомобиль  \n",
       "20702           NaN             дополнительное образование  \n",
       "9528            NaN        операции со своей недвижимостью  "
      ]
     },
     "execution_count": 5,
     "metadata": {},
     "output_type": "execute_result"
    }
   ],
   "source": [
    "data.loc[data.duplicated(subset=['children', 'days_employed', 'dob_years', 'education', 'education_id',\n",
    "       'family_status', 'family_status_id', 'gender', 'income_type', 'debt',\n",
    "       'total_income', 'purpose'], keep='first')].sort_values('dob_years') # keep='first' только первое значение рассматривается как уникальное"
   ]
  },
  {
   "cell_type": "markdown",
   "metadata": {},
   "source": [
    "<a name=\"chapter_1.4.\"></a>\n",
    "[к содержанию](#chapter_0)<br/>\n",
    "<div class=\"p-3 mb-2 bg-primary text-white\">\n",
    "<b>1.4. Краткие выводы по структуре.</b> <br/>\n",
    "</div>"
   ]
  },
  {
   "cell_type": "markdown",
   "metadata": {},
   "source": [
    "\n",
    "\n",
    "Разберем более подробно описание данных:\n",
    "всего 21525 строк.\n",
    "Разделители - запятые и судя по отсутствию столбцов с непонятными названиями - ошибок с разделителями нет.\n",
    "Названия столбцов без пропусков и артефактов, что уже хорошо.\n",
    "\n",
    "Нашли 106 строк с дубликатами, из них оставим уникальные 52 строки.\n",
    "\n",
    "children — количество детей в семье, тип int64, как и должно быть. Есть отрицательные, причина?\n",
    "\n",
    "days_employed — общий трудовой стаж в днях, тип float64, имеются не только дробные данные, но и отрицательные, есть пропуски данных, что видно из цифры 19351.\n",
    "\n",
    "dob_years — возраст клиента в годах, int64, проверим на отрицательные значения.\n",
    "\n",
    "education — уровень образования клиента, object, есть Caps Lock, как полный, так и частичный, вывести уникальные значения.\n",
    "\n",
    "education_id — идентификатор уровня образования, int64, не совсем понятно, что чему соответствует? Есть версия, что среднее - 1, высшее - 0. Надо проверить. Вывести уникальные значения.\n",
    "\n",
    "family_status — семейное положение, object, текстовая строка, есть Caps Lock, вывести уникальные значения.\n",
    "\n",
    "family_status_id — идентификатор семейного положения, int64, вывести уникальные значения в сопоставлении с уникальными в столбце family_status.\n",
    "\n",
    "gender — пол клиента, object, вывести уникальные значения, с gender в мире не все сейчас понятно ))\n",
    "income_type — тип занятости, object, вывести уникальные значения.\n",
    "\n",
    "debt — имел ли задолженность по возврату кредитов, int64, вывести уникальные значения.\n",
    "\n",
    "total_income — ежемесячный доход, float64, есть пропуски исходя из цифры 19351. Интересно, что количество строк с данными у столбца total_income совпадает со столбцом  days_employed, может по одной причине? Посмотреть их совместно. И нет ли отрицательных значений?\n",
    "\n",
    "purpose — цель получения кредита, object, вывести уникальные значения"
   ]
  },
  {
   "cell_type": "markdown",
   "metadata": {},
   "source": [
    "<a name=\"chapter_2.\"></a>\n",
    "[к содержанию](#chapter_0)<br/>\n",
    "<div class=\"p-3 mb-2 bg-primary text-white\">\n",
    "<b>2. Предобработка данных.</b> <br/>\n",
    "</div>"
   ]
  },
  {
   "cell_type": "markdown",
   "metadata": {},
   "source": [
    "<a name=\"chapter_2.1.\"></a>\n",
    "[к содержанию](#chapter_0)<br/>\n",
    "<div class=\"p-3 mb-2 bg-primary text-white\">\n",
    "<b>2.1. Удаление дублирующих строк.</b> <br/>\n",
    "</div>"
   ]
  },
  {
   "cell_type": "markdown",
   "metadata": {},
   "source": [
    "Удаление дублирующих строк с помощью уже опробованной функции  .drop_duplicates, имеющей возможность за счет параметра keep оставить уникальные строки."
   ]
  },
  {
   "cell_type": "code",
   "execution_count": 6,
   "metadata": {},
   "outputs": [],
   "source": [
    "data.drop_duplicates(subset=['children', 'days_employed', 'dob_years', 'education', 'education_id',\n",
    "       'family_status', 'family_status_id', 'gender', 'income_type', 'debt',\n",
    "       'total_income', 'purpose'], keep='first', inplace=True) # keep='first' - оставляем первые уникальные строки дубликатов df.drop_duplicates(subset=['A', 'C'], keep=False) https://askdev.ru/q/udalite-vse-povtoryayuschiesya-stroki-v-python-pandas-40492/\n",
    "# inplace=True - перезаписываем в это же таблице"
   ]
  },
  {
   "cell_type": "markdown",
   "metadata": {},
   "source": [
    "Проверка результата операции по удалению дубликатов."
   ]
  },
  {
   "cell_type": "code",
   "execution_count": 7,
   "metadata": {},
   "outputs": [
    {
     "data": {
      "text/html": [
       "<div>\n",
       "<style scoped>\n",
       "    .dataframe tbody tr th:only-of-type {\n",
       "        vertical-align: middle;\n",
       "    }\n",
       "\n",
       "    .dataframe tbody tr th {\n",
       "        vertical-align: top;\n",
       "    }\n",
       "\n",
       "    .dataframe thead th {\n",
       "        text-align: right;\n",
       "    }\n",
       "</style>\n",
       "<table border=\"1\" class=\"dataframe\">\n",
       "  <thead>\n",
       "    <tr style=\"text-align: right;\">\n",
       "      <th></th>\n",
       "      <th>children</th>\n",
       "      <th>days_employed</th>\n",
       "      <th>dob_years</th>\n",
       "      <th>education</th>\n",
       "      <th>education_id</th>\n",
       "      <th>family_status</th>\n",
       "      <th>family_status_id</th>\n",
       "      <th>gender</th>\n",
       "      <th>income_type</th>\n",
       "      <th>debt</th>\n",
       "      <th>total_income</th>\n",
       "      <th>purpose</th>\n",
       "    </tr>\n",
       "  </thead>\n",
       "  <tbody>\n",
       "  </tbody>\n",
       "</table>\n",
       "</div>"
      ],
      "text/plain": [
       "Empty DataFrame\n",
       "Columns: [children, days_employed, dob_years, education, education_id, family_status, family_status_id, gender, income_type, debt, total_income, purpose]\n",
       "Index: []"
      ]
     },
     "execution_count": 7,
     "metadata": {},
     "output_type": "execute_result"
    }
   ],
   "source": [
    "data.loc[data.duplicated(subset=['children', 'days_employed', 'dob_years', 'education', 'education_id',\n",
    "       'family_status', 'family_status_id', 'gender', 'income_type', 'debt',\n",
    "       'total_income', 'purpose'], keep=False)].sort_values('dob_years') # дубликаты не обнаружены"
   ]
  },
  {
   "cell_type": "markdown",
   "metadata": {},
   "source": [
    "<a name=\"chapter_2.2.\"></a>\n",
    "[к содержанию](#chapter_0)<br/>\n",
    "<div class=\"p-3 mb-2 bg-primary text-white\">\n",
    "<b>2.2. Анализ столбцов.</b> <br/>\n",
    "</div>"
   ]
  },
  {
   "cell_type": "markdown",
   "metadata": {},
   "source": [
    "Для первичного понимания состава, ошибок, артефактов и распределения данных в отдельных столбцах нашего массива данных используем разновидности функции .value_counts. Выбрана по причине наглядности получаемых результатов.**\n",
    "https://pythonru.com/primery/pandas-value-counts"
   ]
  },
  {
   "cell_type": "markdown",
   "metadata": {},
   "source": [
    "<a name=\"chapter_2.2.1.\"></a>\n",
    "[к содержанию](#chapter_0)<br/>\n",
    "<div class=\"p-3 mb-2 bg-primary text-white\">\n",
    "<b>2.2.1. Столбец 'children' - количество детей у клиента.</b> <br/>\n",
    "</div>"
   ]
  },
  {
   "cell_type": "markdown",
   "metadata": {},
   "source": [
    "Распределение уникальных данных значений столбца с учетом NaN по количеству."
   ]
  },
  {
   "cell_type": "code",
   "execution_count": 8,
   "metadata": {},
   "outputs": [
    {
     "data": {
      "text/plain": [
       " 0     14107\n",
       " 1      4809\n",
       " 2      2052\n",
       " 3       330\n",
       " 20       76\n",
       "-1        47\n",
       " 4        41\n",
       " 5         9\n",
       "Name: children, dtype: int64"
      ]
     },
     "execution_count": 8,
     "metadata": {},
     "output_type": "execute_result"
    }
   ],
   "source": [
    "data['children'].value_counts(dropna=False) # ставим значение False для параметра dropna, чтобы учесть возможные NaN"
   ]
  },
  {
   "cell_type": "markdown",
   "metadata": {},
   "source": [
    "Отметим большую группу клиентов, имеющих по 20 детей и артефакт с количеством детей -1."
   ]
  },
  {
   "cell_type": "markdown",
   "metadata": {},
   "source": [
    "Смотрим строки с количеством детей, равным -1"
   ]
  },
  {
   "cell_type": "code",
   "execution_count": 9,
   "metadata": {},
   "outputs": [
    {
     "name": "stdout",
     "output_type": "stream",
     "text": [
      "       children  days_employed  dob_years            education  education_id  \\\n",
      "291          -1   -4417.703588         46              среднее             1   \n",
      "705          -1    -902.084528         50              среднее             1   \n",
      "742          -1   -3174.456205         57              среднее             1   \n",
      "800          -1  349987.852217         54              среднее             1   \n",
      "941          -1            NaN         57              Среднее             1   \n",
      "1363         -1   -1195.264956         55              СРЕДНЕЕ             1   \n",
      "1929         -1   -1461.303336         38              среднее             1   \n",
      "2073         -1   -2539.761232         42              среднее             1   \n",
      "3814         -1   -3045.290443         26              Среднее             1   \n",
      "4201         -1    -901.101738         41              среднее             1   \n",
      "4402         -1  398001.302888         64              СРЕДНЕЕ             1   \n",
      "4542         -1   -1811.899756         32              среднее             1   \n",
      "5272         -1   -1143.485347         46              среднее             1   \n",
      "6013         -1   -1361.258696         46               высшее             0   \n",
      "6385         -1  370215.476226         48              среднее             1   \n",
      "7190         -1   -5928.202068         34              СРЕДНЕЕ             1   \n",
      "7278         -1    -526.318451         51              среднее             1   \n",
      "7615         -1            NaN         35              среднее             1   \n",
      "7685         -1   -3237.360455         53              среднее             1   \n",
      "8229         -1   -1803.441074         54               высшее             0   \n",
      "8251         -1   -3113.998449         31              среднее             1   \n",
      "8561         -1    -195.479496         31              среднее             1   \n",
      "9565         -1   -2896.629686         34               высшее             0   \n",
      "9574         -1   -2710.419901         28               высшее             0   \n",
      "10177        -1   -1743.604011         37              среднее             1   \n",
      "10365        -1  345774.125957         63               ВЫСШЕЕ             0   \n",
      "10918        -1  340499.039342         50              среднее             1   \n",
      "11109        -1   -3438.463024         59              среднее             1   \n",
      "11268        -1   -1048.782203         30               высшее             0   \n",
      "11617        -1    -370.827130         27              среднее             1   \n",
      "12304        -1   -8493.101252         61  неоконченное высшее             2   \n",
      "13786        -1            NaN         42              среднее             1   \n",
      "14357        -1    -268.337037         23              среднее             1   \n",
      "15147        -1   -9851.184337         44              среднее             1   \n",
      "15435        -1   -3614.220232         40               высшее             0   \n",
      "16129        -1    -457.861760         33              среднее             1   \n",
      "16265        -1   -2802.218127         40               высшее             0   \n",
      "17095        -1   -2809.693200         34              среднее             1   \n",
      "17429        -1    -895.379738         37              среднее             1   \n",
      "17657        -1   -4571.957475         41              среднее             1   \n",
      "18219        -1   -3575.215641         33              среднее             1   \n",
      "19100        -1    -617.246968         38              среднее             1   \n",
      "19366        -1    -372.034749         43              СРЕДНЕЕ             1   \n",
      "19417        -1  350340.760224         28              среднее             1   \n",
      "20393        -1  355157.107212         69              среднее             1   \n",
      "20717        -1    -661.822321         32               высшее             0   \n",
      "21140        -1   -1422.668059         44              среднее             1   \n",
      "\n",
      "               family_status  family_status_id gender  income_type  debt  \\\n",
      "291         гражданский брак                 1      F    сотрудник     0   \n",
      "705          женат / замужем                 0      F  госслужащий     0   \n",
      "742          женат / замужем                 0      F    сотрудник     0   \n",
      "800    Не женат / не замужем                 4      F    пенсионер     0   \n",
      "941          женат / замужем                 0      F    пенсионер     0   \n",
      "1363         женат / замужем                 0      F    компаньон     0   \n",
      "1929   Не женат / не замужем                 4      M    сотрудник     0   \n",
      "2073               в разводе                 3      F    компаньон     0   \n",
      "3814        гражданский брак                 1      F  госслужащий     0   \n",
      "4201         женат / замужем                 0      F  госслужащий     0   \n",
      "4402         женат / замужем                 0      F    пенсионер     0   \n",
      "4542         женат / замужем                 0      F    сотрудник     0   \n",
      "5272          вдовец / вдова                 2      F    сотрудник     0   \n",
      "6013         женат / замужем                 0      F    сотрудник     0   \n",
      "6385          вдовец / вдова                 2      F    пенсионер     0   \n",
      "7190         женат / замужем                 0      M    сотрудник     0   \n",
      "7278         женат / замужем                 0      F    сотрудник     0   \n",
      "7615         женат / замужем                 0      M    сотрудник     0   \n",
      "7685          вдовец / вдова                 2      F    сотрудник     0   \n",
      "8229         женат / замужем                 0      F    компаньон     0   \n",
      "8251        гражданский брак                 1      F    сотрудник     0   \n",
      "8561         женат / замужем                 0      F    сотрудник     0   \n",
      "9565         женат / замужем                 0      M    сотрудник     0   \n",
      "9574         женат / замужем                 0      M  госслужащий     0   \n",
      "10177        женат / замужем                 0      M    сотрудник     0   \n",
      "10365         вдовец / вдова                 2      F    пенсионер     0   \n",
      "10918        женат / замужем                 0      M    пенсионер     0   \n",
      "11109        женат / замужем                 0      F    сотрудник     0   \n",
      "11268       гражданский брак                 1      F    компаньон     0   \n",
      "11617        женат / замужем                 0      F    компаньон     0   \n",
      "12304        женат / замужем                 0      M    сотрудник     0   \n",
      "13786  Не женат / не замужем                 4      M    компаньон     0   \n",
      "14357              в разводе                 3      F    компаньон     0   \n",
      "15147              в разводе                 3      F    сотрудник     0   \n",
      "15435       гражданский брак                 1      F    сотрудник     0   \n",
      "16129        женат / замужем                 0      F    сотрудник     1   \n",
      "16265        женат / замужем                 0      M    сотрудник     0   \n",
      "17095        женат / замужем                 0      F    сотрудник     0   \n",
      "17429        женат / замужем                 0      F    компаньон     0   \n",
      "17657        женат / замужем                 0      F    сотрудник     0   \n",
      "18219        женат / замужем                 0      F    сотрудник     0   \n",
      "19100  Не женат / не замужем                 4      M    сотрудник     0   \n",
      "19366        женат / замужем                 0      M    сотрудник     0   \n",
      "19417              в разводе                 3      F    пенсионер     0   \n",
      "20393  Не женат / не замужем                 4      F    пенсионер     0   \n",
      "20717        женат / замужем                 0      F    сотрудник     0   \n",
      "21140        женат / замужем                 0      F    компаньон     0   \n",
      "\n",
      "        total_income                                 purpose  \n",
      "291    102816.346412                  профильное образование  \n",
      "705    137882.899271                 приобретение автомобиля  \n",
      "742     64268.044444              дополнительное образование  \n",
      "800     86293.724153              дополнительное образование  \n",
      "941              NaN            на покупку своего автомобиля  \n",
      "1363    69550.699692                  профильное образование  \n",
      "1929   109121.569013                           покупка жилья  \n",
      "2073   162638.609373                           покупка жилья  \n",
      "3814   131892.785435                   на проведение свадьбы  \n",
      "4201   226375.766751         операции со своей недвижимостью  \n",
      "4402   163264.062064                    покупка недвижимости  \n",
      "4542   160544.718446                             образование  \n",
      "5272   278708.018820                    покупка недвижимости  \n",
      "6013   143008.454914  строительство собственной недвижимости  \n",
      "6385    36052.447435                             образование  \n",
      "7190   184315.121979                 приобретение автомобиля  \n",
      "7278   146928.769439   операции с коммерческой недвижимостью  \n",
      "7615             NaN                             образование  \n",
      "7685   159676.174958        строительство жилой недвижимости  \n",
      "8229   138809.082930                    покупка недвижимости  \n",
      "8251    54412.056005                         свой автомобиль  \n",
      "8561   145577.881522                            ремонт жилью  \n",
      "9565   126754.656529                операции с недвижимостью  \n",
      "9574   303137.161001   получение дополнительного образования  \n",
      "10177  310367.509001                   получение образования  \n",
      "10365  170762.751325        строительство жилой недвижимости  \n",
      "10918  170762.773162                    покупка своего жилья  \n",
      "11109  219874.012345                       операции с жильем  \n",
      "11268  321603.700207                   на покупку автомобиля  \n",
      "11617  164591.260338                 покупка жилья для сдачи  \n",
      "12304  315006.182056                            недвижимость  \n",
      "13786            NaN                              автомобиль  \n",
      "14357   92257.579312              покупка жилой недвижимости  \n",
      "15147  110990.810581                         свой автомобиль  \n",
      "15435   98127.537462                         сыграть свадьбу  \n",
      "16129  149641.079451                              автомобиль  \n",
      "16265  111984.472021                           покупка жилья  \n",
      "17095  182543.890127      на покупку подержанного автомобиля  \n",
      "17429  214814.018780                                   жилье  \n",
      "17657  122105.415823         операции со своей недвижимостью  \n",
      "18219  128362.023879                      высшее образование  \n",
      "19100  122205.497527        строительство жилой недвижимости  \n",
      "19366  155588.766795        сделка с подержанным автомобилем  \n",
      "19417   52872.993654                              автомобили  \n",
      "20393  116521.045858                операции с недвижимостью  \n",
      "20717  137405.384917              покупка жилой недвижимости  \n",
      "21140  169562.091999         операции со своей недвижимостью  \n"
     ]
    }
   ],
   "source": [
    "children_minus1 = data.loc[data['children'] == -1]\n",
    "print(children_minus1)"
   ]
  },
  {
   "cell_type": "markdown",
   "metadata": {},
   "source": [
    "Здесь основная версия появления ошибки, что минус использовался при записи в виде дефиса и далее при цифровке данных оператор ошибочно вводил дефис в виде минуса. Считаю, что мы заменим все эти строки на значение в столбце 'children' на значение 1."
   ]
  },
  {
   "cell_type": "code",
   "execution_count": 10,
   "metadata": {},
   "outputs": [],
   "source": [
    "data['children'] = data['children'].replace(-1, 1)"
   ]
  },
  {
   "cell_type": "markdown",
   "metadata": {},
   "source": [
    "Смотрим строки с количеством детей, равным 20"
   ]
  },
  {
   "cell_type": "code",
   "execution_count": 11,
   "metadata": {},
   "outputs": [
    {
     "data": {
      "text/html": [
       "<div>\n",
       "<style scoped>\n",
       "    .dataframe tbody tr th:only-of-type {\n",
       "        vertical-align: middle;\n",
       "    }\n",
       "\n",
       "    .dataframe tbody tr th {\n",
       "        vertical-align: top;\n",
       "    }\n",
       "\n",
       "    .dataframe thead th {\n",
       "        text-align: right;\n",
       "    }\n",
       "</style>\n",
       "<table border=\"1\" class=\"dataframe\">\n",
       "  <thead>\n",
       "    <tr style=\"text-align: right;\">\n",
       "      <th></th>\n",
       "      <th>children</th>\n",
       "      <th>days_employed</th>\n",
       "      <th>dob_years</th>\n",
       "      <th>education</th>\n",
       "      <th>education_id</th>\n",
       "      <th>family_status</th>\n",
       "      <th>family_status_id</th>\n",
       "      <th>gender</th>\n",
       "      <th>income_type</th>\n",
       "      <th>debt</th>\n",
       "      <th>total_income</th>\n",
       "      <th>purpose</th>\n",
       "    </tr>\n",
       "  </thead>\n",
       "  <tbody>\n",
       "    <tr>\n",
       "      <th>606</th>\n",
       "      <td>20</td>\n",
       "      <td>-880.221113</td>\n",
       "      <td>21</td>\n",
       "      <td>среднее</td>\n",
       "      <td>1</td>\n",
       "      <td>женат / замужем</td>\n",
       "      <td>0</td>\n",
       "      <td>M</td>\n",
       "      <td>компаньон</td>\n",
       "      <td>0</td>\n",
       "      <td>145334.865002</td>\n",
       "      <td>покупка жилья</td>\n",
       "    </tr>\n",
       "    <tr>\n",
       "      <th>720</th>\n",
       "      <td>20</td>\n",
       "      <td>-855.595512</td>\n",
       "      <td>44</td>\n",
       "      <td>среднее</td>\n",
       "      <td>1</td>\n",
       "      <td>женат / замужем</td>\n",
       "      <td>0</td>\n",
       "      <td>F</td>\n",
       "      <td>компаньон</td>\n",
       "      <td>0</td>\n",
       "      <td>112998.738649</td>\n",
       "      <td>покупка недвижимости</td>\n",
       "    </tr>\n",
       "    <tr>\n",
       "      <th>1074</th>\n",
       "      <td>20</td>\n",
       "      <td>-3310.411598</td>\n",
       "      <td>56</td>\n",
       "      <td>среднее</td>\n",
       "      <td>1</td>\n",
       "      <td>женат / замужем</td>\n",
       "      <td>0</td>\n",
       "      <td>F</td>\n",
       "      <td>сотрудник</td>\n",
       "      <td>1</td>\n",
       "      <td>229518.537004</td>\n",
       "      <td>получение образования</td>\n",
       "    </tr>\n",
       "    <tr>\n",
       "      <th>2510</th>\n",
       "      <td>20</td>\n",
       "      <td>-2714.161249</td>\n",
       "      <td>59</td>\n",
       "      <td>высшее</td>\n",
       "      <td>0</td>\n",
       "      <td>вдовец / вдова</td>\n",
       "      <td>2</td>\n",
       "      <td>F</td>\n",
       "      <td>сотрудник</td>\n",
       "      <td>0</td>\n",
       "      <td>264474.835577</td>\n",
       "      <td>операции с коммерческой недвижимостью</td>\n",
       "    </tr>\n",
       "    <tr>\n",
       "      <th>2941</th>\n",
       "      <td>20</td>\n",
       "      <td>-2161.591519</td>\n",
       "      <td>0</td>\n",
       "      <td>среднее</td>\n",
       "      <td>1</td>\n",
       "      <td>женат / замужем</td>\n",
       "      <td>0</td>\n",
       "      <td>F</td>\n",
       "      <td>сотрудник</td>\n",
       "      <td>0</td>\n",
       "      <td>199739.941398</td>\n",
       "      <td>на покупку автомобиля</td>\n",
       "    </tr>\n",
       "    <tr>\n",
       "      <th>...</th>\n",
       "      <td>...</td>\n",
       "      <td>...</td>\n",
       "      <td>...</td>\n",
       "      <td>...</td>\n",
       "      <td>...</td>\n",
       "      <td>...</td>\n",
       "      <td>...</td>\n",
       "      <td>...</td>\n",
       "      <td>...</td>\n",
       "      <td>...</td>\n",
       "      <td>...</td>\n",
       "      <td>...</td>\n",
       "    </tr>\n",
       "    <tr>\n",
       "      <th>21008</th>\n",
       "      <td>20</td>\n",
       "      <td>-1240.257910</td>\n",
       "      <td>40</td>\n",
       "      <td>среднее</td>\n",
       "      <td>1</td>\n",
       "      <td>женат / замужем</td>\n",
       "      <td>0</td>\n",
       "      <td>F</td>\n",
       "      <td>сотрудник</td>\n",
       "      <td>1</td>\n",
       "      <td>133524.010303</td>\n",
       "      <td>свой автомобиль</td>\n",
       "    </tr>\n",
       "    <tr>\n",
       "      <th>21325</th>\n",
       "      <td>20</td>\n",
       "      <td>-601.174883</td>\n",
       "      <td>37</td>\n",
       "      <td>среднее</td>\n",
       "      <td>1</td>\n",
       "      <td>женат / замужем</td>\n",
       "      <td>0</td>\n",
       "      <td>F</td>\n",
       "      <td>компаньон</td>\n",
       "      <td>0</td>\n",
       "      <td>102986.065978</td>\n",
       "      <td>профильное образование</td>\n",
       "    </tr>\n",
       "    <tr>\n",
       "      <th>21390</th>\n",
       "      <td>20</td>\n",
       "      <td>NaN</td>\n",
       "      <td>53</td>\n",
       "      <td>среднее</td>\n",
       "      <td>1</td>\n",
       "      <td>женат / замужем</td>\n",
       "      <td>0</td>\n",
       "      <td>M</td>\n",
       "      <td>компаньон</td>\n",
       "      <td>0</td>\n",
       "      <td>NaN</td>\n",
       "      <td>покупка жилой недвижимости</td>\n",
       "    </tr>\n",
       "    <tr>\n",
       "      <th>21404</th>\n",
       "      <td>20</td>\n",
       "      <td>-494.788448</td>\n",
       "      <td>52</td>\n",
       "      <td>среднее</td>\n",
       "      <td>1</td>\n",
       "      <td>женат / замужем</td>\n",
       "      <td>0</td>\n",
       "      <td>M</td>\n",
       "      <td>компаньон</td>\n",
       "      <td>0</td>\n",
       "      <td>156629.683642</td>\n",
       "      <td>операции со своей недвижимостью</td>\n",
       "    </tr>\n",
       "    <tr>\n",
       "      <th>21491</th>\n",
       "      <td>20</td>\n",
       "      <td>-173.954460</td>\n",
       "      <td>27</td>\n",
       "      <td>среднее</td>\n",
       "      <td>1</td>\n",
       "      <td>женат / замужем</td>\n",
       "      <td>0</td>\n",
       "      <td>F</td>\n",
       "      <td>сотрудник</td>\n",
       "      <td>0</td>\n",
       "      <td>155520.899688</td>\n",
       "      <td>на покупку подержанного автомобиля</td>\n",
       "    </tr>\n",
       "  </tbody>\n",
       "</table>\n",
       "<p>76 rows × 12 columns</p>\n",
       "</div>"
      ],
      "text/plain": [
       "       children  days_employed  dob_years education  education_id  \\\n",
       "606          20    -880.221113         21   среднее             1   \n",
       "720          20    -855.595512         44   среднее             1   \n",
       "1074         20   -3310.411598         56   среднее             1   \n",
       "2510         20   -2714.161249         59    высшее             0   \n",
       "2941         20   -2161.591519          0   среднее             1   \n",
       "...         ...            ...        ...       ...           ...   \n",
       "21008        20   -1240.257910         40   среднее             1   \n",
       "21325        20    -601.174883         37   среднее             1   \n",
       "21390        20            NaN         53   среднее             1   \n",
       "21404        20    -494.788448         52   среднее             1   \n",
       "21491        20    -173.954460         27   среднее             1   \n",
       "\n",
       "         family_status  family_status_id gender income_type  debt  \\\n",
       "606    женат / замужем                 0      M   компаньон     0   \n",
       "720    женат / замужем                 0      F   компаньон     0   \n",
       "1074   женат / замужем                 0      F   сотрудник     1   \n",
       "2510    вдовец / вдова                 2      F   сотрудник     0   \n",
       "2941   женат / замужем                 0      F   сотрудник     0   \n",
       "...                ...               ...    ...         ...   ...   \n",
       "21008  женат / замужем                 0      F   сотрудник     1   \n",
       "21325  женат / замужем                 0      F   компаньон     0   \n",
       "21390  женат / замужем                 0      M   компаньон     0   \n",
       "21404  женат / замужем                 0      M   компаньон     0   \n",
       "21491  женат / замужем                 0      F   сотрудник     0   \n",
       "\n",
       "        total_income                                purpose  \n",
       "606    145334.865002                          покупка жилья  \n",
       "720    112998.738649                   покупка недвижимости  \n",
       "1074   229518.537004                  получение образования  \n",
       "2510   264474.835577  операции с коммерческой недвижимостью  \n",
       "2941   199739.941398                  на покупку автомобиля  \n",
       "...              ...                                    ...  \n",
       "21008  133524.010303                        свой автомобиль  \n",
       "21325  102986.065978                 профильное образование  \n",
       "21390            NaN             покупка жилой недвижимости  \n",
       "21404  156629.683642        операции со своей недвижимостью  \n",
       "21491  155520.899688     на покупку подержанного автомобиля  \n",
       "\n",
       "[76 rows x 12 columns]"
      ]
     },
     "metadata": {},
     "output_type": "display_data"
    }
   ],
   "source": [
    "children_20 = data.loc[data['children'] == 20]\n",
    "display(children_20)"
   ]
  },
  {
   "cell_type": "markdown",
   "metadata": {},
   "source": [
    "Анализ строк как-то не проясняет природу появления данного феномена. В индексе они разбросаны. Поля разнообразные. Версия в виде ошибочного введения оператором 20 вместо 2  - слабая, цифры на клавиатуре всегда достаточно разделены расстоянием. Можно поискать корреляцию с количеством усыновленных детей в семейном детском доме."
   ]
  },
  {
   "cell_type": "markdown",
   "metadata": {},
   "source": [
    "Считаю, что надо заменить в строках 20 детей на медианное значение и делаем конечную проверку столбца."
   ]
  },
  {
   "cell_type": "code",
   "execution_count": 12,
   "metadata": {},
   "outputs": [
    {
     "data": {
      "text/plain": [
       "0    14183\n",
       "1     4856\n",
       "2     2052\n",
       "3      330\n",
       "4       41\n",
       "5        9\n",
       "Name: children, dtype: int64"
      ]
     },
     "execution_count": 12,
     "metadata": {},
     "output_type": "execute_result"
    }
   ],
   "source": [
    "children_median = data.loc[data.loc[:, 'children'] != 20]['children'].median()\n",
    "data['children'] = data['children'].replace(20, children_median)\n",
    "data['children'].value_counts()"
   ]
  },
  {
   "cell_type": "markdown",
   "metadata": {},
   "source": [
    "<a name=\"chapter_2.2.2.\"></a>\n",
    "[к содержанию](#chapter_0)<br/>\n",
    "<div class=\"p-3 mb-2 bg-primary text-white\">\n",
    "<b>2.2.2. Столбец 'days_employed' общий трудовой стаж в днях.</b> <br/>\n",
    "</div>"
   ]
  },
  {
   "cell_type": "markdown",
   "metadata": {},
   "source": [
    "Смотрим распределение по четырем частям всего разброса данных значений столбца, для наглядности используем и в годах."
   ]
  },
  {
   "cell_type": "code",
   "execution_count": 13,
   "metadata": {},
   "outputs": [
    {
     "data": {
      "text/plain": [
       "(-18809.095, 86647.138]     15906\n",
       "(296719.313, 401755.4]       3445\n",
       "(86647.138, 191683.225]         0\n",
       "(191683.225, 296719.313]        0\n",
       "Name: days_employed, dtype: int64"
      ]
     },
     "execution_count": 13,
     "metadata": {},
     "output_type": "execute_result"
    }
   ],
   "source": [
    "data['days_employed'].value_counts(bins=4) # это в днях, bins - количество групп"
   ]
  },
  {
   "cell_type": "code",
   "execution_count": 14,
   "metadata": {},
   "outputs": [
    {
     "data": {
      "text/plain": [
       "(-51.532999999999994, 237.389]    15906\n",
       "(812.93, 1100.7]                   3445\n",
       "(237.389, 525.16]                     0\n",
       "(525.16, 812.93]                      0\n",
       "Name: days_employed, dtype: int64"
      ]
     },
     "execution_count": 14,
     "metadata": {},
     "output_type": "execute_result"
    }
   ],
   "source": [
    "days_employed_year = data['days_employed'] / 365 # это для наглядности в годах, bins - количество групп\n",
    "days_employed_year.value_counts(bins=4)"
   ]
  },
  {
   "cell_type": "markdown",
   "metadata": {},
   "source": [
    "Столбец 'days_employed' - распределение уникальных данных значений столбца с учетом NaN по количеству."
   ]
  },
  {
   "cell_type": "code",
   "execution_count": 15,
   "metadata": {},
   "outputs": [
    {
     "data": {
      "text/plain": [
       " NaN              2120\n",
       "-8437.673028         1\n",
       "-5135.928528         1\n",
       " 354500.415854       1\n",
       "-769.717438          1\n",
       "                  ... \n",
       "-1099.957609         1\n",
       "-209.984794          1\n",
       " 398099.392433       1\n",
       "-1271.038880         1\n",
       "-1984.507589         1\n",
       "Name: days_employed, Length: 19352, dtype: int64"
      ]
     },
     "execution_count": 15,
     "metadata": {},
     "output_type": "execute_result"
    }
   ],
   "source": [
    "data['days_employed'].value_counts(dropna=False)"
   ]
  },
  {
   "cell_type": "markdown",
   "metadata": {},
   "source": [
    "Есть NaN, отрицательные значения и есть какие-то большие странные цифры. Считаю, для наглядности вначале перевести данные в годы и сменить тип данных на int.\n",
    "А далее посмотреть распределение стажа по всему массиву клиентов.\n",
    "По NaN есть совпадение по количеству со столбцом total_income, посмотрим позже."
   ]
  },
  {
   "cell_type": "markdown",
   "metadata": {},
   "source": [
    "Вначале для этой цели импортируем библиотеку по копированию."
   ]
  },
  {
   "cell_type": "code",
   "execution_count": 16,
   "metadata": {},
   "outputs": [],
   "source": [
    "import copy #импорт библиотеки по копированию Источник: https://pythononline.ru/osnovy/modul-copy-python"
   ]
  },
  {
   "cell_type": "markdown",
   "metadata": {},
   "source": [
    "Так как это пока просто исследование столбца, то вначале скопируем данные, чтобы пока не менять сам исходный массив данных."
   ]
  },
  {
   "cell_type": "code",
   "execution_count": 17,
   "metadata": {},
   "outputs": [],
   "source": [
    "data_2 = copy.deepcopy(data) # и скопируем наш файл, чтобы пока манипуляции с ним не меняли наш исходный массив"
   ]
  },
  {
   "cell_type": "markdown",
   "metadata": {},
   "source": [
    "С копией делаем следующие манипуляции - убираем NaN с помощью .dropna  и переписываем датафрейм,\n",
    "далее переводим все отрицательные данные в положительные с помощью .abs(),\n",
    "далее переводим в годы для наглядности и в тип int "
   ]
  },
  {
   "cell_type": "code",
   "execution_count": 18,
   "metadata": {},
   "outputs": [
    {
     "name": "stdout",
     "output_type": "stream",
     "text": [
      "1       2023\n",
      "2       1878\n",
      "0       1827\n",
      "3       1560\n",
      "4       1350\n",
      "5       1024\n",
      "6        965\n",
      "7        810\n",
      "8        748\n",
      "9        572\n",
      "10       455\n",
      "11       379\n",
      "12       345\n",
      "13       284\n",
      "14       251\n",
      "15       205\n",
      "16       134\n",
      "19       124\n",
      "17       117\n",
      "18        98\n",
      "20        90\n",
      "21        88\n",
      "22        81\n",
      "23        65\n",
      "24        53\n",
      "25        51\n",
      "26        50\n",
      "27        46\n",
      "30        34\n",
      "931       31\n",
      "29        30\n",
      "32        28\n",
      "1024      28\n",
      "31        27\n",
      "1005      27\n",
      "935       27\n",
      "1084      26\n",
      "1004      26\n",
      "1082      25\n",
      "28        25\n",
      "1043      25\n",
      "918       24\n",
      "924       24\n",
      "970       24\n",
      "1071      24\n",
      "1022      24\n",
      "1014      23\n",
      "974       23\n",
      "950       23\n",
      "1089      23\n",
      "1017      23\n",
      "910       23\n",
      "991       23\n",
      "1020      23\n",
      "1021      23\n",
      "937       23\n",
      "1029      22\n",
      "914       22\n",
      "908       22\n",
      "916       22\n",
      "Name: days_employed, dtype: int64\n"
     ]
    }
   ],
   "source": [
    "data_2.dropna(subset = ['days_employed'], inplace = True) # inplace = False смотрим только копию данных\n",
    "data_2['days_employed'] = data_2['days_employed'].abs() #Источник: https://pythononline.ru/osnovy/funktsiya-abs-python \n",
    "data_2['days_employed'] = data_2['days_employed'] / 365 # это для наглядности в годах\n",
    "data_2['days_employed'] = data_2['days_employed'].astype('int')\n",
    "print(data_2['days_employed'].value_counts().head(60))# посмотрим уникальные значения столбца и их распределение по количеству"
   ]
  },
  {
   "cell_type": "markdown",
   "metadata": {},
   "source": [
    "И что мы будем делать с этими безумными годами?"
   ]
  },
  {
   "cell_type": "markdown",
   "metadata": {},
   "source": [
    "Посмотрим результаты по столбцу days_employed (в годах) в виде Dataframe, используя опять же .value_counts().to_frame() и логическое условие по стажу в годах"
   ]
  },
  {
   "cell_type": "code",
   "execution_count": 19,
   "metadata": {},
   "outputs": [
    {
     "data": {
      "text/html": [
       "<div>\n",
       "<style scoped>\n",
       "    .dataframe tbody tr th:only-of-type {\n",
       "        vertical-align: middle;\n",
       "    }\n",
       "\n",
       "    .dataframe tbody tr th {\n",
       "        vertical-align: top;\n",
       "    }\n",
       "\n",
       "    .dataframe thead th {\n",
       "        text-align: right;\n",
       "    }\n",
       "</style>\n",
       "<table border=\"1\" class=\"dataframe\">\n",
       "  <thead>\n",
       "    <tr style=\"text-align: right;\">\n",
       "      <th></th>\n",
       "      <th></th>\n",
       "      <th></th>\n",
       "      <th></th>\n",
       "      <th></th>\n",
       "      <th></th>\n",
       "      <th></th>\n",
       "      <th></th>\n",
       "      <th></th>\n",
       "      <th></th>\n",
       "      <th></th>\n",
       "      <th></th>\n",
       "      <th>0</th>\n",
       "    </tr>\n",
       "    <tr>\n",
       "      <th>children</th>\n",
       "      <th>days_employed</th>\n",
       "      <th>dob_years</th>\n",
       "      <th>education</th>\n",
       "      <th>education_id</th>\n",
       "      <th>family_status</th>\n",
       "      <th>family_status_id</th>\n",
       "      <th>gender</th>\n",
       "      <th>income_type</th>\n",
       "      <th>debt</th>\n",
       "      <th>total_income</th>\n",
       "      <th>purpose</th>\n",
       "      <th></th>\n",
       "    </tr>\n",
       "  </thead>\n",
       "  <tbody>\n",
       "    <tr>\n",
       "      <th>0</th>\n",
       "      <th>0</th>\n",
       "      <th>0</th>\n",
       "      <th>СРЕДНЕЕ</th>\n",
       "      <th>1</th>\n",
       "      <th>гражданский брак</th>\n",
       "      <th>1</th>\n",
       "      <th>M</th>\n",
       "      <th>сотрудник</th>\n",
       "      <th>0</th>\n",
       "      <th>174105.987951</th>\n",
       "      <th>сыграть свадьбу</th>\n",
       "      <td>1</td>\n",
       "    </tr>\n",
       "    <tr>\n",
       "      <th rowspan=\"4\" valign=\"top\">1</th>\n",
       "      <th rowspan=\"4\" valign=\"top\">1</th>\n",
       "      <th>47</th>\n",
       "      <th>среднее</th>\n",
       "      <th>1</th>\n",
       "      <th>женат / замужем</th>\n",
       "      <th>0</th>\n",
       "      <th>M</th>\n",
       "      <th>сотрудник</th>\n",
       "      <th>0</th>\n",
       "      <th>193060.699620</th>\n",
       "      <th>строительство собственной недвижимости</th>\n",
       "      <td>1</td>\n",
       "    </tr>\n",
       "    <tr>\n",
       "      <th rowspan=\"3\" valign=\"top\">46</th>\n",
       "      <th>СРЕДНЕЕ</th>\n",
       "      <th>1</th>\n",
       "      <th>Не женат / не замужем</th>\n",
       "      <th>4</th>\n",
       "      <th>F</th>\n",
       "      <th>сотрудник</th>\n",
       "      <th>1</th>\n",
       "      <th>138071.546042</th>\n",
       "      <th>получение дополнительного образования</th>\n",
       "      <td>1</td>\n",
       "    </tr>\n",
       "    <tr>\n",
       "      <th rowspan=\"2\" valign=\"top\">высшее</th>\n",
       "      <th rowspan=\"2\" valign=\"top\">0</th>\n",
       "      <th>гражданский брак</th>\n",
       "      <th>1</th>\n",
       "      <th>F</th>\n",
       "      <th>сотрудник</th>\n",
       "      <th>0</th>\n",
       "      <th>202780.883472</th>\n",
       "      <th>строительство жилой недвижимости</th>\n",
       "      <td>1</td>\n",
       "    </tr>\n",
       "    <tr>\n",
       "      <th>женат / замужем</th>\n",
       "      <th>0</th>\n",
       "      <th>F</th>\n",
       "      <th>сотрудник</th>\n",
       "      <th>0</th>\n",
       "      <th>110362.313652</th>\n",
       "      <th>строительство недвижимости</th>\n",
       "      <td>1</td>\n",
       "    </tr>\n",
       "    <tr>\n",
       "      <th>...</th>\n",
       "      <th>...</th>\n",
       "      <th>...</th>\n",
       "      <th>...</th>\n",
       "      <th>...</th>\n",
       "      <th>...</th>\n",
       "      <th>...</th>\n",
       "      <th>...</th>\n",
       "      <th>...</th>\n",
       "      <th>...</th>\n",
       "      <th>...</th>\n",
       "      <th>...</th>\n",
       "      <td>...</td>\n",
       "    </tr>\n",
       "    <tr>\n",
       "      <th rowspan=\"4\" valign=\"top\">0</th>\n",
       "      <th rowspan=\"4\" valign=\"top\">5</th>\n",
       "      <th rowspan=\"4\" valign=\"top\">34</th>\n",
       "      <th rowspan=\"4\" valign=\"top\">среднее</th>\n",
       "      <th rowspan=\"4\" valign=\"top\">1</th>\n",
       "      <th rowspan=\"2\" valign=\"top\">Не женат / не замужем</th>\n",
       "      <th rowspan=\"2\" valign=\"top\">4</th>\n",
       "      <th rowspan=\"2\" valign=\"top\">M</th>\n",
       "      <th>компаньон</th>\n",
       "      <th>0</th>\n",
       "      <th>289407.284906</th>\n",
       "      <th>покупка жилой недвижимости</th>\n",
       "      <td>1</td>\n",
       "    </tr>\n",
       "    <tr>\n",
       "      <th>сотрудник</th>\n",
       "      <th>0</th>\n",
       "      <th>232087.543238</th>\n",
       "      <th>образование</th>\n",
       "      <td>1</td>\n",
       "    </tr>\n",
       "    <tr>\n",
       "      <th rowspan=\"2\" valign=\"top\">гражданский брак</th>\n",
       "      <th rowspan=\"2\" valign=\"top\">1</th>\n",
       "      <th rowspan=\"2\" valign=\"top\">M</th>\n",
       "      <th rowspan=\"2\" valign=\"top\">сотрудник</th>\n",
       "      <th rowspan=\"2\" valign=\"top\">0</th>\n",
       "      <th>91294.990601</th>\n",
       "      <th>операции с жильем</th>\n",
       "      <td>1</td>\n",
       "    </tr>\n",
       "    <tr>\n",
       "      <th>178268.907126</th>\n",
       "      <th>строительство собственной недвижимости</th>\n",
       "      <td>1</td>\n",
       "    </tr>\n",
       "    <tr>\n",
       "      <th>5</th>\n",
       "      <th>8</th>\n",
       "      <th>36</th>\n",
       "      <th>среднее</th>\n",
       "      <th>1</th>\n",
       "      <th>женат / замужем</th>\n",
       "      <th>0</th>\n",
       "      <th>F</th>\n",
       "      <th>компаньон</th>\n",
       "      <th>0</th>\n",
       "      <th>168460.926969</th>\n",
       "      <th>операции с недвижимостью</th>\n",
       "      <td>1</td>\n",
       "    </tr>\n",
       "  </tbody>\n",
       "</table>\n",
       "<p>15906 rows × 1 columns</p>\n",
       "</div>"
      ],
      "text/plain": [
       "                                                                                                                                                                             0\n",
       "children days_employed dob_years education education_id family_status         family_status_id gender income_type debt total_income  purpose                                  \n",
       "0        0             0         СРЕДНЕЕ   1            гражданский брак      1                M      сотрудник   0    174105.987951 сыграть свадьбу                         1\n",
       "1        1             47        среднее   1            женат / замужем       0                M      сотрудник   0    193060.699620 строительство собственной недвижимости  1\n",
       "                       46        СРЕДНЕЕ   1            Не женат / не замужем 4                F      сотрудник   1    138071.546042 получение дополнительного образования   1\n",
       "                                 высшее    0            гражданский брак      1                F      сотрудник   0    202780.883472 строительство жилой недвижимости        1\n",
       "                                                        женат / замужем       0                F      сотрудник   0    110362.313652 строительство недвижимости              1\n",
       "...                                                                                                                                                                         ..\n",
       "0        5             34        среднее   1            Не женат / не замужем 4                M      компаньон   0    289407.284906 покупка жилой недвижимости              1\n",
       "                                                                                                      сотрудник   0    232087.543238 образование                             1\n",
       "                                                        гражданский брак      1                M      сотрудник   0    91294.990601  операции с жильем                       1\n",
       "                                                                                                                       178268.907126 строительство собственной недвижимости  1\n",
       "5        8             36        среднее   1            женат / замужем       0                F      компаньон   0    168460.926969 операции с недвижимостью                1\n",
       "\n",
       "[15906 rows x 1 columns]"
      ]
     },
     "execution_count": 19,
     "metadata": {},
     "output_type": "execute_result"
    }
   ],
   "source": [
    "data_2.loc[data_2['days_employed'] <= 100].value_counts().to_frame()"
   ]
  },
  {
   "cell_type": "code",
   "execution_count": 20,
   "metadata": {},
   "outputs": [
    {
     "data": {
      "text/html": [
       "<div>\n",
       "<style scoped>\n",
       "    .dataframe tbody tr th:only-of-type {\n",
       "        vertical-align: middle;\n",
       "    }\n",
       "\n",
       "    .dataframe tbody tr th {\n",
       "        vertical-align: top;\n",
       "    }\n",
       "\n",
       "    .dataframe thead th {\n",
       "        text-align: right;\n",
       "    }\n",
       "</style>\n",
       "<table border=\"1\" class=\"dataframe\">\n",
       "  <thead>\n",
       "    <tr style=\"text-align: right;\">\n",
       "      <th></th>\n",
       "      <th></th>\n",
       "      <th></th>\n",
       "      <th></th>\n",
       "      <th></th>\n",
       "      <th></th>\n",
       "      <th></th>\n",
       "      <th></th>\n",
       "      <th></th>\n",
       "      <th></th>\n",
       "      <th></th>\n",
       "      <th></th>\n",
       "      <th>0</th>\n",
       "    </tr>\n",
       "    <tr>\n",
       "      <th>children</th>\n",
       "      <th>days_employed</th>\n",
       "      <th>dob_years</th>\n",
       "      <th>education</th>\n",
       "      <th>education_id</th>\n",
       "      <th>family_status</th>\n",
       "      <th>family_status_id</th>\n",
       "      <th>gender</th>\n",
       "      <th>income_type</th>\n",
       "      <th>debt</th>\n",
       "      <th>total_income</th>\n",
       "      <th>purpose</th>\n",
       "      <th></th>\n",
       "    </tr>\n",
       "  </thead>\n",
       "  <tbody>\n",
       "    <tr>\n",
       "      <th rowspan=\"10\" valign=\"top\">0</th>\n",
       "      <th>900</th>\n",
       "      <th>51</th>\n",
       "      <th>высшее</th>\n",
       "      <th>0</th>\n",
       "      <th>женат / замужем</th>\n",
       "      <th>0</th>\n",
       "      <th>F</th>\n",
       "      <th>пенсионер</th>\n",
       "      <th>0</th>\n",
       "      <th>189181.456572</th>\n",
       "      <th>недвижимость</th>\n",
       "      <td>1</td>\n",
       "    </tr>\n",
       "    <tr>\n",
       "      <th rowspan=\"4\" valign=\"top\">1044</th>\n",
       "      <th>59</th>\n",
       "      <th>среднее</th>\n",
       "      <th>1</th>\n",
       "      <th>женат / замужем</th>\n",
       "      <th>0</th>\n",
       "      <th>F</th>\n",
       "      <th>пенсионер</th>\n",
       "      <th>0</th>\n",
       "      <th>29067.573677</th>\n",
       "      <th>покупка недвижимости</th>\n",
       "      <td>1</td>\n",
       "    </tr>\n",
       "    <tr>\n",
       "      <th rowspan=\"2\" valign=\"top\">62</th>\n",
       "      <th rowspan=\"2\" valign=\"top\">среднее</th>\n",
       "      <th rowspan=\"2\" valign=\"top\">1</th>\n",
       "      <th>гражданский брак</th>\n",
       "      <th>1</th>\n",
       "      <th>F</th>\n",
       "      <th>пенсионер</th>\n",
       "      <th>0</th>\n",
       "      <th>174926.520660</th>\n",
       "      <th>свадьба</th>\n",
       "      <td>1</td>\n",
       "    </tr>\n",
       "    <tr>\n",
       "      <th>женат / замужем</th>\n",
       "      <th>0</th>\n",
       "      <th>F</th>\n",
       "      <th>пенсионер</th>\n",
       "      <th>0</th>\n",
       "      <th>399121.659013</th>\n",
       "      <th>операции со своей недвижимостью</th>\n",
       "      <td>1</td>\n",
       "    </tr>\n",
       "    <tr>\n",
       "      <th>64</th>\n",
       "      <th>среднее</th>\n",
       "      <th>1</th>\n",
       "      <th>вдовец / вдова</th>\n",
       "      <th>2</th>\n",
       "      <th>F</th>\n",
       "      <th>пенсионер</th>\n",
       "      <th>1</th>\n",
       "      <th>180608.110744</th>\n",
       "      <th>покупка коммерческой недвижимости</th>\n",
       "      <td>1</td>\n",
       "    </tr>\n",
       "    <tr>\n",
       "      <th>...</th>\n",
       "      <th>...</th>\n",
       "      <th>...</th>\n",
       "      <th>...</th>\n",
       "      <th>...</th>\n",
       "      <th>...</th>\n",
       "      <th>...</th>\n",
       "      <th>...</th>\n",
       "      <th>...</th>\n",
       "      <th>...</th>\n",
       "      <th>...</th>\n",
       "      <td>...</td>\n",
       "    </tr>\n",
       "    <tr>\n",
       "      <th rowspan=\"4\" valign=\"top\">974</th>\n",
       "      <th>51</th>\n",
       "      <th>среднее</th>\n",
       "      <th>1</th>\n",
       "      <th>вдовец / вдова</th>\n",
       "      <th>2</th>\n",
       "      <th>F</th>\n",
       "      <th>пенсионер</th>\n",
       "      <th>0</th>\n",
       "      <th>130715.795648</th>\n",
       "      <th>операции с коммерческой недвижимостью</th>\n",
       "      <td>1</td>\n",
       "    </tr>\n",
       "    <tr>\n",
       "      <th>52</th>\n",
       "      <th>Среднее</th>\n",
       "      <th>1</th>\n",
       "      <th>женат / замужем</th>\n",
       "      <th>0</th>\n",
       "      <th>M</th>\n",
       "      <th>пенсионер</th>\n",
       "      <th>0</th>\n",
       "      <th>203943.804142</th>\n",
       "      <th>строительство жилой недвижимости</th>\n",
       "      <td>1</td>\n",
       "    </tr>\n",
       "    <tr>\n",
       "      <th>53</th>\n",
       "      <th>среднее</th>\n",
       "      <th>1</th>\n",
       "      <th>Не женат / не замужем</th>\n",
       "      <th>4</th>\n",
       "      <th>F</th>\n",
       "      <th>пенсионер</th>\n",
       "      <th>0</th>\n",
       "      <th>489863.439884</th>\n",
       "      <th>операции с коммерческой недвижимостью</th>\n",
       "      <td>1</td>\n",
       "    </tr>\n",
       "    <tr>\n",
       "      <th>55</th>\n",
       "      <th>среднее</th>\n",
       "      <th>1</th>\n",
       "      <th>вдовец / вдова</th>\n",
       "      <th>2</th>\n",
       "      <th>F</th>\n",
       "      <th>пенсионер</th>\n",
       "      <th>0</th>\n",
       "      <th>205177.490584</th>\n",
       "      <th>строительство недвижимости</th>\n",
       "      <td>1</td>\n",
       "    </tr>\n",
       "    <tr>\n",
       "      <th>4</th>\n",
       "      <th>1094</th>\n",
       "      <th>46</th>\n",
       "      <th>среднее</th>\n",
       "      <th>1</th>\n",
       "      <th>женат / замужем</th>\n",
       "      <th>0</th>\n",
       "      <th>M</th>\n",
       "      <th>пенсионер</th>\n",
       "      <th>0</th>\n",
       "      <th>153263.850194</th>\n",
       "      <th>свой автомобиль</th>\n",
       "      <td>1</td>\n",
       "    </tr>\n",
       "  </tbody>\n",
       "</table>\n",
       "<p>3445 rows × 1 columns</p>\n",
       "</div>"
      ],
      "text/plain": [
       "                                                                                                                                                                            0\n",
       "children days_employed dob_years education education_id family_status         family_status_id gender income_type debt total_income  purpose                                 \n",
       "0        900           51        высшее    0            женат / замужем       0                F      пенсионер   0    189181.456572 недвижимость                           1\n",
       "         1044          59        среднее   1            женат / замужем       0                F      пенсионер   0    29067.573677  покупка недвижимости                   1\n",
       "                       62        среднее   1            гражданский брак      1                F      пенсионер   0    174926.520660 свадьба                                1\n",
       "                                                        женат / замужем       0                F      пенсионер   0    399121.659013 операции со своей недвижимостью        1\n",
       "                       64        среднее   1            вдовец / вдова        2                F      пенсионер   1    180608.110744 покупка коммерческой недвижимости      1\n",
       "...                                                                                                                                                                        ..\n",
       "         974           51        среднее   1            вдовец / вдова        2                F      пенсионер   0    130715.795648 операции с коммерческой недвижимостью  1\n",
       "                       52        Среднее   1            женат / замужем       0                M      пенсионер   0    203943.804142 строительство жилой недвижимости       1\n",
       "                       53        среднее   1            Не женат / не замужем 4                F      пенсионер   0    489863.439884 операции с коммерческой недвижимостью  1\n",
       "                       55        среднее   1            вдовец / вдова        2                F      пенсионер   0    205177.490584 строительство недвижимости             1\n",
       "4        1094          46        среднее   1            женат / замужем       0                M      пенсионер   0    153263.850194 свой автомобиль                        1\n",
       "\n",
       "[3445 rows x 1 columns]"
      ]
     },
     "execution_count": 20,
     "metadata": {},
     "output_type": "execute_result"
    }
   ],
   "source": [
    "data_2.loc[data_2['days_employed'] >= 100].value_counts().to_frame()"
   ]
  },
  {
   "cell_type": "markdown",
   "metadata": {},
   "source": [
    "Стало немного яснее. Большие цифры возникают в основном у пенсионеров. Похоже на ошибку при пересчете данных из другого формата, потому как столбцы рядом, например dob_years  не коррелируют со столбцом days_employed. Пока идея - столбец ошибочный, данные нельзя назвать достоверными. Можно запросить уточнения по данному столбцу у заказчика, если эти данные потребуются в дальнейшем анализе."
   ]
  },
  {
   "cell_type": "code",
   "execution_count": 21,
   "metadata": {},
   "outputs": [
    {
     "data": {
      "text/plain": [
       "(-1.101, 110.0]    15906\n",
       "(990.0, 1100.0]     1880\n",
       "(880.0, 990.0]      1565\n",
       "(110.0, 220.0]         0\n",
       "(220.0, 330.0]         0\n",
       "(330.0, 440.0]         0\n",
       "(440.0, 550.0]         0\n",
       "(550.0, 660.0]         0\n",
       "(660.0, 770.0]         0\n",
       "(770.0, 880.0]         0\n",
       "Name: days_employed, dtype: int64"
      ]
     },
     "execution_count": 21,
     "metadata": {},
     "output_type": "execute_result"
    }
   ],
   "source": [
    "data_2['days_employed'].value_counts(bins=10) # это опять же в годах, новых идей пока не дало."
   ]
  },
  {
   "cell_type": "markdown",
   "metadata": {},
   "source": [
    "Тогда для красоты конечных таблиц, хоть это и некорректно для этих данных -  заменим в столбце пропущенные значения на медианное и изменим тип данных."
   ]
  },
  {
   "cell_type": "code",
   "execution_count": 22,
   "metadata": {},
   "outputs": [
    {
     "name": "stdout",
     "output_type": "stream",
     "text": [
      "2194.220566878695\n"
     ]
    },
    {
     "data": {
      "text/plain": [
       "2194      2126\n",
       "133         16\n",
       "327         16\n",
       "438         15\n",
       "223         14\n",
       "          ... \n",
       "8200         1\n",
       "9090         1\n",
       "360849       1\n",
       "2101         1\n",
       "343937       1\n",
       "Name: days_employed, Length: 9086, dtype: int64"
      ]
     },
     "execution_count": 22,
     "metadata": {},
     "output_type": "execute_result"
    }
   ],
   "source": [
    "data['days_employed'] = data['days_employed'].abs()\n",
    "days_employed_median = data.loc[data.loc[:, 'days_employed'] != 'NaN']['days_employed'].median() # считаем медианное значение\n",
    "print(days_employed_median)\n",
    "data['days_employed'] = data['days_employed'].fillna(days_employed_median)#Источник: http://espressocode.top/python-pandas-dataframe-fillna-to-replace-null-values-in-dataframe/\n",
    "data['days_employed'] = data['days_employed'].astype('int') # меняем тип данных\n",
    "data['days_employed'].value_counts()"
   ]
  },
  {
   "cell_type": "markdown",
   "metadata": {},
   "source": [
    "<a name=\"chapter_2.2.3.\"></a>\n",
    "[к содержанию](#chapter_0)<br/>\n",
    "<div class=\"p-3 mb-2 bg-primary text-white\">\n",
    "<b>2.2.3. Столбец 'dob_years' — возраст клиента в годах.</b> <br/>\n",
    "</div>"
   ]
  },
  {
   "cell_type": "markdown",
   "metadata": {},
   "source": [
    "Смотрим распределение по 10 частям всего разброса данных значений столбца."
   ]
  },
  {
   "cell_type": "code",
   "execution_count": 23,
   "metadata": {},
   "outputs": [
    {
     "data": {
      "text/plain": [
       "(37.5, 56.25]      9834\n",
       "(18.75, 37.5]      7675\n",
       "(56.25, 75.0]      3861\n",
       "(-0.076, 18.75]     101\n",
       "Name: dob_years, dtype: int64"
      ]
     },
     "execution_count": 23,
     "metadata": {},
     "output_type": "execute_result"
    }
   ],
   "source": [
    "data['dob_years'].value_counts(bins=4) # bins - количество групп"
   ]
  },
  {
   "cell_type": "code",
   "execution_count": 24,
   "metadata": {},
   "outputs": [
    {
     "name": "stdout",
     "output_type": "stream",
     "text": [
      "Empty DataFrame\n",
      "Columns: [children, days_employed, dob_years, education, education_id, family_status, family_status_id, gender, income_type, debt, total_income, purpose]\n",
      "Index: []\n"
     ]
    }
   ],
   "source": [
    "dob_years_do0 = data.loc[data['dob_years'] < 0]\n",
    "print(dob_years_do0)"
   ]
  },
  {
   "cell_type": "code",
   "execution_count": 25,
   "metadata": {},
   "outputs": [
    {
     "name": "stdout",
     "output_type": "stream",
     "text": [
      "       children  days_employed  dob_years education  education_id  \\\n",
      "99            0         346541          0   Среднее             1   \n",
      "149           0           2664          0   среднее             1   \n",
      "270           3           1872          0   среднее             1   \n",
      "578           0         397856          0   среднее             1   \n",
      "1040          0           1158          0    высшее             0   \n",
      "...         ...            ...        ...       ...           ...   \n",
      "19829         0           2194          0   среднее             1   \n",
      "20462         0         338734          0   среднее             1   \n",
      "20577         0         331741          0   среднее             1   \n",
      "21179         2            108          0    высшее             0   \n",
      "21313         0           1268          0   среднее             1   \n",
      "\n",
      "               family_status  family_status_id gender income_type  debt  \\\n",
      "99           женат / замужем                 0      F   пенсионер     0   \n",
      "149                в разводе                 3      F   сотрудник     0   \n",
      "270          женат / замужем                 0      F   сотрудник     0   \n",
      "578          женат / замужем                 0      F   пенсионер     0   \n",
      "1040               в разводе                 3      F   компаньон     0   \n",
      "...                      ...               ...    ...         ...   ...   \n",
      "19829        женат / замужем                 0      F   сотрудник     0   \n",
      "20462        женат / замужем                 0      F   пенсионер     0   \n",
      "20577  Не женат / не замужем                 4      F   пенсионер     0   \n",
      "21179        женат / замужем                 0      M   компаньон     0   \n",
      "21313  Не женат / не замужем                 4      M   сотрудник     0   \n",
      "\n",
      "        total_income                                 purpose  \n",
      "99      71291.522491                              автомобиль  \n",
      "149     70176.435951                       операции с жильем  \n",
      "270    102166.458894                            ремонт жилью  \n",
      "578     97620.687042  строительство собственной недвижимости  \n",
      "1040   303994.134987                         свой автомобиль  \n",
      "...              ...                                     ...  \n",
      "19829            NaN                                   жилье  \n",
      "20462  259193.920299                    покупка своего жилья  \n",
      "20577  129788.762899                            недвижимость  \n",
      "21179  240702.007382        строительство жилой недвижимости  \n",
      "21313  152419.184851                       операции с жильем  \n",
      "\n",
      "[101 rows x 12 columns]\n"
     ]
    }
   ],
   "source": [
    "dob_years_do1 = data.loc[data['dob_years'] < 1]\n",
    "print(dob_years_do1)"
   ]
  },
  {
   "cell_type": "markdown",
   "metadata": {},
   "source": [
    "У столбца 'dob_years' в 101 строке - нулевые значения, в остальном достоверное распределение данных, пропусков и отрицательных значений нет."
   ]
  },
  {
   "cell_type": "markdown",
   "metadata": {},
   "source": [
    "Нулевые значения по той же схеме меняем на медианное значение и делаем проверку."
   ]
  },
  {
   "cell_type": "code",
   "execution_count": 26,
   "metadata": {},
   "outputs": [
    {
     "data": {
      "text/plain": [
       "(33.0, 47.0]                  7890\n",
       "(47.0, 61.0]                  6435\n",
       "(18.942999999999998, 33.0]    5368\n",
       "(61.0, 75.0]                  1778\n",
       "Name: dob_years, dtype: int64"
      ]
     },
     "execution_count": 26,
     "metadata": {},
     "output_type": "execute_result"
    }
   ],
   "source": [
    "dob_years_median = data.loc[data.loc[:, 'dob_years'] != 0]['dob_years'].median()\n",
    "data['dob_years'] = data['dob_years'].replace(0, dob_years_median)\n",
    "data['dob_years'].value_counts(bins=4)"
   ]
  },
  {
   "cell_type": "markdown",
   "metadata": {},
   "source": [
    "<a name=\"chapter_2.2.4.\"></a>\n",
    "[к содержанию](#chapter_0)<br/>\n",
    "<div class=\"p-3 mb-2 bg-primary text-white\">\n",
    "<b>2.2.4. Столбец 'education' — уровень образования клиента.</b> <br/>\n",
    "</div>"
   ]
  },
  {
   "cell_type": "code",
   "execution_count": 27,
   "metadata": {},
   "outputs": [
    {
     "data": {
      "text/plain": [
       "среднее                13705\n",
       "высшее                  4710\n",
       "СРЕДНЕЕ                  772\n",
       "Среднее                  711\n",
       "неоконченное высшее      668\n",
       "ВЫСШЕЕ                   273\n",
       "Высшее                   268\n",
       "начальное                250\n",
       "Неоконченное высшее       47\n",
       "НЕОКОНЧЕННОЕ ВЫСШЕЕ       29\n",
       "НАЧАЛЬНОЕ                 17\n",
       "Начальное                 15\n",
       "ученая степень             4\n",
       "Ученая степень             1\n",
       "УЧЕНАЯ СТЕПЕНЬ             1\n",
       "Name: education, dtype: int64"
      ]
     },
     "execution_count": 27,
     "metadata": {},
     "output_type": "execute_result"
    }
   ],
   "source": [
    "data['education'].value_counts(dropna=False) # ставим значение False для параметра dropna, чтобы учесть возможные NaN, хоти их и нет, знаем из .describe "
   ]
  },
  {
   "cell_type": "markdown",
   "metadata": {},
   "source": [
    "Переводим значения столбца в строчные значения с помощью .str.lower, вдруг банку еще что-то закаже посчитать? ))\n",
    "И сразу проверим."
   ]
  },
  {
   "cell_type": "code",
   "execution_count": 28,
   "metadata": {},
   "outputs": [
    {
     "data": {
      "text/plain": [
       "среднее                15188\n",
       "высшее                  5251\n",
       "неоконченное высшее      744\n",
       "начальное                282\n",
       "ученая степень             6\n",
       "Name: education, dtype: int64"
      ]
     },
     "execution_count": 28,
     "metadata": {},
     "output_type": "execute_result"
    }
   ],
   "source": [
    "data['education'] = data['education'].str.lower()\n",
    "data['education'].value_counts()"
   ]
  },
  {
   "cell_type": "markdown",
   "metadata": {},
   "source": [
    "<a name=\"chapter_2.2.5.\"></a>\n",
    "[к содержанию](#chapter_0)<br/>\n",
    "<div class=\"p-3 mb-2 bg-primary text-white\">\n",
    "<b>2.2.5. education_id — идентификатор уровня образования.</b> <br/>\n",
    "</div>"
   ]
  },
  {
   "cell_type": "code",
   "execution_count": 29,
   "metadata": {},
   "outputs": [
    {
     "data": {
      "text/plain": [
       "1    15188\n",
       "0     5251\n",
       "2      744\n",
       "3      282\n",
       "4        6\n",
       "Name: education_id, dtype: int64"
      ]
     },
     "execution_count": 29,
     "metadata": {},
     "output_type": "execute_result"
    }
   ],
   "source": [
    "data['education_id'].value_counts(dropna=False) # ставим значение False для параметра dropna, чтобы учесть возможные NaN"
   ]
  },
  {
   "cell_type": "markdown",
   "metadata": {},
   "source": [
    "Совпадение цифр с предыдущим пунктом очень радует, природа значений понятна, но проверим."
   ]
  },
  {
   "cell_type": "code",
   "execution_count": 30,
   "metadata": {},
   "outputs": [
    {
     "name": "stdout",
     "output_type": "stream",
     "text": [
      "    children  days_employed  dob_years education  education_id  \\\n",
      "0          1           8437         42    высшее             0   \n",
      "5          0            926         27    высшее             0   \n",
      "6          0           2879         43    высшее             0   \n",
      "8          2           6929         35    высшее             0   \n",
      "10         2           4171         36    высшее             0   \n",
      "\n",
      "       family_status  family_status_id gender income_type  debt  \\\n",
      "0    женат / замужем                 0      F   сотрудник     0   \n",
      "5   гражданский брак                 1      M   компаньон     0   \n",
      "6    женат / замужем                 0      F   компаньон     0   \n",
      "8   гражданский брак                 1      F   сотрудник     0   \n",
      "10   женат / замужем                 0      M   компаньон     0   \n",
      "\n",
      "     total_income                purpose  \n",
      "0   253875.639453          покупка жилья  \n",
      "5   255763.565419          покупка жилья  \n",
      "6   240525.971920      операции с жильем  \n",
      "8    95856.832424  на проведение свадьбы  \n",
      "10  113943.491460   покупка недвижимости  \n"
     ]
    }
   ],
   "source": [
    "education_id_0 = data.loc[data['education_id'] == 0]\n",
    "print(education_id_0.head(5))"
   ]
  },
  {
   "cell_type": "code",
   "execution_count": 31,
   "metadata": {},
   "outputs": [
    {
     "name": "stdout",
     "output_type": "stream",
     "text": [
      "   children  days_employed  dob_years education  education_id  \\\n",
      "1         1           4024         36   среднее             1   \n",
      "2         0           5623         33   среднее             1   \n",
      "3         3           4124         32   среднее             1   \n",
      "4         0         340266         53   среднее             1   \n",
      "7         0            152         50   среднее             1   \n",
      "\n",
      "      family_status  family_status_id gender income_type  debt   total_income  \\\n",
      "1   женат / замужем                 0      F   сотрудник     0  112080.014102   \n",
      "2   женат / замужем                 0      M   сотрудник     0  145885.952297   \n",
      "3   женат / замужем                 0      M   сотрудник     0  267628.550329   \n",
      "4  гражданский брак                 1      F   пенсионер     0  158616.077870   \n",
      "7   женат / замужем                 0      M   сотрудник     0  135823.934197   \n",
      "\n",
      "                      purpose  \n",
      "1     приобретение автомобиля  \n",
      "2               покупка жилья  \n",
      "3  дополнительное образование  \n",
      "4             сыграть свадьбу  \n",
      "7                 образование  \n"
     ]
    }
   ],
   "source": [
    "education_id_1 = data.loc[data['education_id'] == 1]\n",
    "print(education_id_1.head(5))"
   ]
  },
  {
   "cell_type": "code",
   "execution_count": 32,
   "metadata": {},
   "outputs": [
    {
     "name": "stdout",
     "output_type": "stream",
     "text": [
      "     children  days_employed  dob_years            education  education_id  \\\n",
      "13          0           1846         54  неоконченное высшее             2   \n",
      "42          0           1257         20  неоконченное высшее             2   \n",
      "43          0           4375         43  неоконченное высшее             2   \n",
      "64          0            118         35  неоконченное высшее             2   \n",
      "134         1           4171         46  неоконченное высшее             2   \n",
      "\n",
      "             family_status  family_status_id gender income_type  debt  \\\n",
      "13         женат / замужем                 0      F   сотрудник     0   \n",
      "42   Не женат / не замужем                 4      F   сотрудник     0   \n",
      "43               в разводе                 3      F   компаньон     0   \n",
      "64   Не женат / не замужем                 4      M   сотрудник     0   \n",
      "134              в разводе                 3      F   сотрудник     0   \n",
      "\n",
      "      total_income                           purpose  \n",
      "13   130458.228857           приобретение автомобиля  \n",
      "42    82065.089021             получение образования  \n",
      "43   272957.133509           приобретение автомобиля  \n",
      "64   282900.471308  сделка с подержанным автомобилем  \n",
      "134  166015.790504        покупка жилой недвижимости  \n"
     ]
    }
   ],
   "source": [
    "education_id_2 = data.loc[data['education_id'] == 2]\n",
    "print(education_id_2.head(5))"
   ]
  },
  {
   "cell_type": "code",
   "execution_count": 33,
   "metadata": {},
   "outputs": [
    {
     "name": "stdout",
     "output_type": "stream",
     "text": [
      "     children  days_employed  dob_years  education  education_id  \\\n",
      "31          0           1682         47  начальное             3   \n",
      "136         0         357880         60  начальное             3   \n",
      "210         2         342167         55  начальное             3   \n",
      "211         0            577         41  начальное             3   \n",
      "272         0           5538         35  начальное             3   \n",
      "\n",
      "        family_status  family_status_id gender income_type  debt  \\\n",
      "31    женат / замужем                 0      F   сотрудник     0   \n",
      "136   женат / замужем                 0      M   пенсионер     0   \n",
      "210    вдовец / вдова                 2      F   пенсионер     0   \n",
      "211  гражданский брак                 1      F   сотрудник     0   \n",
      "272  гражданский брак                 1      M   сотрудник     1   \n",
      "\n",
      "      total_income                           purpose  \n",
      "31   275485.684538                             жилье  \n",
      "136  113124.202781   операции со своей недвижимостью  \n",
      "210  160635.120347  строительство жилой недвижимости  \n",
      "211   36649.078439  сделка с подержанным автомобилем  \n",
      "272  123814.079468             заняться образованием  \n"
     ]
    }
   ],
   "source": [
    "education_id_3 = data.loc[data['education_id'] == 3]\n",
    "print(education_id_3.head(5))"
   ]
  },
  {
   "cell_type": "code",
   "execution_count": 34,
   "metadata": {},
   "outputs": [
    {
     "name": "stdout",
     "output_type": "stream",
     "text": [
      "       children  days_employed  dob_years       education  education_id  \\\n",
      "2963          0         337584         69  ученая степень             4   \n",
      "4170          0            409         45  ученая степень             4   \n",
      "6551          0           5352         58  ученая степень             4   \n",
      "12021         3           5968         36  ученая степень             4   \n",
      "12786         0         376276         62  ученая степень             4   \n",
      "\n",
      "               family_status  family_status_id gender  income_type  debt  \\\n",
      "2963         женат / замужем                 0      M    пенсионер     0   \n",
      "4170   Не женат / не замужем                 4      M    сотрудник     0   \n",
      "6551         женат / замужем                 0      M    сотрудник     0   \n",
      "12021        женат / замужем                 0      F  госслужащий     0   \n",
      "12786        женат / замужем                 0      F    пенсионер     0   \n",
      "\n",
      "        total_income                                purpose  \n",
      "2963    98752.495442             покупка жилой недвижимости  \n",
      "4170   198570.757322  операции с коммерческой недвижимостью  \n",
      "6551   268411.214536           заняться высшим образованием  \n",
      "12021  111392.231107                          покупка жилья  \n",
      "12786  255425.196556             покупка жилой недвижимости  \n"
     ]
    }
   ],
   "source": [
    "education_id_4 = data.loc[data['education_id'] == 4]\n",
    "print(education_id_4.head(5))"
   ]
  },
  {
   "cell_type": "code",
   "execution_count": 35,
   "metadata": {},
   "outputs": [
    {
     "data": {
      "text/plain": [
       "education_id\n",
       "0                 [высшее]\n",
       "1                [среднее]\n",
       "2    [неоконченное высшее]\n",
       "3              [начальное]\n",
       "4         [ученая степень]\n",
       "Name: education, dtype: object"
      ]
     },
     "metadata": {},
     "output_type": "display_data"
    }
   ],
   "source": [
    "education_id_all = data.groupby('education_id')['education'].unique()\n",
    "display(education_id_all)"
   ]
  },
  {
   "cell_type": "markdown",
   "metadata": {},
   "source": [
    "<a name=\"chapter_2.2.6.\"></a>\n",
    "[к содержанию](#chapter_0)<br/>\n",
    "<div class=\"p-3 mb-2 bg-primary text-white\">\n",
    "<b>2.2.6. Столбец 'family_status' — семейное положение.</b> <br/>\n",
    "</div>"
   ]
  },
  {
   "cell_type": "code",
   "execution_count": 36,
   "metadata": {},
   "outputs": [
    {
     "data": {
      "text/plain": [
       "женат / замужем          12344\n",
       "гражданский брак          4163\n",
       "Не женат / не замужем     2810\n",
       "в разводе                 1195\n",
       "вдовец / вдова             959\n",
       "Name: family_status, dtype: int64"
      ]
     },
     "execution_count": 36,
     "metadata": {},
     "output_type": "execute_result"
    }
   ],
   "source": [
    "data['family_status'].value_counts(dropna=False) # ставим значение False для параметра dropna, чтобы учесть возможные NaN"
   ]
  },
  {
   "cell_type": "markdown",
   "metadata": {},
   "source": [
    "Переведем в строчные значения для порядка..."
   ]
  },
  {
   "cell_type": "code",
   "execution_count": 37,
   "metadata": {},
   "outputs": [
    {
     "data": {
      "text/plain": [
       "женат / замужем          12344\n",
       "гражданский брак          4163\n",
       "не женат / не замужем     2810\n",
       "в разводе                 1195\n",
       "вдовец / вдова             959\n",
       "Name: family_status, dtype: int64"
      ]
     },
     "execution_count": 37,
     "metadata": {},
     "output_type": "execute_result"
    }
   ],
   "source": [
    "data['family_status'] = data['family_status'].str.lower()\n",
    "data['family_status'].value_counts()"
   ]
  },
  {
   "cell_type": "markdown",
   "metadata": {},
   "source": [
    "<a name=\"chapter_2.2.7.\"></a>\n",
    "[к содержанию](#chapter_0)<br/>\n",
    "<div class=\"p-3 mb-2 bg-primary text-white\">\n",
    "<b>2.2.7. Столбец 'family_status_id' — идентификатор семейного положения.</b> <br/>\n",
    "</div>"
   ]
  },
  {
   "cell_type": "code",
   "execution_count": 38,
   "metadata": {},
   "outputs": [
    {
     "data": {
      "text/plain": [
       "0    12344\n",
       "1     4163\n",
       "4     2810\n",
       "3     1195\n",
       "2      959\n",
       "Name: family_status_id, dtype: int64"
      ]
     },
     "execution_count": 38,
     "metadata": {},
     "output_type": "execute_result"
    }
   ],
   "source": [
    "data['family_status_id'].value_counts(dropna=False) # ставим значение False для параметра dropna, чтобы учесть возможные NaN"
   ]
  },
  {
   "cell_type": "markdown",
   "metadata": {},
   "source": [
    "Значения совпадают с предыдущим столбцом, значит их смысл понятен. Проверим хотя бы один вариант."
   ]
  },
  {
   "cell_type": "code",
   "execution_count": 39,
   "metadata": {},
   "outputs": [
    {
     "name": "stdout",
     "output_type": "stream",
     "text": [
      "   children  days_employed  dob_years education  education_id  \\\n",
      "0         1           8437         42    высшее             0   \n",
      "1         1           4024         36   среднее             1   \n",
      "2         0           5623         33   среднее             1   \n",
      "3         3           4124         32   среднее             1   \n",
      "6         0           2879         43    высшее             0   \n",
      "\n",
      "     family_status  family_status_id gender income_type  debt   total_income  \\\n",
      "0  женат / замужем                 0      F   сотрудник     0  253875.639453   \n",
      "1  женат / замужем                 0      F   сотрудник     0  112080.014102   \n",
      "2  женат / замужем                 0      M   сотрудник     0  145885.952297   \n",
      "3  женат / замужем                 0      M   сотрудник     0  267628.550329   \n",
      "6  женат / замужем                 0      F   компаньон     0  240525.971920   \n",
      "\n",
      "                      purpose  \n",
      "0               покупка жилья  \n",
      "1     приобретение автомобиля  \n",
      "2               покупка жилья  \n",
      "3  дополнительное образование  \n",
      "6           операции с жильем  \n"
     ]
    }
   ],
   "source": [
    "family_status_id_0 = data.loc[data['family_status_id'] == 0]\n",
    "print(family_status_id_0.head(5))"
   ]
  },
  {
   "cell_type": "markdown",
   "metadata": {},
   "source": [
    "<a name=\"chapter_2.2.8.\"></a>\n",
    "[к содержанию](#chapter_0)<br/>\n",
    "<div class=\"p-3 mb-2 bg-primary text-white\">\n",
    "<b>2.2.8. Столбец 'gender' — пол клиента.</b> <br/>\n",
    "</div>"
   ]
  },
  {
   "cell_type": "code",
   "execution_count": 40,
   "metadata": {},
   "outputs": [
    {
     "data": {
      "text/plain": [
       "F      14189\n",
       "M       7281\n",
       "XNA        1\n",
       "Name: gender, dtype: int64"
      ]
     },
     "execution_count": 40,
     "metadata": {},
     "output_type": "execute_result"
    }
   ],
   "source": [
    "data['gender'].value_counts(dropna=False) # ставим значение False для параметра dropna, чтобы учесть возможные NaN"
   ]
  },
  {
   "cell_type": "markdown",
   "metadata": {},
   "source": [
    "Нашли интересный пол - XNA, смотрим на данную запись"
   ]
  },
  {
   "cell_type": "code",
   "execution_count": 41,
   "metadata": {},
   "outputs": [
    {
     "name": "stdout",
     "output_type": "stream",
     "text": [
      "       children  days_employed  dob_years            education  education_id  \\\n",
      "10701         0           2358         24  неоконченное высшее             2   \n",
      "\n",
      "          family_status  family_status_id gender income_type  debt  \\\n",
      "10701  гражданский брак                 1    XNA   компаньон     0   \n",
      "\n",
      "        total_income               purpose  \n",
      "10701  203905.157261  покупка недвижимости  \n"
     ]
    }
   ],
   "source": [
    "gender_xna = data.loc[data['gender'] == 'XNA']\n",
    "print(gender_xna)"
   ]
  },
  {
   "cell_type": "markdown",
   "metadata": {},
   "source": [
    "Думаю, если готовить массив для дальнейших работ, то лучше убрать эту запись из дальнейших расчетов. Это никак не должно сказаться на общих результатах. Перезаписываем дата и проверяем результат."
   ]
  },
  {
   "cell_type": "code",
   "execution_count": 42,
   "metadata": {},
   "outputs": [
    {
     "data": {
      "text/html": [
       "<div>\n",
       "<style scoped>\n",
       "    .dataframe tbody tr th:only-of-type {\n",
       "        vertical-align: middle;\n",
       "    }\n",
       "\n",
       "    .dataframe tbody tr th {\n",
       "        vertical-align: top;\n",
       "    }\n",
       "\n",
       "    .dataframe thead th {\n",
       "        text-align: right;\n",
       "    }\n",
       "</style>\n",
       "<table border=\"1\" class=\"dataframe\">\n",
       "  <thead>\n",
       "    <tr style=\"text-align: right;\">\n",
       "      <th></th>\n",
       "      <th>children</th>\n",
       "      <th>days_employed</th>\n",
       "      <th>dob_years</th>\n",
       "      <th>education</th>\n",
       "      <th>education_id</th>\n",
       "      <th>family_status</th>\n",
       "      <th>family_status_id</th>\n",
       "      <th>gender</th>\n",
       "      <th>income_type</th>\n",
       "      <th>debt</th>\n",
       "      <th>total_income</th>\n",
       "      <th>purpose</th>\n",
       "    </tr>\n",
       "  </thead>\n",
       "  <tbody>\n",
       "  </tbody>\n",
       "</table>\n",
       "</div>"
      ],
      "text/plain": [
       "Empty DataFrame\n",
       "Columns: [children, days_employed, dob_years, education, education_id, family_status, family_status_id, gender, income_type, debt, total_income, purpose]\n",
       "Index: []"
      ]
     },
     "execution_count": 42,
     "metadata": {},
     "output_type": "execute_result"
    }
   ],
   "source": [
    "data = data[data['gender'] != 'XNA']\n",
    "data[data['gender']=='XNA']"
   ]
  },
  {
   "cell_type": "markdown",
   "metadata": {},
   "source": [
    "Заменим для красоты и надежности на строчные символы."
   ]
  },
  {
   "cell_type": "code",
   "execution_count": 43,
   "metadata": {},
   "outputs": [
    {
     "data": {
      "text/plain": [
       "f    14189\n",
       "m     7281\n",
       "Name: gender, dtype: int64"
      ]
     },
     "execution_count": 43,
     "metadata": {},
     "output_type": "execute_result"
    }
   ],
   "source": [
    "data['gender'] = data['gender'].str.lower()\n",
    "data['gender'].value_counts()"
   ]
  },
  {
   "cell_type": "markdown",
   "metadata": {},
   "source": [
    "<a name=\"chapter_2.2.9.\"></a>\n",
    "[к содержанию](#chapter_0)<br/>\n",
    "<div class=\"p-3 mb-2 bg-primary text-white\">\n",
    "<b>2.2.9. Столбец 'income_type' — тип занятости.</b> <br/>\n",
    "</div>"
   ]
  },
  {
   "cell_type": "markdown",
   "metadata": {},
   "source": [
    "Интересно распределение по типу занятости"
   ]
  },
  {
   "cell_type": "code",
   "execution_count": 44,
   "metadata": {},
   "outputs": [
    {
     "data": {
      "text/plain": [
       "сотрудник          11091\n",
       "компаньон           5079\n",
       "пенсионер           3837\n",
       "госслужащий         1457\n",
       "безработный            2\n",
       "предприниматель        2\n",
       "студент                1\n",
       "в декрете              1\n",
       "Name: income_type, dtype: int64"
      ]
     },
     "execution_count": 44,
     "metadata": {},
     "output_type": "execute_result"
    }
   ],
   "source": [
    "data['income_type'].value_counts(dropna=False) # ставим значение False для параметра dropna, чтобы учесть возможные NaN"
   ]
  },
  {
   "cell_type": "markdown",
   "metadata": {},
   "source": [
    "<a name=\"chapter_2.2.10.\"></a>\n",
    "[к содержанию](#chapter_0)<br/>\n",
    "<div class=\"p-3 mb-2 bg-primary text-white\">\n",
    "<b>2.2.10. Столбец 'debt' — имел ли задолженность по возврату кредитов.</b> <br/>\n",
    "</div>"
   ]
  },
  {
   "cell_type": "markdown",
   "metadata": {},
   "source": [
    "Интересно распределение по задолженности."
   ]
  },
  {
   "cell_type": "code",
   "execution_count": 45,
   "metadata": {},
   "outputs": [
    {
     "data": {
      "text/plain": [
       "0    19729\n",
       "1     1741\n",
       "Name: debt, dtype: int64"
      ]
     },
     "execution_count": 45,
     "metadata": {},
     "output_type": "execute_result"
    }
   ],
   "source": [
    "data['debt'].value_counts(dropna=False) # ставим значение False для параметра dropna, чтобы учесть возможные NaN"
   ]
  },
  {
   "cell_type": "markdown",
   "metadata": {},
   "source": [
    "Скорее всего, если имел задолженность - это 1. Но я не совсем в этом уверен. А узнать можно только у банка, и как это сделать? "
   ]
  },
  {
   "cell_type": "markdown",
   "metadata": {},
   "source": [
    "<a name=\"chapter_2.2.11.\"></a>\n",
    "[к содержанию](#chapter_0)<br/>\n",
    "<div class=\"p-3 mb-2 bg-primary text-white\">\n",
    "<b>2.2.11. Столбец 'total_income' — ежемесячный доход.</b> <br/>\n",
    "</div>"
   ]
  },
  {
   "cell_type": "code",
   "execution_count": 46,
   "metadata": {},
   "outputs": [
    {
     "data": {
      "text/plain": [
       "NaN              2120\n",
       "253875.639453       1\n",
       "124337.377229       1\n",
       "70113.902786        1\n",
       "116196.518662       1\n",
       "                 ... \n",
       "148042.721049       1\n",
       "60039.334460        1\n",
       "175979.762960       1\n",
       "155819.968351       1\n",
       "82047.418899        1\n",
       "Name: total_income, Length: 19351, dtype: int64"
      ]
     },
     "execution_count": 46,
     "metadata": {},
     "output_type": "execute_result"
    }
   ],
   "source": [
    "data['total_income'].value_counts(dropna=False) # ставим значение False для параметра dropna, чтобы учесть возможные NaN"
   ]
  },
  {
   "cell_type": "markdown",
   "metadata": {},
   "source": [
    "Смотрим, что за строки с NaN в столбцах 'total_income' и 'days_employed'. Посчитать в каждом столбце отсутствующие значения можно методом .isnull()"
   ]
  },
  {
   "cell_type": "code",
   "execution_count": 47,
   "metadata": {},
   "outputs": [
    {
     "data": {
      "text/html": [
       "<div>\n",
       "<style scoped>\n",
       "    .dataframe tbody tr th:only-of-type {\n",
       "        vertical-align: middle;\n",
       "    }\n",
       "\n",
       "    .dataframe tbody tr th {\n",
       "        vertical-align: top;\n",
       "    }\n",
       "\n",
       "    .dataframe thead th {\n",
       "        text-align: right;\n",
       "    }\n",
       "</style>\n",
       "<table border=\"1\" class=\"dataframe\">\n",
       "  <thead>\n",
       "    <tr style=\"text-align: right;\">\n",
       "      <th></th>\n",
       "      <th>children</th>\n",
       "      <th>days_employed</th>\n",
       "      <th>dob_years</th>\n",
       "      <th>education</th>\n",
       "      <th>education_id</th>\n",
       "      <th>family_status</th>\n",
       "      <th>family_status_id</th>\n",
       "      <th>gender</th>\n",
       "      <th>income_type</th>\n",
       "      <th>debt</th>\n",
       "      <th>total_income</th>\n",
       "      <th>purpose</th>\n",
       "    </tr>\n",
       "  </thead>\n",
       "  <tbody>\n",
       "    <tr>\n",
       "      <th>12</th>\n",
       "      <td>0</td>\n",
       "      <td>2194</td>\n",
       "      <td>65</td>\n",
       "      <td>среднее</td>\n",
       "      <td>1</td>\n",
       "      <td>гражданский брак</td>\n",
       "      <td>1</td>\n",
       "      <td>m</td>\n",
       "      <td>пенсионер</td>\n",
       "      <td>0</td>\n",
       "      <td>NaN</td>\n",
       "      <td>сыграть свадьбу</td>\n",
       "    </tr>\n",
       "    <tr>\n",
       "      <th>26</th>\n",
       "      <td>0</td>\n",
       "      <td>2194</td>\n",
       "      <td>41</td>\n",
       "      <td>среднее</td>\n",
       "      <td>1</td>\n",
       "      <td>женат / замужем</td>\n",
       "      <td>0</td>\n",
       "      <td>m</td>\n",
       "      <td>госслужащий</td>\n",
       "      <td>0</td>\n",
       "      <td>NaN</td>\n",
       "      <td>образование</td>\n",
       "    </tr>\n",
       "    <tr>\n",
       "      <th>29</th>\n",
       "      <td>0</td>\n",
       "      <td>2194</td>\n",
       "      <td>63</td>\n",
       "      <td>среднее</td>\n",
       "      <td>1</td>\n",
       "      <td>не женат / не замужем</td>\n",
       "      <td>4</td>\n",
       "      <td>f</td>\n",
       "      <td>пенсионер</td>\n",
       "      <td>0</td>\n",
       "      <td>NaN</td>\n",
       "      <td>строительство жилой недвижимости</td>\n",
       "    </tr>\n",
       "    <tr>\n",
       "      <th>41</th>\n",
       "      <td>0</td>\n",
       "      <td>2194</td>\n",
       "      <td>50</td>\n",
       "      <td>среднее</td>\n",
       "      <td>1</td>\n",
       "      <td>женат / замужем</td>\n",
       "      <td>0</td>\n",
       "      <td>f</td>\n",
       "      <td>госслужащий</td>\n",
       "      <td>0</td>\n",
       "      <td>NaN</td>\n",
       "      <td>сделка с подержанным автомобилем</td>\n",
       "    </tr>\n",
       "    <tr>\n",
       "      <th>55</th>\n",
       "      <td>0</td>\n",
       "      <td>2194</td>\n",
       "      <td>54</td>\n",
       "      <td>среднее</td>\n",
       "      <td>1</td>\n",
       "      <td>гражданский брак</td>\n",
       "      <td>1</td>\n",
       "      <td>f</td>\n",
       "      <td>пенсионер</td>\n",
       "      <td>1</td>\n",
       "      <td>NaN</td>\n",
       "      <td>сыграть свадьбу</td>\n",
       "    </tr>\n",
       "    <tr>\n",
       "      <th>...</th>\n",
       "      <td>...</td>\n",
       "      <td>...</td>\n",
       "      <td>...</td>\n",
       "      <td>...</td>\n",
       "      <td>...</td>\n",
       "      <td>...</td>\n",
       "      <td>...</td>\n",
       "      <td>...</td>\n",
       "      <td>...</td>\n",
       "      <td>...</td>\n",
       "      <td>...</td>\n",
       "      <td>...</td>\n",
       "    </tr>\n",
       "    <tr>\n",
       "      <th>21489</th>\n",
       "      <td>2</td>\n",
       "      <td>2194</td>\n",
       "      <td>47</td>\n",
       "      <td>среднее</td>\n",
       "      <td>1</td>\n",
       "      <td>женат / замужем</td>\n",
       "      <td>0</td>\n",
       "      <td>m</td>\n",
       "      <td>компаньон</td>\n",
       "      <td>0</td>\n",
       "      <td>NaN</td>\n",
       "      <td>сделка с автомобилем</td>\n",
       "    </tr>\n",
       "    <tr>\n",
       "      <th>21495</th>\n",
       "      <td>1</td>\n",
       "      <td>2194</td>\n",
       "      <td>50</td>\n",
       "      <td>среднее</td>\n",
       "      <td>1</td>\n",
       "      <td>гражданский брак</td>\n",
       "      <td>1</td>\n",
       "      <td>f</td>\n",
       "      <td>сотрудник</td>\n",
       "      <td>0</td>\n",
       "      <td>NaN</td>\n",
       "      <td>свадьба</td>\n",
       "    </tr>\n",
       "    <tr>\n",
       "      <th>21497</th>\n",
       "      <td>0</td>\n",
       "      <td>2194</td>\n",
       "      <td>48</td>\n",
       "      <td>высшее</td>\n",
       "      <td>0</td>\n",
       "      <td>женат / замужем</td>\n",
       "      <td>0</td>\n",
       "      <td>f</td>\n",
       "      <td>компаньон</td>\n",
       "      <td>0</td>\n",
       "      <td>NaN</td>\n",
       "      <td>строительство недвижимости</td>\n",
       "    </tr>\n",
       "    <tr>\n",
       "      <th>21502</th>\n",
       "      <td>1</td>\n",
       "      <td>2194</td>\n",
       "      <td>42</td>\n",
       "      <td>среднее</td>\n",
       "      <td>1</td>\n",
       "      <td>женат / замужем</td>\n",
       "      <td>0</td>\n",
       "      <td>f</td>\n",
       "      <td>сотрудник</td>\n",
       "      <td>0</td>\n",
       "      <td>NaN</td>\n",
       "      <td>строительство жилой недвижимости</td>\n",
       "    </tr>\n",
       "    <tr>\n",
       "      <th>21510</th>\n",
       "      <td>2</td>\n",
       "      <td>2194</td>\n",
       "      <td>28</td>\n",
       "      <td>среднее</td>\n",
       "      <td>1</td>\n",
       "      <td>женат / замужем</td>\n",
       "      <td>0</td>\n",
       "      <td>f</td>\n",
       "      <td>сотрудник</td>\n",
       "      <td>0</td>\n",
       "      <td>NaN</td>\n",
       "      <td>приобретение автомобиля</td>\n",
       "    </tr>\n",
       "  </tbody>\n",
       "</table>\n",
       "<p>2120 rows × 12 columns</p>\n",
       "</div>"
      ],
      "text/plain": [
       "       children  days_employed  dob_years education  education_id  \\\n",
       "12            0           2194         65   среднее             1   \n",
       "26            0           2194         41   среднее             1   \n",
       "29            0           2194         63   среднее             1   \n",
       "41            0           2194         50   среднее             1   \n",
       "55            0           2194         54   среднее             1   \n",
       "...         ...            ...        ...       ...           ...   \n",
       "21489         2           2194         47   среднее             1   \n",
       "21495         1           2194         50   среднее             1   \n",
       "21497         0           2194         48    высшее             0   \n",
       "21502         1           2194         42   среднее             1   \n",
       "21510         2           2194         28   среднее             1   \n",
       "\n",
       "               family_status  family_status_id gender  income_type  debt  \\\n",
       "12          гражданский брак                 1      m    пенсионер     0   \n",
       "26           женат / замужем                 0      m  госслужащий     0   \n",
       "29     не женат / не замужем                 4      f    пенсионер     0   \n",
       "41           женат / замужем                 0      f  госслужащий     0   \n",
       "55          гражданский брак                 1      f    пенсионер     1   \n",
       "...                      ...               ...    ...          ...   ...   \n",
       "21489        женат / замужем                 0      m    компаньон     0   \n",
       "21495       гражданский брак                 1      f    сотрудник     0   \n",
       "21497        женат / замужем                 0      f    компаньон     0   \n",
       "21502        женат / замужем                 0      f    сотрудник     0   \n",
       "21510        женат / замужем                 0      f    сотрудник     0   \n",
       "\n",
       "       total_income                           purpose  \n",
       "12              NaN                   сыграть свадьбу  \n",
       "26              NaN                       образование  \n",
       "29              NaN  строительство жилой недвижимости  \n",
       "41              NaN  сделка с подержанным автомобилем  \n",
       "55              NaN                   сыграть свадьбу  \n",
       "...             ...                               ...  \n",
       "21489           NaN              сделка с автомобилем  \n",
       "21495           NaN                           свадьба  \n",
       "21497           NaN        строительство недвижимости  \n",
       "21502           NaN  строительство жилой недвижимости  \n",
       "21510           NaN           приобретение автомобиля  \n",
       "\n",
       "[2120 rows x 12 columns]"
      ]
     },
     "execution_count": 47,
     "metadata": {},
     "output_type": "execute_result"
    }
   ],
   "source": [
    "data[pd.isnull(data['total_income'])] # выводим строки с пропусками NaN "
   ]
  },
  {
   "cell_type": "markdown",
   "metadata": {},
   "source": [
    "Думаю, следует перевести тип данных в int и  сделать замену пропущенных значений на медианное. Сделаем это методом  fillna(), который управляет и позволяет пользователю заменять значения NaN на свои собственные значения.\n",
    "http://espressocode.top/python-pandas-dataframe-fillna-to-replace-null-values-in-dataframe/\n",
    "И сразу проверим."
   ]
  },
  {
   "cell_type": "code",
   "execution_count": 48,
   "metadata": {},
   "outputs": [
    {
     "name": "stdout",
     "output_type": "stream",
     "text": [
      "145011.70929552132\n"
     ]
    },
    {
     "data": {
      "text/plain": [
       "145011    2120\n",
       "154199       3\n",
       "150684       3\n",
       "145603       3\n",
       "126262       3\n",
       "          ... \n",
       "300306       1\n",
       "381117       1\n",
       "70100        1\n",
       "110461       1\n",
       "82047        1\n",
       "Name: total_income, Length: 18606, dtype: int64"
      ]
     },
     "execution_count": 48,
     "metadata": {},
     "output_type": "execute_result"
    }
   ],
   "source": [
    "total_income_median = data.loc[data.loc[:, 'total_income'] != 'NaN']['total_income'].median() # считаем медианное значение\n",
    "print(total_income_median)\n",
    "data['total_income'] = data['total_income'].fillna(total_income_median)#Источник: http://espressocode.top/python-pandas-dataframe-fillna-to-replace-null-values-in-dataframe/\n",
    "data['total_income'] = data['total_income'].astype('int') # меняем тип данных\n",
    "data['total_income'].value_counts(dropna=False)"
   ]
  },
  {
   "cell_type": "markdown",
   "metadata": {},
   "source": [
    "<a name=\"chapter_2.2.12.\"></a>\n",
    "[к содержанию](#chapter_0)<br/>\n",
    "<div class=\"p-3 mb-2 bg-primary text-white\">\n",
    "<b>2.2.12. Столбец 'purpose' — цель получения кредита.</b> <br/>\n",
    "</div>"
   ]
  },
  {
   "cell_type": "code",
   "execution_count": 49,
   "metadata": {},
   "outputs": [
    {
     "data": {
      "text/plain": [
       "свадьба                                   793\n",
       "на проведение свадьбы                     773\n",
       "сыграть свадьбу                           769\n",
       "операции с недвижимостью                  675\n",
       "покупка коммерческой недвижимости         662\n",
       "покупка жилья для сдачи                   652\n",
       "операции с жильем                         652\n",
       "операции с коммерческой недвижимостью     650\n",
       "покупка жилья                             646\n",
       "жилье                                     646\n",
       "покупка жилья для семьи                   638\n",
       "строительство собственной недвижимости    635\n",
       "недвижимость                              633\n",
       "операции со своей недвижимостью           627\n",
       "строительство жилой недвижимости          625\n",
       "покупка недвижимости                      620\n",
       "покупка своего жилья                      620\n",
       "строительство недвижимости                619\n",
       "ремонт жилью                              607\n",
       "покупка жилой недвижимости                606\n",
       "на покупку своего автомобиля              505\n",
       "заняться высшим образованием              496\n",
       "автомобиль                                494\n",
       "сделка с подержанным автомобилем          486\n",
       "свой автомобиль                           479\n",
       "на покупку подержанного автомобиля        478\n",
       "автомобили                                478\n",
       "на покупку автомобиля                     472\n",
       "приобретение автомобиля                   461\n",
       "дополнительное образование                460\n",
       "сделка с автомобилем                      455\n",
       "высшее образование                        452\n",
       "образование                               447\n",
       "получение дополнительного образования     447\n",
       "получение образования                     442\n",
       "профильное образование                    436\n",
       "получение высшего образования             426\n",
       "заняться образованием                     408\n",
       "Name: purpose, dtype: int64"
      ]
     },
     "execution_count": 49,
     "metadata": {},
     "output_type": "execute_result"
    }
   ],
   "source": [
    "data['purpose'].value_counts(dropna=False) # ставим значение False для параметра dropna, чтобы учесть возможные NaN"
   ]
  },
  {
   "cell_type": "markdown",
   "metadata": {},
   "source": [
    "Судя по всему, для этого столбца нам потребуется и категоризация и лемматизация. Потому как при таком разнообразии формулировок цель кредита лучше лемматизировать, з затем добавить новый столбец в массив с данными категориями.\n",
    "Ставим библиотеку с русским языком."
   ]
  },
  {
   "cell_type": "markdown",
   "metadata": {},
   "source": [
    "Вначале используем .unique () - сохраняем все уникальные значения из столбца purpose в переменной, смотрим его и получаем его длину http://espressocode.top/python-pandas-series-unique/"
   ]
  },
  {
   "cell_type": "code",
   "execution_count": 50,
   "metadata": {},
   "outputs": [
    {
     "name": "stdout",
     "output_type": "stream",
     "text": [
      "['покупка жилья' 'приобретение автомобиля' 'дополнительное образование'\n",
      " 'сыграть свадьбу' 'операции с жильем' 'образование'\n",
      " 'на проведение свадьбы' 'покупка жилья для семьи' 'покупка недвижимости'\n",
      " 'покупка коммерческой недвижимости' 'покупка жилой недвижимости'\n",
      " 'строительство собственной недвижимости' 'недвижимость'\n",
      " 'строительство недвижимости' 'на покупку подержанного автомобиля'\n",
      " 'на покупку своего автомобиля' 'операции с коммерческой недвижимостью'\n",
      " 'строительство жилой недвижимости' 'жилье'\n",
      " 'операции со своей недвижимостью' 'автомобили' 'заняться образованием'\n",
      " 'сделка с подержанным автомобилем' 'получение образования' 'автомобиль'\n",
      " 'свадьба' 'получение дополнительного образования' 'покупка своего жилья'\n",
      " 'операции с недвижимостью' 'получение высшего образования'\n",
      " 'свой автомобиль' 'сделка с автомобилем' 'профильное образование'\n",
      " 'высшее образование' 'покупка жилья для сдачи' 'на покупку автомобиля'\n",
      " 'ремонт жилью' 'заняться высшим образованием']\n"
     ]
    },
    {
     "data": {
      "text/plain": [
       "38"
      ]
     },
     "execution_count": 50,
     "metadata": {},
     "output_type": "execute_result"
    }
   ],
   "source": [
    "purpose_arr = data['purpose'].unique()\n",
    "print(purpose_arr)\n",
    "len(purpose_arr)"
   ]
  },
  {
   "cell_type": "markdown",
   "metadata": {},
   "source": [
    "Смотрим результаты стемминга."
   ]
  },
  {
   "cell_type": "code",
   "execution_count": 51,
   "metadata": {},
   "outputs": [
    {
     "name": "stdout",
     "output_type": "stream",
     "text": [
      "Исходное слово - покупка жилья, после стемминга - покупка жил\n",
      "Исходное слово - приобретение автомобиля, после стемминга - приобретение автомобил\n",
      "Исходное слово - дополнительное образование, после стемминга - дополнительное образован\n",
      "Исходное слово - сыграть свадьбу, после стемминга - сыграть свадьб\n",
      "Исходное слово - операции с жильем, после стемминга - операции с жил\n",
      "Исходное слово - образование, после стемминга - образован\n",
      "Исходное слово - на проведение свадьбы, после стемминга - на проведение свадьб\n",
      "Исходное слово - покупка жилья для семьи, после стемминга - покупка жилья для сем\n",
      "Исходное слово - покупка недвижимости, после стемминга - покупка недвижим\n",
      "Исходное слово - покупка коммерческой недвижимости, после стемминга - покупка коммерческой недвижим\n",
      "Исходное слово - покупка жилой недвижимости, после стемминга - покупка жилой недвижим\n",
      "Исходное слово - строительство собственной недвижимости, после стемминга - строительство собственной недвижим\n",
      "Исходное слово - недвижимость, после стемминга - недвижим\n",
      "Исходное слово - строительство недвижимости, после стемминга - строительство недвижим\n",
      "Исходное слово - на покупку подержанного автомобиля, после стемминга - на покупку подержанного автомобил\n",
      "Исходное слово - на покупку своего автомобиля, после стемминга - на покупку своего автомобил\n",
      "Исходное слово - операции с коммерческой недвижимостью, после стемминга - операции с коммерческой недвижим\n",
      "Исходное слово - строительство жилой недвижимости, после стемминга - строительство жилой недвижим\n",
      "Исходное слово - жилье, после стемминга - жил\n",
      "Исходное слово - операции со своей недвижимостью, после стемминга - операции со своей недвижим\n",
      "Исходное слово - автомобили, после стемминга - автомоб\n",
      "Исходное слово - заняться образованием, после стемминга - заняться образован\n",
      "Исходное слово - сделка с подержанным автомобилем, после стемминга - сделка с подержанным автомобил\n",
      "Исходное слово - получение образования, после стемминга - получение образован\n",
      "Исходное слово - автомобиль, после стемминга - автомобил\n",
      "Исходное слово - свадьба, после стемминга - свадьб\n",
      "Исходное слово - получение дополнительного образования, после стемминга - получение дополнительного образован\n",
      "Исходное слово - покупка своего жилья, после стемминга - покупка своего жил\n",
      "Исходное слово - операции с недвижимостью, после стемминга - операции с недвижим\n",
      "Исходное слово - получение высшего образования, после стемминга - получение высшего образован\n",
      "Исходное слово - свой автомобиль, после стемминга - свой автомобил\n",
      "Исходное слово - сделка с автомобилем, после стемминга - сделка с автомобил\n",
      "Исходное слово - профильное образование, после стемминга - профильное образован\n",
      "Исходное слово - высшее образование, после стемминга - высшее образован\n",
      "Исходное слово - покупка жилья для сдачи, после стемминга - покупка жилья для сдач\n",
      "Исходное слово - на покупку автомобиля, после стемминга - на покупку автомобил\n",
      "Исходное слово - ремонт жилью, после стемминга - ремонт жил\n",
      "Исходное слово - заняться высшим образованием, после стемминга - заняться высшим образован\n"
     ]
    }
   ],
   "source": [
    "from nltk.stem import SnowballStemmer \n",
    "russian_stemmer = SnowballStemmer('russian')\n",
    "for word in purpose_arr:\n",
    "    print ('Исходное слово - ' + word + ', после стемминга - ' + russian_stemmer.stem(word)) "
   ]
  },
  {
   "cell_type": "markdown",
   "metadata": {},
   "source": [
    "Инсталлируем pymystem3"
   ]
  },
  {
   "cell_type": "code",
   "execution_count": 52,
   "metadata": {},
   "outputs": [
    {
     "name": "stdout",
     "output_type": "stream",
     "text": [
      "Requirement already satisfied: pymystem3 in c:\\users\\tachkov\\anaconda3\\lib\\site-packages (0.2.0)\n",
      "Requirement already satisfied: requests in c:\\users\\tachkov\\anaconda3\\lib\\site-packages (from pymystem3) (2.25.1)\n",
      "Requirement already satisfied: chardet<5,>=3.0.2 in c:\\users\\tachkov\\anaconda3\\lib\\site-packages (from requests->pymystem3) (4.0.0)\n",
      "Requirement already satisfied: certifi>=2017.4.17 in c:\\users\\tachkov\\anaconda3\\lib\\site-packages (from requests->pymystem3) (2020.12.5)\n",
      "Requirement already satisfied: urllib3<1.27,>=1.21.1 in c:\\users\\tachkov\\anaconda3\\lib\\site-packages (from requests->pymystem3) (1.26.4)\n",
      "Requirement already satisfied: idna<3,>=2.5 in c:\\users\\tachkov\\anaconda3\\lib\\site-packages (from requests->pymystem3) (2.10)\n",
      "Note: you may need to restart the kernel to use updated packages.\n"
     ]
    }
   ],
   "source": [
    "pip install pymystem3"
   ]
  },
  {
   "cell_type": "markdown",
   "metadata": {},
   "source": [
    "Проводим purpose_arr через pymystem3"
   ]
  },
  {
   "cell_type": "code",
   "execution_count": 53,
   "metadata": {},
   "outputs": [
    {
     "name": "stdout",
     "output_type": "stream",
     "text": [
      "[['покупка', ' ', 'жилье', '\\n'], ['приобретение', ' ', 'автомобиль', '\\n'], ['дополнительный', ' ', 'образование', '\\n'], ['сыграть', ' ', 'свадьба', '\\n'], ['операция', ' ', 'с', ' ', 'жилье', '\\n'], ['образование', '\\n'], ['на', ' ', 'проведение', ' ', 'свадьба', '\\n'], ['покупка', ' ', 'жилье', ' ', 'для', ' ', 'семья', '\\n'], ['покупка', ' ', 'недвижимость', '\\n'], ['покупка', ' ', 'коммерческий', ' ', 'недвижимость', '\\n'], ['покупка', ' ', 'жилой', ' ', 'недвижимость', '\\n'], ['строительство', ' ', 'собственный', ' ', 'недвижимость', '\\n'], ['недвижимость', '\\n'], ['строительство', ' ', 'недвижимость', '\\n'], ['на', ' ', 'покупка', ' ', 'подержать', ' ', 'автомобиль', '\\n'], ['на', ' ', 'покупка', ' ', 'свой', ' ', 'автомобиль', '\\n'], ['операция', ' ', 'с', ' ', 'коммерческий', ' ', 'недвижимость', '\\n'], ['строительство', ' ', 'жилой', ' ', 'недвижимость', '\\n'], ['жилье', '\\n'], ['операция', ' ', 'со', ' ', 'свой', ' ', 'недвижимость', '\\n'], ['автомобиль', '\\n'], ['заниматься', ' ', 'образование', '\\n'], ['сделка', ' ', 'с', ' ', 'подержанный', ' ', 'автомобиль', '\\n'], ['получение', ' ', 'образование', '\\n'], ['автомобиль', '\\n'], ['свадьба', '\\n'], ['получение', ' ', 'дополнительный', ' ', 'образование', '\\n'], ['покупка', ' ', 'свой', ' ', 'жилье', '\\n'], ['операция', ' ', 'с', ' ', 'недвижимость', '\\n'], ['получение', ' ', 'высокий', ' ', 'образование', '\\n'], ['свой', ' ', 'автомобиль', '\\n'], ['сделка', ' ', 'с', ' ', 'автомобиль', '\\n'], ['профильный', ' ', 'образование', '\\n'], ['высокий', ' ', 'образование', '\\n'], ['покупка', ' ', 'жилье', ' ', 'для', ' ', 'сдача', '\\n'], ['на', ' ', 'покупка', ' ', 'автомобиль', '\\n'], ['ремонт', ' ', 'жилье', '\\n'], ['заниматься', ' ', 'высокий', ' ', 'образование', '\\n']]\n"
     ]
    }
   ],
   "source": [
    "from pymystem3 import Mystem\n",
    "m = Mystem()\n",
    "\n",
    "lemmas = []\n",
    "for i in purpose_arr:\n",
    "    lemma = m.lemmatize(i)\n",
    "    lemmas.append(lemma)\n",
    "print(lemmas)"
   ]
  },
  {
   "cell_type": "markdown",
   "metadata": {},
   "source": [
    "Жилье, автомобиль, образование, свадьба - исчерпывающий список из лемматизации по  pymystem3"
   ]
  },
  {
   "cell_type": "markdown",
   "metadata": {},
   "source": [
    "Делаем категоризацию столбца purpose и добавляем новый столбец к нашему массиву"
   ]
  },
  {
   "cell_type": "code",
   "execution_count": 54,
   "metadata": {},
   "outputs": [
    {
     "data": {
      "text/html": [
       "<div>\n",
       "<style scoped>\n",
       "    .dataframe tbody tr th:only-of-type {\n",
       "        vertical-align: middle;\n",
       "    }\n",
       "\n",
       "    .dataframe tbody tr th {\n",
       "        vertical-align: top;\n",
       "    }\n",
       "\n",
       "    .dataframe thead th {\n",
       "        text-align: right;\n",
       "    }\n",
       "</style>\n",
       "<table border=\"1\" class=\"dataframe\">\n",
       "  <thead>\n",
       "    <tr style=\"text-align: right;\">\n",
       "      <th></th>\n",
       "      <th>children</th>\n",
       "      <th>days_employed</th>\n",
       "      <th>dob_years</th>\n",
       "      <th>education</th>\n",
       "      <th>education_id</th>\n",
       "      <th>family_status</th>\n",
       "      <th>family_status_id</th>\n",
       "      <th>gender</th>\n",
       "      <th>income_type</th>\n",
       "      <th>debt</th>\n",
       "      <th>total_income</th>\n",
       "      <th>purpose</th>\n",
       "      <th>purpose_label</th>\n",
       "    </tr>\n",
       "  </thead>\n",
       "  <tbody>\n",
       "    <tr>\n",
       "      <th>0</th>\n",
       "      <td>1</td>\n",
       "      <td>8437</td>\n",
       "      <td>42</td>\n",
       "      <td>высшее</td>\n",
       "      <td>0</td>\n",
       "      <td>женат / замужем</td>\n",
       "      <td>0</td>\n",
       "      <td>f</td>\n",
       "      <td>сотрудник</td>\n",
       "      <td>0</td>\n",
       "      <td>253875</td>\n",
       "      <td>покупка жилья</td>\n",
       "      <td>недвижимость</td>\n",
       "    </tr>\n",
       "    <tr>\n",
       "      <th>1</th>\n",
       "      <td>1</td>\n",
       "      <td>4024</td>\n",
       "      <td>36</td>\n",
       "      <td>среднее</td>\n",
       "      <td>1</td>\n",
       "      <td>женат / замужем</td>\n",
       "      <td>0</td>\n",
       "      <td>f</td>\n",
       "      <td>сотрудник</td>\n",
       "      <td>0</td>\n",
       "      <td>112080</td>\n",
       "      <td>приобретение автомобиля</td>\n",
       "      <td>автомобиль</td>\n",
       "    </tr>\n",
       "    <tr>\n",
       "      <th>2</th>\n",
       "      <td>0</td>\n",
       "      <td>5623</td>\n",
       "      <td>33</td>\n",
       "      <td>среднее</td>\n",
       "      <td>1</td>\n",
       "      <td>женат / замужем</td>\n",
       "      <td>0</td>\n",
       "      <td>m</td>\n",
       "      <td>сотрудник</td>\n",
       "      <td>0</td>\n",
       "      <td>145885</td>\n",
       "      <td>покупка жилья</td>\n",
       "      <td>недвижимость</td>\n",
       "    </tr>\n",
       "    <tr>\n",
       "      <th>3</th>\n",
       "      <td>3</td>\n",
       "      <td>4124</td>\n",
       "      <td>32</td>\n",
       "      <td>среднее</td>\n",
       "      <td>1</td>\n",
       "      <td>женат / замужем</td>\n",
       "      <td>0</td>\n",
       "      <td>m</td>\n",
       "      <td>сотрудник</td>\n",
       "      <td>0</td>\n",
       "      <td>267628</td>\n",
       "      <td>дополнительное образование</td>\n",
       "      <td>образование</td>\n",
       "    </tr>\n",
       "    <tr>\n",
       "      <th>4</th>\n",
       "      <td>0</td>\n",
       "      <td>340266</td>\n",
       "      <td>53</td>\n",
       "      <td>среднее</td>\n",
       "      <td>1</td>\n",
       "      <td>гражданский брак</td>\n",
       "      <td>1</td>\n",
       "      <td>f</td>\n",
       "      <td>пенсионер</td>\n",
       "      <td>0</td>\n",
       "      <td>158616</td>\n",
       "      <td>сыграть свадьбу</td>\n",
       "      <td>свадьба</td>\n",
       "    </tr>\n",
       "    <tr>\n",
       "      <th>5</th>\n",
       "      <td>0</td>\n",
       "      <td>926</td>\n",
       "      <td>27</td>\n",
       "      <td>высшее</td>\n",
       "      <td>0</td>\n",
       "      <td>гражданский брак</td>\n",
       "      <td>1</td>\n",
       "      <td>m</td>\n",
       "      <td>компаньон</td>\n",
       "      <td>0</td>\n",
       "      <td>255763</td>\n",
       "      <td>покупка жилья</td>\n",
       "      <td>недвижимость</td>\n",
       "    </tr>\n",
       "    <tr>\n",
       "      <th>6</th>\n",
       "      <td>0</td>\n",
       "      <td>2879</td>\n",
       "      <td>43</td>\n",
       "      <td>высшее</td>\n",
       "      <td>0</td>\n",
       "      <td>женат / замужем</td>\n",
       "      <td>0</td>\n",
       "      <td>f</td>\n",
       "      <td>компаньон</td>\n",
       "      <td>0</td>\n",
       "      <td>240525</td>\n",
       "      <td>операции с жильем</td>\n",
       "      <td>недвижимость</td>\n",
       "    </tr>\n",
       "    <tr>\n",
       "      <th>7</th>\n",
       "      <td>0</td>\n",
       "      <td>152</td>\n",
       "      <td>50</td>\n",
       "      <td>среднее</td>\n",
       "      <td>1</td>\n",
       "      <td>женат / замужем</td>\n",
       "      <td>0</td>\n",
       "      <td>m</td>\n",
       "      <td>сотрудник</td>\n",
       "      <td>0</td>\n",
       "      <td>135823</td>\n",
       "      <td>образование</td>\n",
       "      <td>образование</td>\n",
       "    </tr>\n",
       "    <tr>\n",
       "      <th>8</th>\n",
       "      <td>2</td>\n",
       "      <td>6929</td>\n",
       "      <td>35</td>\n",
       "      <td>высшее</td>\n",
       "      <td>0</td>\n",
       "      <td>гражданский брак</td>\n",
       "      <td>1</td>\n",
       "      <td>f</td>\n",
       "      <td>сотрудник</td>\n",
       "      <td>0</td>\n",
       "      <td>95856</td>\n",
       "      <td>на проведение свадьбы</td>\n",
       "      <td>свадьба</td>\n",
       "    </tr>\n",
       "    <tr>\n",
       "      <th>9</th>\n",
       "      <td>0</td>\n",
       "      <td>2188</td>\n",
       "      <td>41</td>\n",
       "      <td>среднее</td>\n",
       "      <td>1</td>\n",
       "      <td>женат / замужем</td>\n",
       "      <td>0</td>\n",
       "      <td>m</td>\n",
       "      <td>сотрудник</td>\n",
       "      <td>0</td>\n",
       "      <td>144425</td>\n",
       "      <td>покупка жилья для семьи</td>\n",
       "      <td>недвижимость</td>\n",
       "    </tr>\n",
       "  </tbody>\n",
       "</table>\n",
       "</div>"
      ],
      "text/plain": [
       "   children  days_employed  dob_years education  education_id  \\\n",
       "0         1           8437         42    высшее             0   \n",
       "1         1           4024         36   среднее             1   \n",
       "2         0           5623         33   среднее             1   \n",
       "3         3           4124         32   среднее             1   \n",
       "4         0         340266         53   среднее             1   \n",
       "5         0            926         27    высшее             0   \n",
       "6         0           2879         43    высшее             0   \n",
       "7         0            152         50   среднее             1   \n",
       "8         2           6929         35    высшее             0   \n",
       "9         0           2188         41   среднее             1   \n",
       "\n",
       "      family_status  family_status_id gender income_type  debt  total_income  \\\n",
       "0   женат / замужем                 0      f   сотрудник     0        253875   \n",
       "1   женат / замужем                 0      f   сотрудник     0        112080   \n",
       "2   женат / замужем                 0      m   сотрудник     0        145885   \n",
       "3   женат / замужем                 0      m   сотрудник     0        267628   \n",
       "4  гражданский брак                 1      f   пенсионер     0        158616   \n",
       "5  гражданский брак                 1      m   компаньон     0        255763   \n",
       "6   женат / замужем                 0      f   компаньон     0        240525   \n",
       "7   женат / замужем                 0      m   сотрудник     0        135823   \n",
       "8  гражданский брак                 1      f   сотрудник     0         95856   \n",
       "9   женат / замужем                 0      m   сотрудник     0        144425   \n",
       "\n",
       "                      purpose purpose_label  \n",
       "0               покупка жилья  недвижимость  \n",
       "1     приобретение автомобиля    автомобиль  \n",
       "2               покупка жилья  недвижимость  \n",
       "3  дополнительное образование   образование  \n",
       "4             сыграть свадьбу       свадьба  \n",
       "5               покупка жилья  недвижимость  \n",
       "6           операции с жильем  недвижимость  \n",
       "7                 образование   образование  \n",
       "8       на проведение свадьбы       свадьба  \n",
       "9     покупка жилья для семьи  недвижимость  "
      ]
     },
     "execution_count": 54,
     "metadata": {},
     "output_type": "execute_result"
    }
   ],
   "source": [
    "#def purpose_label(row):                                     # закомментировал, получалось слишком большое время для обработки\n",
    "#    lemmas_purpose = m.lemmatize(row['purpose'])            # большое время даже на предыдущей стадии\n",
    "#    if 'жилье' in lemmas_purpose:\n",
    "#        return 'недвижимость'\n",
    "#    if 'недвижимость' in lemmas_purpose:\n",
    "#        return 'недвижимость'\n",
    "#    if 'автомобиль' in lemmas_purpose:\n",
    "#        return  'автомобиль'\n",
    "#    if 'образование' in lemmas_purpose:\n",
    "#        return  'образование'\n",
    "#    if 'свадьба' in lemmas_purpose:\n",
    "#        return  'свадьба'\n",
    "#    return  'иные цели'\n",
    "#data['purpose_label'] = data.apply(purpose_label, axis=1) # добавлем столбец\n",
    "#data.head(10)\n",
    "\n",
    "def purpose_label(row):                                      # аналогичная схема с ручной обработкой, на порядки быстрее\n",
    "    lemmas_purpose = row['purpose']\n",
    "    if 'жиль' in lemmas_purpose:\n",
    "        return 'недвижимость'\n",
    "    if 'недвиж' in lemmas_purpose:\n",
    "        return 'недвижимость'\n",
    "    if 'авто' in lemmas_purpose:\n",
    "        return  'автомобиль'\n",
    "    if 'образов' in lemmas_purpose:\n",
    "        return  'образование'\n",
    "    if 'свадьб' in lemmas_purpose:\n",
    "        return  'свадьба'\n",
    "    return  'иные цели'\n",
    "data['purpose_label'] = data.apply(purpose_label, axis=1) # добавлем столбец\n",
    "data.head(10)"
   ]
  },
  {
   "cell_type": "markdown",
   "metadata": {},
   "source": [
    "Если не считаем проблем со столбцом days_employed - все готово к дальнейшему анализу."
   ]
  },
  {
   "cell_type": "markdown",
   "metadata": {},
   "source": [
    "<a name=\"chapter_3.\"></a>\n",
    "[к содержанию](#chapter_0)<br/>\n",
    "<div class=\"p-3 mb-2 bg-primary text-white\">\n",
    "<b>3. Ответы на вопросы.</b> <br/>\n",
    "</div>"
   ]
  },
  {
   "cell_type": "markdown",
   "metadata": {},
   "source": [
    "<a name=\"chapter_3.1.\"></a>\n",
    "[к содержанию](#chapter_0)<br/>\n",
    "<div class=\"p-3 mb-2 bg-primary text-white\">\n",
    "<b>3.1. Есть ли зависимость между наличием детей и возвратом кредита в срок?</b> <br/>\n",
    "</div>"
   ]
  },
  {
   "cell_type": "markdown",
   "metadata": {},
   "source": [
    "Мне не совсем кажется полностью корректным такой вопрос. Более правильно бы иметь еще и возраст детей. Тогда можно было бы поставить вопрос - как влияет ли начие маленьких детей (до определенной возраста) на возврат кредита в срок?\n",
    "\n",
    "Для ответа на имеющийся вопрос посчитаем долю имеющих просрочку сренди заемщиков, не имеющих детей и заемщиков с детьми."
   ]
  },
  {
   "cell_type": "code",
   "execution_count": 55,
   "metadata": {},
   "outputs": [
    {
     "name": "stdout",
     "output_type": "stream",
     "text": [
      "Количество клиентов без детей: 14182\n",
      "Количество клиентов без детей с debt: 1071\n",
      "Процент с debt у клиентов без детей: 7.6\n",
      "Общее количество клиентов с детьми: 7288\n",
      "Количество клиентов с детьми с debt: 670\n",
      "Процент с debt у клиентов с детьми: 9.2\n"
     ]
    }
   ],
   "source": [
    "client_child_no = len(data.loc[data['children'] == 0]) # считаем длину при условии\n",
    "client_child_yes = len(data.loc[data['children'] > 0]) # считаем длину при условии\n",
    "\n",
    "client_debt_child_no = data.loc[data['children'] == 0, 'debt'].sum() # суммируем по debt https://utyatnishna.ru/info/219763/how-do-i-sum-values-in-a-column-that-match-a-given-condition-using-pandas\n",
    "client_debt_child_yes = data.loc[data['children'] > 0, 'debt'].sum()\n",
    "\n",
    "client_debt_child_no_pr = client_debt_child_no / client_child_no * 100\n",
    "client_debt_child_yes_pr = client_debt_child_yes / client_child_yes * 100\n",
    "\n",
    "print('Количество клиентов без детей:', client_child_no)\n",
    "print('Количество клиентов без детей с debt:', client_debt_child_no)\n",
    "print('Процент с debt у клиентов без детей: {:.1f}'.format(client_debt_child_no_pr))\n",
    "print('Общее количество клиентов с детьми:', client_child_yes)  \n",
    "print('Количество клиентов с детьми с debt:', client_debt_child_yes)\n",
    "print('Процент с debt у клиентов с детьми: {:.1f}'.format(client_debt_child_yes_pr))\n"
   ]
  },
  {
   "cell_type": "markdown",
   "metadata": {},
   "source": [
    "Далее посмотрим % заемщиков с разным количеством детей."
   ]
  },
  {
   "cell_type": "code",
   "execution_count": 56,
   "metadata": {},
   "outputs": [
    {
     "data": {
      "text/html": [
       "<div>\n",
       "<style scoped>\n",
       "    .dataframe tbody tr th:only-of-type {\n",
       "        vertical-align: middle;\n",
       "    }\n",
       "\n",
       "    .dataframe tbody tr th {\n",
       "        vertical-align: top;\n",
       "    }\n",
       "\n",
       "    .dataframe thead th {\n",
       "        text-align: right;\n",
       "    }\n",
       "</style>\n",
       "<table border=\"1\" class=\"dataframe\">\n",
       "  <thead>\n",
       "    <tr style=\"text-align: right;\">\n",
       "      <th></th>\n",
       "      <th>количество клиентов</th>\n",
       "      <th>из них с debt</th>\n",
       "      <th>%</th>\n",
       "    </tr>\n",
       "    <tr>\n",
       "      <th>children</th>\n",
       "      <th></th>\n",
       "      <th></th>\n",
       "      <th></th>\n",
       "    </tr>\n",
       "  </thead>\n",
       "  <tbody>\n",
       "    <tr>\n",
       "      <th>0</th>\n",
       "      <td>14182</td>\n",
       "      <td>1071</td>\n",
       "      <td>7.551826</td>\n",
       "    </tr>\n",
       "    <tr>\n",
       "      <th>1</th>\n",
       "      <td>4856</td>\n",
       "      <td>445</td>\n",
       "      <td>9.163921</td>\n",
       "    </tr>\n",
       "    <tr>\n",
       "      <th>2</th>\n",
       "      <td>2052</td>\n",
       "      <td>194</td>\n",
       "      <td>9.454191</td>\n",
       "    </tr>\n",
       "    <tr>\n",
       "      <th>3</th>\n",
       "      <td>330</td>\n",
       "      <td>27</td>\n",
       "      <td>8.181818</td>\n",
       "    </tr>\n",
       "    <tr>\n",
       "      <th>4</th>\n",
       "      <td>41</td>\n",
       "      <td>4</td>\n",
       "      <td>9.756098</td>\n",
       "    </tr>\n",
       "    <tr>\n",
       "      <th>5</th>\n",
       "      <td>9</td>\n",
       "      <td>0</td>\n",
       "      <td>0.000000</td>\n",
       "    </tr>\n",
       "  </tbody>\n",
       "</table>\n",
       "</div>"
      ],
      "text/plain": [
       "          количество клиентов  из них с debt         %\n",
       "children                                              \n",
       "0                       14182           1071  7.551826\n",
       "1                        4856            445  9.163921\n",
       "2                        2052            194  9.454191\n",
       "3                         330             27  8.181818\n",
       "4                          41              4  9.756098\n",
       "5                           9              0  0.000000"
      ]
     },
     "execution_count": 56,
     "metadata": {},
     "output_type": "execute_result"
    }
   ],
   "source": [
    "debt_children = pd.DataFrame()\n",
    "debt_children['количество клиентов'] = data.groupby('children')['debt'].count() # считаем общее количество клиентов с таким числом детей\n",
    "debt_children['из них с debt'] = data.groupby('children')['debt'].sum() # считаем, сколько в них с задолженностью\n",
    "debt_children['%'] = debt_children['из них с debt'] / debt_children['количество клиентов'] *100 # считаем процент клиентов с задолженностью по данной группе\n",
    "debt_children.sort_values('children', ascending = True)"
   ]
  },
  {
   "cell_type": "code",
   "execution_count": 57,
   "metadata": {},
   "outputs": [
    {
     "data": {
      "text/plain": [
       "children\n",
       "0    0.075518\n",
       "1    0.091639\n",
       "2    0.094542\n",
       "3    0.081818\n",
       "4    0.097561\n",
       "5    0.000000\n",
       "Name: debt, dtype: float64"
      ]
     },
     "metadata": {},
     "output_type": "display_data"
    }
   ],
   "source": [
    "children_debt_mean = data.groupby('children')['debt'].mean()\n",
    "display(children_debt_mean)"
   ]
  },
  {
   "cell_type": "code",
   "execution_count": 58,
   "metadata": {},
   "outputs": [
    {
     "data": {
      "text/html": [
       "<div>\n",
       "<style scoped>\n",
       "    .dataframe tbody tr th:only-of-type {\n",
       "        vertical-align: middle;\n",
       "    }\n",
       "\n",
       "    .dataframe tbody tr th {\n",
       "        vertical-align: top;\n",
       "    }\n",
       "\n",
       "    .dataframe thead th {\n",
       "        text-align: right;\n",
       "    }\n",
       "</style>\n",
       "<table border=\"1\" class=\"dataframe\">\n",
       "  <thead>\n",
       "    <tr style=\"text-align: right;\">\n",
       "      <th></th>\n",
       "      <th>number_of_clients</th>\n",
       "      <th>debtors</th>\n",
       "      <th>ratio</th>\n",
       "    </tr>\n",
       "    <tr>\n",
       "      <th>children</th>\n",
       "      <th></th>\n",
       "      <th></th>\n",
       "      <th></th>\n",
       "    </tr>\n",
       "  </thead>\n",
       "  <tbody>\n",
       "    <tr>\n",
       "      <th>0</th>\n",
       "      <td>14182</td>\n",
       "      <td>1071</td>\n",
       "      <td>0.075518</td>\n",
       "    </tr>\n",
       "    <tr>\n",
       "      <th>1</th>\n",
       "      <td>4856</td>\n",
       "      <td>445</td>\n",
       "      <td>0.091639</td>\n",
       "    </tr>\n",
       "    <tr>\n",
       "      <th>2</th>\n",
       "      <td>2052</td>\n",
       "      <td>194</td>\n",
       "      <td>0.094542</td>\n",
       "    </tr>\n",
       "    <tr>\n",
       "      <th>3</th>\n",
       "      <td>330</td>\n",
       "      <td>27</td>\n",
       "      <td>0.081818</td>\n",
       "    </tr>\n",
       "    <tr>\n",
       "      <th>4</th>\n",
       "      <td>41</td>\n",
       "      <td>4</td>\n",
       "      <td>0.097561</td>\n",
       "    </tr>\n",
       "    <tr>\n",
       "      <th>5</th>\n",
       "      <td>9</td>\n",
       "      <td>0</td>\n",
       "      <td>0.000000</td>\n",
       "    </tr>\n",
       "  </tbody>\n",
       "</table>\n",
       "</div>"
      ],
      "text/plain": [
       "          number_of_clients  debtors     ratio\n",
       "children                                      \n",
       "0                     14182     1071  0.075518\n",
       "1                      4856      445  0.091639\n",
       "2                      2052      194  0.094542\n",
       "3                       330       27  0.081818\n",
       "4                        41        4  0.097561\n",
       "5                         9        0  0.000000"
      ]
     },
     "metadata": {},
     "output_type": "display_data"
    }
   ],
   "source": [
    "children_debt_mean = data.groupby('children').agg(number_of_clients=('debt','count'),debtors=('debt','sum'),ratio=('debt','mean'))\n",
    "display(children_debt_mean)"
   ]
  },
  {
   "cell_type": "markdown",
   "metadata": {},
   "source": [
    "И интересно, как влияет количество маленьких детей на регулярность платежей. Полных данных для этого не хватает, но мы можем взять клиентов с детьми с возрастом клиента до 35 лет включительно и процент клиентов из этой группы покажет тренд."
   ]
  },
  {
   "cell_type": "code",
   "execution_count": 59,
   "metadata": {},
   "outputs": [],
   "source": [
    "data_35 = copy.deepcopy(data)\n",
    "data_35 = data_35[data_35['dob_years'] <= 35]\n",
    "#data_35[data_35['dob_years'] <= 35] # сделал для просмотра"
   ]
  },
  {
   "cell_type": "code",
   "execution_count": 60,
   "metadata": {},
   "outputs": [
    {
     "name": "stdout",
     "output_type": "stream",
     "text": [
      "Возраст клиентов до 35 лет, включительно:\n",
      "\n",
      "Количество клиентов без детей: 3340\n",
      "Количество клиентов без детей с debt: 353\n",
      "Процент с debt у клиентов без детей: 10.6\n",
      "Общее количество клиентов с детьми: 3244\n",
      "Количество клиентов с детьми с debt: 345\n",
      "Процент с debt у клиентов с детьми: 10.6\n"
     ]
    }
   ],
   "source": [
    "client_child_no_35 = len(data_35.loc[data_35['children'] == 0])\n",
    "client_child_yes_35 = len(data_35.loc[data_35['children'] > 0])\n",
    "\n",
    "client_debt_child_no_35 = data_35.loc[data_35['children'] == 0, 'debt'].sum() # суммируем по debt https://utyatnishna.ru/info/219763/how-do-i-sum-values-in-a-column-that-match-a-given-condition-using-pandas\n",
    "client_debt_child_yes_35 = data_35.loc[data_35['children'] > 0, 'debt'].sum()\n",
    "\n",
    "client_debt_child_no_pr_35 = client_debt_child_no_35 / client_child_no_35 * 100\n",
    "client_debt_child_yes_pr_35 = client_debt_child_yes_35 / client_child_yes_35 * 100\n",
    "\n",
    "print('Возраст клиентов до 35 лет, включительно:')\n",
    "print('')\n",
    "print('Количество клиентов без детей:', client_child_no_35)\n",
    "print('Количество клиентов без детей с debt:', client_debt_child_no_35)\n",
    "print('Процент с debt у клиентов без детей: {:.1f}'.format(client_debt_child_no_pr_35))\n",
    "print('Общее количество клиентов с детьми:', client_child_yes_35)  \n",
    "print('Количество клиентов с детьми с debt:', client_debt_child_yes_35)\n",
    "print('Процент с debt у клиентов с детьми: {:.1f}'.format(client_debt_child_yes_pr_35))"
   ]
  },
  {
   "cell_type": "markdown",
   "metadata": {},
   "source": [
    "Так как мы получили результат вне ранее показываемого тренда, то заодно и посмотрим аналогичные цифры для клиентов старше 35 лет."
   ]
  },
  {
   "cell_type": "code",
   "execution_count": 61,
   "metadata": {},
   "outputs": [],
   "source": [
    "data_35 = copy.deepcopy(data)\n",
    "data_35 = data_35[data_35['dob_years'] > 35]\n",
    "#data_35[data_35['dob_years'] <= 35] # сделал для просмотра"
   ]
  },
  {
   "cell_type": "code",
   "execution_count": 62,
   "metadata": {},
   "outputs": [
    {
     "name": "stdout",
     "output_type": "stream",
     "text": [
      "Возраст клиентов выше 35 лет:\n",
      "\n",
      "Количество клиентов без детей: 10842\n",
      "Количество клиентов без детей с debt: 718\n",
      "Процент с debt у клиентов без детей: 6.6\n",
      "Общее количество клиентов с детьми: 4044\n",
      "Количество клиентов с детьми с debt: 325\n",
      "Процент с debt у клиентов с детьми: 8.0\n"
     ]
    }
   ],
   "source": [
    "client_child_no_35 = len(data_35.loc[data_35['children'] == 0])\n",
    "client_child_yes_35 = len(data_35.loc[data_35['children'] > 0])\n",
    "\n",
    "client_debt_child_no_35 = data_35.loc[data_35['children'] == 0, 'debt'].sum() # суммируем по debt https://utyatnishna.ru/info/219763/how-do-i-sum-values-in-a-column-that-match-a-given-condition-using-pandas\n",
    "client_debt_child_yes_35 = data_35.loc[data_35['children'] > 0, 'debt'].sum()\n",
    "\n",
    "client_debt_child_no_pr_35 = client_debt_child_no_35 / client_child_no_35 * 100\n",
    "client_debt_child_yes_pr_35 = client_debt_child_yes_35 / client_child_yes_35 * 100\n",
    "\n",
    "print('Возраст клиентов выше 35 лет:')\n",
    "print('')\n",
    "print('Количество клиентов без детей:', client_child_no_35)\n",
    "print('Количество клиентов без детей с debt:', client_debt_child_no_35)\n",
    "print('Процент с debt у клиентов без детей: {:.1f}'.format(client_debt_child_no_pr_35))\n",
    "print('Общее количество клиентов с детьми:', client_child_yes_35)  \n",
    "print('Количество клиентов с детьми с debt:', client_debt_child_yes_35)\n",
    "print('Процент с debt у клиентов с детьми: {:.1f}'.format(client_debt_child_yes_pr_35))"
   ]
  },
  {
   "cell_type": "markdown",
   "metadata": {},
   "source": [
    "> Выводы:\n",
    "    В целом цифры показывают, что процент клиентов с debt выше у клиентов с детьми. Но этот тренд действителен только для клиентов старше 35 лет. В группе клиентов до 35 лет, включительно - процент клиентов с debt одинаков и для клиентов с детьми и клиентов без детей. Также необходимо отметить, что группе клиентов до 35 лет данный процент является достаточно высоким и равен 10,6."
   ]
  },
  {
   "cell_type": "code",
   "execution_count": 63,
   "metadata": {},
   "outputs": [],
   "source": [
    "#client_debt_child_no = data.groupby('children')['debt'].value_counts() # интересное отображение, оставить в архиве\n",
    "#print(client_debt_child_no)\n",
    "#client_debt_child_no = data.groupby('debt')['children'].value_counts() # интересное отображение, оставить в архиве\n",
    "#print(client_debt_child_no)"
   ]
  },
  {
   "cell_type": "markdown",
   "metadata": {},
   "source": [
    "<a name=\"chapter_3.2.\"></a>\n",
    "[к содержанию](#chapter_0)<br/>\n",
    "<div class=\"p-3 mb-2 bg-primary text-white\">\n",
    "<b>3.2. Есть ли зависимость между семейным положением и возвратом кредита в срок?</b> <br/>\n",
    "</div>"
   ]
  },
  {
   "cell_type": "code",
   "execution_count": 64,
   "metadata": {},
   "outputs": [
    {
     "data": {
      "text/html": [
       "<div>\n",
       "<style scoped>\n",
       "    .dataframe tbody tr th:only-of-type {\n",
       "        vertical-align: middle;\n",
       "    }\n",
       "\n",
       "    .dataframe tbody tr th {\n",
       "        vertical-align: top;\n",
       "    }\n",
       "\n",
       "    .dataframe thead th {\n",
       "        text-align: right;\n",
       "    }\n",
       "</style>\n",
       "<table border=\"1\" class=\"dataframe\">\n",
       "  <thead>\n",
       "    <tr style=\"text-align: right;\">\n",
       "      <th></th>\n",
       "      <th>количество клиентов</th>\n",
       "      <th>из них с debt</th>\n",
       "      <th>%</th>\n",
       "    </tr>\n",
       "    <tr>\n",
       "      <th>family_status</th>\n",
       "      <th></th>\n",
       "      <th></th>\n",
       "      <th></th>\n",
       "    </tr>\n",
       "  </thead>\n",
       "  <tbody>\n",
       "    <tr>\n",
       "      <th>вдовец / вдова</th>\n",
       "      <td>959</td>\n",
       "      <td>63</td>\n",
       "      <td>6.569343</td>\n",
       "    </tr>\n",
       "    <tr>\n",
       "      <th>в разводе</th>\n",
       "      <td>1195</td>\n",
       "      <td>85</td>\n",
       "      <td>7.112971</td>\n",
       "    </tr>\n",
       "    <tr>\n",
       "      <th>женат / замужем</th>\n",
       "      <td>12344</td>\n",
       "      <td>931</td>\n",
       "      <td>7.542126</td>\n",
       "    </tr>\n",
       "    <tr>\n",
       "      <th>гражданский брак</th>\n",
       "      <td>4162</td>\n",
       "      <td>388</td>\n",
       "      <td>9.322441</td>\n",
       "    </tr>\n",
       "    <tr>\n",
       "      <th>не женат / не замужем</th>\n",
       "      <td>2810</td>\n",
       "      <td>274</td>\n",
       "      <td>9.750890</td>\n",
       "    </tr>\n",
       "  </tbody>\n",
       "</table>\n",
       "</div>"
      ],
      "text/plain": [
       "                       количество клиентов  из них с debt         %\n",
       "family_status                                                      \n",
       "вдовец / вдова                         959             63  6.569343\n",
       "в разводе                             1195             85  7.112971\n",
       "женат / замужем                      12344            931  7.542126\n",
       "гражданский брак                      4162            388  9.322441\n",
       "не женат / не замужем                 2810            274  9.750890"
      ]
     },
     "execution_count": 64,
     "metadata": {},
     "output_type": "execute_result"
    }
   ],
   "source": [
    "debt_family_status = pd.DataFrame()\n",
    "debt_family_status['количество клиентов'] = data.groupby('family_status')['debt'].count() # считаем общее количество клиентов с таким статусом\n",
    "debt_family_status['из них с debt'] = data.groupby('family_status')['debt'].sum() # считаем, сколько в них с задолженностью\n",
    "debt_family_status['%'] = debt_family_status['из них с debt'] / debt_family_status['количество клиентов'] *100 # считаем процент клиентов с задолженностью по данной группе\n",
    "debt_family_status.sort_values('%', ascending = True)"
   ]
  },
  {
   "cell_type": "markdown",
   "metadata": {},
   "source": [
    "Интересно посмотреть картину на выборке клиентов до 35 лет включительно."
   ]
  },
  {
   "cell_type": "code",
   "execution_count": 65,
   "metadata": {},
   "outputs": [],
   "source": [
    "data_family_status_35 = copy.deepcopy(data)\n",
    "data_family_status_35 = data_family_status_35[data_family_status_35['dob_years'] <= 35]\n",
    "#data_family_status_35[data_family_status_35['dob_years'] <= 35] # сделал для просмотра"
   ]
  },
  {
   "cell_type": "code",
   "execution_count": 66,
   "metadata": {},
   "outputs": [
    {
     "data": {
      "text/html": [
       "<div>\n",
       "<style scoped>\n",
       "    .dataframe tbody tr th:only-of-type {\n",
       "        vertical-align: middle;\n",
       "    }\n",
       "\n",
       "    .dataframe tbody tr th {\n",
       "        vertical-align: top;\n",
       "    }\n",
       "\n",
       "    .dataframe thead th {\n",
       "        text-align: right;\n",
       "    }\n",
       "</style>\n",
       "<table border=\"1\" class=\"dataframe\">\n",
       "  <thead>\n",
       "    <tr style=\"text-align: right;\">\n",
       "      <th></th>\n",
       "      <th>количество клиентов_35</th>\n",
       "      <th>из них с debt_35</th>\n",
       "      <th>%_35</th>\n",
       "    </tr>\n",
       "    <tr>\n",
       "      <th>family_status</th>\n",
       "      <th></th>\n",
       "      <th></th>\n",
       "      <th></th>\n",
       "    </tr>\n",
       "  </thead>\n",
       "  <tbody>\n",
       "    <tr>\n",
       "      <th>вдовец / вдова</th>\n",
       "      <td>20</td>\n",
       "      <td>2</td>\n",
       "      <td>10.000000</td>\n",
       "    </tr>\n",
       "    <tr>\n",
       "      <th>женат / замужем</th>\n",
       "      <td>3558</td>\n",
       "      <td>357</td>\n",
       "      <td>10.033727</td>\n",
       "    </tr>\n",
       "    <tr>\n",
       "      <th>в разводе</th>\n",
       "      <td>232</td>\n",
       "      <td>24</td>\n",
       "      <td>10.344828</td>\n",
       "    </tr>\n",
       "    <tr>\n",
       "      <th>гражданский брак</th>\n",
       "      <td>1392</td>\n",
       "      <td>151</td>\n",
       "      <td>10.847701</td>\n",
       "    </tr>\n",
       "    <tr>\n",
       "      <th>не женат / не замужем</th>\n",
       "      <td>1382</td>\n",
       "      <td>164</td>\n",
       "      <td>11.866860</td>\n",
       "    </tr>\n",
       "  </tbody>\n",
       "</table>\n",
       "</div>"
      ],
      "text/plain": [
       "                       количество клиентов_35  из них с debt_35       %_35\n",
       "family_status                                                             \n",
       "вдовец / вдова                             20                 2  10.000000\n",
       "женат / замужем                          3558               357  10.033727\n",
       "в разводе                                 232                24  10.344828\n",
       "гражданский брак                         1392               151  10.847701\n",
       "не женат / не замужем                    1382               164  11.866860"
      ]
     },
     "execution_count": 66,
     "metadata": {},
     "output_type": "execute_result"
    }
   ],
   "source": [
    "debt_family_status_35 = pd.DataFrame()\n",
    "debt_family_status_35['количество клиентов_35'] = data_family_status_35.groupby('family_status')['debt'].count() # считаем общее количество клиентов с таким статусом\n",
    "debt_family_status_35['из них с debt_35'] = data_family_status_35.groupby('family_status')['debt'].sum() # считаем, сколько в них с задолженностью\n",
    "debt_family_status_35['%_35'] = debt_family_status_35['из них с debt_35'] / debt_family_status_35['количество клиентов_35'] *100 # считаем процент клиентов с задолженностью по данной группе\n",
    "debt_family_status_35.sort_values('%_35', ascending = True)"
   ]
  },
  {
   "cell_type": "markdown",
   "metadata": {},
   "source": [
    "Соединим эти две таблицы для рассмотрения методом .merge"
   ]
  },
  {
   "cell_type": "code",
   "execution_count": 67,
   "metadata": {},
   "outputs": [
    {
     "data": {
      "text/html": [
       "<div>\n",
       "<style scoped>\n",
       "    .dataframe tbody tr th:only-of-type {\n",
       "        vertical-align: middle;\n",
       "    }\n",
       "\n",
       "    .dataframe tbody tr th {\n",
       "        vertical-align: top;\n",
       "    }\n",
       "\n",
       "    .dataframe thead th {\n",
       "        text-align: right;\n",
       "    }\n",
       "</style>\n",
       "<table border=\"1\" class=\"dataframe\">\n",
       "  <thead>\n",
       "    <tr style=\"text-align: right;\">\n",
       "      <th></th>\n",
       "      <th>количество клиентов</th>\n",
       "      <th>из них с debt</th>\n",
       "      <th>%</th>\n",
       "      <th>количество клиентов_35</th>\n",
       "      <th>из них с debt_35</th>\n",
       "      <th>%_35</th>\n",
       "    </tr>\n",
       "    <tr>\n",
       "      <th>family_status</th>\n",
       "      <th></th>\n",
       "      <th></th>\n",
       "      <th></th>\n",
       "      <th></th>\n",
       "      <th></th>\n",
       "      <th></th>\n",
       "    </tr>\n",
       "  </thead>\n",
       "  <tbody>\n",
       "    <tr>\n",
       "      <th>вдовец / вдова</th>\n",
       "      <td>959</td>\n",
       "      <td>63</td>\n",
       "      <td>6.569343</td>\n",
       "      <td>20</td>\n",
       "      <td>2</td>\n",
       "      <td>10.000000</td>\n",
       "    </tr>\n",
       "    <tr>\n",
       "      <th>в разводе</th>\n",
       "      <td>1195</td>\n",
       "      <td>85</td>\n",
       "      <td>7.112971</td>\n",
       "      <td>232</td>\n",
       "      <td>24</td>\n",
       "      <td>10.344828</td>\n",
       "    </tr>\n",
       "    <tr>\n",
       "      <th>женат / замужем</th>\n",
       "      <td>12344</td>\n",
       "      <td>931</td>\n",
       "      <td>7.542126</td>\n",
       "      <td>3558</td>\n",
       "      <td>357</td>\n",
       "      <td>10.033727</td>\n",
       "    </tr>\n",
       "    <tr>\n",
       "      <th>гражданский брак</th>\n",
       "      <td>4162</td>\n",
       "      <td>388</td>\n",
       "      <td>9.322441</td>\n",
       "      <td>1392</td>\n",
       "      <td>151</td>\n",
       "      <td>10.847701</td>\n",
       "    </tr>\n",
       "    <tr>\n",
       "      <th>не женат / не замужем</th>\n",
       "      <td>2810</td>\n",
       "      <td>274</td>\n",
       "      <td>9.750890</td>\n",
       "      <td>1382</td>\n",
       "      <td>164</td>\n",
       "      <td>11.866860</td>\n",
       "    </tr>\n",
       "  </tbody>\n",
       "</table>\n",
       "</div>"
      ],
      "text/plain": [
       "                       количество клиентов  из них с debt         %  \\\n",
       "family_status                                                         \n",
       "вдовец / вдова                         959             63  6.569343   \n",
       "в разводе                             1195             85  7.112971   \n",
       "женат / замужем                      12344            931  7.542126   \n",
       "гражданский брак                      4162            388  9.322441   \n",
       "не женат / не замужем                 2810            274  9.750890   \n",
       "\n",
       "                       количество клиентов_35  из них с debt_35       %_35  \n",
       "family_status                                                               \n",
       "вдовец / вдова                             20                 2  10.000000  \n",
       "в разводе                                 232                24  10.344828  \n",
       "женат / замужем                          3558               357  10.033727  \n",
       "гражданский брак                         1392               151  10.847701  \n",
       "не женат / не замужем                    1382               164  11.866860  "
      ]
     },
     "execution_count": 67,
     "metadata": {},
     "output_type": "execute_result"
    }
   ],
   "source": [
    "debt_family_status_all = pd.merge(debt_family_status, debt_family_status_35, # соединяем две предыдущие таблицы в одно. #how='outer' - означает, что будет NaN если значения у такого name не будет\n",
    "         left_on='family_status', right_on='family_status', how='outer')\n",
    "debt_family_status_all = debt_family_status_all # \n",
    "debt_family_status_all.sort_values('%', ascending = True)"
   ]
  },
  {
   "cell_type": "markdown",
   "metadata": {},
   "source": [
    "> Выводы:\n",
    "> Да, определенные статусы семейного положения положительно влияют на возвращаемость кредитов. \n",
    "> Лучше отдают группы (процент по debt до 7.5):\n",
    "> + вдовец / вдова\n",
    "> + в разводе\n",
    "> + женат / замужем\n",
    "\n",
    "> и хуже отдают кредиты группы (процент по debt выше 9.3):\n",
    "> + гражданский брак\n",
    "> + не женат / не замужем\n",
    "\n",
    "> Но иная картина для группы клиентов до 35 лет включительно. В ней выделяются в худшую сторону только слой не женат / не замужем. И в целом цифры %debt значимо хуже. Опять же к этой группе необходимо бОльшее внимание."
   ]
  },
  {
   "cell_type": "markdown",
   "metadata": {},
   "source": [
    "<a name=\"chapter_3.3.\"></a>\n",
    "[к содержанию](#chapter_0)<br/>\n",
    "<div class=\"p-3 mb-2 bg-primary text-white\">\n",
    "<b>3.3. Есть ли зависимость между уровнем дохода и возвратом кредита в срок?</b> <br/>\n",
    "</div>"
   ]
  },
  {
   "cell_type": "markdown",
   "metadata": {},
   "source": [
    "Вначале смотрим, как лучше разбить на группы по доходам:"
   ]
  },
  {
   "cell_type": "code",
   "execution_count": 68,
   "metadata": {},
   "outputs": [
    {
     "data": {
      "text/plain": [
       "(18422.061999999998, 581901.25]    21347\n",
       "(581901.25, 1143135.5]               109\n",
       "(1143135.5, 1704369.75]                9\n",
       "(1704369.75, 2265604.0]                5\n",
       "Name: total_income, dtype: int64"
      ]
     },
     "execution_count": 68,
     "metadata": {},
     "output_type": "execute_result"
    }
   ],
   "source": [
    "data['total_income'].value_counts(bins=4)"
   ]
  },
  {
   "cell_type": "markdown",
   "metadata": {},
   "source": [
    "Исходя из этих цифр можно разбить группы на диапазоны по 50 тыс.руб."
   ]
  },
  {
   "cell_type": "code",
   "execution_count": 69,
   "metadata": {},
   "outputs": [
    {
     "data": {
      "text/html": [
       "<div>\n",
       "<style scoped>\n",
       "    .dataframe tbody tr th:only-of-type {\n",
       "        vertical-align: middle;\n",
       "    }\n",
       "\n",
       "    .dataframe tbody tr th {\n",
       "        vertical-align: top;\n",
       "    }\n",
       "\n",
       "    .dataframe thead th {\n",
       "        text-align: right;\n",
       "    }\n",
       "</style>\n",
       "<table border=\"1\" class=\"dataframe\">\n",
       "  <thead>\n",
       "    <tr style=\"text-align: right;\">\n",
       "      <th></th>\n",
       "      <th>sum</th>\n",
       "      <th>count</th>\n",
       "      <th>%debt</th>\n",
       "    </tr>\n",
       "    <tr>\n",
       "      <th>total_income_range</th>\n",
       "      <th></th>\n",
       "      <th></th>\n",
       "      <th></th>\n",
       "    </tr>\n",
       "  </thead>\n",
       "  <tbody>\n",
       "    <tr>\n",
       "      <th>1.0</th>\n",
       "      <td>23</td>\n",
       "      <td>372</td>\n",
       "      <td>6.182796</td>\n",
       "    </tr>\n",
       "    <tr>\n",
       "      <th>2.0</th>\n",
       "      <td>331</td>\n",
       "      <td>4091</td>\n",
       "      <td>8.090931</td>\n",
       "    </tr>\n",
       "    <tr>\n",
       "      <th>3.0</th>\n",
       "      <td>661</td>\n",
       "      <td>7824</td>\n",
       "      <td>8.448364</td>\n",
       "    </tr>\n",
       "    <tr>\n",
       "      <th>4.0</th>\n",
       "      <td>368</td>\n",
       "      <td>4118</td>\n",
       "      <td>8.936377</td>\n",
       "    </tr>\n",
       "    <tr>\n",
       "      <th>5.0</th>\n",
       "      <td>164</td>\n",
       "      <td>2253</td>\n",
       "      <td>7.279183</td>\n",
       "    </tr>\n",
       "    <tr>\n",
       "      <th>6.0</th>\n",
       "      <td>88</td>\n",
       "      <td>1330</td>\n",
       "      <td>6.616541</td>\n",
       "    </tr>\n",
       "    <tr>\n",
       "      <th>7.0</th>\n",
       "      <td>24</td>\n",
       "      <td>330</td>\n",
       "      <td>7.272727</td>\n",
       "    </tr>\n",
       "    <tr>\n",
       "      <th>8.0</th>\n",
       "      <td>13</td>\n",
       "      <td>196</td>\n",
       "      <td>6.632653</td>\n",
       "    </tr>\n",
       "    <tr>\n",
       "      <th>9.0</th>\n",
       "      <td>4</td>\n",
       "      <td>110</td>\n",
       "      <td>3.636364</td>\n",
       "    </tr>\n",
       "    <tr>\n",
       "      <th>10.0</th>\n",
       "      <td>14</td>\n",
       "      <td>222</td>\n",
       "      <td>6.306306</td>\n",
       "    </tr>\n",
       "  </tbody>\n",
       "</table>\n",
       "</div>"
      ],
      "text/plain": [
       "                    sum  count     %debt\n",
       "total_income_range                      \n",
       "1.0                  23    372  6.182796\n",
       "2.0                 331   4091  8.090931\n",
       "3.0                 661   7824  8.448364\n",
       "4.0                 368   4118  8.936377\n",
       "5.0                 164   2253  7.279183\n",
       "6.0                  88   1330  6.616541\n",
       "7.0                  24    330  7.272727\n",
       "8.0                  13    196  6.632653\n",
       "9.0                   4    110  3.636364\n",
       "10.0                 14    222  6.306306"
      ]
     },
     "execution_count": 69,
     "metadata": {},
     "output_type": "execute_result"
    }
   ],
   "source": [
    "def total_income_range_name(range_value):\n",
    "    if range_value <= 50000:                            # распределение по диапазону, есть ли более короткий способ?\n",
    "        return 1\n",
    "    if range_value > 50000 and range_value <= 100000:\n",
    "        return 2\n",
    "    if range_value > 100000 and range_value <= 150000:\n",
    "        return 3\n",
    "    if range_value > 150000 and range_value <= 200000:\n",
    "        return 4\n",
    "    if range_value > 200000 and range_value <= 250000:\n",
    "        return 5\n",
    "    if range_value > 250000 and range_value <= 300000:\n",
    "        return 6\n",
    "    if range_value > 350000 and range_value <= 400000:\n",
    "        return 7\n",
    "    if range_value > 400000 and range_value <= 450000:\n",
    "        return 8\n",
    "    if range_value > 450000 and range_value <= 500000:\n",
    "        return 9\n",
    "    if range_value > 500000:\n",
    "        return 10\n",
    "        return range_value\n",
    "    \n",
    "\n",
    "data['total_income_range'] = data['total_income'].apply(total_income_range_name) # делаем дополнительный столбец total_income_range\n",
    "#print(data)\n",
    "debt_income_range = pd.DataFrame() # для отображения создаем новый dataframe\n",
    "debt_income_range['sum'] = data.groupby('total_income_range')['debt'].sum() # группируем по новому столбцу\n",
    "debt_income_range['count'] = data.groupby('total_income_range')['debt'].count()\n",
    "debt_income_range['%debt'] = debt_income_range['sum'] / debt_income_range['count'] *100\n",
    "debt_income_range.sort_values('total_income_range', ascending = True)"
   ]
  },
  {
   "cell_type": "markdown",
   "metadata": {},
   "source": [
    "Давайте также посмотрим только на клиентах до 35 лет."
   ]
  },
  {
   "cell_type": "code",
   "execution_count": 70,
   "metadata": {},
   "outputs": [],
   "source": [
    "data_income_35 = copy.deepcopy(data)\n",
    "data_income_35 = data_income_35[data_income_35['dob_years'] <= 35]\n",
    "#data_35[data_35['dob_years'] <= 35] # сделал для просмотра"
   ]
  },
  {
   "cell_type": "code",
   "execution_count": 71,
   "metadata": {},
   "outputs": [
    {
     "data": {
      "text/html": [
       "<div>\n",
       "<style scoped>\n",
       "    .dataframe tbody tr th:only-of-type {\n",
       "        vertical-align: middle;\n",
       "    }\n",
       "\n",
       "    .dataframe tbody tr th {\n",
       "        vertical-align: top;\n",
       "    }\n",
       "\n",
       "    .dataframe thead th {\n",
       "        text-align: right;\n",
       "    }\n",
       "</style>\n",
       "<table border=\"1\" class=\"dataframe\">\n",
       "  <thead>\n",
       "    <tr style=\"text-align: right;\">\n",
       "      <th></th>\n",
       "      <th>sum_35</th>\n",
       "      <th>count_35</th>\n",
       "      <th>%debt_35</th>\n",
       "    </tr>\n",
       "    <tr>\n",
       "      <th>total_income_range</th>\n",
       "      <th></th>\n",
       "      <th></th>\n",
       "      <th></th>\n",
       "    </tr>\n",
       "  </thead>\n",
       "  <tbody>\n",
       "    <tr>\n",
       "      <th>1.0</th>\n",
       "      <td>5</td>\n",
       "      <td>67</td>\n",
       "      <td>6.182796</td>\n",
       "    </tr>\n",
       "    <tr>\n",
       "      <th>2.0</th>\n",
       "      <td>127</td>\n",
       "      <td>1187</td>\n",
       "      <td>8.090931</td>\n",
       "    </tr>\n",
       "    <tr>\n",
       "      <th>3.0</th>\n",
       "      <td>287</td>\n",
       "      <td>2450</td>\n",
       "      <td>8.448364</td>\n",
       "    </tr>\n",
       "    <tr>\n",
       "      <th>4.0</th>\n",
       "      <td>146</td>\n",
       "      <td>1317</td>\n",
       "      <td>8.936377</td>\n",
       "    </tr>\n",
       "    <tr>\n",
       "      <th>5.0</th>\n",
       "      <td>62</td>\n",
       "      <td>740</td>\n",
       "      <td>7.279183</td>\n",
       "    </tr>\n",
       "    <tr>\n",
       "      <th>6.0</th>\n",
       "      <td>31</td>\n",
       "      <td>410</td>\n",
       "      <td>6.616541</td>\n",
       "    </tr>\n",
       "    <tr>\n",
       "      <th>7.0</th>\n",
       "      <td>10</td>\n",
       "      <td>87</td>\n",
       "      <td>7.272727</td>\n",
       "    </tr>\n",
       "    <tr>\n",
       "      <th>8.0</th>\n",
       "      <td>4</td>\n",
       "      <td>58</td>\n",
       "      <td>6.632653</td>\n",
       "    </tr>\n",
       "    <tr>\n",
       "      <th>9.0</th>\n",
       "      <td>2</td>\n",
       "      <td>34</td>\n",
       "      <td>3.636364</td>\n",
       "    </tr>\n",
       "    <tr>\n",
       "      <th>10.0</th>\n",
       "      <td>4</td>\n",
       "      <td>56</td>\n",
       "      <td>6.306306</td>\n",
       "    </tr>\n",
       "  </tbody>\n",
       "</table>\n",
       "</div>"
      ],
      "text/plain": [
       "                    sum_35  count_35  %debt_35\n",
       "total_income_range                            \n",
       "1.0                      5        67  6.182796\n",
       "2.0                    127      1187  8.090931\n",
       "3.0                    287      2450  8.448364\n",
       "4.0                    146      1317  8.936377\n",
       "5.0                     62       740  7.279183\n",
       "6.0                     31       410  6.616541\n",
       "7.0                     10        87  7.272727\n",
       "8.0                      4        58  6.632653\n",
       "9.0                      2        34  3.636364\n",
       "10.0                     4        56  6.306306"
      ]
     },
     "execution_count": 71,
     "metadata": {},
     "output_type": "execute_result"
    }
   ],
   "source": [
    "def total_income_range_name(range_value):\n",
    "    if range_value <= 50000:                            # распределение по диапазону, есть ли более короткий способ?\n",
    "        return 1\n",
    "    if range_value > 50000 and range_value <= 100000:\n",
    "        return 2\n",
    "    if range_value > 100000 and range_value <= 150000:\n",
    "        return 3\n",
    "    if range_value > 150000 and range_value <= 200000:\n",
    "        return 4\n",
    "    if range_value > 200000 and range_value <= 250000:\n",
    "        return 5\n",
    "    if range_value > 250000 and range_value <= 300000:\n",
    "        return 6\n",
    "    if range_value > 350000 and range_value <= 400000:\n",
    "        return 7\n",
    "    if range_value > 400000 and range_value <= 450000:\n",
    "        return 8\n",
    "    if range_value > 450000 and range_value <= 500000:\n",
    "        return 9\n",
    "    if range_value > 500000:\n",
    "        return 10\n",
    "        return range_value\n",
    "    \n",
    "\n",
    "data_income_35['total_income_range'] = data_income_35['total_income'].apply(total_income_range_name) # делаем дополнительный столбец total_income_range\n",
    "#print(data)\n",
    "debt_income_range_35 = pd.DataFrame() # для отображения создаем новый dataframe\n",
    "debt_income_range_35['sum_35'] = data_income_35.groupby('total_income_range')['debt'].sum() # группируем по новому столбцу\n",
    "debt_income_range_35['count_35'] = data_income_35.groupby('total_income_range')['debt'].count()\n",
    "debt_income_range_35['%debt_35'] = debt_income_range['sum'] / debt_income_range['count'] *100\n",
    "debt_income_range_35.sort_values('total_income_range', ascending = True)"
   ]
  },
  {
   "cell_type": "markdown",
   "metadata": {},
   "source": [
    "Соединим эти две таблицы для рассмотрения методом .merge"
   ]
  },
  {
   "cell_type": "code",
   "execution_count": 72,
   "metadata": {},
   "outputs": [
    {
     "data": {
      "text/html": [
       "<div>\n",
       "<style scoped>\n",
       "    .dataframe tbody tr th:only-of-type {\n",
       "        vertical-align: middle;\n",
       "    }\n",
       "\n",
       "    .dataframe tbody tr th {\n",
       "        vertical-align: top;\n",
       "    }\n",
       "\n",
       "    .dataframe thead th {\n",
       "        text-align: right;\n",
       "    }\n",
       "</style>\n",
       "<table border=\"1\" class=\"dataframe\">\n",
       "  <thead>\n",
       "    <tr style=\"text-align: right;\">\n",
       "      <th></th>\n",
       "      <th>sum</th>\n",
       "      <th>count</th>\n",
       "      <th>%debt</th>\n",
       "      <th>sum_35</th>\n",
       "      <th>count_35</th>\n",
       "      <th>%debt_35</th>\n",
       "    </tr>\n",
       "    <tr>\n",
       "      <th>total_income_range</th>\n",
       "      <th></th>\n",
       "      <th></th>\n",
       "      <th></th>\n",
       "      <th></th>\n",
       "      <th></th>\n",
       "      <th></th>\n",
       "    </tr>\n",
       "  </thead>\n",
       "  <tbody>\n",
       "    <tr>\n",
       "      <th>1.0</th>\n",
       "      <td>23</td>\n",
       "      <td>372</td>\n",
       "      <td>6.182796</td>\n",
       "      <td>5</td>\n",
       "      <td>67</td>\n",
       "      <td>6.182796</td>\n",
       "    </tr>\n",
       "    <tr>\n",
       "      <th>2.0</th>\n",
       "      <td>331</td>\n",
       "      <td>4091</td>\n",
       "      <td>8.090931</td>\n",
       "      <td>127</td>\n",
       "      <td>1187</td>\n",
       "      <td>8.090931</td>\n",
       "    </tr>\n",
       "    <tr>\n",
       "      <th>3.0</th>\n",
       "      <td>661</td>\n",
       "      <td>7824</td>\n",
       "      <td>8.448364</td>\n",
       "      <td>287</td>\n",
       "      <td>2450</td>\n",
       "      <td>8.448364</td>\n",
       "    </tr>\n",
       "    <tr>\n",
       "      <th>4.0</th>\n",
       "      <td>368</td>\n",
       "      <td>4118</td>\n",
       "      <td>8.936377</td>\n",
       "      <td>146</td>\n",
       "      <td>1317</td>\n",
       "      <td>8.936377</td>\n",
       "    </tr>\n",
       "    <tr>\n",
       "      <th>5.0</th>\n",
       "      <td>164</td>\n",
       "      <td>2253</td>\n",
       "      <td>7.279183</td>\n",
       "      <td>62</td>\n",
       "      <td>740</td>\n",
       "      <td>7.279183</td>\n",
       "    </tr>\n",
       "    <tr>\n",
       "      <th>6.0</th>\n",
       "      <td>88</td>\n",
       "      <td>1330</td>\n",
       "      <td>6.616541</td>\n",
       "      <td>31</td>\n",
       "      <td>410</td>\n",
       "      <td>6.616541</td>\n",
       "    </tr>\n",
       "    <tr>\n",
       "      <th>7.0</th>\n",
       "      <td>24</td>\n",
       "      <td>330</td>\n",
       "      <td>7.272727</td>\n",
       "      <td>10</td>\n",
       "      <td>87</td>\n",
       "      <td>7.272727</td>\n",
       "    </tr>\n",
       "    <tr>\n",
       "      <th>8.0</th>\n",
       "      <td>13</td>\n",
       "      <td>196</td>\n",
       "      <td>6.632653</td>\n",
       "      <td>4</td>\n",
       "      <td>58</td>\n",
       "      <td>6.632653</td>\n",
       "    </tr>\n",
       "    <tr>\n",
       "      <th>9.0</th>\n",
       "      <td>4</td>\n",
       "      <td>110</td>\n",
       "      <td>3.636364</td>\n",
       "      <td>2</td>\n",
       "      <td>34</td>\n",
       "      <td>3.636364</td>\n",
       "    </tr>\n",
       "    <tr>\n",
       "      <th>10.0</th>\n",
       "      <td>14</td>\n",
       "      <td>222</td>\n",
       "      <td>6.306306</td>\n",
       "      <td>4</td>\n",
       "      <td>56</td>\n",
       "      <td>6.306306</td>\n",
       "    </tr>\n",
       "  </tbody>\n",
       "</table>\n",
       "</div>"
      ],
      "text/plain": [
       "                    sum  count     %debt  sum_35  count_35  %debt_35\n",
       "total_income_range                                                  \n",
       "1.0                  23    372  6.182796       5        67  6.182796\n",
       "2.0                 331   4091  8.090931     127      1187  8.090931\n",
       "3.0                 661   7824  8.448364     287      2450  8.448364\n",
       "4.0                 368   4118  8.936377     146      1317  8.936377\n",
       "5.0                 164   2253  7.279183      62       740  7.279183\n",
       "6.0                  88   1330  6.616541      31       410  6.616541\n",
       "7.0                  24    330  7.272727      10        87  7.272727\n",
       "8.0                  13    196  6.632653       4        58  6.632653\n",
       "9.0                   4    110  3.636364       2        34  3.636364\n",
       "10.0                 14    222  6.306306       4        56  6.306306"
      ]
     },
     "execution_count": 72,
     "metadata": {},
     "output_type": "execute_result"
    }
   ],
   "source": [
    "debt_income_range_all = pd.merge(debt_income_range, debt_income_range_35, # соединяем две предыдущие таблицы в одно. #how='outer' - означает, что будет NaN если значения у такого name не будет\n",
    "         left_on='total_income_range', right_on='total_income_range', how='outer')\n",
    "debt_income_range_all = debt_income_range_all # \n",
    "debt_income_range_all.sort_values('total_income_range', ascending = True)"
   ]
  },
  {
   "cell_type": "markdown",
   "metadata": {},
   "source": [
    "> Выводы: Да, можно сказать, что группы с доходами от 50000 до 200000 несколько хуже возвращают кредиты. В группе до 35 лет включительно похожий тренд и в целом в группе до 35 лет процент задолженности выше, что возможно потребует более внимательного подхода к данной группе.\n",
    "Обращает на себя внимание артефакт в группе до 35 лет из диапазона от 350000 до 400000 руб. Хотя это может определяться  и малой выборкой,  малым количеством подобных клиентов."
   ]
  },
  {
   "cell_type": "markdown",
   "metadata": {},
   "source": [
    "<a name=\"chapter_3.4.\"></a>\n",
    "[к содержанию](#chapter_0)<br/>\n",
    "<div class=\"p-3 mb-2 bg-primary text-white\">\n",
    "<b>3.4. Как разные цели кредита влияют на его возврат в срок?</b> <br/>\n",
    "</div>"
   ]
  },
  {
   "cell_type": "code",
   "execution_count": 73,
   "metadata": {},
   "outputs": [
    {
     "data": {
      "text/html": [
       "<div>\n",
       "<style scoped>\n",
       "    .dataframe tbody tr th:only-of-type {\n",
       "        vertical-align: middle;\n",
       "    }\n",
       "\n",
       "    .dataframe tbody tr th {\n",
       "        vertical-align: top;\n",
       "    }\n",
       "\n",
       "    .dataframe thead th {\n",
       "        text-align: right;\n",
       "    }\n",
       "</style>\n",
       "<table border=\"1\" class=\"dataframe\">\n",
       "  <thead>\n",
       "    <tr style=\"text-align: right;\">\n",
       "      <th></th>\n",
       "      <th>количество клиентов</th>\n",
       "      <th>из них с debt</th>\n",
       "      <th>%</th>\n",
       "    </tr>\n",
       "    <tr>\n",
       "      <th>purpose_label</th>\n",
       "      <th></th>\n",
       "      <th></th>\n",
       "      <th></th>\n",
       "    </tr>\n",
       "  </thead>\n",
       "  <tbody>\n",
       "    <tr>\n",
       "      <th>недвижимость</th>\n",
       "      <td>10813</td>\n",
       "      <td>782</td>\n",
       "      <td>7.232036</td>\n",
       "    </tr>\n",
       "    <tr>\n",
       "      <th>свадьба</th>\n",
       "      <td>2335</td>\n",
       "      <td>186</td>\n",
       "      <td>7.965739</td>\n",
       "    </tr>\n",
       "    <tr>\n",
       "      <th>образование</th>\n",
       "      <td>4014</td>\n",
       "      <td>370</td>\n",
       "      <td>9.217738</td>\n",
       "    </tr>\n",
       "    <tr>\n",
       "      <th>автомобиль</th>\n",
       "      <td>4308</td>\n",
       "      <td>403</td>\n",
       "      <td>9.354689</td>\n",
       "    </tr>\n",
       "  </tbody>\n",
       "</table>\n",
       "</div>"
      ],
      "text/plain": [
       "               количество клиентов  из них с debt         %\n",
       "purpose_label                                              \n",
       "недвижимость                 10813            782  7.232036\n",
       "свадьба                       2335            186  7.965739\n",
       "образование                   4014            370  9.217738\n",
       "автомобиль                    4308            403  9.354689"
      ]
     },
     "execution_count": 73,
     "metadata": {},
     "output_type": "execute_result"
    }
   ],
   "source": [
    "debt_purpose_label = pd.DataFrame()\n",
    "debt_purpose_label['количество клиентов'] = data.groupby('purpose_label')['debt'].count() # считаем общее количество клиентов с таким статусом\n",
    "debt_purpose_label['из них с debt'] = data.groupby('purpose_label')['debt'].sum() # считаем, сколько в них с задолженностью\n",
    "debt_purpose_label['%'] = debt_purpose_label['из них с debt'] / debt_purpose_label['количество клиентов'] *100 # считаем процент клиентов с задолженностью по данной группе\n",
    "debt_purpose_label.sort_values('%', ascending = True)"
   ]
  },
  {
   "cell_type": "markdown",
   "metadata": {},
   "source": [
    "И давайте отдельно, для полноты картины, посмотрим  и группу клиентов до 35 лет, включительно. Если бы база была реальная, то было бы интересно в этом пункте сделать разные срезы. Но цель данного исследования - получить зачет ))"
   ]
  },
  {
   "cell_type": "code",
   "execution_count": 74,
   "metadata": {},
   "outputs": [],
   "source": [
    "data_purpose_label_35 = copy.deepcopy(data)\n",
    "data_purpose_label_35 = data_purpose_label_35[data_purpose_label_35['dob_years'] <= 35]\n",
    "#data_purpose_label_35[data_purpose_label_35['dob_years'] <= 35] # сделал для просмотра"
   ]
  },
  {
   "cell_type": "code",
   "execution_count": 75,
   "metadata": {},
   "outputs": [
    {
     "data": {
      "text/html": [
       "<div>\n",
       "<style scoped>\n",
       "    .dataframe tbody tr th:only-of-type {\n",
       "        vertical-align: middle;\n",
       "    }\n",
       "\n",
       "    .dataframe tbody tr th {\n",
       "        vertical-align: top;\n",
       "    }\n",
       "\n",
       "    .dataframe thead th {\n",
       "        text-align: right;\n",
       "    }\n",
       "</style>\n",
       "<table border=\"1\" class=\"dataframe\">\n",
       "  <thead>\n",
       "    <tr style=\"text-align: right;\">\n",
       "      <th></th>\n",
       "      <th>количество клиентов_35</th>\n",
       "      <th>из них с debt_35</th>\n",
       "      <th>%_35</th>\n",
       "    </tr>\n",
       "    <tr>\n",
       "      <th>purpose_label</th>\n",
       "      <th></th>\n",
       "      <th></th>\n",
       "      <th></th>\n",
       "    </tr>\n",
       "  </thead>\n",
       "  <tbody>\n",
       "    <tr>\n",
       "      <th>свадьба</th>\n",
       "      <td>727</td>\n",
       "      <td>66</td>\n",
       "      <td>9.078404</td>\n",
       "    </tr>\n",
       "    <tr>\n",
       "      <th>недвижимость</th>\n",
       "      <td>3331</td>\n",
       "      <td>311</td>\n",
       "      <td>9.336536</td>\n",
       "    </tr>\n",
       "    <tr>\n",
       "      <th>автомобиль</th>\n",
       "      <td>1287</td>\n",
       "      <td>163</td>\n",
       "      <td>12.665113</td>\n",
       "    </tr>\n",
       "    <tr>\n",
       "      <th>образование</th>\n",
       "      <td>1239</td>\n",
       "      <td>158</td>\n",
       "      <td>12.752220</td>\n",
       "    </tr>\n",
       "  </tbody>\n",
       "</table>\n",
       "</div>"
      ],
      "text/plain": [
       "               количество клиентов_35  из них с debt_35       %_35\n",
       "purpose_label                                                     \n",
       "свадьба                           727                66   9.078404\n",
       "недвижимость                     3331               311   9.336536\n",
       "автомобиль                       1287               163  12.665113\n",
       "образование                      1239               158  12.752220"
      ]
     },
     "execution_count": 75,
     "metadata": {},
     "output_type": "execute_result"
    }
   ],
   "source": [
    "debt_purpose_label_35 = pd.DataFrame()\n",
    "debt_purpose_label_35['количество клиентов_35'] = data_purpose_label_35.groupby('purpose_label')['debt'].count() # считаем общее количество клиентов с таким статусом\n",
    "debt_purpose_label_35['из них с debt_35'] = data_purpose_label_35.groupby('purpose_label')['debt'].sum() # считаем, сколько в них с задолженностью\n",
    "debt_purpose_label_35['%_35'] = debt_purpose_label_35['из них с debt_35'] / debt_purpose_label_35['количество клиентов_35'] *100 # считаем процент клиентов с задолженностью по данной группе\n",
    "debt_purpose_label_35.sort_values('%_35', ascending = True)"
   ]
  },
  {
   "cell_type": "markdown",
   "metadata": {},
   "source": [
    "Соединим эти две таблицы для совместного рассмотрения, методом .merge"
   ]
  },
  {
   "cell_type": "code",
   "execution_count": 76,
   "metadata": {},
   "outputs": [
    {
     "data": {
      "text/html": [
       "<div>\n",
       "<style scoped>\n",
       "    .dataframe tbody tr th:only-of-type {\n",
       "        vertical-align: middle;\n",
       "    }\n",
       "\n",
       "    .dataframe tbody tr th {\n",
       "        vertical-align: top;\n",
       "    }\n",
       "\n",
       "    .dataframe thead th {\n",
       "        text-align: right;\n",
       "    }\n",
       "</style>\n",
       "<table border=\"1\" class=\"dataframe\">\n",
       "  <thead>\n",
       "    <tr style=\"text-align: right;\">\n",
       "      <th></th>\n",
       "      <th>количество клиентов</th>\n",
       "      <th>из них с debt</th>\n",
       "      <th>%</th>\n",
       "      <th>количество клиентов_35</th>\n",
       "      <th>из них с debt_35</th>\n",
       "      <th>%_35</th>\n",
       "    </tr>\n",
       "    <tr>\n",
       "      <th>purpose_label</th>\n",
       "      <th></th>\n",
       "      <th></th>\n",
       "      <th></th>\n",
       "      <th></th>\n",
       "      <th></th>\n",
       "      <th></th>\n",
       "    </tr>\n",
       "  </thead>\n",
       "  <tbody>\n",
       "    <tr>\n",
       "      <th>недвижимость</th>\n",
       "      <td>10813</td>\n",
       "      <td>782</td>\n",
       "      <td>7.232036</td>\n",
       "      <td>3331</td>\n",
       "      <td>311</td>\n",
       "      <td>9.336536</td>\n",
       "    </tr>\n",
       "    <tr>\n",
       "      <th>свадьба</th>\n",
       "      <td>2335</td>\n",
       "      <td>186</td>\n",
       "      <td>7.965739</td>\n",
       "      <td>727</td>\n",
       "      <td>66</td>\n",
       "      <td>9.078404</td>\n",
       "    </tr>\n",
       "    <tr>\n",
       "      <th>образование</th>\n",
       "      <td>4014</td>\n",
       "      <td>370</td>\n",
       "      <td>9.217738</td>\n",
       "      <td>1239</td>\n",
       "      <td>158</td>\n",
       "      <td>12.752220</td>\n",
       "    </tr>\n",
       "    <tr>\n",
       "      <th>автомобиль</th>\n",
       "      <td>4308</td>\n",
       "      <td>403</td>\n",
       "      <td>9.354689</td>\n",
       "      <td>1287</td>\n",
       "      <td>163</td>\n",
       "      <td>12.665113</td>\n",
       "    </tr>\n",
       "  </tbody>\n",
       "</table>\n",
       "</div>"
      ],
      "text/plain": [
       "               количество клиентов  из них с debt         %  \\\n",
       "purpose_label                                                 \n",
       "недвижимость                 10813            782  7.232036   \n",
       "свадьба                       2335            186  7.965739   \n",
       "образование                   4014            370  9.217738   \n",
       "автомобиль                    4308            403  9.354689   \n",
       "\n",
       "               количество клиентов_35  из них с debt_35       %_35  \n",
       "purpose_label                                                       \n",
       "недвижимость                     3331               311   9.336536  \n",
       "свадьба                           727                66   9.078404  \n",
       "образование                      1239               158  12.752220  \n",
       "автомобиль                       1287               163  12.665113  "
      ]
     },
     "execution_count": 76,
     "metadata": {},
     "output_type": "execute_result"
    }
   ],
   "source": [
    "debt_purpose_label_all = pd.merge(debt_purpose_label, debt_purpose_label_35, # соединяем две предыдущие таблицы в одно. #how='outer' - означает, что будет NaN если значения у такого name не будет\n",
    "         left_on='purpose_label', right_on='purpose_label', how='outer')\n",
    "debt_purpose_label_all = debt_purpose_label_all # \n",
    "debt_purpose_label_all.sort_values('%', ascending = True)"
   ]
  },
  {
   "cell_type": "markdown",
   "metadata": {},
   "source": [
    "> Выводы: Здесь тренды похожи. И для всех клиентов и отдельно для группы клиентов до 35 лет лучшая возвращаемость при целях кредита:\n",
    "> + недвижимость\n",
    "> + свадьба\n",
    "\n",
    "> К моему удивлению, цель кредита Автомобиль - имеет худшие показатели. Может быть и сам банк более легко относится к проверкам данной группы, потому как автомобиль практически всегда в этой схеме у него находится в залоге, да еще и с полным Каско. Ликвидность автомобился такого возраста довольно высока. Поэтом, видимо, и банк позволяет себе в данном сегменте более рискованную политику.\n",
    "\n",
    "> В группе до 35 лет включительно похожий тренд и в целом в группе до 35 лет процент задолженности выше, что возможно потребует более внимательного подхода к данной группе.\n",
    "\n",
    "> Несколько удивило, что процент кредитов в каждом сегменте приблизительно совпадает в группе для  до 35 лет, совпадает с общим по всем клиентам. Думал, что реальные различия будут больше. Хотя, впрочем, эти данные могут быть и просто учебными, не коррелирующими с реальностью..."
   ]
  },
  {
   "cell_type": "markdown",
   "metadata": {},
   "source": [
    "<a name=\"chapter_4.\"></a>\n",
    "[к содержанию](#chapter_0)<br/>\n",
    "<div class=\"p-3 mb-2 bg-primary text-white\">\n",
    "<b>4. Общие выводы.</b> <br/>\n",
    "</div>"
   ]
  },
  {
   "cell_type": "markdown",
   "metadata": {},
   "source": [
    "> В целом, по полученному массиву данных удалось справиться со всеми проблемами, кроме столбца days_employed. Данный столбец имеет данные, не позволяющие его использовать. Замечено, что значимая часть ошибок в нем связана с сегментом пенсионеров. Но точная природа такого разброса в столбце не установлена. Необходимы уточнения Заказчика, если эта работа будет продолжена.\n",
    "\n",
    "> Основные выводы по всем вопросам были ранее сформулированы в этом документе. Но хотелось бы акцентировать дополнительно внимание Заказчика, что группа клиентов до 35 лет включительно по всем заданным вопросам имеет более худшие показатели. Думаю, эта особенноссть уже учитывается Заказчиком, но требует более детальной проработки.\n",
    "\n",
    "> И, пожалуй, возрастной срез претендует на более обширное исследование, хотя этого не было в задачах, поставленных Заказчиком."
   ]
  }
 ],
 "metadata": {
  "ExecuteTimeLog": [
   {
    "duration": 3027,
    "start_time": "2021-08-29T19:24:13.873Z"
   },
   {
    "duration": 42251,
    "start_time": "2021-08-29T19:23:34.653Z"
   },
   {
    "duration": 42244,
    "start_time": "2021-08-29T19:23:34.661Z"
   },
   {
    "duration": 42242,
    "start_time": "2021-08-29T19:23:34.664Z"
   },
   {
    "duration": 42240,
    "start_time": "2021-08-29T19:23:34.667Z"
   },
   {
    "duration": 42239,
    "start_time": "2021-08-29T19:23:34.669Z"
   },
   {
    "duration": 42231,
    "start_time": "2021-08-29T19:23:34.678Z"
   },
   {
    "duration": 42229,
    "start_time": "2021-08-29T19:23:34.681Z"
   },
   {
    "duration": 42224,
    "start_time": "2021-08-29T19:23:34.687Z"
   },
   {
    "duration": 42221,
    "start_time": "2021-08-29T19:23:34.691Z"
   },
   {
    "duration": 42219,
    "start_time": "2021-08-29T19:23:34.694Z"
   },
   {
    "duration": 42217,
    "start_time": "2021-08-29T19:23:34.697Z"
   },
   {
    "duration": 42216,
    "start_time": "2021-08-29T19:23:34.699Z"
   },
   {
    "duration": 42214,
    "start_time": "2021-08-29T19:23:34.701Z"
   },
   {
    "duration": 42214,
    "start_time": "2021-08-29T19:23:34.703Z"
   },
   {
    "duration": 42213,
    "start_time": "2021-08-29T19:23:34.705Z"
   },
   {
    "duration": 42211,
    "start_time": "2021-08-29T19:23:34.708Z"
   },
   {
    "duration": 42210,
    "start_time": "2021-08-29T19:23:34.710Z"
   },
   {
    "duration": 42208,
    "start_time": "2021-08-29T19:23:34.713Z"
   },
   {
    "duration": 42207,
    "start_time": "2021-08-29T19:23:34.715Z"
   },
   {
    "duration": 42205,
    "start_time": "2021-08-29T19:23:34.717Z"
   },
   {
    "duration": 42204,
    "start_time": "2021-08-29T19:23:34.719Z"
   },
   {
    "duration": 42203,
    "start_time": "2021-08-29T19:23:34.721Z"
   },
   {
    "duration": 42202,
    "start_time": "2021-08-29T19:23:34.723Z"
   },
   {
    "duration": 42200,
    "start_time": "2021-08-29T19:23:34.726Z"
   },
   {
    "duration": 42199,
    "start_time": "2021-08-29T19:23:34.728Z"
   },
   {
    "duration": 42198,
    "start_time": "2021-08-29T19:23:34.730Z"
   },
   {
    "duration": 42197,
    "start_time": "2021-08-29T19:23:34.732Z"
   },
   {
    "duration": 42195,
    "start_time": "2021-08-29T19:23:34.735Z"
   },
   {
    "duration": 42194,
    "start_time": "2021-08-29T19:23:34.737Z"
   },
   {
    "duration": 42193,
    "start_time": "2021-08-29T19:23:34.739Z"
   },
   {
    "duration": 42191,
    "start_time": "2021-08-29T19:23:34.741Z"
   },
   {
    "duration": 42190,
    "start_time": "2021-08-29T19:23:34.743Z"
   },
   {
    "duration": 42188,
    "start_time": "2021-08-29T19:23:34.746Z"
   },
   {
    "duration": 42187,
    "start_time": "2021-08-29T19:23:34.748Z"
   },
   {
    "duration": 42186,
    "start_time": "2021-08-29T19:23:34.750Z"
   },
   {
    "duration": 42185,
    "start_time": "2021-08-29T19:23:34.752Z"
   },
   {
    "duration": 42184,
    "start_time": "2021-08-29T19:23:34.754Z"
   },
   {
    "duration": 42182,
    "start_time": "2021-08-29T19:23:34.757Z"
   },
   {
    "duration": 42181,
    "start_time": "2021-08-29T19:23:34.759Z"
   },
   {
    "duration": 42179,
    "start_time": "2021-08-29T19:23:34.762Z"
   },
   {
    "duration": 42178,
    "start_time": "2021-08-29T19:23:34.764Z"
   },
   {
    "duration": 42177,
    "start_time": "2021-08-29T19:23:34.766Z"
   },
   {
    "duration": 42175,
    "start_time": "2021-08-29T19:23:34.769Z"
   },
   {
    "duration": 42174,
    "start_time": "2021-08-29T19:23:34.771Z"
   },
   {
    "duration": 42172,
    "start_time": "2021-08-29T19:23:34.774Z"
   },
   {
    "duration": 42163,
    "start_time": "2021-08-29T19:23:34.784Z"
   },
   {
    "duration": 42161,
    "start_time": "2021-08-29T19:23:34.787Z"
   },
   {
    "duration": 42159,
    "start_time": "2021-08-29T19:23:34.790Z"
   },
   {
    "duration": 42156,
    "start_time": "2021-08-29T19:23:34.793Z"
   },
   {
    "duration": 42155,
    "start_time": "2021-08-29T19:23:34.795Z"
   },
   {
    "duration": 42154,
    "start_time": "2021-08-29T19:23:34.797Z"
   },
   {
    "duration": 42153,
    "start_time": "2021-08-29T19:23:34.799Z"
   },
   {
    "duration": 42151,
    "start_time": "2021-08-29T19:23:34.802Z"
   },
   {
    "duration": 42150,
    "start_time": "2021-08-29T19:23:34.804Z"
   },
   {
    "duration": 42149,
    "start_time": "2021-08-29T19:23:34.806Z"
   },
   {
    "duration": 42148,
    "start_time": "2021-08-29T19:23:34.808Z"
   },
   {
    "duration": 42146,
    "start_time": "2021-08-29T19:23:34.811Z"
   },
   {
    "duration": 42145,
    "start_time": "2021-08-29T19:23:34.813Z"
   },
   {
    "duration": 42144,
    "start_time": "2021-08-29T19:23:34.815Z"
   },
   {
    "duration": 42143,
    "start_time": "2021-08-29T19:23:34.817Z"
   },
   {
    "duration": 42142,
    "start_time": "2021-08-29T19:23:34.819Z"
   },
   {
    "duration": 42140,
    "start_time": "2021-08-29T19:23:34.822Z"
   },
   {
    "duration": 42139,
    "start_time": "2021-08-29T19:23:34.824Z"
   },
   {
    "duration": 42138,
    "start_time": "2021-08-29T19:23:34.826Z"
   },
   {
    "duration": 42137,
    "start_time": "2021-08-29T19:23:34.828Z"
   },
   {
    "duration": 42136,
    "start_time": "2021-08-29T19:23:34.830Z"
   },
   {
    "duration": 42135,
    "start_time": "2021-08-29T19:23:34.832Z"
   },
   {
    "duration": 42132,
    "start_time": "2021-08-29T19:23:34.835Z"
   },
   {
    "duration": 42130,
    "start_time": "2021-08-29T19:23:34.838Z"
   },
   {
    "duration": 42130,
    "start_time": "2021-08-29T19:23:34.840Z"
   },
   {
    "duration": 42128,
    "start_time": "2021-08-29T19:23:34.842Z"
   },
   {
    "duration": 42126,
    "start_time": "2021-08-29T19:23:34.845Z"
   },
   {
    "duration": 229,
    "start_time": "2021-08-29T19:25:50.394Z"
   },
   {
    "duration": 232,
    "start_time": "2021-08-29T19:26:00.747Z"
   },
   {
    "duration": 53,
    "start_time": "2021-08-29T19:26:00.981Z"
   },
   {
    "duration": 5,
    "start_time": "2021-08-29T19:26:01.036Z"
   },
   {
    "duration": 46,
    "start_time": "2021-08-29T19:26:01.043Z"
   },
   {
    "duration": 32,
    "start_time": "2021-08-29T19:26:01.090Z"
   },
   {
    "duration": 24,
    "start_time": "2021-08-29T19:26:01.123Z"
   },
   {
    "duration": 20,
    "start_time": "2021-08-29T19:26:01.148Z"
   },
   {
    "duration": 7,
    "start_time": "2021-08-29T19:26:01.171Z"
   },
   {
    "duration": 15,
    "start_time": "2021-08-29T19:26:01.180Z"
   },
   {
    "duration": 11,
    "start_time": "2021-08-29T19:26:01.197Z"
   },
   {
    "duration": 34,
    "start_time": "2021-08-29T19:26:01.209Z"
   },
   {
    "duration": 12,
    "start_time": "2021-08-29T19:26:01.245Z"
   },
   {
    "duration": 27,
    "start_time": "2021-08-29T19:26:01.258Z"
   },
   {
    "duration": 18,
    "start_time": "2021-08-29T19:26:01.287Z"
   },
   {
    "duration": 7,
    "start_time": "2021-08-29T19:26:01.307Z"
   },
   {
    "duration": 8,
    "start_time": "2021-08-29T19:26:01.315Z"
   },
   {
    "duration": 17,
    "start_time": "2021-08-29T19:26:01.325Z"
   },
   {
    "duration": 16,
    "start_time": "2021-08-29T19:26:01.343Z"
   },
   {
    "duration": 266,
    "start_time": "2021-08-29T19:26:01.361Z"
   },
   {
    "duration": 42283,
    "start_time": "2021-08-29T19:25:19.347Z"
   },
   {
    "duration": 42281,
    "start_time": "2021-08-29T19:25:19.350Z"
   },
   {
    "duration": 42279,
    "start_time": "2021-08-29T19:25:19.353Z"
   },
   {
    "duration": 42277,
    "start_time": "2021-08-29T19:25:19.356Z"
   },
   {
    "duration": 42266,
    "start_time": "2021-08-29T19:25:19.368Z"
   },
   {
    "duration": 42263,
    "start_time": "2021-08-29T19:25:19.372Z"
   },
   {
    "duration": 42260,
    "start_time": "2021-08-29T19:25:19.376Z"
   },
   {
    "duration": 42258,
    "start_time": "2021-08-29T19:25:19.379Z"
   },
   {
    "duration": 42256,
    "start_time": "2021-08-29T19:25:19.382Z"
   },
   {
    "duration": 42254,
    "start_time": "2021-08-29T19:25:19.384Z"
   },
   {
    "duration": 42252,
    "start_time": "2021-08-29T19:25:19.387Z"
   },
   {
    "duration": 42251,
    "start_time": "2021-08-29T19:25:19.389Z"
   },
   {
    "duration": 42250,
    "start_time": "2021-08-29T19:25:19.391Z"
   },
   {
    "duration": 42249,
    "start_time": "2021-08-29T19:25:19.393Z"
   },
   {
    "duration": 42248,
    "start_time": "2021-08-29T19:25:19.395Z"
   },
   {
    "duration": 42247,
    "start_time": "2021-08-29T19:25:19.397Z"
   },
   {
    "duration": 42246,
    "start_time": "2021-08-29T19:25:19.399Z"
   },
   {
    "duration": 42243,
    "start_time": "2021-08-29T19:25:19.402Z"
   },
   {
    "duration": 42238,
    "start_time": "2021-08-29T19:25:19.408Z"
   },
   {
    "duration": 42236,
    "start_time": "2021-08-29T19:25:19.411Z"
   },
   {
    "duration": 42236,
    "start_time": "2021-08-29T19:25:19.413Z"
   },
   {
    "duration": 42235,
    "start_time": "2021-08-29T19:25:19.415Z"
   },
   {
    "duration": 42233,
    "start_time": "2021-08-29T19:25:19.418Z"
   },
   {
    "duration": 42227,
    "start_time": "2021-08-29T19:25:19.424Z"
   },
   {
    "duration": 42226,
    "start_time": "2021-08-29T19:25:19.426Z"
   },
   {
    "duration": 42223,
    "start_time": "2021-08-29T19:25:19.430Z"
   },
   {
    "duration": 42220,
    "start_time": "2021-08-29T19:25:19.434Z"
   },
   {
    "duration": 42214,
    "start_time": "2021-08-29T19:25:19.441Z"
   },
   {
    "duration": 42211,
    "start_time": "2021-08-29T19:25:19.445Z"
   },
   {
    "duration": 42208,
    "start_time": "2021-08-29T19:25:19.449Z"
   },
   {
    "duration": 42205,
    "start_time": "2021-08-29T19:25:19.452Z"
   },
   {
    "duration": 42198,
    "start_time": "2021-08-29T19:25:19.460Z"
   },
   {
    "duration": 42195,
    "start_time": "2021-08-29T19:25:19.464Z"
   },
   {
    "duration": 42193,
    "start_time": "2021-08-29T19:25:19.467Z"
   },
   {
    "duration": 42187,
    "start_time": "2021-08-29T19:25:19.474Z"
   },
   {
    "duration": 42184,
    "start_time": "2021-08-29T19:25:19.478Z"
   },
   {
    "duration": 42181,
    "start_time": "2021-08-29T19:25:19.481Z"
   },
   {
    "duration": 42180,
    "start_time": "2021-08-29T19:25:19.483Z"
   },
   {
    "duration": 42151,
    "start_time": "2021-08-29T19:25:19.513Z"
   },
   {
    "duration": 42133,
    "start_time": "2021-08-29T19:25:19.532Z"
   },
   {
    "duration": 42131,
    "start_time": "2021-08-29T19:25:19.534Z"
   },
   {
    "duration": 42125,
    "start_time": "2021-08-29T19:25:19.541Z"
   },
   {
    "duration": 42123,
    "start_time": "2021-08-29T19:25:19.544Z"
   },
   {
    "duration": 42122,
    "start_time": "2021-08-29T19:25:19.546Z"
   },
   {
    "duration": 42121,
    "start_time": "2021-08-29T19:25:19.548Z"
   },
   {
    "duration": 42118,
    "start_time": "2021-08-29T19:25:19.551Z"
   },
   {
    "duration": 42112,
    "start_time": "2021-08-29T19:25:19.558Z"
   },
   {
    "duration": 42110,
    "start_time": "2021-08-29T19:25:19.561Z"
   },
   {
    "duration": 42108,
    "start_time": "2021-08-29T19:25:19.564Z"
   },
   {
    "duration": 42107,
    "start_time": "2021-08-29T19:25:19.566Z"
   },
   {
    "duration": 42106,
    "start_time": "2021-08-29T19:25:19.568Z"
   },
   {
    "duration": 42099,
    "start_time": "2021-08-29T19:25:19.575Z"
   },
   {
    "duration": 42095,
    "start_time": "2021-08-29T19:25:19.580Z"
   },
   {
    "duration": 42093,
    "start_time": "2021-08-29T19:25:19.583Z"
   },
   {
    "duration": 7656,
    "start_time": "2021-08-29T19:32:08.734Z"
   },
   {
    "duration": 221,
    "start_time": "2021-08-29T19:32:16.393Z"
   },
   {
    "duration": 49,
    "start_time": "2021-08-29T19:32:16.617Z"
   },
   {
    "duration": 4,
    "start_time": "2021-08-29T19:32:16.668Z"
   },
   {
    "duration": 30,
    "start_time": "2021-08-29T19:32:16.674Z"
   },
   {
    "duration": 47,
    "start_time": "2021-08-29T19:32:16.706Z"
   },
   {
    "duration": 16,
    "start_time": "2021-08-29T19:32:16.755Z"
   },
   {
    "duration": 21,
    "start_time": "2021-08-29T19:32:16.773Z"
   },
   {
    "duration": 6,
    "start_time": "2021-08-29T19:32:16.798Z"
   },
   {
    "duration": 42,
    "start_time": "2021-08-29T19:32:16.807Z"
   },
   {
    "duration": 4,
    "start_time": "2021-08-29T19:32:16.852Z"
   },
   {
    "duration": 17,
    "start_time": "2021-08-29T19:32:16.858Z"
   },
   {
    "duration": 11,
    "start_time": "2021-08-29T19:32:16.877Z"
   },
   {
    "duration": 15,
    "start_time": "2021-08-29T19:32:16.890Z"
   },
   {
    "duration": 46,
    "start_time": "2021-08-29T19:32:16.906Z"
   },
   {
    "duration": 7,
    "start_time": "2021-08-29T19:32:16.954Z"
   },
   {
    "duration": 5,
    "start_time": "2021-08-29T19:32:16.963Z"
   },
   {
    "duration": 8,
    "start_time": "2021-08-29T19:32:16.969Z"
   },
   {
    "duration": 11,
    "start_time": "2021-08-29T19:32:16.978Z"
   },
   {
    "duration": 259,
    "start_time": "2021-08-29T19:32:16.991Z"
   },
   {
    "duration": 42242,
    "start_time": "2021-08-29T19:31:35.012Z"
   },
   {
    "duration": 42241,
    "start_time": "2021-08-29T19:31:35.014Z"
   },
   {
    "duration": 42238,
    "start_time": "2021-08-29T19:31:35.018Z"
   },
   {
    "duration": 42235,
    "start_time": "2021-08-29T19:31:35.022Z"
   },
   {
    "duration": 42233,
    "start_time": "2021-08-29T19:31:35.025Z"
   },
   {
    "duration": 42232,
    "start_time": "2021-08-29T19:31:35.027Z"
   },
   {
    "duration": 42230,
    "start_time": "2021-08-29T19:31:35.030Z"
   },
   {
    "duration": 42227,
    "start_time": "2021-08-29T19:31:35.034Z"
   },
   {
    "duration": 42225,
    "start_time": "2021-08-29T19:31:35.037Z"
   },
   {
    "duration": 42221,
    "start_time": "2021-08-29T19:31:35.042Z"
   },
   {
    "duration": 42219,
    "start_time": "2021-08-29T19:31:35.045Z"
   },
   {
    "duration": 42218,
    "start_time": "2021-08-29T19:31:35.047Z"
   },
   {
    "duration": 42213,
    "start_time": "2021-08-29T19:31:35.053Z"
   },
   {
    "duration": 42210,
    "start_time": "2021-08-29T19:31:35.057Z"
   },
   {
    "duration": 42209,
    "start_time": "2021-08-29T19:31:35.059Z"
   },
   {
    "duration": 42207,
    "start_time": "2021-08-29T19:31:35.062Z"
   },
   {
    "duration": 42205,
    "start_time": "2021-08-29T19:31:35.064Z"
   },
   {
    "duration": 42202,
    "start_time": "2021-08-29T19:31:35.068Z"
   },
   {
    "duration": 42199,
    "start_time": "2021-08-29T19:31:35.072Z"
   },
   {
    "duration": 42198,
    "start_time": "2021-08-29T19:31:35.074Z"
   },
   {
    "duration": 42196,
    "start_time": "2021-08-29T19:31:35.077Z"
   },
   {
    "duration": 42195,
    "start_time": "2021-08-29T19:31:35.079Z"
   },
   {
    "duration": 42193,
    "start_time": "2021-08-29T19:31:35.082Z"
   },
   {
    "duration": 42189,
    "start_time": "2021-08-29T19:31:35.087Z"
   },
   {
    "duration": 42188,
    "start_time": "2021-08-29T19:31:35.089Z"
   },
   {
    "duration": 42186,
    "start_time": "2021-08-29T19:31:35.092Z"
   },
   {
    "duration": 42185,
    "start_time": "2021-08-29T19:31:35.094Z"
   },
   {
    "duration": 42183,
    "start_time": "2021-08-29T19:31:35.097Z"
   },
   {
    "duration": 42180,
    "start_time": "2021-08-29T19:31:35.101Z"
   },
   {
    "duration": 42176,
    "start_time": "2021-08-29T19:31:35.106Z"
   },
   {
    "duration": 42175,
    "start_time": "2021-08-29T19:31:35.108Z"
   },
   {
    "duration": 42174,
    "start_time": "2021-08-29T19:31:35.110Z"
   },
   {
    "duration": 42172,
    "start_time": "2021-08-29T19:31:35.113Z"
   },
   {
    "duration": 42170,
    "start_time": "2021-08-29T19:31:35.116Z"
   },
   {
    "duration": 42167,
    "start_time": "2021-08-29T19:31:35.120Z"
   },
   {
    "duration": 42165,
    "start_time": "2021-08-29T19:31:35.123Z"
   },
   {
    "duration": 42129,
    "start_time": "2021-08-29T19:31:35.160Z"
   },
   {
    "duration": 42081,
    "start_time": "2021-08-29T19:31:35.208Z"
   },
   {
    "duration": 42038,
    "start_time": "2021-08-29T19:31:35.252Z"
   },
   {
    "duration": 42016,
    "start_time": "2021-08-29T19:31:35.275Z"
   },
   {
    "duration": 42063,
    "start_time": "2021-08-29T19:31:35.277Z"
   },
   {
    "duration": 42063,
    "start_time": "2021-08-29T19:31:35.279Z"
   },
   {
    "duration": 42061,
    "start_time": "2021-08-29T19:31:35.281Z"
   },
   {
    "duration": 42058,
    "start_time": "2021-08-29T19:31:35.286Z"
   },
   {
    "duration": 42056,
    "start_time": "2021-08-29T19:31:35.289Z"
   },
   {
    "duration": 42054,
    "start_time": "2021-08-29T19:31:35.291Z"
   },
   {
    "duration": 42052,
    "start_time": "2021-08-29T19:31:35.294Z"
   },
   {
    "duration": 42051,
    "start_time": "2021-08-29T19:31:35.296Z"
   },
   {
    "duration": 42050,
    "start_time": "2021-08-29T19:31:35.298Z"
   },
   {
    "duration": 42047,
    "start_time": "2021-08-29T19:31:35.303Z"
   },
   {
    "duration": 42045,
    "start_time": "2021-08-29T19:31:35.306Z"
   },
   {
    "duration": 42041,
    "start_time": "2021-08-29T19:31:35.311Z"
   },
   {
    "duration": 42040,
    "start_time": "2021-08-29T19:31:35.313Z"
   },
   {
    "duration": 42038,
    "start_time": "2021-08-29T19:31:35.316Z"
   },
   {
    "duration": 3023,
    "start_time": "2021-08-29T19:33:48.643Z"
   },
   {
    "duration": 638,
    "start_time": "2021-08-29T19:33:51.668Z"
   },
   {
    "duration": 49,
    "start_time": "2021-08-29T19:33:52.308Z"
   },
   {
    "duration": 4,
    "start_time": "2021-08-29T19:33:52.359Z"
   },
   {
    "duration": 33,
    "start_time": "2021-08-29T19:33:52.364Z"
   },
   {
    "duration": 43,
    "start_time": "2021-08-29T19:33:52.399Z"
   },
   {
    "duration": 18,
    "start_time": "2021-08-29T19:33:52.444Z"
   },
   {
    "duration": 22,
    "start_time": "2021-08-29T19:33:52.464Z"
   },
   {
    "duration": 5,
    "start_time": "2021-08-29T19:33:52.488Z"
   },
   {
    "duration": 12,
    "start_time": "2021-08-29T19:33:52.495Z"
   },
   {
    "duration": 35,
    "start_time": "2021-08-29T19:33:52.509Z"
   },
   {
    "duration": 14,
    "start_time": "2021-08-29T19:33:52.546Z"
   },
   {
    "duration": 11,
    "start_time": "2021-08-29T19:33:52.561Z"
   },
   {
    "duration": 10,
    "start_time": "2021-08-29T19:33:52.574Z"
   },
   {
    "duration": 10,
    "start_time": "2021-08-29T19:33:52.586Z"
   },
   {
    "duration": 7,
    "start_time": "2021-08-29T19:33:52.597Z"
   },
   {
    "duration": 3,
    "start_time": "2021-08-29T19:33:52.605Z"
   },
   {
    "duration": 3,
    "start_time": "2021-08-29T19:33:52.641Z"
   },
   {
    "duration": 15,
    "start_time": "2021-08-29T19:33:52.646Z"
   },
   {
    "duration": 40,
    "start_time": "2021-08-29T19:33:52.663Z"
   },
   {
    "duration": 50,
    "start_time": "2021-08-29T19:33:52.705Z"
   },
   {
    "duration": 10,
    "start_time": "2021-08-29T19:33:52.756Z"
   },
   {
    "duration": 13,
    "start_time": "2021-08-29T19:33:52.769Z"
   },
   {
    "duration": 9,
    "start_time": "2021-08-29T19:33:52.784Z"
   },
   {
    "duration": 9,
    "start_time": "2021-08-29T19:33:52.794Z"
   },
   {
    "duration": 39,
    "start_time": "2021-08-29T19:33:52.805Z"
   },
   {
    "duration": 20,
    "start_time": "2021-08-29T19:33:52.846Z"
   },
   {
    "duration": 6,
    "start_time": "2021-08-29T19:33:52.868Z"
   },
   {
    "duration": 22,
    "start_time": "2021-08-29T19:33:52.875Z"
   },
   {
    "duration": 6,
    "start_time": "2021-08-29T19:33:52.899Z"
   },
   {
    "duration": 11,
    "start_time": "2021-08-29T19:33:52.906Z"
   },
   {
    "duration": 29,
    "start_time": "2021-08-29T19:33:52.918Z"
   },
   {
    "duration": 7,
    "start_time": "2021-08-29T19:33:52.949Z"
   },
   {
    "duration": 14,
    "start_time": "2021-08-29T19:33:52.957Z"
   },
   {
    "duration": 9,
    "start_time": "2021-08-29T19:33:52.972Z"
   },
   {
    "duration": 6,
    "start_time": "2021-08-29T19:33:52.982Z"
   },
   {
    "duration": 22,
    "start_time": "2021-08-29T19:33:52.990Z"
   },
   {
    "duration": 30,
    "start_time": "2021-08-29T19:33:53.014Z"
   },
   {
    "duration": 17,
    "start_time": "2021-08-29T19:33:53.046Z"
   },
   {
    "duration": 10,
    "start_time": "2021-08-29T19:33:53.064Z"
   },
   {
    "duration": 17,
    "start_time": "2021-08-29T19:33:53.075Z"
   },
   {
    "duration": 23,
    "start_time": "2021-08-29T19:33:53.094Z"
   },
   {
    "duration": 15,
    "start_time": "2021-08-29T19:33:53.119Z"
   },
   {
    "duration": 12,
    "start_time": "2021-08-29T19:33:53.136Z"
   },
   {
    "duration": 6,
    "start_time": "2021-08-29T19:33:53.150Z"
   },
   {
    "duration": 9,
    "start_time": "2021-08-29T19:33:53.157Z"
   },
   {
    "duration": 16,
    "start_time": "2021-08-29T19:33:53.168Z"
   },
   {
    "duration": 13,
    "start_time": "2021-08-29T19:33:53.186Z"
   },
   {
    "duration": 6,
    "start_time": "2021-08-29T19:33:53.201Z"
   },
   {
    "duration": 6,
    "start_time": "2021-08-29T19:33:53.241Z"
   },
   {
    "duration": 544,
    "start_time": "2021-08-29T19:33:53.249Z"
   },
   {
    "duration": 2505,
    "start_time": "2021-08-29T19:33:53.795Z"
   },
   {
    "duration": 608,
    "start_time": "2021-08-29T19:33:56.302Z"
   },
   {
    "duration": 173,
    "start_time": "2021-08-29T19:33:56.912Z"
   },
   {
    "duration": 14,
    "start_time": "2021-08-29T19:33:57.086Z"
   },
   {
    "duration": 11,
    "start_time": "2021-08-29T19:33:57.102Z"
   },
   {
    "duration": 5,
    "start_time": "2021-08-29T19:33:57.115Z"
   },
   {
    "duration": 16,
    "start_time": "2021-08-29T19:33:57.141Z"
   },
   {
    "duration": 7,
    "start_time": "2021-08-29T19:33:57.159Z"
   },
   {
    "duration": 10,
    "start_time": "2021-08-29T19:33:57.168Z"
   },
   {
    "duration": 4,
    "start_time": "2021-08-29T19:33:57.179Z"
   },
   {
    "duration": 20,
    "start_time": "2021-08-29T19:33:57.185Z"
   },
   {
    "duration": 6,
    "start_time": "2021-08-29T19:33:57.207Z"
   },
   {
    "duration": 39,
    "start_time": "2021-08-29T19:33:57.214Z"
   },
   {
    "duration": 12,
    "start_time": "2021-08-29T19:33:57.255Z"
   },
   {
    "duration": 18,
    "start_time": "2021-08-29T19:33:57.269Z"
   },
   {
    "duration": 24,
    "start_time": "2021-08-29T19:33:57.289Z"
   },
   {
    "duration": 28,
    "start_time": "2021-08-29T19:33:57.318Z"
   },
   {
    "duration": 20,
    "start_time": "2021-08-29T19:33:57.348Z"
   },
   {
    "duration": 15,
    "start_time": "2021-08-29T19:33:57.369Z"
   },
   {
    "duration": 26,
    "start_time": "2021-08-29T19:33:57.385Z"
   },
   {
    "duration": 11,
    "start_time": "2021-08-29T19:33:57.413Z"
   },
   {
    "duration": 25,
    "start_time": "2021-08-29T19:33:57.426Z"
   },
   {
    "duration": 20,
    "start_time": "2021-08-29T19:33:57.452Z"
   },
   {
    "duration": 19,
    "start_time": "2021-08-29T19:38:38.898Z"
   },
   {
    "duration": 124,
    "start_time": "2021-08-30T04:22:43.572Z"
   },
   {
    "duration": 164,
    "start_time": "2021-08-30T04:42:08.796Z"
   },
   {
    "duration": 463,
    "start_time": "2021-08-30T05:00:15.675Z"
   },
   {
    "duration": 390,
    "start_time": "2021-08-30T05:00:51.123Z"
   },
   {
    "duration": 149,
    "start_time": "2021-08-30T05:04:05.292Z"
   },
   {
    "duration": 16163,
    "start_time": "2021-08-30T05:07:17.765Z"
   },
   {
    "duration": 855,
    "start_time": "2021-08-30T05:07:33.931Z"
   },
   {
    "duration": 90,
    "start_time": "2021-08-30T05:07:34.788Z"
   },
   {
    "duration": 5,
    "start_time": "2021-08-30T05:07:34.881Z"
   },
   {
    "duration": 68,
    "start_time": "2021-08-30T05:07:34.888Z"
   },
   {
    "duration": 64,
    "start_time": "2021-08-30T05:07:34.958Z"
   },
   {
    "duration": 25,
    "start_time": "2021-08-30T05:07:35.025Z"
   },
   {
    "duration": 34,
    "start_time": "2021-08-30T05:07:35.054Z"
   },
   {
    "duration": 7,
    "start_time": "2021-08-30T05:07:35.116Z"
   },
   {
    "duration": 33,
    "start_time": "2021-08-30T05:07:35.126Z"
   },
   {
    "duration": 12,
    "start_time": "2021-08-30T05:07:35.161Z"
   },
   {
    "duration": 37,
    "start_time": "2021-08-30T05:07:35.176Z"
   },
   {
    "duration": 36,
    "start_time": "2021-08-30T05:07:35.215Z"
   },
   {
    "duration": 20,
    "start_time": "2021-08-30T05:07:35.253Z"
   },
   {
    "duration": 24,
    "start_time": "2021-08-30T05:07:35.275Z"
   },
   {
    "duration": 10,
    "start_time": "2021-08-30T05:07:35.301Z"
   },
   {
    "duration": 10,
    "start_time": "2021-08-30T05:07:35.314Z"
   },
   {
    "duration": 35,
    "start_time": "2021-08-30T05:07:35.327Z"
   },
   {
    "duration": 20,
    "start_time": "2021-08-30T05:07:35.365Z"
   },
   {
    "duration": 75,
    "start_time": "2021-08-30T05:07:35.387Z"
   },
   {
    "duration": 44,
    "start_time": "2021-08-30T05:07:35.464Z"
   },
   {
    "duration": 13,
    "start_time": "2021-08-30T05:07:35.517Z"
   },
   {
    "duration": 28,
    "start_time": "2021-08-30T05:07:35.536Z"
   },
   {
    "duration": 19,
    "start_time": "2021-08-30T05:07:35.567Z"
   },
   {
    "duration": 31,
    "start_time": "2021-08-30T05:07:35.588Z"
   },
   {
    "duration": 16,
    "start_time": "2021-08-30T05:07:35.622Z"
   },
   {
    "duration": 27,
    "start_time": "2021-08-30T05:07:35.641Z"
   },
   {
    "duration": 8,
    "start_time": "2021-08-30T05:07:35.670Z"
   },
   {
    "duration": 52,
    "start_time": "2021-08-30T05:07:35.680Z"
   },
   {
    "duration": 7,
    "start_time": "2021-08-30T05:07:35.734Z"
   },
   {
    "duration": 26,
    "start_time": "2021-08-30T05:07:35.743Z"
   },
   {
    "duration": 16,
    "start_time": "2021-08-30T05:07:35.772Z"
   },
   {
    "duration": 32,
    "start_time": "2021-08-30T05:07:35.790Z"
   },
   {
    "duration": 26,
    "start_time": "2021-08-30T05:07:35.826Z"
   },
   {
    "duration": 21,
    "start_time": "2021-08-30T05:07:35.855Z"
   },
   {
    "duration": 24,
    "start_time": "2021-08-30T05:07:35.879Z"
   },
   {
    "duration": 44,
    "start_time": "2021-08-30T05:07:35.906Z"
   },
   {
    "duration": 20,
    "start_time": "2021-08-30T05:07:35.953Z"
   },
   {
    "duration": 32,
    "start_time": "2021-08-30T05:07:35.976Z"
   },
   {
    "duration": 11,
    "start_time": "2021-08-30T05:07:36.012Z"
   },
   {
    "duration": 21,
    "start_time": "2021-08-30T05:07:36.026Z"
   },
   {
    "duration": 36,
    "start_time": "2021-08-30T05:07:36.050Z"
   },
   {
    "duration": 17,
    "start_time": "2021-08-30T05:07:36.089Z"
   },
   {
    "duration": 9,
    "start_time": "2021-08-30T05:07:36.117Z"
   },
   {
    "duration": 14,
    "start_time": "2021-08-30T05:07:36.128Z"
   },
   {
    "duration": 25,
    "start_time": "2021-08-30T05:07:36.144Z"
   },
   {
    "duration": 47,
    "start_time": "2021-08-30T05:07:36.172Z"
   },
   {
    "duration": 20,
    "start_time": "2021-08-30T05:07:36.221Z"
   },
   {
    "duration": 21,
    "start_time": "2021-08-30T05:07:36.243Z"
   },
   {
    "duration": 27,
    "start_time": "2021-08-30T05:07:36.266Z"
   },
   {
    "duration": 743,
    "start_time": "2021-08-30T05:07:36.295Z"
   },
   {
    "duration": 3287,
    "start_time": "2021-08-30T05:07:37.041Z"
   },
   {
    "duration": 880,
    "start_time": "2021-08-30T05:07:40.331Z"
   },
   {
    "duration": 315,
    "start_time": "2021-08-30T05:07:41.217Z"
   },
   {
    "duration": 20,
    "start_time": "2021-08-30T05:07:41.536Z"
   },
   {
    "duration": 20,
    "start_time": "2021-08-30T05:07:41.558Z"
   },
   {
    "duration": 41,
    "start_time": "2021-08-30T05:07:41.581Z"
   },
   {
    "duration": 14,
    "start_time": "2021-08-30T05:07:41.625Z"
   },
   {
    "duration": 11,
    "start_time": "2021-08-30T05:07:41.641Z"
   },
   {
    "duration": 15,
    "start_time": "2021-08-30T05:07:41.654Z"
   },
   {
    "duration": 2,
    "start_time": "2021-08-30T05:07:41.672Z"
   },
   {
    "duration": 25,
    "start_time": "2021-08-30T05:07:41.717Z"
   },
   {
    "duration": 8,
    "start_time": "2021-08-30T05:07:41.744Z"
   },
   {
    "duration": 19,
    "start_time": "2021-08-30T05:07:41.754Z"
   },
   {
    "duration": 51,
    "start_time": "2021-08-30T05:07:41.776Z"
   },
   {
    "duration": 26,
    "start_time": "2021-08-30T05:07:41.829Z"
   },
   {
    "duration": 38,
    "start_time": "2021-08-30T05:07:41.857Z"
   },
   {
    "duration": 9,
    "start_time": "2021-08-30T05:07:41.920Z"
   },
   {
    "duration": 35,
    "start_time": "2021-08-30T05:07:41.932Z"
   },
   {
    "duration": 19,
    "start_time": "2021-08-30T05:07:41.970Z"
   },
   {
    "duration": 44,
    "start_time": "2021-08-30T05:07:41.991Z"
   },
   {
    "duration": 8,
    "start_time": "2021-08-30T05:07:42.037Z"
   },
   {
    "duration": 19,
    "start_time": "2021-08-30T05:07:42.048Z"
   },
   {
    "duration": 52,
    "start_time": "2021-08-30T05:07:42.070Z"
   },
   {
    "duration": 13,
    "start_time": "2021-08-30T05:08:15.537Z"
   },
   {
    "duration": 6,
    "start_time": "2021-08-30T05:08:34.977Z"
   },
   {
    "duration": 12,
    "start_time": "2021-08-30T05:08:53.332Z"
   },
   {
    "duration": 4080,
    "start_time": "2021-08-30T05:09:00.927Z"
   },
   {
    "duration": 871,
    "start_time": "2021-08-30T05:09:05.010Z"
   },
   {
    "duration": 86,
    "start_time": "2021-08-30T05:09:05.889Z"
   },
   {
    "duration": 4,
    "start_time": "2021-08-30T05:09:05.978Z"
   },
   {
    "duration": 71,
    "start_time": "2021-08-30T05:09:05.984Z"
   },
   {
    "duration": 60,
    "start_time": "2021-08-30T05:09:06.058Z"
   },
   {
    "duration": 25,
    "start_time": "2021-08-30T05:09:06.123Z"
   },
   {
    "duration": 34,
    "start_time": "2021-08-30T05:09:06.150Z"
   },
   {
    "duration": 7,
    "start_time": "2021-08-30T05:09:06.216Z"
   },
   {
    "duration": 19,
    "start_time": "2021-08-30T05:09:06.226Z"
   },
   {
    "duration": 9,
    "start_time": "2021-08-30T05:09:06.248Z"
   },
   {
    "duration": 70,
    "start_time": "2021-08-30T05:09:06.259Z"
   },
   {
    "duration": 16,
    "start_time": "2021-08-30T05:09:06.332Z"
   },
   {
    "duration": 17,
    "start_time": "2021-08-30T05:09:06.351Z"
   },
   {
    "duration": 54,
    "start_time": "2021-08-30T05:09:06.371Z"
   },
   {
    "duration": 10,
    "start_time": "2021-08-30T05:09:06.428Z"
   },
   {
    "duration": 3,
    "start_time": "2021-08-30T05:09:06.441Z"
   },
   {
    "duration": 10,
    "start_time": "2021-08-30T05:09:06.446Z"
   },
   {
    "duration": 19,
    "start_time": "2021-08-30T05:09:06.458Z"
   },
   {
    "duration": 62,
    "start_time": "2021-08-30T05:09:06.516Z"
   },
   {
    "duration": 60,
    "start_time": "2021-08-30T05:09:06.580Z"
   },
   {
    "duration": 14,
    "start_time": "2021-08-30T05:09:06.646Z"
   },
   {
    "duration": 18,
    "start_time": "2021-08-30T05:09:06.663Z"
   },
   {
    "duration": 44,
    "start_time": "2021-08-30T05:09:06.684Z"
   },
   {
    "duration": 7,
    "start_time": "2021-08-30T05:09:06.730Z"
   },
   {
    "duration": 18,
    "start_time": "2021-08-30T05:09:06.740Z"
   },
   {
    "duration": 67,
    "start_time": "2021-08-30T05:09:06.761Z"
   },
   {
    "duration": 10,
    "start_time": "2021-08-30T05:09:06.831Z"
   },
   {
    "duration": 23,
    "start_time": "2021-08-30T05:09:06.844Z"
   },
   {
    "duration": 8,
    "start_time": "2021-08-30T05:09:06.870Z"
   },
   {
    "duration": 43,
    "start_time": "2021-08-30T05:09:06.881Z"
   },
   {
    "duration": 14,
    "start_time": "2021-08-30T05:09:06.926Z"
   },
   {
    "duration": 11,
    "start_time": "2021-08-30T05:09:06.943Z"
   },
   {
    "duration": 13,
    "start_time": "2021-08-30T05:09:06.956Z"
   },
   {
    "duration": 55,
    "start_time": "2021-08-30T05:09:06.971Z"
   },
   {
    "duration": 10,
    "start_time": "2021-08-30T05:09:07.029Z"
   },
   {
    "duration": 23,
    "start_time": "2021-08-30T05:09:07.041Z"
   },
   {
    "duration": 8,
    "start_time": "2021-08-30T05:09:07.067Z"
   },
   {
    "duration": 47,
    "start_time": "2021-08-30T05:09:07.077Z"
   },
   {
    "duration": 12,
    "start_time": "2021-08-30T05:09:07.126Z"
   },
   {
    "duration": 13,
    "start_time": "2021-08-30T05:09:07.140Z"
   },
   {
    "duration": 21,
    "start_time": "2021-08-30T05:09:07.155Z"
   },
   {
    "duration": 50,
    "start_time": "2021-08-30T05:09:07.178Z"
   },
   {
    "duration": 9,
    "start_time": "2021-08-30T05:09:07.231Z"
   },
   {
    "duration": 12,
    "start_time": "2021-08-30T05:09:07.242Z"
   },
   {
    "duration": 24,
    "start_time": "2021-08-30T05:09:07.257Z"
   },
   {
    "duration": 50,
    "start_time": "2021-08-30T05:09:07.283Z"
   },
   {
    "duration": 19,
    "start_time": "2021-08-30T05:09:07.336Z"
   },
   {
    "duration": 8,
    "start_time": "2021-08-30T05:09:07.358Z"
   },
   {
    "duration": 14,
    "start_time": "2021-08-30T05:09:07.368Z"
   },
   {
    "duration": 750,
    "start_time": "2021-08-30T05:09:07.417Z"
   },
   {
    "duration": 3228,
    "start_time": "2021-08-30T05:09:08.169Z"
   },
   {
    "duration": 896,
    "start_time": "2021-08-30T05:09:11.399Z"
   },
   {
    "duration": 437,
    "start_time": "2021-08-30T05:09:12.297Z"
   },
   {
    "duration": 19,
    "start_time": "2021-08-30T05:09:12.736Z"
   },
   {
    "duration": 31,
    "start_time": "2021-08-30T05:09:12.758Z"
   },
   {
    "duration": 10,
    "start_time": "2021-08-30T05:09:12.791Z"
   },
   {
    "duration": 14,
    "start_time": "2021-08-30T05:09:12.817Z"
   },
   {
    "duration": 9,
    "start_time": "2021-08-30T05:09:12.833Z"
   },
   {
    "duration": 17,
    "start_time": "2021-08-30T05:09:12.844Z"
   },
   {
    "duration": 6,
    "start_time": "2021-08-30T05:09:12.864Z"
   },
   {
    "duration": 64,
    "start_time": "2021-08-30T05:09:12.872Z"
   },
   {
    "duration": 8,
    "start_time": "2021-08-30T05:09:12.938Z"
   },
   {
    "duration": 21,
    "start_time": "2021-08-30T05:09:12.948Z"
   },
   {
    "duration": 50,
    "start_time": "2021-08-30T05:09:12.972Z"
   },
   {
    "duration": 16,
    "start_time": "2021-08-30T05:09:13.025Z"
   },
   {
    "duration": 38,
    "start_time": "2021-08-30T05:09:13.049Z"
   },
   {
    "duration": 34,
    "start_time": "2021-08-30T05:09:13.089Z"
   },
   {
    "duration": 31,
    "start_time": "2021-08-30T05:09:13.125Z"
   },
   {
    "duration": 20,
    "start_time": "2021-08-30T05:09:13.158Z"
   },
   {
    "duration": 63,
    "start_time": "2021-08-30T05:09:13.180Z"
   },
   {
    "duration": 8,
    "start_time": "2021-08-30T05:09:13.245Z"
   },
   {
    "duration": 20,
    "start_time": "2021-08-30T05:09:13.256Z"
   },
   {
    "duration": 48,
    "start_time": "2021-08-30T05:09:13.278Z"
   },
   {
    "duration": 131,
    "start_time": "2021-08-30T05:14:10.592Z"
   },
   {
    "duration": 139,
    "start_time": "2021-08-30T05:41:49.158Z"
   },
   {
    "duration": 11,
    "start_time": "2021-08-30T05:47:17.662Z"
   },
   {
    "duration": 13,
    "start_time": "2021-08-30T05:47:45.971Z"
   },
   {
    "duration": 122,
    "start_time": "2021-08-30T05:49:35.757Z"
   },
   {
    "duration": 132,
    "start_time": "2021-08-30T05:56:03.625Z"
   },
   {
    "duration": 8,
    "start_time": "2021-08-30T06:01:12.460Z"
   },
   {
    "duration": 307,
    "start_time": "2021-08-31T01:54:21.119Z"
   }
  ],
  "kernelspec": {
   "display_name": "Python 3",
   "language": "python",
   "name": "python3"
  },
  "language_info": {
   "codemirror_mode": {
    "name": "ipython",
    "version": 3
   },
   "file_extension": ".py",
   "mimetype": "text/x-python",
   "name": "python",
   "nbconvert_exporter": "python",
   "pygments_lexer": "ipython3",
   "version": "3.8.8"
  },
  "toc": {
   "base_numbering": 1,
   "nav_menu": {},
   "number_sections": true,
   "sideBar": true,
   "skip_h1_title": true,
   "title_cell": "Table of Contents",
   "title_sidebar": "Contents",
   "toc_cell": false,
   "toc_position": {},
   "toc_section_display": true,
   "toc_window_display": false
  }
 },
 "nbformat": 4,
 "nbformat_minor": 2
}
