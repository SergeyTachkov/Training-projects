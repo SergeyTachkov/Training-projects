{
 "cells": [
  {
   "cell_type": "markdown",
   "metadata": {
    "toc": true
   },
   "source": [
    "<h1>Содержание<span class=\"tocSkip\"></span></h1>\n",
    "<div class=\"toc\"><ul class=\"toc-item\"></ul></div>"
   ]
  },
  {
   "cell_type": "markdown",
   "metadata": {},
   "source": [
    "**Проведение средствами SQL анализа данных  сервиса для чтения книг по подписке.** <br>\n",
    "<b>Цель исследования:</b><br>\n",
    "Куплен крупный сервис для чтения книг по подписке. Необходимо проанализировать базу данных.<br>\n",
    "В ней — информация о книгах, издательствах, авторах, а также пользовательские обзоры книг. Эти данные помогут сформулировать ценностное предложение для нового продукта.<br><br>\n",
    "<b>Задание:</b> <br>\n",
    "- Посчитайте, сколько книг вышло после 1 января 2000 года;<br>\n",
    "- Для каждой книги посчитайте количество обзоров и среднюю оценку;<br>\n",
    "- Определите издательство, которое выпустило наибольшее число книг толще 50 страниц — так вы исключите из анализа брошюры;<br>\n",
    "- Определите автора с самой высокой средней оценкой книг — учитывайте только книги с 50 и более оценками;<br>\n",
    "- Посчитайте среднее количество обзоров от пользователей, которые поставили больше 50 оценок.<br>\n",
    "- Получите ответы, используя только язык запросов SQL. Pandas допускается только для хранения и вывода результатов."
   ]
  },
  {
   "cell_type": "markdown",
   "metadata": {},
   "source": [
    "**Описание проекта**<br/>\n",
    "<b>Данные:</b><br/>\n",
    "<b>Таблица `books`</b><br/>\n",
    "Содержит данные о книгах:<br/>\n",
    "- `book_id` — идентификатор книги;<br/>\n",
    "- `author_id` — идентификатор автора;<br/>\n",
    "- `title` — название книги;<br/>\n",
    "- `num_pages` — количество страниц;<br/>\n",
    "- `publication_date` — дата публикации книги;<br/>\n",
    "- `publisher_id` — идентификатор издателя.<br/><br/>\n",
    "<b>Таблица `authors`</b><br/>\n",
    "Содержит данные об авторах:<br/>\n",
    "- `author_id` — идентификатор автора;<br/>\n",
    "- `author` — имя автора.<br/><br/>\n",
    "<b>Таблица `publishers`</b><br/>\n",
    "Содержит данные об издательствах:<br/>\n",
    "- `publisher_id` — идентификатор издательства;<br/>\n",
    "- `publisher` — название издательства;<br/><br/>\n",
    "<b>Таблица `ratings`</b><br/>\n",
    "Содержит данные о пользовательских оценках книг:<br/>\n",
    "- `rating_id` — идентификатор оценки;<br/>\n",
    "- `book_id` — идентификатор книги;<br/>\n",
    "- `username` — имя пользователя, оставившего оценку;<br/>\n",
    "- `rating` — оценка книги.<br/><br/>\n",
    "<b>Таблица `reviews`</b><br/>\n",
    "Содержит данные о пользовательских обзорах на книги:<br/>\n",
    "- `review_id` — идентификатор обзора;<br/>\n",
    "- `book_id` — идентификатор книги;<br/>\n",
    "- `username` — имя пользователя, написавшего обзор;<br/>\n",
    "- `text` — текст обзора.<br/><br/>\n",
    "<b>Пути к файлам:</b><br/>\n",
    "Следуйте инструкции, изложенной в файле - Подключение к базе данных .pdf"
   ]
  },
  {
   "cell_type": "markdown",
   "metadata": {},
   "source": [
    "Структура всех таблиц"
   ]
  },
  {
   "attachments": {
    "SQL_scheme_3_1.jpg": {
     "image/jpeg": "[encoded data removed]"
    }
   },
   "cell_type": "markdown",
   "metadata": {},
   "source": [
    "![SQL_scheme_3_1.jpg](attachment:SQL_scheme_3_1.jpg)"
   ]
  },
  {
   "cell_type": "markdown",
   "metadata": {},
   "source": [
    "**Содержание**<br/>\n",
    "<a name=\"contents\"></a><br/>\n",
    "<a name=\"chapter_0\"></a>    \n",
    "[**1. Изучение данных из полученного файла данных**](#chapter_1.)<br/>\n",
    "[1.1. Выставление окружения и импорт библиотек.](#chapter_1.1.)<br/> \n",
    "[1.2. Подключение к базе данных и получение таблиц.](#chapter_1.2.)<br/>\n",
    "    \n",
    "[**2. Задания.**](#chapter_2.)<br/>\n",
    "[2.1. Считаем, сколько книг вышло после 1 января 2000 года.](#chapter_2.1.)<br/>\n",
    "[2.2. Для каждой книги считаем количество обзоров и среднюю оценку.](#chapter_2.2.)<br/>\n",
    "[2.3. Определение издательства, которое выпустило наибольшее число книг толще 50 страниц.](#chapter_2.3.)<br/>\n",
    "[2.4. Определение автора с самой высокой средней оценкой книг — учитывайте только книги с 50 и более оценками.](#chapter_2.4.)<br/>\n",
    "[2.5. Считаем среднее количество обзоров от пользователей, которые поставили больше 50 оценок.](#chapter_2.5.)<br/>\n",
    "\n",
    "[**3. Выводы**](#chapter_3.) "
   ]
  },
  {
   "cell_type": "markdown",
   "metadata": {},
   "source": [
    "<a name=\"chapter_1.\"></a>\n",
    "[к содержанию](#chapter_0)<br/>\n",
    "<div class=\"p-3 mb-2 bg-primary text-white\">\n",
    "<b>1. Изучение данных из полученных файлов данных.</b> <br/>\n",
    "</div>"
   ]
  },
  {
   "cell_type": "markdown",
   "metadata": {},
   "source": [
    "\n",
    "<a name=\"chapter_1.1.\"></a>\n",
    "[к содержанию](#chapter_0)<br/>\n",
    "<div class=\"p-3 mb-2 bg-primary text-white\">\n",
    "<b>1.1. Выставление окружения и импорт библиотек.</b> <br/>\n",
    "</div>"
   ]
  },
  {
   "cell_type": "markdown",
   "metadata": {},
   "source": [
    "1.1.1. Делаем импорт библиотек, используемых в данном проекте."
   ]
  },
  {
   "cell_type": "code",
   "execution_count": 1,
   "metadata": {},
   "outputs": [],
   "source": [
    "import pandas as pd\n",
    "from sqlalchemy import create_engine # библиотека для коннекта со сторонним сервером\n",
    "\n",
    "import datetime as dt\n"
   ]
  },
  {
   "cell_type": "code",
   "execution_count": 2,
   "metadata": {
    "scrolled": true
   },
   "outputs": [
    {
     "name": "stdout",
     "output_type": "stream",
     "text": [
      "# packages in environment at C:\\Users\\Tachkov\\anaconda3:\n",
      "#\n",
      "# Name                    Version                   Build  Channel\n",
      "pandas                    1.4.1                    pypi_0    pypi\n"
     ]
    }
   ],
   "source": [
    "#!pip install pandas -U\n",
    "\n",
    "#!conda list pandas\n",
    "#!pip install pandas==1.2.4 # инсталлировал версию 1.2.4 С версией 1.3.3 - не совсем правильно рисовалась легенда графиков\n",
    "!conda list pandas"
   ]
  },
  {
   "cell_type": "markdown",
   "metadata": {},
   "source": [
    "1.1.2. Корректируем вывод табличных данных с помощью функции set_option() в Pandas"
   ]
  },
  {
   "cell_type": "code",
   "execution_count": 3,
   "metadata": {},
   "outputs": [],
   "source": [
    "#pd.set_option('max_rows', 5) # поставим ограничение на вывод 5 строк https://habr.com/ru/post/521894/\n",
    "pd.set_option('display.max_columns', None) # снимаем ограничение на отображение колонок\n",
    "pd.set_option('display.float_format', '{:.2f}'.format) # ставим ограничение на количество выводимых знаков у float \n",
    "#pd.set_option('display.max_colwidth', 110) # снимаем ограничение на длину строк\n",
    "#pd.set_option('display.max_colwidth', -1) # чтобы отобразились все символы в ячейках датафрейма"
   ]
  },
  {
   "cell_type": "markdown",
   "metadata": {},
   "source": [
    "<a name=\"chapter_1.2.\"></a>\n",
    "[к содержанию](#chapter_0)<br/>\n",
    "<div class=\"p-3 mb-2 bg-primary text-white\">\n",
    "<b>1.2. Подключение к базе данных и получение таблиц.</b> <br/>\n",
    "</div>"
   ]
  },
  {
   "cell_type": "code",
   "execution_count": 4,
   "metadata": {},
   "outputs": [],
   "source": [
    "# устанавливаем параметры\n",
    "db_config = {'user': 'praktikum_student', # имя пользователя\n",
    " 'pwd': 'Sdf4$2;d-d30pp', # пароль\n",
    " 'host': 'rc1b-wcoijxj3yxfsf3fs.mdb.yandexcloud.net',\n",
    " 'port': 6432, # порт подключения\n",
    " 'db': 'data-analyst-final-project-db'} # название базы данных\n",
    "connection_string = 'postgresql://{}:{}@{}:{}/{}'.format(db_config['user'],\n",
    " db_config['pwd'],\n",
    " db_config['host'],\n",
    " db_config['port'],\n",
    " db_config['db'])\n",
    "# сохраняем коннектор\n",
    "engine = create_engine(connection_string, connect_args={'sslmode':'require'})\n"
   ]
  },
  {
   "cell_type": "markdown",
   "metadata": {},
   "source": [
    "Этот способ убрать скроллинг при выводе увидел на <br/> \n",
    "https://askdev.ru/q/kak-izbezhat-vyvoda-v-prokruchivaemye-kadry-v-jupyter-notebook-665426/<br/> \n",
    "Интересно, есть еще какой-нибудь способ? Просто иначе выводится в окно со скроллингом"
   ]
  },
  {
   "cell_type": "code",
   "execution_count": 5,
   "metadata": {},
   "outputs": [
    {
     "data": {
      "application/javascript": [
       "IPython.OutputArea.prototype._should_scroll = function(lines) {\n",
       "    return false;\n",
       "}\n"
      ],
      "text/plain": [
       "<IPython.core.display.Javascript object>"
      ]
     },
     "metadata": {},
     "output_type": "display_data"
    }
   ],
   "source": [
    "%%javascript\n",
    "IPython.OutputArea.prototype._should_scroll = function(lines) {\n",
    "    return false;\n",
    "}"
   ]
  },
  {
   "cell_type": "markdown",
   "metadata": {},
   "source": [
    "Посмотрим на полученные датасеты:"
   ]
  },
  {
   "cell_type": "code",
   "execution_count": 6,
   "metadata": {
    "scrolled": true
   },
   "outputs": [
    {
     "name": "stdout",
     "output_type": "stream",
     "text": [
      "books\n"
     ]
    },
    {
     "data": {
      "text/html": [
       "<div>\n",
       "<style scoped>\n",
       "    .dataframe tbody tr th:only-of-type {\n",
       "        vertical-align: middle;\n",
       "    }\n",
       "\n",
       "    .dataframe tbody tr th {\n",
       "        vertical-align: top;\n",
       "    }\n",
       "\n",
       "    .dataframe thead th {\n",
       "        text-align: right;\n",
       "    }\n",
       "</style>\n",
       "<table border=\"1\" class=\"dataframe\">\n",
       "  <thead>\n",
       "    <tr style=\"text-align: right;\">\n",
       "      <th></th>\n",
       "      <th>book_id</th>\n",
       "      <th>author_id</th>\n",
       "      <th>title</th>\n",
       "      <th>num_pages</th>\n",
       "      <th>publication_date</th>\n",
       "      <th>publisher_id</th>\n",
       "    </tr>\n",
       "  </thead>\n",
       "  <tbody>\n",
       "    <tr>\n",
       "      <th>0</th>\n",
       "      <td>1</td>\n",
       "      <td>546</td>\n",
       "      <td>'Salem's Lot</td>\n",
       "      <td>594</td>\n",
       "      <td>2005-11-01</td>\n",
       "      <td>93</td>\n",
       "    </tr>\n",
       "    <tr>\n",
       "      <th>1</th>\n",
       "      <td>2</td>\n",
       "      <td>465</td>\n",
       "      <td>1 000 Places to See Before You Die</td>\n",
       "      <td>992</td>\n",
       "      <td>2003-05-22</td>\n",
       "      <td>336</td>\n",
       "    </tr>\n",
       "    <tr>\n",
       "      <th>2</th>\n",
       "      <td>3</td>\n",
       "      <td>407</td>\n",
       "      <td>13 Little Blue Envelopes (Little Blue Envelope...</td>\n",
       "      <td>322</td>\n",
       "      <td>2010-12-21</td>\n",
       "      <td>135</td>\n",
       "    </tr>\n",
       "    <tr>\n",
       "      <th>3</th>\n",
       "      <td>4</td>\n",
       "      <td>82</td>\n",
       "      <td>1491: New Revelations of the Americas Before C...</td>\n",
       "      <td>541</td>\n",
       "      <td>2006-10-10</td>\n",
       "      <td>309</td>\n",
       "    </tr>\n",
       "    <tr>\n",
       "      <th>4</th>\n",
       "      <td>5</td>\n",
       "      <td>125</td>\n",
       "      <td>1776</td>\n",
       "      <td>386</td>\n",
       "      <td>2006-07-04</td>\n",
       "      <td>268</td>\n",
       "    </tr>\n",
       "  </tbody>\n",
       "</table>\n",
       "</div>"
      ],
      "text/plain": [
       "   book_id  author_id                                              title  \\\n",
       "0        1        546                                       'Salem's Lot   \n",
       "1        2        465                 1 000 Places to See Before You Die   \n",
       "2        3        407  13 Little Blue Envelopes (Little Blue Envelope...   \n",
       "3        4         82  1491: New Revelations of the Americas Before C...   \n",
       "4        5        125                                               1776   \n",
       "\n",
       "   num_pages publication_date  publisher_id  \n",
       "0        594       2005-11-01            93  \n",
       "1        992       2003-05-22           336  \n",
       "2        322       2010-12-21           135  \n",
       "3        541       2006-10-10           309  \n",
       "4        386       2006-07-04           268  "
      ]
     },
     "metadata": {},
     "output_type": "display_data"
    },
    {
     "name": "stdout",
     "output_type": "stream",
     "text": [
      "<class 'pandas.core.frame.DataFrame'>\n",
      "RangeIndex: 1000 entries, 0 to 999\n",
      "Data columns (total 6 columns):\n",
      " #   Column            Non-Null Count  Dtype \n",
      "---  ------            --------------  ----- \n",
      " 0   book_id           1000 non-null   int64 \n",
      " 1   author_id         1000 non-null   int64 \n",
      " 2   title             1000 non-null   object\n",
      " 3   num_pages         1000 non-null   int64 \n",
      " 4   publication_date  1000 non-null   object\n",
      " 5   publisher_id      1000 non-null   int64 \n",
      "dtypes: int64(4), object(2)\n",
      "memory usage: 47.0+ KB\n",
      "__________________________________________________________________________________________\n",
      "authors\n"
     ]
    },
    {
     "data": {
      "text/html": [
       "<div>\n",
       "<style scoped>\n",
       "    .dataframe tbody tr th:only-of-type {\n",
       "        vertical-align: middle;\n",
       "    }\n",
       "\n",
       "    .dataframe tbody tr th {\n",
       "        vertical-align: top;\n",
       "    }\n",
       "\n",
       "    .dataframe thead th {\n",
       "        text-align: right;\n",
       "    }\n",
       "</style>\n",
       "<table border=\"1\" class=\"dataframe\">\n",
       "  <thead>\n",
       "    <tr style=\"text-align: right;\">\n",
       "      <th></th>\n",
       "      <th>author_id</th>\n",
       "      <th>author</th>\n",
       "    </tr>\n",
       "  </thead>\n",
       "  <tbody>\n",
       "    <tr>\n",
       "      <th>0</th>\n",
       "      <td>1</td>\n",
       "      <td>A.S. Byatt</td>\n",
       "    </tr>\n",
       "    <tr>\n",
       "      <th>1</th>\n",
       "      <td>2</td>\n",
       "      <td>Aesop/Laura Harris/Laura Gibbs</td>\n",
       "    </tr>\n",
       "    <tr>\n",
       "      <th>2</th>\n",
       "      <td>3</td>\n",
       "      <td>Agatha Christie</td>\n",
       "    </tr>\n",
       "    <tr>\n",
       "      <th>3</th>\n",
       "      <td>4</td>\n",
       "      <td>Alan Brennert</td>\n",
       "    </tr>\n",
       "    <tr>\n",
       "      <th>4</th>\n",
       "      <td>5</td>\n",
       "      <td>Alan Moore/David   Lloyd</td>\n",
       "    </tr>\n",
       "  </tbody>\n",
       "</table>\n",
       "</div>"
      ],
      "text/plain": [
       "   author_id                          author\n",
       "0          1                      A.S. Byatt\n",
       "1          2  Aesop/Laura Harris/Laura Gibbs\n",
       "2          3                 Agatha Christie\n",
       "3          4                   Alan Brennert\n",
       "4          5        Alan Moore/David   Lloyd"
      ]
     },
     "metadata": {},
     "output_type": "display_data"
    },
    {
     "name": "stdout",
     "output_type": "stream",
     "text": [
      "<class 'pandas.core.frame.DataFrame'>\n",
      "RangeIndex: 636 entries, 0 to 635\n",
      "Data columns (total 2 columns):\n",
      " #   Column     Non-Null Count  Dtype \n",
      "---  ------     --------------  ----- \n",
      " 0   author_id  636 non-null    int64 \n",
      " 1   author     636 non-null    object\n",
      "dtypes: int64(1), object(1)\n",
      "memory usage: 10.1+ KB\n",
      "__________________________________________________________________________________________\n",
      "publishers\n"
     ]
    },
    {
     "data": {
      "text/html": [
       "<div>\n",
       "<style scoped>\n",
       "    .dataframe tbody tr th:only-of-type {\n",
       "        vertical-align: middle;\n",
       "    }\n",
       "\n",
       "    .dataframe tbody tr th {\n",
       "        vertical-align: top;\n",
       "    }\n",
       "\n",
       "    .dataframe thead th {\n",
       "        text-align: right;\n",
       "    }\n",
       "</style>\n",
       "<table border=\"1\" class=\"dataframe\">\n",
       "  <thead>\n",
       "    <tr style=\"text-align: right;\">\n",
       "      <th></th>\n",
       "      <th>publisher_id</th>\n",
       "      <th>publisher</th>\n",
       "    </tr>\n",
       "  </thead>\n",
       "  <tbody>\n",
       "    <tr>\n",
       "      <th>0</th>\n",
       "      <td>1</td>\n",
       "      <td>Ace</td>\n",
       "    </tr>\n",
       "    <tr>\n",
       "      <th>1</th>\n",
       "      <td>2</td>\n",
       "      <td>Ace Book</td>\n",
       "    </tr>\n",
       "    <tr>\n",
       "      <th>2</th>\n",
       "      <td>3</td>\n",
       "      <td>Ace Books</td>\n",
       "    </tr>\n",
       "    <tr>\n",
       "      <th>3</th>\n",
       "      <td>4</td>\n",
       "      <td>Ace Hardcover</td>\n",
       "    </tr>\n",
       "    <tr>\n",
       "      <th>4</th>\n",
       "      <td>5</td>\n",
       "      <td>Addison Wesley Publishing Company</td>\n",
       "    </tr>\n",
       "  </tbody>\n",
       "</table>\n",
       "</div>"
      ],
      "text/plain": [
       "   publisher_id                          publisher\n",
       "0             1                                Ace\n",
       "1             2                           Ace Book\n",
       "2             3                          Ace Books\n",
       "3             4                      Ace Hardcover\n",
       "4             5  Addison Wesley Publishing Company"
      ]
     },
     "metadata": {},
     "output_type": "display_data"
    },
    {
     "name": "stdout",
     "output_type": "stream",
     "text": [
      "<class 'pandas.core.frame.DataFrame'>\n",
      "RangeIndex: 340 entries, 0 to 339\n",
      "Data columns (total 2 columns):\n",
      " #   Column        Non-Null Count  Dtype \n",
      "---  ------        --------------  ----- \n",
      " 0   publisher_id  340 non-null    int64 \n",
      " 1   publisher     340 non-null    object\n",
      "dtypes: int64(1), object(1)\n",
      "memory usage: 5.4+ KB\n",
      "__________________________________________________________________________________________\n",
      "ratings\n"
     ]
    },
    {
     "data": {
      "text/html": [
       "<div>\n",
       "<style scoped>\n",
       "    .dataframe tbody tr th:only-of-type {\n",
       "        vertical-align: middle;\n",
       "    }\n",
       "\n",
       "    .dataframe tbody tr th {\n",
       "        vertical-align: top;\n",
       "    }\n",
       "\n",
       "    .dataframe thead th {\n",
       "        text-align: right;\n",
       "    }\n",
       "</style>\n",
       "<table border=\"1\" class=\"dataframe\">\n",
       "  <thead>\n",
       "    <tr style=\"text-align: right;\">\n",
       "      <th></th>\n",
       "      <th>rating_id</th>\n",
       "      <th>book_id</th>\n",
       "      <th>username</th>\n",
       "      <th>rating</th>\n",
       "    </tr>\n",
       "  </thead>\n",
       "  <tbody>\n",
       "    <tr>\n",
       "      <th>0</th>\n",
       "      <td>1</td>\n",
       "      <td>1</td>\n",
       "      <td>ryanfranco</td>\n",
       "      <td>4</td>\n",
       "    </tr>\n",
       "    <tr>\n",
       "      <th>1</th>\n",
       "      <td>2</td>\n",
       "      <td>1</td>\n",
       "      <td>grantpatricia</td>\n",
       "      <td>2</td>\n",
       "    </tr>\n",
       "    <tr>\n",
       "      <th>2</th>\n",
       "      <td>3</td>\n",
       "      <td>1</td>\n",
       "      <td>brandtandrea</td>\n",
       "      <td>5</td>\n",
       "    </tr>\n",
       "    <tr>\n",
       "      <th>3</th>\n",
       "      <td>4</td>\n",
       "      <td>2</td>\n",
       "      <td>lorichen</td>\n",
       "      <td>3</td>\n",
       "    </tr>\n",
       "    <tr>\n",
       "      <th>4</th>\n",
       "      <td>5</td>\n",
       "      <td>2</td>\n",
       "      <td>mariokeller</td>\n",
       "      <td>2</td>\n",
       "    </tr>\n",
       "  </tbody>\n",
       "</table>\n",
       "</div>"
      ],
      "text/plain": [
       "   rating_id  book_id       username  rating\n",
       "0          1        1     ryanfranco       4\n",
       "1          2        1  grantpatricia       2\n",
       "2          3        1   brandtandrea       5\n",
       "3          4        2       lorichen       3\n",
       "4          5        2    mariokeller       2"
      ]
     },
     "metadata": {},
     "output_type": "display_data"
    },
    {
     "name": "stdout",
     "output_type": "stream",
     "text": [
      "<class 'pandas.core.frame.DataFrame'>\n",
      "RangeIndex: 6456 entries, 0 to 6455\n",
      "Data columns (total 4 columns):\n",
      " #   Column     Non-Null Count  Dtype \n",
      "---  ------     --------------  ----- \n",
      " 0   rating_id  6456 non-null   int64 \n",
      " 1   book_id    6456 non-null   int64 \n",
      " 2   username   6456 non-null   object\n",
      " 3   rating     6456 non-null   int64 \n",
      "dtypes: int64(3), object(1)\n",
      "memory usage: 201.9+ KB\n",
      "__________________________________________________________________________________________\n",
      "reviews\n"
     ]
    },
    {
     "data": {
      "text/html": [
       "<div>\n",
       "<style scoped>\n",
       "    .dataframe tbody tr th:only-of-type {\n",
       "        vertical-align: middle;\n",
       "    }\n",
       "\n",
       "    .dataframe tbody tr th {\n",
       "        vertical-align: top;\n",
       "    }\n",
       "\n",
       "    .dataframe thead th {\n",
       "        text-align: right;\n",
       "    }\n",
       "</style>\n",
       "<table border=\"1\" class=\"dataframe\">\n",
       "  <thead>\n",
       "    <tr style=\"text-align: right;\">\n",
       "      <th></th>\n",
       "      <th>review_id</th>\n",
       "      <th>book_id</th>\n",
       "      <th>username</th>\n",
       "      <th>text</th>\n",
       "    </tr>\n",
       "  </thead>\n",
       "  <tbody>\n",
       "    <tr>\n",
       "      <th>0</th>\n",
       "      <td>1</td>\n",
       "      <td>1</td>\n",
       "      <td>brandtandrea</td>\n",
       "      <td>Mention society tell send professor analysis. ...</td>\n",
       "    </tr>\n",
       "    <tr>\n",
       "      <th>1</th>\n",
       "      <td>2</td>\n",
       "      <td>1</td>\n",
       "      <td>ryanfranco</td>\n",
       "      <td>Foot glass pretty audience hit themselves. Amo...</td>\n",
       "    </tr>\n",
       "    <tr>\n",
       "      <th>2</th>\n",
       "      <td>3</td>\n",
       "      <td>2</td>\n",
       "      <td>lorichen</td>\n",
       "      <td>Listen treat keep worry. Miss husband tax but ...</td>\n",
       "    </tr>\n",
       "    <tr>\n",
       "      <th>3</th>\n",
       "      <td>4</td>\n",
       "      <td>3</td>\n",
       "      <td>johnsonamanda</td>\n",
       "      <td>Finally month interesting blue could nature cu...</td>\n",
       "    </tr>\n",
       "    <tr>\n",
       "      <th>4</th>\n",
       "      <td>5</td>\n",
       "      <td>3</td>\n",
       "      <td>scotttamara</td>\n",
       "      <td>Nation purpose heavy give wait song will. List...</td>\n",
       "    </tr>\n",
       "  </tbody>\n",
       "</table>\n",
       "</div>"
      ],
      "text/plain": [
       "   review_id  book_id       username  \\\n",
       "0          1        1   brandtandrea   \n",
       "1          2        1     ryanfranco   \n",
       "2          3        2       lorichen   \n",
       "3          4        3  johnsonamanda   \n",
       "4          5        3    scotttamara   \n",
       "\n",
       "                                                text  \n",
       "0  Mention society tell send professor analysis. ...  \n",
       "1  Foot glass pretty audience hit themselves. Amo...  \n",
       "2  Listen treat keep worry. Miss husband tax but ...  \n",
       "3  Finally month interesting blue could nature cu...  \n",
       "4  Nation purpose heavy give wait song will. List...  "
      ]
     },
     "metadata": {},
     "output_type": "display_data"
    },
    {
     "name": "stdout",
     "output_type": "stream",
     "text": [
      "<class 'pandas.core.frame.DataFrame'>\n",
      "RangeIndex: 2793 entries, 0 to 2792\n",
      "Data columns (total 4 columns):\n",
      " #   Column     Non-Null Count  Dtype \n",
      "---  ------     --------------  ----- \n",
      " 0   review_id  2793 non-null   int64 \n",
      " 1   book_id    2793 non-null   int64 \n",
      " 2   username   2793 non-null   object\n",
      " 3   text       2793 non-null   object\n",
      "dtypes: int64(2), object(2)\n",
      "memory usage: 87.4+ KB\n",
      "__________________________________________________________________________________________\n"
     ]
    }
   ],
   "source": [
    "for table_name in ['books', 'authors', 'publishers', 'ratings', 'reviews']:\n",
    "    query = '''\n",
    "    SELECT *\n",
    "    FROM {} \n",
    "    '''.format(table_name)\n",
    "    print(table_name)\n",
    "    request = pd.io.sql.read_sql(query, con = engine)\n",
    "    display(request.head())\n",
    "    request.info()\n",
    "    print(\"_\"*90)"
   ]
  },
  {
   "cell_type": "markdown",
   "metadata": {},
   "source": [
    "Все датасеты у нас в наличии. Пока видна некоторая проблема с данными столбца publication_date в books, они формата    object"
   ]
  },
  {
   "cell_type": "markdown",
   "metadata": {},
   "source": [
    "Учитывая, что с SQL я пока только строго на Вы, попробуем все задачи на полученных датасетах проверять еще и обычными методами, с помощью Pandas. Мне так будет немного легче..."
   ]
  },
  {
   "cell_type": "code",
   "execution_count": 7,
   "metadata": {},
   "outputs": [],
   "source": [
    "query_books = ''' SELECT * FROM books; ''' \n",
    "books = pd.io.sql.read_sql(query_books, con = engine)\n",
    "\n",
    "query_reviews = ''' SELECT * FROM reviews; ''' \n",
    "reviews = pd.io.sql.read_sql(query_reviews, con = engine)\n",
    "\n",
    "query_ratings = ''' SELECT * FROM ratings; ''' \n",
    "ratings = pd.io.sql.read_sql(query_ratings, con = engine)\n",
    "\n",
    "query_publishers = ''' SELECT * FROM publishers; ''' \n",
    "publishers = pd.io.sql.read_sql(query_publishers, con = engine)\n",
    "\n",
    "query_authors = ''' SELECT * FROM authors; ''' \n",
    "authors = pd.io.sql.read_sql(query_authors, con = engine)"
   ]
  },
  {
   "cell_type": "markdown",
   "metadata": {},
   "source": [
    "Не совсем знаю, как проверить средствами SQL на отсутствующие данные, то хоть проверю, как могу:"
   ]
  },
  {
   "cell_type": "code",
   "execution_count": 8,
   "metadata": {},
   "outputs": [
    {
     "data": {
      "text/plain": [
       "book_id             0\n",
       "author_id           0\n",
       "title               0\n",
       "num_pages           0\n",
       "publication_date    0\n",
       "publisher_id        0\n",
       "dtype: int64"
      ]
     },
     "metadata": {},
     "output_type": "display_data"
    },
    {
     "data": {
      "text/plain": [
       "review_id    0\n",
       "book_id      0\n",
       "username     0\n",
       "text         0\n",
       "dtype: int64"
      ]
     },
     "metadata": {},
     "output_type": "display_data"
    },
    {
     "data": {
      "text/plain": [
       "rating_id    0\n",
       "book_id      0\n",
       "username     0\n",
       "rating       0\n",
       "dtype: int64"
      ]
     },
     "metadata": {},
     "output_type": "display_data"
    },
    {
     "data": {
      "text/plain": [
       "publisher_id    0\n",
       "publisher       0\n",
       "dtype: int64"
      ]
     },
     "metadata": {},
     "output_type": "display_data"
    },
    {
     "data": {
      "text/plain": [
       "author_id    0\n",
       "author       0\n",
       "dtype: int64"
      ]
     },
     "metadata": {},
     "output_type": "display_data"
    }
   ],
   "source": [
    "names = [books, reviews, ratings, publishers, authors]\n",
    "for name in names:\n",
    "    missing_values = name.isnull().sum()\n",
    "    display(missing_values)"
   ]
  },
  {
   "cell_type": "markdown",
   "metadata": {},
   "source": [
    "Пропусков данных нет."
   ]
  },
  {
   "cell_type": "markdown",
   "metadata": {},
   "source": [
    "<a name=\"chapter_2.\"></a>\n",
    "[к содержанию](#chapter_0)<br/>\n",
    "<div class=\"p-3 mb-2 bg-primary text-white\">\n",
    "<b>2. Задания.</b> <br/>\n",
    "</div>"
   ]
  },
  {
   "cell_type": "markdown",
   "metadata": {},
   "source": [
    "<a name=\"chapter_2.1.\"></a>\n",
    "[к содержанию](#chapter_0)<br/>\n",
    "<div class=\"p-3 mb-2 bg-primary text-white\">\n",
    "<b>2.1. Считаем, сколько книг вышло после 1 января 2000 года.</b> <br/>\n",
    "</div>"
   ]
  },
  {
   "cell_type": "markdown",
   "metadata": {},
   "source": [
    "Если слово \"после\", то 2000-01-01 в этот диапазон не входит, иначе было бы применено \"с\""
   ]
  },
  {
   "cell_type": "code",
   "execution_count": 9,
   "metadata": {},
   "outputs": [
    {
     "data": {
      "text/plain": [
       "819"
      ]
     },
     "metadata": {},
     "output_type": "display_data"
    }
   ],
   "source": [
    "books['publication_date'] = pd.to_datetime(books['publication_date'], format='%Y-%m-%d')\n",
    "books_time = books.query('publication_date > \"2000-01-01\"')\n",
    "display(books_time['book_id'].count())"
   ]
  },
  {
   "cell_type": "markdown",
   "metadata": {},
   "source": [
    "Правильный ответ получен. А сейчас SQL:"
   ]
  },
  {
   "cell_type": "code",
   "execution_count": 10,
   "metadata": {},
   "outputs": [
    {
     "name": "stdout",
     "output_type": "stream",
     "text": [
      "После 1 января 2000 года вышло 819 книг.\n"
     ]
    }
   ],
   "source": [
    "query_1 = '''\n",
    "               \n",
    "SELECT COUNT(book_id) \n",
    "FROM books\n",
    "    WHERE publication_date > '2000-01-01'\n",
    "'''\n",
    "request_1 = pd.io.sql.read_sql(query_1, con = engine)\n",
    "\n",
    "print('После 1 января 2000 года вышло %s книг.' %(request_1.iloc[0,0])) #https://russianblogs.com/article/25531251569/"
   ]
  },
  {
   "cell_type": "markdown",
   "metadata": {},
   "source": [
    "Совпало, что очень радует ))"
   ]
  },
  {
   "cell_type": "markdown",
   "metadata": {},
   "source": [
    "<b>После 1 января 2000 года вышло 819 книг.</b>"
   ]
  },
  {
   "cell_type": "markdown",
   "metadata": {},
   "source": [
    "<a name=\"chapter_2.2.\"></a>\n",
    "[к содержанию](#chapter_0)<br/>\n",
    "<div class=\"p-3 mb-2 bg-primary text-white\">\n",
    "<b>2.2. Для каждой книги считаем количество обзоров и среднюю оценку.</b> <br/>\n",
    "</div>"
   ]
  },
  {
   "cell_type": "code",
   "execution_count": 11,
   "metadata": {},
   "outputs": [
    {
     "data": {
      "text/html": [
       "<div>\n",
       "<style scoped>\n",
       "    .dataframe tbody tr th:only-of-type {\n",
       "        vertical-align: middle;\n",
       "    }\n",
       "\n",
       "    .dataframe tbody tr th {\n",
       "        vertical-align: top;\n",
       "    }\n",
       "\n",
       "    .dataframe thead th {\n",
       "        text-align: right;\n",
       "    }\n",
       "</style>\n",
       "<table border=\"1\" class=\"dataframe\">\n",
       "  <thead>\n",
       "    <tr style=\"text-align: right;\">\n",
       "      <th></th>\n",
       "      <th>title</th>\n",
       "      <th>book_id</th>\n",
       "      <th>num_rev</th>\n",
       "      <th>avg_rating</th>\n",
       "    </tr>\n",
       "  </thead>\n",
       "  <tbody>\n",
       "    <tr>\n",
       "      <th>947</th>\n",
       "      <td>Twilight (Twilight  #1)</td>\n",
       "      <td>948</td>\n",
       "      <td>7</td>\n",
       "      <td>3.66</td>\n",
       "    </tr>\n",
       "    <tr>\n",
       "      <th>301</th>\n",
       "      <td>Harry Potter and the Prisoner of Azkaban (Harr...</td>\n",
       "      <td>302</td>\n",
       "      <td>6</td>\n",
       "      <td>4.41</td>\n",
       "    </tr>\n",
       "    <tr>\n",
       "      <th>298</th>\n",
       "      <td>Harry Potter and the Chamber of Secrets (Harry...</td>\n",
       "      <td>299</td>\n",
       "      <td>6</td>\n",
       "      <td>4.29</td>\n",
       "    </tr>\n",
       "    <tr>\n",
       "      <th>655</th>\n",
       "      <td>The Book Thief</td>\n",
       "      <td>656</td>\n",
       "      <td>6</td>\n",
       "      <td>4.26</td>\n",
       "    </tr>\n",
       "    <tr>\n",
       "      <th>733</th>\n",
       "      <td>The Glass Castle</td>\n",
       "      <td>734</td>\n",
       "      <td>6</td>\n",
       "      <td>4.21</td>\n",
       "    </tr>\n",
       "    <tr>\n",
       "      <th>...</th>\n",
       "      <td>...</td>\n",
       "      <td>...</td>\n",
       "      <td>...</td>\n",
       "      <td>...</td>\n",
       "    </tr>\n",
       "    <tr>\n",
       "      <th>190</th>\n",
       "      <td>Disney's Beauty and the Beast (A Little Golden...</td>\n",
       "      <td>191</td>\n",
       "      <td>0</td>\n",
       "      <td>4.00</td>\n",
       "    </tr>\n",
       "    <tr>\n",
       "      <th>220</th>\n",
       "      <td>Essential Tales and Poems</td>\n",
       "      <td>221</td>\n",
       "      <td>0</td>\n",
       "      <td>4.00</td>\n",
       "    </tr>\n",
       "    <tr>\n",
       "      <th>386</th>\n",
       "      <td>Leonardo's Notebooks</td>\n",
       "      <td>387</td>\n",
       "      <td>0</td>\n",
       "      <td>4.00</td>\n",
       "    </tr>\n",
       "    <tr>\n",
       "      <th>82</th>\n",
       "      <td>Anne Rice's The Vampire Lestat: A Graphic Novel</td>\n",
       "      <td>83</td>\n",
       "      <td>0</td>\n",
       "      <td>3.67</td>\n",
       "    </tr>\n",
       "    <tr>\n",
       "      <th>807</th>\n",
       "      <td>The Natural Way to Draw</td>\n",
       "      <td>808</td>\n",
       "      <td>0</td>\n",
       "      <td>3.00</td>\n",
       "    </tr>\n",
       "  </tbody>\n",
       "</table>\n",
       "<p>1000 rows × 4 columns</p>\n",
       "</div>"
      ],
      "text/plain": [
       "                                                 title  book_id  num_rev  \\\n",
       "947                            Twilight (Twilight  #1)      948        7   \n",
       "301  Harry Potter and the Prisoner of Azkaban (Harr...      302        6   \n",
       "298  Harry Potter and the Chamber of Secrets (Harry...      299        6   \n",
       "655                                     The Book Thief      656        6   \n",
       "733                                   The Glass Castle      734        6   \n",
       "..                                                 ...      ...      ...   \n",
       "190  Disney's Beauty and the Beast (A Little Golden...      191        0   \n",
       "220                          Essential Tales and Poems      221        0   \n",
       "386                               Leonardo's Notebooks      387        0   \n",
       "82     Anne Rice's The Vampire Lestat: A Graphic Novel       83        0   \n",
       "807                            The Natural Way to Draw      808        0   \n",
       "\n",
       "     avg_rating  \n",
       "947        3.66  \n",
       "301        4.41  \n",
       "298        4.29  \n",
       "655        4.26  \n",
       "733        4.21  \n",
       "..          ...  \n",
       "190        4.00  \n",
       "220        4.00  \n",
       "386        4.00  \n",
       "82         3.67  \n",
       "807        3.00  \n",
       "\n",
       "[1000 rows x 4 columns]"
      ]
     },
     "metadata": {},
     "output_type": "display_data"
    }
   ],
   "source": [
    "ratings_reviews = ratings.merge(reviews, left_on=['book_id'], right_on=['book_id'], how = 'left')\n",
    "ratings_reviews_avg = ratings_reviews.groupby('book_id').agg(num_rev=(\n",
    "    'review_id','nunique'), avg_rating=('rating','mean'))\n",
    "books_reviews_ratings = books[['title','book_id']].merge(ratings_reviews_avg, left_on=['book_id'], right_on=['book_id'], how = 'left')\n",
    "books_reviews_ratings = books_reviews_ratings.sort_values(by=['num_rev', 'avg_rating'], ascending = False)\n",
    "display(books_reviews_ratings)"
   ]
  },
  {
   "cell_type": "markdown",
   "metadata": {},
   "source": [
    "И средствами SQL:"
   ]
  },
  {
   "cell_type": "code",
   "execution_count": 12,
   "metadata": {},
   "outputs": [
    {
     "data": {
      "text/html": [
       "<div>\n",
       "<style scoped>\n",
       "    .dataframe tbody tr th:only-of-type {\n",
       "        vertical-align: middle;\n",
       "    }\n",
       "\n",
       "    .dataframe tbody tr th {\n",
       "        vertical-align: top;\n",
       "    }\n",
       "\n",
       "    .dataframe thead th {\n",
       "        text-align: right;\n",
       "    }\n",
       "</style>\n",
       "<table border=\"1\" class=\"dataframe\">\n",
       "  <thead>\n",
       "    <tr style=\"text-align: right;\">\n",
       "      <th></th>\n",
       "      <th>book_id</th>\n",
       "      <th>title</th>\n",
       "      <th>num_rev</th>\n",
       "      <th>avg_rating</th>\n",
       "    </tr>\n",
       "  </thead>\n",
       "  <tbody>\n",
       "    <tr>\n",
       "      <th>0</th>\n",
       "      <td>948</td>\n",
       "      <td>Twilight (Twilight  #1)</td>\n",
       "      <td>7</td>\n",
       "      <td>3.66</td>\n",
       "    </tr>\n",
       "    <tr>\n",
       "      <th>1</th>\n",
       "      <td>302</td>\n",
       "      <td>Harry Potter and the Prisoner of Azkaban (Harr...</td>\n",
       "      <td>6</td>\n",
       "      <td>4.41</td>\n",
       "    </tr>\n",
       "    <tr>\n",
       "      <th>2</th>\n",
       "      <td>299</td>\n",
       "      <td>Harry Potter and the Chamber of Secrets (Harry...</td>\n",
       "      <td>6</td>\n",
       "      <td>4.29</td>\n",
       "    </tr>\n",
       "    <tr>\n",
       "      <th>3</th>\n",
       "      <td>656</td>\n",
       "      <td>The Book Thief</td>\n",
       "      <td>6</td>\n",
       "      <td>4.26</td>\n",
       "    </tr>\n",
       "    <tr>\n",
       "      <th>4</th>\n",
       "      <td>734</td>\n",
       "      <td>The Glass Castle</td>\n",
       "      <td>6</td>\n",
       "      <td>4.21</td>\n",
       "    </tr>\n",
       "    <tr>\n",
       "      <th>...</th>\n",
       "      <td>...</td>\n",
       "      <td>...</td>\n",
       "      <td>...</td>\n",
       "      <td>...</td>\n",
       "    </tr>\n",
       "    <tr>\n",
       "      <th>995</th>\n",
       "      <td>191</td>\n",
       "      <td>Disney's Beauty and the Beast (A Little Golden...</td>\n",
       "      <td>0</td>\n",
       "      <td>4.00</td>\n",
       "    </tr>\n",
       "    <tr>\n",
       "      <th>996</th>\n",
       "      <td>387</td>\n",
       "      <td>Leonardo's Notebooks</td>\n",
       "      <td>0</td>\n",
       "      <td>4.00</td>\n",
       "    </tr>\n",
       "    <tr>\n",
       "      <th>997</th>\n",
       "      <td>221</td>\n",
       "      <td>Essential Tales and Poems</td>\n",
       "      <td>0</td>\n",
       "      <td>4.00</td>\n",
       "    </tr>\n",
       "    <tr>\n",
       "      <th>998</th>\n",
       "      <td>83</td>\n",
       "      <td>Anne Rice's The Vampire Lestat: A Graphic Novel</td>\n",
       "      <td>0</td>\n",
       "      <td>3.67</td>\n",
       "    </tr>\n",
       "    <tr>\n",
       "      <th>999</th>\n",
       "      <td>808</td>\n",
       "      <td>The Natural Way to Draw</td>\n",
       "      <td>0</td>\n",
       "      <td>3.00</td>\n",
       "    </tr>\n",
       "  </tbody>\n",
       "</table>\n",
       "<p>1000 rows × 4 columns</p>\n",
       "</div>"
      ],
      "text/plain": [
       "     book_id                                              title  num_rev  \\\n",
       "0        948                            Twilight (Twilight  #1)        7   \n",
       "1        302  Harry Potter and the Prisoner of Azkaban (Harr...        6   \n",
       "2        299  Harry Potter and the Chamber of Secrets (Harry...        6   \n",
       "3        656                                     The Book Thief        6   \n",
       "4        734                                   The Glass Castle        6   \n",
       "..       ...                                                ...      ...   \n",
       "995      191  Disney's Beauty and the Beast (A Little Golden...        0   \n",
       "996      387                               Leonardo's Notebooks        0   \n",
       "997      221                          Essential Tales and Poems        0   \n",
       "998       83    Anne Rice's The Vampire Lestat: A Graphic Novel        0   \n",
       "999      808                            The Natural Way to Draw        0   \n",
       "\n",
       "     avg_rating  \n",
       "0          3.66  \n",
       "1          4.41  \n",
       "2          4.29  \n",
       "3          4.26  \n",
       "4          4.21  \n",
       "..          ...  \n",
       "995        4.00  \n",
       "996        4.00  \n",
       "997        4.00  \n",
       "998        3.67  \n",
       "999        3.00  \n",
       "\n",
       "[1000 rows x 4 columns]"
      ]
     },
     "execution_count": 12,
     "metadata": {},
     "output_type": "execute_result"
    }
   ],
   "source": [
    "query_2 = '''\n",
    "SELECT books.book_id, books.title, COUNT(DISTINCT review_id) AS num_rev, AVG (rating) AS avg_rating\n",
    "FROM books\n",
    "    LEFT JOIN reviews ON reviews.book_id = books.book_id\n",
    "    LEFT JOIN ratings ON ratings.book_id = books.book_id\n",
    "    GROUP BY books.book_id\n",
    "    ORDER BY num_rev DESC, avg_rating DESC \n",
    "'''\n",
    "num_rev_avg_rating = pd.io.sql.read_sql(query_2, con = engine)\n",
    "num_rev_avg_rating\n"
   ]
  },
  {
   "cell_type": "markdown",
   "metadata": {},
   "source": [
    "Полное совпадение есть, <b>список по каждой книге с количеством обзоров и средней оценкой - сделан</b>."
   ]
  },
  {
   "cell_type": "markdown",
   "metadata": {},
   "source": [
    "<a name=\"chapter_2.3.\"></a>\n",
    "[к содержанию](#chapter_0)<br/>\n",
    "<div class=\"p-3 mb-2 bg-primary text-white\">\n",
    "<b>2.3. Определение издательства, которое выпустило наибольшее число книг толще 50 страниц.</b> <br/>\n",
    "</div>"
   ]
  },
  {
   "cell_type": "code",
   "execution_count": 13,
   "metadata": {},
   "outputs": [
    {
     "data": {
      "text/html": [
       "<div>\n",
       "<style scoped>\n",
       "    .dataframe tbody tr th:only-of-type {\n",
       "        vertical-align: middle;\n",
       "    }\n",
       "\n",
       "    .dataframe tbody tr th {\n",
       "        vertical-align: top;\n",
       "    }\n",
       "\n",
       "    .dataframe thead th {\n",
       "        text-align: right;\n",
       "    }\n",
       "</style>\n",
       "<table border=\"1\" class=\"dataframe\">\n",
       "  <thead>\n",
       "    <tr style=\"text-align: right;\">\n",
       "      <th></th>\n",
       "      <th>publisher_id</th>\n",
       "      <th>num_book</th>\n",
       "      <th>publisher</th>\n",
       "    </tr>\n",
       "  </thead>\n",
       "  <tbody>\n",
       "    <tr>\n",
       "      <th>207</th>\n",
       "      <td>212</td>\n",
       "      <td>42</td>\n",
       "      <td>Penguin Books</td>\n",
       "    </tr>\n",
       "  </tbody>\n",
       "</table>\n",
       "</div>"
      ],
      "text/plain": [
       "     publisher_id  num_book      publisher\n",
       "207           212        42  Penguin Books"
      ]
     },
     "metadata": {},
     "output_type": "display_data"
    }
   ],
   "source": [
    "books_50 = books.query('num_pages > 50')\n",
    "books_50_pub = books_50.groupby('publisher_id').agg(num_book=('book_id','count'))\n",
    "books_publishers = books_50_pub.merge(publishers, left_on=['publisher_id'], right_on=['publisher_id'], how = 'left')\n",
    "display(books_publishers.sort_values('num_book', ascending = False).head(1))"
   ]
  },
  {
   "cell_type": "markdown",
   "metadata": {},
   "source": [
    "И средствами SQL по похожей логике:"
   ]
  },
  {
   "cell_type": "code",
   "execution_count": 14,
   "metadata": {},
   "outputs": [
    {
     "data": {
      "text/html": [
       "<div>\n",
       "<style scoped>\n",
       "    .dataframe tbody tr th:only-of-type {\n",
       "        vertical-align: middle;\n",
       "    }\n",
       "\n",
       "    .dataframe tbody tr th {\n",
       "        vertical-align: top;\n",
       "    }\n",
       "\n",
       "    .dataframe thead th {\n",
       "        text-align: right;\n",
       "    }\n",
       "</style>\n",
       "<table border=\"1\" class=\"dataframe\">\n",
       "  <thead>\n",
       "    <tr style=\"text-align: right;\">\n",
       "      <th></th>\n",
       "      <th>publisher_id</th>\n",
       "      <th>publisher</th>\n",
       "      <th>num_book</th>\n",
       "    </tr>\n",
       "  </thead>\n",
       "  <tbody>\n",
       "    <tr>\n",
       "      <th>0</th>\n",
       "      <td>212</td>\n",
       "      <td>Penguin Books</td>\n",
       "      <td>42</td>\n",
       "    </tr>\n",
       "  </tbody>\n",
       "</table>\n",
       "</div>"
      ],
      "text/plain": [
       "   publisher_id      publisher  num_book\n",
       "0           212  Penguin Books        42"
      ]
     },
     "execution_count": 14,
     "metadata": {},
     "output_type": "execute_result"
    }
   ],
   "source": [
    "query_3 = '''\n",
    "SELECT publishers.publisher_id, publishers.publisher, COUNT(books.book_id) as num_book\n",
    "FROM publishers\n",
    "    JOIN books ON publishers.publisher_id = books.publisher_id\n",
    "    WHERE books.num_pages > 50\n",
    "    GROUP BY publishers.publisher_id\n",
    "    ORDER BY num_book DESC\n",
    "    LIMIT 1\n",
    "'''\n",
    "number_of_books_50 = pd.io.sql.read_sql(query_3, con = engine)\n",
    "number_of_books_50"
   ]
  },
  {
   "cell_type": "markdown",
   "metadata": {},
   "source": [
    "<b>Издательство Penguin Books с publisher_id выпустило наибольшее число книг толще 50 страниц в количестве 42 шт.</b>"
   ]
  },
  {
   "cell_type": "markdown",
   "metadata": {},
   "source": [
    "<a name=\"chapter_2.4.\"></a>\n",
    "[к содержанию](#chapter_0)<br/>\n",
    "<div class=\"p-3 mb-2 bg-primary text-white\">\n",
    "<b>2.4. Определение автора с самой высокой средней оценкой книг — учитывайте только книги с 50 и более оценками.</b> <br/>\n",
    "</div>"
   ]
  },
  {
   "cell_type": "code",
   "execution_count": 15,
   "metadata": {},
   "outputs": [
    {
     "data": {
      "text/html": [
       "<div>\n",
       "<style scoped>\n",
       "    .dataframe tbody tr th:only-of-type {\n",
       "        vertical-align: middle;\n",
       "    }\n",
       "\n",
       "    .dataframe tbody tr th {\n",
       "        vertical-align: top;\n",
       "    }\n",
       "\n",
       "    .dataframe thead th {\n",
       "        text-align: right;\n",
       "    }\n",
       "</style>\n",
       "<table border=\"1\" class=\"dataframe\">\n",
       "  <thead>\n",
       "    <tr style=\"text-align: right;\">\n",
       "      <th></th>\n",
       "      <th>author_id</th>\n",
       "      <th>rating_mean</th>\n",
       "    </tr>\n",
       "    <tr>\n",
       "      <th>author</th>\n",
       "      <th></th>\n",
       "      <th></th>\n",
       "    </tr>\n",
       "  </thead>\n",
       "  <tbody>\n",
       "    <tr>\n",
       "      <th>J.K. Rowling/Mary GrandPré</th>\n",
       "      <td>236.00</td>\n",
       "      <td>4.29</td>\n",
       "    </tr>\n",
       "  </tbody>\n",
       "</table>\n",
       "</div>"
      ],
      "text/plain": [
       "                            author_id  rating_mean\n",
       "author                                            \n",
       "J.K. Rowling/Mary GrandPré     236.00         4.29"
      ]
     },
     "metadata": {},
     "output_type": "display_data"
    }
   ],
   "source": [
    "ratings_50 = ratings.groupby('book_id').agg(rating_count=('rating','count'))\n",
    "ratings_50 = ratings_50.query('rating_count >= 50')\n",
    "ratings_50_books = ratings_50.merge(books, left_on=['book_id'], right_on=['book_id'], how = 'left')\n",
    "ratings_50_books_authors = ratings_50_books.merge(\n",
    "    authors, left_on=['author_id'], right_on=['author_id'], how = 'left')\n",
    "ratings_50_books_authors_rate = ratings_50_books_authors.merge(\n",
    "    ratings, left_on=['book_id'], right_on=['book_id'], how = 'left')\n",
    "ratings_max = ratings_50_books_authors_rate.groupby('author').agg(author_id=('author_id','mean'), rating_mean=('rating','mean'))\n",
    "display(ratings_max.sort_values('rating_mean', ascending = False).head(1))"
   ]
  },
  {
   "cell_type": "markdown",
   "metadata": {},
   "source": [
    "И по похожей логике, но условие по подзапросу:"
   ]
  },
  {
   "cell_type": "code",
   "execution_count": 16,
   "metadata": {},
   "outputs": [
    {
     "data": {
      "text/html": [
       "<div>\n",
       "<style scoped>\n",
       "    .dataframe tbody tr th:only-of-type {\n",
       "        vertical-align: middle;\n",
       "    }\n",
       "\n",
       "    .dataframe tbody tr th {\n",
       "        vertical-align: top;\n",
       "    }\n",
       "\n",
       "    .dataframe thead th {\n",
       "        text-align: right;\n",
       "    }\n",
       "</style>\n",
       "<table border=\"1\" class=\"dataframe\">\n",
       "  <thead>\n",
       "    <tr style=\"text-align: right;\">\n",
       "      <th></th>\n",
       "      <th>author_id</th>\n",
       "      <th>author</th>\n",
       "      <th>avg_rating_50</th>\n",
       "    </tr>\n",
       "  </thead>\n",
       "  <tbody>\n",
       "    <tr>\n",
       "      <th>0</th>\n",
       "      <td>236</td>\n",
       "      <td>J.K. Rowling/Mary GrandPré</td>\n",
       "      <td>4.28</td>\n",
       "    </tr>\n",
       "  </tbody>\n",
       "</table>\n",
       "</div>"
      ],
      "text/plain": [
       "   author_id                      author  avg_rating_50\n",
       "0        236  J.K. Rowling/Mary GrandPré           4.28"
      ]
     },
     "execution_count": 16,
     "metadata": {},
     "output_type": "execute_result"
    }
   ],
   "source": [
    "query_4 = '''\n",
    "SELECT authors.author_id, authors.author, AVG(avg_rating) AS avg_rating_50\n",
    "FROM authors\n",
    "    JOIN books ON books.author_id = authors.author_id\n",
    "    JOIN(\n",
    "    SELECT books.book_id, COUNT(rating_id) AS rating_count, AVG (rating) AS avg_rating\n",
    "FROM books\n",
    "    JOIN ratings ON ratings.book_id = books.book_id\n",
    "    GROUP BY books.book_id) AS subquery ON subquery.book_id = books.book_id\n",
    "    WHERE rating_count >= 50\n",
    "    GROUP BY authors.author_id, authors.author\n",
    "    ORDER BY avg_rating_50 DESC\n",
    "    LIMIT 1\n",
    "'''\n",
    "author_id_name_mean_rating = pd.io.sql.read_sql(query_4, con = engine)\n",
    "author_id_name_mean_rating"
   ]
  },
  {
   "cell_type": "markdown",
   "metadata": {},
   "source": [
    "Округление где-то не сошлось. <b>Автор с самой высокой средней оценкой книг, при учете книг с 50 и более оценками -  \tавтор J.K. Rowling/Mary GrandPré с оценкой 4.28 и author_id равным 236</b>."
   ]
  },
  {
   "cell_type": "markdown",
   "metadata": {},
   "source": [
    "<a name=\"chapter_2.5.\"></a>\n",
    "[к содержанию](#chapter_0)<br/>\n",
    "<div class=\"p-3 mb-2 bg-primary text-white\">\n",
    "<b>2.5. Считаем среднее количество обзоров от пользователей, которые поставили больше 50 оценок.</b> <br/>\n",
    "</div>"
   ]
  },
  {
   "cell_type": "code",
   "execution_count": 17,
   "metadata": {},
   "outputs": [
    {
     "data": {
      "text/plain": [
       "24.333333333333332"
      ]
     },
     "metadata": {},
     "output_type": "display_data"
    }
   ],
   "source": [
    "ratings_50 = ratings.groupby('username').agg(rating_count=('rating','count'))\n",
    "ratings_50 = ratings_50.query('rating_count > 50')\n",
    "ratings_50_username_reviews = ratings_50.merge(\n",
    "    reviews, left_on=['username'], right_on=['username'], how = 'left')\n",
    "mean_reviews_ratings_50 = ratings_50_username_reviews['review_id'].count() / len(\n",
    "    ratings_50_username_reviews['username'].unique())\n",
    "display(mean_reviews_ratings_50)"
   ]
  },
  {
   "cell_type": "markdown",
   "metadata": {},
   "source": [
    "И примерно по той же логике:"
   ]
  },
  {
   "cell_type": "code",
   "execution_count": 18,
   "metadata": {},
   "outputs": [
    {
     "name": "stdout",
     "output_type": "stream",
     "text": [
      "Cреднее количество обзоров от пользователей, которые поставили больше 50 оценок -  24.333333333333332.\n"
     ]
    }
   ],
   "source": [
    "query_5 = '''\n",
    "SELECT AVG(count)\n",
    "FROM (\n",
    "    SELECT reviews.username, COUNT(reviews.review_id)\n",
    "FROM reviews\n",
    "JOIN (\n",
    "SELECT *\n",
    "FROM\n",
    "    (SELECT ratings.username, COUNT(ratings.rating_id) as num_ratings\n",
    "FROM ratings\n",
    "    GROUP BY ratings.username\n",
    "    ORDER BY num_ratings DESC\n",
    "    ) AS subquery_1\n",
    "WHERE num_ratings > 50\n",
    "    ) AS subquery_2 ON subquery_2.username = reviews.username\n",
    "    GROUP BY reviews.username\n",
    "    ) AS subquery_3\n",
    "'''\n",
    "mean_reviews_username_50 = pd.io.sql.read_sql(query_5, con = engine)\n",
    "print('Cреднее количество обзоров от пользователей, которые поставили больше 50 оценок -  %s.' %(\n",
    "    mean_reviews_username_50.iloc[0,0]))"
   ]
  },
  {
   "cell_type": "markdown",
   "metadata": {},
   "source": [
    "Сошлось. <b>Cреднее количество обзоров от пользователей, которые поставили больше 50 оценок -  24.33</b>"
   ]
  },
  {
   "cell_type": "markdown",
   "metadata": {},
   "source": [
    "<a name=\"chapter_3.\"></a>\n",
    "[к содержанию](#chapter_0)<br/>\n",
    "<div class=\"p-3 mb-2 bg-primary text-white\">\n",
    "<b>3. Выводы.</b> <br/>\n",
    "</div>"
   ]
  },
  {
   "cell_type": "markdown",
   "metadata": {},
   "source": [
    "В ходе исследования были получены следующие ответы на задания:<br/><br/>\n",
    "3.1. После 1 января 2000 года вышло 819 книг.<br/><br/>\n",
    "3.2. Cписок по каждой книге с количеством обзоров и средней оценкой - сделан, первые пять позиций:<br/>\n",
    "948 \tTwilight (Twilight #1) \t1120 \t3.66<br/>\n",
    "750 \tThe Hobbit or There and Back Again \t528 \t4.12<br/>\n",
    "673 \tThe Catcher in the Rye \t516 \t3.83<br/>\n",
    "302 \tHarry Potter and the Prisoner of Azkaban (Harr... \t492 \t4.41<br/><br/>\n",
    "3.3. Издательство Penguin Books с publisher_id выпустило наибольшее число книг толще 50 страниц в количестве 42 шт.<br/><br/>\n",
    "3.4. Автор с самой высокой средней оценкой книг, при учете книг с 50 и более оценками - автор J.K. Rowling/Mary GrandPré с оценкой 4.28 и author_id равным 236<br/><br/>\n",
    "3.5. Cреднее количество обзоров от пользователей, которые поставили больше 50 оценок -  24.33"
   ]
  }
 ],
 "metadata": {
  "ExecuteTimeLog": [
   {
    "duration": 385,
    "start_time": "2021-09-27T08:07:12.397Z"
   },
   {
    "duration": 5502,
    "start_time": "2021-09-27T08:07:21.088Z"
   },
   {
    "duration": 1346,
    "start_time": "2021-09-27T08:07:26.593Z"
   },
   {
    "duration": 11830,
    "start_time": "2021-09-27T08:07:27.942Z"
   },
   {
    "duration": 4,
    "start_time": "2021-09-27T08:07:39.776Z"
   },
   {
    "duration": 1571,
    "start_time": "2021-09-27T08:07:39.783Z"
   },
   {
    "duration": 20,
    "start_time": "2021-09-27T08:07:41.357Z"
   },
   {
    "duration": 11,
    "start_time": "2021-09-27T08:07:41.380Z"
   },
   {
    "duration": 6,
    "start_time": "2021-09-27T08:07:41.395Z"
   },
   {
    "duration": 83,
    "start_time": "2021-09-27T08:07:41.404Z"
   },
   {
    "duration": 40,
    "start_time": "2021-09-27T08:07:41.489Z"
   },
   {
    "duration": 50,
    "start_time": "2021-09-27T08:07:41.531Z"
   },
   {
    "duration": 15,
    "start_time": "2021-09-27T08:07:41.583Z"
   },
   {
    "duration": 7,
    "start_time": "2021-09-27T08:07:41.600Z"
   },
   {
    "duration": 15,
    "start_time": "2021-09-27T08:07:41.610Z"
   },
   {
    "duration": 61,
    "start_time": "2021-09-27T08:07:41.627Z"
   },
   {
    "duration": 5,
    "start_time": "2021-09-27T08:07:41.690Z"
   },
   {
    "duration": 449,
    "start_time": "2021-09-27T08:07:41.697Z"
   },
   {
    "duration": 160,
    "start_time": "2021-09-27T08:07:42.148Z"
   },
   {
    "duration": 15,
    "start_time": "2021-09-27T08:07:42.310Z"
   },
   {
    "duration": 11,
    "start_time": "2021-09-27T08:07:42.327Z"
   },
   {
    "duration": 20,
    "start_time": "2021-09-27T08:07:42.367Z"
   },
   {
    "duration": 6,
    "start_time": "2021-09-27T08:07:42.389Z"
   },
   {
    "duration": 217,
    "start_time": "2021-09-27T08:07:42.401Z"
   },
   {
    "duration": 75,
    "start_time": "2021-09-27T08:07:42.622Z"
   },
   {
    "duration": 11,
    "start_time": "2021-09-27T08:07:42.699Z"
   },
   {
    "duration": 26,
    "start_time": "2021-09-27T08:07:42.713Z"
   },
   {
    "duration": 28,
    "start_time": "2021-09-27T08:07:42.742Z"
   },
   {
    "duration": 251,
    "start_time": "2021-09-27T08:07:42.772Z"
   },
   {
    "duration": 125,
    "start_time": "2021-09-27T08:07:43.026Z"
   },
   {
    "duration": 32,
    "start_time": "2021-09-27T08:07:43.154Z"
   },
   {
    "duration": 11,
    "start_time": "2021-09-27T08:07:43.189Z"
   },
   {
    "duration": 12,
    "start_time": "2021-09-27T08:07:43.203Z"
   },
   {
    "duration": 6,
    "start_time": "2021-09-27T08:07:43.217Z"
   },
   {
    "duration": 78,
    "start_time": "2021-09-27T08:07:43.226Z"
   },
   {
    "duration": 83,
    "start_time": "2021-09-27T08:07:43.306Z"
   },
   {
    "duration": 9,
    "start_time": "2021-09-27T08:07:43.391Z"
   },
   {
    "duration": 71,
    "start_time": "2021-09-27T08:07:43.402Z"
   },
   {
    "duration": 8,
    "start_time": "2021-09-27T08:07:43.475Z"
   },
   {
    "duration": 8,
    "start_time": "2021-09-27T08:07:43.486Z"
   },
   {
    "duration": 476,
    "start_time": "2021-09-27T08:07:43.497Z"
   },
   {
    "duration": 15,
    "start_time": "2021-09-27T08:07:43.975Z"
   },
   {
    "duration": 11,
    "start_time": "2021-09-27T08:07:43.992Z"
   },
   {
    "duration": 9,
    "start_time": "2021-09-27T08:07:44.006Z"
   },
   {
    "duration": 584,
    "start_time": "2021-09-27T08:07:44.017Z"
   },
   {
    "duration": -838,
    "start_time": "2021-09-27T08:07:45.446Z"
   },
   {
    "duration": -844,
    "start_time": "2021-09-27T08:07:45.453Z"
   },
   {
    "duration": -849,
    "start_time": "2021-09-27T08:07:45.459Z"
   },
   {
    "duration": -858,
    "start_time": "2021-09-27T08:07:45.470Z"
   },
   {
    "duration": -866,
    "start_time": "2021-09-27T08:07:45.479Z"
   },
   {
    "duration": -873,
    "start_time": "2021-09-27T08:07:45.488Z"
   },
   {
    "duration": -880,
    "start_time": "2021-09-27T08:07:45.496Z"
   },
   {
    "duration": -1142,
    "start_time": "2021-09-27T08:07:45.760Z"
   },
   {
    "duration": -1149,
    "start_time": "2021-09-27T08:07:45.768Z"
   },
   {
    "duration": -1154,
    "start_time": "2021-09-27T08:07:45.775Z"
   },
   {
    "duration": -1160,
    "start_time": "2021-09-27T08:07:45.782Z"
   },
   {
    "duration": -1167,
    "start_time": "2021-09-27T08:07:45.790Z"
   },
   {
    "duration": -1172,
    "start_time": "2021-09-27T08:07:45.797Z"
   },
   {
    "duration": -1179,
    "start_time": "2021-09-27T08:07:45.805Z"
   },
   {
    "duration": -1184,
    "start_time": "2021-09-27T08:07:45.811Z"
   },
   {
    "duration": -1191,
    "start_time": "2021-09-27T08:07:45.820Z"
   },
   {
    "duration": -1197,
    "start_time": "2021-09-27T08:07:45.827Z"
   },
   {
    "duration": -1206,
    "start_time": "2021-09-27T08:07:45.837Z"
   },
   {
    "duration": -1211,
    "start_time": "2021-09-27T08:07:45.844Z"
   },
   {
    "duration": -1221,
    "start_time": "2021-09-27T08:07:45.855Z"
   },
   {
    "duration": -1275,
    "start_time": "2021-09-27T08:07:45.910Z"
   },
   {
    "duration": -1286,
    "start_time": "2021-09-27T08:07:45.923Z"
   },
   {
    "duration": -1298,
    "start_time": "2021-09-27T08:07:45.936Z"
   },
   {
    "duration": -1311,
    "start_time": "2021-09-27T08:07:45.950Z"
   },
   {
    "duration": -1319,
    "start_time": "2021-09-27T08:07:45.960Z"
   },
   {
    "duration": -1333,
    "start_time": "2021-09-27T08:07:45.975Z"
   },
   {
    "duration": -1342,
    "start_time": "2021-09-27T08:07:45.985Z"
   },
   {
    "duration": -1328,
    "start_time": "2021-09-27T08:07:45.995Z"
   },
   {
    "duration": -1340,
    "start_time": "2021-09-27T08:07:46.008Z"
   },
   {
    "duration": -1351,
    "start_time": "2021-09-27T08:07:46.020Z"
   },
   {
    "duration": -1359,
    "start_time": "2021-09-27T08:07:46.030Z"
   },
   {
    "duration": -1370,
    "start_time": "2021-09-27T08:07:46.042Z"
   },
   {
    "duration": -1381,
    "start_time": "2021-09-27T08:07:46.054Z"
   },
   {
    "duration": -1394,
    "start_time": "2021-09-27T08:07:46.068Z"
   },
   {
    "duration": -1401,
    "start_time": "2021-09-27T08:07:46.076Z"
   },
   {
    "duration": -1410,
    "start_time": "2021-09-27T08:07:46.087Z"
   },
   {
    "duration": -1418,
    "start_time": "2021-09-27T08:07:46.096Z"
   },
   {
    "duration": -1430,
    "start_time": "2021-09-27T08:07:46.109Z"
   },
   {
    "duration": -1462,
    "start_time": "2021-09-27T08:07:46.142Z"
   },
   {
    "duration": -1475,
    "start_time": "2021-09-27T08:07:46.157Z"
   },
   {
    "duration": -1487,
    "start_time": "2021-09-27T08:07:46.170Z"
   },
   {
    "duration": -1501,
    "start_time": "2021-09-27T08:07:46.185Z"
   },
   {
    "duration": -1511,
    "start_time": "2021-09-27T08:07:46.197Z"
   },
   {
    "duration": -1525,
    "start_time": "2021-09-27T08:07:46.212Z"
   },
   {
    "duration": -1539,
    "start_time": "2021-09-27T08:07:46.227Z"
   },
   {
    "duration": -1568,
    "start_time": "2021-09-27T08:07:46.257Z"
   },
   {
    "duration": -1580,
    "start_time": "2021-09-27T08:07:46.271Z"
   },
   {
    "duration": -1593,
    "start_time": "2021-09-27T08:07:46.285Z"
   },
   {
    "duration": -1604,
    "start_time": "2021-09-27T08:07:46.297Z"
   },
   {
    "duration": -1616,
    "start_time": "2021-09-27T08:07:46.311Z"
   },
   {
    "duration": -1627,
    "start_time": "2021-09-27T08:07:46.323Z"
   },
   {
    "duration": -1636,
    "start_time": "2021-09-27T08:07:46.334Z"
   },
   {
    "duration": -1644,
    "start_time": "2021-09-27T08:07:46.343Z"
   },
   {
    "duration": -1664,
    "start_time": "2021-09-27T08:07:46.365Z"
   },
   {
    "duration": -1671,
    "start_time": "2021-09-27T08:07:46.373Z"
   },
   {
    "duration": -1616,
    "start_time": "2021-09-27T08:07:46.383Z"
   },
   {
    "duration": -1623,
    "start_time": "2021-09-27T08:07:46.391Z"
   },
   {
    "duration": -1632,
    "start_time": "2021-09-27T08:07:46.402Z"
   },
   {
    "duration": -1639,
    "start_time": "2021-09-27T08:07:46.410Z"
   },
   {
    "duration": -1649,
    "start_time": "2021-09-27T08:07:46.422Z"
   },
   {
    "duration": -1659,
    "start_time": "2021-09-27T08:07:46.433Z"
   },
   {
    "duration": -1670,
    "start_time": "2021-09-27T08:07:46.446Z"
   },
   {
    "duration": -1681,
    "start_time": "2021-09-27T08:07:46.458Z"
   },
   {
    "duration": -1706,
    "start_time": "2021-09-27T08:07:46.485Z"
   },
   {
    "duration": -1714,
    "start_time": "2021-09-27T08:07:46.494Z"
   },
   {
    "duration": -1723,
    "start_time": "2021-09-27T08:07:46.505Z"
   },
   {
    "duration": -1734,
    "start_time": "2021-09-27T08:07:46.517Z"
   },
   {
    "duration": -1742,
    "start_time": "2021-09-27T08:07:46.527Z"
   },
   {
    "duration": -1754,
    "start_time": "2021-09-27T08:07:46.540Z"
   },
   {
    "duration": -1762,
    "start_time": "2021-09-27T08:07:46.550Z"
   },
   {
    "duration": -1769,
    "start_time": "2021-09-27T08:07:46.558Z"
   },
   {
    "duration": -1780,
    "start_time": "2021-09-27T08:07:46.571Z"
   },
   {
    "duration": -1790,
    "start_time": "2021-09-27T08:07:46.582Z"
   },
   {
    "duration": -1812,
    "start_time": "2021-09-27T08:07:46.606Z"
   },
   {
    "duration": -1822,
    "start_time": "2021-09-27T08:07:46.617Z"
   },
   {
    "duration": -1830,
    "start_time": "2021-09-27T08:07:46.627Z"
   },
   {
    "duration": -1840,
    "start_time": "2021-09-27T08:07:46.638Z"
   },
   {
    "duration": -1849,
    "start_time": "2021-09-27T08:07:46.649Z"
   },
   {
    "duration": -1858,
    "start_time": "2021-09-27T08:07:46.659Z"
   },
   {
    "duration": -1869,
    "start_time": "2021-09-27T08:07:46.671Z"
   },
   {
    "duration": -1812,
    "start_time": "2021-09-27T08:07:46.679Z"
   },
   {
    "duration": -1823,
    "start_time": "2021-09-27T08:07:46.692Z"
   },
   {
    "duration": -1832,
    "start_time": "2021-09-27T08:07:46.702Z"
   },
   {
    "duration": -1855,
    "start_time": "2021-09-27T08:07:46.727Z"
   },
   {
    "duration": -1866,
    "start_time": "2021-09-27T08:07:46.739Z"
   },
   {
    "duration": -1877,
    "start_time": "2021-09-27T08:07:46.751Z"
   },
   {
    "duration": -1883,
    "start_time": "2021-09-27T08:07:46.759Z"
   },
   {
    "duration": -1893,
    "start_time": "2021-09-27T08:07:46.770Z"
   },
   {
    "duration": -1901,
    "start_time": "2021-09-27T08:07:46.779Z"
   },
   {
    "duration": -1910,
    "start_time": "2021-09-27T08:07:46.790Z"
   },
   {
    "duration": -1920,
    "start_time": "2021-09-27T08:07:46.801Z"
   },
   {
    "duration": -1928,
    "start_time": "2021-09-27T08:07:46.810Z"
   },
   {
    "duration": -1936,
    "start_time": "2021-09-27T08:07:46.820Z"
   },
   {
    "duration": -1958,
    "start_time": "2021-09-27T08:07:46.843Z"
   },
   {
    "duration": -1967,
    "start_time": "2021-09-27T08:07:46.853Z"
   },
   {
    "duration": -1976,
    "start_time": "2021-09-27T08:07:46.863Z"
   },
   {
    "duration": -1982,
    "start_time": "2021-09-27T08:07:46.871Z"
   },
   {
    "duration": -1992,
    "start_time": "2021-09-27T08:07:46.882Z"
   },
   {
    "duration": -2000,
    "start_time": "2021-09-27T08:07:46.891Z"
   },
   {
    "duration": -2009,
    "start_time": "2021-09-27T08:07:46.901Z"
   },
   {
    "duration": -2017,
    "start_time": "2021-09-27T08:07:46.911Z"
   },
   {
    "duration": -2027,
    "start_time": "2021-09-27T08:07:46.922Z"
   },
   {
    "duration": -2035,
    "start_time": "2021-09-27T08:07:46.931Z"
   },
   {
    "duration": -2041,
    "start_time": "2021-09-27T08:07:46.939Z"
   },
   {
    "duration": -2062,
    "start_time": "2021-09-27T08:07:46.961Z"
   },
   {
    "duration": -2077,
    "start_time": "2021-09-27T08:07:46.977Z"
   },
   {
    "duration": -2088,
    "start_time": "2021-09-27T08:07:46.990Z"
   },
   {
    "duration": -2034,
    "start_time": "2021-09-27T08:07:47.001Z"
   },
   {
    "duration": -2042,
    "start_time": "2021-09-27T08:07:47.011Z"
   },
   {
    "duration": -2054,
    "start_time": "2021-09-27T08:07:47.024Z"
   },
   {
    "duration": -2065,
    "start_time": "2021-09-27T08:07:47.036Z"
   },
   {
    "duration": -2076,
    "start_time": "2021-09-27T08:07:47.049Z"
   },
   {
    "duration": 19,
    "start_time": "2021-09-27T08:08:46.420Z"
   },
   {
    "duration": 19,
    "start_time": "2021-09-27T08:09:46.466Z"
   },
   {
    "duration": 5487,
    "start_time": "2021-09-27T08:10:00.012Z"
   },
   {
    "duration": 1539,
    "start_time": "2021-09-27T08:10:05.503Z"
   },
   {
    "duration": 4018,
    "start_time": "2021-09-27T08:10:07.046Z"
   },
   {
    "duration": 4,
    "start_time": "2021-09-27T08:10:11.067Z"
   },
   {
    "duration": 1095,
    "start_time": "2021-09-27T08:10:11.074Z"
   },
   {
    "duration": 19,
    "start_time": "2021-09-27T08:10:12.172Z"
   },
   {
    "duration": 16,
    "start_time": "2021-09-27T08:10:12.194Z"
   },
   {
    "duration": 8,
    "start_time": "2021-09-27T08:10:12.214Z"
   },
   {
    "duration": 73,
    "start_time": "2021-09-27T08:10:12.226Z"
   },
   {
    "duration": 28,
    "start_time": "2021-09-27T08:10:12.302Z"
   },
   {
    "duration": 44,
    "start_time": "2021-09-27T08:10:12.333Z"
   },
   {
    "duration": 19,
    "start_time": "2021-09-27T08:10:12.380Z"
   },
   {
    "duration": 9,
    "start_time": "2021-09-27T08:10:12.401Z"
   },
   {
    "duration": 13,
    "start_time": "2021-09-27T08:10:12.412Z"
   },
   {
    "duration": 68,
    "start_time": "2021-09-27T08:10:12.428Z"
   },
   {
    "duration": 5,
    "start_time": "2021-09-27T08:10:12.499Z"
   },
   {
    "duration": 299,
    "start_time": "2021-09-27T08:10:12.507Z"
   },
   {
    "duration": 133,
    "start_time": "2021-09-27T08:10:12.808Z"
   },
   {
    "duration": 27,
    "start_time": "2021-09-27T08:10:12.943Z"
   },
   {
    "duration": 20,
    "start_time": "2021-09-27T08:10:12.972Z"
   },
   {
    "duration": 37,
    "start_time": "2021-09-27T08:10:12.995Z"
   },
   {
    "duration": 5,
    "start_time": "2021-09-27T08:10:13.035Z"
   },
   {
    "duration": 154,
    "start_time": "2021-09-27T08:10:13.047Z"
   },
   {
    "duration": 76,
    "start_time": "2021-09-27T08:10:13.205Z"
   },
   {
    "duration": 11,
    "start_time": "2021-09-27T08:10:13.283Z"
   },
   {
    "duration": 51,
    "start_time": "2021-09-27T08:10:13.296Z"
   },
   {
    "duration": 17,
    "start_time": "2021-09-27T08:10:13.350Z"
   },
   {
    "duration": 181,
    "start_time": "2021-09-27T08:10:13.370Z"
   },
   {
    "duration": 150,
    "start_time": "2021-09-27T08:10:13.554Z"
   },
   {
    "duration": 27,
    "start_time": "2021-09-27T08:10:13.708Z"
   },
   {
    "duration": 33,
    "start_time": "2021-09-27T08:10:13.737Z"
   },
   {
    "duration": 16,
    "start_time": "2021-09-27T08:10:13.773Z"
   },
   {
    "duration": 9,
    "start_time": "2021-09-27T08:10:13.792Z"
   },
   {
    "duration": 77,
    "start_time": "2021-09-27T08:10:13.804Z"
   },
   {
    "duration": 106,
    "start_time": "2021-09-27T08:10:13.884Z"
   },
   {
    "duration": 12,
    "start_time": "2021-09-27T08:10:13.993Z"
   },
   {
    "duration": 62,
    "start_time": "2021-09-27T08:10:14.009Z"
   },
   {
    "duration": 8,
    "start_time": "2021-09-27T08:10:14.073Z"
   },
   {
    "duration": 12,
    "start_time": "2021-09-27T08:10:14.083Z"
   },
   {
    "duration": 1457,
    "start_time": "2021-09-27T08:10:14.098Z"
   },
   {
    "duration": 24,
    "start_time": "2021-09-27T08:10:15.557Z"
   },
   {
    "duration": 13,
    "start_time": "2021-09-27T08:10:15.583Z"
   },
   {
    "duration": 12,
    "start_time": "2021-09-27T08:10:15.598Z"
   },
   {
    "duration": 19,
    "start_time": "2021-09-27T08:10:15.613Z"
   },
   {
    "duration": 10,
    "start_time": "2021-09-27T08:10:15.666Z"
   },
   {
    "duration": 14,
    "start_time": "2021-09-27T08:10:15.678Z"
   },
   {
    "duration": 16,
    "start_time": "2021-09-27T08:10:15.694Z"
   },
   {
    "duration": 9,
    "start_time": "2021-09-27T08:10:15.712Z"
   },
   {
    "duration": 49,
    "start_time": "2021-09-27T08:10:15.723Z"
   },
   {
    "duration": 21,
    "start_time": "2021-09-27T08:10:15.775Z"
   },
   {
    "duration": 19,
    "start_time": "2021-09-27T08:10:15.799Z"
   },
   {
    "duration": 440,
    "start_time": "2021-09-27T08:10:15.821Z"
   },
   {
    "duration": 33,
    "start_time": "2021-09-27T08:10:16.266Z"
   },
   {
    "duration": 20,
    "start_time": "2021-09-27T08:10:16.301Z"
   },
   {
    "duration": 93,
    "start_time": "2021-09-27T08:10:16.323Z"
   },
   {
    "duration": 1463,
    "start_time": "2021-09-27T08:10:16.419Z"
   },
   {
    "duration": 10,
    "start_time": "2021-09-27T08:10:17.885Z"
   },
   {
    "duration": 1698,
    "start_time": "2021-09-27T08:10:17.897Z"
   },
   {
    "duration": 12,
    "start_time": "2021-09-27T08:10:19.598Z"
   },
   {
    "duration": 440,
    "start_time": "2021-09-27T08:10:19.613Z"
   },
   {
    "duration": 435,
    "start_time": "2021-09-27T08:10:20.055Z"
   },
   {
    "duration": 56,
    "start_time": "2021-09-27T08:10:20.492Z"
   },
   {
    "duration": 12,
    "start_time": "2021-09-27T08:10:20.567Z"
   },
   {
    "duration": 27,
    "start_time": "2021-09-27T08:10:20.581Z"
   },
   {
    "duration": 29,
    "start_time": "2021-09-27T08:10:20.610Z"
   },
   {
    "duration": 86,
    "start_time": "2021-09-27T08:10:20.642Z"
   },
   {
    "duration": 45,
    "start_time": "2021-09-27T08:10:20.731Z"
   },
   {
    "duration": 11,
    "start_time": "2021-09-27T08:10:20.789Z"
   },
   {
    "duration": 15,
    "start_time": "2021-09-27T08:10:20.806Z"
   },
   {
    "duration": 78,
    "start_time": "2021-09-27T08:10:20.824Z"
   },
   {
    "duration": 1517,
    "start_time": "2021-09-27T08:10:20.905Z"
   },
   {
    "duration": 2520,
    "start_time": "2021-09-27T08:10:22.425Z"
   },
   {
    "duration": 46,
    "start_time": "2021-09-27T08:10:24.947Z"
   },
   {
    "duration": 20,
    "start_time": "2021-09-27T08:10:24.995Z"
   },
   {
    "duration": 68,
    "start_time": "2021-09-27T08:10:25.017Z"
   },
   {
    "duration": 28,
    "start_time": "2021-09-27T08:10:25.088Z"
   },
   {
    "duration": 28,
    "start_time": "2021-09-27T08:10:25.119Z"
   },
   {
    "duration": 52,
    "start_time": "2021-09-27T08:10:25.150Z"
   },
   {
    "duration": 13,
    "start_time": "2021-09-27T08:10:25.206Z"
   },
   {
    "duration": 52,
    "start_time": "2021-09-27T08:10:25.222Z"
   },
   {
    "duration": 54,
    "start_time": "2021-09-27T08:10:25.277Z"
   },
   {
    "duration": 1706,
    "start_time": "2021-09-27T08:10:25.334Z"
   },
   {
    "duration": 1853,
    "start_time": "2021-09-27T08:10:27.042Z"
   },
   {
    "duration": 43,
    "start_time": "2021-09-27T08:10:28.898Z"
   },
   {
    "duration": 191,
    "start_time": "2021-09-27T08:10:28.944Z"
   },
   {
    "duration": 617,
    "start_time": "2021-09-27T08:10:29.137Z"
   },
   {
    "duration": 33,
    "start_time": "2021-09-27T08:10:29.757Z"
   },
   {
    "duration": 49,
    "start_time": "2021-09-27T08:10:29.792Z"
   },
   {
    "duration": 37,
    "start_time": "2021-09-27T08:10:29.843Z"
   },
   {
    "duration": 18,
    "start_time": "2021-09-27T08:10:29.883Z"
   },
   {
    "duration": 45,
    "start_time": "2021-09-27T08:10:29.904Z"
   },
   {
    "duration": 47,
    "start_time": "2021-09-27T08:10:29.967Z"
   },
   {
    "duration": 54,
    "start_time": "2021-09-27T08:10:30.017Z"
   },
   {
    "duration": 28,
    "start_time": "2021-09-27T08:10:30.074Z"
   },
   {
    "duration": 25,
    "start_time": "2021-09-27T08:10:30.104Z"
   },
   {
    "duration": 52,
    "start_time": "2021-09-27T08:10:30.131Z"
   },
   {
    "duration": 35,
    "start_time": "2021-09-27T08:10:30.185Z"
   },
   {
    "duration": 50,
    "start_time": "2021-09-27T08:10:30.222Z"
   },
   {
    "duration": 50,
    "start_time": "2021-09-27T08:10:30.274Z"
   },
   {
    "duration": 64,
    "start_time": "2021-09-27T08:10:30.327Z"
   },
   {
    "duration": 16,
    "start_time": "2021-09-27T08:10:30.394Z"
   },
   {
    "duration": 61,
    "start_time": "2021-09-27T08:10:30.413Z"
   },
   {
    "duration": 32,
    "start_time": "2021-09-27T08:10:30.476Z"
   },
   {
    "duration": 62,
    "start_time": "2021-09-27T08:10:30.511Z"
   },
   {
    "duration": 38,
    "start_time": "2021-09-27T08:10:30.575Z"
   },
   {
    "duration": 15,
    "start_time": "2021-09-27T08:10:30.615Z"
   },
   {
    "duration": 12,
    "start_time": "2021-09-27T08:10:30.632Z"
   },
   {
    "duration": 23,
    "start_time": "2021-09-27T08:10:30.668Z"
   },
   {
    "duration": 41,
    "start_time": "2021-09-27T08:10:30.693Z"
   },
   {
    "duration": 10,
    "start_time": "2021-09-27T08:10:30.736Z"
   },
   {
    "duration": 45,
    "start_time": "2021-09-27T08:10:30.749Z"
   },
   {
    "duration": 6,
    "start_time": "2021-09-27T08:10:30.796Z"
   },
   {
    "duration": 526,
    "start_time": "2021-09-27T08:10:30.804Z"
   },
   {
    "duration": 7,
    "start_time": "2021-09-27T08:10:31.332Z"
   },
   {
    "duration": 74,
    "start_time": "2021-09-27T08:10:31.342Z"
   },
   {
    "duration": 41,
    "start_time": "2021-09-27T08:10:31.419Z"
   },
   {
    "duration": 10,
    "start_time": "2021-09-27T08:10:31.463Z"
   },
   {
    "duration": 24,
    "start_time": "2021-09-27T08:10:31.476Z"
   },
   {
    "duration": 91,
    "start_time": "2021-09-27T08:10:31.503Z"
   },
   {
    "duration": 102,
    "start_time": "2021-09-27T08:10:31.596Z"
   },
   {
    "duration": 30,
    "start_time": "2021-09-27T08:10:31.701Z"
   },
   {
    "duration": 58,
    "start_time": "2021-09-27T08:10:31.734Z"
   },
   {
    "duration": 7,
    "start_time": "2021-09-27T08:10:31.794Z"
   },
   {
    "duration": 46,
    "start_time": "2021-09-27T08:10:31.804Z"
   },
   {
    "duration": 41,
    "start_time": "2021-09-27T08:10:31.853Z"
   },
   {
    "duration": 20,
    "start_time": "2021-09-27T08:10:31.896Z"
   },
   {
    "duration": 680,
    "start_time": "2021-09-27T08:10:31.918Z"
   },
   {
    "duration": 18,
    "start_time": "2021-09-27T08:10:32.602Z"
   },
   {
    "duration": 698,
    "start_time": "2021-09-27T08:10:32.622Z"
   },
   {
    "duration": 18,
    "start_time": "2021-09-27T08:10:33.323Z"
   },
   {
    "duration": 603,
    "start_time": "2021-09-27T08:10:33.343Z"
   },
   {
    "duration": 612,
    "start_time": "2021-09-27T08:10:33.948Z"
   },
   {
    "duration": 979,
    "start_time": "2021-09-27T08:10:34.562Z"
   },
   {
    "duration": 727,
    "start_time": "2021-09-27T08:10:35.544Z"
   },
   {
    "duration": 906,
    "start_time": "2021-09-27T08:10:36.274Z"
   },
   {
    "duration": 970,
    "start_time": "2021-09-27T08:10:37.182Z"
   },
   {
    "duration": 578,
    "start_time": "2021-09-27T08:10:38.154Z"
   },
   {
    "duration": 707,
    "start_time": "2021-09-27T08:10:38.734Z"
   },
   {
    "duration": 893,
    "start_time": "2021-09-27T08:10:39.444Z"
   },
   {
    "duration": 42,
    "start_time": "2021-09-27T08:10:40.340Z"
   },
   {
    "duration": 594,
    "start_time": "2021-09-27T08:10:40.384Z"
   },
   {
    "duration": 28,
    "start_time": "2021-09-27T08:10:40.980Z"
   },
   {
    "duration": 635,
    "start_time": "2021-09-27T08:10:41.010Z"
   },
   {
    "duration": 33,
    "start_time": "2021-09-27T08:10:41.648Z"
   },
   {
    "duration": 21,
    "start_time": "2021-09-27T08:10:41.683Z"
   },
   {
    "duration": 19,
    "start_time": "2021-09-27T08:10:41.706Z"
   },
   {
    "duration": 42,
    "start_time": "2021-09-27T08:10:41.728Z"
   },
   {
    "duration": 7,
    "start_time": "2021-09-27T08:10:41.772Z"
   },
   {
    "duration": 9,
    "start_time": "2021-09-27T08:10:41.782Z"
   },
   {
    "duration": 20,
    "start_time": "2021-09-27T08:10:41.794Z"
   },
   {
    "duration": 20,
    "start_time": "2021-09-27T08:10:41.817Z"
   },
   {
    "duration": 10,
    "start_time": "2021-09-27T08:10:41.868Z"
   },
   {
    "duration": 7,
    "start_time": "2021-09-27T08:10:41.880Z"
   },
   {
    "duration": 8,
    "start_time": "2021-09-27T08:10:41.889Z"
   },
   {
    "duration": 7,
    "start_time": "2021-09-27T08:10:41.900Z"
   },
   {
    "duration": 9,
    "start_time": "2021-09-27T08:10:41.910Z"
   },
   {
    "duration": 4,
    "start_time": "2021-09-27T08:11:49.676Z"
   },
   {
    "duration": 16,
    "start_time": "2021-09-27T08:11:51.758Z"
   },
   {
    "duration": 28,
    "start_time": "2021-09-27T08:19:08.910Z"
   },
   {
    "duration": 399,
    "start_time": "2021-09-27T08:33:55.719Z"
   },
   {
    "duration": 313,
    "start_time": "2021-09-27T15:26:56.958Z"
   },
   {
    "duration": 588,
    "start_time": "2021-09-27T15:27:02.451Z"
   },
   {
    "duration": 340,
    "start_time": "2021-09-27T15:27:16.783Z"
   },
   {
    "duration": 7086,
    "start_time": "2021-09-27T15:27:28.821Z"
   },
   {
    "duration": 1476,
    "start_time": "2021-09-27T15:27:35.910Z"
   },
   {
    "duration": 4087,
    "start_time": "2021-09-27T15:27:37.389Z"
   },
   {
    "duration": 5,
    "start_time": "2021-09-27T15:27:41.480Z"
   },
   {
    "duration": 1046,
    "start_time": "2021-09-27T15:27:41.487Z"
   },
   {
    "duration": 21,
    "start_time": "2021-09-27T15:27:42.536Z"
   },
   {
    "duration": 30,
    "start_time": "2021-09-27T15:27:42.559Z"
   },
   {
    "duration": 9,
    "start_time": "2021-09-27T15:27:42.593Z"
   },
   {
    "duration": 55,
    "start_time": "2021-09-27T15:27:42.605Z"
   },
   {
    "duration": 28,
    "start_time": "2021-09-27T15:27:42.663Z"
   },
   {
    "duration": 38,
    "start_time": "2021-09-27T15:27:42.693Z"
   },
   {
    "duration": 17,
    "start_time": "2021-09-27T15:27:42.733Z"
   },
   {
    "duration": 23,
    "start_time": "2021-09-27T15:27:42.752Z"
   },
   {
    "duration": 28,
    "start_time": "2021-09-27T15:27:42.778Z"
   },
   {
    "duration": 44,
    "start_time": "2021-09-27T15:27:42.816Z"
   },
   {
    "duration": 6,
    "start_time": "2021-09-27T15:27:42.862Z"
   },
   {
    "duration": 292,
    "start_time": "2021-09-27T15:27:42.870Z"
   },
   {
    "duration": 132,
    "start_time": "2021-09-27T15:27:43.165Z"
   },
   {
    "duration": 18,
    "start_time": "2021-09-27T15:27:43.299Z"
   },
   {
    "duration": 17,
    "start_time": "2021-09-27T15:27:43.319Z"
   },
   {
    "duration": 38,
    "start_time": "2021-09-27T15:27:43.338Z"
   },
   {
    "duration": 5,
    "start_time": "2021-09-27T15:27:43.379Z"
   },
   {
    "duration": 156,
    "start_time": "2021-09-27T15:27:43.390Z"
   },
   {
    "duration": 76,
    "start_time": "2021-09-27T15:27:43.550Z"
   },
   {
    "duration": 11,
    "start_time": "2021-09-27T15:27:43.628Z"
   },
   {
    "duration": 46,
    "start_time": "2021-09-27T15:27:43.642Z"
   },
   {
    "duration": 5,
    "start_time": "2021-09-27T15:27:43.690Z"
   },
   {
    "duration": 191,
    "start_time": "2021-09-27T15:27:43.716Z"
   },
   {
    "duration": 139,
    "start_time": "2021-09-27T15:27:43.916Z"
   },
   {
    "duration": 64,
    "start_time": "2021-09-27T15:27:44.057Z"
   },
   {
    "duration": 27,
    "start_time": "2021-09-27T15:27:44.123Z"
   },
   {
    "duration": 29,
    "start_time": "2021-09-27T15:27:44.152Z"
   },
   {
    "duration": 269,
    "start_time": "2021-09-27T15:27:44.183Z"
   },
   {
    "duration": 124,
    "start_time": "2021-09-27T15:27:44.455Z"
   },
   {
    "duration": 95,
    "start_time": "2021-09-27T15:27:44.582Z"
   },
   {
    "duration": 13,
    "start_time": "2021-09-27T15:27:44.680Z"
   },
   {
    "duration": 62,
    "start_time": "2021-09-27T15:27:44.696Z"
   },
   {
    "duration": 11,
    "start_time": "2021-09-27T15:27:44.761Z"
   },
   {
    "duration": 42,
    "start_time": "2021-09-27T15:27:44.775Z"
   },
   {
    "duration": 1233,
    "start_time": "2021-09-27T15:27:44.819Z"
   },
   {
    "duration": 468,
    "start_time": "2021-09-27T15:27:46.055Z"
   },
   {
    "duration": 472,
    "start_time": "2021-09-27T15:27:46.526Z"
   },
   {
    "duration": 29,
    "start_time": "2021-09-27T15:27:47.000Z"
   },
   {
    "duration": 17,
    "start_time": "2021-09-27T15:27:47.032Z"
   },
   {
    "duration": 15,
    "start_time": "2021-09-27T15:27:47.052Z"
   },
   {
    "duration": 18,
    "start_time": "2021-09-27T15:27:47.070Z"
   },
   {
    "duration": 40,
    "start_time": "2021-09-27T15:27:47.090Z"
   },
   {
    "duration": 126,
    "start_time": "2021-09-27T15:27:47.133Z"
   },
   {
    "duration": 26,
    "start_time": "2021-09-27T15:27:47.261Z"
   },
   {
    "duration": 11,
    "start_time": "2021-09-27T15:27:47.289Z"
   },
   {
    "duration": 14,
    "start_time": "2021-09-27T15:27:47.302Z"
   },
   {
    "duration": 25,
    "start_time": "2021-09-27T15:27:47.319Z"
   },
   {
    "duration": 20,
    "start_time": "2021-09-27T15:27:47.346Z"
   },
   {
    "duration": 18,
    "start_time": "2021-09-27T15:27:47.368Z"
   },
   {
    "duration": 400,
    "start_time": "2021-09-27T15:27:47.416Z"
   },
   {
    "duration": 35,
    "start_time": "2021-09-27T15:27:47.818Z"
   },
   {
    "duration": 21,
    "start_time": "2021-09-27T15:27:47.855Z"
   },
   {
    "duration": 92,
    "start_time": "2021-09-27T15:27:47.879Z"
   },
   {
    "duration": 1374,
    "start_time": "2021-09-27T15:27:47.974Z"
   },
   {
    "duration": 11,
    "start_time": "2021-09-27T15:27:49.351Z"
   },
   {
    "duration": 1737,
    "start_time": "2021-09-27T15:27:49.364Z"
   },
   {
    "duration": 20,
    "start_time": "2021-09-27T15:27:51.104Z"
   },
   {
    "duration": 519,
    "start_time": "2021-09-27T15:27:51.127Z"
   },
   {
    "duration": 412,
    "start_time": "2021-09-27T15:27:51.649Z"
   },
   {
    "duration": 65,
    "start_time": "2021-09-27T15:27:52.064Z"
   },
   {
    "duration": 13,
    "start_time": "2021-09-27T15:27:52.132Z"
   },
   {
    "duration": 19,
    "start_time": "2021-09-27T15:27:52.148Z"
   },
   {
    "duration": 51,
    "start_time": "2021-09-27T15:27:52.178Z"
   },
   {
    "duration": 82,
    "start_time": "2021-09-27T15:27:52.234Z"
   },
   {
    "duration": 25,
    "start_time": "2021-09-27T15:27:52.318Z"
   },
   {
    "duration": 10,
    "start_time": "2021-09-27T15:27:52.346Z"
   },
   {
    "duration": 21,
    "start_time": "2021-09-27T15:27:52.359Z"
   },
   {
    "duration": 73,
    "start_time": "2021-09-27T15:27:52.383Z"
   },
   {
    "duration": 1327,
    "start_time": "2021-09-27T15:27:52.459Z"
   },
   {
    "duration": 1861,
    "start_time": "2021-09-27T15:27:53.789Z"
   },
   {
    "duration": 38,
    "start_time": "2021-09-27T15:27:55.653Z"
   },
   {
    "duration": 40,
    "start_time": "2021-09-27T15:27:55.693Z"
   },
   {
    "duration": 43,
    "start_time": "2021-09-27T15:27:55.735Z"
   },
   {
    "duration": 53,
    "start_time": "2021-09-27T15:27:55.780Z"
   },
   {
    "duration": 11,
    "start_time": "2021-09-27T15:27:55.836Z"
   },
   {
    "duration": 49,
    "start_time": "2021-09-27T15:27:55.850Z"
   },
   {
    "duration": 24,
    "start_time": "2021-09-27T15:27:55.901Z"
   },
   {
    "duration": 38,
    "start_time": "2021-09-27T15:27:55.928Z"
   },
   {
    "duration": 71,
    "start_time": "2021-09-27T15:27:55.968Z"
   },
   {
    "duration": 1540,
    "start_time": "2021-09-27T15:27:56.041Z"
   },
   {
    "duration": 2041,
    "start_time": "2021-09-27T15:27:57.584Z"
   },
   {
    "duration": 44,
    "start_time": "2021-09-27T15:27:59.627Z"
   },
   {
    "duration": 1654,
    "start_time": "2021-09-27T15:28:49.896Z"
   },
   {
    "duration": 1636,
    "start_time": "2021-09-27T15:28:49.916Z"
   },
   {
    "duration": 1619,
    "start_time": "2021-09-27T15:28:49.934Z"
   },
   {
    "duration": 1599,
    "start_time": "2021-09-27T15:28:49.956Z"
   },
   {
    "duration": 1573,
    "start_time": "2021-09-27T15:28:49.983Z"
   },
   {
    "duration": 1526,
    "start_time": "2021-09-27T15:28:50.032Z"
   },
   {
    "duration": 1504,
    "start_time": "2021-09-27T15:28:50.055Z"
   },
   {
    "duration": 1542,
    "start_time": "2021-09-27T15:28:50.074Z"
   },
   {
    "duration": 1524,
    "start_time": "2021-09-27T15:28:50.094Z"
   },
   {
    "duration": 1506,
    "start_time": "2021-09-27T15:28:50.113Z"
   },
   {
    "duration": 1460,
    "start_time": "2021-09-27T15:28:50.160Z"
   },
   {
    "duration": 1445,
    "start_time": "2021-09-27T15:28:50.177Z"
   },
   {
    "duration": 1426,
    "start_time": "2021-09-27T15:28:50.197Z"
   },
   {
    "duration": 1410,
    "start_time": "2021-09-27T15:28:50.214Z"
   },
   {
    "duration": 1389,
    "start_time": "2021-09-27T15:28:50.236Z"
   },
   {
    "duration": 1374,
    "start_time": "2021-09-27T15:28:50.253Z"
   },
   {
    "duration": 1334,
    "start_time": "2021-09-27T15:28:50.294Z"
   },
   {
    "duration": 1318,
    "start_time": "2021-09-27T15:28:50.311Z"
   },
   {
    "duration": 1301,
    "start_time": "2021-09-27T15:28:50.330Z"
   },
   {
    "duration": 1283,
    "start_time": "2021-09-27T15:28:50.349Z"
   },
   {
    "duration": 1265,
    "start_time": "2021-09-27T15:28:50.368Z"
   },
   {
    "duration": 1249,
    "start_time": "2021-09-27T15:28:50.385Z"
   },
   {
    "duration": 1197,
    "start_time": "2021-09-27T15:28:50.438Z"
   },
   {
    "duration": 1184,
    "start_time": "2021-09-27T15:28:50.453Z"
   },
   {
    "duration": 1167,
    "start_time": "2021-09-27T15:28:50.471Z"
   },
   {
    "duration": 1151,
    "start_time": "2021-09-27T15:28:50.489Z"
   },
   {
    "duration": 1129,
    "start_time": "2021-09-27T15:28:50.512Z"
   },
   {
    "duration": 1113,
    "start_time": "2021-09-27T15:28:50.529Z"
   },
   {
    "duration": 1076,
    "start_time": "2021-09-27T15:28:50.568Z"
   },
   {
    "duration": 1064,
    "start_time": "2021-09-27T15:28:50.581Z"
   },
   {
    "duration": 693,
    "start_time": "2021-09-27T15:28:50.953Z"
   },
   {
    "duration": 687,
    "start_time": "2021-09-27T15:28:50.960Z"
   },
   {
    "duration": 681,
    "start_time": "2021-09-27T15:28:50.968Z"
   },
   {
    "duration": 676,
    "start_time": "2021-09-27T15:28:50.974Z"
   },
   {
    "duration": 445,
    "start_time": "2021-09-27T15:28:51.207Z"
   },
   {
    "duration": 493,
    "start_time": "2021-09-27T15:28:51.223Z"
   },
   {
    "duration": 488,
    "start_time": "2021-09-27T15:28:51.230Z"
   },
   {
    "duration": 481,
    "start_time": "2021-09-27T15:28:51.238Z"
   },
   {
    "duration": 475,
    "start_time": "2021-09-27T15:28:51.246Z"
   },
   {
    "duration": 470,
    "start_time": "2021-09-27T15:28:51.252Z"
   },
   {
    "duration": 463,
    "start_time": "2021-09-27T15:28:51.260Z"
   },
   {
    "duration": 458,
    "start_time": "2021-09-27T15:28:51.267Z"
   },
   {
    "duration": 451,
    "start_time": "2021-09-27T15:28:51.275Z"
   },
   {
    "duration": 446,
    "start_time": "2021-09-27T15:28:51.282Z"
   },
   {
    "duration": 332,
    "start_time": "2021-09-27T15:28:51.397Z"
   },
   {
    "duration": 323,
    "start_time": "2021-09-27T15:28:51.408Z"
   },
   {
    "duration": 316,
    "start_time": "2021-09-27T15:28:51.416Z"
   },
   {
    "duration": 309,
    "start_time": "2021-09-27T15:28:51.424Z"
   },
   {
    "duration": 303,
    "start_time": "2021-09-27T15:28:51.431Z"
   },
   {
    "duration": 297,
    "start_time": "2021-09-27T15:28:51.439Z"
   },
   {
    "duration": 291,
    "start_time": "2021-09-27T15:28:51.446Z"
   },
   {
    "duration": 287,
    "start_time": "2021-09-27T15:28:51.452Z"
   },
   {
    "duration": 280,
    "start_time": "2021-09-27T15:28:51.460Z"
   },
   {
    "duration": 275,
    "start_time": "2021-09-27T15:28:51.466Z"
   },
   {
    "duration": 267,
    "start_time": "2021-09-27T15:28:51.475Z"
   },
   {
    "duration": 263,
    "start_time": "2021-09-27T15:28:51.481Z"
   },
   {
    "duration": 66,
    "start_time": "2021-09-27T15:28:51.679Z"
   },
   {
    "duration": 60,
    "start_time": "2021-09-27T15:28:51.686Z"
   },
   {
    "duration": -51,
    "start_time": "2021-09-27T15:28:51.798Z"
   },
   {
    "duration": -64,
    "start_time": "2021-09-27T15:28:51.813Z"
   },
   {
    "duration": -72,
    "start_time": "2021-09-27T15:28:51.822Z"
   },
   {
    "duration": -77,
    "start_time": "2021-09-27T15:28:51.829Z"
   },
   {
    "duration": -85,
    "start_time": "2021-09-27T15:28:51.838Z"
   },
   {
    "duration": -90,
    "start_time": "2021-09-27T15:28:51.844Z"
   },
   {
    "duration": -37,
    "start_time": "2021-09-27T15:28:51.852Z"
   },
   {
    "duration": -41,
    "start_time": "2021-09-27T15:28:51.858Z"
   },
   {
    "duration": -48,
    "start_time": "2021-09-27T15:28:51.866Z"
   },
   {
    "duration": -151,
    "start_time": "2021-09-27T15:28:51.971Z"
   },
   {
    "duration": -156,
    "start_time": "2021-09-27T15:28:51.978Z"
   },
   {
    "duration": -161,
    "start_time": "2021-09-27T15:28:51.984Z"
   },
   {
    "duration": -167,
    "start_time": "2021-09-27T15:28:51.992Z"
   },
   {
    "duration": -172,
    "start_time": "2021-09-27T15:28:51.998Z"
   },
   {
    "duration": -179,
    "start_time": "2021-09-27T15:28:52.006Z"
   },
   {
    "duration": -183,
    "start_time": "2021-09-27T15:28:52.012Z"
   },
   {
    "duration": -189,
    "start_time": "2021-09-27T15:28:52.019Z"
   },
   {
    "duration": -195,
    "start_time": "2021-09-27T15:28:52.026Z"
   },
   {
    "duration": -200,
    "start_time": "2021-09-27T15:28:52.033Z"
   },
   {
    "duration": -416,
    "start_time": "2021-09-27T15:28:52.250Z"
   },
   {
    "duration": -422,
    "start_time": "2021-09-27T15:28:52.257Z"
   },
   {
    "duration": -429,
    "start_time": "2021-09-27T15:28:52.265Z"
   },
   {
    "duration": -435,
    "start_time": "2021-09-27T15:28:52.273Z"
   },
   {
    "duration": -439,
    "start_time": "2021-09-27T15:28:52.278Z"
   },
   {
    "duration": -446,
    "start_time": "2021-09-27T15:28:52.286Z"
   },
   {
    "duration": -450,
    "start_time": "2021-09-27T15:28:52.292Z"
   },
   {
    "duration": -455,
    "start_time": "2021-09-27T15:28:52.298Z"
   },
   {
    "duration": -460,
    "start_time": "2021-09-27T15:28:52.305Z"
   },
   {
    "duration": -466,
    "start_time": "2021-09-27T15:28:52.312Z"
   },
   {
    "duration": -471,
    "start_time": "2021-09-27T15:28:52.318Z"
   },
   {
    "duration": -477,
    "start_time": "2021-09-27T15:28:52.326Z"
   },
   {
    "duration": -482,
    "start_time": "2021-09-27T15:28:52.332Z"
   },
   {
    "duration": -489,
    "start_time": "2021-09-27T15:28:52.341Z"
   },
   {
    "duration": -495,
    "start_time": "2021-09-27T15:28:52.348Z"
   },
   {
    "duration": -451,
    "start_time": "2021-09-27T15:28:52.371Z"
   },
   {
    "duration": -565,
    "start_time": "2021-09-27T15:28:52.486Z"
   },
   {
    "duration": -822,
    "start_time": "2021-09-27T15:28:52.745Z"
   },
   {
    "duration": -828,
    "start_time": "2021-09-27T15:28:52.753Z"
   },
   {
    "duration": -835,
    "start_time": "2021-09-27T15:28:52.761Z"
   },
   {
    "duration": -841,
    "start_time": "2021-09-27T15:28:52.768Z"
   },
   {
    "duration": -846,
    "start_time": "2021-09-27T15:28:52.775Z"
   },
   {
    "duration": -851,
    "start_time": "2021-09-27T15:28:52.781Z"
   },
   {
    "duration": -857,
    "start_time": "2021-09-27T15:28:52.789Z"
   },
   {
    "duration": -863,
    "start_time": "2021-09-27T15:28:52.796Z"
   },
   {
    "duration": -868,
    "start_time": "2021-09-27T15:28:52.803Z"
   },
   {
    "duration": -874,
    "start_time": "2021-09-27T15:28:52.810Z"
   },
   {
    "duration": -879,
    "start_time": "2021-09-27T15:28:52.817Z"
   },
   {
    "duration": -883,
    "start_time": "2021-09-27T15:28:52.823Z"
   },
   {
    "duration": -890,
    "start_time": "2021-09-27T15:28:52.831Z"
   },
   {
    "duration": -897,
    "start_time": "2021-09-27T15:28:52.839Z"
   },
   {
    "duration": -915,
    "start_time": "2021-09-27T15:28:52.859Z"
   },
   {
    "duration": -1085,
    "start_time": "2021-09-27T15:28:53.030Z"
   },
   {
    "duration": -1090,
    "start_time": "2021-09-27T15:28:53.037Z"
   },
   {
    "duration": -1095,
    "start_time": "2021-09-27T15:28:53.044Z"
   },
   {
    "duration": -1102,
    "start_time": "2021-09-27T15:28:53.052Z"
   },
   {
    "duration": -1106,
    "start_time": "2021-09-27T15:28:53.058Z"
   },
   {
    "duration": -1150,
    "start_time": "2021-09-27T15:28:53.166Z"
   },
   {
    "duration": -1155,
    "start_time": "2021-09-27T15:28:53.173Z"
   },
   {
    "duration": -1162,
    "start_time": "2021-09-27T15:28:53.181Z"
   },
   {
    "duration": -1167,
    "start_time": "2021-09-27T15:28:53.188Z"
   },
   {
    "duration": -1172,
    "start_time": "2021-09-27T15:28:53.195Z"
   },
   {
    "duration": -1178,
    "start_time": "2021-09-27T15:28:53.202Z"
   },
   {
    "duration": -1184,
    "start_time": "2021-09-27T15:28:53.210Z"
   },
   {
    "duration": -1188,
    "start_time": "2021-09-27T15:28:53.216Z"
   },
   {
    "duration": -1242,
    "start_time": "2021-09-27T15:28:53.271Z"
   },
   {
    "duration": -1246,
    "start_time": "2021-09-27T15:28:53.276Z"
   },
   {
    "duration": -1251,
    "start_time": "2021-09-27T15:28:53.283Z"
   },
   {
    "duration": -1256,
    "start_time": "2021-09-27T15:28:53.290Z"
   },
   {
    "duration": -1263,
    "start_time": "2021-09-27T15:28:53.298Z"
   },
   {
    "duration": -1268,
    "start_time": "2021-09-27T15:28:53.305Z"
   },
   {
    "duration": -1273,
    "start_time": "2021-09-27T15:28:53.312Z"
   },
   {
    "duration": -1279,
    "start_time": "2021-09-27T15:28:53.319Z"
   },
   {
    "duration": -1286,
    "start_time": "2021-09-27T15:28:53.327Z"
   },
   {
    "duration": -1302,
    "start_time": "2021-09-27T15:28:53.345Z"
   },
   {
    "duration": -1309,
    "start_time": "2021-09-27T15:28:53.353Z"
   },
   {
    "duration": -1313,
    "start_time": "2021-09-27T15:28:53.359Z"
   },
   {
    "duration": -1320,
    "start_time": "2021-09-27T15:28:53.367Z"
   },
   {
    "duration": -1325,
    "start_time": "2021-09-27T15:28:53.374Z"
   },
   {
    "duration": -1331,
    "start_time": "2021-09-27T15:28:53.381Z"
   },
   {
    "duration": -1339,
    "start_time": "2021-09-27T15:28:53.390Z"
   },
   {
    "duration": -1349,
    "start_time": "2021-09-27T15:28:53.402Z"
   },
   {
    "duration": -1358,
    "start_time": "2021-09-27T15:28:53.412Z"
   },
   {
    "duration": -1306,
    "start_time": "2021-09-27T15:28:53.423Z"
   },
   {
    "duration": -1634,
    "start_time": "2021-09-27T15:28:53.752Z"
   },
   {
    "duration": -1740,
    "start_time": "2021-09-27T15:28:53.860Z"
   },
   {
    "duration": -1745,
    "start_time": "2021-09-27T15:28:53.866Z"
   },
   {
    "duration": -1751,
    "start_time": "2021-09-27T15:28:53.873Z"
   },
   {
    "duration": -1755,
    "start_time": "2021-09-27T15:28:53.879Z"
   },
   {
    "duration": -1762,
    "start_time": "2021-09-27T15:28:53.887Z"
   },
   {
    "duration": -1766,
    "start_time": "2021-09-27T15:28:53.893Z"
   },
   {
    "duration": -1774,
    "start_time": "2021-09-27T15:28:53.902Z"
   },
   {
    "duration": -1778,
    "start_time": "2021-09-27T15:28:53.908Z"
   },
   {
    "duration": -1784,
    "start_time": "2021-09-27T15:28:53.915Z"
   },
   {
    "duration": -1790,
    "start_time": "2021-09-27T15:28:53.922Z"
   },
   {
    "duration": -1795,
    "start_time": "2021-09-27T15:28:53.929Z"
   },
   {
    "duration": -1812,
    "start_time": "2021-09-27T15:28:53.947Z"
   },
   {
    "duration": -1820,
    "start_time": "2021-09-27T15:28:53.957Z"
   },
   {
    "duration": -1825,
    "start_time": "2021-09-27T15:28:53.963Z"
   },
   {
    "duration": -1831,
    "start_time": "2021-09-27T15:28:53.971Z"
   },
   {
    "duration": -1836,
    "start_time": "2021-09-27T15:28:53.977Z"
   },
   {
    "duration": -1843,
    "start_time": "2021-09-27T15:28:53.986Z"
   },
   {
    "duration": -1849,
    "start_time": "2021-09-27T15:28:53.993Z"
   },
   {
    "duration": -1857,
    "start_time": "2021-09-27T15:28:54.002Z"
   },
   {
    "duration": -1866,
    "start_time": "2021-09-27T15:28:54.013Z"
   },
   {
    "duration": -1879,
    "start_time": "2021-09-27T15:28:54.027Z"
   },
   {
    "duration": -1891,
    "start_time": "2021-09-27T15:28:54.041Z"
   },
   {
    "duration": -1919,
    "start_time": "2021-09-27T15:28:54.070Z"
   },
   {
    "duration": 5343,
    "start_time": "2021-09-27T15:29:58.781Z"
   },
   {
    "duration": 1444,
    "start_time": "2021-09-27T15:30:04.127Z"
   },
   {
    "duration": 4195,
    "start_time": "2021-09-27T15:30:05.574Z"
   },
   {
    "duration": 4,
    "start_time": "2021-09-27T15:30:09.772Z"
   },
   {
    "duration": 1261,
    "start_time": "2021-09-27T15:30:09.778Z"
   },
   {
    "duration": 20,
    "start_time": "2021-09-27T15:30:11.041Z"
   },
   {
    "duration": 17,
    "start_time": "2021-09-27T15:30:11.064Z"
   },
   {
    "duration": 8,
    "start_time": "2021-09-27T15:30:11.086Z"
   },
   {
    "duration": 57,
    "start_time": "2021-09-27T15:30:11.097Z"
   },
   {
    "duration": 28,
    "start_time": "2021-09-27T15:30:11.157Z"
   },
   {
    "duration": 56,
    "start_time": "2021-09-27T15:30:11.188Z"
   },
   {
    "duration": 14,
    "start_time": "2021-09-27T15:30:11.246Z"
   },
   {
    "duration": 9,
    "start_time": "2021-09-27T15:30:11.263Z"
   },
   {
    "duration": 52,
    "start_time": "2021-09-27T15:30:11.275Z"
   },
   {
    "duration": 35,
    "start_time": "2021-09-27T15:30:11.329Z"
   },
   {
    "duration": 5,
    "start_time": "2021-09-27T15:30:11.367Z"
   },
   {
    "duration": 317,
    "start_time": "2021-09-27T15:30:11.375Z"
   },
   {
    "duration": 133,
    "start_time": "2021-09-27T15:30:11.694Z"
   },
   {
    "duration": 15,
    "start_time": "2021-09-27T15:30:11.829Z"
   },
   {
    "duration": 12,
    "start_time": "2021-09-27T15:30:11.846Z"
   },
   {
    "duration": 27,
    "start_time": "2021-09-27T15:30:11.860Z"
   },
   {
    "duration": 7,
    "start_time": "2021-09-27T15:30:11.917Z"
   },
   {
    "duration": 150,
    "start_time": "2021-09-27T15:30:11.930Z"
   },
   {
    "duration": 73,
    "start_time": "2021-09-27T15:30:12.086Z"
   },
   {
    "duration": 11,
    "start_time": "2021-09-27T15:30:12.161Z"
   },
   {
    "duration": 56,
    "start_time": "2021-09-27T15:30:12.174Z"
   },
   {
    "duration": 5,
    "start_time": "2021-09-27T15:30:12.233Z"
   },
   {
    "duration": 189,
    "start_time": "2021-09-27T15:30:12.241Z"
   },
   {
    "duration": 137,
    "start_time": "2021-09-27T15:30:12.432Z"
   },
   {
    "duration": 23,
    "start_time": "2021-09-27T15:30:12.572Z"
   },
   {
    "duration": 29,
    "start_time": "2021-09-27T15:30:12.597Z"
   },
   {
    "duration": 22,
    "start_time": "2021-09-27T15:30:12.629Z"
   },
   {
    "duration": 11,
    "start_time": "2021-09-27T15:30:12.653Z"
   },
   {
    "duration": 61,
    "start_time": "2021-09-27T15:30:12.666Z"
   },
   {
    "duration": 109,
    "start_time": "2021-09-27T15:30:12.730Z"
   },
   {
    "duration": 13,
    "start_time": "2021-09-27T15:30:12.841Z"
   },
   {
    "duration": 43,
    "start_time": "2021-09-27T15:30:12.856Z"
   },
   {
    "duration": 8,
    "start_time": "2021-09-27T15:30:12.917Z"
   },
   {
    "duration": 11,
    "start_time": "2021-09-27T15:30:12.927Z"
   },
   {
    "duration": 1245,
    "start_time": "2021-09-27T15:30:12.940Z"
   },
   {
    "duration": 453,
    "start_time": "2021-09-27T15:30:14.187Z"
   },
   {
    "duration": 467,
    "start_time": "2021-09-27T15:30:14.642Z"
   },
   {
    "duration": 21,
    "start_time": "2021-09-27T15:30:15.115Z"
   },
   {
    "duration": 19,
    "start_time": "2021-09-27T15:30:15.138Z"
   },
   {
    "duration": 16,
    "start_time": "2021-09-27T15:30:15.160Z"
   },
   {
    "duration": 38,
    "start_time": "2021-09-27T15:30:15.178Z"
   },
   {
    "duration": 18,
    "start_time": "2021-09-27T15:30:15.219Z"
   },
   {
    "duration": 120,
    "start_time": "2021-09-27T15:30:15.239Z"
   },
   {
    "duration": 25,
    "start_time": "2021-09-27T15:30:15.362Z"
   },
   {
    "duration": 24,
    "start_time": "2021-09-27T15:30:15.389Z"
   },
   {
    "duration": 27,
    "start_time": "2021-09-27T15:30:15.415Z"
   },
   {
    "duration": 36,
    "start_time": "2021-09-27T15:30:15.444Z"
   },
   {
    "duration": 29,
    "start_time": "2021-09-27T15:30:15.483Z"
   },
   {
    "duration": 35,
    "start_time": "2021-09-27T15:30:15.515Z"
   },
   {
    "duration": 377,
    "start_time": "2021-09-27T15:30:15.553Z"
   },
   {
    "duration": 32,
    "start_time": "2021-09-27T15:30:15.933Z"
   },
   {
    "duration": 23,
    "start_time": "2021-09-27T15:30:15.968Z"
   },
   {
    "duration": 88,
    "start_time": "2021-09-27T15:30:15.993Z"
   },
   {
    "duration": 1310,
    "start_time": "2021-09-27T15:30:16.084Z"
   },
   {
    "duration": 21,
    "start_time": "2021-09-27T15:30:17.398Z"
   },
   {
    "duration": 1712,
    "start_time": "2021-09-27T15:30:17.422Z"
   },
   {
    "duration": 13,
    "start_time": "2021-09-27T15:30:19.136Z"
   },
   {
    "duration": 544,
    "start_time": "2021-09-27T15:30:19.151Z"
   },
   {
    "duration": 411,
    "start_time": "2021-09-27T15:30:19.697Z"
   },
   {
    "duration": 61,
    "start_time": "2021-09-27T15:30:20.111Z"
   },
   {
    "duration": 11,
    "start_time": "2021-09-27T15:30:20.175Z"
   },
   {
    "duration": 40,
    "start_time": "2021-09-27T15:30:20.189Z"
   },
   {
    "duration": 27,
    "start_time": "2021-09-27T15:30:20.240Z"
   },
   {
    "duration": 88,
    "start_time": "2021-09-27T15:30:20.271Z"
   },
   {
    "duration": 26,
    "start_time": "2021-09-27T15:30:20.361Z"
   },
   {
    "duration": 31,
    "start_time": "2021-09-27T15:30:20.389Z"
   },
   {
    "duration": 25,
    "start_time": "2021-09-27T15:30:20.422Z"
   },
   {
    "duration": 59,
    "start_time": "2021-09-27T15:30:20.449Z"
   },
   {
    "duration": 1296,
    "start_time": "2021-09-27T15:30:20.511Z"
   },
   {
    "duration": 1827,
    "start_time": "2021-09-27T15:30:21.809Z"
   },
   {
    "duration": 40,
    "start_time": "2021-09-27T15:30:23.639Z"
   },
   {
    "duration": 45,
    "start_time": "2021-09-27T15:30:23.682Z"
   },
   {
    "duration": 44,
    "start_time": "2021-09-27T15:30:23.729Z"
   },
   {
    "duration": 58,
    "start_time": "2021-09-27T15:30:23.775Z"
   },
   {
    "duration": 13,
    "start_time": "2021-09-27T15:30:23.836Z"
   },
   {
    "duration": 43,
    "start_time": "2021-09-27T15:30:23.852Z"
   },
   {
    "duration": 28,
    "start_time": "2021-09-27T15:30:23.898Z"
   },
   {
    "duration": 28,
    "start_time": "2021-09-27T15:30:23.929Z"
   },
   {
    "duration": 81,
    "start_time": "2021-09-27T15:30:23.960Z"
   },
   {
    "duration": 1404,
    "start_time": "2021-09-27T15:30:24.044Z"
   },
   {
    "duration": 1915,
    "start_time": "2021-09-27T15:30:25.450Z"
   },
   {
    "duration": 57,
    "start_time": "2021-09-27T15:30:27.367Z"
   },
   {
    "duration": 191,
    "start_time": "2021-09-27T15:30:27.426Z"
   },
   {
    "duration": 640,
    "start_time": "2021-09-27T15:30:27.620Z"
   },
   {
    "duration": 28,
    "start_time": "2021-09-27T15:30:28.264Z"
   },
   {
    "duration": 49,
    "start_time": "2021-09-27T15:30:28.315Z"
   },
   {
    "duration": 15,
    "start_time": "2021-09-27T15:30:28.367Z"
   },
   {
    "duration": 40,
    "start_time": "2021-09-27T15:30:28.385Z"
   },
   {
    "duration": 33,
    "start_time": "2021-09-27T15:30:28.428Z"
   },
   {
    "duration": 70,
    "start_time": "2021-09-27T15:30:28.463Z"
   },
   {
    "duration": 39,
    "start_time": "2021-09-27T15:30:28.536Z"
   },
   {
    "duration": 51,
    "start_time": "2021-09-27T15:30:28.577Z"
   },
   {
    "duration": 26,
    "start_time": "2021-09-27T15:30:28.631Z"
   },
   {
    "duration": 22,
    "start_time": "2021-09-27T15:30:28.659Z"
   },
   {
    "duration": 54,
    "start_time": "2021-09-27T15:30:28.683Z"
   },
   {
    "duration": 26,
    "start_time": "2021-09-27T15:30:28.740Z"
   },
   {
    "duration": 73,
    "start_time": "2021-09-27T15:30:28.768Z"
   },
   {
    "duration": 37,
    "start_time": "2021-09-27T15:30:28.844Z"
   },
   {
    "duration": 46,
    "start_time": "2021-09-27T15:30:28.884Z"
   },
   {
    "duration": 34,
    "start_time": "2021-09-27T15:30:28.933Z"
   },
   {
    "duration": 23,
    "start_time": "2021-09-27T15:30:28.969Z"
   },
   {
    "duration": 65,
    "start_time": "2021-09-27T15:30:28.995Z"
   },
   {
    "duration": 38,
    "start_time": "2021-09-27T15:30:29.062Z"
   },
   {
    "duration": 10,
    "start_time": "2021-09-27T15:30:29.117Z"
   },
   {
    "duration": 8,
    "start_time": "2021-09-27T15:30:29.129Z"
   },
   {
    "duration": 22,
    "start_time": "2021-09-27T15:30:29.140Z"
   },
   {
    "duration": 60,
    "start_time": "2021-09-27T15:30:29.165Z"
   },
   {
    "duration": 9,
    "start_time": "2021-09-27T15:30:29.227Z"
   },
   {
    "duration": 31,
    "start_time": "2021-09-27T15:30:29.238Z"
   },
   {
    "duration": 5,
    "start_time": "2021-09-27T15:30:29.271Z"
   },
   {
    "duration": 344,
    "start_time": "2021-09-27T15:30:29.278Z"
   },
   {
    "duration": 7,
    "start_time": "2021-09-27T15:30:29.624Z"
   },
   {
    "duration": 42,
    "start_time": "2021-09-27T15:30:29.633Z"
   },
   {
    "duration": 61,
    "start_time": "2021-09-27T15:30:29.678Z"
   },
   {
    "duration": 4,
    "start_time": "2021-09-27T15:30:29.741Z"
   },
   {
    "duration": 10,
    "start_time": "2021-09-27T15:30:29.747Z"
   },
   {
    "duration": 104,
    "start_time": "2021-09-27T15:30:29.759Z"
   },
   {
    "duration": 92,
    "start_time": "2021-09-27T15:30:29.865Z"
   },
   {
    "duration": 26,
    "start_time": "2021-09-27T15:30:29.959Z"
   },
   {
    "duration": 51,
    "start_time": "2021-09-27T15:30:29.987Z"
   },
   {
    "duration": 8,
    "start_time": "2021-09-27T15:30:30.041Z"
   },
   {
    "duration": 31,
    "start_time": "2021-09-27T15:30:30.052Z"
   },
   {
    "duration": 53,
    "start_time": "2021-09-27T15:30:30.086Z"
   },
   {
    "duration": 35,
    "start_time": "2021-09-27T15:30:30.142Z"
   },
   {
    "duration": 587,
    "start_time": "2021-09-27T15:30:30.179Z"
   },
   {
    "duration": 19,
    "start_time": "2021-09-27T15:30:30.769Z"
   },
   {
    "duration": 604,
    "start_time": "2021-09-27T15:30:30.791Z"
   },
   {
    "duration": 28,
    "start_time": "2021-09-27T15:30:31.397Z"
   },
   {
    "duration": 598,
    "start_time": "2021-09-27T15:30:31.428Z"
   },
   {
    "duration": 601,
    "start_time": "2021-09-27T15:30:32.029Z"
   },
   {
    "duration": 1092,
    "start_time": "2021-09-27T15:30:32.632Z"
   },
   {
    "duration": 596,
    "start_time": "2021-09-27T15:30:33.727Z"
   },
   {
    "duration": 599,
    "start_time": "2021-09-27T15:30:34.325Z"
   },
   {
    "duration": 869,
    "start_time": "2021-09-27T15:30:34.926Z"
   },
   {
    "duration": 562,
    "start_time": "2021-09-27T15:30:35.798Z"
   },
   {
    "duration": 604,
    "start_time": "2021-09-27T15:30:36.363Z"
   },
   {
    "duration": 930,
    "start_time": "2021-09-27T15:30:36.970Z"
   },
   {
    "duration": 32,
    "start_time": "2021-09-27T15:30:37.903Z"
   },
   {
    "duration": 853,
    "start_time": "2021-09-27T15:30:37.937Z"
   },
   {
    "duration": 33,
    "start_time": "2021-09-27T15:30:38.792Z"
   },
   {
    "duration": 591,
    "start_time": "2021-09-27T15:30:38.828Z"
   },
   {
    "duration": 5,
    "start_time": "2021-09-27T15:30:39.422Z"
   },
   {
    "duration": 1414,
    "start_time": "2021-09-27T15:30:39.430Z"
   },
   {
    "duration": 1658,
    "start_time": "2021-09-27T15:30:39.189Z"
   },
   {
    "duration": 1633,
    "start_time": "2021-09-27T15:30:39.216Z"
   },
   {
    "duration": 1609,
    "start_time": "2021-09-27T15:30:39.241Z"
   },
   {
    "duration": 1595,
    "start_time": "2021-09-27T15:30:39.257Z"
   },
   {
    "duration": 1560,
    "start_time": "2021-09-27T15:30:39.293Z"
   },
   {
    "duration": 1545,
    "start_time": "2021-09-27T15:30:39.310Z"
   },
   {
    "duration": 1522,
    "start_time": "2021-09-27T15:30:39.335Z"
   },
   {
    "duration": 1507,
    "start_time": "2021-09-27T15:30:39.351Z"
   },
   {
    "duration": 1491,
    "start_time": "2021-09-27T15:30:39.369Z"
   },
   {
    "duration": 1468,
    "start_time": "2021-09-27T15:30:39.393Z"
   },
   {
    "duration": 1419,
    "start_time": "2021-09-27T15:30:39.444Z"
   },
   {
    "duration": 1403,
    "start_time": "2021-09-27T15:30:39.461Z"
   },
   {
    "duration": 1387,
    "start_time": "2021-09-27T15:30:39.479Z"
   },
   {
    "duration": 1368,
    "start_time": "2021-09-27T15:30:39.499Z"
   },
   {
    "duration": 1338,
    "start_time": "2021-09-27T15:30:39.530Z"
   },
   {
    "duration": 1299,
    "start_time": "2021-09-27T15:30:39.571Z"
   },
   {
    "duration": 1276,
    "start_time": "2021-09-27T15:30:39.595Z"
   },
   {
    "duration": 7,
    "start_time": "2021-09-27T15:31:19.396Z"
   },
   {
    "duration": 452,
    "start_time": "2021-09-27T15:31:49.930Z"
   },
   {
    "duration": 44,
    "start_time": "2021-09-27T15:31:56.869Z"
   },
   {
    "duration": 1071,
    "start_time": "2021-09-27T15:32:27.066Z"
   },
   {
    "duration": 1098,
    "start_time": "2021-09-27T15:33:05.783Z"
   },
   {
    "duration": 29493,
    "start_time": "2021-10-06T17:10:53.508Z"
   },
   {
    "duration": 1384,
    "start_time": "2021-10-06T17:11:23.004Z"
   },
   {
    "duration": 185753,
    "start_time": "2021-10-06T17:11:24.391Z"
   },
   {
    "duration": 4,
    "start_time": "2021-10-06T17:14:30.147Z"
   },
   {
    "duration": 231,
    "start_time": "2021-10-06T17:14:30.155Z"
   },
   {
    "duration": 23,
    "start_time": "2021-10-06T17:14:30.389Z"
   },
   {
    "duration": 29,
    "start_time": "2021-10-06T17:14:30.415Z"
   },
   {
    "duration": 15,
    "start_time": "2021-10-06T17:14:30.449Z"
   },
   {
    "duration": 17,
    "start_time": "2021-10-06T17:14:30.468Z"
   },
   {
    "duration": 7,
    "start_time": "2021-10-06T17:14:30.487Z"
   },
   {
    "duration": 105,
    "start_time": "2021-10-06T17:14:30.496Z"
   },
   {
    "duration": 62,
    "start_time": "2021-10-06T17:14:30.603Z"
   },
   {
    "duration": 66,
    "start_time": "2021-10-06T17:14:30.667Z"
   },
   {
    "duration": 29,
    "start_time": "2021-10-06T17:14:30.736Z"
   },
   {
    "duration": 12,
    "start_time": "2021-10-06T17:14:30.768Z"
   },
   {
    "duration": 40,
    "start_time": "2021-10-06T17:14:30.782Z"
   },
   {
    "duration": 9,
    "start_time": "2021-10-06T17:14:30.825Z"
   },
   {
    "duration": 28,
    "start_time": "2021-10-06T17:14:30.836Z"
   },
   {
    "duration": 33,
    "start_time": "2021-10-06T17:14:30.866Z"
   },
   {
    "duration": 58,
    "start_time": "2021-10-06T17:14:30.901Z"
   },
   {
    "duration": 71,
    "start_time": "2021-10-06T17:14:30.962Z"
   },
   {
    "duration": 16,
    "start_time": "2021-10-06T17:14:31.035Z"
   },
   {
    "duration": 37,
    "start_time": "2021-10-06T17:14:31.060Z"
   },
   {
    "duration": 24,
    "start_time": "2021-10-06T17:14:31.103Z"
   },
   {
    "duration": 43,
    "start_time": "2021-10-06T17:14:31.130Z"
   },
   {
    "duration": 48,
    "start_time": "2021-10-06T17:14:31.176Z"
   },
   {
    "duration": 73,
    "start_time": "2021-10-06T17:14:31.227Z"
   },
   {
    "duration": 24,
    "start_time": "2021-10-06T17:14:31.303Z"
   },
   {
    "duration": 58,
    "start_time": "2021-10-06T17:14:31.330Z"
   },
   {
    "duration": 46,
    "start_time": "2021-10-06T17:14:31.391Z"
   },
   {
    "duration": 29,
    "start_time": "2021-10-06T17:14:31.440Z"
   },
   {
    "duration": 53,
    "start_time": "2021-10-06T17:14:31.472Z"
   },
   {
    "duration": 11,
    "start_time": "2021-10-06T17:14:31.527Z"
   },
   {
    "duration": 85,
    "start_time": "2021-10-06T17:14:31.540Z"
   },
   {
    "duration": 26,
    "start_time": "2021-10-06T17:14:31.627Z"
   },
   {
    "duration": 25,
    "start_time": "2021-10-06T17:14:31.655Z"
   },
   {
    "duration": 1334,
    "start_time": "2021-10-06T17:14:31.683Z"
   },
   {
    "duration": 174682,
    "start_time": "2021-10-06T17:14:33.022Z"
   },
   {
    "duration": 123015,
    "start_time": "2021-10-06T17:17:27.708Z"
   },
   {
    "duration": 236024,
    "start_time": "2021-10-06T17:19:30.725Z"
   },
   {
    "duration": 9,
    "start_time": "2021-10-06T17:23:26.751Z"
   },
   {
    "duration": 33,
    "start_time": "2021-10-06T17:23:26.763Z"
   },
   {
    "duration": 29,
    "start_time": "2021-10-06T17:23:26.799Z"
   },
   {
    "duration": 26,
    "start_time": "2021-10-06T17:23:26.831Z"
   },
   {
    "duration": 99,
    "start_time": "2021-10-06T17:23:26.860Z"
   },
   {
    "duration": 8,
    "start_time": "2021-10-06T17:23:26.962Z"
   },
   {
    "duration": 10,
    "start_time": "2021-10-06T17:23:26.973Z"
   },
   {
    "duration": 36,
    "start_time": "2021-10-06T17:23:26.986Z"
   },
   {
    "duration": 12,
    "start_time": "2021-10-06T17:23:27.026Z"
   },
   {
    "duration": 31,
    "start_time": "2021-10-06T17:23:27.041Z"
   },
   {
    "duration": 91,
    "start_time": "2021-10-06T17:23:27.075Z"
   },
   {
    "duration": 23,
    "start_time": "2021-10-06T17:23:27.169Z"
   },
   {
    "duration": 99,
    "start_time": "2021-10-06T17:23:27.195Z"
   },
   {
    "duration": 27,
    "start_time": "2021-10-06T17:23:27.297Z"
   },
   {
    "duration": 25,
    "start_time": "2021-10-06T17:23:27.327Z"
   },
   {
    "duration": 24,
    "start_time": "2021-10-06T17:23:27.354Z"
   },
   {
    "duration": 16,
    "start_time": "2021-10-06T17:23:27.423Z"
   },
   {
    "duration": 20,
    "start_time": "2021-10-06T17:23:27.442Z"
   },
   {
    "duration": 26,
    "start_time": "2021-10-06T17:23:27.464Z"
   },
   {
    "duration": 39,
    "start_time": "2021-10-06T17:23:27.494Z"
   },
   {
    "duration": 46,
    "start_time": "2021-10-06T17:23:27.536Z"
   },
   {
    "duration": 41,
    "start_time": "2021-10-06T17:23:27.585Z"
   },
   {
    "duration": 426,
    "start_time": "2021-10-06T17:23:27.629Z"
   },
   {
    "duration": 8,
    "start_time": "2021-10-06T17:23:28.058Z"
   },
   {
    "duration": 57,
    "start_time": "2021-10-06T17:23:28.068Z"
   },
   {
    "duration": 45,
    "start_time": "2021-10-06T17:23:28.128Z"
   },
   {
    "duration": 419,
    "start_time": "2021-10-06T17:23:28.176Z"
   },
   {
    "duration": 49,
    "start_time": "2021-10-06T17:23:28.604Z"
   },
   {
    "duration": 9,
    "start_time": "2021-10-06T17:23:28.657Z"
   },
   {
    "duration": 60,
    "start_time": "2021-10-06T17:23:28.669Z"
   },
   {
    "duration": 39,
    "start_time": "2021-10-06T17:23:28.732Z"
   },
   {
    "duration": 3,
    "start_time": "2021-10-06T17:23:28.774Z"
   },
   {
    "duration": 3415,
    "start_time": "2021-10-06T17:23:28.779Z"
   },
   {
    "duration": 30,
    "start_time": "2021-10-06T17:23:32.197Z"
   },
   {
    "duration": 11794,
    "start_time": "2021-10-06T17:23:32.230Z"
   },
   {
    "duration": 633,
    "start_time": "2021-10-06T17:23:44.027Z"
   },
   {
    "duration": 808,
    "start_time": "2021-10-06T17:23:44.662Z"
   },
   {
    "duration": 828,
    "start_time": "2021-10-06T17:23:45.473Z"
   },
   {
    "duration": 19,
    "start_time": "2021-10-06T17:23:46.304Z"
   },
   {
    "duration": 573,
    "start_time": "2021-10-06T17:23:46.327Z"
   },
   {
    "duration": 698,
    "start_time": "2021-10-06T17:23:46.904Z"
   },
   {
    "duration": 20,
    "start_time": "2021-10-06T17:23:47.606Z"
   },
   {
    "duration": 596,
    "start_time": "2021-10-06T17:23:47.629Z"
   },
   {
    "duration": 568,
    "start_time": "2021-10-06T17:23:48.228Z"
   },
   {
    "duration": 6,
    "start_time": "2021-10-06T17:23:48.799Z"
   },
   {
    "duration": 659,
    "start_time": "2021-10-06T17:23:48.822Z"
   },
   {
    "duration": 588,
    "start_time": "2021-10-06T17:23:49.484Z"
   },
   {
    "duration": 7,
    "start_time": "2021-10-06T17:23:50.075Z"
   },
   {
    "duration": 578,
    "start_time": "2021-10-06T17:23:50.084Z"
   },
   {
    "duration": 569,
    "start_time": "2021-10-06T17:23:50.664Z"
   },
   {
    "duration": 7,
    "start_time": "2021-10-06T17:23:51.236Z"
   },
   {
    "duration": 586,
    "start_time": "2021-10-06T17:23:51.245Z"
   },
   {
    "duration": 969,
    "start_time": "2021-10-06T17:23:51.834Z"
   },
   {
    "duration": 18,
    "start_time": "2021-10-06T17:23:52.806Z"
   },
   {
    "duration": 75,
    "start_time": "2021-10-06T17:23:52.827Z"
   },
   {
    "duration": 65,
    "start_time": "2021-10-06T17:23:52.904Z"
   },
   {
    "duration": 28,
    "start_time": "2021-10-06T17:23:52.971Z"
   },
   {
    "duration": 58,
    "start_time": "2021-10-06T17:23:53.023Z"
   },
   {
    "duration": 65,
    "start_time": "2021-10-06T17:23:53.083Z"
   },
   {
    "duration": 90,
    "start_time": "2021-10-06T17:23:53.150Z"
   },
   {
    "duration": 33,
    "start_time": "2021-10-06T17:23:53.243Z"
   },
   {
    "duration": 104,
    "start_time": "2021-10-06T17:23:53.279Z"
   },
   {
    "duration": 65,
    "start_time": "2021-10-06T17:23:53.386Z"
   },
   {
    "duration": 14,
    "start_time": "2021-10-06T17:23:53.453Z"
   },
   {
    "duration": 28,
    "start_time": "2021-10-06T17:23:53.470Z"
   },
   {
    "duration": 41,
    "start_time": "2021-10-06T17:23:53.501Z"
   },
   {
    "duration": 28,
    "start_time": "2021-10-06T17:23:53.545Z"
   },
   {
    "duration": 57,
    "start_time": "2021-10-06T17:23:53.575Z"
   },
   {
    "duration": 18,
    "start_time": "2021-10-06T17:23:53.634Z"
   },
   {
    "duration": 22,
    "start_time": "2021-10-06T17:23:53.655Z"
   },
   {
    "duration": 38,
    "start_time": "2021-10-06T17:23:53.679Z"
   },
   {
    "duration": 25,
    "start_time": "2021-10-06T17:23:53.719Z"
   },
   {
    "duration": 25,
    "start_time": "2021-10-06T17:23:53.746Z"
   },
   {
    "duration": 59,
    "start_time": "2021-10-06T17:23:53.773Z"
   },
   {
    "duration": 4,
    "start_time": "2021-10-06T17:23:53.835Z"
   },
   {
    "duration": 17,
    "start_time": "2021-10-06T17:23:53.843Z"
   },
   {
    "duration": 19,
    "start_time": "2021-10-06T17:48:59.348Z"
   },
   {
    "duration": 5212,
    "start_time": "2021-10-23T11:54:52.598Z"
   },
   {
    "duration": 1277,
    "start_time": "2021-10-23T11:54:57.812Z"
   },
   {
    "duration": 3460,
    "start_time": "2021-10-23T11:54:59.091Z"
   },
   {
    "duration": 4,
    "start_time": "2021-10-23T11:55:02.553Z"
   },
   {
    "duration": 394,
    "start_time": "2021-10-23T11:55:02.559Z"
   },
   {
    "duration": 11,
    "start_time": "2021-10-23T11:55:02.956Z"
   },
   {
    "duration": 11,
    "start_time": "2021-10-23T11:55:02.968Z"
   },
   {
    "duration": 10,
    "start_time": "2021-10-23T11:55:02.983Z"
   },
   {
    "duration": 10,
    "start_time": "2021-10-23T11:55:02.995Z"
   },
   {
    "duration": 60,
    "start_time": "2021-10-23T11:55:03.007Z"
   },
   {
    "duration": 10,
    "start_time": "2021-10-23T11:55:03.070Z"
   },
   {
    "duration": 20,
    "start_time": "2021-10-23T11:55:03.082Z"
   },
   {
    "duration": 19,
    "start_time": "2021-10-23T11:55:03.104Z"
   },
   {
    "duration": 535,
    "start_time": "2021-10-23T11:55:03.125Z"
   },
   {
    "duration": 8,
    "start_time": "2021-10-23T11:55:03.663Z"
   },
   {
    "duration": 11,
    "start_time": "2021-10-23T11:55:03.673Z"
   },
   {
    "duration": 13,
    "start_time": "2021-10-23T11:55:03.686Z"
   },
   {
    "duration": 472,
    "start_time": "2021-10-23T11:55:03.701Z"
   },
   {
    "duration": 8,
    "start_time": "2021-10-23T11:55:04.175Z"
   },
   {
    "duration": 9,
    "start_time": "2021-10-23T11:55:04.185Z"
   },
   {
    "duration": 619,
    "start_time": "2021-10-23T11:55:04.196Z"
   },
   {
    "duration": 467,
    "start_time": "2021-10-23T11:55:04.817Z"
   },
   {
    "duration": 53,
    "start_time": "2021-10-23T11:55:05.288Z"
   },
   {
    "duration": 4,
    "start_time": "2021-10-23T11:55:05.364Z"
   },
   {
    "duration": 104,
    "start_time": "2021-10-23T11:55:05.369Z"
   },
   {
    "duration": 33,
    "start_time": "2021-10-23T11:55:05.475Z"
   },
   {
    "duration": 16,
    "start_time": "2021-10-23T11:55:05.509Z"
   },
   {
    "duration": 12,
    "start_time": "2021-10-23T11:55:05.527Z"
   },
   {
    "duration": 24,
    "start_time": "2021-10-23T11:55:05.541Z"
   },
   {
    "duration": 10,
    "start_time": "2021-10-23T11:55:05.567Z"
   },
   {
    "duration": 17,
    "start_time": "2021-10-23T11:55:05.578Z"
   },
   {
    "duration": 28,
    "start_time": "2021-10-23T11:55:05.597Z"
   },
   {
    "duration": 19,
    "start_time": "2021-10-23T11:55:05.626Z"
   },
   {
    "duration": 19,
    "start_time": "2021-10-23T11:55:05.647Z"
   },
   {
    "duration": 21,
    "start_time": "2021-10-23T11:55:05.667Z"
   },
   {
    "duration": 10,
    "start_time": "2021-10-23T11:55:05.689Z"
   },
   {
    "duration": 18,
    "start_time": "2021-10-23T11:55:05.700Z"
   },
   {
    "duration": 22,
    "start_time": "2021-10-23T11:55:05.719Z"
   },
   {
    "duration": 11,
    "start_time": "2021-10-23T11:55:05.742Z"
   },
   {
    "duration": 11,
    "start_time": "2021-10-23T11:55:05.764Z"
   },
   {
    "duration": 471,
    "start_time": "2021-10-23T11:55:05.777Z"
   },
   {
    "duration": 4,
    "start_time": "2021-10-23T11:55:06.250Z"
   },
   {
    "duration": 57,
    "start_time": "2021-11-08T08:48:01.098Z"
   },
   {
    "duration": 62,
    "start_time": "2021-11-08T08:58:52.177Z"
   },
   {
    "duration": 60,
    "start_time": "2021-11-08T09:00:04.478Z"
   },
   {
    "duration": 670,
    "start_time": "2021-11-08T09:01:07.309Z"
   },
   {
    "duration": 58,
    "start_time": "2021-11-08T09:07:10.927Z"
   },
   {
    "duration": 67,
    "start_time": "2021-11-08T09:19:59.756Z"
   },
   {
    "duration": 66,
    "start_time": "2021-11-08T09:24:52.956Z"
   },
   {
    "duration": 3,
    "start_time": "2021-11-19T11:39:51.498Z"
   },
   {
    "duration": 1154,
    "start_time": "2021-11-19T11:39:51.521Z"
   },
   {
    "duration": 17780,
    "start_time": "2021-11-19T11:39:52.677Z"
   },
   {
    "duration": 3,
    "start_time": "2021-11-19T11:40:10.459Z"
   },
   {
    "duration": 685,
    "start_time": "2021-11-19T11:40:10.465Z"
   },
   {
    "duration": 13,
    "start_time": "2021-11-19T11:40:11.152Z"
   },
   {
    "duration": 14,
    "start_time": "2021-11-19T11:40:11.167Z"
   },
   {
    "duration": 9,
    "start_time": "2021-11-19T11:40:11.183Z"
   },
   {
    "duration": 15,
    "start_time": "2021-11-19T11:40:11.194Z"
   },
   {
    "duration": 10,
    "start_time": "2021-11-19T11:40:11.212Z"
   },
   {
    "duration": 7,
    "start_time": "2021-11-19T11:40:11.224Z"
   },
   {
    "duration": 12,
    "start_time": "2021-11-19T11:40:11.233Z"
   },
   {
    "duration": 7,
    "start_time": "2021-11-19T11:40:11.247Z"
   },
   {
    "duration": 10,
    "start_time": "2021-11-19T11:40:11.255Z"
   },
   {
    "duration": 86,
    "start_time": "2021-11-19T11:40:11.267Z"
   },
   {
    "duration": 4,
    "start_time": "2021-11-19T11:40:11.354Z"
   },
   {
    "duration": 15,
    "start_time": "2021-11-19T11:40:11.359Z"
   },
   {
    "duration": 13,
    "start_time": "2021-11-19T11:40:11.376Z"
   },
   {
    "duration": 7,
    "start_time": "2021-11-19T11:40:11.390Z"
   },
   {
    "duration": 8,
    "start_time": "2021-11-19T11:40:11.407Z"
   },
   {
    "duration": 13,
    "start_time": "2021-11-19T11:40:11.417Z"
   },
   {
    "duration": 15,
    "start_time": "2021-11-19T11:40:11.432Z"
   },
   {
    "duration": 19,
    "start_time": "2021-11-19T11:40:11.456Z"
   },
   {
    "duration": 433,
    "start_time": "2021-11-19T11:40:11.479Z"
   },
   {
    "duration": 429,
    "start_time": "2021-11-19T11:40:11.915Z"
   },
   {
    "duration": 398,
    "start_time": "2021-11-19T11:40:12.346Z"
   },
   {
    "duration": 4,
    "start_time": "2021-11-19T11:40:12.747Z"
   },
   {
    "duration": 15,
    "start_time": "2021-11-19T11:40:12.753Z"
   },
   {
    "duration": 10,
    "start_time": "2021-11-19T11:40:12.770Z"
   },
   {
    "duration": 25,
    "start_time": "2021-11-19T11:40:12.783Z"
   },
   {
    "duration": 7,
    "start_time": "2021-11-19T11:40:12.810Z"
   },
   {
    "duration": 18,
    "start_time": "2021-11-19T11:40:12.819Z"
   },
   {
    "duration": 9,
    "start_time": "2021-11-19T11:40:12.839Z"
   },
   {
    "duration": 15,
    "start_time": "2021-11-19T11:40:12.850Z"
   },
   {
    "duration": 561,
    "start_time": "2021-11-19T11:40:12.867Z"
   },
   {
    "duration": 8,
    "start_time": "2021-11-19T11:40:13.429Z"
   },
   {
    "duration": 36,
    "start_time": "2021-11-19T11:40:13.438Z"
   },
   {
    "duration": 557,
    "start_time": "2021-11-19T11:40:13.476Z"
   },
   {
    "duration": 8,
    "start_time": "2021-11-19T11:40:14.034Z"
   },
   {
    "duration": 35,
    "start_time": "2021-11-19T11:40:14.043Z"
   },
   {
    "duration": 6,
    "start_time": "2021-11-19T11:40:14.080Z"
   },
   {
    "duration": 20,
    "start_time": "2021-11-19T11:40:14.087Z"
   },
   {
    "duration": 86,
    "start_time": "2021-11-19T11:40:14.109Z"
   },
   {
    "duration": 11,
    "start_time": "2021-11-19T11:40:14.197Z"
   },
   {
    "duration": 25,
    "start_time": "2021-11-19T11:40:14.210Z"
   },
   {
    "duration": 29,
    "start_time": "2021-11-19T11:40:14.237Z"
   },
   {
    "duration": 31,
    "start_time": "2021-11-19T11:40:14.268Z"
   },
   {
    "duration": 7,
    "start_time": "2021-11-19T11:40:14.301Z"
   },
   {
    "duration": 20,
    "start_time": "2021-11-19T11:40:14.310Z"
   },
   {
    "duration": 19,
    "start_time": "2021-11-19T11:40:14.332Z"
   },
   {
    "duration": 13,
    "start_time": "2021-11-19T11:40:14.353Z"
   },
   {
    "duration": 8,
    "start_time": "2021-11-19T11:40:14.368Z"
   },
   {
    "duration": 415,
    "start_time": "2021-11-19T11:40:14.378Z"
   },
   {
    "duration": 544,
    "start_time": "2021-11-19T11:40:14.795Z"
   },
   {
    "duration": 12,
    "start_time": "2021-11-19T11:40:15.341Z"
   },
   {
    "duration": 15,
    "start_time": "2021-11-19T11:40:15.355Z"
   },
   {
    "duration": 10,
    "start_time": "2021-11-19T11:40:15.371Z"
   },
   {
    "duration": 31,
    "start_time": "2021-11-19T11:40:15.382Z"
   },
   {
    "duration": 16,
    "start_time": "2021-11-19T11:40:15.415Z"
   },
   {
    "duration": 530,
    "start_time": "2021-11-19T11:40:15.433Z"
   },
   {
    "duration": 12,
    "start_time": "2021-11-19T11:40:15.966Z"
   },
   {
    "duration": 227,
    "start_time": "2021-11-19T11:40:15.980Z"
   },
   {
    "duration": 5,
    "start_time": "2021-11-19T11:40:16.209Z"
   },
   {
    "duration": 160,
    "start_time": "2021-11-19T11:40:16.216Z"
   },
   {
    "duration": 7,
    "start_time": "2021-11-19T11:40:16.378Z"
   },
   {
    "duration": 22,
    "start_time": "2021-11-19T11:40:16.386Z"
   },
   {
    "duration": 547,
    "start_time": "2021-11-19T11:40:16.411Z"
   },
   {
    "duration": 11,
    "start_time": "2021-11-19T11:40:16.960Z"
   },
   {
    "duration": 581,
    "start_time": "2021-11-19T11:40:16.978Z"
   },
   {
    "duration": 6,
    "start_time": "2021-11-19T11:40:17.562Z"
   },
   {
    "duration": 20,
    "start_time": "2021-11-19T11:40:17.570Z"
   },
   {
    "duration": 16,
    "start_time": "2021-11-19T11:40:17.607Z"
   },
   {
    "duration": 638,
    "start_time": "2021-11-19T11:40:17.625Z"
   },
   {
    "duration": 11,
    "start_time": "2021-11-19T11:40:18.265Z"
   },
   {
    "duration": 581,
    "start_time": "2021-11-19T11:40:18.278Z"
   },
   {
    "duration": 17,
    "start_time": "2021-11-19T11:40:18.860Z"
   },
   {
    "duration": 656,
    "start_time": "2021-11-19T11:40:18.879Z"
   },
   {
    "duration": 352,
    "start_time": "2021-11-19T11:40:19.537Z"
   },
   {
    "duration": 4,
    "start_time": "2021-11-19T11:40:19.891Z"
   },
   {
    "duration": 445,
    "start_time": "2021-11-19T11:40:19.906Z"
   },
   {
    "duration": 9,
    "start_time": "2021-11-19T11:40:20.353Z"
   },
   {
    "duration": 12,
    "start_time": "2021-11-19T11:40:20.364Z"
   },
   {
    "duration": 19,
    "start_time": "2021-11-19T11:40:20.378Z"
   },
   {
    "duration": 21,
    "start_time": "2021-11-19T11:40:20.398Z"
   },
   {
    "duration": 13,
    "start_time": "2021-11-19T11:40:20.421Z"
   },
   {
    "duration": 16,
    "start_time": "2021-11-19T11:40:20.436Z"
   },
   {
    "duration": 889,
    "start_time": "2021-11-19T11:40:20.454Z"
   },
   {
    "duration": 568,
    "start_time": "2021-11-19T11:40:21.344Z"
   },
   {
    "duration": 539,
    "start_time": "2021-11-19T11:40:21.914Z"
   },
   {
    "duration": 70,
    "start_time": "2021-11-19T11:40:22.455Z"
   },
   {
    "duration": 4,
    "start_time": "2021-11-19T11:40:22.527Z"
   },
   {
    "duration": 85,
    "start_time": "2021-11-19T11:40:22.532Z"
   },
   {
    "duration": 4,
    "start_time": "2021-11-19T11:40:22.619Z"
   },
   {
    "duration": 27,
    "start_time": "2021-11-19T11:40:22.624Z"
   },
   {
    "duration": 14,
    "start_time": "2021-11-19T11:40:22.652Z"
   },
   {
    "duration": 21,
    "start_time": "2021-11-19T11:40:22.669Z"
   },
   {
    "duration": 26,
    "start_time": "2021-11-19T11:40:22.692Z"
   },
   {
    "duration": 37,
    "start_time": "2021-11-19T11:40:22.720Z"
   },
   {
    "duration": 117,
    "start_time": "2021-11-19T11:40:22.759Z"
   },
   {
    "duration": 6,
    "start_time": "2021-11-19T11:40:22.878Z"
   },
   {
    "duration": 25,
    "start_time": "2021-11-19T11:40:22.886Z"
   },
   {
    "duration": 16,
    "start_time": "2021-11-19T11:40:22.913Z"
   },
   {
    "duration": 13,
    "start_time": "2021-11-19T11:40:22.931Z"
   },
   {
    "duration": 27,
    "start_time": "2021-11-19T11:40:22.946Z"
   },
   {
    "duration": 12,
    "start_time": "2021-11-19T11:40:22.975Z"
   },
   {
    "duration": 15,
    "start_time": "2021-11-19T11:40:22.989Z"
   },
   {
    "duration": 19,
    "start_time": "2021-11-19T11:40:23.006Z"
   },
   {
    "duration": 14,
    "start_time": "2021-11-19T11:40:23.027Z"
   },
   {
    "duration": 13,
    "start_time": "2021-11-19T11:40:23.043Z"
   },
   {
    "duration": 14,
    "start_time": "2021-11-19T11:40:23.058Z"
   },
   {
    "duration": 4,
    "start_time": "2021-11-19T14:11:57.506Z"
   },
   {
    "duration": 1543,
    "start_time": "2021-11-19T14:11:57.568Z"
   },
   {
    "duration": 13460,
    "start_time": "2021-11-19T14:11:59.114Z"
   },
   {
    "duration": 3,
    "start_time": "2021-11-19T14:12:12.577Z"
   },
   {
    "duration": 343,
    "start_time": "2021-11-19T14:12:12.582Z"
   },
   {
    "duration": 13,
    "start_time": "2021-11-19T14:12:12.927Z"
   },
   {
    "duration": 15,
    "start_time": "2021-11-19T14:12:12.941Z"
   },
   {
    "duration": 9,
    "start_time": "2021-11-19T14:12:12.958Z"
   },
   {
    "duration": 25,
    "start_time": "2021-11-19T14:12:12.970Z"
   },
   {
    "duration": 12,
    "start_time": "2021-11-19T14:12:12.997Z"
   },
   {
    "duration": 20,
    "start_time": "2021-11-19T14:12:13.011Z"
   },
   {
    "duration": 26,
    "start_time": "2021-11-19T14:12:13.033Z"
   },
   {
    "duration": 21,
    "start_time": "2021-11-19T14:12:13.061Z"
   },
   {
    "duration": 7,
    "start_time": "2021-11-19T14:12:13.084Z"
   },
   {
    "duration": 72,
    "start_time": "2021-11-19T14:12:13.093Z"
   },
   {
    "duration": 4,
    "start_time": "2021-11-19T14:12:13.166Z"
   },
   {
    "duration": 16,
    "start_time": "2021-11-19T14:12:13.172Z"
   },
   {
    "duration": 16,
    "start_time": "2021-11-19T14:12:13.190Z"
   },
   {
    "duration": 7,
    "start_time": "2021-11-19T14:12:13.208Z"
   },
   {
    "duration": 11,
    "start_time": "2021-11-19T14:12:13.217Z"
   },
   {
    "duration": 11,
    "start_time": "2021-11-19T14:12:13.229Z"
   },
   {
    "duration": 10,
    "start_time": "2021-11-19T14:12:13.242Z"
   },
   {
    "duration": 22,
    "start_time": "2021-11-19T14:12:13.253Z"
   },
   {
    "duration": 70226,
    "start_time": "2021-11-19T14:12:13.279Z"
   },
   {
    "duration": 469,
    "start_time": "2021-11-19T14:13:23.508Z"
   },
   {
    "duration": 309,
    "start_time": "2021-11-19T14:13:23.979Z"
   },
   {
    "duration": 5,
    "start_time": "2021-11-19T14:13:24.290Z"
   },
   {
    "duration": 17,
    "start_time": "2021-11-19T14:13:24.296Z"
   },
   {
    "duration": 4,
    "start_time": "2021-11-19T14:13:24.315Z"
   },
   {
    "duration": 8,
    "start_time": "2021-11-19T14:13:24.320Z"
   },
   {
    "duration": 9,
    "start_time": "2021-11-19T14:13:24.329Z"
   },
   {
    "duration": 7,
    "start_time": "2021-11-19T14:13:24.339Z"
   },
   {
    "duration": 7,
    "start_time": "2021-11-19T14:13:24.348Z"
   },
   {
    "duration": 7,
    "start_time": "2021-11-19T14:13:24.357Z"
   },
   {
    "duration": 484,
    "start_time": "2021-11-19T14:13:24.366Z"
   },
   {
    "duration": 7,
    "start_time": "2021-11-19T14:13:24.852Z"
   },
   {
    "duration": 11,
    "start_time": "2021-11-19T14:13:24.861Z"
   },
   {
    "duration": 468,
    "start_time": "2021-11-19T14:13:24.874Z"
   },
   {
    "duration": 8,
    "start_time": "2021-11-19T14:13:25.343Z"
   },
   {
    "duration": 20,
    "start_time": "2021-11-19T14:13:25.354Z"
   },
   {
    "duration": 6,
    "start_time": "2021-11-19T14:13:25.376Z"
   },
   {
    "duration": 30,
    "start_time": "2021-11-19T14:13:25.385Z"
   },
   {
    "duration": 23,
    "start_time": "2021-11-19T14:13:25.417Z"
   },
   {
    "duration": 5,
    "start_time": "2021-11-19T14:13:25.443Z"
   },
   {
    "duration": 28,
    "start_time": "2021-11-19T14:13:25.450Z"
   },
   {
    "duration": 31,
    "start_time": "2021-11-19T14:13:25.480Z"
   },
   {
    "duration": 19,
    "start_time": "2021-11-19T14:13:25.513Z"
   },
   {
    "duration": 11,
    "start_time": "2021-11-19T14:13:25.534Z"
   },
   {
    "duration": 13,
    "start_time": "2021-11-19T14:13:25.547Z"
   },
   {
    "duration": 13,
    "start_time": "2021-11-19T14:13:25.561Z"
   },
   {
    "duration": 33,
    "start_time": "2021-11-19T14:13:25.576Z"
   },
   {
    "duration": 9,
    "start_time": "2021-11-19T14:13:25.611Z"
   },
   {
    "duration": 515,
    "start_time": "2021-11-19T14:13:25.621Z"
   },
   {
    "duration": 438,
    "start_time": "2021-11-19T14:13:26.138Z"
   },
   {
    "duration": 13,
    "start_time": "2021-11-19T14:13:26.578Z"
   },
   {
    "duration": 19,
    "start_time": "2021-11-19T14:13:26.593Z"
   },
   {
    "duration": 7,
    "start_time": "2021-11-19T14:13:26.614Z"
   },
   {
    "duration": 17,
    "start_time": "2021-11-19T14:13:26.623Z"
   },
   {
    "duration": 17,
    "start_time": "2021-11-19T14:13:26.642Z"
   },
   {
    "duration": 494,
    "start_time": "2021-11-19T14:13:26.661Z"
   },
   {
    "duration": 19,
    "start_time": "2021-11-19T14:13:27.156Z"
   },
   {
    "duration": 179,
    "start_time": "2021-11-19T14:13:27.177Z"
   },
   {
    "duration": 3,
    "start_time": "2021-11-19T14:13:27.358Z"
   },
   {
    "duration": 134,
    "start_time": "2021-11-19T14:13:27.363Z"
   },
   {
    "duration": 12,
    "start_time": "2021-11-19T14:13:27.499Z"
   },
   {
    "duration": 18,
    "start_time": "2021-11-19T14:13:27.514Z"
   },
   {
    "duration": 581,
    "start_time": "2021-11-19T14:13:27.534Z"
   },
   {
    "duration": 10,
    "start_time": "2021-11-19T14:13:28.117Z"
   },
   {
    "duration": 637,
    "start_time": "2021-11-19T14:13:28.133Z"
   },
   {
    "duration": 5,
    "start_time": "2021-11-19T14:13:28.773Z"
   },
   {
    "duration": 27,
    "start_time": "2021-11-19T14:13:28.780Z"
   },
   {
    "duration": 13,
    "start_time": "2021-11-19T14:13:28.810Z"
   },
   {
    "duration": 538,
    "start_time": "2021-11-19T14:13:28.825Z"
   },
   {
    "duration": 10,
    "start_time": "2021-11-19T14:13:29.364Z"
   },
   {
    "duration": 461,
    "start_time": "2021-11-19T14:13:29.377Z"
   },
   {
    "duration": 15,
    "start_time": "2021-11-19T14:13:29.839Z"
   },
   {
    "duration": 613,
    "start_time": "2021-11-19T14:13:29.856Z"
   },
   {
    "duration": 269,
    "start_time": "2021-11-19T14:13:30.471Z"
   },
   {
    "duration": 4,
    "start_time": "2021-11-19T14:13:30.742Z"
   },
   {
    "duration": 330,
    "start_time": "2021-11-19T14:13:30.748Z"
   },
   {
    "duration": 27,
    "start_time": "2021-11-19T14:13:31.081Z"
   },
   {
    "duration": 12,
    "start_time": "2021-11-19T14:13:31.111Z"
   },
   {
    "duration": 25,
    "start_time": "2021-11-19T14:13:31.125Z"
   },
   {
    "duration": 29,
    "start_time": "2021-11-19T14:13:31.153Z"
   },
   {
    "duration": 38,
    "start_time": "2021-11-19T14:13:31.184Z"
   },
   {
    "duration": 34,
    "start_time": "2021-11-19T14:13:31.224Z"
   },
   {
    "duration": 915,
    "start_time": "2021-11-19T14:13:31.261Z"
   },
   {
    "duration": 484,
    "start_time": "2021-11-19T14:13:32.178Z"
   },
   {
    "duration": 503,
    "start_time": "2021-11-19T14:13:32.664Z"
   },
   {
    "duration": 40,
    "start_time": "2021-11-19T14:13:33.169Z"
   },
   {
    "duration": 5,
    "start_time": "2021-11-19T14:13:33.211Z"
   },
   {
    "duration": 45,
    "start_time": "2021-11-19T14:13:33.218Z"
   },
   {
    "duration": 8,
    "start_time": "2021-11-19T14:13:33.265Z"
   },
   {
    "duration": 9,
    "start_time": "2021-11-19T14:13:33.275Z"
   },
   {
    "duration": 39,
    "start_time": "2021-11-19T14:13:33.286Z"
   },
   {
    "duration": 4,
    "start_time": "2021-11-19T14:13:33.327Z"
   },
   {
    "duration": 16,
    "start_time": "2021-11-19T14:13:33.333Z"
   },
   {
    "duration": 58,
    "start_time": "2021-11-19T14:13:33.350Z"
   },
   {
    "duration": 70,
    "start_time": "2021-11-19T14:13:33.410Z"
   },
   {
    "duration": 5,
    "start_time": "2021-11-19T14:13:33.482Z"
   },
   {
    "duration": 24,
    "start_time": "2021-11-19T14:13:33.506Z"
   },
   {
    "duration": 5,
    "start_time": "2021-11-19T14:13:33.532Z"
   },
   {
    "duration": 20,
    "start_time": "2021-11-19T14:13:33.538Z"
   },
   {
    "duration": 15,
    "start_time": "2021-11-19T14:13:33.560Z"
   },
   {
    "duration": 31,
    "start_time": "2021-11-19T14:13:33.577Z"
   },
   {
    "duration": 18,
    "start_time": "2021-11-19T14:13:33.610Z"
   },
   {
    "duration": 15,
    "start_time": "2021-11-19T14:13:33.630Z"
   },
   {
    "duration": 14,
    "start_time": "2021-11-19T14:13:33.647Z"
   },
   {
    "duration": 10,
    "start_time": "2021-11-19T14:13:33.663Z"
   },
   {
    "duration": 9,
    "start_time": "2021-11-19T14:13:33.674Z"
   },
   {
    "duration": 96,
    "start_time": "2021-11-19T14:13:33.685Z"
   },
   {
    "duration": 96,
    "start_time": "2021-11-19T14:21:26.636Z"
   },
   {
    "duration": 4,
    "start_time": "2021-11-20T08:09:39.131Z"
   },
   {
    "duration": 1719,
    "start_time": "2021-11-20T08:09:39.200Z"
   },
   {
    "duration": 5802,
    "start_time": "2021-11-20T08:09:40.922Z"
   },
   {
    "duration": 5,
    "start_time": "2021-11-20T08:09:46.728Z"
   },
   {
    "duration": 766,
    "start_time": "2021-11-20T08:09:46.737Z"
   },
   {
    "duration": 17,
    "start_time": "2021-11-20T08:09:47.505Z"
   },
   {
    "duration": 14,
    "start_time": "2021-11-20T08:09:47.526Z"
   },
   {
    "duration": 16,
    "start_time": "2021-11-20T08:09:47.542Z"
   },
   {
    "duration": 18,
    "start_time": "2021-11-20T08:09:47.562Z"
   },
   {
    "duration": 21,
    "start_time": "2021-11-20T08:09:47.582Z"
   },
   {
    "duration": 28,
    "start_time": "2021-11-20T08:09:47.605Z"
   },
   {
    "duration": 6,
    "start_time": "2021-11-20T08:09:47.635Z"
   },
   {
    "duration": 23,
    "start_time": "2021-11-20T08:09:47.644Z"
   },
   {
    "duration": 15,
    "start_time": "2021-11-20T08:09:47.670Z"
   },
   {
    "duration": 119,
    "start_time": "2021-11-20T08:09:47.688Z"
   },
   {
    "duration": 20,
    "start_time": "2021-11-20T08:09:47.809Z"
   },
   {
    "duration": 11,
    "start_time": "2021-11-20T08:09:47.832Z"
   },
   {
    "duration": 18,
    "start_time": "2021-11-20T08:09:47.846Z"
   },
   {
    "duration": 36,
    "start_time": "2021-11-20T08:09:47.866Z"
   },
   {
    "duration": 36,
    "start_time": "2021-11-20T08:09:47.904Z"
   },
   {
    "duration": 18,
    "start_time": "2021-11-20T08:09:47.943Z"
   },
   {
    "duration": 35,
    "start_time": "2021-11-20T08:09:47.963Z"
   },
   {
    "duration": 44,
    "start_time": "2021-11-20T08:09:48.000Z"
   },
   {
    "duration": 735,
    "start_time": "2021-11-20T08:09:48.049Z"
   },
   {
    "duration": 696,
    "start_time": "2021-11-20T08:09:48.787Z"
   },
   {
    "duration": 627,
    "start_time": "2021-11-20T08:09:49.485Z"
   },
   {
    "duration": 6,
    "start_time": "2021-11-20T08:09:50.114Z"
   },
   {
    "duration": 11,
    "start_time": "2021-11-20T08:09:50.129Z"
   },
   {
    "duration": 6,
    "start_time": "2021-11-20T08:09:50.142Z"
   },
   {
    "duration": 10,
    "start_time": "2021-11-20T08:09:50.150Z"
   },
   {
    "duration": 10,
    "start_time": "2021-11-20T08:09:50.163Z"
   },
   {
    "duration": 9,
    "start_time": "2021-11-20T08:09:50.175Z"
   },
   {
    "duration": 8,
    "start_time": "2021-11-20T08:09:50.230Z"
   },
   {
    "duration": 16,
    "start_time": "2021-11-20T08:09:50.241Z"
   },
   {
    "duration": 968,
    "start_time": "2021-11-20T08:09:50.262Z"
   },
   {
    "duration": 10,
    "start_time": "2021-11-20T08:09:51.233Z"
   },
   {
    "duration": 26,
    "start_time": "2021-11-20T08:09:51.245Z"
   },
   {
    "duration": 937,
    "start_time": "2021-11-20T08:09:51.274Z"
   },
   {
    "duration": 18,
    "start_time": "2021-11-20T08:09:52.214Z"
   },
   {
    "duration": 26,
    "start_time": "2021-11-20T08:09:52.234Z"
   },
   {
    "duration": 7,
    "start_time": "2021-11-20T08:09:52.263Z"
   },
   {
    "duration": 24,
    "start_time": "2021-11-20T08:09:52.272Z"
   },
   {
    "duration": 149,
    "start_time": "2021-11-20T08:09:52.298Z"
   },
   {
    "duration": 24,
    "start_time": "2021-11-20T08:09:52.449Z"
   },
   {
    "duration": 55,
    "start_time": "2021-11-20T08:09:52.475Z"
   },
   {
    "duration": 28,
    "start_time": "2021-11-20T08:09:52.532Z"
   },
   {
    "duration": 46,
    "start_time": "2021-11-20T08:09:52.563Z"
   },
   {
    "duration": 37,
    "start_time": "2021-11-20T08:09:52.611Z"
   },
   {
    "duration": 24,
    "start_time": "2021-11-20T08:09:52.650Z"
   },
   {
    "duration": 22,
    "start_time": "2021-11-20T08:09:52.677Z"
   },
   {
    "duration": 28,
    "start_time": "2021-11-20T08:09:52.702Z"
   },
   {
    "duration": 13,
    "start_time": "2021-11-20T08:09:52.733Z"
   },
   {
    "duration": 781,
    "start_time": "2021-11-20T08:09:52.748Z"
   },
   {
    "duration": 920,
    "start_time": "2021-11-20T08:09:53.532Z"
   },
   {
    "duration": 19,
    "start_time": "2021-11-20T08:09:54.454Z"
   },
   {
    "duration": 32,
    "start_time": "2021-11-20T08:09:54.475Z"
   },
   {
    "duration": 28,
    "start_time": "2021-11-20T08:09:54.510Z"
   },
   {
    "duration": 28,
    "start_time": "2021-11-20T08:09:54.540Z"
   },
   {
    "duration": 38,
    "start_time": "2021-11-20T08:09:54.570Z"
   },
   {
    "duration": 29,
    "start_time": "2021-11-20T08:09:54.610Z"
   },
   {
    "duration": 950,
    "start_time": "2021-11-20T08:09:54.642Z"
   },
   {
    "duration": 16,
    "start_time": "2021-11-20T08:09:55.595Z"
   },
   {
    "duration": 457,
    "start_time": "2021-11-20T08:09:55.629Z"
   },
   {
    "duration": 6,
    "start_time": "2021-11-20T08:09:56.088Z"
   },
   {
    "duration": 274,
    "start_time": "2021-11-20T08:09:56.096Z"
   },
   {
    "duration": 12,
    "start_time": "2021-11-20T08:09:56.373Z"
   },
   {
    "duration": 24,
    "start_time": "2021-11-20T08:09:56.387Z"
   },
   {
    "duration": 969,
    "start_time": "2021-11-20T08:09:56.413Z"
   },
   {
    "duration": 1129,
    "start_time": "2021-11-20T08:09:57.390Z"
   },
   {
    "duration": 19,
    "start_time": "2021-11-20T08:09:58.522Z"
   },
   {
    "duration": 1005,
    "start_time": "2021-11-20T08:09:58.544Z"
   },
   {
    "duration": 7,
    "start_time": "2021-11-20T08:09:59.551Z"
   },
   {
    "duration": 33,
    "start_time": "2021-11-20T08:09:59.561Z"
   },
   {
    "duration": 36,
    "start_time": "2021-11-20T08:09:59.597Z"
   },
   {
    "duration": 1098,
    "start_time": "2021-11-20T08:09:59.635Z"
   },
   {
    "duration": 16,
    "start_time": "2021-11-20T08:10:00.735Z"
   },
   {
    "duration": 980,
    "start_time": "2021-11-20T08:10:00.754Z"
   },
   {
    "duration": 26,
    "start_time": "2021-11-20T08:10:01.737Z"
   },
   {
    "duration": 1075,
    "start_time": "2021-11-20T08:10:01.766Z"
   },
   {
    "duration": 620,
    "start_time": "2021-11-20T08:10:02.843Z"
   },
   {
    "duration": 650,
    "start_time": "2021-11-20T08:10:03.466Z"
   },
   {
    "duration": 14,
    "start_time": "2021-11-20T08:10:04.118Z"
   },
   {
    "duration": 536,
    "start_time": "2021-11-20T08:10:04.135Z"
   },
   {
    "duration": 683,
    "start_time": "2021-11-20T08:10:04.673Z"
   },
   {
    "duration": 14,
    "start_time": "2021-11-20T08:10:05.358Z"
   },
   {
    "duration": 17,
    "start_time": "2021-11-20T08:10:05.375Z"
   },
   {
    "duration": 27,
    "start_time": "2021-11-20T08:10:05.395Z"
   },
   {
    "duration": 10,
    "start_time": "2021-11-20T08:10:05.425Z"
   },
   {
    "duration": 24,
    "start_time": "2021-11-20T08:10:05.437Z"
   },
   {
    "duration": 22,
    "start_time": "2021-11-20T08:10:05.463Z"
   },
   {
    "duration": 1544,
    "start_time": "2021-11-20T08:10:05.487Z"
   },
   {
    "duration": 979,
    "start_time": "2021-11-20T08:10:07.034Z"
   },
   {
    "duration": 990,
    "start_time": "2021-11-20T08:10:08.015Z"
   },
   {
    "duration": 141,
    "start_time": "2021-11-20T08:10:09.008Z"
   },
   {
    "duration": 20,
    "start_time": "2021-11-20T08:10:09.152Z"
   },
   {
    "duration": 131,
    "start_time": "2021-11-20T08:10:09.174Z"
   },
   {
    "duration": 22,
    "start_time": "2021-11-20T08:10:09.307Z"
   },
   {
    "duration": 16,
    "start_time": "2021-11-20T08:10:09.331Z"
   },
   {
    "duration": 15,
    "start_time": "2021-11-20T08:10:09.350Z"
   },
   {
    "duration": 22,
    "start_time": "2021-11-20T08:10:09.367Z"
   },
   {
    "duration": 10,
    "start_time": "2021-11-20T08:10:09.392Z"
   },
   {
    "duration": 33,
    "start_time": "2021-11-20T08:10:09.404Z"
   },
   {
    "duration": 45,
    "start_time": "2021-11-20T08:10:09.440Z"
   },
   {
    "duration": 273,
    "start_time": "2021-11-20T08:10:09.488Z"
   },
   {
    "duration": 6,
    "start_time": "2021-11-20T08:10:09.763Z"
   },
   {
    "duration": 15,
    "start_time": "2021-11-20T08:10:09.772Z"
   },
   {
    "duration": 11,
    "start_time": "2021-11-20T08:10:09.789Z"
   },
   {
    "duration": 38,
    "start_time": "2021-11-20T08:10:09.802Z"
   },
   {
    "duration": 16,
    "start_time": "2021-11-20T08:10:09.842Z"
   },
   {
    "duration": 15,
    "start_time": "2021-11-20T08:10:09.861Z"
   },
   {
    "duration": 18,
    "start_time": "2021-11-20T08:10:09.878Z"
   },
   {
    "duration": 16,
    "start_time": "2021-11-20T08:10:09.899Z"
   },
   {
    "duration": 10,
    "start_time": "2021-11-20T08:10:09.931Z"
   },
   {
    "duration": 12,
    "start_time": "2021-11-20T08:10:09.944Z"
   },
   {
    "duration": 26,
    "start_time": "2021-11-20T08:10:09.959Z"
   },
   {
    "duration": 3,
    "start_time": "2021-12-03T08:51:04.741Z"
   },
   {
    "duration": 1091,
    "start_time": "2021-12-03T08:51:04.800Z"
   },
   {
    "duration": 3824,
    "start_time": "2021-12-03T08:51:05.892Z"
   },
   {
    "duration": 3,
    "start_time": "2021-12-03T08:51:09.719Z"
   },
   {
    "duration": 161,
    "start_time": "2021-12-03T08:51:09.725Z"
   },
   {
    "duration": 15,
    "start_time": "2021-12-03T08:51:09.888Z"
   },
   {
    "duration": 10,
    "start_time": "2021-12-03T08:51:09.904Z"
   },
   {
    "duration": 16,
    "start_time": "2021-12-03T08:51:09.916Z"
   },
   {
    "duration": 8,
    "start_time": "2021-12-03T08:51:09.934Z"
   },
   {
    "duration": 25,
    "start_time": "2021-12-03T08:51:09.945Z"
   },
   {
    "duration": 42,
    "start_time": "2021-12-03T08:51:09.992Z"
   },
   {
    "duration": 3,
    "start_time": "2021-12-03T08:51:10.036Z"
   },
   {
    "duration": 25,
    "start_time": "2021-12-03T08:51:10.041Z"
   },
   {
    "duration": 11,
    "start_time": "2021-12-03T08:51:10.068Z"
   },
   {
    "duration": 17,
    "start_time": "2021-12-03T08:51:10.081Z"
   },
   {
    "duration": 16,
    "start_time": "2021-12-03T08:51:10.100Z"
   },
   {
    "duration": 15,
    "start_time": "2021-12-03T08:51:10.118Z"
   },
   {
    "duration": 7,
    "start_time": "2021-12-03T08:51:10.135Z"
   },
   {
    "duration": 22,
    "start_time": "2021-12-03T08:51:10.143Z"
   },
   {
    "duration": 26,
    "start_time": "2021-12-03T08:51:10.167Z"
   },
   {
    "duration": 6,
    "start_time": "2021-12-03T08:51:10.194Z"
   },
   {
    "duration": 573,
    "start_time": "2021-12-03T08:51:10.202Z"
   },
   {
    "duration": 22,
    "start_time": "2021-12-03T08:51:10.777Z"
   },
   {
    "duration": 16,
    "start_time": "2021-12-03T08:51:10.800Z"
   },
   {
    "duration": 11,
    "start_time": "2021-12-03T08:51:10.818Z"
   },
   {
    "duration": 17,
    "start_time": "2021-12-03T08:51:10.831Z"
   },
   {
    "duration": 61,
    "start_time": "2021-12-03T08:51:10.850Z"
   },
   {
    "duration": 15,
    "start_time": "2021-12-03T08:51:10.916Z"
   },
   {
    "duration": 35,
    "start_time": "2021-12-03T08:51:10.934Z"
   },
   {
    "duration": 49,
    "start_time": "2021-12-03T08:51:10.971Z"
   },
   {
    "duration": 17,
    "start_time": "2021-12-03T08:51:11.022Z"
   },
   {
    "duration": 71,
    "start_time": "2021-12-03T08:51:11.040Z"
   },
   {
    "duration": 27,
    "start_time": "2021-12-03T08:51:11.113Z"
   },
   {
    "duration": 133,
    "start_time": "2021-12-03T08:51:11.141Z"
   },
   {
    "duration": 43,
    "start_time": "2021-12-03T08:51:11.276Z"
   },
   {
    "duration": 30,
    "start_time": "2021-12-03T08:51:11.320Z"
   },
   {
    "duration": 12,
    "start_time": "2021-12-03T08:51:11.351Z"
   },
   {
    "duration": 62,
    "start_time": "2021-12-03T08:51:11.365Z"
   },
   {
    "duration": 23,
    "start_time": "2021-12-03T08:51:11.429Z"
   },
   {
    "duration": 92,
    "start_time": "2021-12-03T08:51:11.453Z"
   },
   {
    "duration": 8,
    "start_time": "2021-12-03T08:51:11.547Z"
   },
   {
    "duration": 2646,
    "start_time": "2021-12-03T08:51:11.557Z"
   },
   {
    "duration": -118,
    "start_time": "2021-12-03T08:51:14.326Z"
   },
   {
    "duration": -124,
    "start_time": "2021-12-03T08:51:14.333Z"
   },
   {
    "duration": -128,
    "start_time": "2021-12-03T08:51:14.338Z"
   },
   {
    "duration": -133,
    "start_time": "2021-12-03T08:51:14.344Z"
   },
   {
    "duration": -138,
    "start_time": "2021-12-03T08:51:14.350Z"
   },
   {
    "duration": -142,
    "start_time": "2021-12-03T08:51:14.355Z"
   },
   {
    "duration": -147,
    "start_time": "2021-12-03T08:51:14.361Z"
   },
   {
    "duration": -152,
    "start_time": "2021-12-03T08:51:14.367Z"
   },
   {
    "duration": -166,
    "start_time": "2021-12-03T08:51:14.382Z"
   },
   {
    "duration": -172,
    "start_time": "2021-12-03T08:51:14.389Z"
   },
   {
    "duration": -175,
    "start_time": "2021-12-03T08:51:14.393Z"
   },
   {
    "duration": -180,
    "start_time": "2021-12-03T08:51:14.399Z"
   },
   {
    "duration": -184,
    "start_time": "2021-12-03T08:51:14.404Z"
   },
   {
    "duration": -189,
    "start_time": "2021-12-03T08:51:14.410Z"
   },
   {
    "duration": -195,
    "start_time": "2021-12-03T08:51:14.417Z"
   },
   {
    "duration": -202,
    "start_time": "2021-12-03T08:51:14.425Z"
   },
   {
    "duration": -207,
    "start_time": "2021-12-03T08:51:14.431Z"
   },
   {
    "duration": -212,
    "start_time": "2021-12-03T08:51:14.437Z"
   },
   {
    "duration": -214,
    "start_time": "2021-12-03T08:51:14.440Z"
   },
   {
    "duration": -218,
    "start_time": "2021-12-03T08:51:14.445Z"
   },
   {
    "duration": -221,
    "start_time": "2021-12-03T08:51:14.449Z"
   },
   {
    "duration": -225,
    "start_time": "2021-12-03T08:51:14.454Z"
   },
   {
    "duration": -228,
    "start_time": "2021-12-03T08:51:14.458Z"
   },
   {
    "duration": -232,
    "start_time": "2021-12-03T08:51:14.463Z"
   },
   {
    "duration": -235,
    "start_time": "2021-12-03T08:51:14.467Z"
   },
   {
    "duration": -239,
    "start_time": "2021-12-03T08:51:14.472Z"
   },
   {
    "duration": -242,
    "start_time": "2021-12-03T08:51:14.476Z"
   },
   {
    "duration": -253,
    "start_time": "2021-12-03T08:51:14.488Z"
   },
   {
    "duration": -257,
    "start_time": "2021-12-03T08:51:14.493Z"
   },
   {
    "duration": -262,
    "start_time": "2021-12-03T08:51:14.499Z"
   },
   {
    "duration": -265,
    "start_time": "2021-12-03T08:51:14.503Z"
   },
   {
    "duration": -269,
    "start_time": "2021-12-03T08:51:14.508Z"
   },
   {
    "duration": -272,
    "start_time": "2021-12-03T08:51:14.512Z"
   },
   {
    "duration": -276,
    "start_time": "2021-12-03T08:51:14.517Z"
   },
   {
    "duration": -279,
    "start_time": "2021-12-03T08:51:14.521Z"
   },
   {
    "duration": -283,
    "start_time": "2021-12-03T08:51:14.526Z"
   },
   {
    "duration": -286,
    "start_time": "2021-12-03T08:51:14.530Z"
   },
   {
    "duration": -244,
    "start_time": "2021-12-03T08:51:14.535Z"
   },
   {
    "duration": -246,
    "start_time": "2021-12-03T08:51:14.539Z"
   },
   {
    "duration": -249,
    "start_time": "2021-12-03T08:51:14.543Z"
   },
   {
    "duration": -253,
    "start_time": "2021-12-03T08:51:14.548Z"
   },
   {
    "duration": -256,
    "start_time": "2021-12-03T08:51:14.552Z"
   },
   {
    "duration": -259,
    "start_time": "2021-12-03T08:51:14.556Z"
   },
   {
    "duration": -263,
    "start_time": "2021-12-03T08:51:14.561Z"
   },
   {
    "duration": -266,
    "start_time": "2021-12-03T08:51:14.565Z"
   },
   {
    "duration": -270,
    "start_time": "2021-12-03T08:51:14.570Z"
   },
   {
    "duration": -273,
    "start_time": "2021-12-03T08:51:14.574Z"
   },
   {
    "duration": -276,
    "start_time": "2021-12-03T08:51:14.578Z"
   },
   {
    "duration": -279,
    "start_time": "2021-12-03T08:51:14.582Z"
   },
   {
    "duration": -291,
    "start_time": "2021-12-03T08:51:14.595Z"
   },
   {
    "duration": -295,
    "start_time": "2021-12-03T08:51:14.600Z"
   },
   {
    "duration": -298,
    "start_time": "2021-12-03T08:51:14.604Z"
   },
   {
    "duration": -301,
    "start_time": "2021-12-03T08:51:14.608Z"
   },
   {
    "duration": -305,
    "start_time": "2021-12-03T08:51:14.613Z"
   },
   {
    "duration": -309,
    "start_time": "2021-12-03T08:51:14.618Z"
   },
   {
    "duration": -312,
    "start_time": "2021-12-03T08:51:14.622Z"
   },
   {
    "duration": -315,
    "start_time": "2021-12-03T08:51:14.626Z"
   },
   {
    "duration": -319,
    "start_time": "2021-12-03T08:51:14.631Z"
   },
   {
    "duration": -322,
    "start_time": "2021-12-03T08:51:14.635Z"
   },
   {
    "duration": -326,
    "start_time": "2021-12-03T08:51:14.640Z"
   },
   {
    "duration": -330,
    "start_time": "2021-12-03T08:51:14.645Z"
   },
   {
    "duration": -335,
    "start_time": "2021-12-03T08:51:14.651Z"
   },
   {
    "duration": -338,
    "start_time": "2021-12-03T08:51:14.655Z"
   },
   {
    "duration": 3,
    "start_time": "2021-12-03T10:43:07.070Z"
   },
   {
    "duration": 1148,
    "start_time": "2021-12-03T10:43:07.110Z"
   },
   {
    "duration": 3155,
    "start_time": "2021-12-03T10:43:08.260Z"
   },
   {
    "duration": 3,
    "start_time": "2021-12-03T10:43:11.418Z"
   },
   {
    "duration": 169,
    "start_time": "2021-12-03T10:43:11.424Z"
   },
   {
    "duration": 14,
    "start_time": "2021-12-03T10:43:11.595Z"
   },
   {
    "duration": 10,
    "start_time": "2021-12-03T10:43:11.610Z"
   },
   {
    "duration": 8,
    "start_time": "2021-12-03T10:43:11.622Z"
   },
   {
    "duration": 5,
    "start_time": "2021-12-03T10:43:11.631Z"
   },
   {
    "duration": 16,
    "start_time": "2021-12-03T10:43:11.639Z"
   },
   {
    "duration": 71,
    "start_time": "2021-12-03T10:43:11.657Z"
   },
   {
    "duration": 4,
    "start_time": "2021-12-03T10:43:11.730Z"
   },
   {
    "duration": 8,
    "start_time": "2021-12-03T10:43:11.736Z"
   },
   {
    "duration": 6,
    "start_time": "2021-12-03T10:43:11.746Z"
   },
   {
    "duration": 39,
    "start_time": "2021-12-03T10:43:11.754Z"
   },
   {
    "duration": 13,
    "start_time": "2021-12-03T10:43:11.795Z"
   },
   {
    "duration": 10,
    "start_time": "2021-12-03T10:43:11.809Z"
   },
   {
    "duration": 6,
    "start_time": "2021-12-03T10:43:11.821Z"
   },
   {
    "duration": 20,
    "start_time": "2021-12-03T10:43:11.829Z"
   },
   {
    "duration": 43,
    "start_time": "2021-12-03T10:43:11.850Z"
   },
   {
    "duration": 5,
    "start_time": "2021-12-03T10:43:11.895Z"
   },
   {
    "duration": 566,
    "start_time": "2021-12-03T10:43:11.902Z"
   },
   {
    "duration": 23,
    "start_time": "2021-12-03T10:43:12.470Z"
   },
   {
    "duration": 15,
    "start_time": "2021-12-03T10:43:12.494Z"
   },
   {
    "duration": 10,
    "start_time": "2021-12-03T10:43:12.510Z"
   },
   {
    "duration": 16,
    "start_time": "2021-12-03T10:43:12.522Z"
   },
   {
    "duration": 58,
    "start_time": "2021-12-03T10:43:12.540Z"
   },
   {
    "duration": 14,
    "start_time": "2021-12-03T10:43:12.603Z"
   },
   {
    "duration": 18,
    "start_time": "2021-12-03T10:43:12.619Z"
   },
   {
    "duration": 23,
    "start_time": "2021-12-03T10:43:12.638Z"
   },
   {
    "duration": 35,
    "start_time": "2021-12-03T10:43:12.663Z"
   },
   {
    "duration": 54,
    "start_time": "2021-12-03T10:43:12.700Z"
   },
   {
    "duration": 48,
    "start_time": "2021-12-03T10:43:12.755Z"
   },
   {
    "duration": 131,
    "start_time": "2021-12-03T10:43:12.805Z"
   },
   {
    "duration": 40,
    "start_time": "2021-12-03T10:43:12.938Z"
   },
   {
    "duration": 35,
    "start_time": "2021-12-03T10:43:12.992Z"
   },
   {
    "duration": 15,
    "start_time": "2021-12-03T10:43:13.029Z"
   },
   {
    "duration": 70,
    "start_time": "2021-12-03T10:43:13.046Z"
   },
   {
    "duration": 23,
    "start_time": "2021-12-03T10:43:13.118Z"
   },
   {
    "duration": 92,
    "start_time": "2021-12-03T10:43:13.143Z"
   },
   {
    "duration": 10,
    "start_time": "2021-12-03T10:43:13.237Z"
   },
   {
    "duration": 2639,
    "start_time": "2021-12-03T10:43:13.249Z"
   },
   {
    "duration": -156,
    "start_time": "2021-12-03T10:43:16.047Z"
   },
   {
    "duration": -159,
    "start_time": "2021-12-03T10:43:16.051Z"
   },
   {
    "duration": -164,
    "start_time": "2021-12-03T10:43:16.057Z"
   },
   {
    "duration": -167,
    "start_time": "2021-12-03T10:43:16.061Z"
   },
   {
    "duration": -170,
    "start_time": "2021-12-03T10:43:16.065Z"
   },
   {
    "duration": -174,
    "start_time": "2021-12-03T10:43:16.069Z"
   },
   {
    "duration": -183,
    "start_time": "2021-12-03T10:43:16.080Z"
   },
   {
    "duration": -190,
    "start_time": "2021-12-03T10:43:16.087Z"
   },
   {
    "duration": -194,
    "start_time": "2021-12-03T10:43:16.092Z"
   },
   {
    "duration": -198,
    "start_time": "2021-12-03T10:43:16.097Z"
   },
   {
    "duration": -201,
    "start_time": "2021-12-03T10:43:16.101Z"
   },
   {
    "duration": -204,
    "start_time": "2021-12-03T10:43:16.105Z"
   },
   {
    "duration": -208,
    "start_time": "2021-12-03T10:43:16.109Z"
   },
   {
    "duration": -211,
    "start_time": "2021-12-03T10:43:16.113Z"
   },
   {
    "duration": -215,
    "start_time": "2021-12-03T10:43:16.118Z"
   },
   {
    "duration": -217,
    "start_time": "2021-12-03T10:43:16.121Z"
   },
   {
    "duration": -220,
    "start_time": "2021-12-03T10:43:16.125Z"
   },
   {
    "duration": -223,
    "start_time": "2021-12-03T10:43:16.129Z"
   },
   {
    "duration": -225,
    "start_time": "2021-12-03T10:43:16.133Z"
   },
   {
    "duration": -228,
    "start_time": "2021-12-03T10:43:16.137Z"
   },
   {
    "duration": -231,
    "start_time": "2021-12-03T10:43:16.141Z"
   },
   {
    "duration": -234,
    "start_time": "2021-12-03T10:43:16.145Z"
   },
   {
    "duration": -237,
    "start_time": "2021-12-03T10:43:16.149Z"
   },
   {
    "duration": -240,
    "start_time": "2021-12-03T10:43:16.153Z"
   },
   {
    "duration": -243,
    "start_time": "2021-12-03T10:43:16.157Z"
   },
   {
    "duration": -245,
    "start_time": "2021-12-03T10:43:16.161Z"
   },
   {
    "duration": -248,
    "start_time": "2021-12-03T10:43:16.165Z"
   },
   {
    "duration": -252,
    "start_time": "2021-12-03T10:43:16.170Z"
   },
   {
    "duration": -255,
    "start_time": "2021-12-03T10:43:16.174Z"
   },
   {
    "duration": -265,
    "start_time": "2021-12-03T10:43:16.185Z"
   },
   {
    "duration": -269,
    "start_time": "2021-12-03T10:43:16.190Z"
   },
   {
    "duration": -272,
    "start_time": "2021-12-03T10:43:16.194Z"
   },
   {
    "duration": -274,
    "start_time": "2021-12-03T10:43:16.197Z"
   },
   {
    "duration": -277,
    "start_time": "2021-12-03T10:43:16.201Z"
   },
   {
    "duration": -281,
    "start_time": "2021-12-03T10:43:16.206Z"
   },
   {
    "duration": -284,
    "start_time": "2021-12-03T10:43:16.210Z"
   },
   {
    "duration": -287,
    "start_time": "2021-12-03T10:43:16.214Z"
   },
   {
    "duration": -289,
    "start_time": "2021-12-03T10:43:16.217Z"
   },
   {
    "duration": -292,
    "start_time": "2021-12-03T10:43:16.221Z"
   },
   {
    "duration": -294,
    "start_time": "2021-12-03T10:43:16.225Z"
   },
   {
    "duration": -298,
    "start_time": "2021-12-03T10:43:16.229Z"
   },
   {
    "duration": -241,
    "start_time": "2021-12-03T10:43:16.233Z"
   },
   {
    "duration": -245,
    "start_time": "2021-12-03T10:43:16.238Z"
   },
   {
    "duration": -246,
    "start_time": "2021-12-03T10:43:16.241Z"
   },
   {
    "duration": -249,
    "start_time": "2021-12-03T10:43:16.245Z"
   },
   {
    "duration": -251,
    "start_time": "2021-12-03T10:43:16.248Z"
   },
   {
    "duration": -254,
    "start_time": "2021-12-03T10:43:16.253Z"
   },
   {
    "duration": -256,
    "start_time": "2021-12-03T10:43:16.256Z"
   },
   {
    "duration": -259,
    "start_time": "2021-12-03T10:43:16.260Z"
   },
   {
    "duration": -261,
    "start_time": "2021-12-03T10:43:16.263Z"
   },
   {
    "duration": -264,
    "start_time": "2021-12-03T10:43:16.267Z"
   },
   {
    "duration": -267,
    "start_time": "2021-12-03T10:43:16.270Z"
   },
   {
    "duration": -270,
    "start_time": "2021-12-03T10:43:16.274Z"
   },
   {
    "duration": -272,
    "start_time": "2021-12-03T10:43:16.277Z"
   },
   {
    "duration": -275,
    "start_time": "2021-12-03T10:43:16.281Z"
   },
   {
    "duration": -287,
    "start_time": "2021-12-03T10:43:16.294Z"
   },
   {
    "duration": -290,
    "start_time": "2021-12-03T10:43:16.298Z"
   },
   {
    "duration": -294,
    "start_time": "2021-12-03T10:43:16.303Z"
   },
   {
    "duration": -297,
    "start_time": "2021-12-03T10:43:16.307Z"
   },
   {
    "duration": -300,
    "start_time": "2021-12-03T10:43:16.310Z"
   },
   {
    "duration": -303,
    "start_time": "2021-12-03T10:43:16.314Z"
   },
   {
    "duration": -306,
    "start_time": "2021-12-03T10:43:16.318Z"
   },
   {
    "duration": -309,
    "start_time": "2021-12-03T10:43:16.322Z"
   },
   {
    "duration": 3,
    "start_time": "2021-12-03T19:22:20.359Z"
   },
   {
    "duration": 1254,
    "start_time": "2021-12-03T19:22:20.364Z"
   },
   {
    "duration": 6815,
    "start_time": "2021-12-03T19:22:21.620Z"
   },
   {
    "duration": 3,
    "start_time": "2021-12-03T19:22:28.438Z"
   },
   {
    "duration": 226,
    "start_time": "2021-12-03T19:22:28.443Z"
   },
   {
    "duration": 13,
    "start_time": "2021-12-03T19:22:28.671Z"
   },
   {
    "duration": 12,
    "start_time": "2021-12-03T19:22:28.685Z"
   },
   {
    "duration": 9,
    "start_time": "2021-12-03T19:22:28.698Z"
   },
   {
    "duration": 4,
    "start_time": "2021-12-03T19:22:28.710Z"
   },
   {
    "duration": 47,
    "start_time": "2021-12-03T19:22:28.716Z"
   },
   {
    "duration": 40,
    "start_time": "2021-12-03T19:22:28.765Z"
   },
   {
    "duration": 4,
    "start_time": "2021-12-03T19:22:28.807Z"
   },
   {
    "duration": 9,
    "start_time": "2021-12-03T19:22:28.813Z"
   },
   {
    "duration": 7,
    "start_time": "2021-12-03T19:22:28.824Z"
   },
   {
    "duration": 31,
    "start_time": "2021-12-03T19:22:28.833Z"
   },
   {
    "duration": 14,
    "start_time": "2021-12-03T19:22:28.866Z"
   },
   {
    "duration": 11,
    "start_time": "2021-12-03T19:22:28.882Z"
   },
   {
    "duration": 6,
    "start_time": "2021-12-03T19:22:28.895Z"
   },
   {
    "duration": 25,
    "start_time": "2021-12-03T19:22:28.903Z"
   },
   {
    "duration": 45,
    "start_time": "2021-12-03T19:22:28.930Z"
   },
   {
    "duration": 6,
    "start_time": "2021-12-03T19:22:28.976Z"
   },
   {
    "duration": 585,
    "start_time": "2021-12-03T19:22:28.983Z"
   },
   {
    "duration": 15,
    "start_time": "2021-12-03T19:22:29.569Z"
   },
   {
    "duration": 17,
    "start_time": "2021-12-03T19:22:29.585Z"
   },
   {
    "duration": 12,
    "start_time": "2021-12-03T19:22:29.604Z"
   },
   {
    "duration": 47,
    "start_time": "2021-12-03T19:22:29.618Z"
   },
   {
    "duration": 30,
    "start_time": "2021-12-03T19:22:29.671Z"
   },
   {
    "duration": 14,
    "start_time": "2021-12-03T19:22:29.704Z"
   },
   {
    "duration": 43,
    "start_time": "2021-12-03T19:22:29.720Z"
   },
   {
    "duration": 23,
    "start_time": "2021-12-03T19:22:29.766Z"
   },
   {
    "duration": 24,
    "start_time": "2021-12-03T19:22:29.791Z"
   },
   {
    "duration": 77,
    "start_time": "2021-12-03T19:22:29.817Z"
   },
   {
    "duration": 33,
    "start_time": "2021-12-03T19:22:29.896Z"
   },
   {
    "duration": 147,
    "start_time": "2021-12-03T19:22:29.931Z"
   },
   {
    "duration": 46,
    "start_time": "2021-12-03T19:22:30.080Z"
   },
   {
    "duration": 57,
    "start_time": "2021-12-03T19:22:30.128Z"
   },
   {
    "duration": 16,
    "start_time": "2021-12-03T19:22:30.186Z"
   },
   {
    "duration": 40,
    "start_time": "2021-12-03T19:22:30.204Z"
   },
   {
    "duration": 25,
    "start_time": "2021-12-03T19:22:30.263Z"
   },
   {
    "duration": 98,
    "start_time": "2021-12-03T19:22:30.290Z"
   },
   {
    "duration": 10,
    "start_time": "2021-12-03T19:22:30.390Z"
   },
   {
    "duration": 806,
    "start_time": "2021-12-03T19:22:30.401Z"
   },
   {
    "duration": 10,
    "start_time": "2021-12-03T19:22:31.209Z"
   },
   {
    "duration": 35,
    "start_time": "2021-12-03T19:22:31.221Z"
   },
   {
    "duration": 30,
    "start_time": "2021-12-03T19:22:31.258Z"
   },
   {
    "duration": 23,
    "start_time": "2021-12-03T19:22:31.290Z"
   },
   {
    "duration": 28,
    "start_time": "2021-12-03T19:22:31.315Z"
   },
   {
    "duration": 529,
    "start_time": "2021-12-03T19:22:31.345Z"
   },
   {
    "duration": 16,
    "start_time": "2021-12-03T19:22:31.876Z"
   },
   {
    "duration": 474,
    "start_time": "2021-12-03T19:22:31.894Z"
   },
   {
    "duration": 14,
    "start_time": "2021-12-03T19:22:32.369Z"
   },
   {
    "duration": 26,
    "start_time": "2021-12-03T19:22:32.385Z"
   },
   {
    "duration": 35,
    "start_time": "2021-12-03T19:22:32.412Z"
   },
   {
    "duration": 14,
    "start_time": "2021-12-03T19:22:32.449Z"
   },
   {
    "duration": 23,
    "start_time": "2021-12-03T19:22:32.464Z"
   },
   {
    "duration": 27,
    "start_time": "2021-12-03T19:22:32.488Z"
   },
   {
    "duration": 338,
    "start_time": "2021-12-03T19:22:32.517Z"
   },
   {
    "duration": 12,
    "start_time": "2021-12-03T19:22:32.857Z"
   },
   {
    "duration": 35,
    "start_time": "2021-12-03T19:22:32.870Z"
   },
   {
    "duration": 17,
    "start_time": "2021-12-03T19:22:32.907Z"
   },
   {
    "duration": 21,
    "start_time": "2021-12-03T19:22:32.926Z"
   },
   {
    "duration": 1333,
    "start_time": "2021-12-03T19:22:32.949Z"
   },
   {
    "duration": 20,
    "start_time": "2021-12-03T19:22:34.284Z"
   },
   {
    "duration": 38,
    "start_time": "2021-12-03T19:22:34.306Z"
   },
   {
    "duration": 342,
    "start_time": "2021-12-03T19:22:34.346Z"
   },
   {
    "duration": 703,
    "start_time": "2021-12-03T19:22:34.690Z"
   },
   {
    "duration": 504,
    "start_time": "2021-12-03T19:22:35.394Z"
   },
   {
    "duration": 17,
    "start_time": "2021-12-03T19:22:35.900Z"
   },
   {
    "duration": 7,
    "start_time": "2021-12-03T19:22:35.918Z"
   },
   {
    "duration": 48,
    "start_time": "2021-12-03T19:22:35.927Z"
   },
   {
    "duration": 355,
    "start_time": "2021-12-03T19:22:35.976Z"
   },
   {
    "duration": 11,
    "start_time": "2021-12-03T19:22:36.333Z"
   },
   {
    "duration": 27,
    "start_time": "2021-12-03T19:22:36.345Z"
   },
   {
    "duration": 17,
    "start_time": "2021-12-03T19:22:36.373Z"
   },
   {
    "duration": 21,
    "start_time": "2021-12-03T19:22:36.391Z"
   },
   {
    "duration": 21,
    "start_time": "2021-12-03T19:22:36.413Z"
   },
   {
    "duration": 15,
    "start_time": "2021-12-03T19:22:36.435Z"
   },
   {
    "duration": 13,
    "start_time": "2021-12-03T19:22:36.451Z"
   },
   {
    "duration": 13,
    "start_time": "2021-12-03T19:22:36.466Z"
   },
   {
    "duration": 14,
    "start_time": "2021-12-03T19:22:36.481Z"
   },
   {
    "duration": 10,
    "start_time": "2021-12-03T19:22:36.502Z"
   },
   {
    "duration": 21,
    "start_time": "2021-12-03T19:22:36.515Z"
   },
   {
    "duration": 34,
    "start_time": "2021-12-03T19:22:36.537Z"
   },
   {
    "duration": 23,
    "start_time": "2021-12-03T19:22:36.573Z"
   },
   {
    "duration": 38,
    "start_time": "2021-12-03T19:22:36.598Z"
   },
   {
    "duration": 33,
    "start_time": "2021-12-03T19:22:36.638Z"
   },
   {
    "duration": 47,
    "start_time": "2021-12-03T19:22:36.673Z"
   },
   {
    "duration": 108,
    "start_time": "2021-12-03T19:22:36.722Z"
   },
   {
    "duration": 85,
    "start_time": "2021-12-03T19:22:36.832Z"
   },
   {
    "duration": 19,
    "start_time": "2021-12-03T19:22:36.919Z"
   },
   {
    "duration": 35,
    "start_time": "2021-12-03T19:22:36.940Z"
   },
   {
    "duration": 4,
    "start_time": "2021-12-03T19:22:36.977Z"
   },
   {
    "duration": 29,
    "start_time": "2021-12-03T19:22:36.983Z"
   },
   {
    "duration": 43,
    "start_time": "2021-12-03T19:22:37.014Z"
   },
   {
    "duration": 350,
    "start_time": "2021-12-03T19:22:37.059Z"
   },
   {
    "duration": 16,
    "start_time": "2021-12-03T19:22:37.411Z"
   },
   {
    "duration": 44,
    "start_time": "2021-12-03T19:22:37.429Z"
   },
   {
    "duration": 16,
    "start_time": "2021-12-03T19:22:37.475Z"
   },
   {
    "duration": 1186,
    "start_time": "2021-12-03T19:22:37.492Z"
   },
   {
    "duration": 8,
    "start_time": "2021-12-03T19:22:38.679Z"
   },
   {
    "duration": 41,
    "start_time": "2021-12-03T19:22:38.689Z"
   },
   {
    "duration": 30,
    "start_time": "2021-12-03T19:22:38.732Z"
   },
   {
    "duration": 571,
    "start_time": "2021-12-03T19:22:38.764Z"
   },
   {
    "duration": 526,
    "start_time": "2021-12-03T19:22:39.337Z"
   },
   {
    "duration": 31,
    "start_time": "2021-12-03T19:22:39.865Z"
   },
   {
    "duration": 42,
    "start_time": "2021-12-03T19:22:39.898Z"
   },
   {
    "duration": 48,
    "start_time": "2021-12-03T19:22:39.964Z"
   },
   {
    "duration": 7,
    "start_time": "2021-12-03T19:43:17.867Z"
   },
   {
    "duration": 5,
    "start_time": "2021-12-03T19:43:30.658Z"
   },
   {
    "duration": 5,
    "start_time": "2021-12-03T19:43:51.797Z"
   },
   {
    "duration": 5,
    "start_time": "2021-12-03T19:43:56.989Z"
   },
   {
    "duration": 3,
    "start_time": "2021-12-04T05:38:21.684Z"
   },
   {
    "duration": 1220,
    "start_time": "2021-12-04T05:38:21.719Z"
   },
   {
    "duration": 3173,
    "start_time": "2021-12-04T05:38:22.941Z"
   },
   {
    "duration": 3,
    "start_time": "2021-12-04T05:38:26.116Z"
   },
   {
    "duration": 776,
    "start_time": "2021-12-04T05:38:26.121Z"
   },
   {
    "duration": 12,
    "start_time": "2021-12-04T05:38:26.899Z"
   },
   {
    "duration": 13,
    "start_time": "2021-12-04T05:38:26.913Z"
   },
   {
    "duration": 7,
    "start_time": "2021-12-04T05:38:26.928Z"
   },
   {
    "duration": 4,
    "start_time": "2021-12-04T05:38:26.937Z"
   },
   {
    "duration": 19,
    "start_time": "2021-12-04T05:38:26.943Z"
   },
   {
    "duration": 64,
    "start_time": "2021-12-04T05:38:26.964Z"
   },
   {
    "duration": 4,
    "start_time": "2021-12-04T05:38:27.029Z"
   },
   {
    "duration": 9,
    "start_time": "2021-12-04T05:38:27.034Z"
   },
   {
    "duration": 6,
    "start_time": "2021-12-04T05:38:27.045Z"
   },
   {
    "duration": 8,
    "start_time": "2021-12-04T05:38:27.052Z"
   },
   {
    "duration": 37,
    "start_time": "2021-12-04T05:38:27.061Z"
   },
   {
    "duration": 10,
    "start_time": "2021-12-04T05:38:27.099Z"
   },
   {
    "duration": 5,
    "start_time": "2021-12-04T05:38:27.110Z"
   },
   {
    "duration": 21,
    "start_time": "2021-12-04T05:38:27.116Z"
   },
   {
    "duration": 13,
    "start_time": "2021-12-04T05:38:27.138Z"
   },
   {
    "duration": 40,
    "start_time": "2021-12-04T05:38:27.152Z"
   },
   {
    "duration": 584,
    "start_time": "2021-12-04T05:38:27.194Z"
   },
   {
    "duration": 24,
    "start_time": "2021-12-04T05:38:27.780Z"
   },
   {
    "duration": 17,
    "start_time": "2021-12-04T05:38:27.806Z"
   },
   {
    "duration": 12,
    "start_time": "2021-12-04T05:38:27.825Z"
   },
   {
    "duration": 19,
    "start_time": "2021-12-04T05:38:27.839Z"
   },
   {
    "duration": 32,
    "start_time": "2021-12-04T05:38:27.892Z"
   },
   {
    "duration": 15,
    "start_time": "2021-12-04T05:38:27.929Z"
   },
   {
    "duration": 44,
    "start_time": "2021-12-04T05:38:27.948Z"
   },
   {
    "duration": 22,
    "start_time": "2021-12-04T05:38:27.994Z"
   },
   {
    "duration": 17,
    "start_time": "2021-12-04T05:38:28.018Z"
   },
   {
    "duration": 82,
    "start_time": "2021-12-04T05:38:28.037Z"
   },
   {
    "duration": 30,
    "start_time": "2021-12-04T05:38:28.121Z"
   },
   {
    "duration": 148,
    "start_time": "2021-12-04T05:38:28.153Z"
   },
   {
    "duration": 40,
    "start_time": "2021-12-04T05:38:28.303Z"
   },
   {
    "duration": 51,
    "start_time": "2021-12-04T05:38:28.344Z"
   },
   {
    "duration": 13,
    "start_time": "2021-12-04T05:38:28.397Z"
   },
   {
    "duration": 39,
    "start_time": "2021-12-04T05:38:28.412Z"
   },
   {
    "duration": 44,
    "start_time": "2021-12-04T05:38:28.453Z"
   },
   {
    "duration": 79,
    "start_time": "2021-12-04T05:38:28.498Z"
   },
   {
    "duration": 21,
    "start_time": "2021-12-04T05:38:28.578Z"
   },
   {
    "duration": 491,
    "start_time": "2021-12-04T05:38:28.601Z"
   },
   {
    "duration": 10,
    "start_time": "2021-12-04T05:38:29.093Z"
   },
   {
    "duration": 4,
    "start_time": "2021-12-04T05:38:29.105Z"
   },
   {
    "duration": 18,
    "start_time": "2021-12-04T05:38:29.110Z"
   },
   {
    "duration": 16,
    "start_time": "2021-12-04T05:38:29.129Z"
   },
   {
    "duration": 6,
    "start_time": "2021-12-04T05:38:29.147Z"
   },
   {
    "duration": 548,
    "start_time": "2021-12-04T05:38:29.155Z"
   },
   {
    "duration": 17,
    "start_time": "2021-12-04T05:38:29.704Z"
   },
   {
    "duration": 528,
    "start_time": "2021-12-04T05:38:29.723Z"
   },
   {
    "duration": 14,
    "start_time": "2021-12-04T05:38:30.253Z"
   },
   {
    "duration": 33,
    "start_time": "2021-12-04T05:38:30.269Z"
   },
   {
    "duration": 16,
    "start_time": "2021-12-04T05:38:30.304Z"
   },
   {
    "duration": 11,
    "start_time": "2021-12-04T05:38:30.321Z"
   },
   {
    "duration": 17,
    "start_time": "2021-12-04T05:38:30.334Z"
   },
   {
    "duration": 6,
    "start_time": "2021-12-04T05:38:30.353Z"
   },
   {
    "duration": 393,
    "start_time": "2021-12-04T05:38:30.361Z"
   },
   {
    "duration": 8,
    "start_time": "2021-12-04T05:38:30.756Z"
   },
   {
    "duration": 11,
    "start_time": "2021-12-04T05:38:30.765Z"
   },
   {
    "duration": 16,
    "start_time": "2021-12-04T05:38:30.792Z"
   },
   {
    "duration": 14,
    "start_time": "2021-12-04T05:38:30.809Z"
   },
   {
    "duration": 1430,
    "start_time": "2021-12-04T05:38:30.824Z"
   },
   {
    "duration": 21,
    "start_time": "2021-12-04T05:38:32.256Z"
   },
   {
    "duration": 18,
    "start_time": "2021-12-04T05:38:32.279Z"
   },
   {
    "duration": 350,
    "start_time": "2021-12-04T05:38:32.299Z"
   },
   {
    "duration": 633,
    "start_time": "2021-12-04T05:38:32.651Z"
   },
   {
    "duration": 505,
    "start_time": "2021-12-04T05:38:33.286Z"
   },
   {
    "duration": 16,
    "start_time": "2021-12-04T05:38:33.793Z"
   },
   {
    "duration": 6,
    "start_time": "2021-12-04T05:38:33.811Z"
   },
   {
    "duration": 22,
    "start_time": "2021-12-04T05:38:33.818Z"
   },
   {
    "duration": 382,
    "start_time": "2021-12-04T05:38:33.842Z"
   },
   {
    "duration": 10,
    "start_time": "2021-12-04T05:38:34.225Z"
   },
   {
    "duration": 12,
    "start_time": "2021-12-04T05:38:34.237Z"
   },
   {
    "duration": 11,
    "start_time": "2021-12-04T05:38:34.251Z"
   },
   {
    "duration": 31,
    "start_time": "2021-12-04T05:38:34.263Z"
   },
   {
    "duration": 12,
    "start_time": "2021-12-04T05:38:34.295Z"
   },
   {
    "duration": 12,
    "start_time": "2021-12-04T05:38:34.308Z"
   },
   {
    "duration": 12,
    "start_time": "2021-12-04T05:38:34.322Z"
   },
   {
    "duration": 12,
    "start_time": "2021-12-04T05:38:34.335Z"
   },
   {
    "duration": 11,
    "start_time": "2021-12-04T05:38:34.348Z"
   },
   {
    "duration": 32,
    "start_time": "2021-12-04T05:38:34.360Z"
   },
   {
    "duration": 20,
    "start_time": "2021-12-04T05:38:34.397Z"
   },
   {
    "duration": 11,
    "start_time": "2021-12-04T05:38:34.418Z"
   },
   {
    "duration": 8,
    "start_time": "2021-12-04T05:38:34.430Z"
   },
   {
    "duration": 10,
    "start_time": "2021-12-04T05:38:34.439Z"
   },
   {
    "duration": 10,
    "start_time": "2021-12-04T05:38:34.451Z"
   },
   {
    "duration": 40,
    "start_time": "2021-12-04T05:38:34.463Z"
   },
   {
    "duration": 100,
    "start_time": "2021-12-04T05:38:34.505Z"
   },
   {
    "duration": 90,
    "start_time": "2021-12-04T05:38:34.607Z"
   },
   {
    "duration": 16,
    "start_time": "2021-12-04T05:38:34.698Z"
   },
   {
    "duration": 13,
    "start_time": "2021-12-04T05:38:34.715Z"
   },
   {
    "duration": 4,
    "start_time": "2021-12-04T05:38:34.729Z"
   },
   {
    "duration": 5,
    "start_time": "2021-12-04T05:38:34.734Z"
   },
   {
    "duration": 50,
    "start_time": "2021-12-04T05:38:34.741Z"
   },
   {
    "duration": 358,
    "start_time": "2021-12-04T05:38:34.793Z"
   },
   {
    "duration": 18,
    "start_time": "2021-12-04T05:38:35.152Z"
   },
   {
    "duration": 41,
    "start_time": "2021-12-04T05:38:35.172Z"
   },
   {
    "duration": 8,
    "start_time": "2021-12-04T05:38:35.215Z"
   },
   {
    "duration": 1087,
    "start_time": "2021-12-04T05:38:35.225Z"
   },
   {
    "duration": 8,
    "start_time": "2021-12-04T05:38:36.314Z"
   },
   {
    "duration": 9,
    "start_time": "2021-12-04T05:38:36.323Z"
   },
   {
    "duration": 6,
    "start_time": "2021-12-04T05:38:36.333Z"
   },
   {
    "duration": 533,
    "start_time": "2021-12-04T05:38:36.340Z"
   },
   {
    "duration": 527,
    "start_time": "2021-12-04T05:38:36.875Z"
   },
   {
    "duration": 22,
    "start_time": "2021-12-04T05:38:37.404Z"
   },
   {
    "duration": 36,
    "start_time": "2021-12-04T05:38:37.428Z"
   },
   {
    "duration": 32,
    "start_time": "2021-12-04T05:38:37.491Z"
   },
   {
    "duration": 14,
    "start_time": "2021-12-04T05:41:58.780Z"
   },
   {
    "duration": 6,
    "start_time": "2021-12-04T05:43:03.006Z"
   },
   {
    "duration": 7,
    "start_time": "2021-12-04T05:44:08.688Z"
   },
   {
    "duration": 15,
    "start_time": "2021-12-04T05:44:22.354Z"
   },
   {
    "duration": 284,
    "start_time": "2021-12-04T05:45:05.563Z"
   },
   {
    "duration": 180,
    "start_time": "2021-12-04T05:45:20.506Z"
   },
   {
    "duration": 769,
    "start_time": "2021-12-04T05:46:27.024Z"
   },
   {
    "duration": 5,
    "start_time": "2021-12-04T05:46:55.324Z"
   },
   {
    "duration": 1715,
    "start_time": "2021-12-04T05:48:43.356Z"
   },
   {
    "duration": 809,
    "start_time": "2021-12-04T05:52:23.075Z"
   },
   {
    "duration": 176,
    "start_time": "2021-12-04T05:52:57.778Z"
   },
   {
    "duration": 15,
    "start_time": "2021-12-04T05:53:15.723Z"
   },
   {
    "duration": 27,
    "start_time": "2021-12-04T05:53:33.501Z"
   },
   {
    "duration": 29,
    "start_time": "2021-12-04T05:53:51.796Z"
   },
   {
    "duration": 19,
    "start_time": "2021-12-04T05:54:13.747Z"
   },
   {
    "duration": 17,
    "start_time": "2021-12-04T05:54:56.133Z"
   },
   {
    "duration": 8,
    "start_time": "2021-12-04T05:55:02.624Z"
   },
   {
    "duration": 13,
    "start_time": "2021-12-04T05:55:33.796Z"
   },
   {
    "duration": 58,
    "start_time": "2021-12-04T05:56:10.056Z"
   },
   {
    "duration": 5409,
    "start_time": "2021-12-04T05:56:29.224Z"
   },
   {
    "duration": 53,
    "start_time": "2021-12-04T05:56:39.801Z"
   },
   {
    "duration": 1447,
    "start_time": "2021-12-04T05:57:25.325Z"
   },
   {
    "duration": 62,
    "start_time": "2021-12-04T05:58:30.545Z"
   },
   {
    "duration": 5625,
    "start_time": "2021-12-04T05:58:35.244Z"
   },
   {
    "duration": 190,
    "start_time": "2021-12-04T06:00:47.621Z"
   },
   {
    "duration": 16,
    "start_time": "2021-12-04T06:02:40.851Z"
   },
   {
    "duration": 65,
    "start_time": "2021-12-04T06:03:01.638Z"
   },
   {
    "duration": 15,
    "start_time": "2021-12-04T06:03:07.082Z"
   },
   {
    "duration": 5841,
    "start_time": "2021-12-04T06:03:40.918Z"
   },
   {
    "duration": 2065,
    "start_time": "2021-12-04T06:05:25.351Z"
   },
   {
    "duration": 3,
    "start_time": "2021-12-16T21:08:35.368Z"
   },
   {
    "duration": 1509,
    "start_time": "2021-12-16T21:08:35.395Z"
   },
   {
    "duration": 3861,
    "start_time": "2021-12-16T21:08:36.906Z"
   },
   {
    "duration": 4,
    "start_time": "2021-12-16T21:08:40.770Z"
   },
   {
    "duration": 881,
    "start_time": "2021-12-16T21:08:40.776Z"
   },
   {
    "duration": 12,
    "start_time": "2021-12-16T21:08:41.658Z"
   },
   {
    "duration": 15,
    "start_time": "2021-12-16T21:08:41.672Z"
   },
   {
    "duration": 15,
    "start_time": "2021-12-16T21:08:41.688Z"
   },
   {
    "duration": 4,
    "start_time": "2021-12-16T21:08:41.706Z"
   },
   {
    "duration": 55,
    "start_time": "2021-12-16T21:08:41.712Z"
   },
   {
    "duration": 84,
    "start_time": "2021-12-16T21:08:41.769Z"
   },
   {
    "duration": 9,
    "start_time": "2021-12-16T21:08:41.855Z"
   },
   {
    "duration": 28,
    "start_time": "2021-12-16T21:08:41.866Z"
   },
   {
    "duration": 3,
    "start_time": "2021-12-16T21:08:41.896Z"
   },
   {
    "duration": 9,
    "start_time": "2021-12-16T21:08:41.901Z"
   },
   {
    "duration": 24,
    "start_time": "2021-12-16T21:08:41.912Z"
   },
   {
    "duration": 520,
    "start_time": "2021-12-16T21:08:41.938Z"
   },
   {
    "duration": 8,
    "start_time": "2021-12-16T21:08:42.459Z"
   },
   {
    "duration": 6,
    "start_time": "2021-12-16T21:08:42.469Z"
   },
   {
    "duration": 21,
    "start_time": "2021-12-16T21:08:42.492Z"
   },
   {
    "duration": 11,
    "start_time": "2021-12-16T21:08:42.514Z"
   },
   {
    "duration": 133,
    "start_time": "2021-12-16T21:08:42.527Z"
   },
   {
    "duration": 309,
    "start_time": "2021-12-16T21:08:42.662Z"
   },
   {
    "duration": -930,
    "start_time": "2021-12-16T21:08:43.906Z"
   },
   {
    "duration": -933,
    "start_time": "2021-12-16T21:08:43.910Z"
   },
   {
    "duration": -936,
    "start_time": "2021-12-16T21:08:43.914Z"
   },
   {
    "duration": -939,
    "start_time": "2021-12-16T21:08:43.918Z"
   },
   {
    "duration": -942,
    "start_time": "2021-12-16T21:08:43.922Z"
   },
   {
    "duration": -944,
    "start_time": "2021-12-16T21:08:43.925Z"
   },
   {
    "duration": -947,
    "start_time": "2021-12-16T21:08:43.929Z"
   },
   {
    "duration": -951,
    "start_time": "2021-12-16T21:08:43.933Z"
   },
   {
    "duration": -953,
    "start_time": "2021-12-16T21:08:43.936Z"
   },
   {
    "duration": -956,
    "start_time": "2021-12-16T21:08:43.940Z"
   },
   {
    "duration": -959,
    "start_time": "2021-12-16T21:08:43.944Z"
   },
   {
    "duration": -960,
    "start_time": "2021-12-16T21:08:43.947Z"
   },
   {
    "duration": -963,
    "start_time": "2021-12-16T21:08:43.951Z"
   },
   {
    "duration": -966,
    "start_time": "2021-12-16T21:08:43.955Z"
   },
   {
    "duration": -968,
    "start_time": "2021-12-16T21:08:43.958Z"
   },
   {
    "duration": -972,
    "start_time": "2021-12-16T21:08:43.962Z"
   },
   {
    "duration": -975,
    "start_time": "2021-12-16T21:08:43.966Z"
   },
   {
    "duration": -977,
    "start_time": "2021-12-16T21:08:43.969Z"
   },
   {
    "duration": -980,
    "start_time": "2021-12-16T21:08:43.973Z"
   },
   {
    "duration": -983,
    "start_time": "2021-12-16T21:08:43.977Z"
   },
   {
    "duration": -986,
    "start_time": "2021-12-16T21:08:43.981Z"
   },
   {
    "duration": -989,
    "start_time": "2021-12-16T21:08:43.985Z"
   },
   {
    "duration": -992,
    "start_time": "2021-12-16T21:08:43.989Z"
   },
   {
    "duration": -996,
    "start_time": "2021-12-16T21:08:43.994Z"
   },
   {
    "duration": -999,
    "start_time": "2021-12-16T21:08:43.998Z"
   },
   {
    "duration": -1001,
    "start_time": "2021-12-16T21:08:44.001Z"
   },
   {
    "duration": -1004,
    "start_time": "2021-12-16T21:08:44.005Z"
   },
   {
    "duration": -1006,
    "start_time": "2021-12-16T21:08:44.008Z"
   },
   {
    "duration": -1008,
    "start_time": "2021-12-16T21:08:44.011Z"
   },
   {
    "duration": -1011,
    "start_time": "2021-12-16T21:08:44.015Z"
   },
   {
    "duration": -1015,
    "start_time": "2021-12-16T21:08:44.019Z"
   },
   {
    "duration": -1017,
    "start_time": "2021-12-16T21:08:44.022Z"
   },
   {
    "duration": -1020,
    "start_time": "2021-12-16T21:08:44.026Z"
   },
   {
    "duration": -1023,
    "start_time": "2021-12-16T21:08:44.030Z"
   },
   {
    "duration": -1026,
    "start_time": "2021-12-16T21:08:44.034Z"
   },
   {
    "duration": -1027,
    "start_time": "2021-12-16T21:08:44.037Z"
   },
   {
    "duration": -1030,
    "start_time": "2021-12-16T21:08:44.041Z"
   },
   {
    "duration": -1033,
    "start_time": "2021-12-16T21:08:44.045Z"
   },
   {
    "duration": -1036,
    "start_time": "2021-12-16T21:08:44.049Z"
   },
   {
    "duration": -1039,
    "start_time": "2021-12-16T21:08:44.053Z"
   },
   {
    "duration": -1041,
    "start_time": "2021-12-16T21:08:44.056Z"
   },
   {
    "duration": -1044,
    "start_time": "2021-12-16T21:08:44.060Z"
   },
   {
    "duration": -1047,
    "start_time": "2021-12-16T21:08:44.064Z"
   },
   {
    "duration": -1049,
    "start_time": "2021-12-16T21:08:44.067Z"
   },
   {
    "duration": -1052,
    "start_time": "2021-12-16T21:08:44.071Z"
   },
   {
    "duration": -1055,
    "start_time": "2021-12-16T21:08:44.075Z"
   },
   {
    "duration": -1058,
    "start_time": "2021-12-16T21:08:44.079Z"
   },
   {
    "duration": -1060,
    "start_time": "2021-12-16T21:08:44.082Z"
   },
   {
    "duration": -1063,
    "start_time": "2021-12-16T21:08:44.086Z"
   },
   {
    "duration": -1065,
    "start_time": "2021-12-16T21:08:44.089Z"
   },
   {
    "duration": -1068,
    "start_time": "2021-12-16T21:08:44.093Z"
   },
   {
    "duration": -1070,
    "start_time": "2021-12-16T21:08:44.096Z"
   },
   {
    "duration": -1073,
    "start_time": "2021-12-16T21:08:44.100Z"
   },
   {
    "duration": -1075,
    "start_time": "2021-12-16T21:08:44.103Z"
   },
   {
    "duration": -1078,
    "start_time": "2021-12-16T21:08:44.107Z"
   },
   {
    "duration": -1080,
    "start_time": "2021-12-16T21:08:44.110Z"
   },
   {
    "duration": -1024,
    "start_time": "2021-12-16T21:08:44.115Z"
   },
   {
    "duration": -1026,
    "start_time": "2021-12-16T21:08:44.119Z"
   },
   {
    "duration": -1029,
    "start_time": "2021-12-16T21:08:44.123Z"
   },
   {
    "duration": -1032,
    "start_time": "2021-12-16T21:08:44.127Z"
   },
   {
    "duration": -1036,
    "start_time": "2021-12-16T21:08:44.132Z"
   },
   {
    "duration": -1039,
    "start_time": "2021-12-16T21:08:44.136Z"
   },
   {
    "duration": -1042,
    "start_time": "2021-12-16T21:08:44.140Z"
   },
   {
    "duration": -1045,
    "start_time": "2021-12-16T21:08:44.144Z"
   },
   {
    "duration": -1048,
    "start_time": "2021-12-16T21:08:44.148Z"
   },
   {
    "duration": -1051,
    "start_time": "2021-12-16T21:08:44.152Z"
   },
   {
    "duration": -1054,
    "start_time": "2021-12-16T21:08:44.156Z"
   },
   {
    "duration": -1056,
    "start_time": "2021-12-16T21:08:44.159Z"
   },
   {
    "duration": -1058,
    "start_time": "2021-12-16T21:08:44.163Z"
   },
   {
    "duration": -1060,
    "start_time": "2021-12-16T21:08:44.167Z"
   },
   {
    "duration": -1063,
    "start_time": "2021-12-16T21:08:44.171Z"
   },
   {
    "duration": -1064,
    "start_time": "2021-12-16T21:08:44.174Z"
   },
   {
    "duration": -1066,
    "start_time": "2021-12-16T21:08:44.178Z"
   },
   {
    "duration": -1068,
    "start_time": "2021-12-16T21:08:44.181Z"
   },
   {
    "duration": 65,
    "start_time": "2021-12-16T21:15:48.927Z"
   },
   {
    "duration": 4,
    "start_time": "2021-12-16T21:16:24.093Z"
   },
   {
    "duration": 92,
    "start_time": "2021-12-16T21:16:24.396Z"
   },
   {
    "duration": 82,
    "start_time": "2021-12-16T21:16:25.327Z"
   },
   {
    "duration": 8,
    "start_time": "2021-12-16T21:16:27.111Z"
   },
   {
    "duration": 7,
    "start_time": "2021-12-16T21:16:27.812Z"
   },
   {
    "duration": 15,
    "start_time": "2021-12-16T21:16:29.530Z"
   },
   {
    "duration": 7,
    "start_time": "2021-12-16T21:16:29.763Z"
   },
   {
    "duration": 6,
    "start_time": "2021-12-16T21:16:30.430Z"
   },
   {
    "duration": 7,
    "start_time": "2021-12-16T21:16:31.560Z"
   },
   {
    "duration": 37,
    "start_time": "2021-12-16T21:16:31.857Z"
   },
   {
    "duration": 5,
    "start_time": "2021-12-16T21:16:32.184Z"
   },
   {
    "duration": 219,
    "start_time": "2021-12-16T21:16:33.340Z"
   },
   {
    "duration": 65,
    "start_time": "2021-12-16T21:17:01.920Z"
   },
   {
    "duration": 427,
    "start_time": "2021-12-16T21:17:02.886Z"
   },
   {
    "duration": 87,
    "start_time": "2021-12-16T21:17:03.797Z"
   },
   {
    "duration": 673,
    "start_time": "2021-12-16T21:17:04.687Z"
   },
   {
    "duration": 421,
    "start_time": "2021-12-16T21:17:06.334Z"
   },
   {
    "duration": 30,
    "start_time": "2021-12-16T21:17:26.127Z"
   },
   {
    "duration": 13,
    "start_time": "2021-12-16T21:17:26.424Z"
   },
   {
    "duration": 11,
    "start_time": "2021-12-16T21:17:27.368Z"
   },
   {
    "duration": 713,
    "start_time": "2021-12-16T21:17:28.578Z"
   },
   {
    "duration": 14,
    "start_time": "2021-12-16T21:17:30.727Z"
   },
   {
    "duration": 9,
    "start_time": "2021-12-16T21:17:51.019Z"
   },
   {
    "duration": 17,
    "start_time": "2021-12-16T21:18:02.164Z"
   },
   {
    "duration": 15,
    "start_time": "2021-12-16T21:18:02.999Z"
   },
   {
    "duration": 10,
    "start_time": "2021-12-16T21:18:07.070Z"
   },
   {
    "duration": 55,
    "start_time": "2021-12-16T21:18:07.358Z"
   },
   {
    "duration": 40,
    "start_time": "2021-12-16T21:18:07.937Z"
   },
   {
    "duration": 45,
    "start_time": "2021-12-16T21:18:08.500Z"
   },
   {
    "duration": 24,
    "start_time": "2021-12-16T21:18:09.084Z"
   },
   {
    "duration": 678,
    "start_time": "2021-12-16T21:18:09.704Z"
   },
   {
    "duration": 683,
    "start_time": "2021-12-16T21:18:10.976Z"
   },
   {
    "duration": 38,
    "start_time": "2021-12-16T21:18:18.860Z"
   },
   {
    "duration": 75,
    "start_time": "2021-12-16T21:18:19.308Z"
   },
   {
    "duration": 113,
    "start_time": "2021-12-16T21:18:22.353Z"
   },
   {
    "duration": 1687,
    "start_time": "2021-12-16T21:18:23.357Z"
   },
   {
    "duration": 736,
    "start_time": "2021-12-16T21:18:27.379Z"
   },
   {
    "duration": 831,
    "start_time": "2021-12-16T21:18:28.117Z"
   },
   {
    "duration": 399,
    "start_time": "2021-12-16T21:18:31.479Z"
   },
   {
    "duration": 441,
    "start_time": "2021-12-16T21:18:32.174Z"
   },
   {
    "duration": 413,
    "start_time": "2021-12-16T21:18:34.610Z"
   },
   {
    "duration": 421,
    "start_time": "2021-12-16T21:18:35.259Z"
   },
   {
    "duration": 182,
    "start_time": "2021-12-16T21:19:01.857Z"
   },
   {
    "duration": 31,
    "start_time": "2021-12-16T21:19:02.349Z"
   },
   {
    "duration": 11,
    "start_time": "2021-12-16T21:19:50.106Z"
   },
   {
    "duration": 8,
    "start_time": "2021-12-16T21:19:55.888Z"
   },
   {
    "duration": 4,
    "start_time": "2021-12-16T21:21:26.511Z"
   },
   {
    "duration": 38,
    "start_time": "2021-12-16T21:21:56.500Z"
   },
   {
    "duration": 42,
    "start_time": "2021-12-16T21:21:56.836Z"
   },
   {
    "duration": 80,
    "start_time": "2021-12-16T21:22:22.580Z"
   },
   {
    "duration": 15,
    "start_time": "2021-12-16T21:22:36.112Z"
   },
   {
    "duration": 13,
    "start_time": "2021-12-16T21:22:39.796Z"
   },
   {
    "duration": 5,
    "start_time": "2021-12-16T21:22:42.400Z"
   },
   {
    "duration": 374,
    "start_time": "2021-12-16T21:22:45.128Z"
   },
   {
    "duration": 390,
    "start_time": "2021-12-16T21:22:46.850Z"
   },
   {
    "duration": 736,
    "start_time": "2021-12-16T21:22:51.290Z"
   },
   {
    "duration": 407,
    "start_time": "2021-12-16T21:23:53.067Z"
   },
   {
    "duration": 8,
    "start_time": "2021-12-16T21:30:19.594Z"
   },
   {
    "duration": 153,
    "start_time": "2021-12-16T21:30:23.800Z"
   },
   {
    "duration": 32,
    "start_time": "2021-12-16T21:30:26.810Z"
   },
   {
    "duration": 114,
    "start_time": "2021-12-16T21:30:27.109Z"
   },
   {
    "duration": 42,
    "start_time": "2021-12-16T21:30:27.980Z"
   },
   {
    "duration": 27,
    "start_time": "2021-12-16T21:30:28.277Z"
   },
   {
    "duration": 33,
    "start_time": "2021-12-16T21:30:29.065Z"
   },
   {
    "duration": 11,
    "start_time": "2021-12-16T21:30:29.605Z"
   },
   {
    "duration": 6,
    "start_time": "2021-12-16T21:30:29.876Z"
   },
   {
    "duration": 5,
    "start_time": "2021-12-16T21:30:30.384Z"
   },
   {
    "duration": 11,
    "start_time": "2021-12-16T21:30:30.654Z"
   },
   {
    "duration": 18,
    "start_time": "2021-12-16T21:30:31.213Z"
   },
   {
    "duration": 7,
    "start_time": "2021-12-16T21:30:32.563Z"
   },
   {
    "duration": 9,
    "start_time": "2021-12-16T21:30:33.125Z"
   },
   {
    "duration": 137,
    "start_time": "2021-12-16T21:30:33.958Z"
   },
   {
    "duration": 138,
    "start_time": "2021-12-16T21:30:34.821Z"
   },
   {
    "duration": 138,
    "start_time": "2021-12-16T21:30:35.653Z"
   },
   {
    "duration": 247,
    "start_time": "2021-12-16T21:30:36.505Z"
   },
   {
    "duration": 3,
    "start_time": "2022-01-24T06:31:08.831Z"
   },
   {
    "duration": 1216,
    "start_time": "2022-01-24T06:31:08.893Z"
   },
   {
    "duration": 3408,
    "start_time": "2022-01-24T06:31:10.112Z"
   },
   {
    "duration": 3,
    "start_time": "2022-01-24T06:31:13.522Z"
   },
   {
    "duration": 196,
    "start_time": "2022-01-24T06:31:13.527Z"
   },
   {
    "duration": 19,
    "start_time": "2022-01-24T06:31:13.724Z"
   },
   {
    "duration": 7,
    "start_time": "2022-01-24T06:31:13.745Z"
   },
   {
    "duration": 10,
    "start_time": "2022-01-24T06:31:13.754Z"
   },
   {
    "duration": 4,
    "start_time": "2022-01-24T06:31:13.766Z"
   },
   {
    "duration": 7,
    "start_time": "2022-01-24T06:31:13.772Z"
   },
   {
    "duration": 59,
    "start_time": "2022-01-24T06:31:13.780Z"
   },
   {
    "duration": 34,
    "start_time": "2022-01-24T06:31:13.841Z"
   },
   {
    "duration": 52,
    "start_time": "2022-01-24T06:31:13.877Z"
   },
   {
    "duration": 9,
    "start_time": "2022-01-24T06:31:13.931Z"
   },
   {
    "duration": 9,
    "start_time": "2022-01-24T06:31:13.941Z"
   },
   {
    "duration": 9,
    "start_time": "2022-01-24T06:31:13.951Z"
   },
   {
    "duration": 15,
    "start_time": "2022-01-24T06:31:13.962Z"
   },
   {
    "duration": 60,
    "start_time": "2022-01-24T06:31:13.978Z"
   },
   {
    "duration": 7,
    "start_time": "2022-01-24T06:31:14.039Z"
   },
   {
    "duration": 11,
    "start_time": "2022-01-24T06:31:14.047Z"
   },
   {
    "duration": 72,
    "start_time": "2022-01-24T06:31:14.060Z"
   },
   {
    "duration": 34,
    "start_time": "2022-01-24T06:31:14.134Z"
   },
   {
    "duration": 49,
    "start_time": "2022-01-24T06:31:14.170Z"
   },
   {
    "duration": 5,
    "start_time": "2022-01-24T06:31:14.222Z"
   },
   {
    "duration": 5,
    "start_time": "2022-01-24T06:31:14.229Z"
   },
   {
    "duration": 6,
    "start_time": "2022-01-24T06:31:14.235Z"
   },
   {
    "duration": 73,
    "start_time": "2022-01-24T06:31:14.243Z"
   },
   {
    "duration": 42,
    "start_time": "2022-01-24T06:31:14.318Z"
   },
   {
    "duration": 58,
    "start_time": "2022-01-24T06:31:14.361Z"
   },
   {
    "duration": 5,
    "start_time": "2022-01-24T06:31:14.420Z"
   },
   {
    "duration": 555,
    "start_time": "2022-01-24T06:31:14.426Z"
   },
   {
    "duration": 587,
    "start_time": "2022-01-24T06:31:14.983Z"
   },
   {
    "duration": 644,
    "start_time": "2022-01-24T06:31:15.572Z"
   },
   {
    "duration": 14,
    "start_time": "2022-01-24T06:31:16.218Z"
   },
   {
    "duration": 605,
    "start_time": "2022-01-24T06:31:16.233Z"
   },
   {
    "duration": 565,
    "start_time": "2022-01-24T06:31:16.840Z"
   },
   {
    "duration": 672,
    "start_time": "2022-01-24T06:31:17.407Z"
   },
   {
    "duration": 587,
    "start_time": "2022-01-24T06:31:18.080Z"
   },
   {
    "duration": 711,
    "start_time": "2022-01-24T06:31:18.668Z"
   },
   {
    "duration": 3,
    "start_time": "2022-01-24T06:31:19.381Z"
   },
   {
    "duration": 211,
    "start_time": "2022-01-24T06:31:19.385Z"
   },
   {
    "duration": 201,
    "start_time": "2022-01-24T06:31:19.598Z"
   },
   {
    "duration": 212,
    "start_time": "2022-01-24T06:31:19.800Z"
   },
   {
    "duration": 212,
    "start_time": "2022-01-24T06:31:20.013Z"
   },
   {
    "duration": 202,
    "start_time": "2022-01-24T06:31:20.227Z"
   },
   {
    "duration": 213,
    "start_time": "2022-01-24T06:31:20.431Z"
   },
   {
    "duration": 13,
    "start_time": "2022-01-24T06:31:20.645Z"
   },
   {
    "duration": 1330,
    "start_time": "2022-01-24T06:31:20.660Z"
   },
   {
    "duration": 3,
    "start_time": "2022-01-24T06:31:21.992Z"
   },
   {
    "duration": 341,
    "start_time": "2022-01-24T06:31:21.996Z"
   },
   {
    "duration": 4,
    "start_time": "2022-01-24T06:31:22.339Z"
   },
   {
    "duration": 212,
    "start_time": "2022-01-24T06:31:22.345Z"
   },
   {
    "duration": 190,
    "start_time": "2022-01-24T06:31:22.559Z"
   },
   {
    "duration": 231,
    "start_time": "2022-01-24T06:31:22.751Z"
   },
   {
    "duration": 256,
    "start_time": "2022-01-24T06:31:22.984Z"
   },
   {
    "duration": 794,
    "start_time": "2022-01-24T06:31:23.241Z"
   },
   {
    "duration": 206,
    "start_time": "2022-01-24T06:31:24.037Z"
   },
   {
    "duration": 271,
    "start_time": "2022-01-24T06:31:24.245Z"
   },
   {
    "duration": 3,
    "start_time": "2022-01-24T06:53:23.559Z"
   },
   {
    "duration": 1300,
    "start_time": "2022-01-24T06:53:23.881Z"
   },
   {
    "duration": 5631,
    "start_time": "2022-01-24T06:53:25.183Z"
   },
   {
    "duration": 5,
    "start_time": "2022-01-24T06:53:30.818Z"
   },
   {
    "duration": 192,
    "start_time": "2022-01-24T06:53:30.826Z"
   },
   {
    "duration": 14,
    "start_time": "2022-01-24T06:53:31.020Z"
   },
   {
    "duration": 11,
    "start_time": "2022-01-24T06:53:31.036Z"
   },
   {
    "duration": 14,
    "start_time": "2022-01-24T06:53:31.048Z"
   },
   {
    "duration": 11,
    "start_time": "2022-01-24T06:53:31.065Z"
   },
   {
    "duration": 9,
    "start_time": "2022-01-24T06:53:31.079Z"
   },
   {
    "duration": 65,
    "start_time": "2022-01-24T06:53:31.090Z"
   },
   {
    "duration": 34,
    "start_time": "2022-01-24T06:53:31.156Z"
   },
   {
    "duration": 65,
    "start_time": "2022-01-24T06:53:31.191Z"
   },
   {
    "duration": 9,
    "start_time": "2022-01-24T06:53:31.258Z"
   },
   {
    "duration": 12,
    "start_time": "2022-01-24T06:53:31.268Z"
   },
   {
    "duration": 14,
    "start_time": "2022-01-24T06:53:31.282Z"
   },
   {
    "duration": 32,
    "start_time": "2022-01-24T06:53:31.298Z"
   },
   {
    "duration": 45,
    "start_time": "2022-01-24T06:53:31.333Z"
   },
   {
    "duration": 40,
    "start_time": "2022-01-24T06:53:31.380Z"
   },
   {
    "duration": 22,
    "start_time": "2022-01-24T06:53:31.423Z"
   },
   {
    "duration": 41,
    "start_time": "2022-01-24T06:53:31.447Z"
   },
   {
    "duration": 53,
    "start_time": "2022-01-24T06:53:31.514Z"
   },
   {
    "duration": 58,
    "start_time": "2022-01-24T06:53:31.569Z"
   },
   {
    "duration": 6,
    "start_time": "2022-01-24T06:53:31.635Z"
   },
   {
    "duration": 6,
    "start_time": "2022-01-24T06:53:31.644Z"
   },
   {
    "duration": 8,
    "start_time": "2022-01-24T06:53:31.652Z"
   },
   {
    "duration": 89,
    "start_time": "2022-01-24T06:53:31.661Z"
   },
   {
    "duration": 43,
    "start_time": "2022-01-24T06:53:31.752Z"
   },
   {
    "duration": 52,
    "start_time": "2022-01-24T06:53:31.813Z"
   },
   {
    "duration": 5,
    "start_time": "2022-01-24T06:53:31.867Z"
   },
   {
    "duration": 623,
    "start_time": "2022-01-24T06:53:31.873Z"
   },
   {
    "duration": 580,
    "start_time": "2022-01-24T06:53:32.498Z"
   },
   {
    "duration": 626,
    "start_time": "2022-01-24T06:53:33.080Z"
   },
   {
    "duration": 18,
    "start_time": "2022-01-24T06:53:33.708Z"
   },
   {
    "duration": 632,
    "start_time": "2022-01-24T06:53:33.728Z"
   },
   {
    "duration": 550,
    "start_time": "2022-01-24T06:53:34.362Z"
   },
   {
    "duration": 656,
    "start_time": "2022-01-24T06:53:34.914Z"
   },
   {
    "duration": 654,
    "start_time": "2022-01-24T06:53:35.572Z"
   },
   {
    "duration": 676,
    "start_time": "2022-01-24T06:53:36.229Z"
   },
   {
    "duration": 6,
    "start_time": "2022-01-24T06:53:36.907Z"
   },
   {
    "duration": 223,
    "start_time": "2022-01-24T06:53:36.915Z"
   },
   {
    "duration": 214,
    "start_time": "2022-01-24T06:53:37.139Z"
   },
   {
    "duration": 225,
    "start_time": "2022-01-24T06:53:37.354Z"
   },
   {
    "duration": 218,
    "start_time": "2022-01-24T06:53:37.581Z"
   },
   {
    "duration": 225,
    "start_time": "2022-01-24T06:53:37.800Z"
   },
   {
    "duration": 234,
    "start_time": "2022-01-24T06:53:38.028Z"
   },
   {
    "duration": 12,
    "start_time": "2022-01-24T06:53:38.264Z"
   },
   {
    "duration": 1459,
    "start_time": "2022-01-24T06:53:38.277Z"
   },
   {
    "duration": 4,
    "start_time": "2022-01-24T06:53:39.737Z"
   },
   {
    "duration": 309,
    "start_time": "2022-01-24T06:53:39.742Z"
   },
   {
    "duration": 3,
    "start_time": "2022-01-24T06:53:40.052Z"
   },
   {
    "duration": 218,
    "start_time": "2022-01-24T06:53:40.057Z"
   },
   {
    "duration": 268,
    "start_time": "2022-01-24T06:53:40.277Z"
   },
   {
    "duration": 218,
    "start_time": "2022-01-24T06:53:40.547Z"
   },
   {
    "duration": 189,
    "start_time": "2022-01-24T06:53:40.767Z"
   },
   {
    "duration": 840,
    "start_time": "2022-01-24T06:53:40.957Z"
   },
   {
    "duration": 241,
    "start_time": "2022-01-24T06:53:41.799Z"
   },
   {
    "duration": 257,
    "start_time": "2022-01-24T06:53:42.042Z"
   },
   {
    "duration": 88389,
    "start_time": "2022-01-24T06:53:42.300Z"
   },
   {
    "duration": 1627,
    "start_time": "2022-01-24T06:55:10.691Z"
   },
   {
    "duration": 18,
    "start_time": "2022-01-24T06:55:12.321Z"
   },
   {
    "duration": 11,
    "start_time": "2022-01-24T06:55:12.341Z"
   },
   {
    "duration": 5,
    "start_time": "2022-01-24T06:55:12.353Z"
   },
   {
    "duration": 634,
    "start_time": "2022-01-24T06:55:12.360Z"
   },
   {
    "duration": 539,
    "start_time": "2022-01-24T06:55:12.995Z"
   },
   {
    "duration": 579,
    "start_time": "2022-01-24T06:55:13.536Z"
   },
   {
    "duration": 901,
    "start_time": "2022-01-24T06:55:14.118Z"
   },
   {
    "duration": 581,
    "start_time": "2022-01-24T06:55:15.022Z"
   },
   {
    "duration": 562,
    "start_time": "2022-01-24T06:55:15.607Z"
   },
   {
    "duration": 573,
    "start_time": "2022-01-24T06:55:16.170Z"
   },
   {
    "duration": 4,
    "start_time": "2022-01-24T06:55:16.745Z"
   },
   {
    "duration": 240,
    "start_time": "2022-01-24T06:55:16.750Z"
   },
   {
    "duration": 251,
    "start_time": "2022-01-24T06:55:16.992Z"
   },
   {
    "duration": 333,
    "start_time": "2022-01-24T06:55:17.245Z"
   },
   {
    "duration": 247,
    "start_time": "2022-01-24T06:55:17.579Z"
   },
   {
    "duration": 248,
    "start_time": "2022-01-24T06:55:17.828Z"
   },
   {
    "duration": 247,
    "start_time": "2022-01-24T06:55:18.077Z"
   },
   {
    "duration": 254,
    "start_time": "2022-01-24T06:55:18.327Z"
   },
   {
    "duration": 619,
    "start_time": "2022-02-19T09:45:04.953Z"
   },
   {
    "duration": 16478,
    "start_time": "2022-02-19T09:45:05.574Z"
   },
   {
    "duration": 3,
    "start_time": "2022-02-19T09:45:22.054Z"
   },
   {
    "duration": 454,
    "start_time": "2022-02-19T09:45:22.059Z"
   },
   {
    "duration": 116,
    "start_time": "2022-02-19T09:45:22.514Z"
   },
   {
    "duration": 186,
    "start_time": "2022-02-19T09:45:22.632Z"
   },
   {
    "duration": 85,
    "start_time": "2022-02-19T09:45:22.820Z"
   },
   {
    "duration": 14,
    "start_time": "2022-02-19T09:45:22.906Z"
   },
   {
    "duration": 10,
    "start_time": "2022-02-19T09:45:22.922Z"
   },
   {
    "duration": 217,
    "start_time": "2022-02-19T09:45:22.934Z"
   },
   {
    "duration": 38,
    "start_time": "2022-02-19T09:45:23.153Z"
   },
   {
    "duration": 26,
    "start_time": "2022-02-19T09:45:23.192Z"
   },
   {
    "duration": 16,
    "start_time": "2022-02-19T09:45:23.219Z"
   },
   {
    "duration": 11,
    "start_time": "2022-02-19T09:45:23.237Z"
   },
   {
    "duration": 30,
    "start_time": "2022-02-19T09:45:23.249Z"
   },
   {
    "duration": 15,
    "start_time": "2022-02-19T09:45:23.280Z"
   },
   {
    "duration": 15,
    "start_time": "2022-02-19T09:45:23.297Z"
   },
   {
    "duration": 19,
    "start_time": "2022-02-19T09:45:23.313Z"
   },
   {
    "duration": 82,
    "start_time": "2022-02-20T07:37:39.251Z"
   }
  ],
  "kernelspec": {
   "display_name": "Python 3",
   "language": "python",
   "name": "python3"
  },
  "language_info": {
   "codemirror_mode": {
    "name": "ipython",
    "version": 3
   },
   "file_extension": ".py",
   "mimetype": "text/x-python",
   "name": "python",
   "nbconvert_exporter": "python",
   "pygments_lexer": "ipython3",
   "version": "3.8.8"
  },
  "toc": {
   "base_numbering": 1,
   "nav_menu": {},
   "number_sections": true,
   "sideBar": true,
   "skip_h1_title": true,
   "title_cell": "Содержание",
   "title_sidebar": "Contents",
   "toc_cell": true,
   "toc_position": {},
   "toc_section_display": true,
   "toc_window_display": false
  }
 },
 "nbformat": 4,
 "nbformat_minor": 2
}
