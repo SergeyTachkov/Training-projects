{
 "cells": [
  {
   "cell_type": "markdown",
   "metadata": {},
   "source": [
    "**Аналитика в авиакомпании.** <br>\n",
    "\n"
   ]
  },
  {
   "cell_type": "markdown",
   "metadata": {},
   "source": [
    "**Описание проекта**<br/>\n",
    "Необходимо на основании данных, в которых содержится информация о:<br/>\n",
    "model — модели самолета<br/>\n",
    "flights_amount — количество рейсов для каждой модели самолетов model в сентябре 2018 года<br/>\n",
    "\n",
    "И данных, в которых  содержится информация о:<br/>\n",
    "city — городах<br/>\n",
    "average_flights — среднем количестве рейсов, прибывающих в город city за день в августе 2018 года<br/>\n",
    "Сделать следующие работы:<br/>\n",
    "выбрать топ-10 городов по количеству рейсов;<br/>\n",
    "построить графики: модели самолетов и количество рейсов, города и количество рейсов, топ-10 городов и количество рейсов;<br/>\n",
    "сделать выводы по каждому из графиков, пояснить результат.<br/>\n",
    "\n",
    "Описание данных<br/>\n",
    "База данных об авиаперевозках:<br/>\n",
    "Таблица airports — информация об аэропортах:<br/>\n",
    "airport_code — трёхбуквенный код аэропорта<br/>\n",
    "airport_name — название аэропорта<br/>\n",
    "city — город<br/>\n",
    "timezone — временная зона<br/>\n",
    "Таблица aircrafts — информация о самолётах:<br/>\n",
    "aircraft_code — код модели самолёта<br/>\n",
    "model — модель самолёта<br/>\n",
    "range — количество самолётов<br/>\n",
    "Таблица tickets — информация о билетах:<br/>\n",
    "ticket_no — уникальный номер билета<br/>\n",
    "passenger_id — персональный идентификатор пассажира<br/>\n",
    "passenger_name — имя и фамилия пассажира<br/>\n",
    "Таблица flights — информация о рейсах:<br/>\n",
    "flight_id — уникальный идентификатор рейса<br/>\n",
    "departure_airport — аэропорт вылета<br/>\n",
    "departure_time — дата и время вылета<br/>\n",
    "arrival_airport — аэропорт прилёта<br/>\n",
    "arrival_time — дата и время прилёта<br/>\n",
    "aircraft_code – id самолёта<br/>\n",
    "Таблица ticket_flights — стыковая таблица «рейсы-билеты»<br/>\n",
    "ticket_no — номер билета<br/>\n",
    "flight_id — идентификатор рейса<br/>\n",
    "Таблица festivals — информация о фестивалях<br/>\n",
    "festival_id — уникальный номер фестиваля<br/>\n",
    "festival_date — дата проведения фестиваля<br/>\n",
    "festival_city — город проведения фестиваля<br/>\n",
    "festival_name — название фестиваля"
   ]
  },
  {
   "cell_type": "markdown",
   "metadata": {},
   "source": [
    "<a name=\"contents\"></a><br/>\n",
    "<a name=\"chapter_0\"></a>    \n",
    "**Содержание**<br/>\n",
    "[**1. Изучение данных из представленного файла данных**](#chapter_1.)<br/>\n",
    "[1.1. Выставление окружения и импорт библиотек.](#chapter_1.1.)<br/> \n",
    "[1.2. Импортируем основной файл данных локально и применяем кострукцию except для тренажера.](#chapter_1.2.)<br/>\n",
    "[1.3. Описание данных, начальное.](#chapter_1.3.)<br/>\n",
    "[1.4. Краткие выводы по структуре датасета.](#chapter_1.4.)<br/>\n",
    "\n",
    "[**2. Изучение данных конкретных столбцов и предобработка данных**](#chapter_2.)<br/>\n",
    "[2.1. Таблица query_3_data.](#chapter_2.1.)<br/>\n",
    "\n",
    "    \n",
    "[**3. Исследовательский анализ данных.**](#chapter_3.)    \n",
    "[3.1. Исследование данных по самолетам.](#chapter_3.1.)<br/>\n",
    "[3.2. Исследование городов по количеству рейсов.](#chapter_3.2.)<br/> \n",
    "\n",
    "[**4. Выводы**](#chapter_4.) "
   ]
  },
  {
   "cell_type": "markdown",
   "metadata": {},
   "source": [
    "<a name=\"chapter_1.\"></a>\n",
    "[к содержанию](#chapter_0)<br/>\n",
    "<div class=\"p-3 mb-2 bg-primary text-white\">\n",
    "<b>1. Изучение данных из представленного файла данных.</b> <br/>\n",
    "</div>"
   ]
  },
  {
   "cell_type": "markdown",
   "metadata": {},
   "source": [
    "\n",
    "<a name=\"chapter_1.1.\"></a>\n",
    "[к содержанию](#chapter_0)<br/>\n",
    "<div class=\"p-3 mb-2 bg-primary text-white\">\n",
    "<b>1.1. Выставление окружения и импорт библиотек.</b> <br/>\n",
    "</div>"
   ]
  },
  {
   "cell_type": "markdown",
   "metadata": {},
   "source": [
    "1.1.1. Вначале посмотрим окружение тренажера Яндекс.Практикума с помощью команды ` !conda list -e ` и получаем такой результат по необходимым нам библиотекам:"
   ]
  },
  {
   "cell_type": "raw",
   "metadata": {},
   "source": [
    "matplotlib=3.1.0=pypi_0\n",
    "\n",
    "matplotlib-inline=0.1.2=pyhd8ed1ab_2\n",
    "\n",
    "pandas=0.25.1=pypi_0\n",
    "\n",
    "numpy=1.19.5=pypi_0\n",
    "\n",
    "scipy=1.4.1=pypi_0\n",
    "\n",
    "\n"
   ]
  },
  {
   "cell_type": "markdown",
   "metadata": {},
   "source": [
    "1.1.2. Смотрим окружение на своей локальной машине:"
   ]
  },
  {
   "cell_type": "code",
   "execution_count": 1,
   "metadata": {},
   "outputs": [],
   "source": [
    "#!conda list -e"
   ]
  },
  {
   "cell_type": "raw",
   "metadata": {},
   "source": [
    "matplotlib=3.3.4=py38haa95532_0\n",
    "\n",
    "matplotlib-base=3.3.4=py38h49ac443_0\n",
    "\n",
    "pandas=1.2.4=pypi_0\n",
    "\n",
    "scipy=1.6.2=py38h66253e8_1\n",
    "\n",
    "numpy=1.20.1=py38h34a8a5c_0\n",
    "\n",
    "numpy-base=1.20.1=py38haf7ebc8_0\n",
    "\n",
    "matplotlib=3.3.4=py38haa95532_0\n",
    "\n",
    "matplotlib-base=3.3.4=py38h49ac443_0\n",
    "\n",
    "Понятно, что на локальной машине версии новее, но тонкости мне пока еще так и не совсем понятны ))"
   ]
  },
  {
   "cell_type": "markdown",
   "metadata": {},
   "source": [
    "1.1.3. Делаем импорт библиотек, используемых в курсе, и сделаем запрос на обновление основной библиотеки."
   ]
  },
  {
   "cell_type": "code",
   "execution_count": 2,
   "metadata": {},
   "outputs": [],
   "source": [
    "import pandas as pd\n",
    "import matplotlib.pyplot as plt\n",
    "import random\n",
    "\n",
    "import numpy as np\n",
    "\n",
    "import math as mt\n",
    "from math import factorial\n",
    "\n",
    "import scipy.stats\n",
    "from scipy.stats import norm\n",
    "from scipy import stats as st\n",
    "\n",
    "import seaborn as sns                 # подождем пока, лучше позже, потому как при меняется вид обычных гистограмм\n",
    "sns.set(color_codes=True)\n",
    "\n",
    "import copy #импорт библиотеки по копированию Источник: https://pythononline.ru/osnovy/modul-copy-python\n",
    "\n",
    "import requests  # Импорт библиотеки для запросов к серверу\n",
    "from bs4 import BeautifulSoup  # Импорт библиотеки для автоматического парсинга странички\n",
    "\n",
    "import re\n",
    "\n",
    "#import warnings                       # предупреждения пока будем оставлять\n",
    "#warnings.filterwarnings(\"ignore\")\n",
    "\n"
   ]
  },
  {
   "cell_type": "code",
   "execution_count": 3,
   "metadata": {},
   "outputs": [
    {
     "name": "stdout",
     "output_type": "stream",
     "text": [
      "# packages in environment at C:\\Users\\Lusi\\anaconda3:\n",
      "#\n",
      "# Name                    Version                   Build  Channel\n",
      "pandas                    1.3.3                    pypi_0    pypi\n"
     ]
    }
   ],
   "source": [
    "#!pip install pandas -U\n",
    "\n",
    "#!conda list pandas\n",
    "#!pip install pandas==1.2.4 # инсталлировал версию 1.2.4 С версией 1.3.3 - не совсем правильно рисовалась легенда графиков\n",
    "!conda list pandas"
   ]
  },
  {
   "cell_type": "markdown",
   "metadata": {},
   "source": [
    "1.1.4. Корректируем вывод табличных данных с помощью функции set_option() в Pandas"
   ]
  },
  {
   "cell_type": "code",
   "execution_count": 4,
   "metadata": {},
   "outputs": [],
   "source": [
    "#pd.set_option('max_rows', 5) # поставим ограничение на вывод 5 строк https://habr.com/ru/post/521894/\n",
    "pd.set_option('display.max_columns', None) # снимаем ограничение на отображение колонок\n",
    "pd.set_option('display.float_format', '{:.2f}'.format) # ставим ограничение на количество выводимых знаков у float "
   ]
  },
  {
   "cell_type": "markdown",
   "metadata": {},
   "source": [
    "\n",
    "<a name=\"chapter_1.2.\"></a>\n",
    "[к содержанию](#chapter_0)<br/>\n",
    "<div class=\"p-3 mb-2 bg-primary text-white\">\n",
    "<b>1.2. Импортируем основной файл данных локально и применяем кострукцию except для тренажера.</b> <br/>\n",
    "</div>"
   ]
  },
  {
   "cell_type": "code",
   "execution_count": 5,
   "metadata": {},
   "outputs": [],
   "source": [
    "try:\n",
    "    query_1_data = pd.read_csv('C:/1_Webartel/2021/pithon_work/datasets/query_1.csv') # разделители у нас запятые, можно не применять sep='\\t'\n",
    "except FileNotFoundError as e:                                      \n",
    "    query_1_data = pd.read_csv('/datasets/query_1.csv')\n",
    "    \n",
    "try:\n",
    "    query_3_data = pd.read_csv('C:/1_Webartel/2021/pithon_work/datasets/query_3.csv') # разделители у нас запятые, можно не применять sep='\\t'\n",
    "except FileNotFoundError as e:                                      \n",
    "    query_3_data = pd.read_csv('/datasets/query_3.csv')\n",
    "\n"
   ]
  },
  {
   "cell_type": "markdown",
   "metadata": {},
   "source": [
    "1.2.1.Отсмотрим последовательно эти датасеты"
   ]
  },
  {
   "cell_type": "code",
   "execution_count": 6,
   "metadata": {},
   "outputs": [
    {
     "data": {
      "text/html": [
       "<div>\n",
       "<style scoped>\n",
       "    .dataframe tbody tr th:only-of-type {\n",
       "        vertical-align: middle;\n",
       "    }\n",
       "\n",
       "    .dataframe tbody tr th {\n",
       "        vertical-align: top;\n",
       "    }\n",
       "\n",
       "    .dataframe thead th {\n",
       "        text-align: right;\n",
       "    }\n",
       "</style>\n",
       "<table border=\"1\" class=\"dataframe\">\n",
       "  <thead>\n",
       "    <tr style=\"text-align: right;\">\n",
       "      <th></th>\n",
       "      <th>model</th>\n",
       "      <th>flights_amount</th>\n",
       "    </tr>\n",
       "  </thead>\n",
       "  <tbody>\n",
       "    <tr>\n",
       "      <th>0</th>\n",
       "      <td>Airbus A319-100</td>\n",
       "      <td>607</td>\n",
       "    </tr>\n",
       "    <tr>\n",
       "      <th>1</th>\n",
       "      <td>Airbus A321-200</td>\n",
       "      <td>960</td>\n",
       "    </tr>\n",
       "    <tr>\n",
       "      <th>2</th>\n",
       "      <td>Boeing 737-300</td>\n",
       "      <td>630</td>\n",
       "    </tr>\n",
       "    <tr>\n",
       "      <th>3</th>\n",
       "      <td>Boeing 767-300</td>\n",
       "      <td>600</td>\n",
       "    </tr>\n",
       "    <tr>\n",
       "      <th>4</th>\n",
       "      <td>Boeing 777-300</td>\n",
       "      <td>300</td>\n",
       "    </tr>\n",
       "  </tbody>\n",
       "</table>\n",
       "</div>"
      ],
      "text/plain": [
       "             model  flights_amount\n",
       "0  Airbus A319-100             607\n",
       "1  Airbus A321-200             960\n",
       "2   Boeing 737-300             630\n",
       "3   Boeing 767-300             600\n",
       "4   Boeing 777-300             300"
      ]
     },
     "execution_count": 6,
     "metadata": {},
     "output_type": "execute_result"
    }
   ],
   "source": [
    "query_1_data.head(5)"
   ]
  },
  {
   "cell_type": "code",
   "execution_count": 7,
   "metadata": {},
   "outputs": [
    {
     "data": {
      "text/html": [
       "<div>\n",
       "<style scoped>\n",
       "    .dataframe tbody tr th:only-of-type {\n",
       "        vertical-align: middle;\n",
       "    }\n",
       "\n",
       "    .dataframe tbody tr th {\n",
       "        vertical-align: top;\n",
       "    }\n",
       "\n",
       "    .dataframe thead th {\n",
       "        text-align: right;\n",
       "    }\n",
       "</style>\n",
       "<table border=\"1\" class=\"dataframe\">\n",
       "  <thead>\n",
       "    <tr style=\"text-align: right;\">\n",
       "      <th></th>\n",
       "      <th>city</th>\n",
       "      <th>average_flights</th>\n",
       "    </tr>\n",
       "  </thead>\n",
       "  <tbody>\n",
       "    <tr>\n",
       "      <th>0</th>\n",
       "      <td>Абакан</td>\n",
       "      <td>3.87</td>\n",
       "    </tr>\n",
       "    <tr>\n",
       "      <th>1</th>\n",
       "      <td>Анадырь</td>\n",
       "      <td>1.00</td>\n",
       "    </tr>\n",
       "    <tr>\n",
       "      <th>2</th>\n",
       "      <td>Анапа</td>\n",
       "      <td>2.16</td>\n",
       "    </tr>\n",
       "    <tr>\n",
       "      <th>3</th>\n",
       "      <td>Архангельск</td>\n",
       "      <td>5.35</td>\n",
       "    </tr>\n",
       "    <tr>\n",
       "      <th>4</th>\n",
       "      <td>Астрахань</td>\n",
       "      <td>2.45</td>\n",
       "    </tr>\n",
       "  </tbody>\n",
       "</table>\n",
       "</div>"
      ],
      "text/plain": [
       "          city  average_flights\n",
       "0       Абакан             3.87\n",
       "1      Анадырь             1.00\n",
       "2        Анапа             2.16\n",
       "3  Архангельск             5.35\n",
       "4    Астрахань             2.45"
      ]
     },
     "execution_count": 7,
     "metadata": {},
     "output_type": "execute_result"
    }
   ],
   "source": [
    "query_3_data.head(5)"
   ]
  },
  {
   "cell_type": "code",
   "execution_count": 8,
   "metadata": {},
   "outputs": [
    {
     "name": "stdout",
     "output_type": "stream",
     "text": [
      "<class 'pandas.core.frame.DataFrame'>\n",
      "RangeIndex: 8 entries, 0 to 7\n",
      "Data columns (total 2 columns):\n",
      " #   Column          Non-Null Count  Dtype \n",
      "---  ------          --------------  ----- \n",
      " 0   model           8 non-null      object\n",
      " 1   flights_amount  8 non-null      int64 \n",
      "dtypes: int64(1), object(1)\n",
      "memory usage: 256.0+ bytes\n",
      "None\n",
      "\n",
      "<class 'pandas.core.frame.DataFrame'>\n",
      "RangeIndex: 101 entries, 0 to 100\n",
      "Data columns (total 2 columns):\n",
      " #   Column           Non-Null Count  Dtype  \n",
      "---  ------           --------------  -----  \n",
      " 0   city             101 non-null    object \n",
      " 1   average_flights  101 non-null    float64\n",
      "dtypes: float64(1), object(1)\n",
      "memory usage: 1.7+ KB\n",
      "None\n",
      "\n"
     ]
    }
   ],
   "source": [
    "for data in [query_1_data, query_3_data]: print(data.info(), end='\\n\\n')"
   ]
  },
  {
   "cell_type": "code",
   "execution_count": 9,
   "metadata": {},
   "outputs": [
    {
     "data": {
      "text/plain": [
       "model             0\n",
       "flights_amount    0\n",
       "dtype: int64"
      ]
     },
     "metadata": {},
     "output_type": "display_data"
    },
    {
     "data": {
      "text/plain": [
       "city               0\n",
       "average_flights    0\n",
       "dtype: int64"
      ]
     },
     "metadata": {},
     "output_type": "display_data"
    }
   ],
   "source": [
    "for data in [query_1_data, query_3_data]: \n",
    "    missing_values = data.isnull().sum()\n",
    "    display(missing_values)\n"
   ]
  },
  {
   "cell_type": "code",
   "execution_count": 10,
   "metadata": {},
   "outputs": [
    {
     "data": {
      "text/html": [
       "<div>\n",
       "<style scoped>\n",
       "    .dataframe tbody tr th:only-of-type {\n",
       "        vertical-align: middle;\n",
       "    }\n",
       "\n",
       "    .dataframe tbody tr th {\n",
       "        vertical-align: top;\n",
       "    }\n",
       "\n",
       "    .dataframe thead th {\n",
       "        text-align: right;\n",
       "    }\n",
       "</style>\n",
       "<table border=\"1\" class=\"dataframe\">\n",
       "  <thead>\n",
       "    <tr style=\"text-align: right;\">\n",
       "      <th></th>\n",
       "      <th>count</th>\n",
       "      <th>unique</th>\n",
       "      <th>top</th>\n",
       "      <th>freq</th>\n",
       "      <th>mean</th>\n",
       "      <th>std</th>\n",
       "      <th>min</th>\n",
       "      <th>25%</th>\n",
       "      <th>50%</th>\n",
       "      <th>75%</th>\n",
       "      <th>max</th>\n",
       "    </tr>\n",
       "  </thead>\n",
       "  <tbody>\n",
       "    <tr>\n",
       "      <th>model</th>\n",
       "      <td>8</td>\n",
       "      <td>8</td>\n",
       "      <td>Airbus A319-100</td>\n",
       "      <td>1</td>\n",
       "      <td>NaN</td>\n",
       "      <td>NaN</td>\n",
       "      <td>NaN</td>\n",
       "      <td>NaN</td>\n",
       "      <td>NaN</td>\n",
       "      <td>NaN</td>\n",
       "      <td>NaN</td>\n",
       "    </tr>\n",
       "    <tr>\n",
       "      <th>flights_amount</th>\n",
       "      <td>8.00</td>\n",
       "      <td>NaN</td>\n",
       "      <td>NaN</td>\n",
       "      <td>NaN</td>\n",
       "      <td>2035.62</td>\n",
       "      <td>1965.20</td>\n",
       "      <td>300.00</td>\n",
       "      <td>605.25</td>\n",
       "      <td>795.00</td>\n",
       "      <td>4250.25</td>\n",
       "      <td>4557.00</td>\n",
       "    </tr>\n",
       "  </tbody>\n",
       "</table>\n",
       "</div>"
      ],
      "text/plain": [
       "               count unique              top freq    mean     std    min  \\\n",
       "model              8      8  Airbus A319-100    1     NaN     NaN    NaN   \n",
       "flights_amount  8.00    NaN              NaN  NaN 2035.62 1965.20 300.00   \n",
       "\n",
       "                  25%    50%     75%     max  \n",
       "model             NaN    NaN     NaN     NaN  \n",
       "flights_amount 605.25 795.00 4250.25 4557.00  "
      ]
     },
     "metadata": {},
     "output_type": "display_data"
    },
    {
     "data": {
      "text/html": [
       "<div>\n",
       "<style scoped>\n",
       "    .dataframe tbody tr th:only-of-type {\n",
       "        vertical-align: middle;\n",
       "    }\n",
       "\n",
       "    .dataframe tbody tr th {\n",
       "        vertical-align: top;\n",
       "    }\n",
       "\n",
       "    .dataframe thead th {\n",
       "        text-align: right;\n",
       "    }\n",
       "</style>\n",
       "<table border=\"1\" class=\"dataframe\">\n",
       "  <thead>\n",
       "    <tr style=\"text-align: right;\">\n",
       "      <th></th>\n",
       "      <th>count</th>\n",
       "      <th>unique</th>\n",
       "      <th>top</th>\n",
       "      <th>freq</th>\n",
       "      <th>mean</th>\n",
       "      <th>std</th>\n",
       "      <th>min</th>\n",
       "      <th>25%</th>\n",
       "      <th>50%</th>\n",
       "      <th>75%</th>\n",
       "      <th>max</th>\n",
       "    </tr>\n",
       "  </thead>\n",
       "  <tbody>\n",
       "    <tr>\n",
       "      <th>city</th>\n",
       "      <td>101</td>\n",
       "      <td>101</td>\n",
       "      <td>Абакан</td>\n",
       "      <td>1</td>\n",
       "      <td>NaN</td>\n",
       "      <td>NaN</td>\n",
       "      <td>NaN</td>\n",
       "      <td>NaN</td>\n",
       "      <td>NaN</td>\n",
       "      <td>NaN</td>\n",
       "      <td>NaN</td>\n",
       "    </tr>\n",
       "    <tr>\n",
       "      <th>average_flights</th>\n",
       "      <td>101.00</td>\n",
       "      <td>NaN</td>\n",
       "      <td>NaN</td>\n",
       "      <td>NaN</td>\n",
       "      <td>5.49</td>\n",
       "      <td>13.12</td>\n",
       "      <td>1.00</td>\n",
       "      <td>2.00</td>\n",
       "      <td>3.00</td>\n",
       "      <td>5.87</td>\n",
       "      <td>129.77</td>\n",
       "    </tr>\n",
       "  </tbody>\n",
       "</table>\n",
       "</div>"
      ],
      "text/plain": [
       "                 count unique     top freq mean   std  min  25%  50%  75%  \\\n",
       "city               101    101  Абакан    1  NaN   NaN  NaN  NaN  NaN  NaN   \n",
       "average_flights 101.00    NaN     NaN  NaN 5.49 13.12 1.00 2.00 3.00 5.87   \n",
       "\n",
       "                   max  \n",
       "city               NaN  \n",
       "average_flights 129.77  "
      ]
     },
     "metadata": {},
     "output_type": "display_data"
    }
   ],
   "source": [
    "for data in [query_1_data, query_3_data]: \n",
    "    display(data.describe(include='all').T)"
   ]
  },
  {
   "cell_type": "markdown",
   "metadata": {},
   "source": [
    " <a name=\"chapter_1.3.\"></a>\n",
    "[к содержанию](#chapter_0)<br/>\n",
    "<div class=\"p-3 mb-2 bg-primary text-white\">\n",
    "<b>1.3. Описание данных, начальное.</b> <br/>\n",
    "</div>"
   ]
  },
  {
   "cell_type": "markdown",
   "metadata": {},
   "source": [
    "/datasets/query_1.csv — результат первого запроса. В нём содержится информация о:\n",
    "model — модели самолета <br/>\n",
    "flights_amount — количество рейсов для каждой модели самолетов model в сентябре 2018 года<br/><br/>\n",
    "\n",
    "/datasets/query_3.csv — результат третьего запроса. В нём содержится информация о:<br/>\n",
    "city — городах<br/>\n",
    "average_flights — среднем количестве рейсов, прибывающих в город city за день в августе 2018 года"
   ]
  },
  {
   "cell_type": "markdown",
   "metadata": {},
   "source": [
    "<a name=\"chapter_1.4.\"></a>\n",
    "[к содержанию](#chapter_0)<br/>\n",
    "<div class=\"p-3 mb-2 bg-primary text-white\">\n",
    "<b>1.4. Краткие выводы по структуре​ датасета.</b> <br/>\n",
    "</div>\n",
    "\n",
    "- Пропусков нет, данные массивов вполне корректные.<br/>\n",
    "\n",
    "- Типы данных тоже вполне нормальные object, int64 и float64. На такого размера таблицах нет смысла за уменьшение объема памяти.\n",
    "   "
   ]
  },
  {
   "cell_type": "markdown",
   "metadata": {},
   "source": [
    "<a name=\"chapter_2.\"></a>\n",
    "[к содержанию](#chapter_0)<br/>\n",
    "<div class=\"p-3 mb-2 bg-primary text-white\">\n",
    "<b>2. Изучение данных конкретных столбцов и предобработка данных.</b> <br/>\n",
    "</div>"
   ]
  },
  {
   "cell_type": "markdown",
   "metadata": {},
   "source": [
    "<a name=\"chapter_2.1.\"></a>\n",
    "[к содержанию](#chapter_0)<br/>\n",
    "<div class=\"p-3 mb-2 bg-primary text-white\">\n",
    "<b>2.1. Таблица query_3_data.</b> <br/>\n",
    "</div>"
   ]
  },
  {
   "cell_type": "markdown",
   "metadata": {},
   "source": [
    "Дополнительное изучение тоже ни к чему особому не привело, существующие данные особо менять не надо. Но давайте переведем названия городов в строчные символы и обработаем на случай лишних пробелов. "
   ]
  },
  {
   "cell_type": "code",
   "execution_count": 11,
   "metadata": {},
   "outputs": [
    {
     "data": {
      "text/html": [
       "<div>\n",
       "<style scoped>\n",
       "    .dataframe tbody tr th:only-of-type {\n",
       "        vertical-align: middle;\n",
       "    }\n",
       "\n",
       "    .dataframe tbody tr th {\n",
       "        vertical-align: top;\n",
       "    }\n",
       "\n",
       "    .dataframe thead th {\n",
       "        text-align: right;\n",
       "    }\n",
       "</style>\n",
       "<table border=\"1\" class=\"dataframe\">\n",
       "  <thead>\n",
       "    <tr style=\"text-align: right;\">\n",
       "      <th></th>\n",
       "      <th>city</th>\n",
       "      <th>average_flights</th>\n",
       "    </tr>\n",
       "  </thead>\n",
       "  <tbody>\n",
       "    <tr>\n",
       "      <th>0</th>\n",
       "      <td>абакан</td>\n",
       "      <td>3.87</td>\n",
       "    </tr>\n",
       "    <tr>\n",
       "      <th>1</th>\n",
       "      <td>анадырь</td>\n",
       "      <td>1.00</td>\n",
       "    </tr>\n",
       "    <tr>\n",
       "      <th>2</th>\n",
       "      <td>анапа</td>\n",
       "      <td>2.16</td>\n",
       "    </tr>\n",
       "    <tr>\n",
       "      <th>3</th>\n",
       "      <td>архангельск</td>\n",
       "      <td>5.35</td>\n",
       "    </tr>\n",
       "    <tr>\n",
       "      <th>4</th>\n",
       "      <td>астрахань</td>\n",
       "      <td>2.45</td>\n",
       "    </tr>\n",
       "    <tr>\n",
       "      <th>...</th>\n",
       "      <td>...</td>\n",
       "      <td>...</td>\n",
       "    </tr>\n",
       "    <tr>\n",
       "      <th>96</th>\n",
       "      <td>чита</td>\n",
       "      <td>1.58</td>\n",
       "    </tr>\n",
       "    <tr>\n",
       "      <th>97</th>\n",
       "      <td>элиста</td>\n",
       "      <td>4.87</td>\n",
       "    </tr>\n",
       "    <tr>\n",
       "      <th>98</th>\n",
       "      <td>южно-сахалинск</td>\n",
       "      <td>4.29</td>\n",
       "    </tr>\n",
       "    <tr>\n",
       "      <th>99</th>\n",
       "      <td>якутск</td>\n",
       "      <td>2.74</td>\n",
       "    </tr>\n",
       "    <tr>\n",
       "      <th>100</th>\n",
       "      <td>ярославль</td>\n",
       "      <td>1.32</td>\n",
       "    </tr>\n",
       "  </tbody>\n",
       "</table>\n",
       "<p>101 rows × 2 columns</p>\n",
       "</div>"
      ],
      "text/plain": [
       "               city  average_flights\n",
       "0            абакан             3.87\n",
       "1           анадырь             1.00\n",
       "2             анапа             2.16\n",
       "3       архангельск             5.35\n",
       "4         астрахань             2.45\n",
       "..              ...              ...\n",
       "96             чита             1.58\n",
       "97           элиста             4.87\n",
       "98   южно-сахалинск             4.29\n",
       "99           якутск             2.74\n",
       "100       ярославль             1.32\n",
       "\n",
       "[101 rows x 2 columns]"
      ]
     },
     "metadata": {},
     "output_type": "display_data"
    }
   ],
   "source": [
    "query_3_data['city'] = query_3_data['city'].str.lower()\n",
    "display(query_3_data)"
   ]
  },
  {
   "cell_type": "code",
   "execution_count": 12,
   "metadata": {},
   "outputs": [
    {
     "data": {
      "text/plain": [
       "count        101\n",
       "unique       101\n",
       "top       абакан\n",
       "freq           1\n",
       "Name: city, dtype: object"
      ]
     },
     "execution_count": 12,
     "metadata": {},
     "output_type": "execute_result"
    }
   ],
   "source": [
    "query_3_data['city'] = query_3_data['city'].str.replace('^ +| +$', '', regex=True) # Заменить пробел на обоих концах : через регулярное выражение\n",
    "query_3_data['city'] = query_3_data['city'].str.replace('  ', '', regex=True) # заменить два пробела\n",
    "query_3_data['city'].describe() # и тут же проверим - были ли лишние пробелы"
   ]
  },
  {
   "cell_type": "markdown",
   "metadata": {},
   "source": [
    "Ничего не изменилось, но небольшая перестраховка не помешает ))"
   ]
  },
  {
   "cell_type": "markdown",
   "metadata": {},
   "source": [
    "<a name=\"chapter_3.\"></a>\n",
    "[к содержанию](#chapter_0)<br/>\n",
    "<div class=\"p-3 mb-2 bg-primary text-white\">\n",
    "<b>3. Исследовательский анализ данных.</b> <br/>\n",
    "</div>"
   ]
  },
  {
   "cell_type": "markdown",
   "metadata": {},
   "source": [
    "В задании указано так: <br/>\n",
    "- выбрать топ-10 городов по количеству рейсов;\n",
    "- построить графики: модели самолетов и количество рейсов, города и количество рейсов, топ-10 городов и количество рейсов;\n",
    "- сделать выводы по каждому из графиков, пояснить результат."
   ]
  },
  {
   "cell_type": "markdown",
   "metadata": {},
   "source": [
    "<a name=\"chapter_3.1.\"></a>\n",
    "[к содержанию](#chapter_0)<br/>\n",
    "<div class=\"p-3 mb-2 bg-primary text-white\">\n",
    "<b>3.1. Исследование данных по самолетам.</b> <br/>\n",
    "</div>"
   ]
  },
  {
   "cell_type": "markdown",
   "metadata": {},
   "source": [
    "Посмотрим самолеты и помним, что данные за сентябрь 2018."
   ]
  },
  {
   "cell_type": "code",
   "execution_count": 13,
   "metadata": {},
   "outputs": [
    {
     "data": {
      "text/html": [
       "<div>\n",
       "<style scoped>\n",
       "    .dataframe tbody tr th:only-of-type {\n",
       "        vertical-align: middle;\n",
       "    }\n",
       "\n",
       "    .dataframe tbody tr th {\n",
       "        vertical-align: top;\n",
       "    }\n",
       "\n",
       "    .dataframe thead th {\n",
       "        text-align: right;\n",
       "    }\n",
       "</style>\n",
       "<table border=\"1\" class=\"dataframe\">\n",
       "  <thead>\n",
       "    <tr style=\"text-align: right;\">\n",
       "      <th></th>\n",
       "      <th>model</th>\n",
       "      <th>flights_amount</th>\n",
       "    </tr>\n",
       "  </thead>\n",
       "  <tbody>\n",
       "    <tr>\n",
       "      <th>6</th>\n",
       "      <td>Cessna 208 Caravan</td>\n",
       "      <td>4557</td>\n",
       "    </tr>\n",
       "    <tr>\n",
       "      <th>5</th>\n",
       "      <td>Bombardier CRJ-200</td>\n",
       "      <td>4446</td>\n",
       "    </tr>\n",
       "    <tr>\n",
       "      <th>7</th>\n",
       "      <td>Sukhoi SuperJet-100</td>\n",
       "      <td>4185</td>\n",
       "    </tr>\n",
       "    <tr>\n",
       "      <th>1</th>\n",
       "      <td>Airbus A321-200</td>\n",
       "      <td>960</td>\n",
       "    </tr>\n",
       "    <tr>\n",
       "      <th>2</th>\n",
       "      <td>Boeing 737-300</td>\n",
       "      <td>630</td>\n",
       "    </tr>\n",
       "    <tr>\n",
       "      <th>0</th>\n",
       "      <td>Airbus A319-100</td>\n",
       "      <td>607</td>\n",
       "    </tr>\n",
       "    <tr>\n",
       "      <th>3</th>\n",
       "      <td>Boeing 767-300</td>\n",
       "      <td>600</td>\n",
       "    </tr>\n",
       "    <tr>\n",
       "      <th>4</th>\n",
       "      <td>Boeing 777-300</td>\n",
       "      <td>300</td>\n",
       "    </tr>\n",
       "  </tbody>\n",
       "</table>\n",
       "</div>"
      ],
      "text/plain": [
       "                 model  flights_amount\n",
       "6   Cessna 208 Caravan            4557\n",
       "5   Bombardier CRJ-200            4446\n",
       "7  Sukhoi SuperJet-100            4185\n",
       "1      Airbus A321-200             960\n",
       "2       Boeing 737-300             630\n",
       "0      Airbus A319-100             607\n",
       "3       Boeing 767-300             600\n",
       "4       Boeing 777-300             300"
      ]
     },
     "metadata": {},
     "output_type": "display_data"
    }
   ],
   "source": [
    "all_model = query_1_data.sort_values(by='flights_amount', ascending=False)\n",
    "display(all_model.head(10))"
   ]
  },
  {
   "cell_type": "code",
   "execution_count": 14,
   "metadata": {},
   "outputs": [
    {
     "data": {
      "image/png": "[encoded data removed]",
      "text/plain": [
       "<Figure size 1152x504 with 2 Axes>"
      ]
     },
     "metadata": {},
     "output_type": "display_data"
    }
   ],
   "source": [
    "all_model = query_1_data.pivot_table(index='model', values='flights_amount', aggfunc='sum'\n",
    "                                        ).sort_values('flights_amount', ascending=False).head(10)\n",
    "\n",
    "fig, ax = plt.subplots(1, 2, figsize=(16, 7))\n",
    "\n",
    "silent_labels = [' '] * len(all_model.values)\n",
    "    \n",
    "    \n",
    "cmap = sns.color_palette('Blues_r', len(all_model))\n",
    "    \n",
    "all_model.plot.pie(shadow=True, autopct='%1.1f%%', \\\n",
    "              labels=silent_labels, ax=ax[0], colors=cmap, subplots=True)\n",
    "ax[0].legend(loc=2, labels=all_model.index)\n",
    "ax[0].set_title('Модели самолетов и количество полетов', fontsize=24)\n",
    "ax[0].set_ylabel('доли в %')\n",
    "    \n",
    "sns.barplot(y=all_model.index, x='flights_amount', data=all_model, estimator=sum, orient='h', ax=ax[1], palette=cmap)\n",
    "ax[1].set_ylabel(' ')\n",
    "ax[1].set_xlabel('Среднее количество полетов за 09.2018')\n",
    "    \n",
    "plt.show()"
   ]
  },
  {
   "cell_type": "markdown",
   "metadata": {},
   "source": [
    "Лидер - Cessna 208 Caravan, довольно старый самолет, сертификация для полетов с 1984 года, до 13 мест. https://ru.wikipedia.org/wiki/Cessna_208<br/>  Bombardier CRJ-200, тоже  старый самолет, сертификация с 1995 года, до 50 мест. https://ru.wikipedia.org/wiki/Bombardier_CRJ200<br/>Sukhoi SuperJet-100 сертифицирован для эксплуатации с 2011 года, до 108 пассажиров. https://avia.pro/blog/superdzhet-100<br/>\n",
    "Airbus A321-200, сертифицирован для эксплуатации с 1996 года, до 220 пассажиров. https://avia.pro/blog/airbus-a321-eyrbas-a321<br/>\n",
    "Boeing 737-300, сертифицирован для эксплуатации с 1984 года, до 149 пассажиров.https://avia.pro/blog/boeing-737-300-foto-video-shema-salona-harakteristiki-otzyvy<br/>\n",
    "Airbus A319-100, сертифицирован для эксплуатации с 1996 года, базовая модель до 124 пассажиров. https://avia.pro/blog/airbus-a319<br/>\n",
    "Boeing 767-300, сертифицирован для эксплуатации с 1986 года, базовая модель до 269 пассажиров. https://avia.pro/blog/boeing-767-300 <br/>\n",
    "Boeing 777-300, сертифицирован для эксплуатации с 1998 года, базовая модель до 479 пассажиров. https://avia.pro/blog/boeing-777-300 <br/>\n",
    "Ручную работу по поиску основных характеристик самолетов провели, что нам мешает прикинуть пассажиропоток и посчитать сколько примерно пассажиров они бы подняли в воздух за сентябрь 2018 года при 100% загрузке?"
   ]
  },
  {
   "cell_type": "markdown",
   "metadata": {},
   "source": [
    "Сделаем еще один столбец на основе наших полученных новых данных."
   ]
  },
  {
   "cell_type": "code",
   "execution_count": 15,
   "metadata": {},
   "outputs": [
    {
     "data": {
      "text/html": [
       "<div>\n",
       "<style scoped>\n",
       "    .dataframe tbody tr th:only-of-type {\n",
       "        vertical-align: middle;\n",
       "    }\n",
       "\n",
       "    .dataframe tbody tr th {\n",
       "        vertical-align: top;\n",
       "    }\n",
       "\n",
       "    .dataframe thead th {\n",
       "        text-align: right;\n",
       "    }\n",
       "</style>\n",
       "<table border=\"1\" class=\"dataframe\">\n",
       "  <thead>\n",
       "    <tr style=\"text-align: right;\">\n",
       "      <th></th>\n",
       "      <th>flights_amount</th>\n",
       "      <th>aircraft_capacity</th>\n",
       "    </tr>\n",
       "    <tr>\n",
       "      <th>model</th>\n",
       "      <th></th>\n",
       "      <th></th>\n",
       "    </tr>\n",
       "  </thead>\n",
       "  <tbody>\n",
       "    <tr>\n",
       "      <th>Cessna 208 Caravan</th>\n",
       "      <td>4557</td>\n",
       "      <td>13</td>\n",
       "    </tr>\n",
       "    <tr>\n",
       "      <th>Bombardier CRJ-200</th>\n",
       "      <td>4446</td>\n",
       "      <td>50</td>\n",
       "    </tr>\n",
       "    <tr>\n",
       "      <th>Sukhoi SuperJet-100</th>\n",
       "      <td>4185</td>\n",
       "      <td>108</td>\n",
       "    </tr>\n",
       "    <tr>\n",
       "      <th>Airbus A321-200</th>\n",
       "      <td>960</td>\n",
       "      <td>220</td>\n",
       "    </tr>\n",
       "    <tr>\n",
       "      <th>Boeing 737-300</th>\n",
       "      <td>630</td>\n",
       "      <td>149</td>\n",
       "    </tr>\n",
       "    <tr>\n",
       "      <th>Airbus A319-100</th>\n",
       "      <td>607</td>\n",
       "      <td>124</td>\n",
       "    </tr>\n",
       "    <tr>\n",
       "      <th>Boeing 767-300</th>\n",
       "      <td>600</td>\n",
       "      <td>269</td>\n",
       "    </tr>\n",
       "    <tr>\n",
       "      <th>Boeing 777-300</th>\n",
       "      <td>300</td>\n",
       "      <td>479</td>\n",
       "    </tr>\n",
       "  </tbody>\n",
       "</table>\n",
       "</div>"
      ],
      "text/plain": [
       "                     flights_amount  aircraft_capacity\n",
       "model                                                 \n",
       "Cessna 208 Caravan             4557                 13\n",
       "Bombardier CRJ-200             4446                 50\n",
       "Sukhoi SuperJet-100            4185                108\n",
       "Airbus A321-200                 960                220\n",
       "Boeing 737-300                  630                149\n",
       "Airbus A319-100                 607                124\n",
       "Boeing 767-300                  600                269\n",
       "Boeing 777-300                  300                479"
      ]
     },
     "metadata": {},
     "output_type": "display_data"
    }
   ],
   "source": [
    "all_model['aircraft_capacity'] = [13, 50, 108, 220, 149, 124, 269, 479]\n",
    "display(all_model)"
   ]
  },
  {
   "cell_type": "code",
   "execution_count": 16,
   "metadata": {},
   "outputs": [
    {
     "data": {
      "text/html": [
       "<div>\n",
       "<style scoped>\n",
       "    .dataframe tbody tr th:only-of-type {\n",
       "        vertical-align: middle;\n",
       "    }\n",
       "\n",
       "    .dataframe tbody tr th {\n",
       "        vertical-align: top;\n",
       "    }\n",
       "\n",
       "    .dataframe thead th {\n",
       "        text-align: right;\n",
       "    }\n",
       "</style>\n",
       "<table border=\"1\" class=\"dataframe\">\n",
       "  <thead>\n",
       "    <tr style=\"text-align: right;\">\n",
       "      <th></th>\n",
       "      <th>flights_amount</th>\n",
       "      <th>aircraft_capacity</th>\n",
       "      <th>passenger_traffic</th>\n",
       "    </tr>\n",
       "    <tr>\n",
       "      <th>model</th>\n",
       "      <th></th>\n",
       "      <th></th>\n",
       "      <th></th>\n",
       "    </tr>\n",
       "  </thead>\n",
       "  <tbody>\n",
       "    <tr>\n",
       "      <th>Cessna 208 Caravan</th>\n",
       "      <td>4557</td>\n",
       "      <td>13</td>\n",
       "      <td>59241</td>\n",
       "    </tr>\n",
       "    <tr>\n",
       "      <th>Bombardier CRJ-200</th>\n",
       "      <td>4446</td>\n",
       "      <td>50</td>\n",
       "      <td>222300</td>\n",
       "    </tr>\n",
       "    <tr>\n",
       "      <th>Sukhoi SuperJet-100</th>\n",
       "      <td>4185</td>\n",
       "      <td>108</td>\n",
       "      <td>451980</td>\n",
       "    </tr>\n",
       "    <tr>\n",
       "      <th>Airbus A321-200</th>\n",
       "      <td>960</td>\n",
       "      <td>220</td>\n",
       "      <td>211200</td>\n",
       "    </tr>\n",
       "    <tr>\n",
       "      <th>Boeing 737-300</th>\n",
       "      <td>630</td>\n",
       "      <td>149</td>\n",
       "      <td>93870</td>\n",
       "    </tr>\n",
       "    <tr>\n",
       "      <th>Airbus A319-100</th>\n",
       "      <td>607</td>\n",
       "      <td>124</td>\n",
       "      <td>75268</td>\n",
       "    </tr>\n",
       "    <tr>\n",
       "      <th>Boeing 767-300</th>\n",
       "      <td>600</td>\n",
       "      <td>269</td>\n",
       "      <td>161400</td>\n",
       "    </tr>\n",
       "    <tr>\n",
       "      <th>Boeing 777-300</th>\n",
       "      <td>300</td>\n",
       "      <td>479</td>\n",
       "      <td>143700</td>\n",
       "    </tr>\n",
       "  </tbody>\n",
       "</table>\n",
       "</div>"
      ],
      "text/plain": [
       "                     flights_amount  aircraft_capacity  passenger_traffic\n",
       "model                                                                    \n",
       "Cessna 208 Caravan             4557                 13              59241\n",
       "Bombardier CRJ-200             4446                 50             222300\n",
       "Sukhoi SuperJet-100            4185                108             451980\n",
       "Airbus A321-200                 960                220             211200\n",
       "Boeing 737-300                  630                149              93870\n",
       "Airbus A319-100                 607                124              75268\n",
       "Boeing 767-300                  600                269             161400\n",
       "Boeing 777-300                  300                479             143700"
      ]
     },
     "metadata": {},
     "output_type": "display_data"
    }
   ],
   "source": [
    "all_model['passenger_traffic'] = all_model['flights_amount'] * all_model['aircraft_capacity']\n",
    "display(all_model)"
   ]
  },
  {
   "cell_type": "code",
   "execution_count": 17,
   "metadata": {},
   "outputs": [
    {
     "name": "stdout",
     "output_type": "stream",
     "text": [
      "<class 'pandas.core.frame.DataFrame'>\n",
      "Index: 8 entries, Cessna 208 Caravan to Boeing 777-300\n",
      "Data columns (total 3 columns):\n",
      " #   Column             Non-Null Count  Dtype\n",
      "---  ------             --------------  -----\n",
      " 0   flights_amount     8 non-null      int64\n",
      " 1   aircraft_capacity  8 non-null      int64\n",
      " 2   passenger_traffic  8 non-null      int64\n",
      "dtypes: int64(3)\n",
      "memory usage: 556.0+ bytes\n"
     ]
    }
   ],
   "source": [
    "all_model.info()"
   ]
  },
  {
   "cell_type": "code",
   "execution_count": 18,
   "metadata": {},
   "outputs": [
    {
     "data": {
      "image/png": "[encoded data removed]",
      "text/plain": [
       "<Figure size 1152x504 with 2 Axes>"
      ]
     },
     "metadata": {},
     "output_type": "display_data"
    }
   ],
   "source": [
    "all_model_2 = all_model.pivot_table(index='model', values='passenger_traffic', aggfunc='sum'\n",
    "                                        ).sort_values('passenger_traffic', ascending=False).head(10)\n",
    "\n",
    "fig, ax = plt.subplots(1, 2, figsize=(16, 7))\n",
    "\n",
    "silent_labels = [' '] * len(all_model_2.values)\n",
    "    \n",
    "    \n",
    "cmap = sns.color_palette('Blues_r', len(all_model_2))\n",
    "    \n",
    "all_model_2.plot.pie(shadow=True, autopct='%1.1f%%', \\\n",
    "              labels=silent_labels, ax=ax[0], colors=cmap, subplots=True)\n",
    "ax[0].legend(loc=2, labels=all_model.index)\n",
    "ax[0].set_title('Модели самолетов и пассажиропоток', fontsize=24)\n",
    "ax[0].set_ylabel('доли в %')\n",
    "    \n",
    "sns.barplot(y=all_model_2.index, x='passenger_traffic', data=all_model_2, estimator=sum, orient='h', ax=ax[1], palette=cmap)\n",
    "ax[1].set_ylabel(' ')\n",
    "ax[1].set_xlabel('Примерный пассажиропоток за 09.2018')\n",
    "    \n",
    "plt.show()"
   ]
  },
  {
   "cell_type": "markdown",
   "metadata": {},
   "source": [
    "\n",
    "Маленькие самолеты имеет гораздо большее количество полетов. Получается, что малая авиация до сих пор не умерла и работает по коротким маршрутам. Время полета там низкое, потому и количество рейсов большое. Интересно, насколько различается рентабельность полетов больших и малых самолетов. Но этих данных у нас нет.\n",
    "\n",
    "Да, малые самолеты очень должны быть востребованы и во время отпусков, как подбрасывающие пассажиров, летящих в отпуск, до крупных городов с крупными аэропортами, являющимися транспортными узлами.\n",
    "\n",
    "И интересно, что лидером по пассажиропотоку является самолет российского производства Sukhoi SuperJet-100 с примерной цифрой в 452 тыс. пассажиров за сентябрь 2018 года и это доля в 31,9% на рынке авиапассажироперевозок.\n",
    "\n",
    "А два самых маленьких самолета по вместимости пассажирских салонов Cessna 208 Caravan и Bombardier CRJ-200 - по количеству полетов владеют совокупной долей в количестве полетов в 47,6%"
   ]
  },
  {
   "cell_type": "markdown",
   "metadata": {},
   "source": [
    "<a name=\"chapter_3.2.\"></a>\n",
    "[к содержанию](#chapter_0)<br/>\n",
    "<div class=\"p-3 mb-2 bg-primary text-white\">\n",
    "<b>3.2. Исследование городов по количеству рейсов.</b> <br/>\n",
    "</div>"
   ]
  },
  {
   "cell_type": "markdown",
   "metadata": {},
   "source": [
    "Выберем топ-10 городов по количеству рейсов:"
   ]
  },
  {
   "cell_type": "code",
   "execution_count": 19,
   "metadata": {},
   "outputs": [
    {
     "data": {
      "text/html": [
       "<div>\n",
       "<style scoped>\n",
       "    .dataframe tbody tr th:only-of-type {\n",
       "        vertical-align: middle;\n",
       "    }\n",
       "\n",
       "    .dataframe tbody tr th {\n",
       "        vertical-align: top;\n",
       "    }\n",
       "\n",
       "    .dataframe thead th {\n",
       "        text-align: right;\n",
       "    }\n",
       "</style>\n",
       "<table border=\"1\" class=\"dataframe\">\n",
       "  <thead>\n",
       "    <tr style=\"text-align: right;\">\n",
       "      <th></th>\n",
       "      <th>city</th>\n",
       "      <th>average_flights</th>\n",
       "    </tr>\n",
       "  </thead>\n",
       "  <tbody>\n",
       "    <tr>\n",
       "      <th>43</th>\n",
       "      <td>москва</td>\n",
       "      <td>129.77</td>\n",
       "    </tr>\n",
       "    <tr>\n",
       "      <th>70</th>\n",
       "      <td>санкт-петербург</td>\n",
       "      <td>31.16</td>\n",
       "    </tr>\n",
       "    <tr>\n",
       "      <th>54</th>\n",
       "      <td>новосибирск</td>\n",
       "      <td>17.32</td>\n",
       "    </tr>\n",
       "    <tr>\n",
       "      <th>33</th>\n",
       "      <td>красноярск</td>\n",
       "      <td>11.58</td>\n",
       "    </tr>\n",
       "    <tr>\n",
       "      <th>20</th>\n",
       "      <td>екатеринбург</td>\n",
       "      <td>11.32</td>\n",
       "    </tr>\n",
       "    <tr>\n",
       "      <th>67</th>\n",
       "      <td>ростов-на-дону</td>\n",
       "      <td>10.19</td>\n",
       "    </tr>\n",
       "    <tr>\n",
       "      <th>63</th>\n",
       "      <td>пермь</td>\n",
       "      <td>10.13</td>\n",
       "    </tr>\n",
       "    <tr>\n",
       "      <th>10</th>\n",
       "      <td>брянск</td>\n",
       "      <td>10.00</td>\n",
       "    </tr>\n",
       "    <tr>\n",
       "      <th>74</th>\n",
       "      <td>сочи</td>\n",
       "      <td>9.61</td>\n",
       "    </tr>\n",
       "    <tr>\n",
       "      <th>84</th>\n",
       "      <td>ульяновск</td>\n",
       "      <td>9.58</td>\n",
       "    </tr>\n",
       "  </tbody>\n",
       "</table>\n",
       "</div>"
      ],
      "text/plain": [
       "               city  average_flights\n",
       "43           москва           129.77\n",
       "70  санкт-петербург            31.16\n",
       "54      новосибирск            17.32\n",
       "33       красноярск            11.58\n",
       "20     екатеринбург            11.32\n",
       "67   ростов-на-дону            10.19\n",
       "63            пермь            10.13\n",
       "10           брянск            10.00\n",
       "74             сочи             9.61\n",
       "84        ульяновск             9.58"
      ]
     },
     "metadata": {},
     "output_type": "display_data"
    }
   ],
   "source": [
    "city_top10 = query_3_data.sort_values(by='average_flights', ascending=False)\n",
    "display(city_top10.head(10))"
   ]
  },
  {
   "cell_type": "code",
   "execution_count": 20,
   "metadata": {},
   "outputs": [
    {
     "data": {
      "text/html": [
       "<div>\n",
       "<style scoped>\n",
       "    .dataframe tbody tr th:only-of-type {\n",
       "        vertical-align: middle;\n",
       "    }\n",
       "\n",
       "    .dataframe tbody tr th {\n",
       "        vertical-align: top;\n",
       "    }\n",
       "\n",
       "    .dataframe thead th {\n",
       "        text-align: right;\n",
       "    }\n",
       "</style>\n",
       "<table border=\"1\" class=\"dataframe\">\n",
       "  <thead>\n",
       "    <tr style=\"text-align: right;\">\n",
       "      <th></th>\n",
       "      <th>city</th>\n",
       "      <th>average_flights</th>\n",
       "    </tr>\n",
       "  </thead>\n",
       "  <tbody>\n",
       "    <tr>\n",
       "      <th>8</th>\n",
       "      <td>благовещенск</td>\n",
       "      <td>1.00</td>\n",
       "    </tr>\n",
       "    <tr>\n",
       "      <th>1</th>\n",
       "      <td>анадырь</td>\n",
       "      <td>1.00</td>\n",
       "    </tr>\n",
       "    <tr>\n",
       "      <th>31</th>\n",
       "      <td>комсомольск-на-амуре</td>\n",
       "      <td>1.00</td>\n",
       "    </tr>\n",
       "    <tr>\n",
       "      <th>76</th>\n",
       "      <td>стрежевой</td>\n",
       "      <td>1.00</td>\n",
       "    </tr>\n",
       "    <tr>\n",
       "      <th>49</th>\n",
       "      <td>нефтеюганск</td>\n",
       "      <td>1.00</td>\n",
       "    </tr>\n",
       "    <tr>\n",
       "      <th>65</th>\n",
       "      <td>петропавловск-камчатский</td>\n",
       "      <td>1.00</td>\n",
       "    </tr>\n",
       "    <tr>\n",
       "      <th>88</th>\n",
       "      <td>усть-кут</td>\n",
       "      <td>1.00</td>\n",
       "    </tr>\n",
       "    <tr>\n",
       "      <th>22</th>\n",
       "      <td>ижевск</td>\n",
       "      <td>1.00</td>\n",
       "    </tr>\n",
       "    <tr>\n",
       "      <th>9</th>\n",
       "      <td>братск</td>\n",
       "      <td>1.00</td>\n",
       "    </tr>\n",
       "    <tr>\n",
       "      <th>21</th>\n",
       "      <td>иваново</td>\n",
       "      <td>1.00</td>\n",
       "    </tr>\n",
       "  </tbody>\n",
       "</table>\n",
       "</div>"
      ],
      "text/plain": [
       "                        city  average_flights\n",
       "8               благовещенск             1.00\n",
       "1                    анадырь             1.00\n",
       "31      комсомольск-на-амуре             1.00\n",
       "76                 стрежевой             1.00\n",
       "49               нефтеюганск             1.00\n",
       "65  петропавловск-камчатский             1.00\n",
       "88                  усть-кут             1.00\n",
       "22                    ижевск             1.00\n",
       "9                     братск             1.00\n",
       "21                   иваново             1.00"
      ]
     },
     "metadata": {},
     "output_type": "display_data"
    }
   ],
   "source": [
    "city_top10 = query_3_data.sort_values(by='average_flights', ascending=True)\n",
    "display(city_top10.head(10))"
   ]
  },
  {
   "cell_type": "code",
   "execution_count": 21,
   "metadata": {},
   "outputs": [
    {
     "data": {
      "image/png": "[encoded data removed]",
      "text/plain": [
       "<Figure size 1152x504 with 2 Axes>"
      ]
     },
     "metadata": {},
     "output_type": "display_data"
    }
   ],
   "source": [
    "city_top10 = query_3_data.pivot_table(index='city', values='average_flights', aggfunc='sum'\n",
    "                                        ).sort_values('average_flights', ascending=False).head(10)\n",
    "\n",
    "fig, ax = plt.subplots(1, 2, figsize=(16, 7))\n",
    "\n",
    "silent_labels = [' '] * len(city_top10.values)\n",
    "    \n",
    "    \n",
    "cmap = sns.color_palette('Blues_r', len(city_top10.values))\n",
    "    \n",
    "city_top10.plot.pie(shadow=True, autopct='%1.1f%%', \\\n",
    "              labels=silent_labels, ax=ax[0], colors=cmap, subplots=True)\n",
    "ax[0].legend(loc=2, labels=city_top10.index)\n",
    "ax[0].set_title('Топ10 по городам', fontsize=24)\n",
    "ax[0].set_ylabel('доли в %')\n",
    "    \n",
    "sns.barplot(y=city_top10.index, x='average_flights', data=city_top10, estimator=sum, orient='h', ax=ax[1], palette=cmap)\n",
    "ax[1].set_ylabel(' ')\n",
    "ax[1].set_xlabel('Среднее количество полетов за 08.2018')\n",
    "    \n",
    "plt.show()                 "
   ]
  },
  {
   "cell_type": "markdown",
   "metadata": {},
   "source": [
    "Помним, что это август 2018 года, интересно - Сочи попал в первую десятку в соответствии с населением, в нем проживающем,  или как курортный город. <br/>\n",
    "Можем это выяснить, сравнив с населением данных городов. Заодно увидим, где расхождение с цифрами населения самое большое."
   ]
  },
  {
   "cell_type": "code",
   "execution_count": 22,
   "metadata": {},
   "outputs": [
    {
     "data": {
      "text/html": [
       "<div>\n",
       "<style scoped>\n",
       "    .dataframe tbody tr th:only-of-type {\n",
       "        vertical-align: middle;\n",
       "    }\n",
       "\n",
       "    .dataframe tbody tr th {\n",
       "        vertical-align: top;\n",
       "    }\n",
       "\n",
       "    .dataframe thead th {\n",
       "        text-align: right;\n",
       "    }\n",
       "</style>\n",
       "<table border=\"1\" class=\"dataframe\">\n",
       "  <thead>\n",
       "    <tr style=\"text-align: right;\">\n",
       "      <th></th>\n",
       "      <th>0</th>\n",
       "      <th>1</th>\n",
       "      <th>2</th>\n",
       "      <th>3</th>\n",
       "      <th>4</th>\n",
       "      <th>5</th>\n",
       "      <th>6</th>\n",
       "      <th>7</th>\n",
       "      <th>8</th>\n",
       "      <th>9</th>\n",
       "      <th>10</th>\n",
       "      <th>11</th>\n",
       "      <th>12</th>\n",
       "      <th>13</th>\n",
       "      <th>14</th>\n",
       "      <th>15</th>\n",
       "      <th>16</th>\n",
       "      <th>17</th>\n",
       "      <th>18</th>\n",
       "      <th>19</th>\n",
       "      <th>20</th>\n",
       "      <th>21</th>\n",
       "      <th>22</th>\n",
       "      <th>23</th>\n",
       "    </tr>\n",
       "  </thead>\n",
       "  <tbody>\n",
       "    <tr>\n",
       "      <th>0</th>\n",
       "      <td>1\\n</td>\n",
       "      <td>2</td>\n",
       "      <td>Москва[18]</td>\n",
       "      <td>1039</td>\n",
       "      <td>2080</td>\n",
       "      <td>4609</td>\n",
       "      <td>6133</td>\n",
       "      <td>7194</td>\n",
       "      <td>8057</td>\n",
       "      <td>8878</td>\n",
       "      <td>10126</td>\n",
       "      <td>11504</td>\n",
       "      <td>11541</td>\n",
       "      <td>11613</td>\n",
       "      <td>11980</td>\n",
       "      <td>12108</td>\n",
       "      <td>12198</td>\n",
       "      <td>12330</td>\n",
       "      <td>12381</td>\n",
       "      <td>12506</td>\n",
       "      <td>12615</td>\n",
       "      <td>12678</td>\n",
       "      <td>12655</td>\n",
       "      <td>12632[19]\\n</td>\n",
       "    </tr>\n",
       "    <tr>\n",
       "      <th>1</th>\n",
       "      <td>2\\n</td>\n",
       "      <td>1</td>\n",
       "      <td>Санкт-Петербург</td>\n",
       "      <td>1265</td>\n",
       "      <td>1737</td>\n",
       "      <td>3431</td>\n",
       "      <td>3390</td>\n",
       "      <td>4033</td>\n",
       "      <td>4569</td>\n",
       "      <td>4989</td>\n",
       "      <td>4661</td>\n",
       "      <td>4880</td>\n",
       "      <td>4899</td>\n",
       "      <td>4953</td>\n",
       "      <td>5028</td>\n",
       "      <td>5132</td>\n",
       "      <td>5192</td>\n",
       "      <td>5226</td>\n",
       "      <td>5282</td>\n",
       "      <td>5352</td>\n",
       "      <td>5384</td>\n",
       "      <td>5398</td>\n",
       "      <td>5384</td>\n",
       "      <td>5377[19]\\n</td>\n",
       "    </tr>\n",
       "    <tr>\n",
       "      <th>2</th>\n",
       "      <td>3\\n</td>\n",
       "      <td></td>\n",
       "      <td>Новосибирск</td>\n",
       "      <td>8</td>\n",
       "      <td>120</td>\n",
       "      <td>404</td>\n",
       "      <td>885</td>\n",
       "      <td>1161</td>\n",
       "      <td>1309</td>\n",
       "      <td>1420</td>\n",
       "      <td>1426</td>\n",
       "      <td>1474</td>\n",
       "      <td>1475</td>\n",
       "      <td>1499</td>\n",
       "      <td>1524</td>\n",
       "      <td>1548</td>\n",
       "      <td>1567</td>\n",
       "      <td>1584</td>\n",
       "      <td>1603</td>\n",
       "      <td>1613</td>\n",
       "      <td>1618</td>\n",
       "      <td>1626</td>\n",
       "      <td>1620</td>\n",
       "      <td>\\n</td>\n",
       "    </tr>\n",
       "    <tr>\n",
       "      <th>3</th>\n",
       "      <td>4\\n</td>\n",
       "      <td>35</td>\n",
       "      <td>Екатеринбург</td>\n",
       "      <td>43</td>\n",
       "      <td>140</td>\n",
       "      <td>423</td>\n",
       "      <td>779</td>\n",
       "      <td>1025</td>\n",
       "      <td>1210</td>\n",
       "      <td>1296</td>\n",
       "      <td>1294</td>\n",
       "      <td>1350</td>\n",
       "      <td>1353</td>\n",
       "      <td>1378</td>\n",
       "      <td>1396</td>\n",
       "      <td>1412</td>\n",
       "      <td>1428</td>\n",
       "      <td>1444</td>\n",
       "      <td>1456</td>\n",
       "      <td>1469</td>\n",
       "      <td>1483</td>\n",
       "      <td>1494</td>\n",
       "      <td>1495</td>\n",
       "      <td>1492[20]\\n</td>\n",
       "    </tr>\n",
       "    <tr>\n",
       "      <th>4</th>\n",
       "      <td>5\\n</td>\n",
       "      <td>4</td>\n",
       "      <td>Казань</td>\n",
       "      <td>130</td>\n",
       "      <td>179</td>\n",
       "      <td>406</td>\n",
       "      <td>667</td>\n",
       "      <td>869</td>\n",
       "      <td>989</td>\n",
       "      <td>1085</td>\n",
       "      <td>1105</td>\n",
       "      <td>1144</td>\n",
       "      <td>1145</td>\n",
       "      <td>1161</td>\n",
       "      <td>1176</td>\n",
       "      <td>1191</td>\n",
       "      <td>1206</td>\n",
       "      <td>1217</td>\n",
       "      <td>1232</td>\n",
       "      <td>1244</td>\n",
       "      <td>1252</td>\n",
       "      <td>1257</td>\n",
       "      <td>1257</td>\n",
       "      <td>\\n</td>\n",
       "    </tr>\n",
       "    <tr>\n",
       "      <th>5</th>\n",
       "      <td>6\\n</td>\n",
       "      <td>8</td>\n",
       "      <td>Нижний Новгород</td>\n",
       "      <td>90</td>\n",
       "      <td>222</td>\n",
       "      <td>644</td>\n",
       "      <td>941</td>\n",
       "      <td>1170</td>\n",
       "      <td>1342</td>\n",
       "      <td>1400</td>\n",
       "      <td>1311</td>\n",
       "      <td>1251</td>\n",
       "      <td>1252</td>\n",
       "      <td>1255</td>\n",
       "      <td>1260</td>\n",
       "      <td>1264</td>\n",
       "      <td>1268</td>\n",
       "      <td>1267</td>\n",
       "      <td>1262</td>\n",
       "      <td>1259</td>\n",
       "      <td>1254</td>\n",
       "      <td>1252</td>\n",
       "      <td>1244</td>\n",
       "      <td>\\n</td>\n",
       "    </tr>\n",
       "    <tr>\n",
       "      <th>6</th>\n",
       "      <td>7\\n</td>\n",
       "      <td>79</td>\n",
       "      <td>Челябинск</td>\n",
       "      <td>20</td>\n",
       "      <td>59</td>\n",
       "      <td>273</td>\n",
       "      <td>689</td>\n",
       "      <td>875</td>\n",
       "      <td>1030</td>\n",
       "      <td>1107</td>\n",
       "      <td>1077</td>\n",
       "      <td>1130</td>\n",
       "      <td>1131</td>\n",
       "      <td>1143</td>\n",
       "      <td>1156</td>\n",
       "      <td>1169</td>\n",
       "      <td>1183</td>\n",
       "      <td>1192</td>\n",
       "      <td>1199</td>\n",
       "      <td>1202</td>\n",
       "      <td>1201</td>\n",
       "      <td>1197</td>\n",
       "      <td>1188</td>\n",
       "      <td>1178[21]\\n</td>\n",
       "    </tr>\n",
       "    <tr>\n",
       "      <th>7</th>\n",
       "      <td>8\\n</td>\n",
       "      <td>40</td>\n",
       "      <td>Омск</td>\n",
       "      <td>37</td>\n",
       "      <td>162</td>\n",
       "      <td>289</td>\n",
       "      <td>581</td>\n",
       "      <td>821</td>\n",
       "      <td>1016</td>\n",
       "      <td>1149</td>\n",
       "      <td>1134</td>\n",
       "      <td>1154</td>\n",
       "      <td>1154</td>\n",
       "      <td>1157</td>\n",
       "      <td>1161</td>\n",
       "      <td>1166</td>\n",
       "      <td>1174</td>\n",
       "      <td>1178</td>\n",
       "      <td>1178</td>\n",
       "      <td>1172</td>\n",
       "      <td>1165</td>\n",
       "      <td>1155</td>\n",
       "      <td>1140</td>\n",
       "      <td>\\n</td>\n",
       "    </tr>\n",
       "    <tr>\n",
       "      <th>8</th>\n",
       "      <td>9\\n</td>\n",
       "      <td>5</td>\n",
       "      <td>Ростов-на-Дону</td>\n",
       "      <td>120</td>\n",
       "      <td>308</td>\n",
       "      <td>510</td>\n",
       "      <td>600</td>\n",
       "      <td>789</td>\n",
       "      <td>925</td>\n",
       "      <td>1008</td>\n",
       "      <td>1068</td>\n",
       "      <td>1089</td>\n",
       "      <td>1091</td>\n",
       "      <td>1097</td>\n",
       "      <td>1104</td>\n",
       "      <td>1110</td>\n",
       "      <td>1115</td>\n",
       "      <td>1120</td>\n",
       "      <td>1125</td>\n",
       "      <td>1130</td>\n",
       "      <td>1133</td>\n",
       "      <td>1138</td>\n",
       "      <td>1138</td>\n",
       "      <td>\\n</td>\n",
       "    </tr>\n",
       "    <tr>\n",
       "      <th>9</th>\n",
       "      <td>10\\n</td>\n",
       "      <td>9</td>\n",
       "      <td>Самара</td>\n",
       "      <td>90</td>\n",
       "      <td>176</td>\n",
       "      <td>390</td>\n",
       "      <td>806</td>\n",
       "      <td>1027</td>\n",
       "      <td>1192</td>\n",
       "      <td>1222</td>\n",
       "      <td>1158</td>\n",
       "      <td>1165</td>\n",
       "      <td>1167</td>\n",
       "      <td>1169</td>\n",
       "      <td>1172</td>\n",
       "      <td>1172</td>\n",
       "      <td>1172</td>\n",
       "      <td>1171</td>\n",
       "      <td>1170</td>\n",
       "      <td>1163</td>\n",
       "      <td>1157</td>\n",
       "      <td>1157</td>\n",
       "      <td>1145</td>\n",
       "      <td>1136[22]\\n</td>\n",
       "    </tr>\n",
       "  </tbody>\n",
       "</table>\n",
       "</div>"
      ],
      "text/plain": [
       "     0   1                2     3     4     5     6     7     8     9      10  \\\n",
       "0   1\\n   2       Москва[18]  1039  2080  4609  6133  7194  8057  8878  10126   \n",
       "1   2\\n   1  Санкт-Петербург  1265  1737  3431  3390  4033  4569  4989   4661   \n",
       "2   3\\n          Новосибирск     8   120   404   885  1161  1309  1420   1426   \n",
       "3   4\\n  35     Екатеринбург    43   140   423   779  1025  1210  1296   1294   \n",
       "4   5\\n   4           Казань   130   179   406   667   869   989  1085   1105   \n",
       "5   6\\n   8  Нижний Новгород    90   222   644   941  1170  1342  1400   1311   \n",
       "6   7\\n  79        Челябинск    20    59   273   689   875  1030  1107   1077   \n",
       "7   8\\n  40             Омск    37   162   289   581   821  1016  1149   1134   \n",
       "8   9\\n   5   Ростов-на-Дону   120   308   510   600   789   925  1008   1068   \n",
       "9  10\\n   9           Самара    90   176   390   806  1027  1192  1222   1158   \n",
       "\n",
       "      11     12     13     14     15     16     17     18     19     20  \\\n",
       "0  11504  11541  11613  11980  12108  12198  12330  12381  12506  12615   \n",
       "1   4880   4899   4953   5028   5132   5192   5226   5282   5352   5384   \n",
       "2   1474   1475   1499   1524   1548   1567   1584   1603   1613   1618   \n",
       "3   1350   1353   1378   1396   1412   1428   1444   1456   1469   1483   \n",
       "4   1144   1145   1161   1176   1191   1206   1217   1232   1244   1252   \n",
       "5   1251   1252   1255   1260   1264   1268   1267   1262   1259   1254   \n",
       "6   1130   1131   1143   1156   1169   1183   1192   1199   1202   1201   \n",
       "7   1154   1154   1157   1161   1166   1174   1178   1178   1172   1165   \n",
       "8   1089   1091   1097   1104   1110   1115   1120   1125   1130   1133   \n",
       "9   1165   1167   1169   1172   1172   1172   1171   1170   1163   1157   \n",
       "\n",
       "      21     22           23  \n",
       "0  12678  12655  12632[19]\\n  \n",
       "1   5398   5384   5377[19]\\n  \n",
       "2   1626   1620           \\n  \n",
       "3   1494   1495   1492[20]\\n  \n",
       "4   1257   1257           \\n  \n",
       "5   1252   1244           \\n  \n",
       "6   1197   1188   1178[21]\\n  \n",
       "7   1155   1140           \\n  \n",
       "8   1138   1138           \\n  \n",
       "9   1157   1145   1136[22]\\n  "
      ]
     },
     "metadata": {},
     "output_type": "display_data"
    },
    {
     "name": "stdout",
     "output_type": "stream",
     "text": [
      "<class 'pandas.core.frame.DataFrame'>\n",
      "RangeIndex: 171 entries, 0 to 170\n",
      "Data columns (total 24 columns):\n",
      " #   Column  Non-Null Count  Dtype \n",
      "---  ------  --------------  ----- \n",
      " 0   0       171 non-null    object\n",
      " 1   1       171 non-null    object\n",
      " 2   2       171 non-null    object\n",
      " 3   3       171 non-null    object\n",
      " 4   4       171 non-null    object\n",
      " 5   5       171 non-null    object\n",
      " 6   6       171 non-null    object\n",
      " 7   7       171 non-null    object\n",
      " 8   8       171 non-null    object\n",
      " 9   9       171 non-null    object\n",
      " 10  10      171 non-null    object\n",
      " 11  11      171 non-null    object\n",
      " 12  12      171 non-null    object\n",
      " 13  13      171 non-null    object\n",
      " 14  14      171 non-null    object\n",
      " 15  15      171 non-null    object\n",
      " 16  16      171 non-null    object\n",
      " 17  17      171 non-null    object\n",
      " 18  18      171 non-null    object\n",
      " 19  19      171 non-null    object\n",
      " 20  20      171 non-null    object\n",
      " 21  21      171 non-null    object\n",
      " 22  22      171 non-null    object\n",
      " 23  23      171 non-null    object\n",
      "dtypes: object(24)\n",
      "memory usage: 32.2+ KB\n"
     ]
    }
   ],
   "source": [
    "# Нашли такие данные по населению российских городов:\n",
    "URL = 'https://ru.wikipedia.org/wiki/%D0%A1%D0%BF%D0%B8%D1%81%D0%BE%D0%BA_%D0%B3%D0%BE%D1%80%D0%BE%D0%B4%D0%BE%D0%B2_%D0%A0%D0%BE%D1%81%D1%81%D0%B8%D0%B8_%D1%81_%D0%BD%D0%B0%D1%81%D0%B5%D0%BB%D0%B5%D0%BD%D0%B8%D0%B5%D0%BC_%D0%B1%D0%BE%D0%BB%D0%B5%D0%B5_100_%D1%82%D1%8B%D1%81%D1%8F%D1%87_%D0%B6%D0%B8%D1%82%D0%B5%D0%BB%D0%B5%D0%B9'\n",
    "req = requests.get(URL)\n",
    "soup=BeautifulSoup(req.text, 'lxml')\n",
    "\n",
    "table = soup.find('table')\n",
    "\n",
    "content=[] \n",
    "for row in table.find_all('tr'): \n",
    "    if not row.find_all('th'): \n",
    "            content.append([element.text for element in row.find_all('td')])\n",
    "            \n",
    "rus_city = pd.DataFrame(content) \n",
    "display(rus_city.head(10))\n",
    "rus_city.info()"
   ]
  },
  {
   "cell_type": "markdown",
   "metadata": {},
   "source": [
    "Нам нужны столбцы 2 и 19. И сильно смущают пропуски в таблице типа '—' данные по городу типа 'Симферополь[Крым 1][19'. И надо бы численные данные перевести в int32 и помним, что это данные в тыс. человек."
   ]
  },
  {
   "cell_type": "markdown",
   "metadata": {},
   "source": [
    "Попробуем '—' перевести в -1, как метку. Также уберем все мешающие символы, типа '[Крым 1][19' и подобных [18]. Также переведем названия городов в строчные символы. И заключение уберем возможные лишние пробелы в названии городов."
   ]
  },
  {
   "cell_type": "code",
   "execution_count": 23,
   "metadata": {},
   "outputs": [
    {
     "data": {
      "text/html": [
       "<div>\n",
       "<style scoped>\n",
       "    .dataframe tbody tr th:only-of-type {\n",
       "        vertical-align: middle;\n",
       "    }\n",
       "\n",
       "    .dataframe tbody tr th {\n",
       "        vertical-align: top;\n",
       "    }\n",
       "\n",
       "    .dataframe thead th {\n",
       "        text-align: right;\n",
       "    }\n",
       "</style>\n",
       "<table border=\"1\" class=\"dataframe\">\n",
       "  <thead>\n",
       "    <tr style=\"text-align: right;\">\n",
       "      <th></th>\n",
       "      <th>0</th>\n",
       "      <th>1</th>\n",
       "      <th>2</th>\n",
       "      <th>3</th>\n",
       "      <th>4</th>\n",
       "      <th>5</th>\n",
       "      <th>6</th>\n",
       "      <th>7</th>\n",
       "      <th>8</th>\n",
       "      <th>9</th>\n",
       "      <th>10</th>\n",
       "      <th>11</th>\n",
       "      <th>12</th>\n",
       "      <th>13</th>\n",
       "      <th>14</th>\n",
       "      <th>15</th>\n",
       "      <th>16</th>\n",
       "      <th>17</th>\n",
       "      <th>18</th>\n",
       "      <th>19</th>\n",
       "      <th>20</th>\n",
       "      <th>21</th>\n",
       "      <th>22</th>\n",
       "      <th>23</th>\n",
       "    </tr>\n",
       "  </thead>\n",
       "  <tbody>\n",
       "    <tr>\n",
       "      <th>0</th>\n",
       "      <td>1\\n</td>\n",
       "      <td>2</td>\n",
       "      <td>москва</td>\n",
       "      <td>1039</td>\n",
       "      <td>2080</td>\n",
       "      <td>4609</td>\n",
       "      <td>6133</td>\n",
       "      <td>7194</td>\n",
       "      <td>8057</td>\n",
       "      <td>8878</td>\n",
       "      <td>10126</td>\n",
       "      <td>11504</td>\n",
       "      <td>11541</td>\n",
       "      <td>11613</td>\n",
       "      <td>11980</td>\n",
       "      <td>12108</td>\n",
       "      <td>12198</td>\n",
       "      <td>12330</td>\n",
       "      <td>12381</td>\n",
       "      <td>12506</td>\n",
       "      <td>12615</td>\n",
       "      <td>12678</td>\n",
       "      <td>12655</td>\n",
       "      <td>12632[19]\\n</td>\n",
       "    </tr>\n",
       "    <tr>\n",
       "      <th>1</th>\n",
       "      <td>2\\n</td>\n",
       "      <td>1</td>\n",
       "      <td>санкт-петербург</td>\n",
       "      <td>1265</td>\n",
       "      <td>1737</td>\n",
       "      <td>3431</td>\n",
       "      <td>3390</td>\n",
       "      <td>4033</td>\n",
       "      <td>4569</td>\n",
       "      <td>4989</td>\n",
       "      <td>4661</td>\n",
       "      <td>4880</td>\n",
       "      <td>4899</td>\n",
       "      <td>4953</td>\n",
       "      <td>5028</td>\n",
       "      <td>5132</td>\n",
       "      <td>5192</td>\n",
       "      <td>5226</td>\n",
       "      <td>5282</td>\n",
       "      <td>5352</td>\n",
       "      <td>5384</td>\n",
       "      <td>5398</td>\n",
       "      <td>5384</td>\n",
       "      <td>5377[19]\\n</td>\n",
       "    </tr>\n",
       "    <tr>\n",
       "      <th>2</th>\n",
       "      <td>3\\n</td>\n",
       "      <td></td>\n",
       "      <td>новосибирск</td>\n",
       "      <td>8</td>\n",
       "      <td>120</td>\n",
       "      <td>404</td>\n",
       "      <td>885</td>\n",
       "      <td>1161</td>\n",
       "      <td>1309</td>\n",
       "      <td>1420</td>\n",
       "      <td>1426</td>\n",
       "      <td>1474</td>\n",
       "      <td>1475</td>\n",
       "      <td>1499</td>\n",
       "      <td>1524</td>\n",
       "      <td>1548</td>\n",
       "      <td>1567</td>\n",
       "      <td>1584</td>\n",
       "      <td>1603</td>\n",
       "      <td>1613</td>\n",
       "      <td>1618</td>\n",
       "      <td>1626</td>\n",
       "      <td>1620</td>\n",
       "      <td>\\n</td>\n",
       "    </tr>\n",
       "    <tr>\n",
       "      <th>3</th>\n",
       "      <td>4\\n</td>\n",
       "      <td>35</td>\n",
       "      <td>екатеринбург</td>\n",
       "      <td>43</td>\n",
       "      <td>140</td>\n",
       "      <td>423</td>\n",
       "      <td>779</td>\n",
       "      <td>1025</td>\n",
       "      <td>1210</td>\n",
       "      <td>1296</td>\n",
       "      <td>1294</td>\n",
       "      <td>1350</td>\n",
       "      <td>1353</td>\n",
       "      <td>1378</td>\n",
       "      <td>1396</td>\n",
       "      <td>1412</td>\n",
       "      <td>1428</td>\n",
       "      <td>1444</td>\n",
       "      <td>1456</td>\n",
       "      <td>1469</td>\n",
       "      <td>1483</td>\n",
       "      <td>1494</td>\n",
       "      <td>1495</td>\n",
       "      <td>1492[20]\\n</td>\n",
       "    </tr>\n",
       "    <tr>\n",
       "      <th>4</th>\n",
       "      <td>5\\n</td>\n",
       "      <td>4</td>\n",
       "      <td>казань</td>\n",
       "      <td>130</td>\n",
       "      <td>179</td>\n",
       "      <td>406</td>\n",
       "      <td>667</td>\n",
       "      <td>869</td>\n",
       "      <td>989</td>\n",
       "      <td>1085</td>\n",
       "      <td>1105</td>\n",
       "      <td>1144</td>\n",
       "      <td>1145</td>\n",
       "      <td>1161</td>\n",
       "      <td>1176</td>\n",
       "      <td>1191</td>\n",
       "      <td>1206</td>\n",
       "      <td>1217</td>\n",
       "      <td>1232</td>\n",
       "      <td>1244</td>\n",
       "      <td>1252</td>\n",
       "      <td>1257</td>\n",
       "      <td>1257</td>\n",
       "      <td>\\n</td>\n",
       "    </tr>\n",
       "    <tr>\n",
       "      <th>5</th>\n",
       "      <td>6\\n</td>\n",
       "      <td>8</td>\n",
       "      <td>нижний новгород</td>\n",
       "      <td>90</td>\n",
       "      <td>222</td>\n",
       "      <td>644</td>\n",
       "      <td>941</td>\n",
       "      <td>1170</td>\n",
       "      <td>1342</td>\n",
       "      <td>1400</td>\n",
       "      <td>1311</td>\n",
       "      <td>1251</td>\n",
       "      <td>1252</td>\n",
       "      <td>1255</td>\n",
       "      <td>1260</td>\n",
       "      <td>1264</td>\n",
       "      <td>1268</td>\n",
       "      <td>1267</td>\n",
       "      <td>1262</td>\n",
       "      <td>1259</td>\n",
       "      <td>1254</td>\n",
       "      <td>1252</td>\n",
       "      <td>1244</td>\n",
       "      <td>\\n</td>\n",
       "    </tr>\n",
       "    <tr>\n",
       "      <th>6</th>\n",
       "      <td>7\\n</td>\n",
       "      <td>79</td>\n",
       "      <td>челябинск</td>\n",
       "      <td>20</td>\n",
       "      <td>59</td>\n",
       "      <td>273</td>\n",
       "      <td>689</td>\n",
       "      <td>875</td>\n",
       "      <td>1030</td>\n",
       "      <td>1107</td>\n",
       "      <td>1077</td>\n",
       "      <td>1130</td>\n",
       "      <td>1131</td>\n",
       "      <td>1143</td>\n",
       "      <td>1156</td>\n",
       "      <td>1169</td>\n",
       "      <td>1183</td>\n",
       "      <td>1192</td>\n",
       "      <td>1199</td>\n",
       "      <td>1202</td>\n",
       "      <td>1201</td>\n",
       "      <td>1197</td>\n",
       "      <td>1188</td>\n",
       "      <td>1178[21]\\n</td>\n",
       "    </tr>\n",
       "    <tr>\n",
       "      <th>7</th>\n",
       "      <td>8\\n</td>\n",
       "      <td>40</td>\n",
       "      <td>омск</td>\n",
       "      <td>37</td>\n",
       "      <td>162</td>\n",
       "      <td>289</td>\n",
       "      <td>581</td>\n",
       "      <td>821</td>\n",
       "      <td>1016</td>\n",
       "      <td>1149</td>\n",
       "      <td>1134</td>\n",
       "      <td>1154</td>\n",
       "      <td>1154</td>\n",
       "      <td>1157</td>\n",
       "      <td>1161</td>\n",
       "      <td>1166</td>\n",
       "      <td>1174</td>\n",
       "      <td>1178</td>\n",
       "      <td>1178</td>\n",
       "      <td>1172</td>\n",
       "      <td>1165</td>\n",
       "      <td>1155</td>\n",
       "      <td>1140</td>\n",
       "      <td>\\n</td>\n",
       "    </tr>\n",
       "    <tr>\n",
       "      <th>8</th>\n",
       "      <td>9\\n</td>\n",
       "      <td>5</td>\n",
       "      <td>ростов-на-дону</td>\n",
       "      <td>120</td>\n",
       "      <td>308</td>\n",
       "      <td>510</td>\n",
       "      <td>600</td>\n",
       "      <td>789</td>\n",
       "      <td>925</td>\n",
       "      <td>1008</td>\n",
       "      <td>1068</td>\n",
       "      <td>1089</td>\n",
       "      <td>1091</td>\n",
       "      <td>1097</td>\n",
       "      <td>1104</td>\n",
       "      <td>1110</td>\n",
       "      <td>1115</td>\n",
       "      <td>1120</td>\n",
       "      <td>1125</td>\n",
       "      <td>1130</td>\n",
       "      <td>1133</td>\n",
       "      <td>1138</td>\n",
       "      <td>1138</td>\n",
       "      <td>\\n</td>\n",
       "    </tr>\n",
       "    <tr>\n",
       "      <th>9</th>\n",
       "      <td>10\\n</td>\n",
       "      <td>9</td>\n",
       "      <td>самара</td>\n",
       "      <td>90</td>\n",
       "      <td>176</td>\n",
       "      <td>390</td>\n",
       "      <td>806</td>\n",
       "      <td>1027</td>\n",
       "      <td>1192</td>\n",
       "      <td>1222</td>\n",
       "      <td>1158</td>\n",
       "      <td>1165</td>\n",
       "      <td>1167</td>\n",
       "      <td>1169</td>\n",
       "      <td>1172</td>\n",
       "      <td>1172</td>\n",
       "      <td>1172</td>\n",
       "      <td>1171</td>\n",
       "      <td>1170</td>\n",
       "      <td>1163</td>\n",
       "      <td>1157</td>\n",
       "      <td>1157</td>\n",
       "      <td>1145</td>\n",
       "      <td>1136[22]\\n</td>\n",
       "    </tr>\n",
       "  </tbody>\n",
       "</table>\n",
       "</div>"
      ],
      "text/plain": [
       "     0   1                2     3     4     5     6     7     8     9      10  \\\n",
       "0   1\\n   2           москва  1039  2080  4609  6133  7194  8057  8878  10126   \n",
       "1   2\\n   1  санкт-петербург  1265  1737  3431  3390  4033  4569  4989   4661   \n",
       "2   3\\n          новосибирск     8   120   404   885  1161  1309  1420   1426   \n",
       "3   4\\n  35     екатеринбург    43   140   423   779  1025  1210  1296   1294   \n",
       "4   5\\n   4           казань   130   179   406   667   869   989  1085   1105   \n",
       "5   6\\n   8  нижний новгород    90   222   644   941  1170  1342  1400   1311   \n",
       "6   7\\n  79        челябинск    20    59   273   689   875  1030  1107   1077   \n",
       "7   8\\n  40             омск    37   162   289   581   821  1016  1149   1134   \n",
       "8   9\\n   5   ростов-на-дону   120   308   510   600   789   925  1008   1068   \n",
       "9  10\\n   9           самара    90   176   390   806  1027  1192  1222   1158   \n",
       "\n",
       "      11     12     13     14     15     16     17     18     19     20  \\\n",
       "0  11504  11541  11613  11980  12108  12198  12330  12381  12506  12615   \n",
       "1   4880   4899   4953   5028   5132   5192   5226   5282   5352   5384   \n",
       "2   1474   1475   1499   1524   1548   1567   1584   1603   1613   1618   \n",
       "3   1350   1353   1378   1396   1412   1428   1444   1456   1469   1483   \n",
       "4   1144   1145   1161   1176   1191   1206   1217   1232   1244   1252   \n",
       "5   1251   1252   1255   1260   1264   1268   1267   1262   1259   1254   \n",
       "6   1130   1131   1143   1156   1169   1183   1192   1199   1202   1201   \n",
       "7   1154   1154   1157   1161   1166   1174   1178   1178   1172   1165   \n",
       "8   1089   1091   1097   1104   1110   1115   1120   1125   1130   1133   \n",
       "9   1165   1167   1169   1172   1172   1172   1171   1170   1163   1157   \n",
       "\n",
       "      21     22           23  \n",
       "0  12678  12655  12632[19]\\n  \n",
       "1   5398   5384   5377[19]\\n  \n",
       "2   1626   1620           \\n  \n",
       "3   1494   1495   1492[20]\\n  \n",
       "4   1257   1257           \\n  \n",
       "5   1252   1244           \\n  \n",
       "6   1197   1188   1178[21]\\n  \n",
       "7   1155   1140           \\n  \n",
       "8   1138   1138           \\n  \n",
       "9   1157   1145   1136[22]\\n  "
      ]
     },
     "metadata": {},
     "output_type": "display_data"
    },
    {
     "name": "stdout",
     "output_type": "stream",
     "text": [
      "<class 'pandas.core.frame.DataFrame'>\n",
      "RangeIndex: 171 entries, 0 to 170\n",
      "Data columns (total 24 columns):\n",
      " #   Column  Non-Null Count  Dtype \n",
      "---  ------  --------------  ----- \n",
      " 0   0       171 non-null    object\n",
      " 1   1       171 non-null    object\n",
      " 2   2       171 non-null    object\n",
      " 3   3       171 non-null    object\n",
      " 4   4       171 non-null    object\n",
      " 5   5       171 non-null    object\n",
      " 6   6       171 non-null    object\n",
      " 7   7       171 non-null    object\n",
      " 8   8       171 non-null    object\n",
      " 9   9       171 non-null    object\n",
      " 10  10      171 non-null    object\n",
      " 11  11      171 non-null    object\n",
      " 12  12      171 non-null    object\n",
      " 13  13      171 non-null    object\n",
      " 14  14      171 non-null    object\n",
      " 15  15      171 non-null    object\n",
      " 16  16      171 non-null    object\n",
      " 17  17      171 non-null    object\n",
      " 18  18      171 non-null    object\n",
      " 19  19      171 non-null    object\n",
      " 20  20      171 non-null    object\n",
      " 21  21      171 non-null    object\n",
      " 22  22      171 non-null    object\n",
      " 23  23      171 non-null    object\n",
      "dtypes: object(24)\n",
      "memory usage: 32.2+ KB\n"
     ]
    }
   ],
   "source": [
    "rus_city[2] = rus_city[2].replace('Москва[18]', 'Москва')\n",
    "rus_city[2] = rus_city[2].replace('Балашиха[20]', 'Балашиха')\n",
    "rus_city[2] = rus_city[2].replace('Подольск[21]', 'Подольск')\n",
    "rus_city[2] = rus_city[2].replace('Королёв[22]', 'Королёв')\n",
    "#[Крым 1][19] [20]\n",
    "rus_city[2] = rus_city[2].replace('Севастополь[Крым 1][19]', 'Севастополь')\n",
    "rus_city[2] = rus_city[2].replace('Симферополь[Крым 1][19]', 'Симферополь')\n",
    "rus_city[2] = rus_city[2].replace('Керчь[Крым 1][19]', 'Керчь')\n",
    "rus_city[2] = rus_city[2].replace('Евпатория[Крым 1][19]', 'Евпатория')\n",
    "rus_city[2] = rus_city[2].str.lower()\n",
    "\n",
    "rus_city[2] = rus_city[2].str.replace('^ +| +$', '', regex=True) # Заменить пробел на обоих концах : через регулярное выражение\n",
    "rus_city[2] = rus_city[2].str.replace('  ', '', regex=True) # заменить два пробела\n",
    "\n",
    "display(rus_city.head(10))\n",
    "rus_city.info()"
   ]
  },
  {
   "cell_type": "code",
   "execution_count": 24,
   "metadata": {},
   "outputs": [
    {
     "data": {
      "text/plain": [
       "RangeIndex(start=0, stop=24, step=1)"
      ]
     },
     "execution_count": 24,
     "metadata": {},
     "output_type": "execute_result"
    }
   ],
   "source": [
    "rus_city.columns"
   ]
  },
  {
   "cell_type": "markdown",
   "metadata": {},
   "source": [
    "И в процессе увидел, что там есть данные типа '0,6' и '0,4' - пожертвуем ими, заменив на 0, учитывая, что они образовались только в период образования города и к 208 году отношения не имеют."
   ]
  },
  {
   "cell_type": "code",
   "execution_count": 25,
   "metadata": {},
   "outputs": [
    {
     "data": {
      "text/html": [
       "<div>\n",
       "<style scoped>\n",
       "    .dataframe tbody tr th:only-of-type {\n",
       "        vertical-align: middle;\n",
       "    }\n",
       "\n",
       "    .dataframe tbody tr th {\n",
       "        vertical-align: top;\n",
       "    }\n",
       "\n",
       "    .dataframe thead th {\n",
       "        text-align: right;\n",
       "    }\n",
       "</style>\n",
       "<table border=\"1\" class=\"dataframe\">\n",
       "  <thead>\n",
       "    <tr style=\"text-align: right;\">\n",
       "      <th></th>\n",
       "      <th>0</th>\n",
       "      <th>1</th>\n",
       "      <th>2</th>\n",
       "      <th>3</th>\n",
       "      <th>4</th>\n",
       "      <th>5</th>\n",
       "      <th>6</th>\n",
       "      <th>7</th>\n",
       "      <th>8</th>\n",
       "      <th>9</th>\n",
       "      <th>10</th>\n",
       "      <th>11</th>\n",
       "      <th>12</th>\n",
       "      <th>13</th>\n",
       "      <th>14</th>\n",
       "      <th>15</th>\n",
       "      <th>16</th>\n",
       "      <th>17</th>\n",
       "      <th>18</th>\n",
       "      <th>19</th>\n",
       "      <th>20</th>\n",
       "      <th>21</th>\n",
       "      <th>22</th>\n",
       "      <th>23</th>\n",
       "    </tr>\n",
       "  </thead>\n",
       "  <tbody>\n",
       "    <tr>\n",
       "      <th>0</th>\n",
       "      <td>1\\n</td>\n",
       "      <td>2</td>\n",
       "      <td>москва</td>\n",
       "      <td>1039</td>\n",
       "      <td>2080</td>\n",
       "      <td>4609</td>\n",
       "      <td>6133</td>\n",
       "      <td>7194</td>\n",
       "      <td>8057</td>\n",
       "      <td>8878</td>\n",
       "      <td>10126</td>\n",
       "      <td>11504</td>\n",
       "      <td>11541</td>\n",
       "      <td>11613</td>\n",
       "      <td>11980</td>\n",
       "      <td>12108</td>\n",
       "      <td>12198</td>\n",
       "      <td>12330</td>\n",
       "      <td>12381</td>\n",
       "      <td>12506</td>\n",
       "      <td>12615</td>\n",
       "      <td>12678</td>\n",
       "      <td>12655</td>\n",
       "      <td>12632[19]\\n</td>\n",
       "    </tr>\n",
       "    <tr>\n",
       "      <th>1</th>\n",
       "      <td>2\\n</td>\n",
       "      <td>1</td>\n",
       "      <td>санкт-петербург</td>\n",
       "      <td>1265</td>\n",
       "      <td>1737</td>\n",
       "      <td>3431</td>\n",
       "      <td>3390</td>\n",
       "      <td>4033</td>\n",
       "      <td>4569</td>\n",
       "      <td>4989</td>\n",
       "      <td>4661</td>\n",
       "      <td>4880</td>\n",
       "      <td>4899</td>\n",
       "      <td>4953</td>\n",
       "      <td>5028</td>\n",
       "      <td>5132</td>\n",
       "      <td>5192</td>\n",
       "      <td>5226</td>\n",
       "      <td>5282</td>\n",
       "      <td>5352</td>\n",
       "      <td>5384</td>\n",
       "      <td>5398</td>\n",
       "      <td>5384</td>\n",
       "      <td>5377[19]\\n</td>\n",
       "    </tr>\n",
       "    <tr>\n",
       "      <th>2</th>\n",
       "      <td>3\\n</td>\n",
       "      <td></td>\n",
       "      <td>новосибирск</td>\n",
       "      <td>8</td>\n",
       "      <td>120</td>\n",
       "      <td>404</td>\n",
       "      <td>885</td>\n",
       "      <td>1161</td>\n",
       "      <td>1309</td>\n",
       "      <td>1420</td>\n",
       "      <td>1426</td>\n",
       "      <td>1474</td>\n",
       "      <td>1475</td>\n",
       "      <td>1499</td>\n",
       "      <td>1524</td>\n",
       "      <td>1548</td>\n",
       "      <td>1567</td>\n",
       "      <td>1584</td>\n",
       "      <td>1603</td>\n",
       "      <td>1613</td>\n",
       "      <td>1618</td>\n",
       "      <td>1626</td>\n",
       "      <td>1620</td>\n",
       "      <td>\\n</td>\n",
       "    </tr>\n",
       "    <tr>\n",
       "      <th>3</th>\n",
       "      <td>4\\n</td>\n",
       "      <td>35</td>\n",
       "      <td>екатеринбург</td>\n",
       "      <td>43</td>\n",
       "      <td>140</td>\n",
       "      <td>423</td>\n",
       "      <td>779</td>\n",
       "      <td>1025</td>\n",
       "      <td>1210</td>\n",
       "      <td>1296</td>\n",
       "      <td>1294</td>\n",
       "      <td>1350</td>\n",
       "      <td>1353</td>\n",
       "      <td>1378</td>\n",
       "      <td>1396</td>\n",
       "      <td>1412</td>\n",
       "      <td>1428</td>\n",
       "      <td>1444</td>\n",
       "      <td>1456</td>\n",
       "      <td>1469</td>\n",
       "      <td>1483</td>\n",
       "      <td>1494</td>\n",
       "      <td>1495</td>\n",
       "      <td>1492[20]\\n</td>\n",
       "    </tr>\n",
       "    <tr>\n",
       "      <th>4</th>\n",
       "      <td>5\\n</td>\n",
       "      <td>4</td>\n",
       "      <td>казань</td>\n",
       "      <td>130</td>\n",
       "      <td>179</td>\n",
       "      <td>406</td>\n",
       "      <td>667</td>\n",
       "      <td>869</td>\n",
       "      <td>989</td>\n",
       "      <td>1085</td>\n",
       "      <td>1105</td>\n",
       "      <td>1144</td>\n",
       "      <td>1145</td>\n",
       "      <td>1161</td>\n",
       "      <td>1176</td>\n",
       "      <td>1191</td>\n",
       "      <td>1206</td>\n",
       "      <td>1217</td>\n",
       "      <td>1232</td>\n",
       "      <td>1244</td>\n",
       "      <td>1252</td>\n",
       "      <td>1257</td>\n",
       "      <td>1257</td>\n",
       "      <td>\\n</td>\n",
       "    </tr>\n",
       "    <tr>\n",
       "      <th>5</th>\n",
       "      <td>6\\n</td>\n",
       "      <td>8</td>\n",
       "      <td>нижний новгород</td>\n",
       "      <td>90</td>\n",
       "      <td>222</td>\n",
       "      <td>644</td>\n",
       "      <td>941</td>\n",
       "      <td>1170</td>\n",
       "      <td>1342</td>\n",
       "      <td>1400</td>\n",
       "      <td>1311</td>\n",
       "      <td>1251</td>\n",
       "      <td>1252</td>\n",
       "      <td>1255</td>\n",
       "      <td>1260</td>\n",
       "      <td>1264</td>\n",
       "      <td>1268</td>\n",
       "      <td>1267</td>\n",
       "      <td>1262</td>\n",
       "      <td>1259</td>\n",
       "      <td>1254</td>\n",
       "      <td>1252</td>\n",
       "      <td>1244</td>\n",
       "      <td>\\n</td>\n",
       "    </tr>\n",
       "    <tr>\n",
       "      <th>6</th>\n",
       "      <td>7\\n</td>\n",
       "      <td>79</td>\n",
       "      <td>челябинск</td>\n",
       "      <td>20</td>\n",
       "      <td>59</td>\n",
       "      <td>273</td>\n",
       "      <td>689</td>\n",
       "      <td>875</td>\n",
       "      <td>1030</td>\n",
       "      <td>1107</td>\n",
       "      <td>1077</td>\n",
       "      <td>1130</td>\n",
       "      <td>1131</td>\n",
       "      <td>1143</td>\n",
       "      <td>1156</td>\n",
       "      <td>1169</td>\n",
       "      <td>1183</td>\n",
       "      <td>1192</td>\n",
       "      <td>1199</td>\n",
       "      <td>1202</td>\n",
       "      <td>1201</td>\n",
       "      <td>1197</td>\n",
       "      <td>1188</td>\n",
       "      <td>1178[21]\\n</td>\n",
       "    </tr>\n",
       "    <tr>\n",
       "      <th>7</th>\n",
       "      <td>8\\n</td>\n",
       "      <td>40</td>\n",
       "      <td>омск</td>\n",
       "      <td>37</td>\n",
       "      <td>162</td>\n",
       "      <td>289</td>\n",
       "      <td>581</td>\n",
       "      <td>821</td>\n",
       "      <td>1016</td>\n",
       "      <td>1149</td>\n",
       "      <td>1134</td>\n",
       "      <td>1154</td>\n",
       "      <td>1154</td>\n",
       "      <td>1157</td>\n",
       "      <td>1161</td>\n",
       "      <td>1166</td>\n",
       "      <td>1174</td>\n",
       "      <td>1178</td>\n",
       "      <td>1178</td>\n",
       "      <td>1172</td>\n",
       "      <td>1165</td>\n",
       "      <td>1155</td>\n",
       "      <td>1140</td>\n",
       "      <td>\\n</td>\n",
       "    </tr>\n",
       "    <tr>\n",
       "      <th>8</th>\n",
       "      <td>9\\n</td>\n",
       "      <td>5</td>\n",
       "      <td>ростов-на-дону</td>\n",
       "      <td>120</td>\n",
       "      <td>308</td>\n",
       "      <td>510</td>\n",
       "      <td>600</td>\n",
       "      <td>789</td>\n",
       "      <td>925</td>\n",
       "      <td>1008</td>\n",
       "      <td>1068</td>\n",
       "      <td>1089</td>\n",
       "      <td>1091</td>\n",
       "      <td>1097</td>\n",
       "      <td>1104</td>\n",
       "      <td>1110</td>\n",
       "      <td>1115</td>\n",
       "      <td>1120</td>\n",
       "      <td>1125</td>\n",
       "      <td>1130</td>\n",
       "      <td>1133</td>\n",
       "      <td>1138</td>\n",
       "      <td>1138</td>\n",
       "      <td>\\n</td>\n",
       "    </tr>\n",
       "    <tr>\n",
       "      <th>9</th>\n",
       "      <td>10\\n</td>\n",
       "      <td>9</td>\n",
       "      <td>самара</td>\n",
       "      <td>90</td>\n",
       "      <td>176</td>\n",
       "      <td>390</td>\n",
       "      <td>806</td>\n",
       "      <td>1027</td>\n",
       "      <td>1192</td>\n",
       "      <td>1222</td>\n",
       "      <td>1158</td>\n",
       "      <td>1165</td>\n",
       "      <td>1167</td>\n",
       "      <td>1169</td>\n",
       "      <td>1172</td>\n",
       "      <td>1172</td>\n",
       "      <td>1172</td>\n",
       "      <td>1171</td>\n",
       "      <td>1170</td>\n",
       "      <td>1163</td>\n",
       "      <td>1157</td>\n",
       "      <td>1157</td>\n",
       "      <td>1145</td>\n",
       "      <td>1136[22]\\n</td>\n",
       "    </tr>\n",
       "  </tbody>\n",
       "</table>\n",
       "</div>"
      ],
      "text/plain": [
       "     0   1                2     3     4     5     6     7     8     9      10  \\\n",
       "0   1\\n   2           москва  1039  2080  4609  6133  7194  8057  8878  10126   \n",
       "1   2\\n   1  санкт-петербург  1265  1737  3431  3390  4033  4569  4989   4661   \n",
       "2   3\\n          новосибирск     8   120   404   885  1161  1309  1420   1426   \n",
       "3   4\\n  35     екатеринбург    43   140   423   779  1025  1210  1296   1294   \n",
       "4   5\\n   4           казань   130   179   406   667   869   989  1085   1105   \n",
       "5   6\\n   8  нижний новгород    90   222   644   941  1170  1342  1400   1311   \n",
       "6   7\\n  79        челябинск    20    59   273   689   875  1030  1107   1077   \n",
       "7   8\\n  40             омск    37   162   289   581   821  1016  1149   1134   \n",
       "8   9\\n   5   ростов-на-дону   120   308   510   600   789   925  1008   1068   \n",
       "9  10\\n   9           самара    90   176   390   806  1027  1192  1222   1158   \n",
       "\n",
       "      11     12     13     14     15     16     17     18     19     20  \\\n",
       "0  11504  11541  11613  11980  12108  12198  12330  12381  12506  12615   \n",
       "1   4880   4899   4953   5028   5132   5192   5226   5282   5352   5384   \n",
       "2   1474   1475   1499   1524   1548   1567   1584   1603   1613   1618   \n",
       "3   1350   1353   1378   1396   1412   1428   1444   1456   1469   1483   \n",
       "4   1144   1145   1161   1176   1191   1206   1217   1232   1244   1252   \n",
       "5   1251   1252   1255   1260   1264   1268   1267   1262   1259   1254   \n",
       "6   1130   1131   1143   1156   1169   1183   1192   1199   1202   1201   \n",
       "7   1154   1154   1157   1161   1166   1174   1178   1178   1172   1165   \n",
       "8   1089   1091   1097   1104   1110   1115   1120   1125   1130   1133   \n",
       "9   1165   1167   1169   1172   1172   1172   1171   1170   1163   1157   \n",
       "\n",
       "      21     22           23  \n",
       "0  12678  12655  12632[19]\\n  \n",
       "1   5398   5384   5377[19]\\n  \n",
       "2   1626   1620           \\n  \n",
       "3   1494   1495   1492[20]\\n  \n",
       "4   1257   1257           \\n  \n",
       "5   1252   1244           \\n  \n",
       "6   1197   1188   1178[21]\\n  \n",
       "7   1155   1140           \\n  \n",
       "8   1138   1138           \\n  \n",
       "9   1157   1145   1136[22]\\n  "
      ]
     },
     "metadata": {},
     "output_type": "display_data"
    },
    {
     "name": "stdout",
     "output_type": "stream",
     "text": [
      "<class 'pandas.core.frame.DataFrame'>\n",
      "RangeIndex: 171 entries, 0 to 170\n",
      "Data columns (total 24 columns):\n",
      " #   Column  Non-Null Count  Dtype \n",
      "---  ------  --------------  ----- \n",
      " 0   0       171 non-null    object\n",
      " 1   1       171 non-null    object\n",
      " 2   2       171 non-null    object\n",
      " 3   3       171 non-null    object\n",
      " 4   4       171 non-null    object\n",
      " 5   5       171 non-null    object\n",
      " 6   6       171 non-null    object\n",
      " 7   7       171 non-null    object\n",
      " 8   8       171 non-null    object\n",
      " 9   9       171 non-null    object\n",
      " 10  10      171 non-null    object\n",
      " 11  11      171 non-null    object\n",
      " 12  12      171 non-null    object\n",
      " 13  13      171 non-null    object\n",
      " 14  14      171 non-null    object\n",
      " 15  15      171 non-null    object\n",
      " 16  16      171 non-null    object\n",
      " 17  17      171 non-null    object\n",
      " 18  18      171 non-null    object\n",
      " 19  19      171 non-null    object\n",
      " 20  20      171 non-null    object\n",
      " 21  21      171 non-null    object\n",
      " 22  22      171 non-null    object\n",
      " 23  23      171 non-null    object\n",
      "dtypes: object(24)\n",
      "memory usage: 32.2+ KB\n"
     ]
    }
   ],
   "source": [
    "for data in [3, 4, 5, 6, 7, 8, 9, 10, 11, 12, 13, 14, 15, 16, 17, 18, 19, 20, 21, 22]:\n",
    "    rus_city[data] = rus_city[data].replace('—', '-1')\n",
    "    rus_city[data] = rus_city[data].replace('…', '-1')\n",
    "    rus_city[data] = rus_city[data].replace('—\\n', '-1')\n",
    "    rus_city[data] = rus_city[data].replace('0,6', '0')\n",
    "    rus_city[data] = rus_city[data].replace('0,4', '0')\n",
    "display(rus_city.head(10))\n",
    "rus_city.info()"
   ]
  },
  {
   "cell_type": "markdown",
   "metadata": {},
   "source": [
    "Заметим, что с 22 столбцом не справились, надо бы регулярным выражением убрать. Но этот столбец нам пока и не нужен. Поэтому не будем пока делать эту задачу."
   ]
  },
  {
   "cell_type": "code",
   "execution_count": 26,
   "metadata": {},
   "outputs": [
    {
     "data": {
      "text/html": [
       "<div>\n",
       "<style scoped>\n",
       "    .dataframe tbody tr th:only-of-type {\n",
       "        vertical-align: middle;\n",
       "    }\n",
       "\n",
       "    .dataframe tbody tr th {\n",
       "        vertical-align: top;\n",
       "    }\n",
       "\n",
       "    .dataframe thead th {\n",
       "        text-align: right;\n",
       "    }\n",
       "</style>\n",
       "<table border=\"1\" class=\"dataframe\">\n",
       "  <thead>\n",
       "    <tr style=\"text-align: right;\">\n",
       "      <th></th>\n",
       "      <th>0</th>\n",
       "      <th>1</th>\n",
       "      <th>2</th>\n",
       "      <th>3</th>\n",
       "      <th>4</th>\n",
       "      <th>5</th>\n",
       "      <th>6</th>\n",
       "      <th>7</th>\n",
       "      <th>8</th>\n",
       "      <th>9</th>\n",
       "      <th>10</th>\n",
       "      <th>11</th>\n",
       "      <th>12</th>\n",
       "      <th>13</th>\n",
       "      <th>14</th>\n",
       "      <th>15</th>\n",
       "      <th>16</th>\n",
       "      <th>17</th>\n",
       "      <th>18</th>\n",
       "      <th>19</th>\n",
       "      <th>20</th>\n",
       "      <th>21</th>\n",
       "      <th>22</th>\n",
       "      <th>23</th>\n",
       "    </tr>\n",
       "  </thead>\n",
       "  <tbody>\n",
       "    <tr>\n",
       "      <th>0</th>\n",
       "      <td>1\\n</td>\n",
       "      <td>2</td>\n",
       "      <td>москва</td>\n",
       "      <td>1039</td>\n",
       "      <td>2080</td>\n",
       "      <td>4609</td>\n",
       "      <td>6133</td>\n",
       "      <td>7194</td>\n",
       "      <td>8057</td>\n",
       "      <td>8878</td>\n",
       "      <td>10126</td>\n",
       "      <td>11504</td>\n",
       "      <td>11541</td>\n",
       "      <td>11613</td>\n",
       "      <td>11980</td>\n",
       "      <td>12108</td>\n",
       "      <td>12198</td>\n",
       "      <td>12330</td>\n",
       "      <td>12381</td>\n",
       "      <td>12506</td>\n",
       "      <td>12615</td>\n",
       "      <td>12678</td>\n",
       "      <td>12655</td>\n",
       "      <td>12632[19]\\n</td>\n",
       "    </tr>\n",
       "    <tr>\n",
       "      <th>1</th>\n",
       "      <td>2\\n</td>\n",
       "      <td>1</td>\n",
       "      <td>санкт-петербург</td>\n",
       "      <td>1265</td>\n",
       "      <td>1737</td>\n",
       "      <td>3431</td>\n",
       "      <td>3390</td>\n",
       "      <td>4033</td>\n",
       "      <td>4569</td>\n",
       "      <td>4989</td>\n",
       "      <td>4661</td>\n",
       "      <td>4880</td>\n",
       "      <td>4899</td>\n",
       "      <td>4953</td>\n",
       "      <td>5028</td>\n",
       "      <td>5132</td>\n",
       "      <td>5192</td>\n",
       "      <td>5226</td>\n",
       "      <td>5282</td>\n",
       "      <td>5352</td>\n",
       "      <td>5384</td>\n",
       "      <td>5398</td>\n",
       "      <td>5384</td>\n",
       "      <td>5377[19]\\n</td>\n",
       "    </tr>\n",
       "    <tr>\n",
       "      <th>2</th>\n",
       "      <td>3\\n</td>\n",
       "      <td></td>\n",
       "      <td>новосибирск</td>\n",
       "      <td>8</td>\n",
       "      <td>120</td>\n",
       "      <td>404</td>\n",
       "      <td>885</td>\n",
       "      <td>1161</td>\n",
       "      <td>1309</td>\n",
       "      <td>1420</td>\n",
       "      <td>1426</td>\n",
       "      <td>1474</td>\n",
       "      <td>1475</td>\n",
       "      <td>1499</td>\n",
       "      <td>1524</td>\n",
       "      <td>1548</td>\n",
       "      <td>1567</td>\n",
       "      <td>1584</td>\n",
       "      <td>1603</td>\n",
       "      <td>1613</td>\n",
       "      <td>1618</td>\n",
       "      <td>1626</td>\n",
       "      <td>1620</td>\n",
       "      <td>\\n</td>\n",
       "    </tr>\n",
       "    <tr>\n",
       "      <th>3</th>\n",
       "      <td>4\\n</td>\n",
       "      <td>35</td>\n",
       "      <td>екатеринбург</td>\n",
       "      <td>43</td>\n",
       "      <td>140</td>\n",
       "      <td>423</td>\n",
       "      <td>779</td>\n",
       "      <td>1025</td>\n",
       "      <td>1210</td>\n",
       "      <td>1296</td>\n",
       "      <td>1294</td>\n",
       "      <td>1350</td>\n",
       "      <td>1353</td>\n",
       "      <td>1378</td>\n",
       "      <td>1396</td>\n",
       "      <td>1412</td>\n",
       "      <td>1428</td>\n",
       "      <td>1444</td>\n",
       "      <td>1456</td>\n",
       "      <td>1469</td>\n",
       "      <td>1483</td>\n",
       "      <td>1494</td>\n",
       "      <td>1495</td>\n",
       "      <td>1492[20]\\n</td>\n",
       "    </tr>\n",
       "    <tr>\n",
       "      <th>4</th>\n",
       "      <td>5\\n</td>\n",
       "      <td>4</td>\n",
       "      <td>казань</td>\n",
       "      <td>130</td>\n",
       "      <td>179</td>\n",
       "      <td>406</td>\n",
       "      <td>667</td>\n",
       "      <td>869</td>\n",
       "      <td>989</td>\n",
       "      <td>1085</td>\n",
       "      <td>1105</td>\n",
       "      <td>1144</td>\n",
       "      <td>1145</td>\n",
       "      <td>1161</td>\n",
       "      <td>1176</td>\n",
       "      <td>1191</td>\n",
       "      <td>1206</td>\n",
       "      <td>1217</td>\n",
       "      <td>1232</td>\n",
       "      <td>1244</td>\n",
       "      <td>1252</td>\n",
       "      <td>1257</td>\n",
       "      <td>1257</td>\n",
       "      <td>\\n</td>\n",
       "    </tr>\n",
       "  </tbody>\n",
       "</table>\n",
       "</div>"
      ],
      "text/plain": [
       "    0   1                2     3     4     5     6     7     8     9      10  \\\n",
       "0  1\\n   2           москва  1039  2080  4609  6133  7194  8057  8878  10126   \n",
       "1  2\\n   1  санкт-петербург  1265  1737  3431  3390  4033  4569  4989   4661   \n",
       "2  3\\n          новосибирск     8   120   404   885  1161  1309  1420   1426   \n",
       "3  4\\n  35     екатеринбург    43   140   423   779  1025  1210  1296   1294   \n",
       "4  5\\n   4           казань   130   179   406   667   869   989  1085   1105   \n",
       "\n",
       "      11     12     13     14     15     16     17     18     19     20  \\\n",
       "0  11504  11541  11613  11980  12108  12198  12330  12381  12506  12615   \n",
       "1   4880   4899   4953   5028   5132   5192   5226   5282   5352   5384   \n",
       "2   1474   1475   1499   1524   1548   1567   1584   1603   1613   1618   \n",
       "3   1350   1353   1378   1396   1412   1428   1444   1456   1469   1483   \n",
       "4   1144   1145   1161   1176   1191   1206   1217   1232   1244   1252   \n",
       "\n",
       "      21     22           23  \n",
       "0  12678  12655  12632[19]\\n  \n",
       "1   5398   5384   5377[19]\\n  \n",
       "2   1626   1620           \\n  \n",
       "3   1494   1495   1492[20]\\n  \n",
       "4   1257   1257           \\n  "
      ]
     },
     "metadata": {},
     "output_type": "display_data"
    }
   ],
   "source": [
    "for data in [3, 4, 5, 6, 7, 8, 9, 10, 11, 12, 13, 14, 15, 16, 17, 18, 19, 20, 21, 22]:\n",
    "    rus_city[data] = rus_city[data].astype('int64')\n",
    "    \n",
    "display(rus_city.head(5))\n",
    "#Не знаю как, но изменение типа на int64 вместо ранее запланированного int32\n",
    "#правильно отработало и на данных типа 12655\\n\n",
    "#int32 так не смог сделать\n",
    "# надо бы потом поискать объяснение данного факта"
   ]
  },
  {
   "cell_type": "markdown",
   "metadata": {},
   "source": [
    "Ну раз все у нас получилось, то оставим только 2 и 19 столбцы"
   ]
  },
  {
   "cell_type": "code",
   "execution_count": 27,
   "metadata": {},
   "outputs": [],
   "source": [
    "rus_city = rus_city[[2, 19]] # нас интересует название города и 2018 год\n",
    "rus_city.columns = ['city', 'population_2018']"
   ]
  },
  {
   "cell_type": "code",
   "execution_count": 28,
   "metadata": {},
   "outputs": [
    {
     "data": {
      "text/html": [
       "<div>\n",
       "<style scoped>\n",
       "    .dataframe tbody tr th:only-of-type {\n",
       "        vertical-align: middle;\n",
       "    }\n",
       "\n",
       "    .dataframe tbody tr th {\n",
       "        vertical-align: top;\n",
       "    }\n",
       "\n",
       "    .dataframe thead th {\n",
       "        text-align: right;\n",
       "    }\n",
       "</style>\n",
       "<table border=\"1\" class=\"dataframe\">\n",
       "  <thead>\n",
       "    <tr style=\"text-align: right;\">\n",
       "      <th></th>\n",
       "      <th>city</th>\n",
       "      <th>population_2018</th>\n",
       "    </tr>\n",
       "  </thead>\n",
       "  <tbody>\n",
       "    <tr>\n",
       "      <th>0</th>\n",
       "      <td>москва</td>\n",
       "      <td>12506</td>\n",
       "    </tr>\n",
       "    <tr>\n",
       "      <th>1</th>\n",
       "      <td>санкт-петербург</td>\n",
       "      <td>5352</td>\n",
       "    </tr>\n",
       "    <tr>\n",
       "      <th>2</th>\n",
       "      <td>новосибирск</td>\n",
       "      <td>1613</td>\n",
       "    </tr>\n",
       "    <tr>\n",
       "      <th>3</th>\n",
       "      <td>екатеринбург</td>\n",
       "      <td>1469</td>\n",
       "    </tr>\n",
       "    <tr>\n",
       "      <th>5</th>\n",
       "      <td>нижний новгород</td>\n",
       "      <td>1259</td>\n",
       "    </tr>\n",
       "  </tbody>\n",
       "</table>\n",
       "</div>"
      ],
      "text/plain": [
       "              city  population_2018\n",
       "0           москва            12506\n",
       "1  санкт-петербург             5352\n",
       "2      новосибирск             1613\n",
       "3     екатеринбург             1469\n",
       "5  нижний новгород             1259"
      ]
     },
     "metadata": {},
     "output_type": "display_data"
    }
   ],
   "source": [
    "rus_city.sort_values(by='population_2018', ascending=False, inplace=True)\n",
    "display(rus_city.head(5))"
   ]
  },
  {
   "cell_type": "code",
   "execution_count": 29,
   "metadata": {},
   "outputs": [
    {
     "data": {
      "text/plain": [
       "['москва',\n",
       " 'санкт-петербург',\n",
       " 'новосибирск',\n",
       " 'екатеринбург',\n",
       " 'нижний новгород',\n",
       " 'казань',\n",
       " 'челябинск',\n",
       " 'омск',\n",
       " 'самара',\n",
       " 'ростов-на-дону',\n",
       " 'уфа',\n",
       " 'красноярск',\n",
       " 'пермь',\n",
       " 'воронеж',\n",
       " 'волгоград',\n",
       " 'краснодар',\n",
       " 'саратов',\n",
       " 'тюмень',\n",
       " 'тольятти',\n",
       " 'ижевск',\n",
       " 'барнаул',\n",
       " 'ульяновск',\n",
       " 'иркутск',\n",
       " 'хабаровск',\n",
       " 'ярославль',\n",
       " 'владивосток',\n",
       " 'махачкала',\n",
       " 'томск',\n",
       " 'оренбург',\n",
       " 'кемерово',\n",
       " 'новокузнецк',\n",
       " 'рязань',\n",
       " 'астрахань',\n",
       " 'набережные челны',\n",
       " 'пенза',\n",
       " 'липецк',\n",
       " 'киров',\n",
       " 'чебоксары',\n",
       " 'тула',\n",
       " 'калининград\\n',\n",
       " 'балашиха[27]',\n",
       " 'курск',\n",
       " 'севастополь[крым 1][26]',\n",
       " 'улан-удэ',\n",
       " 'ставрополь',\n",
       " 'сочи',\n",
       " 'тверь',\n",
       " 'магнитогорск',\n",
       " 'иваново',\n",
       " 'брянск',\n",
       " 'белгород',\n",
       " 'сургут',\n",
       " 'владимир',\n",
       " 'нижний тагил',\n",
       " 'архангельск',\n",
       " 'чита',\n",
       " 'симферополь[крым 1][26]',\n",
       " 'калуга',\n",
       " 'смоленск',\n",
       " 'волжский',\n",
       " 'саранск',\n",
       " 'череповец',\n",
       " 'курган',\n",
       " 'орёл',\n",
       " 'якутск',\n",
       " 'вологда',\n",
       " 'владикавказ',\n",
       " 'подольск[33]',\n",
       " 'грозный',\n",
       " 'мурманск',\n",
       " 'тамбов',\n",
       " 'стерлитамак',\n",
       " 'петрозаводск',\n",
       " 'кострома',\n",
       " 'нижневартовск',\n",
       " 'новороссийск',\n",
       " 'йошкар-ола',\n",
       " 'химки',\n",
       " 'таганрог',\n",
       " 'комсомольск-на-амуре',\n",
       " 'сыктывкар',\n",
       " 'нальчик',\n",
       " 'нижнекамск',\n",
       " 'шахты',\n",
       " 'дзержинск',\n",
       " 'братск',\n",
       " 'орск',\n",
       " 'энгельс',\n",
       " 'ангарск',\n",
       " 'благовещенск',\n",
       " 'старый оскол',\n",
       " 'королёв[40]',\n",
       " 'великий новгород',\n",
       " 'мытищи',\n",
       " 'псков',\n",
       " 'люберцы',\n",
       " 'бийск',\n",
       " 'южно-сахалинск',\n",
       " 'прокопьевск',\n",
       " 'армавир',\n",
       " 'балаково',\n",
       " 'рыбинск',\n",
       " 'абакан',\n",
       " 'северодвинск',\n",
       " 'петропавловск-камчатский',\n",
       " 'норильск',\n",
       " 'уссурийск',\n",
       " 'волгодонск',\n",
       " 'сызрань',\n",
       " 'каменск-уральский',\n",
       " 'новочеркасск',\n",
       " 'златоуст',\n",
       " 'красногорск',\n",
       " 'электросталь',\n",
       " 'альметьевск',\n",
       " 'миасс',\n",
       " 'салават',\n",
       " 'керчь[крым 1][26]',\n",
       " 'находка',\n",
       " 'копейск',\n",
       " 'пятигорск',\n",
       " 'рубцовск',\n",
       " 'коломна',\n",
       " 'березники',\n",
       " 'майкоп',\n",
       " 'хасавюрт',\n",
       " 'одинцово',\n",
       " 'ковров',\n",
       " 'кисловодск',\n",
       " 'домодедово',\n",
       " 'нефтекамск',\n",
       " 'нефтеюганск',\n",
       " 'новочебоксарск',\n",
       " 'батайск',\n",
       " 'щёлково',\n",
       " 'серпухов',\n",
       " 'новомосковск',\n",
       " 'дербент',\n",
       " 'первоуральск',\n",
       " 'черкесск',\n",
       " 'орехово-зуево',\n",
       " 'назрань',\n",
       " 'кызыл',\n",
       " 'невинномысск',\n",
       " 'раменское',\n",
       " 'каспийск',\n",
       " 'новый уренгой',\n",
       " 'обнинск',\n",
       " 'димитровград',\n",
       " 'октябрьский',\n",
       " 'камышин',\n",
       " 'муром',\n",
       " 'ессентуки',\n",
       " 'долгопрудный',\n",
       " 'жуковский',\n",
       " 'новошахтинск',\n",
       " 'артём',\n",
       " 'евпатория[крым 1][26]',\n",
       " 'ноябрьск',\n",
       " 'северск',\n",
       " 'пушкино',\n",
       " 'ачинск',\n",
       " 'реутов',\n",
       " 'бердск',\n",
       " 'арзамас',\n",
       " 'елец',\n",
       " 'элиста',\n",
       " 'ногинск',\n",
       " 'железногорск',\n",
       " 'зеленодольск',\n",
       " 'ханты-мансийск']"
      ]
     },
     "execution_count": 29,
     "metadata": {},
     "output_type": "execute_result"
    }
   ],
   "source": [
    "rus_city['city'].unique().tolist() # калининград\\n - увидел только один артефакт"
   ]
  },
  {
   "cell_type": "markdown",
   "metadata": {},
   "source": [
    "Исправим калининград\\n"
   ]
  },
  {
   "cell_type": "code",
   "execution_count": 30,
   "metadata": {},
   "outputs": [
    {
     "data": {
      "text/plain": [
       "['москва',\n",
       " 'санкт-петербург',\n",
       " 'новосибирск',\n",
       " 'екатеринбург',\n",
       " 'нижний новгород',\n",
       " 'казань',\n",
       " 'челябинск',\n",
       " 'омск',\n",
       " 'самара',\n",
       " 'ростов-на-дону',\n",
       " 'уфа',\n",
       " 'красноярск',\n",
       " 'пермь',\n",
       " 'воронеж',\n",
       " 'волгоград',\n",
       " 'краснодар',\n",
       " 'саратов',\n",
       " 'тюмень',\n",
       " 'тольятти',\n",
       " 'ижевск',\n",
       " 'барнаул',\n",
       " 'ульяновск',\n",
       " 'иркутск',\n",
       " 'хабаровск',\n",
       " 'ярославль',\n",
       " 'владивосток',\n",
       " 'махачкала',\n",
       " 'томск',\n",
       " 'оренбург',\n",
       " 'кемерово',\n",
       " 'новокузнецк',\n",
       " 'рязань',\n",
       " 'астрахань',\n",
       " 'набережные челны',\n",
       " 'пенза',\n",
       " 'липецк',\n",
       " 'киров',\n",
       " 'чебоксары',\n",
       " 'тула',\n",
       " 'калининград',\n",
       " 'балашиха[27]',\n",
       " 'курск',\n",
       " 'севастополь[крым 1][26]',\n",
       " 'улан-удэ',\n",
       " 'ставрополь',\n",
       " 'сочи',\n",
       " 'тверь',\n",
       " 'магнитогорск',\n",
       " 'иваново',\n",
       " 'брянск',\n",
       " 'белгород',\n",
       " 'сургут',\n",
       " 'владимир',\n",
       " 'нижний тагил',\n",
       " 'архангельск',\n",
       " 'чита',\n",
       " 'симферополь[крым 1][26]',\n",
       " 'калуга',\n",
       " 'смоленск',\n",
       " 'волжский',\n",
       " 'саранск',\n",
       " 'череповец',\n",
       " 'курган',\n",
       " 'орёл',\n",
       " 'якутск',\n",
       " 'вологда',\n",
       " 'владикавказ',\n",
       " 'подольск[33]',\n",
       " 'грозный',\n",
       " 'мурманск',\n",
       " 'тамбов',\n",
       " 'стерлитамак',\n",
       " 'петрозаводск',\n",
       " 'кострома',\n",
       " 'нижневартовск',\n",
       " 'новороссийск',\n",
       " 'йошкар-ола',\n",
       " 'химки',\n",
       " 'таганрог',\n",
       " 'комсомольск-на-амуре',\n",
       " 'сыктывкар',\n",
       " 'нальчик',\n",
       " 'нижнекамск',\n",
       " 'шахты',\n",
       " 'дзержинск',\n",
       " 'братск',\n",
       " 'орск',\n",
       " 'энгельс',\n",
       " 'ангарск',\n",
       " 'благовещенск',\n",
       " 'старый оскол',\n",
       " 'королёв[40]',\n",
       " 'великий новгород',\n",
       " 'мытищи',\n",
       " 'псков',\n",
       " 'люберцы',\n",
       " 'бийск',\n",
       " 'южно-сахалинск',\n",
       " 'прокопьевск',\n",
       " 'армавир',\n",
       " 'балаково',\n",
       " 'рыбинск',\n",
       " 'абакан',\n",
       " 'северодвинск',\n",
       " 'петропавловск-камчатский',\n",
       " 'норильск',\n",
       " 'уссурийск',\n",
       " 'волгодонск',\n",
       " 'сызрань',\n",
       " 'каменск-уральский',\n",
       " 'новочеркасск',\n",
       " 'златоуст',\n",
       " 'красногорск',\n",
       " 'электросталь',\n",
       " 'альметьевск',\n",
       " 'миасс',\n",
       " 'салават',\n",
       " 'керчь[крым 1][26]',\n",
       " 'находка',\n",
       " 'копейск',\n",
       " 'пятигорск',\n",
       " 'рубцовск',\n",
       " 'коломна',\n",
       " 'березники',\n",
       " 'майкоп',\n",
       " 'хасавюрт',\n",
       " 'одинцово',\n",
       " 'ковров',\n",
       " 'кисловодск',\n",
       " 'домодедово',\n",
       " 'нефтекамск',\n",
       " 'нефтеюганск',\n",
       " 'новочебоксарск',\n",
       " 'батайск',\n",
       " 'щёлково',\n",
       " 'серпухов',\n",
       " 'новомосковск',\n",
       " 'дербент',\n",
       " 'первоуральск',\n",
       " 'черкесск',\n",
       " 'орехово-зуево',\n",
       " 'назрань',\n",
       " 'кызыл',\n",
       " 'невинномысск',\n",
       " 'раменское',\n",
       " 'каспийск',\n",
       " 'новый уренгой',\n",
       " 'обнинск',\n",
       " 'димитровград',\n",
       " 'октябрьский',\n",
       " 'камышин',\n",
       " 'муром',\n",
       " 'ессентуки',\n",
       " 'долгопрудный',\n",
       " 'жуковский',\n",
       " 'новошахтинск',\n",
       " 'артём',\n",
       " 'евпатория[крым 1][26]',\n",
       " 'ноябрьск',\n",
       " 'северск',\n",
       " 'пушкино',\n",
       " 'ачинск',\n",
       " 'реутов',\n",
       " 'бердск',\n",
       " 'арзамас',\n",
       " 'елец',\n",
       " 'элиста',\n",
       " 'ногинск',\n",
       " 'железногорск',\n",
       " 'зеленодольск',\n",
       " 'ханты-мансийск']"
      ]
     },
     "execution_count": 30,
     "metadata": {},
     "output_type": "execute_result"
    }
   ],
   "source": [
    "rus_city['city'] = rus_city['city'].replace('калининград\\n', 'калининград')\n",
    "rus_city['city'].unique().tolist() # и сразу проверим"
   ]
  },
  {
   "cell_type": "code",
   "execution_count": 31,
   "metadata": {},
   "outputs": [
    {
     "name": "stdout",
     "output_type": "stream",
     "text": [
      "<class 'pandas.core.frame.DataFrame'>\n",
      "Int64Index: 171 entries, 0 to 166\n",
      "Data columns (total 2 columns):\n",
      " #   Column           Non-Null Count  Dtype \n",
      "---  ------           --------------  ----- \n",
      " 0   city             171 non-null    object\n",
      " 1   population_2018  171 non-null    int64 \n",
      "dtypes: int64(1), object(1)\n",
      "memory usage: 4.0+ KB\n"
     ]
    }
   ],
   "source": [
    "rus_city.info()"
   ]
  },
  {
   "cell_type": "markdown",
   "metadata": {},
   "source": [
    "Соединим таблицы"
   ]
  },
  {
   "cell_type": "code",
   "execution_count": 32,
   "metadata": {},
   "outputs": [
    {
     "data": {
      "text/html": [
       "<div>\n",
       "<style scoped>\n",
       "    .dataframe tbody tr th:only-of-type {\n",
       "        vertical-align: middle;\n",
       "    }\n",
       "\n",
       "    .dataframe tbody tr th {\n",
       "        vertical-align: top;\n",
       "    }\n",
       "\n",
       "    .dataframe thead th {\n",
       "        text-align: right;\n",
       "    }\n",
       "</style>\n",
       "<table border=\"1\" class=\"dataframe\">\n",
       "  <thead>\n",
       "    <tr style=\"text-align: right;\">\n",
       "      <th></th>\n",
       "      <th>city</th>\n",
       "      <th>average_flights</th>\n",
       "      <th>population_2018</th>\n",
       "    </tr>\n",
       "  </thead>\n",
       "  <tbody>\n",
       "    <tr>\n",
       "      <th>43</th>\n",
       "      <td>москва</td>\n",
       "      <td>129.77</td>\n",
       "      <td>12506.00</td>\n",
       "    </tr>\n",
       "    <tr>\n",
       "      <th>70</th>\n",
       "      <td>санкт-петербург</td>\n",
       "      <td>31.16</td>\n",
       "      <td>5352.00</td>\n",
       "    </tr>\n",
       "    <tr>\n",
       "      <th>54</th>\n",
       "      <td>новосибирск</td>\n",
       "      <td>17.32</td>\n",
       "      <td>1613.00</td>\n",
       "    </tr>\n",
       "    <tr>\n",
       "      <th>20</th>\n",
       "      <td>екатеринбург</td>\n",
       "      <td>11.32</td>\n",
       "      <td>1469.00</td>\n",
       "    </tr>\n",
       "    <tr>\n",
       "      <th>52</th>\n",
       "      <td>нижний новгород</td>\n",
       "      <td>5.87</td>\n",
       "      <td>1259.00</td>\n",
       "    </tr>\n",
       "    <tr>\n",
       "      <th>25</th>\n",
       "      <td>казань</td>\n",
       "      <td>7.74</td>\n",
       "      <td>1244.00</td>\n",
       "    </tr>\n",
       "    <tr>\n",
       "      <th>94</th>\n",
       "      <td>челябинск</td>\n",
       "      <td>6.71</td>\n",
       "      <td>1202.00</td>\n",
       "    </tr>\n",
       "    <tr>\n",
       "      <th>59</th>\n",
       "      <td>омск</td>\n",
       "      <td>3.29</td>\n",
       "      <td>1172.00</td>\n",
       "    </tr>\n",
       "    <tr>\n",
       "      <th>69</th>\n",
       "      <td>самара</td>\n",
       "      <td>3.00</td>\n",
       "      <td>1163.00</td>\n",
       "    </tr>\n",
       "    <tr>\n",
       "      <th>67</th>\n",
       "      <td>ростов-на-дону</td>\n",
       "      <td>10.19</td>\n",
       "      <td>1130.00</td>\n",
       "    </tr>\n",
       "  </tbody>\n",
       "</table>\n",
       "</div>"
      ],
      "text/plain": [
       "               city  average_flights  population_2018\n",
       "43           москва           129.77         12506.00\n",
       "70  санкт-петербург            31.16          5352.00\n",
       "54      новосибирск            17.32          1613.00\n",
       "20     екатеринбург            11.32          1469.00\n",
       "52  нижний новгород             5.87          1259.00\n",
       "25           казань             7.74          1244.00\n",
       "94        челябинск             6.71          1202.00\n",
       "59             омск             3.29          1172.00\n",
       "69           самара             3.00          1163.00\n",
       "67   ростов-на-дону            10.19          1130.00"
      ]
     },
     "metadata": {},
     "output_type": "display_data"
    }
   ],
   "source": [
    "city_all = query_3_data.merge(rus_city, left_on=['city'], right_on=['city'], how='left')\n",
    "display(city_all.sort_values(by='population_2018', ascending=False).head(10))"
   ]
  },
  {
   "cell_type": "code",
   "execution_count": 33,
   "metadata": {},
   "outputs": [
    {
     "data": {
      "text/html": [
       "<div>\n",
       "<style scoped>\n",
       "    .dataframe tbody tr th:only-of-type {\n",
       "        vertical-align: middle;\n",
       "    }\n",
       "\n",
       "    .dataframe tbody tr th {\n",
       "        vertical-align: top;\n",
       "    }\n",
       "\n",
       "    .dataframe thead th {\n",
       "        text-align: right;\n",
       "    }\n",
       "</style>\n",
       "<table border=\"1\" class=\"dataframe\">\n",
       "  <thead>\n",
       "    <tr style=\"text-align: right;\">\n",
       "      <th></th>\n",
       "      <th>city</th>\n",
       "      <th>average_flights</th>\n",
       "      <th>population_2018</th>\n",
       "    </tr>\n",
       "  </thead>\n",
       "  <tbody>\n",
       "    <tr>\n",
       "      <th>43</th>\n",
       "      <td>москва</td>\n",
       "      <td>129.77</td>\n",
       "      <td>12506.00</td>\n",
       "    </tr>\n",
       "    <tr>\n",
       "      <th>70</th>\n",
       "      <td>санкт-петербург</td>\n",
       "      <td>31.16</td>\n",
       "      <td>5352.00</td>\n",
       "    </tr>\n",
       "    <tr>\n",
       "      <th>54</th>\n",
       "      <td>новосибирск</td>\n",
       "      <td>17.32</td>\n",
       "      <td>1613.00</td>\n",
       "    </tr>\n",
       "    <tr>\n",
       "      <th>33</th>\n",
       "      <td>красноярск</td>\n",
       "      <td>11.58</td>\n",
       "      <td>1091.00</td>\n",
       "    </tr>\n",
       "    <tr>\n",
       "      <th>20</th>\n",
       "      <td>екатеринбург</td>\n",
       "      <td>11.32</td>\n",
       "      <td>1469.00</td>\n",
       "    </tr>\n",
       "    <tr>\n",
       "      <th>67</th>\n",
       "      <td>ростов-на-дону</td>\n",
       "      <td>10.19</td>\n",
       "      <td>1130.00</td>\n",
       "    </tr>\n",
       "    <tr>\n",
       "      <th>63</th>\n",
       "      <td>пермь</td>\n",
       "      <td>10.13</td>\n",
       "      <td>1052.00</td>\n",
       "    </tr>\n",
       "    <tr>\n",
       "      <th>10</th>\n",
       "      <td>брянск</td>\n",
       "      <td>10.00</td>\n",
       "      <td>406.00</td>\n",
       "    </tr>\n",
       "    <tr>\n",
       "      <th>74</th>\n",
       "      <td>сочи</td>\n",
       "      <td>9.61</td>\n",
       "      <td>424.00</td>\n",
       "    </tr>\n",
       "    <tr>\n",
       "      <th>84</th>\n",
       "      <td>ульяновск</td>\n",
       "      <td>9.58</td>\n",
       "      <td>627.00</td>\n",
       "    </tr>\n",
       "  </tbody>\n",
       "</table>\n",
       "</div>"
      ],
      "text/plain": [
       "               city  average_flights  population_2018\n",
       "43           москва           129.77         12506.00\n",
       "70  санкт-петербург            31.16          5352.00\n",
       "54      новосибирск            17.32          1613.00\n",
       "33       красноярск            11.58          1091.00\n",
       "20     екатеринбург            11.32          1469.00\n",
       "67   ростов-на-дону            10.19          1130.00\n",
       "63            пермь            10.13          1052.00\n",
       "10           брянск            10.00           406.00\n",
       "74             сочи             9.61           424.00\n",
       "84        ульяновск             9.58           627.00"
      ]
     },
     "metadata": {},
     "output_type": "display_data"
    }
   ],
   "source": [
    "city_all = query_3_data.merge(rus_city, left_on=['city'], right_on=['city'], how='left')\n",
    "display(city_all.sort_values(by='average_flights', ascending=False).head(10))"
   ]
  },
  {
   "cell_type": "code",
   "execution_count": 34,
   "metadata": {},
   "outputs": [
    {
     "name": "stdout",
     "output_type": "stream",
     "text": [
      "<class 'pandas.core.frame.DataFrame'>\n",
      "Int64Index: 101 entries, 0 to 100\n",
      "Data columns (total 3 columns):\n",
      " #   Column           Non-Null Count  Dtype  \n",
      "---  ------           --------------  -----  \n",
      " 0   city             101 non-null    object \n",
      " 1   average_flights  101 non-null    float64\n",
      " 2   population_2018  77 non-null     float64\n",
      "dtypes: float64(2), object(1)\n",
      "memory usage: 3.2+ KB\n"
     ]
    }
   ],
   "source": [
    "city_all.info()"
   ]
  },
  {
   "cell_type": "markdown",
   "metadata": {},
   "source": [
    "Интересно, из Википедии взяли 171 город, но не у всех городов из нашей первоначальной таблицы оказались совмещенными данные. Посмотрим, у каких городов не оказалось данных по населению?"
   ]
  },
  {
   "cell_type": "code",
   "execution_count": 35,
   "metadata": {},
   "outputs": [
    {
     "data": {
      "text/html": [
       "<div>\n",
       "<style scoped>\n",
       "    .dataframe tbody tr th:only-of-type {\n",
       "        vertical-align: middle;\n",
       "    }\n",
       "\n",
       "    .dataframe tbody tr th {\n",
       "        vertical-align: top;\n",
       "    }\n",
       "\n",
       "    .dataframe thead th {\n",
       "        text-align: right;\n",
       "    }\n",
       "</style>\n",
       "<table border=\"1\" class=\"dataframe\">\n",
       "  <thead>\n",
       "    <tr style=\"text-align: right;\">\n",
       "      <th></th>\n",
       "      <th>city</th>\n",
       "      <th>average_flights</th>\n",
       "      <th>population_2018</th>\n",
       "    </tr>\n",
       "  </thead>\n",
       "  <tbody>\n",
       "    <tr>\n",
       "      <th>73</th>\n",
       "      <td>советский</td>\n",
       "      <td>9.00</td>\n",
       "      <td>NaN</td>\n",
       "    </tr>\n",
       "    <tr>\n",
       "      <th>42</th>\n",
       "      <td>мирный</td>\n",
       "      <td>6.29</td>\n",
       "      <td>NaN</td>\n",
       "    </tr>\n",
       "    <tr>\n",
       "      <th>15</th>\n",
       "      <td>воркута</td>\n",
       "      <td>4.58</td>\n",
       "      <td>NaN</td>\n",
       "    </tr>\n",
       "    <tr>\n",
       "      <th>41</th>\n",
       "      <td>минеральные воды</td>\n",
       "      <td>3.42</td>\n",
       "      <td>NaN</td>\n",
       "    </tr>\n",
       "    <tr>\n",
       "      <th>30</th>\n",
       "      <td>когалым</td>\n",
       "      <td>3.16</td>\n",
       "      <td>NaN</td>\n",
       "    </tr>\n",
       "    <tr>\n",
       "      <th>90</th>\n",
       "      <td>ухта</td>\n",
       "      <td>3.00</td>\n",
       "      <td>NaN</td>\n",
       "    </tr>\n",
       "    <tr>\n",
       "      <th>11</th>\n",
       "      <td>бугульма</td>\n",
       "      <td>3.00</td>\n",
       "      <td>NaN</td>\n",
       "    </tr>\n",
       "    <tr>\n",
       "      <th>82</th>\n",
       "      <td>удачный</td>\n",
       "      <td>3.00</td>\n",
       "      <td>NaN</td>\n",
       "    </tr>\n",
       "    <tr>\n",
       "      <th>87</th>\n",
       "      <td>усть-илимск</td>\n",
       "      <td>2.87</td>\n",
       "      <td>NaN</td>\n",
       "    </tr>\n",
       "    <tr>\n",
       "      <th>47</th>\n",
       "      <td>нарьян-мар</td>\n",
       "      <td>2.61</td>\n",
       "      <td>NaN</td>\n",
       "    </tr>\n",
       "    <tr>\n",
       "      <th>17</th>\n",
       "      <td>геленджик</td>\n",
       "      <td>2.59</td>\n",
       "      <td>NaN</td>\n",
       "    </tr>\n",
       "    <tr>\n",
       "      <th>48</th>\n",
       "      <td>нерюнгри</td>\n",
       "      <td>2.58</td>\n",
       "      <td>NaN</td>\n",
       "    </tr>\n",
       "    <tr>\n",
       "      <th>45</th>\n",
       "      <td>надым</td>\n",
       "      <td>2.29</td>\n",
       "      <td>NaN</td>\n",
       "    </tr>\n",
       "    <tr>\n",
       "      <th>2</th>\n",
       "      <td>анапа</td>\n",
       "      <td>2.16</td>\n",
       "      <td>NaN</td>\n",
       "    </tr>\n",
       "    <tr>\n",
       "      <th>68</th>\n",
       "      <td>салехард</td>\n",
       "      <td>2.00</td>\n",
       "      <td>NaN</td>\n",
       "    </tr>\n",
       "    <tr>\n",
       "      <th>85</th>\n",
       "      <td>урай</td>\n",
       "      <td>2.00</td>\n",
       "      <td>NaN</td>\n",
       "    </tr>\n",
       "    <tr>\n",
       "      <th>7</th>\n",
       "      <td>белоярский</td>\n",
       "      <td>2.00</td>\n",
       "      <td>NaN</td>\n",
       "    </tr>\n",
       "    <tr>\n",
       "      <th>18</th>\n",
       "      <td>горно-алтайск</td>\n",
       "      <td>1.39</td>\n",
       "      <td>NaN</td>\n",
       "    </tr>\n",
       "    <tr>\n",
       "      <th>38</th>\n",
       "      <td>магадан</td>\n",
       "      <td>1.36</td>\n",
       "      <td>NaN</td>\n",
       "    </tr>\n",
       "    <tr>\n",
       "      <th>58</th>\n",
       "      <td>нягань</td>\n",
       "      <td>1.00</td>\n",
       "      <td>NaN</td>\n",
       "    </tr>\n",
       "    <tr>\n",
       "      <th>76</th>\n",
       "      <td>стрежевой</td>\n",
       "      <td>1.00</td>\n",
       "      <td>NaN</td>\n",
       "    </tr>\n",
       "    <tr>\n",
       "      <th>86</th>\n",
       "      <td>усинск</td>\n",
       "      <td>1.00</td>\n",
       "      <td>NaN</td>\n",
       "    </tr>\n",
       "    <tr>\n",
       "      <th>88</th>\n",
       "      <td>усть-кут</td>\n",
       "      <td>1.00</td>\n",
       "      <td>NaN</td>\n",
       "    </tr>\n",
       "    <tr>\n",
       "      <th>1</th>\n",
       "      <td>анадырь</td>\n",
       "      <td>1.00</td>\n",
       "      <td>NaN</td>\n",
       "    </tr>\n",
       "  </tbody>\n",
       "</table>\n",
       "</div>"
      ],
      "text/plain": [
       "                city  average_flights  population_2018\n",
       "73         советский             9.00              NaN\n",
       "42            мирный             6.29              NaN\n",
       "15           воркута             4.58              NaN\n",
       "41  минеральные воды             3.42              NaN\n",
       "30           когалым             3.16              NaN\n",
       "90              ухта             3.00              NaN\n",
       "11          бугульма             3.00              NaN\n",
       "82           удачный             3.00              NaN\n",
       "87       усть-илимск             2.87              NaN\n",
       "47        нарьян-мар             2.61              NaN\n",
       "17         геленджик             2.59              NaN\n",
       "48          нерюнгри             2.58              NaN\n",
       "45             надым             2.29              NaN\n",
       "2              анапа             2.16              NaN\n",
       "68          салехард             2.00              NaN\n",
       "85              урай             2.00              NaN\n",
       "7         белоярский             2.00              NaN\n",
       "18     горно-алтайск             1.39              NaN\n",
       "38           магадан             1.36              NaN\n",
       "58            нягань             1.00              NaN\n",
       "76         стрежевой             1.00              NaN\n",
       "86            усинск             1.00              NaN\n",
       "88          усть-кут             1.00              NaN\n",
       "1            анадырь             1.00              NaN"
      ]
     },
     "execution_count": 35,
     "metadata": {},
     "output_type": "execute_result"
    }
   ],
   "source": [
    "city_all[pd.isnull(city_all['population_2018'])].sort_values(by='average_flights', ascending=False) # смотрим строки с NaN в столбце "
   ]
  },
  {
   "cell_type": "code",
   "execution_count": 36,
   "metadata": {},
   "outputs": [
    {
     "data": {
      "text/plain": [
       "24"
      ]
     },
     "execution_count": 36,
     "metadata": {},
     "output_type": "execute_result"
    }
   ],
   "source": [
    "len(city_all[pd.isnull(city_all['population_2018'])].sort_values(by='average_flights', ascending=True))"
   ]
  },
  {
   "cell_type": "markdown",
   "metadata": {},
   "source": [
    "Какая-то ошибочка у нас с объединением двух таблиц произошла, 24 городов не хватает. <br/>\n",
    "Это не с объединением. Просто некоторые города не превышают численность населения в 100 тыс. чел. и данных на них нет в этой таблице.<br/>\n",
    "Посмотрим немного более подробно"
   ]
  },
  {
   "cell_type": "code",
   "execution_count": 37,
   "metadata": {},
   "outputs": [
    {
     "data": {
      "text/html": [
       "<div>\n",
       "<style scoped>\n",
       "    .dataframe tbody tr th:only-of-type {\n",
       "        vertical-align: middle;\n",
       "    }\n",
       "\n",
       "    .dataframe tbody tr th {\n",
       "        vertical-align: top;\n",
       "    }\n",
       "\n",
       "    .dataframe thead th {\n",
       "        text-align: right;\n",
       "    }\n",
       "</style>\n",
       "<table border=\"1\" class=\"dataframe\">\n",
       "  <thead>\n",
       "    <tr style=\"text-align: right;\">\n",
       "      <th></th>\n",
       "      <th>city</th>\n",
       "      <th>average_flights</th>\n",
       "      <th>population_2018</th>\n",
       "    </tr>\n",
       "  </thead>\n",
       "  <tbody>\n",
       "    <tr>\n",
       "      <th>43</th>\n",
       "      <td>москва</td>\n",
       "      <td>129.77</td>\n",
       "      <td>12506.00</td>\n",
       "    </tr>\n",
       "    <tr>\n",
       "      <th>70</th>\n",
       "      <td>санкт-петербург</td>\n",
       "      <td>31.16</td>\n",
       "      <td>5352.00</td>\n",
       "    </tr>\n",
       "    <tr>\n",
       "      <th>54</th>\n",
       "      <td>новосибирск</td>\n",
       "      <td>17.32</td>\n",
       "      <td>1613.00</td>\n",
       "    </tr>\n",
       "    <tr>\n",
       "      <th>20</th>\n",
       "      <td>екатеринбург</td>\n",
       "      <td>11.32</td>\n",
       "      <td>1469.00</td>\n",
       "    </tr>\n",
       "    <tr>\n",
       "      <th>52</th>\n",
       "      <td>нижний новгород</td>\n",
       "      <td>5.87</td>\n",
       "      <td>1259.00</td>\n",
       "    </tr>\n",
       "    <tr>\n",
       "      <th>25</th>\n",
       "      <td>казань</td>\n",
       "      <td>7.74</td>\n",
       "      <td>1244.00</td>\n",
       "    </tr>\n",
       "    <tr>\n",
       "      <th>94</th>\n",
       "      <td>челябинск</td>\n",
       "      <td>6.71</td>\n",
       "      <td>1202.00</td>\n",
       "    </tr>\n",
       "    <tr>\n",
       "      <th>59</th>\n",
       "      <td>омск</td>\n",
       "      <td>3.29</td>\n",
       "      <td>1172.00</td>\n",
       "    </tr>\n",
       "    <tr>\n",
       "      <th>69</th>\n",
       "      <td>самара</td>\n",
       "      <td>3.00</td>\n",
       "      <td>1163.00</td>\n",
       "    </tr>\n",
       "    <tr>\n",
       "      <th>67</th>\n",
       "      <td>ростов-на-дону</td>\n",
       "      <td>10.19</td>\n",
       "      <td>1130.00</td>\n",
       "    </tr>\n",
       "    <tr>\n",
       "      <th>89</th>\n",
       "      <td>уфа</td>\n",
       "      <td>6.29</td>\n",
       "      <td>1121.00</td>\n",
       "    </tr>\n",
       "    <tr>\n",
       "      <th>33</th>\n",
       "      <td>красноярск</td>\n",
       "      <td>11.58</td>\n",
       "      <td>1091.00</td>\n",
       "    </tr>\n",
       "    <tr>\n",
       "      <th>63</th>\n",
       "      <td>пермь</td>\n",
       "      <td>10.13</td>\n",
       "      <td>1052.00</td>\n",
       "    </tr>\n",
       "    <tr>\n",
       "      <th>16</th>\n",
       "      <td>воронеж</td>\n",
       "      <td>2.00</td>\n",
       "      <td>1048.00</td>\n",
       "    </tr>\n",
       "    <tr>\n",
       "      <th>14</th>\n",
       "      <td>волгоград</td>\n",
       "      <td>5.13</td>\n",
       "      <td>1014.00</td>\n",
       "    </tr>\n",
       "    <tr>\n",
       "      <th>32</th>\n",
       "      <td>краснодар</td>\n",
       "      <td>3.90</td>\n",
       "      <td>900.00</td>\n",
       "    </tr>\n",
       "  </tbody>\n",
       "</table>\n",
       "</div>"
      ],
      "text/plain": [
       "               city  average_flights  population_2018\n",
       "43           москва           129.77         12506.00\n",
       "70  санкт-петербург            31.16          5352.00\n",
       "54      новосибирск            17.32          1613.00\n",
       "20     екатеринбург            11.32          1469.00\n",
       "52  нижний новгород             5.87          1259.00\n",
       "25           казань             7.74          1244.00\n",
       "94        челябинск             6.71          1202.00\n",
       "59             омск             3.29          1172.00\n",
       "69           самара             3.00          1163.00\n",
       "67   ростов-на-дону            10.19          1130.00\n",
       "89              уфа             6.29          1121.00\n",
       "33       красноярск            11.58          1091.00\n",
       "63            пермь            10.13          1052.00\n",
       "16          воронеж             2.00          1048.00\n",
       "14        волгоград             5.13          1014.00\n",
       "32        краснодар             3.90           900.00"
      ]
     },
     "metadata": {},
     "output_type": "display_data"
    }
   ],
   "source": [
    "city_all = query_3_data.merge(rus_city, left_on=['city'], right_on=['city'], how='left')\n",
    "display(city_all.sort_values(by='population_2018', ascending=False).head(16))"
   ]
  },
  {
   "cell_type": "markdown",
   "metadata": {},
   "source": [
    "Также можно сказать, что такие крупные города, как Самара, Омск, Воронеж и Краснодар, например -  имеют какие-то низкие показатели, что есть странно и может говорить о достоверности данных. А может иметь и более какую-то глубокую причину. Требует дальнейших ислледований на датасетах более значимых размеров и иных периодов времени. Мы пока этим заморачиваться не будем.<br/>\n"
   ]
  },
  {
   "cell_type": "code",
   "execution_count": 38,
   "metadata": {},
   "outputs": [
    {
     "data": {
      "text/html": [
       "<div>\n",
       "<style scoped>\n",
       "    .dataframe tbody tr th:only-of-type {\n",
       "        vertical-align: middle;\n",
       "    }\n",
       "\n",
       "    .dataframe tbody tr th {\n",
       "        vertical-align: top;\n",
       "    }\n",
       "\n",
       "    .dataframe thead th {\n",
       "        text-align: right;\n",
       "    }\n",
       "</style>\n",
       "<table border=\"1\" class=\"dataframe\">\n",
       "  <thead>\n",
       "    <tr style=\"text-align: right;\">\n",
       "      <th></th>\n",
       "      <th>city</th>\n",
       "      <th>average_flights</th>\n",
       "      <th>population_2018</th>\n",
       "    </tr>\n",
       "  </thead>\n",
       "  <tbody>\n",
       "    <tr>\n",
       "      <th>43</th>\n",
       "      <td>москва</td>\n",
       "      <td>129.77</td>\n",
       "      <td>12506.00</td>\n",
       "    </tr>\n",
       "    <tr>\n",
       "      <th>70</th>\n",
       "      <td>санкт-петербург</td>\n",
       "      <td>31.16</td>\n",
       "      <td>5352.00</td>\n",
       "    </tr>\n",
       "    <tr>\n",
       "      <th>54</th>\n",
       "      <td>новосибирск</td>\n",
       "      <td>17.32</td>\n",
       "      <td>1613.00</td>\n",
       "    </tr>\n",
       "    <tr>\n",
       "      <th>33</th>\n",
       "      <td>красноярск</td>\n",
       "      <td>11.58</td>\n",
       "      <td>1091.00</td>\n",
       "    </tr>\n",
       "    <tr>\n",
       "      <th>20</th>\n",
       "      <td>екатеринбург</td>\n",
       "      <td>11.32</td>\n",
       "      <td>1469.00</td>\n",
       "    </tr>\n",
       "    <tr>\n",
       "      <th>67</th>\n",
       "      <td>ростов-на-дону</td>\n",
       "      <td>10.19</td>\n",
       "      <td>1130.00</td>\n",
       "    </tr>\n",
       "    <tr>\n",
       "      <th>63</th>\n",
       "      <td>пермь</td>\n",
       "      <td>10.13</td>\n",
       "      <td>1052.00</td>\n",
       "    </tr>\n",
       "    <tr>\n",
       "      <th>10</th>\n",
       "      <td>брянск</td>\n",
       "      <td>10.00</td>\n",
       "      <td>406.00</td>\n",
       "    </tr>\n",
       "    <tr>\n",
       "      <th>74</th>\n",
       "      <td>сочи</td>\n",
       "      <td>9.61</td>\n",
       "      <td>424.00</td>\n",
       "    </tr>\n",
       "    <tr>\n",
       "      <th>84</th>\n",
       "      <td>ульяновск</td>\n",
       "      <td>9.58</td>\n",
       "      <td>627.00</td>\n",
       "    </tr>\n",
       "    <tr>\n",
       "      <th>73</th>\n",
       "      <td>советский</td>\n",
       "      <td>9.00</td>\n",
       "      <td>NaN</td>\n",
       "    </tr>\n",
       "    <tr>\n",
       "      <th>77</th>\n",
       "      <td>сургут</td>\n",
       "      <td>8.74</td>\n",
       "      <td>366.00</td>\n",
       "    </tr>\n",
       "    <tr>\n",
       "      <th>92</th>\n",
       "      <td>ханты-мансийск</td>\n",
       "      <td>8.42</td>\n",
       "      <td>98.00</td>\n",
       "    </tr>\n",
       "    <tr>\n",
       "      <th>55</th>\n",
       "      <td>новый уренгой</td>\n",
       "      <td>8.29</td>\n",
       "      <td>115.00</td>\n",
       "    </tr>\n",
       "    <tr>\n",
       "      <th>25</th>\n",
       "      <td>казань</td>\n",
       "      <td>7.74</td>\n",
       "      <td>1244.00</td>\n",
       "    </tr>\n",
       "    <tr>\n",
       "      <th>81</th>\n",
       "      <td>тюмень</td>\n",
       "      <td>6.97</td>\n",
       "      <td>768.00</td>\n",
       "    </tr>\n",
       "    <tr>\n",
       "      <th>94</th>\n",
       "      <td>челябинск</td>\n",
       "      <td>6.71</td>\n",
       "      <td>1202.00</td>\n",
       "    </tr>\n",
       "    <tr>\n",
       "      <th>91</th>\n",
       "      <td>хабаровск</td>\n",
       "      <td>6.55</td>\n",
       "      <td>618.00</td>\n",
       "    </tr>\n",
       "    <tr>\n",
       "      <th>89</th>\n",
       "      <td>уфа</td>\n",
       "      <td>6.29</td>\n",
       "      <td>1121.00</td>\n",
       "    </tr>\n",
       "    <tr>\n",
       "      <th>42</th>\n",
       "      <td>мирный</td>\n",
       "      <td>6.29</td>\n",
       "      <td>NaN</td>\n",
       "    </tr>\n",
       "    <tr>\n",
       "      <th>53</th>\n",
       "      <td>новокузнецк</td>\n",
       "      <td>6.03</td>\n",
       "      <td>554.00</td>\n",
       "    </tr>\n",
       "    <tr>\n",
       "      <th>23</th>\n",
       "      <td>иркутск</td>\n",
       "      <td>6.03</td>\n",
       "      <td>624.00</td>\n",
       "    </tr>\n",
       "    <tr>\n",
       "      <th>6</th>\n",
       "      <td>белгород</td>\n",
       "      <td>6.00</td>\n",
       "      <td>392.00</td>\n",
       "    </tr>\n",
       "    <tr>\n",
       "      <th>29</th>\n",
       "      <td>киров</td>\n",
       "      <td>6.00</td>\n",
       "      <td>507.00</td>\n",
       "    </tr>\n",
       "    <tr>\n",
       "      <th>52</th>\n",
       "      <td>нижний новгород</td>\n",
       "      <td>5.87</td>\n",
       "      <td>1259.00</td>\n",
       "    </tr>\n",
       "    <tr>\n",
       "      <th>64</th>\n",
       "      <td>петрозаводск</td>\n",
       "      <td>5.87</td>\n",
       "      <td>279.00</td>\n",
       "    </tr>\n",
       "    <tr>\n",
       "      <th>3</th>\n",
       "      <td>архангельск</td>\n",
       "      <td>5.35</td>\n",
       "      <td>350.00</td>\n",
       "    </tr>\n",
       "    <tr>\n",
       "      <th>14</th>\n",
       "      <td>волгоград</td>\n",
       "      <td>5.13</td>\n",
       "      <td>1014.00</td>\n",
       "    </tr>\n",
       "    <tr>\n",
       "      <th>60</th>\n",
       "      <td>оренбург</td>\n",
       "      <td>5.00</td>\n",
       "      <td>565.00</td>\n",
       "    </tr>\n",
       "    <tr>\n",
       "      <th>93</th>\n",
       "      <td>чебоксары</td>\n",
       "      <td>5.00</td>\n",
       "      <td>492.00</td>\n",
       "    </tr>\n",
       "    <tr>\n",
       "      <th>97</th>\n",
       "      <td>элиста</td>\n",
       "      <td>4.87</td>\n",
       "      <td>103.00</td>\n",
       "    </tr>\n",
       "    <tr>\n",
       "      <th>15</th>\n",
       "      <td>воркута</td>\n",
       "      <td>4.58</td>\n",
       "      <td>NaN</td>\n",
       "    </tr>\n",
       "    <tr>\n",
       "      <th>24</th>\n",
       "      <td>йошкар-ола</td>\n",
       "      <td>4.29</td>\n",
       "      <td>268.00</td>\n",
       "    </tr>\n",
       "    <tr>\n",
       "      <th>98</th>\n",
       "      <td>южно-сахалинск</td>\n",
       "      <td>4.29</td>\n",
       "      <td>199.00</td>\n",
       "    </tr>\n",
       "    <tr>\n",
       "      <th>80</th>\n",
       "      <td>томск</td>\n",
       "      <td>4.19</td>\n",
       "      <td>574.00</td>\n",
       "    </tr>\n",
       "    <tr>\n",
       "      <th>78</th>\n",
       "      <td>сыктывкар</td>\n",
       "      <td>4.13</td>\n",
       "      <td>245.00</td>\n",
       "    </tr>\n",
       "    <tr>\n",
       "      <th>62</th>\n",
       "      <td>пенза</td>\n",
       "      <td>4.00</td>\n",
       "      <td>524.00</td>\n",
       "    </tr>\n",
       "    <tr>\n",
       "      <th>72</th>\n",
       "      <td>саратов</td>\n",
       "      <td>4.00</td>\n",
       "      <td>845.00</td>\n",
       "    </tr>\n",
       "    <tr>\n",
       "      <th>39</th>\n",
       "      <td>магнитогорск</td>\n",
       "      <td>4.00</td>\n",
       "      <td>417.00</td>\n",
       "    </tr>\n",
       "    <tr>\n",
       "      <th>79</th>\n",
       "      <td>тамбов</td>\n",
       "      <td>4.00</td>\n",
       "      <td>294.00</td>\n",
       "    </tr>\n",
       "    <tr>\n",
       "      <th>32</th>\n",
       "      <td>краснодар</td>\n",
       "      <td>3.90</td>\n",
       "      <td>900.00</td>\n",
       "    </tr>\n",
       "    <tr>\n",
       "      <th>0</th>\n",
       "      <td>абакан</td>\n",
       "      <td>3.87</td>\n",
       "      <td>184.00</td>\n",
       "    </tr>\n",
       "    <tr>\n",
       "      <th>51</th>\n",
       "      <td>нижнекамск</td>\n",
       "      <td>3.74</td>\n",
       "      <td>238.00</td>\n",
       "    </tr>\n",
       "    <tr>\n",
       "      <th>34</th>\n",
       "      <td>курган</td>\n",
       "      <td>3.42</td>\n",
       "      <td>318.00</td>\n",
       "    </tr>\n",
       "    <tr>\n",
       "      <th>41</th>\n",
       "      <td>минеральные воды</td>\n",
       "      <td>3.42</td>\n",
       "      <td>NaN</td>\n",
       "    </tr>\n",
       "  </tbody>\n",
       "</table>\n",
       "</div>"
      ],
      "text/plain": [
       "                city  average_flights  population_2018\n",
       "43            москва           129.77         12506.00\n",
       "70   санкт-петербург            31.16          5352.00\n",
       "54       новосибирск            17.32          1613.00\n",
       "33        красноярск            11.58          1091.00\n",
       "20      екатеринбург            11.32          1469.00\n",
       "67    ростов-на-дону            10.19          1130.00\n",
       "63             пермь            10.13          1052.00\n",
       "10            брянск            10.00           406.00\n",
       "74              сочи             9.61           424.00\n",
       "84         ульяновск             9.58           627.00\n",
       "73         советский             9.00              NaN\n",
       "77            сургут             8.74           366.00\n",
       "92    ханты-мансийск             8.42            98.00\n",
       "55     новый уренгой             8.29           115.00\n",
       "25            казань             7.74          1244.00\n",
       "81            тюмень             6.97           768.00\n",
       "94         челябинск             6.71          1202.00\n",
       "91         хабаровск             6.55           618.00\n",
       "89               уфа             6.29          1121.00\n",
       "42            мирный             6.29              NaN\n",
       "53       новокузнецк             6.03           554.00\n",
       "23           иркутск             6.03           624.00\n",
       "6           белгород             6.00           392.00\n",
       "29             киров             6.00           507.00\n",
       "52   нижний новгород             5.87          1259.00\n",
       "64      петрозаводск             5.87           279.00\n",
       "3        архангельск             5.35           350.00\n",
       "14         волгоград             5.13          1014.00\n",
       "60          оренбург             5.00           565.00\n",
       "93         чебоксары             5.00           492.00\n",
       "97            элиста             4.87           103.00\n",
       "15           воркута             4.58              NaN\n",
       "24        йошкар-ола             4.29           268.00\n",
       "98    южно-сахалинск             4.29           199.00\n",
       "80             томск             4.19           574.00\n",
       "78         сыктывкар             4.13           245.00\n",
       "62             пенза             4.00           524.00\n",
       "72           саратов             4.00           845.00\n",
       "39      магнитогорск             4.00           417.00\n",
       "79            тамбов             4.00           294.00\n",
       "32         краснодар             3.90           900.00\n",
       "0             абакан             3.87           184.00\n",
       "51        нижнекамск             3.74           238.00\n",
       "34            курган             3.42           318.00\n",
       "41  минеральные воды             3.42              NaN"
      ]
     },
     "metadata": {},
     "output_type": "display_data"
    }
   ],
   "source": [
    "city_all = query_3_data.merge(rus_city, left_on=['city'], right_on=['city'], how='left')\n",
    "display(city_all.sort_values(by='average_flights', ascending=False).head(45))"
   ]
  },
  {
   "cell_type": "markdown",
   "metadata": {},
   "source": [
    "Город Советский в ХМАО является лидером среди малых городов по перевозкам. Думаю, что в нем вахтовые рабочие летают в основном. <br/> Население — 29 452 чел. (2021), плотность населения города 77 чел/км²\n",
    "<br/>\n",
    "Ближайшие города: Нижний Тагил (583 км), Екатеринбург (725 км), Ханты-Мансийск (367 км), Тюмень (1 039 км). <br/>\n",
    "https://ru.wikipedia.org/wiki/%D0%A1%D0%BE%D0%B2%D0%B5%D1%82%D1%81%D0%BA%D0%B8%D0%B9_(%D0%A5%D0%B0%D0%BD%D1%82%D1%8B-%D0%9C%D0%B0%D0%BD%D1%81%D0%B8%D0%B9%D1%81%D0%BA%D0%B8%D0%B9_%D0%B0%D0%B2%D1%82%D0%BE%D0%BD%D0%BE%D0%BC%D0%BD%D1%8B%D0%B9_%D0%BE%D0%BA%D1%80%D1%83%D0%B3)   \n",
    "\n",
    "Следующие такие тоже подобные Мирный и Воркута.<br/>\n",
    "Далее город-курорт Минеральные воды.<br/>\n",
    "И далее примерно такие же типы городов."
   ]
  },
  {
   "cell_type": "markdown",
   "metadata": {},
   "source": [
    "Исключениями мы можем не заниматься, а посмотрим самы крупные по населению города и посмотрим, кто выделяется там."
   ]
  },
  {
   "cell_type": "code",
   "execution_count": 39,
   "metadata": {},
   "outputs": [
    {
     "data": {
      "text/html": [
       "<div>\n",
       "<style scoped>\n",
       "    .dataframe tbody tr th:only-of-type {\n",
       "        vertical-align: middle;\n",
       "    }\n",
       "\n",
       "    .dataframe tbody tr th {\n",
       "        vertical-align: top;\n",
       "    }\n",
       "\n",
       "    .dataframe thead th {\n",
       "        text-align: right;\n",
       "    }\n",
       "</style>\n",
       "<table border=\"1\" class=\"dataframe\">\n",
       "  <thead>\n",
       "    <tr style=\"text-align: right;\">\n",
       "      <th></th>\n",
       "      <th>city</th>\n",
       "      <th>average_flights</th>\n",
       "      <th>population_2018</th>\n",
       "    </tr>\n",
       "  </thead>\n",
       "  <tbody>\n",
       "    <tr>\n",
       "      <th>43</th>\n",
       "      <td>москва</td>\n",
       "      <td>129.77</td>\n",
       "      <td>12506.00</td>\n",
       "    </tr>\n",
       "    <tr>\n",
       "      <th>70</th>\n",
       "      <td>санкт-петербург</td>\n",
       "      <td>31.16</td>\n",
       "      <td>5352.00</td>\n",
       "    </tr>\n",
       "    <tr>\n",
       "      <th>54</th>\n",
       "      <td>новосибирск</td>\n",
       "      <td>17.32</td>\n",
       "      <td>1613.00</td>\n",
       "    </tr>\n",
       "    <tr>\n",
       "      <th>20</th>\n",
       "      <td>екатеринбург</td>\n",
       "      <td>11.32</td>\n",
       "      <td>1469.00</td>\n",
       "    </tr>\n",
       "    <tr>\n",
       "      <th>52</th>\n",
       "      <td>нижний новгород</td>\n",
       "      <td>5.87</td>\n",
       "      <td>1259.00</td>\n",
       "    </tr>\n",
       "  </tbody>\n",
       "</table>\n",
       "</div>"
      ],
      "text/plain": [
       "               city  average_flights  population_2018\n",
       "43           москва           129.77         12506.00\n",
       "70  санкт-петербург            31.16          5352.00\n",
       "54      новосибирск            17.32          1613.00\n",
       "20     екатеринбург            11.32          1469.00\n",
       "52  нижний новгород             5.87          1259.00"
      ]
     },
     "metadata": {},
     "output_type": "display_data"
    }
   ],
   "source": [
    "city_all_60 = city_all.query('population_2018 >= 248')\n",
    "display(city_all_60.sort_values(by='population_2018', ascending=False).head(5))"
   ]
  },
  {
   "cell_type": "markdown",
   "metadata": {},
   "source": [
    "Посмотрим, кто из городов лидер по количеству полетов на 100 тыс.жителей города"
   ]
  },
  {
   "cell_type": "code",
   "execution_count": 40,
   "metadata": {},
   "outputs": [
    {
     "data": {
      "text/html": [
       "<div>\n",
       "<style scoped>\n",
       "    .dataframe tbody tr th:only-of-type {\n",
       "        vertical-align: middle;\n",
       "    }\n",
       "\n",
       "    .dataframe tbody tr th {\n",
       "        vertical-align: top;\n",
       "    }\n",
       "\n",
       "    .dataframe thead th {\n",
       "        text-align: right;\n",
       "    }\n",
       "</style>\n",
       "<table border=\"1\" class=\"dataframe\">\n",
       "  <thead>\n",
       "    <tr style=\"text-align: right;\">\n",
       "      <th></th>\n",
       "      <th>city</th>\n",
       "      <th>average_flights</th>\n",
       "      <th>population_2018</th>\n",
       "      <th>average_flights_for_100000</th>\n",
       "    </tr>\n",
       "  </thead>\n",
       "  <tbody>\n",
       "    <tr>\n",
       "      <th>10</th>\n",
       "      <td>брянск</td>\n",
       "      <td>10.00</td>\n",
       "      <td>406.00</td>\n",
       "      <td>2.46</td>\n",
       "    </tr>\n",
       "    <tr>\n",
       "      <th>77</th>\n",
       "      <td>сургут</td>\n",
       "      <td>8.74</td>\n",
       "      <td>366.00</td>\n",
       "      <td>2.39</td>\n",
       "    </tr>\n",
       "    <tr>\n",
       "      <th>74</th>\n",
       "      <td>сочи</td>\n",
       "      <td>9.61</td>\n",
       "      <td>424.00</td>\n",
       "      <td>2.27</td>\n",
       "    </tr>\n",
       "    <tr>\n",
       "      <th>64</th>\n",
       "      <td>петрозаводск</td>\n",
       "      <td>5.87</td>\n",
       "      <td>279.00</td>\n",
       "      <td>2.10</td>\n",
       "    </tr>\n",
       "    <tr>\n",
       "      <th>24</th>\n",
       "      <td>йошкар-ола</td>\n",
       "      <td>4.29</td>\n",
       "      <td>268.00</td>\n",
       "      <td>1.60</td>\n",
       "    </tr>\n",
       "    <tr>\n",
       "      <th>6</th>\n",
       "      <td>белгород</td>\n",
       "      <td>6.00</td>\n",
       "      <td>392.00</td>\n",
       "      <td>1.53</td>\n",
       "    </tr>\n",
       "    <tr>\n",
       "      <th>3</th>\n",
       "      <td>архангельск</td>\n",
       "      <td>5.35</td>\n",
       "      <td>350.00</td>\n",
       "      <td>1.53</td>\n",
       "    </tr>\n",
       "    <tr>\n",
       "      <th>84</th>\n",
       "      <td>ульяновск</td>\n",
       "      <td>9.58</td>\n",
       "      <td>627.00</td>\n",
       "      <td>1.53</td>\n",
       "    </tr>\n",
       "    <tr>\n",
       "      <th>79</th>\n",
       "      <td>тамбов</td>\n",
       "      <td>4.00</td>\n",
       "      <td>294.00</td>\n",
       "      <td>1.36</td>\n",
       "    </tr>\n",
       "    <tr>\n",
       "      <th>29</th>\n",
       "      <td>киров</td>\n",
       "      <td>6.00</td>\n",
       "      <td>507.00</td>\n",
       "      <td>1.18</td>\n",
       "    </tr>\n",
       "    <tr>\n",
       "      <th>50</th>\n",
       "      <td>нижневартовск</td>\n",
       "      <td>3.13</td>\n",
       "      <td>275.00</td>\n",
       "      <td>1.14</td>\n",
       "    </tr>\n",
       "    <tr>\n",
       "      <th>53</th>\n",
       "      <td>новокузнецк</td>\n",
       "      <td>6.03</td>\n",
       "      <td>554.00</td>\n",
       "      <td>1.09</td>\n",
       "    </tr>\n",
       "    <tr>\n",
       "      <th>34</th>\n",
       "      <td>курган</td>\n",
       "      <td>3.42</td>\n",
       "      <td>318.00</td>\n",
       "      <td>1.08</td>\n",
       "    </tr>\n",
       "    <tr>\n",
       "      <th>54</th>\n",
       "      <td>новосибирск</td>\n",
       "      <td>17.32</td>\n",
       "      <td>1613.00</td>\n",
       "      <td>1.07</td>\n",
       "    </tr>\n",
       "    <tr>\n",
       "      <th>33</th>\n",
       "      <td>красноярск</td>\n",
       "      <td>11.58</td>\n",
       "      <td>1091.00</td>\n",
       "      <td>1.06</td>\n",
       "    </tr>\n",
       "    <tr>\n",
       "      <th>91</th>\n",
       "      <td>хабаровск</td>\n",
       "      <td>6.55</td>\n",
       "      <td>618.00</td>\n",
       "      <td>1.06</td>\n",
       "    </tr>\n",
       "    <tr>\n",
       "      <th>43</th>\n",
       "      <td>москва</td>\n",
       "      <td>129.77</td>\n",
       "      <td>12506.00</td>\n",
       "      <td>1.04</td>\n",
       "    </tr>\n",
       "  </tbody>\n",
       "</table>\n",
       "</div>"
      ],
      "text/plain": [
       "             city  average_flights  population_2018  \\\n",
       "10         брянск            10.00           406.00   \n",
       "77         сургут             8.74           366.00   \n",
       "74           сочи             9.61           424.00   \n",
       "64   петрозаводск             5.87           279.00   \n",
       "24     йошкар-ола             4.29           268.00   \n",
       "6        белгород             6.00           392.00   \n",
       "3     архангельск             5.35           350.00   \n",
       "84      ульяновск             9.58           627.00   \n",
       "79         тамбов             4.00           294.00   \n",
       "29          киров             6.00           507.00   \n",
       "50  нижневартовск             3.13           275.00   \n",
       "53    новокузнецк             6.03           554.00   \n",
       "34         курган             3.42           318.00   \n",
       "54    новосибирск            17.32          1613.00   \n",
       "33     красноярск            11.58          1091.00   \n",
       "91      хабаровск             6.55           618.00   \n",
       "43         москва           129.77         12506.00   \n",
       "\n",
       "    average_flights_for_100000  \n",
       "10                        2.46  \n",
       "77                        2.39  \n",
       "74                        2.27  \n",
       "64                        2.10  \n",
       "24                        1.60  \n",
       "6                         1.53  \n",
       "3                         1.53  \n",
       "84                        1.53  \n",
       "79                        1.36  \n",
       "29                        1.18  \n",
       "50                        1.14  \n",
       "53                        1.09  \n",
       "34                        1.08  \n",
       "54                        1.07  \n",
       "33                        1.06  \n",
       "91                        1.06  \n",
       "43                        1.04  "
      ]
     },
     "metadata": {},
     "output_type": "display_data"
    }
   ],
   "source": [
    "city_all_60 = city_all_60.copy()\n",
    "city_all_60['average_flights_for_100000'] = city_all_60['average_flights'] / city_all_60['population_2018'] * 100\n",
    "display(city_all_60.sort_values(by='average_flights_for_100000', ascending=False).head(17))"
   ]
  },
  {
   "cell_type": "markdown",
   "metadata": {},
   "source": [
    "Ну, если Сургут и Сочи я как-то могу объяснить, то первое место славного города Брянск поставило в недоумение. Хотя аэропорт в Брянске международный. <br/> \n",
    "https://ru.wikipedia.org/wiki/%D0%91%D1%80%D1%8F%D0%BD%D1%81%D0%BA <br/>\n",
    "\n",
    "Ну а Москва в этом списке на почетном 17-ом месте."
   ]
  },
  {
   "cell_type": "code",
   "execution_count": 41,
   "metadata": {},
   "outputs": [
    {
     "data": {
      "image/png": "[encoded data removed]",
      "text/plain": [
       "<Figure size 1008x432 with 1 Axes>"
      ]
     },
     "metadata": {},
     "output_type": "display_data"
    }
   ],
   "source": [
    " from matplotlib.axes._axes import _log as matplotlib_axes_logger\n",
    " matplotlib_axes_logger.setLevel('ERROR') # уберем предупреждение\n",
    "\n",
    "city_all_60.plot(x='average_flights', y='population_2018', kind='scatter', alpha=0.3, figsize=(14, 6))\n",
    "plt.xlabel('average_flights')\n",
    "plt.ylabel('average_flights_for_100000')\n",
    "plt.title('проверка взаимосвязи average_flights и average_flights_for_100000');\n"
   ]
  },
  {
   "cell_type": "code",
   "execution_count": 42,
   "metadata": {},
   "outputs": [
    {
     "name": "stdout",
     "output_type": "stream",
     "text": [
      "0.9685389874950987\n"
     ]
    }
   ],
   "source": [
    "print(city_all_60['average_flights'].corr(city_all_60['population_2018'])) # посчитаем коэффициент Пирсона"
   ]
  },
  {
   "cell_type": "markdown",
   "metadata": {},
   "source": [
    "Взаимосвязь между этими данными, населением города и средним количеством рейсов есть и корреляция положительная и довольно высока."
   ]
  },
  {
   "cell_type": "markdown",
   "metadata": {},
   "source": [
    "<a name=\"chapter_4.\"></a>\n",
    "[к содержанию](#chapter_0)<br/>\n",
    "<div class=\"p-3 mb-2 bg-primary text-white\">\n",
    "<b>4. Выводы.</b> <br/>\n",
    "</div>"
   ]
  },
  {
   "cell_type": "markdown",
   "metadata": {},
   "source": [
    "**4.1. Изучение данных из представленного файла данных**<br/>\n",
    "4.1.1. В датасетах 8 и 101 строк. Пропущенных данных нет, данные массивов вполне корректные.<br/>\n",
    "4.1.2. Типы данных тоже вполне нормальные object, int64 и float64. На такого размера таблицах нет смысла за уменьшение объема памяти.<br/><br/>\n",
    "**4.2. Изучение данных конкретных столбцов и предобработка данных**<br/>\n",
    "4.2.1. Перевели названия городов в строчные символы и обработали на случай лишних пробелов. <br/><br/>\n",
    "**4.3. Исследовательский анализ данных.**<br/>\n",
    "**4.3.1. Исследование данных по самолетам парку и количеству.<br/>**\n",
    "4.3.1.1. Лидерами по количеству рейсов в сентябре 2018 года являются:<br/>\n",
    "- Cessna 208 Caravan \tс количеством рейсов - 4557<br/>\n",
    "- Bombardier CRJ-200 \tс количеством рейсов - 4446<br/>\n",
    "4.3.1.2. Сделана графическая гистограмма и круговая диграмма в %, показывающая зависимость количества рейсов от модели самолета.<br/>\n",
    "Два самых маленьких самолета по вместимости пассажирских салонов Cessna 208 Caravan и Bombardier CRJ-200 - по количеству полетов владеют совокупной долей в количестве полетов в 47,6%.<br/>\n",
    "Маленькие самолеты имеет гораздо большее количество полетов. Получается, что малая авиация до сих пор не умерла и работает по коротким маршрутам. Время полета там низкое, потому и количество рейсов большое. Интересно, насколько различается рентабельность полетов больших и малых самолетов. Но этих данных у нас нет.<br/>\n",
    "Малые самолеты очень востребованы и во время отпусков, как подбрасывающие пассажиров, летящих в отпуск, до крупных городов с крупными аэропортами, являющимися транспротными узлами.<br/>\n",
    "4.3.1.3. Добавлены из внешних источников дополнительные данные:<br/>\n",
    "Лидер - Cessna 208 Caravan, довольно старый самолет, сертификация для полетов с 1984 года, до 13 мест. https://ru.wikipedia.org/wiki/Cessna_208<br/>\n",
    "Bombardier CRJ-200, тоже старый самолет, сертификация с 1995 года, до 50 мест. https://ru.wikipedia.org/wiki/Bombardier_CRJ200<br/>\n",
    "Sukhoi SuperJet-100 сертифицирован для эксплуатации с 2011 года, до 108 пассажиров. https://avia.pro/blog/superdzhet-100<br/>\n",
    "Airbus A321-200, сертифицирован для эксплуатации с 1996 года, до 220 пассажиров. https://avia.pro/blog/airbus-a321-eyrbas-a321<br/>\n",
    "Boeing 737-300, сертифицирован для эксплуатации с 1984 года, до 149 пассажиров.https://avia.pro/blog/boeing-737-300-foto-video-shema-salona-harakteristiki-otzyvy<br/>\n",
    "Airbus A319-100, сертифицирован для эксплуатации с 1996 года, базовая модель до 124 пассажиров. https://avia.pro/blog/airbus-a319<br/>\n",
    "Boeing 767-300, сертифицирован для эксплуатации с 1986 года, базовая модель до 269 пассажиров. https://avia.pro/blog/boeing-767-300<br/>\n",
    "Boeing 777-300, сертифицирован для эксплуатации с 1998 года, базовая модель до 479 пассажиров. https://avia.pro/blog/boeing-777-300<br/>\n",
    "Это позволило прикинуть пассажиропоток и посчитать сколько примерно пассажиров они бы подняли в воздух за сентябрь 2018 года при 100% загрузке.<br/>\n",
    "4.3.1.4. Сделали еще один столбец ['aircraft_capacity'] на основе наших полученных новых данных о вместимости самолетов.<br/>\n",
    "4.3.1.5. Интересно, что лидером по пассажиропотоку является самолет российского производства Sukhoi SuperJet-100 с примерной цифрой в 452 тыс. пассажиров за сентябрь 2018 года и это доля в 31,9% на рынке авиапассажироперевозок.<br/>\n",
    "4.3.1.6. Сделана графическая гистограмма и круговая диграмма в %, показывающая зависимость пассажиропотока от модели самолета.<br/>\n",
    "**4.3.2. Исследование городов по количеству рейсов.**<br/>\n",
    "4.3.2.1. Выберали топ-10 городов по количеству рейсов, лидерами являются: <br/>\n",
    "- москва  с количеством рейсов - 129.77<br/>\n",
    "- санкт-петербург с количеством рейсов - 31.16<br/>\n",
    "- новосибирск с количеством рейсов - 17.32<br/>\n",
    "\n",
    "Высокая цифра Сочи привела к следующей задаче - стало интересно выяснить, Сочи попал в первую десятку в соответствии с населением, в нем проживающем, или как курортный город?<br/>\n",
    "Решили это проверить, сравнив с населением данных городов. Заодно посмотрели, где расхождение с цифрами населения самое большое.<br/>\n",
    "4.3.2.2. Сделана графическая гистограмма и круговая диграмма в %, показывающая зависимость среднего количества рейсов за день в августе 2018 года.<br/>\n",
    "4.3.2.3. Дополнили нашу таблицу данными по населению российских городов из этого источника:<br/>\n",
    "URL = 'https://ru.wikipedia.org/wiki/%D0%A1%D0%BF%D0%B8%D1%81%D0%BE%D0%BA_%D0%B3%D0%BE%D1%80%D0%BE%D0%B4%D0%BE%D0%B2_%D0%A0%D0%BE%D1%81%D1%81%D0%B8%D0%B8_%D1%81_%D0%BD%D0%B0%D1%81%D0%B5%D0%BB%D0%B5%D0%BD%D0%B8%D0%B5%D0%BC_%D0%B1%D0%BE%D0%BB%D0%B5%D0%B5_100_%D1%82%D1%8B%D1%81%D1%8F%D1%87_%D0%B6%D0%B8%D1%82%D0%B5%D0%BB%D0%B5%D0%B9'<br/>\n",
    "4.3.2.4. Взяли данные через requests.get(URL) и обработали эти данные. Привели их к корректному виду и типу данных. Эти данные в тыс.человек.<br/>\n",
    "4.3.2.5. Соединили таблицы методом .merge<br/>\n",
    "4.3.2.6. В этих данных не оказалось 24 городов. Выянено, что некоторые города из первоначального датасета не превышают численность населения в 100 тыс. чел. и данных на них не нашлось в этом источнике.<br/>\n",
    "Например, город Советский в ХМАО является лидером среди малых городов по перевозкам. Думаю, что в нем вахтовые рабочие летают в основном.Город Советский в ХМАО является лидером среди малых городов по перевозкам. Думаю, что в нем вахтовые рабочие летают в основном.<br/>\n",
    "Население — 29 452 чел. (2021), плотность населения города 77 чел/км²<br/>\n",
    "Ближайшие города: Нижний Тагил (583 км), Екатеринбург (725 км), Ханты-Мансийск (367 км), Тюмень (1 039 км).<br/>\n",
    "https://ru.wikipedia.org/wiki/%D0%A1%D0%BE%D0%B2%D0%B5%D1%82%D1%81%D0%BA%D0%B8%D0%B9_(%D0%A5%D0%B0%D0%BD%D1%82%D1%8B-%D0%9C%D0%B0%D0%BD%D1%81%D0%B8%D0%B9%D1%81%D0%BA%D0%B8%D0%B9_%D0%B0%D0%B2%D1%82%D0%BE%D0%BD%D0%BE%D0%BC%D0%BD%D1%8B%D0%B9_%D0%BE%D0%BA%D1%80%D1%83%D0%B3)<br/>\n",
    "Следующие такие тоже подобные Мирный и Воркута.<br/>\n",
    "Далее город-курорт Минеральные Воды.<br/>\n",
    "И далее примерно такие же типы городов.<br/>\n",
    "4.3.2.7. Также можно сказать, что такие крупные города, как Самара, Омск, Воронеж и Краснодар, например - имеют какие-то низкие показатели, что есть странно и может говорить о достоверности данных. А может иметь и более какую-то глубокую причину. Требует дальнейших исследований на датасетах более значимых размеров и иных периодов времени. <br/>\n",
    "4.3.2.8. Посмотрим самые крупные по населению города и увидели, кто из городов лидер по количеству полетов на 100 тыс.жителей города.<br/>\n",
    "Лидеры:<br/>\n",
    "- брянск \tс средним количеством полетов на 100 тыс.жителей города - 2.46<br/>\n",
    "- сургут с средним количеством полетов на 100 тыс.жителей города - 2.39<br/>\n",
    "- сочи с средним количеством полетов на 100 тыс.жителей города - 2.27<br/>\n",
    "\n",
    "Ну, если Сургут и Сочи я как-то могу объяснить, то первое место славного города Брянск поставило в недоумение. Хотя аэропорт в Брянске международный. https://ru.wikipedia.org/wiki/%D0%91%D1%80%D1%8F%D0%BD%D1%81%D0%BA<br/>\n",
    "Ну а Москва в этом списке на почетном 17-ом месте.<br/>\n",
    "4.3.2.9. Сделана проверка взаимосвязи данных по количеству полетов и по населению во всех крупных городах (по численности населения)average_flights и average_flights_for_100000 графически и по коэффициенту Пирсона, который оказался равен 0.9685389874950985. Это говорит о взаимосвязи между этими данными, населением города и средним количеством рейсов -  есть и положительная корреляция и она довольно высока.\n"
   ]
  }
 ],
 "metadata": {
  "ExecuteTimeLog": [
   {
    "duration": 385,
    "start_time": "2021-09-27T08:07:12.397Z"
   },
   {
    "duration": 5502,
    "start_time": "2021-09-27T08:07:21.088Z"
   },
   {
    "duration": 1346,
    "start_time": "2021-09-27T08:07:26.593Z"
   },
   {
    "duration": 11830,
    "start_time": "2021-09-27T08:07:27.942Z"
   },
   {
    "duration": 4,
    "start_time": "2021-09-27T08:07:39.776Z"
   },
   {
    "duration": 1571,
    "start_time": "2021-09-27T08:07:39.783Z"
   },
   {
    "duration": 20,
    "start_time": "2021-09-27T08:07:41.357Z"
   },
   {
    "duration": 11,
    "start_time": "2021-09-27T08:07:41.380Z"
   },
   {
    "duration": 6,
    "start_time": "2021-09-27T08:07:41.395Z"
   },
   {
    "duration": 83,
    "start_time": "2021-09-27T08:07:41.404Z"
   },
   {
    "duration": 40,
    "start_time": "2021-09-27T08:07:41.489Z"
   },
   {
    "duration": 50,
    "start_time": "2021-09-27T08:07:41.531Z"
   },
   {
    "duration": 15,
    "start_time": "2021-09-27T08:07:41.583Z"
   },
   {
    "duration": 7,
    "start_time": "2021-09-27T08:07:41.600Z"
   },
   {
    "duration": 15,
    "start_time": "2021-09-27T08:07:41.610Z"
   },
   {
    "duration": 61,
    "start_time": "2021-09-27T08:07:41.627Z"
   },
   {
    "duration": 5,
    "start_time": "2021-09-27T08:07:41.690Z"
   },
   {
    "duration": 449,
    "start_time": "2021-09-27T08:07:41.697Z"
   },
   {
    "duration": 160,
    "start_time": "2021-09-27T08:07:42.148Z"
   },
   {
    "duration": 15,
    "start_time": "2021-09-27T08:07:42.310Z"
   },
   {
    "duration": 11,
    "start_time": "2021-09-27T08:07:42.327Z"
   },
   {
    "duration": 20,
    "start_time": "2021-09-27T08:07:42.367Z"
   },
   {
    "duration": 6,
    "start_time": "2021-09-27T08:07:42.389Z"
   },
   {
    "duration": 217,
    "start_time": "2021-09-27T08:07:42.401Z"
   },
   {
    "duration": 75,
    "start_time": "2021-09-27T08:07:42.622Z"
   },
   {
    "duration": 11,
    "start_time": "2021-09-27T08:07:42.699Z"
   },
   {
    "duration": 26,
    "start_time": "2021-09-27T08:07:42.713Z"
   },
   {
    "duration": 28,
    "start_time": "2021-09-27T08:07:42.742Z"
   },
   {
    "duration": 251,
    "start_time": "2021-09-27T08:07:42.772Z"
   },
   {
    "duration": 125,
    "start_time": "2021-09-27T08:07:43.026Z"
   },
   {
    "duration": 32,
    "start_time": "2021-09-27T08:07:43.154Z"
   },
   {
    "duration": 11,
    "start_time": "2021-09-27T08:07:43.189Z"
   },
   {
    "duration": 12,
    "start_time": "2021-09-27T08:07:43.203Z"
   },
   {
    "duration": 6,
    "start_time": "2021-09-27T08:07:43.217Z"
   },
   {
    "duration": 78,
    "start_time": "2021-09-27T08:07:43.226Z"
   },
   {
    "duration": 83,
    "start_time": "2021-09-27T08:07:43.306Z"
   },
   {
    "duration": 9,
    "start_time": "2021-09-27T08:07:43.391Z"
   },
   {
    "duration": 71,
    "start_time": "2021-09-27T08:07:43.402Z"
   },
   {
    "duration": 8,
    "start_time": "2021-09-27T08:07:43.475Z"
   },
   {
    "duration": 8,
    "start_time": "2021-09-27T08:07:43.486Z"
   },
   {
    "duration": 476,
    "start_time": "2021-09-27T08:07:43.497Z"
   },
   {
    "duration": 15,
    "start_time": "2021-09-27T08:07:43.975Z"
   },
   {
    "duration": 11,
    "start_time": "2021-09-27T08:07:43.992Z"
   },
   {
    "duration": 9,
    "start_time": "2021-09-27T08:07:44.006Z"
   },
   {
    "duration": 584,
    "start_time": "2021-09-27T08:07:44.017Z"
   },
   {
    "duration": -838,
    "start_time": "2021-09-27T08:07:45.446Z"
   },
   {
    "duration": -844,
    "start_time": "2021-09-27T08:07:45.453Z"
   },
   {
    "duration": -849,
    "start_time": "2021-09-27T08:07:45.459Z"
   },
   {
    "duration": -858,
    "start_time": "2021-09-27T08:07:45.470Z"
   },
   {
    "duration": -866,
    "start_time": "2021-09-27T08:07:45.479Z"
   },
   {
    "duration": -873,
    "start_time": "2021-09-27T08:07:45.488Z"
   },
   {
    "duration": -880,
    "start_time": "2021-09-27T08:07:45.496Z"
   },
   {
    "duration": -1142,
    "start_time": "2021-09-27T08:07:45.760Z"
   },
   {
    "duration": -1149,
    "start_time": "2021-09-27T08:07:45.768Z"
   },
   {
    "duration": -1154,
    "start_time": "2021-09-27T08:07:45.775Z"
   },
   {
    "duration": -1160,
    "start_time": "2021-09-27T08:07:45.782Z"
   },
   {
    "duration": -1167,
    "start_time": "2021-09-27T08:07:45.790Z"
   },
   {
    "duration": -1172,
    "start_time": "2021-09-27T08:07:45.797Z"
   },
   {
    "duration": -1179,
    "start_time": "2021-09-27T08:07:45.805Z"
   },
   {
    "duration": -1184,
    "start_time": "2021-09-27T08:07:45.811Z"
   },
   {
    "duration": -1191,
    "start_time": "2021-09-27T08:07:45.820Z"
   },
   {
    "duration": -1197,
    "start_time": "2021-09-27T08:07:45.827Z"
   },
   {
    "duration": -1206,
    "start_time": "2021-09-27T08:07:45.837Z"
   },
   {
    "duration": -1211,
    "start_time": "2021-09-27T08:07:45.844Z"
   },
   {
    "duration": -1221,
    "start_time": "2021-09-27T08:07:45.855Z"
   },
   {
    "duration": -1275,
    "start_time": "2021-09-27T08:07:45.910Z"
   },
   {
    "duration": -1286,
    "start_time": "2021-09-27T08:07:45.923Z"
   },
   {
    "duration": -1298,
    "start_time": "2021-09-27T08:07:45.936Z"
   },
   {
    "duration": -1311,
    "start_time": "2021-09-27T08:07:45.950Z"
   },
   {
    "duration": -1319,
    "start_time": "2021-09-27T08:07:45.960Z"
   },
   {
    "duration": -1333,
    "start_time": "2021-09-27T08:07:45.975Z"
   },
   {
    "duration": -1342,
    "start_time": "2021-09-27T08:07:45.985Z"
   },
   {
    "duration": -1328,
    "start_time": "2021-09-27T08:07:45.995Z"
   },
   {
    "duration": -1340,
    "start_time": "2021-09-27T08:07:46.008Z"
   },
   {
    "duration": -1351,
    "start_time": "2021-09-27T08:07:46.020Z"
   },
   {
    "duration": -1359,
    "start_time": "2021-09-27T08:07:46.030Z"
   },
   {
    "duration": -1370,
    "start_time": "2021-09-27T08:07:46.042Z"
   },
   {
    "duration": -1381,
    "start_time": "2021-09-27T08:07:46.054Z"
   },
   {
    "duration": -1394,
    "start_time": "2021-09-27T08:07:46.068Z"
   },
   {
    "duration": -1401,
    "start_time": "2021-09-27T08:07:46.076Z"
   },
   {
    "duration": -1410,
    "start_time": "2021-09-27T08:07:46.087Z"
   },
   {
    "duration": -1418,
    "start_time": "2021-09-27T08:07:46.096Z"
   },
   {
    "duration": -1430,
    "start_time": "2021-09-27T08:07:46.109Z"
   },
   {
    "duration": -1462,
    "start_time": "2021-09-27T08:07:46.142Z"
   },
   {
    "duration": -1475,
    "start_time": "2021-09-27T08:07:46.157Z"
   },
   {
    "duration": -1487,
    "start_time": "2021-09-27T08:07:46.170Z"
   },
   {
    "duration": -1501,
    "start_time": "2021-09-27T08:07:46.185Z"
   },
   {
    "duration": -1511,
    "start_time": "2021-09-27T08:07:46.197Z"
   },
   {
    "duration": -1525,
    "start_time": "2021-09-27T08:07:46.212Z"
   },
   {
    "duration": -1539,
    "start_time": "2021-09-27T08:07:46.227Z"
   },
   {
    "duration": -1568,
    "start_time": "2021-09-27T08:07:46.257Z"
   },
   {
    "duration": -1580,
    "start_time": "2021-09-27T08:07:46.271Z"
   },
   {
    "duration": -1593,
    "start_time": "2021-09-27T08:07:46.285Z"
   },
   {
    "duration": -1604,
    "start_time": "2021-09-27T08:07:46.297Z"
   },
   {
    "duration": -1616,
    "start_time": "2021-09-27T08:07:46.311Z"
   },
   {
    "duration": -1627,
    "start_time": "2021-09-27T08:07:46.323Z"
   },
   {
    "duration": -1636,
    "start_time": "2021-09-27T08:07:46.334Z"
   },
   {
    "duration": -1644,
    "start_time": "2021-09-27T08:07:46.343Z"
   },
   {
    "duration": -1664,
    "start_time": "2021-09-27T08:07:46.365Z"
   },
   {
    "duration": -1671,
    "start_time": "2021-09-27T08:07:46.373Z"
   },
   {
    "duration": -1616,
    "start_time": "2021-09-27T08:07:46.383Z"
   },
   {
    "duration": -1623,
    "start_time": "2021-09-27T08:07:46.391Z"
   },
   {
    "duration": -1632,
    "start_time": "2021-09-27T08:07:46.402Z"
   },
   {
    "duration": -1639,
    "start_time": "2021-09-27T08:07:46.410Z"
   },
   {
    "duration": -1649,
    "start_time": "2021-09-27T08:07:46.422Z"
   },
   {
    "duration": -1659,
    "start_time": "2021-09-27T08:07:46.433Z"
   },
   {
    "duration": -1670,
    "start_time": "2021-09-27T08:07:46.446Z"
   },
   {
    "duration": -1681,
    "start_time": "2021-09-27T08:07:46.458Z"
   },
   {
    "duration": -1706,
    "start_time": "2021-09-27T08:07:46.485Z"
   },
   {
    "duration": -1714,
    "start_time": "2021-09-27T08:07:46.494Z"
   },
   {
    "duration": -1723,
    "start_time": "2021-09-27T08:07:46.505Z"
   },
   {
    "duration": -1734,
    "start_time": "2021-09-27T08:07:46.517Z"
   },
   {
    "duration": -1742,
    "start_time": "2021-09-27T08:07:46.527Z"
   },
   {
    "duration": -1754,
    "start_time": "2021-09-27T08:07:46.540Z"
   },
   {
    "duration": -1762,
    "start_time": "2021-09-27T08:07:46.550Z"
   },
   {
    "duration": -1769,
    "start_time": "2021-09-27T08:07:46.558Z"
   },
   {
    "duration": -1780,
    "start_time": "2021-09-27T08:07:46.571Z"
   },
   {
    "duration": -1790,
    "start_time": "2021-09-27T08:07:46.582Z"
   },
   {
    "duration": -1812,
    "start_time": "2021-09-27T08:07:46.606Z"
   },
   {
    "duration": -1822,
    "start_time": "2021-09-27T08:07:46.617Z"
   },
   {
    "duration": -1830,
    "start_time": "2021-09-27T08:07:46.627Z"
   },
   {
    "duration": -1840,
    "start_time": "2021-09-27T08:07:46.638Z"
   },
   {
    "duration": -1849,
    "start_time": "2021-09-27T08:07:46.649Z"
   },
   {
    "duration": -1858,
    "start_time": "2021-09-27T08:07:46.659Z"
   },
   {
    "duration": -1869,
    "start_time": "2021-09-27T08:07:46.671Z"
   },
   {
    "duration": -1812,
    "start_time": "2021-09-27T08:07:46.679Z"
   },
   {
    "duration": -1823,
    "start_time": "2021-09-27T08:07:46.692Z"
   },
   {
    "duration": -1832,
    "start_time": "2021-09-27T08:07:46.702Z"
   },
   {
    "duration": -1855,
    "start_time": "2021-09-27T08:07:46.727Z"
   },
   {
    "duration": -1866,
    "start_time": "2021-09-27T08:07:46.739Z"
   },
   {
    "duration": -1877,
    "start_time": "2021-09-27T08:07:46.751Z"
   },
   {
    "duration": -1883,
    "start_time": "2021-09-27T08:07:46.759Z"
   },
   {
    "duration": -1893,
    "start_time": "2021-09-27T08:07:46.770Z"
   },
   {
    "duration": -1901,
    "start_time": "2021-09-27T08:07:46.779Z"
   },
   {
    "duration": -1910,
    "start_time": "2021-09-27T08:07:46.790Z"
   },
   {
    "duration": -1920,
    "start_time": "2021-09-27T08:07:46.801Z"
   },
   {
    "duration": -1928,
    "start_time": "2021-09-27T08:07:46.810Z"
   },
   {
    "duration": -1936,
    "start_time": "2021-09-27T08:07:46.820Z"
   },
   {
    "duration": -1958,
    "start_time": "2021-09-27T08:07:46.843Z"
   },
   {
    "duration": -1967,
    "start_time": "2021-09-27T08:07:46.853Z"
   },
   {
    "duration": -1976,
    "start_time": "2021-09-27T08:07:46.863Z"
   },
   {
    "duration": -1982,
    "start_time": "2021-09-27T08:07:46.871Z"
   },
   {
    "duration": -1992,
    "start_time": "2021-09-27T08:07:46.882Z"
   },
   {
    "duration": -2000,
    "start_time": "2021-09-27T08:07:46.891Z"
   },
   {
    "duration": -2009,
    "start_time": "2021-09-27T08:07:46.901Z"
   },
   {
    "duration": -2017,
    "start_time": "2021-09-27T08:07:46.911Z"
   },
   {
    "duration": -2027,
    "start_time": "2021-09-27T08:07:46.922Z"
   },
   {
    "duration": -2035,
    "start_time": "2021-09-27T08:07:46.931Z"
   },
   {
    "duration": -2041,
    "start_time": "2021-09-27T08:07:46.939Z"
   },
   {
    "duration": -2062,
    "start_time": "2021-09-27T08:07:46.961Z"
   },
   {
    "duration": -2077,
    "start_time": "2021-09-27T08:07:46.977Z"
   },
   {
    "duration": -2088,
    "start_time": "2021-09-27T08:07:46.990Z"
   },
   {
    "duration": -2034,
    "start_time": "2021-09-27T08:07:47.001Z"
   },
   {
    "duration": -2042,
    "start_time": "2021-09-27T08:07:47.011Z"
   },
   {
    "duration": -2054,
    "start_time": "2021-09-27T08:07:47.024Z"
   },
   {
    "duration": -2065,
    "start_time": "2021-09-27T08:07:47.036Z"
   },
   {
    "duration": -2076,
    "start_time": "2021-09-27T08:07:47.049Z"
   },
   {
    "duration": 19,
    "start_time": "2021-09-27T08:08:46.420Z"
   },
   {
    "duration": 19,
    "start_time": "2021-09-27T08:09:46.466Z"
   },
   {
    "duration": 5487,
    "start_time": "2021-09-27T08:10:00.012Z"
   },
   {
    "duration": 1539,
    "start_time": "2021-09-27T08:10:05.503Z"
   },
   {
    "duration": 4018,
    "start_time": "2021-09-27T08:10:07.046Z"
   },
   {
    "duration": 4,
    "start_time": "2021-09-27T08:10:11.067Z"
   },
   {
    "duration": 1095,
    "start_time": "2021-09-27T08:10:11.074Z"
   },
   {
    "duration": 19,
    "start_time": "2021-09-27T08:10:12.172Z"
   },
   {
    "duration": 16,
    "start_time": "2021-09-27T08:10:12.194Z"
   },
   {
    "duration": 8,
    "start_time": "2021-09-27T08:10:12.214Z"
   },
   {
    "duration": 73,
    "start_time": "2021-09-27T08:10:12.226Z"
   },
   {
    "duration": 28,
    "start_time": "2021-09-27T08:10:12.302Z"
   },
   {
    "duration": 44,
    "start_time": "2021-09-27T08:10:12.333Z"
   },
   {
    "duration": 19,
    "start_time": "2021-09-27T08:10:12.380Z"
   },
   {
    "duration": 9,
    "start_time": "2021-09-27T08:10:12.401Z"
   },
   {
    "duration": 13,
    "start_time": "2021-09-27T08:10:12.412Z"
   },
   {
    "duration": 68,
    "start_time": "2021-09-27T08:10:12.428Z"
   },
   {
    "duration": 5,
    "start_time": "2021-09-27T08:10:12.499Z"
   },
   {
    "duration": 299,
    "start_time": "2021-09-27T08:10:12.507Z"
   },
   {
    "duration": 133,
    "start_time": "2021-09-27T08:10:12.808Z"
   },
   {
    "duration": 27,
    "start_time": "2021-09-27T08:10:12.943Z"
   },
   {
    "duration": 20,
    "start_time": "2021-09-27T08:10:12.972Z"
   },
   {
    "duration": 37,
    "start_time": "2021-09-27T08:10:12.995Z"
   },
   {
    "duration": 5,
    "start_time": "2021-09-27T08:10:13.035Z"
   },
   {
    "duration": 154,
    "start_time": "2021-09-27T08:10:13.047Z"
   },
   {
    "duration": 76,
    "start_time": "2021-09-27T08:10:13.205Z"
   },
   {
    "duration": 11,
    "start_time": "2021-09-27T08:10:13.283Z"
   },
   {
    "duration": 51,
    "start_time": "2021-09-27T08:10:13.296Z"
   },
   {
    "duration": 17,
    "start_time": "2021-09-27T08:10:13.350Z"
   },
   {
    "duration": 181,
    "start_time": "2021-09-27T08:10:13.370Z"
   },
   {
    "duration": 150,
    "start_time": "2021-09-27T08:10:13.554Z"
   },
   {
    "duration": 27,
    "start_time": "2021-09-27T08:10:13.708Z"
   },
   {
    "duration": 33,
    "start_time": "2021-09-27T08:10:13.737Z"
   },
   {
    "duration": 16,
    "start_time": "2021-09-27T08:10:13.773Z"
   },
   {
    "duration": 9,
    "start_time": "2021-09-27T08:10:13.792Z"
   },
   {
    "duration": 77,
    "start_time": "2021-09-27T08:10:13.804Z"
   },
   {
    "duration": 106,
    "start_time": "2021-09-27T08:10:13.884Z"
   },
   {
    "duration": 12,
    "start_time": "2021-09-27T08:10:13.993Z"
   },
   {
    "duration": 62,
    "start_time": "2021-09-27T08:10:14.009Z"
   },
   {
    "duration": 8,
    "start_time": "2021-09-27T08:10:14.073Z"
   },
   {
    "duration": 12,
    "start_time": "2021-09-27T08:10:14.083Z"
   },
   {
    "duration": 1457,
    "start_time": "2021-09-27T08:10:14.098Z"
   },
   {
    "duration": 24,
    "start_time": "2021-09-27T08:10:15.557Z"
   },
   {
    "duration": 13,
    "start_time": "2021-09-27T08:10:15.583Z"
   },
   {
    "duration": 12,
    "start_time": "2021-09-27T08:10:15.598Z"
   },
   {
    "duration": 19,
    "start_time": "2021-09-27T08:10:15.613Z"
   },
   {
    "duration": 10,
    "start_time": "2021-09-27T08:10:15.666Z"
   },
   {
    "duration": 14,
    "start_time": "2021-09-27T08:10:15.678Z"
   },
   {
    "duration": 16,
    "start_time": "2021-09-27T08:10:15.694Z"
   },
   {
    "duration": 9,
    "start_time": "2021-09-27T08:10:15.712Z"
   },
   {
    "duration": 49,
    "start_time": "2021-09-27T08:10:15.723Z"
   },
   {
    "duration": 21,
    "start_time": "2021-09-27T08:10:15.775Z"
   },
   {
    "duration": 19,
    "start_time": "2021-09-27T08:10:15.799Z"
   },
   {
    "duration": 440,
    "start_time": "2021-09-27T08:10:15.821Z"
   },
   {
    "duration": 33,
    "start_time": "2021-09-27T08:10:16.266Z"
   },
   {
    "duration": 20,
    "start_time": "2021-09-27T08:10:16.301Z"
   },
   {
    "duration": 93,
    "start_time": "2021-09-27T08:10:16.323Z"
   },
   {
    "duration": 1463,
    "start_time": "2021-09-27T08:10:16.419Z"
   },
   {
    "duration": 10,
    "start_time": "2021-09-27T08:10:17.885Z"
   },
   {
    "duration": 1698,
    "start_time": "2021-09-27T08:10:17.897Z"
   },
   {
    "duration": 12,
    "start_time": "2021-09-27T08:10:19.598Z"
   },
   {
    "duration": 440,
    "start_time": "2021-09-27T08:10:19.613Z"
   },
   {
    "duration": 435,
    "start_time": "2021-09-27T08:10:20.055Z"
   },
   {
    "duration": 56,
    "start_time": "2021-09-27T08:10:20.492Z"
   },
   {
    "duration": 12,
    "start_time": "2021-09-27T08:10:20.567Z"
   },
   {
    "duration": 27,
    "start_time": "2021-09-27T08:10:20.581Z"
   },
   {
    "duration": 29,
    "start_time": "2021-09-27T08:10:20.610Z"
   },
   {
    "duration": 86,
    "start_time": "2021-09-27T08:10:20.642Z"
   },
   {
    "duration": 45,
    "start_time": "2021-09-27T08:10:20.731Z"
   },
   {
    "duration": 11,
    "start_time": "2021-09-27T08:10:20.789Z"
   },
   {
    "duration": 15,
    "start_time": "2021-09-27T08:10:20.806Z"
   },
   {
    "duration": 78,
    "start_time": "2021-09-27T08:10:20.824Z"
   },
   {
    "duration": 1517,
    "start_time": "2021-09-27T08:10:20.905Z"
   },
   {
    "duration": 2520,
    "start_time": "2021-09-27T08:10:22.425Z"
   },
   {
    "duration": 46,
    "start_time": "2021-09-27T08:10:24.947Z"
   },
   {
    "duration": 20,
    "start_time": "2021-09-27T08:10:24.995Z"
   },
   {
    "duration": 68,
    "start_time": "2021-09-27T08:10:25.017Z"
   },
   {
    "duration": 28,
    "start_time": "2021-09-27T08:10:25.088Z"
   },
   {
    "duration": 28,
    "start_time": "2021-09-27T08:10:25.119Z"
   },
   {
    "duration": 52,
    "start_time": "2021-09-27T08:10:25.150Z"
   },
   {
    "duration": 13,
    "start_time": "2021-09-27T08:10:25.206Z"
   },
   {
    "duration": 52,
    "start_time": "2021-09-27T08:10:25.222Z"
   },
   {
    "duration": 54,
    "start_time": "2021-09-27T08:10:25.277Z"
   },
   {
    "duration": 1706,
    "start_time": "2021-09-27T08:10:25.334Z"
   },
   {
    "duration": 1853,
    "start_time": "2021-09-27T08:10:27.042Z"
   },
   {
    "duration": 43,
    "start_time": "2021-09-27T08:10:28.898Z"
   },
   {
    "duration": 191,
    "start_time": "2021-09-27T08:10:28.944Z"
   },
   {
    "duration": 617,
    "start_time": "2021-09-27T08:10:29.137Z"
   },
   {
    "duration": 33,
    "start_time": "2021-09-27T08:10:29.757Z"
   },
   {
    "duration": 49,
    "start_time": "2021-09-27T08:10:29.792Z"
   },
   {
    "duration": 37,
    "start_time": "2021-09-27T08:10:29.843Z"
   },
   {
    "duration": 18,
    "start_time": "2021-09-27T08:10:29.883Z"
   },
   {
    "duration": 45,
    "start_time": "2021-09-27T08:10:29.904Z"
   },
   {
    "duration": 47,
    "start_time": "2021-09-27T08:10:29.967Z"
   },
   {
    "duration": 54,
    "start_time": "2021-09-27T08:10:30.017Z"
   },
   {
    "duration": 28,
    "start_time": "2021-09-27T08:10:30.074Z"
   },
   {
    "duration": 25,
    "start_time": "2021-09-27T08:10:30.104Z"
   },
   {
    "duration": 52,
    "start_time": "2021-09-27T08:10:30.131Z"
   },
   {
    "duration": 35,
    "start_time": "2021-09-27T08:10:30.185Z"
   },
   {
    "duration": 50,
    "start_time": "2021-09-27T08:10:30.222Z"
   },
   {
    "duration": 50,
    "start_time": "2021-09-27T08:10:30.274Z"
   },
   {
    "duration": 64,
    "start_time": "2021-09-27T08:10:30.327Z"
   },
   {
    "duration": 16,
    "start_time": "2021-09-27T08:10:30.394Z"
   },
   {
    "duration": 61,
    "start_time": "2021-09-27T08:10:30.413Z"
   },
   {
    "duration": 32,
    "start_time": "2021-09-27T08:10:30.476Z"
   },
   {
    "duration": 62,
    "start_time": "2021-09-27T08:10:30.511Z"
   },
   {
    "duration": 38,
    "start_time": "2021-09-27T08:10:30.575Z"
   },
   {
    "duration": 15,
    "start_time": "2021-09-27T08:10:30.615Z"
   },
   {
    "duration": 12,
    "start_time": "2021-09-27T08:10:30.632Z"
   },
   {
    "duration": 23,
    "start_time": "2021-09-27T08:10:30.668Z"
   },
   {
    "duration": 41,
    "start_time": "2021-09-27T08:10:30.693Z"
   },
   {
    "duration": 10,
    "start_time": "2021-09-27T08:10:30.736Z"
   },
   {
    "duration": 45,
    "start_time": "2021-09-27T08:10:30.749Z"
   },
   {
    "duration": 6,
    "start_time": "2021-09-27T08:10:30.796Z"
   },
   {
    "duration": 526,
    "start_time": "2021-09-27T08:10:30.804Z"
   },
   {
    "duration": 7,
    "start_time": "2021-09-27T08:10:31.332Z"
   },
   {
    "duration": 74,
    "start_time": "2021-09-27T08:10:31.342Z"
   },
   {
    "duration": 41,
    "start_time": "2021-09-27T08:10:31.419Z"
   },
   {
    "duration": 10,
    "start_time": "2021-09-27T08:10:31.463Z"
   },
   {
    "duration": 24,
    "start_time": "2021-09-27T08:10:31.476Z"
   },
   {
    "duration": 91,
    "start_time": "2021-09-27T08:10:31.503Z"
   },
   {
    "duration": 102,
    "start_time": "2021-09-27T08:10:31.596Z"
   },
   {
    "duration": 30,
    "start_time": "2021-09-27T08:10:31.701Z"
   },
   {
    "duration": 58,
    "start_time": "2021-09-27T08:10:31.734Z"
   },
   {
    "duration": 7,
    "start_time": "2021-09-27T08:10:31.794Z"
   },
   {
    "duration": 46,
    "start_time": "2021-09-27T08:10:31.804Z"
   },
   {
    "duration": 41,
    "start_time": "2021-09-27T08:10:31.853Z"
   },
   {
    "duration": 20,
    "start_time": "2021-09-27T08:10:31.896Z"
   },
   {
    "duration": 680,
    "start_time": "2021-09-27T08:10:31.918Z"
   },
   {
    "duration": 18,
    "start_time": "2021-09-27T08:10:32.602Z"
   },
   {
    "duration": 698,
    "start_time": "2021-09-27T08:10:32.622Z"
   },
   {
    "duration": 18,
    "start_time": "2021-09-27T08:10:33.323Z"
   },
   {
    "duration": 603,
    "start_time": "2021-09-27T08:10:33.343Z"
   },
   {
    "duration": 612,
    "start_time": "2021-09-27T08:10:33.948Z"
   },
   {
    "duration": 979,
    "start_time": "2021-09-27T08:10:34.562Z"
   },
   {
    "duration": 727,
    "start_time": "2021-09-27T08:10:35.544Z"
   },
   {
    "duration": 906,
    "start_time": "2021-09-27T08:10:36.274Z"
   },
   {
    "duration": 970,
    "start_time": "2021-09-27T08:10:37.182Z"
   },
   {
    "duration": 578,
    "start_time": "2021-09-27T08:10:38.154Z"
   },
   {
    "duration": 707,
    "start_time": "2021-09-27T08:10:38.734Z"
   },
   {
    "duration": 893,
    "start_time": "2021-09-27T08:10:39.444Z"
   },
   {
    "duration": 42,
    "start_time": "2021-09-27T08:10:40.340Z"
   },
   {
    "duration": 594,
    "start_time": "2021-09-27T08:10:40.384Z"
   },
   {
    "duration": 28,
    "start_time": "2021-09-27T08:10:40.980Z"
   },
   {
    "duration": 635,
    "start_time": "2021-09-27T08:10:41.010Z"
   },
   {
    "duration": 33,
    "start_time": "2021-09-27T08:10:41.648Z"
   },
   {
    "duration": 21,
    "start_time": "2021-09-27T08:10:41.683Z"
   },
   {
    "duration": 19,
    "start_time": "2021-09-27T08:10:41.706Z"
   },
   {
    "duration": 42,
    "start_time": "2021-09-27T08:10:41.728Z"
   },
   {
    "duration": 7,
    "start_time": "2021-09-27T08:10:41.772Z"
   },
   {
    "duration": 9,
    "start_time": "2021-09-27T08:10:41.782Z"
   },
   {
    "duration": 20,
    "start_time": "2021-09-27T08:10:41.794Z"
   },
   {
    "duration": 20,
    "start_time": "2021-09-27T08:10:41.817Z"
   },
   {
    "duration": 10,
    "start_time": "2021-09-27T08:10:41.868Z"
   },
   {
    "duration": 7,
    "start_time": "2021-09-27T08:10:41.880Z"
   },
   {
    "duration": 8,
    "start_time": "2021-09-27T08:10:41.889Z"
   },
   {
    "duration": 7,
    "start_time": "2021-09-27T08:10:41.900Z"
   },
   {
    "duration": 9,
    "start_time": "2021-09-27T08:10:41.910Z"
   },
   {
    "duration": 4,
    "start_time": "2021-09-27T08:11:49.676Z"
   },
   {
    "duration": 16,
    "start_time": "2021-09-27T08:11:51.758Z"
   },
   {
    "duration": 28,
    "start_time": "2021-09-27T08:19:08.910Z"
   },
   {
    "duration": 399,
    "start_time": "2021-09-27T08:33:55.719Z"
   },
   {
    "duration": 313,
    "start_time": "2021-09-27T15:26:56.958Z"
   },
   {
    "duration": 588,
    "start_time": "2021-09-27T15:27:02.451Z"
   },
   {
    "duration": 340,
    "start_time": "2021-09-27T15:27:16.783Z"
   },
   {
    "duration": 7086,
    "start_time": "2021-09-27T15:27:28.821Z"
   },
   {
    "duration": 1476,
    "start_time": "2021-09-27T15:27:35.910Z"
   },
   {
    "duration": 4087,
    "start_time": "2021-09-27T15:27:37.389Z"
   },
   {
    "duration": 5,
    "start_time": "2021-09-27T15:27:41.480Z"
   },
   {
    "duration": 1046,
    "start_time": "2021-09-27T15:27:41.487Z"
   },
   {
    "duration": 21,
    "start_time": "2021-09-27T15:27:42.536Z"
   },
   {
    "duration": 30,
    "start_time": "2021-09-27T15:27:42.559Z"
   },
   {
    "duration": 9,
    "start_time": "2021-09-27T15:27:42.593Z"
   },
   {
    "duration": 55,
    "start_time": "2021-09-27T15:27:42.605Z"
   },
   {
    "duration": 28,
    "start_time": "2021-09-27T15:27:42.663Z"
   },
   {
    "duration": 38,
    "start_time": "2021-09-27T15:27:42.693Z"
   },
   {
    "duration": 17,
    "start_time": "2021-09-27T15:27:42.733Z"
   },
   {
    "duration": 23,
    "start_time": "2021-09-27T15:27:42.752Z"
   },
   {
    "duration": 28,
    "start_time": "2021-09-27T15:27:42.778Z"
   },
   {
    "duration": 44,
    "start_time": "2021-09-27T15:27:42.816Z"
   },
   {
    "duration": 6,
    "start_time": "2021-09-27T15:27:42.862Z"
   },
   {
    "duration": 292,
    "start_time": "2021-09-27T15:27:42.870Z"
   },
   {
    "duration": 132,
    "start_time": "2021-09-27T15:27:43.165Z"
   },
   {
    "duration": 18,
    "start_time": "2021-09-27T15:27:43.299Z"
   },
   {
    "duration": 17,
    "start_time": "2021-09-27T15:27:43.319Z"
   },
   {
    "duration": 38,
    "start_time": "2021-09-27T15:27:43.338Z"
   },
   {
    "duration": 5,
    "start_time": "2021-09-27T15:27:43.379Z"
   },
   {
    "duration": 156,
    "start_time": "2021-09-27T15:27:43.390Z"
   },
   {
    "duration": 76,
    "start_time": "2021-09-27T15:27:43.550Z"
   },
   {
    "duration": 11,
    "start_time": "2021-09-27T15:27:43.628Z"
   },
   {
    "duration": 46,
    "start_time": "2021-09-27T15:27:43.642Z"
   },
   {
    "duration": 5,
    "start_time": "2021-09-27T15:27:43.690Z"
   },
   {
    "duration": 191,
    "start_time": "2021-09-27T15:27:43.716Z"
   },
   {
    "duration": 139,
    "start_time": "2021-09-27T15:27:43.916Z"
   },
   {
    "duration": 64,
    "start_time": "2021-09-27T15:27:44.057Z"
   },
   {
    "duration": 27,
    "start_time": "2021-09-27T15:27:44.123Z"
   },
   {
    "duration": 29,
    "start_time": "2021-09-27T15:27:44.152Z"
   },
   {
    "duration": 269,
    "start_time": "2021-09-27T15:27:44.183Z"
   },
   {
    "duration": 124,
    "start_time": "2021-09-27T15:27:44.455Z"
   },
   {
    "duration": 95,
    "start_time": "2021-09-27T15:27:44.582Z"
   },
   {
    "duration": 13,
    "start_time": "2021-09-27T15:27:44.680Z"
   },
   {
    "duration": 62,
    "start_time": "2021-09-27T15:27:44.696Z"
   },
   {
    "duration": 11,
    "start_time": "2021-09-27T15:27:44.761Z"
   },
   {
    "duration": 42,
    "start_time": "2021-09-27T15:27:44.775Z"
   },
   {
    "duration": 1233,
    "start_time": "2021-09-27T15:27:44.819Z"
   },
   {
    "duration": 468,
    "start_time": "2021-09-27T15:27:46.055Z"
   },
   {
    "duration": 472,
    "start_time": "2021-09-27T15:27:46.526Z"
   },
   {
    "duration": 29,
    "start_time": "2021-09-27T15:27:47.000Z"
   },
   {
    "duration": 17,
    "start_time": "2021-09-27T15:27:47.032Z"
   },
   {
    "duration": 15,
    "start_time": "2021-09-27T15:27:47.052Z"
   },
   {
    "duration": 18,
    "start_time": "2021-09-27T15:27:47.070Z"
   },
   {
    "duration": 40,
    "start_time": "2021-09-27T15:27:47.090Z"
   },
   {
    "duration": 126,
    "start_time": "2021-09-27T15:27:47.133Z"
   },
   {
    "duration": 26,
    "start_time": "2021-09-27T15:27:47.261Z"
   },
   {
    "duration": 11,
    "start_time": "2021-09-27T15:27:47.289Z"
   },
   {
    "duration": 14,
    "start_time": "2021-09-27T15:27:47.302Z"
   },
   {
    "duration": 25,
    "start_time": "2021-09-27T15:27:47.319Z"
   },
   {
    "duration": 20,
    "start_time": "2021-09-27T15:27:47.346Z"
   },
   {
    "duration": 18,
    "start_time": "2021-09-27T15:27:47.368Z"
   },
   {
    "duration": 400,
    "start_time": "2021-09-27T15:27:47.416Z"
   },
   {
    "duration": 35,
    "start_time": "2021-09-27T15:27:47.818Z"
   },
   {
    "duration": 21,
    "start_time": "2021-09-27T15:27:47.855Z"
   },
   {
    "duration": 92,
    "start_time": "2021-09-27T15:27:47.879Z"
   },
   {
    "duration": 1374,
    "start_time": "2021-09-27T15:27:47.974Z"
   },
   {
    "duration": 11,
    "start_time": "2021-09-27T15:27:49.351Z"
   },
   {
    "duration": 1737,
    "start_time": "2021-09-27T15:27:49.364Z"
   },
   {
    "duration": 20,
    "start_time": "2021-09-27T15:27:51.104Z"
   },
   {
    "duration": 519,
    "start_time": "2021-09-27T15:27:51.127Z"
   },
   {
    "duration": 412,
    "start_time": "2021-09-27T15:27:51.649Z"
   },
   {
    "duration": 65,
    "start_time": "2021-09-27T15:27:52.064Z"
   },
   {
    "duration": 13,
    "start_time": "2021-09-27T15:27:52.132Z"
   },
   {
    "duration": 19,
    "start_time": "2021-09-27T15:27:52.148Z"
   },
   {
    "duration": 51,
    "start_time": "2021-09-27T15:27:52.178Z"
   },
   {
    "duration": 82,
    "start_time": "2021-09-27T15:27:52.234Z"
   },
   {
    "duration": 25,
    "start_time": "2021-09-27T15:27:52.318Z"
   },
   {
    "duration": 10,
    "start_time": "2021-09-27T15:27:52.346Z"
   },
   {
    "duration": 21,
    "start_time": "2021-09-27T15:27:52.359Z"
   },
   {
    "duration": 73,
    "start_time": "2021-09-27T15:27:52.383Z"
   },
   {
    "duration": 1327,
    "start_time": "2021-09-27T15:27:52.459Z"
   },
   {
    "duration": 1861,
    "start_time": "2021-09-27T15:27:53.789Z"
   },
   {
    "duration": 38,
    "start_time": "2021-09-27T15:27:55.653Z"
   },
   {
    "duration": 40,
    "start_time": "2021-09-27T15:27:55.693Z"
   },
   {
    "duration": 43,
    "start_time": "2021-09-27T15:27:55.735Z"
   },
   {
    "duration": 53,
    "start_time": "2021-09-27T15:27:55.780Z"
   },
   {
    "duration": 11,
    "start_time": "2021-09-27T15:27:55.836Z"
   },
   {
    "duration": 49,
    "start_time": "2021-09-27T15:27:55.850Z"
   },
   {
    "duration": 24,
    "start_time": "2021-09-27T15:27:55.901Z"
   },
   {
    "duration": 38,
    "start_time": "2021-09-27T15:27:55.928Z"
   },
   {
    "duration": 71,
    "start_time": "2021-09-27T15:27:55.968Z"
   },
   {
    "duration": 1540,
    "start_time": "2021-09-27T15:27:56.041Z"
   },
   {
    "duration": 2041,
    "start_time": "2021-09-27T15:27:57.584Z"
   },
   {
    "duration": 44,
    "start_time": "2021-09-27T15:27:59.627Z"
   },
   {
    "duration": 1654,
    "start_time": "2021-09-27T15:28:49.896Z"
   },
   {
    "duration": 1636,
    "start_time": "2021-09-27T15:28:49.916Z"
   },
   {
    "duration": 1619,
    "start_time": "2021-09-27T15:28:49.934Z"
   },
   {
    "duration": 1599,
    "start_time": "2021-09-27T15:28:49.956Z"
   },
   {
    "duration": 1573,
    "start_time": "2021-09-27T15:28:49.983Z"
   },
   {
    "duration": 1526,
    "start_time": "2021-09-27T15:28:50.032Z"
   },
   {
    "duration": 1504,
    "start_time": "2021-09-27T15:28:50.055Z"
   },
   {
    "duration": 1542,
    "start_time": "2021-09-27T15:28:50.074Z"
   },
   {
    "duration": 1524,
    "start_time": "2021-09-27T15:28:50.094Z"
   },
   {
    "duration": 1506,
    "start_time": "2021-09-27T15:28:50.113Z"
   },
   {
    "duration": 1460,
    "start_time": "2021-09-27T15:28:50.160Z"
   },
   {
    "duration": 1445,
    "start_time": "2021-09-27T15:28:50.177Z"
   },
   {
    "duration": 1426,
    "start_time": "2021-09-27T15:28:50.197Z"
   },
   {
    "duration": 1410,
    "start_time": "2021-09-27T15:28:50.214Z"
   },
   {
    "duration": 1389,
    "start_time": "2021-09-27T15:28:50.236Z"
   },
   {
    "duration": 1374,
    "start_time": "2021-09-27T15:28:50.253Z"
   },
   {
    "duration": 1334,
    "start_time": "2021-09-27T15:28:50.294Z"
   },
   {
    "duration": 1318,
    "start_time": "2021-09-27T15:28:50.311Z"
   },
   {
    "duration": 1301,
    "start_time": "2021-09-27T15:28:50.330Z"
   },
   {
    "duration": 1283,
    "start_time": "2021-09-27T15:28:50.349Z"
   },
   {
    "duration": 1265,
    "start_time": "2021-09-27T15:28:50.368Z"
   },
   {
    "duration": 1249,
    "start_time": "2021-09-27T15:28:50.385Z"
   },
   {
    "duration": 1197,
    "start_time": "2021-09-27T15:28:50.438Z"
   },
   {
    "duration": 1184,
    "start_time": "2021-09-27T15:28:50.453Z"
   },
   {
    "duration": 1167,
    "start_time": "2021-09-27T15:28:50.471Z"
   },
   {
    "duration": 1151,
    "start_time": "2021-09-27T15:28:50.489Z"
   },
   {
    "duration": 1129,
    "start_time": "2021-09-27T15:28:50.512Z"
   },
   {
    "duration": 1113,
    "start_time": "2021-09-27T15:28:50.529Z"
   },
   {
    "duration": 1076,
    "start_time": "2021-09-27T15:28:50.568Z"
   },
   {
    "duration": 1064,
    "start_time": "2021-09-27T15:28:50.581Z"
   },
   {
    "duration": 693,
    "start_time": "2021-09-27T15:28:50.953Z"
   },
   {
    "duration": 687,
    "start_time": "2021-09-27T15:28:50.960Z"
   },
   {
    "duration": 681,
    "start_time": "2021-09-27T15:28:50.968Z"
   },
   {
    "duration": 676,
    "start_time": "2021-09-27T15:28:50.974Z"
   },
   {
    "duration": 445,
    "start_time": "2021-09-27T15:28:51.207Z"
   },
   {
    "duration": 493,
    "start_time": "2021-09-27T15:28:51.223Z"
   },
   {
    "duration": 488,
    "start_time": "2021-09-27T15:28:51.230Z"
   },
   {
    "duration": 481,
    "start_time": "2021-09-27T15:28:51.238Z"
   },
   {
    "duration": 475,
    "start_time": "2021-09-27T15:28:51.246Z"
   },
   {
    "duration": 470,
    "start_time": "2021-09-27T15:28:51.252Z"
   },
   {
    "duration": 463,
    "start_time": "2021-09-27T15:28:51.260Z"
   },
   {
    "duration": 458,
    "start_time": "2021-09-27T15:28:51.267Z"
   },
   {
    "duration": 451,
    "start_time": "2021-09-27T15:28:51.275Z"
   },
   {
    "duration": 446,
    "start_time": "2021-09-27T15:28:51.282Z"
   },
   {
    "duration": 332,
    "start_time": "2021-09-27T15:28:51.397Z"
   },
   {
    "duration": 323,
    "start_time": "2021-09-27T15:28:51.408Z"
   },
   {
    "duration": 316,
    "start_time": "2021-09-27T15:28:51.416Z"
   },
   {
    "duration": 309,
    "start_time": "2021-09-27T15:28:51.424Z"
   },
   {
    "duration": 303,
    "start_time": "2021-09-27T15:28:51.431Z"
   },
   {
    "duration": 297,
    "start_time": "2021-09-27T15:28:51.439Z"
   },
   {
    "duration": 291,
    "start_time": "2021-09-27T15:28:51.446Z"
   },
   {
    "duration": 287,
    "start_time": "2021-09-27T15:28:51.452Z"
   },
   {
    "duration": 280,
    "start_time": "2021-09-27T15:28:51.460Z"
   },
   {
    "duration": 275,
    "start_time": "2021-09-27T15:28:51.466Z"
   },
   {
    "duration": 267,
    "start_time": "2021-09-27T15:28:51.475Z"
   },
   {
    "duration": 263,
    "start_time": "2021-09-27T15:28:51.481Z"
   },
   {
    "duration": 66,
    "start_time": "2021-09-27T15:28:51.679Z"
   },
   {
    "duration": 60,
    "start_time": "2021-09-27T15:28:51.686Z"
   },
   {
    "duration": -51,
    "start_time": "2021-09-27T15:28:51.798Z"
   },
   {
    "duration": -64,
    "start_time": "2021-09-27T15:28:51.813Z"
   },
   {
    "duration": -72,
    "start_time": "2021-09-27T15:28:51.822Z"
   },
   {
    "duration": -77,
    "start_time": "2021-09-27T15:28:51.829Z"
   },
   {
    "duration": -85,
    "start_time": "2021-09-27T15:28:51.838Z"
   },
   {
    "duration": -90,
    "start_time": "2021-09-27T15:28:51.844Z"
   },
   {
    "duration": -37,
    "start_time": "2021-09-27T15:28:51.852Z"
   },
   {
    "duration": -41,
    "start_time": "2021-09-27T15:28:51.858Z"
   },
   {
    "duration": -48,
    "start_time": "2021-09-27T15:28:51.866Z"
   },
   {
    "duration": -151,
    "start_time": "2021-09-27T15:28:51.971Z"
   },
   {
    "duration": -156,
    "start_time": "2021-09-27T15:28:51.978Z"
   },
   {
    "duration": -161,
    "start_time": "2021-09-27T15:28:51.984Z"
   },
   {
    "duration": -167,
    "start_time": "2021-09-27T15:28:51.992Z"
   },
   {
    "duration": -172,
    "start_time": "2021-09-27T15:28:51.998Z"
   },
   {
    "duration": -179,
    "start_time": "2021-09-27T15:28:52.006Z"
   },
   {
    "duration": -183,
    "start_time": "2021-09-27T15:28:52.012Z"
   },
   {
    "duration": -189,
    "start_time": "2021-09-27T15:28:52.019Z"
   },
   {
    "duration": -195,
    "start_time": "2021-09-27T15:28:52.026Z"
   },
   {
    "duration": -200,
    "start_time": "2021-09-27T15:28:52.033Z"
   },
   {
    "duration": -416,
    "start_time": "2021-09-27T15:28:52.250Z"
   },
   {
    "duration": -422,
    "start_time": "2021-09-27T15:28:52.257Z"
   },
   {
    "duration": -429,
    "start_time": "2021-09-27T15:28:52.265Z"
   },
   {
    "duration": -435,
    "start_time": "2021-09-27T15:28:52.273Z"
   },
   {
    "duration": -439,
    "start_time": "2021-09-27T15:28:52.278Z"
   },
   {
    "duration": -446,
    "start_time": "2021-09-27T15:28:52.286Z"
   },
   {
    "duration": -450,
    "start_time": "2021-09-27T15:28:52.292Z"
   },
   {
    "duration": -455,
    "start_time": "2021-09-27T15:28:52.298Z"
   },
   {
    "duration": -460,
    "start_time": "2021-09-27T15:28:52.305Z"
   },
   {
    "duration": -466,
    "start_time": "2021-09-27T15:28:52.312Z"
   },
   {
    "duration": -471,
    "start_time": "2021-09-27T15:28:52.318Z"
   },
   {
    "duration": -477,
    "start_time": "2021-09-27T15:28:52.326Z"
   },
   {
    "duration": -482,
    "start_time": "2021-09-27T15:28:52.332Z"
   },
   {
    "duration": -489,
    "start_time": "2021-09-27T15:28:52.341Z"
   },
   {
    "duration": -495,
    "start_time": "2021-09-27T15:28:52.348Z"
   },
   {
    "duration": -451,
    "start_time": "2021-09-27T15:28:52.371Z"
   },
   {
    "duration": -565,
    "start_time": "2021-09-27T15:28:52.486Z"
   },
   {
    "duration": -822,
    "start_time": "2021-09-27T15:28:52.745Z"
   },
   {
    "duration": -828,
    "start_time": "2021-09-27T15:28:52.753Z"
   },
   {
    "duration": -835,
    "start_time": "2021-09-27T15:28:52.761Z"
   },
   {
    "duration": -841,
    "start_time": "2021-09-27T15:28:52.768Z"
   },
   {
    "duration": -846,
    "start_time": "2021-09-27T15:28:52.775Z"
   },
   {
    "duration": -851,
    "start_time": "2021-09-27T15:28:52.781Z"
   },
   {
    "duration": -857,
    "start_time": "2021-09-27T15:28:52.789Z"
   },
   {
    "duration": -863,
    "start_time": "2021-09-27T15:28:52.796Z"
   },
   {
    "duration": -868,
    "start_time": "2021-09-27T15:28:52.803Z"
   },
   {
    "duration": -874,
    "start_time": "2021-09-27T15:28:52.810Z"
   },
   {
    "duration": -879,
    "start_time": "2021-09-27T15:28:52.817Z"
   },
   {
    "duration": -883,
    "start_time": "2021-09-27T15:28:52.823Z"
   },
   {
    "duration": -890,
    "start_time": "2021-09-27T15:28:52.831Z"
   },
   {
    "duration": -897,
    "start_time": "2021-09-27T15:28:52.839Z"
   },
   {
    "duration": -915,
    "start_time": "2021-09-27T15:28:52.859Z"
   },
   {
    "duration": -1085,
    "start_time": "2021-09-27T15:28:53.030Z"
   },
   {
    "duration": -1090,
    "start_time": "2021-09-27T15:28:53.037Z"
   },
   {
    "duration": -1095,
    "start_time": "2021-09-27T15:28:53.044Z"
   },
   {
    "duration": -1102,
    "start_time": "2021-09-27T15:28:53.052Z"
   },
   {
    "duration": -1106,
    "start_time": "2021-09-27T15:28:53.058Z"
   },
   {
    "duration": -1150,
    "start_time": "2021-09-27T15:28:53.166Z"
   },
   {
    "duration": -1155,
    "start_time": "2021-09-27T15:28:53.173Z"
   },
   {
    "duration": -1162,
    "start_time": "2021-09-27T15:28:53.181Z"
   },
   {
    "duration": -1167,
    "start_time": "2021-09-27T15:28:53.188Z"
   },
   {
    "duration": -1172,
    "start_time": "2021-09-27T15:28:53.195Z"
   },
   {
    "duration": -1178,
    "start_time": "2021-09-27T15:28:53.202Z"
   },
   {
    "duration": -1184,
    "start_time": "2021-09-27T15:28:53.210Z"
   },
   {
    "duration": -1188,
    "start_time": "2021-09-27T15:28:53.216Z"
   },
   {
    "duration": -1242,
    "start_time": "2021-09-27T15:28:53.271Z"
   },
   {
    "duration": -1246,
    "start_time": "2021-09-27T15:28:53.276Z"
   },
   {
    "duration": -1251,
    "start_time": "2021-09-27T15:28:53.283Z"
   },
   {
    "duration": -1256,
    "start_time": "2021-09-27T15:28:53.290Z"
   },
   {
    "duration": -1263,
    "start_time": "2021-09-27T15:28:53.298Z"
   },
   {
    "duration": -1268,
    "start_time": "2021-09-27T15:28:53.305Z"
   },
   {
    "duration": -1273,
    "start_time": "2021-09-27T15:28:53.312Z"
   },
   {
    "duration": -1279,
    "start_time": "2021-09-27T15:28:53.319Z"
   },
   {
    "duration": -1286,
    "start_time": "2021-09-27T15:28:53.327Z"
   },
   {
    "duration": -1302,
    "start_time": "2021-09-27T15:28:53.345Z"
   },
   {
    "duration": -1309,
    "start_time": "2021-09-27T15:28:53.353Z"
   },
   {
    "duration": -1313,
    "start_time": "2021-09-27T15:28:53.359Z"
   },
   {
    "duration": -1320,
    "start_time": "2021-09-27T15:28:53.367Z"
   },
   {
    "duration": -1325,
    "start_time": "2021-09-27T15:28:53.374Z"
   },
   {
    "duration": -1331,
    "start_time": "2021-09-27T15:28:53.381Z"
   },
   {
    "duration": -1339,
    "start_time": "2021-09-27T15:28:53.390Z"
   },
   {
    "duration": -1349,
    "start_time": "2021-09-27T15:28:53.402Z"
   },
   {
    "duration": -1358,
    "start_time": "2021-09-27T15:28:53.412Z"
   },
   {
    "duration": -1306,
    "start_time": "2021-09-27T15:28:53.423Z"
   },
   {
    "duration": -1634,
    "start_time": "2021-09-27T15:28:53.752Z"
   },
   {
    "duration": -1740,
    "start_time": "2021-09-27T15:28:53.860Z"
   },
   {
    "duration": -1745,
    "start_time": "2021-09-27T15:28:53.866Z"
   },
   {
    "duration": -1751,
    "start_time": "2021-09-27T15:28:53.873Z"
   },
   {
    "duration": -1755,
    "start_time": "2021-09-27T15:28:53.879Z"
   },
   {
    "duration": -1762,
    "start_time": "2021-09-27T15:28:53.887Z"
   },
   {
    "duration": -1766,
    "start_time": "2021-09-27T15:28:53.893Z"
   },
   {
    "duration": -1774,
    "start_time": "2021-09-27T15:28:53.902Z"
   },
   {
    "duration": -1778,
    "start_time": "2021-09-27T15:28:53.908Z"
   },
   {
    "duration": -1784,
    "start_time": "2021-09-27T15:28:53.915Z"
   },
   {
    "duration": -1790,
    "start_time": "2021-09-27T15:28:53.922Z"
   },
   {
    "duration": -1795,
    "start_time": "2021-09-27T15:28:53.929Z"
   },
   {
    "duration": -1812,
    "start_time": "2021-09-27T15:28:53.947Z"
   },
   {
    "duration": -1820,
    "start_time": "2021-09-27T15:28:53.957Z"
   },
   {
    "duration": -1825,
    "start_time": "2021-09-27T15:28:53.963Z"
   },
   {
    "duration": -1831,
    "start_time": "2021-09-27T15:28:53.971Z"
   },
   {
    "duration": -1836,
    "start_time": "2021-09-27T15:28:53.977Z"
   },
   {
    "duration": -1843,
    "start_time": "2021-09-27T15:28:53.986Z"
   },
   {
    "duration": -1849,
    "start_time": "2021-09-27T15:28:53.993Z"
   },
   {
    "duration": -1857,
    "start_time": "2021-09-27T15:28:54.002Z"
   },
   {
    "duration": -1866,
    "start_time": "2021-09-27T15:28:54.013Z"
   },
   {
    "duration": -1879,
    "start_time": "2021-09-27T15:28:54.027Z"
   },
   {
    "duration": -1891,
    "start_time": "2021-09-27T15:28:54.041Z"
   },
   {
    "duration": -1919,
    "start_time": "2021-09-27T15:28:54.070Z"
   },
   {
    "duration": 5343,
    "start_time": "2021-09-27T15:29:58.781Z"
   },
   {
    "duration": 1444,
    "start_time": "2021-09-27T15:30:04.127Z"
   },
   {
    "duration": 4195,
    "start_time": "2021-09-27T15:30:05.574Z"
   },
   {
    "duration": 4,
    "start_time": "2021-09-27T15:30:09.772Z"
   },
   {
    "duration": 1261,
    "start_time": "2021-09-27T15:30:09.778Z"
   },
   {
    "duration": 20,
    "start_time": "2021-09-27T15:30:11.041Z"
   },
   {
    "duration": 17,
    "start_time": "2021-09-27T15:30:11.064Z"
   },
   {
    "duration": 8,
    "start_time": "2021-09-27T15:30:11.086Z"
   },
   {
    "duration": 57,
    "start_time": "2021-09-27T15:30:11.097Z"
   },
   {
    "duration": 28,
    "start_time": "2021-09-27T15:30:11.157Z"
   },
   {
    "duration": 56,
    "start_time": "2021-09-27T15:30:11.188Z"
   },
   {
    "duration": 14,
    "start_time": "2021-09-27T15:30:11.246Z"
   },
   {
    "duration": 9,
    "start_time": "2021-09-27T15:30:11.263Z"
   },
   {
    "duration": 52,
    "start_time": "2021-09-27T15:30:11.275Z"
   },
   {
    "duration": 35,
    "start_time": "2021-09-27T15:30:11.329Z"
   },
   {
    "duration": 5,
    "start_time": "2021-09-27T15:30:11.367Z"
   },
   {
    "duration": 317,
    "start_time": "2021-09-27T15:30:11.375Z"
   },
   {
    "duration": 133,
    "start_time": "2021-09-27T15:30:11.694Z"
   },
   {
    "duration": 15,
    "start_time": "2021-09-27T15:30:11.829Z"
   },
   {
    "duration": 12,
    "start_time": "2021-09-27T15:30:11.846Z"
   },
   {
    "duration": 27,
    "start_time": "2021-09-27T15:30:11.860Z"
   },
   {
    "duration": 7,
    "start_time": "2021-09-27T15:30:11.917Z"
   },
   {
    "duration": 150,
    "start_time": "2021-09-27T15:30:11.930Z"
   },
   {
    "duration": 73,
    "start_time": "2021-09-27T15:30:12.086Z"
   },
   {
    "duration": 11,
    "start_time": "2021-09-27T15:30:12.161Z"
   },
   {
    "duration": 56,
    "start_time": "2021-09-27T15:30:12.174Z"
   },
   {
    "duration": 5,
    "start_time": "2021-09-27T15:30:12.233Z"
   },
   {
    "duration": 189,
    "start_time": "2021-09-27T15:30:12.241Z"
   },
   {
    "duration": 137,
    "start_time": "2021-09-27T15:30:12.432Z"
   },
   {
    "duration": 23,
    "start_time": "2021-09-27T15:30:12.572Z"
   },
   {
    "duration": 29,
    "start_time": "2021-09-27T15:30:12.597Z"
   },
   {
    "duration": 22,
    "start_time": "2021-09-27T15:30:12.629Z"
   },
   {
    "duration": 11,
    "start_time": "2021-09-27T15:30:12.653Z"
   },
   {
    "duration": 61,
    "start_time": "2021-09-27T15:30:12.666Z"
   },
   {
    "duration": 109,
    "start_time": "2021-09-27T15:30:12.730Z"
   },
   {
    "duration": 13,
    "start_time": "2021-09-27T15:30:12.841Z"
   },
   {
    "duration": 43,
    "start_time": "2021-09-27T15:30:12.856Z"
   },
   {
    "duration": 8,
    "start_time": "2021-09-27T15:30:12.917Z"
   },
   {
    "duration": 11,
    "start_time": "2021-09-27T15:30:12.927Z"
   },
   {
    "duration": 1245,
    "start_time": "2021-09-27T15:30:12.940Z"
   },
   {
    "duration": 453,
    "start_time": "2021-09-27T15:30:14.187Z"
   },
   {
    "duration": 467,
    "start_time": "2021-09-27T15:30:14.642Z"
   },
   {
    "duration": 21,
    "start_time": "2021-09-27T15:30:15.115Z"
   },
   {
    "duration": 19,
    "start_time": "2021-09-27T15:30:15.138Z"
   },
   {
    "duration": 16,
    "start_time": "2021-09-27T15:30:15.160Z"
   },
   {
    "duration": 38,
    "start_time": "2021-09-27T15:30:15.178Z"
   },
   {
    "duration": 18,
    "start_time": "2021-09-27T15:30:15.219Z"
   },
   {
    "duration": 120,
    "start_time": "2021-09-27T15:30:15.239Z"
   },
   {
    "duration": 25,
    "start_time": "2021-09-27T15:30:15.362Z"
   },
   {
    "duration": 24,
    "start_time": "2021-09-27T15:30:15.389Z"
   },
   {
    "duration": 27,
    "start_time": "2021-09-27T15:30:15.415Z"
   },
   {
    "duration": 36,
    "start_time": "2021-09-27T15:30:15.444Z"
   },
   {
    "duration": 29,
    "start_time": "2021-09-27T15:30:15.483Z"
   },
   {
    "duration": 35,
    "start_time": "2021-09-27T15:30:15.515Z"
   },
   {
    "duration": 377,
    "start_time": "2021-09-27T15:30:15.553Z"
   },
   {
    "duration": 32,
    "start_time": "2021-09-27T15:30:15.933Z"
   },
   {
    "duration": 23,
    "start_time": "2021-09-27T15:30:15.968Z"
   },
   {
    "duration": 88,
    "start_time": "2021-09-27T15:30:15.993Z"
   },
   {
    "duration": 1310,
    "start_time": "2021-09-27T15:30:16.084Z"
   },
   {
    "duration": 21,
    "start_time": "2021-09-27T15:30:17.398Z"
   },
   {
    "duration": 1712,
    "start_time": "2021-09-27T15:30:17.422Z"
   },
   {
    "duration": 13,
    "start_time": "2021-09-27T15:30:19.136Z"
   },
   {
    "duration": 544,
    "start_time": "2021-09-27T15:30:19.151Z"
   },
   {
    "duration": 411,
    "start_time": "2021-09-27T15:30:19.697Z"
   },
   {
    "duration": 61,
    "start_time": "2021-09-27T15:30:20.111Z"
   },
   {
    "duration": 11,
    "start_time": "2021-09-27T15:30:20.175Z"
   },
   {
    "duration": 40,
    "start_time": "2021-09-27T15:30:20.189Z"
   },
   {
    "duration": 27,
    "start_time": "2021-09-27T15:30:20.240Z"
   },
   {
    "duration": 88,
    "start_time": "2021-09-27T15:30:20.271Z"
   },
   {
    "duration": 26,
    "start_time": "2021-09-27T15:30:20.361Z"
   },
   {
    "duration": 31,
    "start_time": "2021-09-27T15:30:20.389Z"
   },
   {
    "duration": 25,
    "start_time": "2021-09-27T15:30:20.422Z"
   },
   {
    "duration": 59,
    "start_time": "2021-09-27T15:30:20.449Z"
   },
   {
    "duration": 1296,
    "start_time": "2021-09-27T15:30:20.511Z"
   },
   {
    "duration": 1827,
    "start_time": "2021-09-27T15:30:21.809Z"
   },
   {
    "duration": 40,
    "start_time": "2021-09-27T15:30:23.639Z"
   },
   {
    "duration": 45,
    "start_time": "2021-09-27T15:30:23.682Z"
   },
   {
    "duration": 44,
    "start_time": "2021-09-27T15:30:23.729Z"
   },
   {
    "duration": 58,
    "start_time": "2021-09-27T15:30:23.775Z"
   },
   {
    "duration": 13,
    "start_time": "2021-09-27T15:30:23.836Z"
   },
   {
    "duration": 43,
    "start_time": "2021-09-27T15:30:23.852Z"
   },
   {
    "duration": 28,
    "start_time": "2021-09-27T15:30:23.898Z"
   },
   {
    "duration": 28,
    "start_time": "2021-09-27T15:30:23.929Z"
   },
   {
    "duration": 81,
    "start_time": "2021-09-27T15:30:23.960Z"
   },
   {
    "duration": 1404,
    "start_time": "2021-09-27T15:30:24.044Z"
   },
   {
    "duration": 1915,
    "start_time": "2021-09-27T15:30:25.450Z"
   },
   {
    "duration": 57,
    "start_time": "2021-09-27T15:30:27.367Z"
   },
   {
    "duration": 191,
    "start_time": "2021-09-27T15:30:27.426Z"
   },
   {
    "duration": 640,
    "start_time": "2021-09-27T15:30:27.620Z"
   },
   {
    "duration": 28,
    "start_time": "2021-09-27T15:30:28.264Z"
   },
   {
    "duration": 49,
    "start_time": "2021-09-27T15:30:28.315Z"
   },
   {
    "duration": 15,
    "start_time": "2021-09-27T15:30:28.367Z"
   },
   {
    "duration": 40,
    "start_time": "2021-09-27T15:30:28.385Z"
   },
   {
    "duration": 33,
    "start_time": "2021-09-27T15:30:28.428Z"
   },
   {
    "duration": 70,
    "start_time": "2021-09-27T15:30:28.463Z"
   },
   {
    "duration": 39,
    "start_time": "2021-09-27T15:30:28.536Z"
   },
   {
    "duration": 51,
    "start_time": "2021-09-27T15:30:28.577Z"
   },
   {
    "duration": 26,
    "start_time": "2021-09-27T15:30:28.631Z"
   },
   {
    "duration": 22,
    "start_time": "2021-09-27T15:30:28.659Z"
   },
   {
    "duration": 54,
    "start_time": "2021-09-27T15:30:28.683Z"
   },
   {
    "duration": 26,
    "start_time": "2021-09-27T15:30:28.740Z"
   },
   {
    "duration": 73,
    "start_time": "2021-09-27T15:30:28.768Z"
   },
   {
    "duration": 37,
    "start_time": "2021-09-27T15:30:28.844Z"
   },
   {
    "duration": 46,
    "start_time": "2021-09-27T15:30:28.884Z"
   },
   {
    "duration": 34,
    "start_time": "2021-09-27T15:30:28.933Z"
   },
   {
    "duration": 23,
    "start_time": "2021-09-27T15:30:28.969Z"
   },
   {
    "duration": 65,
    "start_time": "2021-09-27T15:30:28.995Z"
   },
   {
    "duration": 38,
    "start_time": "2021-09-27T15:30:29.062Z"
   },
   {
    "duration": 10,
    "start_time": "2021-09-27T15:30:29.117Z"
   },
   {
    "duration": 8,
    "start_time": "2021-09-27T15:30:29.129Z"
   },
   {
    "duration": 22,
    "start_time": "2021-09-27T15:30:29.140Z"
   },
   {
    "duration": 60,
    "start_time": "2021-09-27T15:30:29.165Z"
   },
   {
    "duration": 9,
    "start_time": "2021-09-27T15:30:29.227Z"
   },
   {
    "duration": 31,
    "start_time": "2021-09-27T15:30:29.238Z"
   },
   {
    "duration": 5,
    "start_time": "2021-09-27T15:30:29.271Z"
   },
   {
    "duration": 344,
    "start_time": "2021-09-27T15:30:29.278Z"
   },
   {
    "duration": 7,
    "start_time": "2021-09-27T15:30:29.624Z"
   },
   {
    "duration": 42,
    "start_time": "2021-09-27T15:30:29.633Z"
   },
   {
    "duration": 61,
    "start_time": "2021-09-27T15:30:29.678Z"
   },
   {
    "duration": 4,
    "start_time": "2021-09-27T15:30:29.741Z"
   },
   {
    "duration": 10,
    "start_time": "2021-09-27T15:30:29.747Z"
   },
   {
    "duration": 104,
    "start_time": "2021-09-27T15:30:29.759Z"
   },
   {
    "duration": 92,
    "start_time": "2021-09-27T15:30:29.865Z"
   },
   {
    "duration": 26,
    "start_time": "2021-09-27T15:30:29.959Z"
   },
   {
    "duration": 51,
    "start_time": "2021-09-27T15:30:29.987Z"
   },
   {
    "duration": 8,
    "start_time": "2021-09-27T15:30:30.041Z"
   },
   {
    "duration": 31,
    "start_time": "2021-09-27T15:30:30.052Z"
   },
   {
    "duration": 53,
    "start_time": "2021-09-27T15:30:30.086Z"
   },
   {
    "duration": 35,
    "start_time": "2021-09-27T15:30:30.142Z"
   },
   {
    "duration": 587,
    "start_time": "2021-09-27T15:30:30.179Z"
   },
   {
    "duration": 19,
    "start_time": "2021-09-27T15:30:30.769Z"
   },
   {
    "duration": 604,
    "start_time": "2021-09-27T15:30:30.791Z"
   },
   {
    "duration": 28,
    "start_time": "2021-09-27T15:30:31.397Z"
   },
   {
    "duration": 598,
    "start_time": "2021-09-27T15:30:31.428Z"
   },
   {
    "duration": 601,
    "start_time": "2021-09-27T15:30:32.029Z"
   },
   {
    "duration": 1092,
    "start_time": "2021-09-27T15:30:32.632Z"
   },
   {
    "duration": 596,
    "start_time": "2021-09-27T15:30:33.727Z"
   },
   {
    "duration": 599,
    "start_time": "2021-09-27T15:30:34.325Z"
   },
   {
    "duration": 869,
    "start_time": "2021-09-27T15:30:34.926Z"
   },
   {
    "duration": 562,
    "start_time": "2021-09-27T15:30:35.798Z"
   },
   {
    "duration": 604,
    "start_time": "2021-09-27T15:30:36.363Z"
   },
   {
    "duration": 930,
    "start_time": "2021-09-27T15:30:36.970Z"
   },
   {
    "duration": 32,
    "start_time": "2021-09-27T15:30:37.903Z"
   },
   {
    "duration": 853,
    "start_time": "2021-09-27T15:30:37.937Z"
   },
   {
    "duration": 33,
    "start_time": "2021-09-27T15:30:38.792Z"
   },
   {
    "duration": 591,
    "start_time": "2021-09-27T15:30:38.828Z"
   },
   {
    "duration": 5,
    "start_time": "2021-09-27T15:30:39.422Z"
   },
   {
    "duration": 1414,
    "start_time": "2021-09-27T15:30:39.430Z"
   },
   {
    "duration": 1658,
    "start_time": "2021-09-27T15:30:39.189Z"
   },
   {
    "duration": 1633,
    "start_time": "2021-09-27T15:30:39.216Z"
   },
   {
    "duration": 1609,
    "start_time": "2021-09-27T15:30:39.241Z"
   },
   {
    "duration": 1595,
    "start_time": "2021-09-27T15:30:39.257Z"
   },
   {
    "duration": 1560,
    "start_time": "2021-09-27T15:30:39.293Z"
   },
   {
    "duration": 1545,
    "start_time": "2021-09-27T15:30:39.310Z"
   },
   {
    "duration": 1522,
    "start_time": "2021-09-27T15:30:39.335Z"
   },
   {
    "duration": 1507,
    "start_time": "2021-09-27T15:30:39.351Z"
   },
   {
    "duration": 1491,
    "start_time": "2021-09-27T15:30:39.369Z"
   },
   {
    "duration": 1468,
    "start_time": "2021-09-27T15:30:39.393Z"
   },
   {
    "duration": 1419,
    "start_time": "2021-09-27T15:30:39.444Z"
   },
   {
    "duration": 1403,
    "start_time": "2021-09-27T15:30:39.461Z"
   },
   {
    "duration": 1387,
    "start_time": "2021-09-27T15:30:39.479Z"
   },
   {
    "duration": 1368,
    "start_time": "2021-09-27T15:30:39.499Z"
   },
   {
    "duration": 1338,
    "start_time": "2021-09-27T15:30:39.530Z"
   },
   {
    "duration": 1299,
    "start_time": "2021-09-27T15:30:39.571Z"
   },
   {
    "duration": 1276,
    "start_time": "2021-09-27T15:30:39.595Z"
   },
   {
    "duration": 7,
    "start_time": "2021-09-27T15:31:19.396Z"
   },
   {
    "duration": 452,
    "start_time": "2021-09-27T15:31:49.930Z"
   },
   {
    "duration": 44,
    "start_time": "2021-09-27T15:31:56.869Z"
   },
   {
    "duration": 1071,
    "start_time": "2021-09-27T15:32:27.066Z"
   },
   {
    "duration": 1098,
    "start_time": "2021-09-27T15:33:05.783Z"
   },
   {
    "duration": 29493,
    "start_time": "2021-10-06T17:10:53.508Z"
   },
   {
    "duration": 1384,
    "start_time": "2021-10-06T17:11:23.004Z"
   },
   {
    "duration": 185753,
    "start_time": "2021-10-06T17:11:24.391Z"
   },
   {
    "duration": 4,
    "start_time": "2021-10-06T17:14:30.147Z"
   },
   {
    "duration": 231,
    "start_time": "2021-10-06T17:14:30.155Z"
   },
   {
    "duration": 23,
    "start_time": "2021-10-06T17:14:30.389Z"
   },
   {
    "duration": 29,
    "start_time": "2021-10-06T17:14:30.415Z"
   },
   {
    "duration": 15,
    "start_time": "2021-10-06T17:14:30.449Z"
   },
   {
    "duration": 17,
    "start_time": "2021-10-06T17:14:30.468Z"
   },
   {
    "duration": 7,
    "start_time": "2021-10-06T17:14:30.487Z"
   },
   {
    "duration": 105,
    "start_time": "2021-10-06T17:14:30.496Z"
   },
   {
    "duration": 62,
    "start_time": "2021-10-06T17:14:30.603Z"
   },
   {
    "duration": 66,
    "start_time": "2021-10-06T17:14:30.667Z"
   },
   {
    "duration": 29,
    "start_time": "2021-10-06T17:14:30.736Z"
   },
   {
    "duration": 12,
    "start_time": "2021-10-06T17:14:30.768Z"
   },
   {
    "duration": 40,
    "start_time": "2021-10-06T17:14:30.782Z"
   },
   {
    "duration": 9,
    "start_time": "2021-10-06T17:14:30.825Z"
   },
   {
    "duration": 28,
    "start_time": "2021-10-06T17:14:30.836Z"
   },
   {
    "duration": 33,
    "start_time": "2021-10-06T17:14:30.866Z"
   },
   {
    "duration": 58,
    "start_time": "2021-10-06T17:14:30.901Z"
   },
   {
    "duration": 71,
    "start_time": "2021-10-06T17:14:30.962Z"
   },
   {
    "duration": 16,
    "start_time": "2021-10-06T17:14:31.035Z"
   },
   {
    "duration": 37,
    "start_time": "2021-10-06T17:14:31.060Z"
   },
   {
    "duration": 24,
    "start_time": "2021-10-06T17:14:31.103Z"
   },
   {
    "duration": 43,
    "start_time": "2021-10-06T17:14:31.130Z"
   },
   {
    "duration": 48,
    "start_time": "2021-10-06T17:14:31.176Z"
   },
   {
    "duration": 73,
    "start_time": "2021-10-06T17:14:31.227Z"
   },
   {
    "duration": 24,
    "start_time": "2021-10-06T17:14:31.303Z"
   },
   {
    "duration": 58,
    "start_time": "2021-10-06T17:14:31.330Z"
   },
   {
    "duration": 46,
    "start_time": "2021-10-06T17:14:31.391Z"
   },
   {
    "duration": 29,
    "start_time": "2021-10-06T17:14:31.440Z"
   },
   {
    "duration": 53,
    "start_time": "2021-10-06T17:14:31.472Z"
   },
   {
    "duration": 11,
    "start_time": "2021-10-06T17:14:31.527Z"
   },
   {
    "duration": 85,
    "start_time": "2021-10-06T17:14:31.540Z"
   },
   {
    "duration": 26,
    "start_time": "2021-10-06T17:14:31.627Z"
   },
   {
    "duration": 25,
    "start_time": "2021-10-06T17:14:31.655Z"
   },
   {
    "duration": 1334,
    "start_time": "2021-10-06T17:14:31.683Z"
   },
   {
    "duration": 174682,
    "start_time": "2021-10-06T17:14:33.022Z"
   },
   {
    "duration": 123015,
    "start_time": "2021-10-06T17:17:27.708Z"
   },
   {
    "duration": 236024,
    "start_time": "2021-10-06T17:19:30.725Z"
   },
   {
    "duration": 9,
    "start_time": "2021-10-06T17:23:26.751Z"
   },
   {
    "duration": 33,
    "start_time": "2021-10-06T17:23:26.763Z"
   },
   {
    "duration": 29,
    "start_time": "2021-10-06T17:23:26.799Z"
   },
   {
    "duration": 26,
    "start_time": "2021-10-06T17:23:26.831Z"
   },
   {
    "duration": 99,
    "start_time": "2021-10-06T17:23:26.860Z"
   },
   {
    "duration": 8,
    "start_time": "2021-10-06T17:23:26.962Z"
   },
   {
    "duration": 10,
    "start_time": "2021-10-06T17:23:26.973Z"
   },
   {
    "duration": 36,
    "start_time": "2021-10-06T17:23:26.986Z"
   },
   {
    "duration": 12,
    "start_time": "2021-10-06T17:23:27.026Z"
   },
   {
    "duration": 31,
    "start_time": "2021-10-06T17:23:27.041Z"
   },
   {
    "duration": 91,
    "start_time": "2021-10-06T17:23:27.075Z"
   },
   {
    "duration": 23,
    "start_time": "2021-10-06T17:23:27.169Z"
   },
   {
    "duration": 99,
    "start_time": "2021-10-06T17:23:27.195Z"
   },
   {
    "duration": 27,
    "start_time": "2021-10-06T17:23:27.297Z"
   },
   {
    "duration": 25,
    "start_time": "2021-10-06T17:23:27.327Z"
   },
   {
    "duration": 24,
    "start_time": "2021-10-06T17:23:27.354Z"
   },
   {
    "duration": 16,
    "start_time": "2021-10-06T17:23:27.423Z"
   },
   {
    "duration": 20,
    "start_time": "2021-10-06T17:23:27.442Z"
   },
   {
    "duration": 26,
    "start_time": "2021-10-06T17:23:27.464Z"
   },
   {
    "duration": 39,
    "start_time": "2021-10-06T17:23:27.494Z"
   },
   {
    "duration": 46,
    "start_time": "2021-10-06T17:23:27.536Z"
   },
   {
    "duration": 41,
    "start_time": "2021-10-06T17:23:27.585Z"
   },
   {
    "duration": 426,
    "start_time": "2021-10-06T17:23:27.629Z"
   },
   {
    "duration": 8,
    "start_time": "2021-10-06T17:23:28.058Z"
   },
   {
    "duration": 57,
    "start_time": "2021-10-06T17:23:28.068Z"
   },
   {
    "duration": 45,
    "start_time": "2021-10-06T17:23:28.128Z"
   },
   {
    "duration": 419,
    "start_time": "2021-10-06T17:23:28.176Z"
   },
   {
    "duration": 49,
    "start_time": "2021-10-06T17:23:28.604Z"
   },
   {
    "duration": 9,
    "start_time": "2021-10-06T17:23:28.657Z"
   },
   {
    "duration": 60,
    "start_time": "2021-10-06T17:23:28.669Z"
   },
   {
    "duration": 39,
    "start_time": "2021-10-06T17:23:28.732Z"
   },
   {
    "duration": 3,
    "start_time": "2021-10-06T17:23:28.774Z"
   },
   {
    "duration": 3415,
    "start_time": "2021-10-06T17:23:28.779Z"
   },
   {
    "duration": 30,
    "start_time": "2021-10-06T17:23:32.197Z"
   },
   {
    "duration": 11794,
    "start_time": "2021-10-06T17:23:32.230Z"
   },
   {
    "duration": 633,
    "start_time": "2021-10-06T17:23:44.027Z"
   },
   {
    "duration": 808,
    "start_time": "2021-10-06T17:23:44.662Z"
   },
   {
    "duration": 828,
    "start_time": "2021-10-06T17:23:45.473Z"
   },
   {
    "duration": 19,
    "start_time": "2021-10-06T17:23:46.304Z"
   },
   {
    "duration": 573,
    "start_time": "2021-10-06T17:23:46.327Z"
   },
   {
    "duration": 698,
    "start_time": "2021-10-06T17:23:46.904Z"
   },
   {
    "duration": 20,
    "start_time": "2021-10-06T17:23:47.606Z"
   },
   {
    "duration": 596,
    "start_time": "2021-10-06T17:23:47.629Z"
   },
   {
    "duration": 568,
    "start_time": "2021-10-06T17:23:48.228Z"
   },
   {
    "duration": 6,
    "start_time": "2021-10-06T17:23:48.799Z"
   },
   {
    "duration": 659,
    "start_time": "2021-10-06T17:23:48.822Z"
   },
   {
    "duration": 588,
    "start_time": "2021-10-06T17:23:49.484Z"
   },
   {
    "duration": 7,
    "start_time": "2021-10-06T17:23:50.075Z"
   },
   {
    "duration": 578,
    "start_time": "2021-10-06T17:23:50.084Z"
   },
   {
    "duration": 569,
    "start_time": "2021-10-06T17:23:50.664Z"
   },
   {
    "duration": 7,
    "start_time": "2021-10-06T17:23:51.236Z"
   },
   {
    "duration": 586,
    "start_time": "2021-10-06T17:23:51.245Z"
   },
   {
    "duration": 969,
    "start_time": "2021-10-06T17:23:51.834Z"
   },
   {
    "duration": 18,
    "start_time": "2021-10-06T17:23:52.806Z"
   },
   {
    "duration": 75,
    "start_time": "2021-10-06T17:23:52.827Z"
   },
   {
    "duration": 65,
    "start_time": "2021-10-06T17:23:52.904Z"
   },
   {
    "duration": 28,
    "start_time": "2021-10-06T17:23:52.971Z"
   },
   {
    "duration": 58,
    "start_time": "2021-10-06T17:23:53.023Z"
   },
   {
    "duration": 65,
    "start_time": "2021-10-06T17:23:53.083Z"
   },
   {
    "duration": 90,
    "start_time": "2021-10-06T17:23:53.150Z"
   },
   {
    "duration": 33,
    "start_time": "2021-10-06T17:23:53.243Z"
   },
   {
    "duration": 104,
    "start_time": "2021-10-06T17:23:53.279Z"
   },
   {
    "duration": 65,
    "start_time": "2021-10-06T17:23:53.386Z"
   },
   {
    "duration": 14,
    "start_time": "2021-10-06T17:23:53.453Z"
   },
   {
    "duration": 28,
    "start_time": "2021-10-06T17:23:53.470Z"
   },
   {
    "duration": 41,
    "start_time": "2021-10-06T17:23:53.501Z"
   },
   {
    "duration": 28,
    "start_time": "2021-10-06T17:23:53.545Z"
   },
   {
    "duration": 57,
    "start_time": "2021-10-06T17:23:53.575Z"
   },
   {
    "duration": 18,
    "start_time": "2021-10-06T17:23:53.634Z"
   },
   {
    "duration": 22,
    "start_time": "2021-10-06T17:23:53.655Z"
   },
   {
    "duration": 38,
    "start_time": "2021-10-06T17:23:53.679Z"
   },
   {
    "duration": 25,
    "start_time": "2021-10-06T17:23:53.719Z"
   },
   {
    "duration": 25,
    "start_time": "2021-10-06T17:23:53.746Z"
   },
   {
    "duration": 59,
    "start_time": "2021-10-06T17:23:53.773Z"
   },
   {
    "duration": 4,
    "start_time": "2021-10-06T17:23:53.835Z"
   },
   {
    "duration": 17,
    "start_time": "2021-10-06T17:23:53.843Z"
   },
   {
    "duration": 19,
    "start_time": "2021-10-06T17:48:59.348Z"
   },
   {
    "duration": 5212,
    "start_time": "2021-10-23T11:54:52.598Z"
   },
   {
    "duration": 1277,
    "start_time": "2021-10-23T11:54:57.812Z"
   },
   {
    "duration": 3460,
    "start_time": "2021-10-23T11:54:59.091Z"
   },
   {
    "duration": 4,
    "start_time": "2021-10-23T11:55:02.553Z"
   },
   {
    "duration": 394,
    "start_time": "2021-10-23T11:55:02.559Z"
   },
   {
    "duration": 11,
    "start_time": "2021-10-23T11:55:02.956Z"
   },
   {
    "duration": 11,
    "start_time": "2021-10-23T11:55:02.968Z"
   },
   {
    "duration": 10,
    "start_time": "2021-10-23T11:55:02.983Z"
   },
   {
    "duration": 10,
    "start_time": "2021-10-23T11:55:02.995Z"
   },
   {
    "duration": 60,
    "start_time": "2021-10-23T11:55:03.007Z"
   },
   {
    "duration": 10,
    "start_time": "2021-10-23T11:55:03.070Z"
   },
   {
    "duration": 20,
    "start_time": "2021-10-23T11:55:03.082Z"
   },
   {
    "duration": 19,
    "start_time": "2021-10-23T11:55:03.104Z"
   },
   {
    "duration": 535,
    "start_time": "2021-10-23T11:55:03.125Z"
   },
   {
    "duration": 8,
    "start_time": "2021-10-23T11:55:03.663Z"
   },
   {
    "duration": 11,
    "start_time": "2021-10-23T11:55:03.673Z"
   },
   {
    "duration": 13,
    "start_time": "2021-10-23T11:55:03.686Z"
   },
   {
    "duration": 472,
    "start_time": "2021-10-23T11:55:03.701Z"
   },
   {
    "duration": 8,
    "start_time": "2021-10-23T11:55:04.175Z"
   },
   {
    "duration": 9,
    "start_time": "2021-10-23T11:55:04.185Z"
   },
   {
    "duration": 619,
    "start_time": "2021-10-23T11:55:04.196Z"
   },
   {
    "duration": 467,
    "start_time": "2021-10-23T11:55:04.817Z"
   },
   {
    "duration": 53,
    "start_time": "2021-10-23T11:55:05.288Z"
   },
   {
    "duration": 4,
    "start_time": "2021-10-23T11:55:05.364Z"
   },
   {
    "duration": 104,
    "start_time": "2021-10-23T11:55:05.369Z"
   },
   {
    "duration": 33,
    "start_time": "2021-10-23T11:55:05.475Z"
   },
   {
    "duration": 16,
    "start_time": "2021-10-23T11:55:05.509Z"
   },
   {
    "duration": 12,
    "start_time": "2021-10-23T11:55:05.527Z"
   },
   {
    "duration": 24,
    "start_time": "2021-10-23T11:55:05.541Z"
   },
   {
    "duration": 10,
    "start_time": "2021-10-23T11:55:05.567Z"
   },
   {
    "duration": 17,
    "start_time": "2021-10-23T11:55:05.578Z"
   },
   {
    "duration": 28,
    "start_time": "2021-10-23T11:55:05.597Z"
   },
   {
    "duration": 19,
    "start_time": "2021-10-23T11:55:05.626Z"
   },
   {
    "duration": 19,
    "start_time": "2021-10-23T11:55:05.647Z"
   },
   {
    "duration": 21,
    "start_time": "2021-10-23T11:55:05.667Z"
   },
   {
    "duration": 10,
    "start_time": "2021-10-23T11:55:05.689Z"
   },
   {
    "duration": 18,
    "start_time": "2021-10-23T11:55:05.700Z"
   },
   {
    "duration": 22,
    "start_time": "2021-10-23T11:55:05.719Z"
   },
   {
    "duration": 11,
    "start_time": "2021-10-23T11:55:05.742Z"
   },
   {
    "duration": 11,
    "start_time": "2021-10-23T11:55:05.764Z"
   },
   {
    "duration": 471,
    "start_time": "2021-10-23T11:55:05.777Z"
   },
   {
    "duration": 4,
    "start_time": "2021-10-23T11:55:06.250Z"
   }
  ],
  "kernelspec": {
   "display_name": "Python 3",
   "language": "python",
   "name": "python3"
  },
  "language_info": {
   "codemirror_mode": {
    "name": "ipython",
    "version": 3
   },
   "file_extension": ".py",
   "mimetype": "text/x-python",
   "name": "python",
   "nbconvert_exporter": "python",
   "pygments_lexer": "ipython3",
   "version": "3.8.8"
  },
  "toc": {
   "base_numbering": 1,
   "nav_menu": {},
   "number_sections": true,
   "sideBar": true,
   "skip_h1_title": true,
   "title_cell": "Содержание",
   "title_sidebar": "Contents",
   "toc_cell": true,
   "toc_position": {},
   "toc_section_display": true,
   "toc_window_display": false
  }
 },
 "nbformat": 4,
 "nbformat_minor": 2
}
